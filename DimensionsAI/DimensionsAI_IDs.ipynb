{
 "cells": [
  {
   "cell_type": "code",
   "execution_count": 4,
   "id": "72ba35bf",
   "metadata": {},
   "outputs": [
    {
     "name": "stderr",
     "output_type": "stream",
     "text": [
      "/Users/FionaXu/Documents/Research/.venv/lib/python3.9/site-packages/urllib3/__init__.py:35: NotOpenSSLWarning:\n",
      "\n",
      "urllib3 v2 only supports OpenSSL 1.1.1+, currently the 'ssl' module is compiled with 'LibreSSL 2.8.3'. See: https://github.com/urllib3/urllib3/issues/3020\n",
      "\n"
     ]
    }
   ],
   "source": [
    "from tqdm.notebook import tqdm as progress\n",
    "import pandas as pd\n",
    "import plotly.express as px\n",
    "from plotly.offline import plot\n",
    "import dimcli\n",
    "from dimcli.utils import *\n",
    "import os, sys, time, json\n",
    "from IPython.display import Image\n",
    "from IPython.core.display import HTML \n",
    "import csv\n",
    "import ast\n"
   ]
  },
  {
   "cell_type": "code",
   "execution_count": 6,
   "id": "0e9dc751",
   "metadata": {},
   "outputs": [
    {
     "name": "stdout",
     "output_type": "stream",
     "text": [
      "==\n",
      "Logging in..\n",
      "\u001b[2mDimcli - Dimensions API Client (v1.4)\u001b[0m\n",
      "\u001b[2mConnected to: <https://app.dimensions.ai/api/dsl> - DSL v2.10\u001b[0m\n",
      "\u001b[2mMethod: manual login\u001b[0m\n"
     ]
    }
   ],
   "source": [
    "#Log into Dimensions\n",
    "#API key is: 9F8D648F0D7E437CB1736BEBDF007F02\n",
    "#!pip install dimcli -U --quiet \n",
    "\n",
    "print(\"==\\nLogging in..\")\n",
    "# https://digital-science.github.io/dimcli/getting-started.html#authentication\n",
    "ENDPOINT = \"https://app.dimensions.ai\"\n",
    "if 'google.colab' in sys.modules:\n",
    "    import getpass\n",
    "    dimcli.login(key=KEY, endpoint=ENDPOINT)\n",
    "else:\n",
    "    KEY = \"9F8D648F0D7E437CB1736BEBDF007F02\"\n",
    "    dimcli.login(key=KEY, endpoint=ENDPOINT)\n",
    "dsl = dimcli.Dsl()"
   ]
  },
  {
   "cell_type": "code",
   "execution_count": 8,
   "id": "4da5138f",
   "metadata": {},
   "outputs": [
    {
     "name": "stdout",
     "output_type": "stream",
     "text": [
      "ALL NAMES(150) :\n",
      "======================================================\n",
      "['Sarki Abdulkadir', 'Ash Alizadeh', 'Vineet Arora', 'Andrew Auerbach', 'Adam Bass', 'Edward Behrens', 'Rameen Beroukhim', 'Karl Bilimoria', 'Ron Bose', 'Russell Bowler', 'Nicole Calakos', 'Sarat Chandarlapaty', 'Ping Chi', 'Ryan Corcoran', 'Peter Crompton', 'Aaron Cypess', 'Maximilian Diehn', 'Justin Dimick', 'Mark Dransfield', 'Brian Feldman', 'Ariel Feldstein', 'Martin Fernandez-Zapico', 'Alessia Fornoni', 'Terry Fry', 'Rene Galindo', 'Anupam Agarwal', 'Jayakrishna Ambati', 'Suneel Apte', 'Kyong-Mi Chang', 'Herbert Cohen', 'Laurence Cooper', 'George Cotsarelis', 'Kenneth Covinsky', 'Maurizio Del Poeta', 'Phillip Dennis', 'Michael Diamond', 'Jay Edelberg', 'David Engman', 'Daniel Fowler', 'Vance Fowler', 'John Frangioni', 'Bin Gao', 'Michael Glickman', 'Stephen Hammes', 'Hal Hoffman', 'Sam Hwang', 'S. Karumanchi', 'Douglas Kerr', 'Tejvir Khurana', 'Fadlo Khuri', 'Maria Abreu', 'Michael Ackerman', 'David Andes', 'Scott Armstrong', 'R. Barr', 'Marcel Behr', 'Daniel Benjamin', 'Ernesto Bernal-Mizrachi', 'Kirsten Bibbins-Domingo', 'Catherine Bollard', 'Marcus Bosenberg', 'Russ Carstens', 'Juan CeledÃ³n', 'Benjamin Chen', 'Emily Cheng', 'Charleen Chu', 'John Chute', 'E. Connolly', 'Jonathan Dranoff', 'R. Dudley', 'Charles Eberhart', 'Charles Esmon', 'Francisco Esteva', 'Nikolaos Frangogiannis', 'Ali Gharavi', 'Larry Allen', 'Rishi Arora', 'Themistocles Assimes', 'Jared Baeten', 'Christopher Barbieri', 'Julie Bastarache', 'Justin Bekelman', 'Tammie Benzinger', 'Gregory Bisson', 'David Boulware', 'Scott Boyd', 'Katrin Chua', 'Sara Cosgrove', 'Deidra Crews', 'Saumya Das', 'Tushar Desai', 'Joseph Duncan', 'Stephanie Eisenbarth', 'Jordan Feld', 'Maria Figueroa', 'Alexander Fiks', 'Amit Gaggar', 'Katherine Gallagher', 'Santhi Ganesh', 'Wendy Garrett', 'Seema Ahuja', 'Maria-Luisa Alegre', 'David Altshuler', 'Andrew Arai', 'Katrina Armstrong', 'Andrew Badley', 'Ravi Bhatia', 'Smita Bhatia', 'Arul Chinnaiyan', 'Philip Cole', 'Suzanne Conzen', 'David Corry', 'David Cummings', 'Michael Debaun', 'Madhav Dhodapkar', 'E. Ely', 'Robert Friedlander', 'Thomas Gajewski', 'Robert Gerszten', 'George Gittes', 'Mark Gladwin', 'Roy Gulick', 'Volker Haase', 'William Haynes', 'Joel Hirschhorn', 'Edward Abraham', 'Kenneth Anderson', 'Steven Balk', 'Jeffrey Bender', 'Bruce Blazar', 'Linda Boxer', 'Troyen Brennan', 'Richard Bucala', 'Phillip Chance', 'Michael Clarke', 'Thomas Coffman', 'David Curiel', 'Patrice Delafontaine', 'Stephen Desiderio', 'John DiPersio', 'Vishva Dixit', 'Andrea Dunaif', 'James Feramisco', 'Elizabeth Field', 'Gary Firestein', 'Naomi Fukagawa', 'Joe Garcia', 'Julie Gerberding', 'Francis Gigliotti', 'David Golan']\n"
     ]
    }
   ],
   "source": [
    "#RUN ONLY IF YOUR NAMES ARE IN A CSV, IF NOT MOVE TO NEXT CELL\n",
    "def read_names_from_csv(file_path, encoding='utf-8'):\n",
    "    all_names = []\n",
    "\n",
    "    with open(file_path, 'r', encoding=encoding, errors='ignore') as csv_file:\n",
    "        csv_reader = csv.reader(csv_file)\n",
    "        \n",
    "        # Assuming the first column contains first names and the second column contains last names\n",
    "        for row in csv_reader:\n",
    "            try:\n",
    "                if len(row) >= 2:  # Ensure the row has at least two columns\n",
    "                    first_names = row[1]\n",
    "                    last_names = row[3]\n",
    "                    full_name = first_names + \" \" + last_names\n",
    "                    all_names.append(full_name)\n",
    "            except  UnicodeDecodeError as e:\n",
    "                print(f\"Error decoding line {csv_reader.line_num}: {e}\")\n",
    "\n",
    "    return all_names\n",
    "\n",
    "# Example usage\n",
    "file_path = r'150physicianscientists.csv'\n",
    "all_names = read_names_from_csv(file_path)\n",
    "all_names = all_names[1:]\n",
    "\n",
    "# Now you can use the lists first_names and last_names as needed\n",
    "print(f'ALL NAMES({len(all_names)}) :')\n",
    "print(\"======================================================\")\n",
    "print(all_names)\n"
   ]
  },
  {
   "cell_type": "code",
   "execution_count": null,
   "id": "e4973cea",
   "metadata": {},
   "outputs": [],
   "source": [
    "#RUN CELL IF YOUR NAMES ARE IN A LIST\n",
    "#put your list of names here\n",
    "all_names = []"
   ]
  },
  {
   "cell_type": "code",
   "execution_count": 9,
   "id": "07bbdbe5",
   "metadata": {},
   "outputs": [
    {
     "name": "stderr",
     "output_type": "stream",
     "text": [
      "Starting iteration with limit=1000 skip=0 ...\u001b[0m\n",
      "0-2 / 2 (0.33s)\u001b[0m\n",
      "===\n",
      "Records extracted: 2\u001b[0m\n",
      "Starting iteration with limit=1000 skip=0 ...\u001b[0m\n"
     ]
    },
    {
     "name": "stdout",
     "output_type": "stream",
     "text": [
      "Total of 2 unique ids for Leslie Schoenfield \n"
     ]
    },
    {
     "name": "stderr",
     "output_type": "stream",
     "text": [
      "0-2 / 2 (4.50s)\u001b[0m\n",
      "===\n",
      "Records extracted: 2\u001b[0m\n"
     ]
    },
    {
     "name": "stdout",
     "output_type": "stream",
     "text": [
      "++++++++ FINAL 2 Working ID(s) +++++++++++\n",
      "{'ur.014424615212.32', 'ur.0102031123.62'}\n"
     ]
    }
   ],
   "source": [
    "#gets research id for a name\n",
    "def researcherIds(name):\n",
    "    res = dsl.query_iterative(f\"\"\"search researchers for \"{name}\" return researchers\"\"\")\n",
    "    listDict = res.json['researchers']\n",
    "    allIds = set()\n",
    "    for idv in listDict:\n",
    "        allIds.add(idv['id'])\n",
    "\n",
    "    allIds = list(allIds)  # Convert set back to a list if needed\n",
    "    \n",
    "    if len(allIds) > 512:    \n",
    "        allIds = allIds[0:512]\n",
    "    print(f'Total of {len(allIds)} unique ids for {name} ')\n",
    "\n",
    "    # Constructing the DSL query with the list of IDs\n",
    "    query_ids = ', '.join([f'\"{id_val}\"' for id_val in allIds])\n",
    "    query = f'search researchers where id in [{query_ids}] return researchers[id+obsolete+redirect]'\n",
    "\n",
    "    # Execute the DSL query\n",
    "    res2 = dsl.query_iterative(query)\n",
    "    listDict2 = res2.json['researchers']\n",
    "    allWorkingIDs = set()\n",
    "    for person in listDict2:\n",
    "        if person['obsolete'] == 0:  # Current Working Id(s)\n",
    "            allWorkingIDs.add(person[\"id\"])\n",
    "        else:\n",
    "            for ids in person['redirect']:\n",
    "                allWorkingIDs.add(ids)\n",
    "    \n",
    "    print(f'++++++++ FINAL {len(allWorkingIDs)} Working ID(s) +++++++++++')  \n",
    "    print(allWorkingIDs)\n",
    "    \n",
    "    return allWorkingIDs\n",
    "testIDs = researcherIds(\"Leslie Schoenfield\")"
   ]
  },
  {
   "cell_type": "code",
   "execution_count": 10,
   "id": "dc317488",
   "metadata": {},
   "outputs": [
    {
     "name": "stderr",
     "output_type": "stream",
     "text": [
      "Starting iteration with limit=1000 skip=0 ...\u001b[0m\n",
      "0-1 / 1 (0.24s)\u001b[0m\n",
      "===\n",
      "Records extracted: 1\u001b[0m\n",
      "Starting iteration with limit=1000 skip=0 ...\u001b[0m\n"
     ]
    },
    {
     "name": "stdout",
     "output_type": "stream",
     "text": [
      "Total of 1 unique ids for Sarki Abdulkadir \n"
     ]
    },
    {
     "name": "stderr",
     "output_type": "stream",
     "text": [
      "0-1 / 1 (0.25s)\u001b[0m\n",
      "===\n",
      "Records extracted: 1\u001b[0m\n",
      "Starting iteration with limit=1000 skip=0 ...\u001b[0m\n"
     ]
    },
    {
     "name": "stdout",
     "output_type": "stream",
     "text": [
      "++++++++ FINAL 1 Working ID(s) +++++++++++\n",
      "{'ur.01151331063.92'}\n",
      "Sarki Abdulkadir 1\n"
     ]
    },
    {
     "name": "stderr",
     "output_type": "stream",
     "text": [
      "0-2 / 2 (2.84s)\u001b[0m\n",
      "===\n",
      "Records extracted: 2\u001b[0m\n",
      "Starting iteration with limit=1000 skip=0 ...\u001b[0m\n"
     ]
    },
    {
     "name": "stdout",
     "output_type": "stream",
     "text": [
      "Total of 2 unique ids for Ash Alizadeh \n"
     ]
    },
    {
     "name": "stderr",
     "output_type": "stream",
     "text": [
      "0-2 / 2 (1.67s)\u001b[0m\n",
      "===\n",
      "Records extracted: 2\u001b[0m\n",
      "Starting iteration with limit=1000 skip=0 ...\u001b[0m\n"
     ]
    },
    {
     "name": "stdout",
     "output_type": "stream",
     "text": [
      "++++++++ FINAL 2 Working ID(s) +++++++++++\n",
      "{'ur.01350734042.58', 'ur.015743252105.61'}\n"
     ]
    },
    {
     "name": "stderr",
     "output_type": "stream",
     "text": [
      "0-8 / 8 (0.28s)\u001b[0m\n",
      "===\n",
      "Records extracted: 8\u001b[0m\n",
      "Starting iteration with limit=1000 skip=0 ...\u001b[0m\n"
     ]
    },
    {
     "name": "stdout",
     "output_type": "stream",
     "text": [
      "Total of 8 unique ids for Vineet Arora \n"
     ]
    },
    {
     "name": "stderr",
     "output_type": "stream",
     "text": [
      "0-8 / 8 (2.85s)\u001b[0m\n",
      "===\n",
      "Records extracted: 8\u001b[0m\n",
      "Starting iteration with limit=1000 skip=0 ...\u001b[0m\n"
     ]
    },
    {
     "name": "stdout",
     "output_type": "stream",
     "text": [
      "++++++++ FINAL 8 Working ID(s) +++++++++++\n",
      "{'ur.0715157556.43', 'ur.013113430640.74', 'ur.011030560726.50', 'ur.014736613175.67', 'ur.014621242702.28', 'ur.07366375701.95', 'ur.014365324233.20', 'ur.014067114314.28'}\n"
     ]
    },
    {
     "name": "stderr",
     "output_type": "stream",
     "text": [
      "0-11 / 11 (0.33s)\u001b[0m\n",
      "===\n",
      "Records extracted: 11\u001b[0m\n",
      "Starting iteration with limit=1000 skip=0 ...\u001b[0m\n"
     ]
    },
    {
     "name": "stdout",
     "output_type": "stream",
     "text": [
      "Total of 11 unique ids for Andrew Auerbach \n"
     ]
    },
    {
     "name": "stderr",
     "output_type": "stream",
     "text": [
      "0-11 / 11 (4.12s)\u001b[0m\n",
      "===\n",
      "Records extracted: 11\u001b[0m\n",
      "Starting iteration with limit=1000 skip=0 ...\u001b[0m\n"
     ]
    },
    {
     "name": "stdout",
     "output_type": "stream",
     "text": [
      "++++++++ FINAL 11 Working ID(s) +++++++++++\n",
      "{'ur.012611444224.52', 'ur.01071266221.30', 'ur.015005166353.24', 'ur.013532372135.43', 'ur.016370705613.19', 'ur.015401373657.32', 'ur.014116621270.69', 'ur.012057467657.83', 'ur.01316550603.31', 'ur.014005474317.25', 'ur.010354504201.10'}\n"
     ]
    },
    {
     "name": "stderr",
     "output_type": "stream",
     "text": [
      "0-12 / 12 (6.01s)\u001b[0m\n",
      "===\n",
      "Records extracted: 12\u001b[0m\n",
      "Starting iteration with limit=1000 skip=0 ...\u001b[0m\n"
     ]
    },
    {
     "name": "stdout",
     "output_type": "stream",
     "text": [
      "Total of 12 unique ids for Adam Bass \n"
     ]
    },
    {
     "name": "stderr",
     "output_type": "stream",
     "text": [
      "0-12 / 12 (0.28s)\u001b[0m\n",
      "===\n",
      "Records extracted: 12\u001b[0m\n",
      "Starting iteration with limit=1000 skip=0 ...\u001b[0m\n"
     ]
    },
    {
     "name": "stdout",
     "output_type": "stream",
     "text": [
      "++++++++ FINAL 12 Working ID(s) +++++++++++\n",
      "{'ur.010517020604.25', 'ur.01012315545.30', 'ur.0776611211.51', 'ur.01000517455.50', 'ur.014426110660.10', 'ur.013227242701.97', 'ur.014713043230.45', 'ur.01111016005.45', 'ur.010534015564.00', 'ur.015401503732.91', 'ur.014662725755.25', 'ur.01351310303.21'}\n"
     ]
    },
    {
     "name": "stderr",
     "output_type": "stream",
     "text": [
      "0-11 / 11 (4.26s)\u001b[0m\n",
      "===\n",
      "Records extracted: 11\u001b[0m\n",
      "Starting iteration with limit=1000 skip=0 ...\u001b[0m\n"
     ]
    },
    {
     "name": "stdout",
     "output_type": "stream",
     "text": [
      "Total of 11 unique ids for Edward Behrens \n"
     ]
    },
    {
     "name": "stderr",
     "output_type": "stream",
     "text": [
      "0-11 / 11 (0.50s)\u001b[0m\n",
      "===\n",
      "Records extracted: 11\u001b[0m\n",
      "Starting iteration with limit=1000 skip=0 ...\u001b[0m\n"
     ]
    },
    {
     "name": "stdout",
     "output_type": "stream",
     "text": [
      "++++++++ FINAL 11 Working ID(s) +++++++++++\n",
      "{'ur.016043042647.75', 'ur.014217023641.56', 'ur.014742005621.45', 'ur.011112113147.76', 'ur.016455011753.14', 'ur.010446365434.45', 'ur.011574150043.14', 'ur.01034215040.92', 'ur.012661132333.04', 'ur.013655342201.40', 'ur.010577762611.20'}\n"
     ]
    },
    {
     "name": "stderr",
     "output_type": "stream",
     "text": [
      "0-9 / 9 (7.28s)\u001b[0m\n",
      "===\n",
      "Records extracted: 9\u001b[0m\n",
      "Starting iteration with limit=1000 skip=0 ...\u001b[0m\n"
     ]
    },
    {
     "name": "stdout",
     "output_type": "stream",
     "text": [
      "Total of 9 unique ids for Rameen Beroukhim \n"
     ]
    },
    {
     "name": "stderr",
     "output_type": "stream",
     "text": [
      "0-9 / 9 (0.26s)\u001b[0m\n",
      "===\n",
      "Records extracted: 9\u001b[0m\n",
      "Starting iteration with limit=1000 skip=0 ...\u001b[0m\n"
     ]
    },
    {
     "name": "stdout",
     "output_type": "stream",
     "text": [
      "++++++++ FINAL 9 Working ID(s) +++++++++++\n",
      "{'ur.015072267076.61', 'ur.014622157522.19', 'ur.01310170137.53', 'ur.07663027204.88', 'ur.01150153600.23', 'ur.016254064321.17', 'ur.014271160335.81', 'ur.012315664026.73', 'ur.014022471202.12'}\n"
     ]
    },
    {
     "name": "stderr",
     "output_type": "stream",
     "text": [
      "0-3 / 3 (0.24s)\u001b[0m\n",
      "===\n",
      "Records extracted: 3\u001b[0m\n",
      "Starting iteration with limit=1000 skip=0 ...\u001b[0m\n"
     ]
    },
    {
     "name": "stdout",
     "output_type": "stream",
     "text": [
      "Total of 3 unique ids for Karl Bilimoria \n"
     ]
    },
    {
     "name": "stderr",
     "output_type": "stream",
     "text": [
      "0-3 / 3 (4.53s)\u001b[0m\n",
      "===\n",
      "Records extracted: 3\u001b[0m\n",
      "Starting iteration with limit=1000 skip=0 ...\u001b[0m\n"
     ]
    },
    {
     "name": "stdout",
     "output_type": "stream",
     "text": [
      "++++++++ FINAL 3 Working ID(s) +++++++++++\n",
      "{'ur.0667114343.30', 'ur.011214071523.16', 'ur.012322127402.10'}\n"
     ]
    },
    {
     "name": "stderr",
     "output_type": "stream",
     "text": [
      "0-5 / 5 (0.32s)\u001b[0m\n",
      "===\n",
      "Records extracted: 5\u001b[0m\n",
      "Starting iteration with limit=1000 skip=0 ...\u001b[0m\n"
     ]
    },
    {
     "name": "stdout",
     "output_type": "stream",
     "text": [
      "Total of 5 unique ids for Ron Bose \n"
     ]
    },
    {
     "name": "stderr",
     "output_type": "stream",
     "text": [
      "0-5 / 5 (0.27s)\u001b[0m\n",
      "===\n",
      "Records extracted: 5\u001b[0m\n",
      "Starting iteration with limit=1000 skip=0 ...\u001b[0m\n"
     ]
    },
    {
     "name": "stdout",
     "output_type": "stream",
     "text": [
      "++++++++ FINAL 5 Working ID(s) +++++++++++\n",
      "{'ur.015330310747.75', 'ur.013456547415.34', 'ur.01353746730.51', 'ur.01305277070.64', 'ur.011200730734.17'}\n"
     ]
    },
    {
     "name": "stderr",
     "output_type": "stream",
     "text": [
      "0-4 / 4 (2.71s)\u001b[0m\n",
      "===\n",
      "Records extracted: 4\u001b[0m\n",
      "Starting iteration with limit=1000 skip=0 ...\u001b[0m\n"
     ]
    },
    {
     "name": "stdout",
     "output_type": "stream",
     "text": [
      "Total of 4 unique ids for Russell Bowler \n"
     ]
    },
    {
     "name": "stderr",
     "output_type": "stream",
     "text": [
      "0-4 / 4 (1.86s)\u001b[0m\n",
      "===\n",
      "Records extracted: 4\u001b[0m\n",
      "Starting iteration with limit=1000 skip=0 ...\u001b[0m\n"
     ]
    },
    {
     "name": "stdout",
     "output_type": "stream",
     "text": [
      "++++++++ FINAL 4 Working ID(s) +++++++++++\n",
      "{'ur.015726605617.16', 'ur.015544262334.60', 'ur.016221665414.91', 'ur.014525337625.29'}\n"
     ]
    },
    {
     "name": "stderr",
     "output_type": "stream",
     "text": [
      "0-1 / 1 (0.27s)\u001b[0m\n",
      "===\n",
      "Records extracted: 1\u001b[0m\n",
      "Starting iteration with limit=1000 skip=0 ...\u001b[0m\n"
     ]
    },
    {
     "name": "stdout",
     "output_type": "stream",
     "text": [
      "Total of 1 unique ids for Nicole Calakos \n"
     ]
    },
    {
     "name": "stderr",
     "output_type": "stream",
     "text": [
      "0-1 / 1 (0.85s)\u001b[0m\n",
      "===\n",
      "Records extracted: 1\u001b[0m\n",
      "Starting iteration with limit=1000 skip=0 ...\u001b[0m\n"
     ]
    },
    {
     "name": "stdout",
     "output_type": "stream",
     "text": [
      "++++++++ FINAL 1 Working ID(s) +++++++++++\n",
      "{'ur.0760705217.24'}\n",
      "Nicole Calakos 2\n"
     ]
    },
    {
     "name": "stderr",
     "output_type": "stream",
     "text": [
      "0-1 / 1 (2.15s)\u001b[0m\n",
      "===\n",
      "Records extracted: 1\u001b[0m\n",
      "Starting iteration with limit=1000 skip=0 ...\u001b[0m\n"
     ]
    },
    {
     "name": "stdout",
     "output_type": "stream",
     "text": [
      "Total of 1 unique ids for Sarat Chandarlapaty \n"
     ]
    },
    {
     "name": "stderr",
     "output_type": "stream",
     "text": [
      "0-1 / 1 (2.37s)\u001b[0m\n",
      "===\n",
      "Records extracted: 1\u001b[0m\n",
      "Starting iteration with limit=1000 skip=0 ...\u001b[0m\n"
     ]
    },
    {
     "name": "stdout",
     "output_type": "stream",
     "text": [
      "++++++++ FINAL 1 Working ID(s) +++++++++++\n",
      "{'ur.0717331640.11'}\n",
      "Sarat Chandarlapaty 3\n"
     ]
    },
    {
     "name": "stderr",
     "output_type": "stream",
     "text": [
      "0-14 / 14 (3.69s)\u001b[0m\n",
      "===\n",
      "Records extracted: 14\u001b[0m\n",
      "Starting iteration with limit=1000 skip=0 ...\u001b[0m\n"
     ]
    },
    {
     "name": "stdout",
     "output_type": "stream",
     "text": [
      "Total of 14 unique ids for Ping Chi \n"
     ]
    },
    {
     "name": "stderr",
     "output_type": "stream",
     "text": [
      "0-14 / 14 (2.36s)\u001b[0m\n",
      "===\n",
      "Records extracted: 14\u001b[0m\n",
      "Starting iteration with limit=1000 skip=0 ...\u001b[0m\n"
     ]
    },
    {
     "name": "stdout",
     "output_type": "stream",
     "text": [
      "++++++++ FINAL 14 Working ID(s) +++++++++++\n",
      "{'ur.014112355626.38', 'ur.0765024434.38', 'ur.010764670213.97', 'ur.01265774411.23', 'ur.011627737271.80', 'ur.012464054472.24', 'ur.011415365305.39', 'ur.011224067451.98', 'ur.0750107347.18', 'ur.01177617335.05', 'ur.010065740707.75', 'ur.01166625673.53', 'ur.07450452213.13', 'ur.012730016141.30'}\n"
     ]
    },
    {
     "name": "stderr",
     "output_type": "stream",
     "text": [
      "0-3 / 3 (6.03s)\u001b[0m\n",
      "===\n",
      "Records extracted: 3\u001b[0m\n",
      "Starting iteration with limit=1000 skip=0 ...\u001b[0m\n"
     ]
    },
    {
     "name": "stdout",
     "output_type": "stream",
     "text": [
      "Total of 3 unique ids for Ryan Corcoran \n"
     ]
    },
    {
     "name": "stderr",
     "output_type": "stream",
     "text": [
      "0-3 / 3 (0.30s)\u001b[0m\n",
      "===\n",
      "Records extracted: 3\u001b[0m\n",
      "Starting iteration with limit=1000 skip=0 ...\u001b[0m\n"
     ]
    },
    {
     "name": "stdout",
     "output_type": "stream",
     "text": [
      "++++++++ FINAL 3 Working ID(s) +++++++++++\n",
      "{'ur.0671420757.16', 'ur.015415535260.17', 'ur.0661503353.42'}\n"
     ]
    },
    {
     "name": "stderr",
     "output_type": "stream",
     "text": [
      "0-7 / 7 (0.28s)\u001b[0m\n",
      "===\n",
      "Records extracted: 7\u001b[0m\n",
      "Starting iteration with limit=1000 skip=0 ...\u001b[0m\n"
     ]
    },
    {
     "name": "stdout",
     "output_type": "stream",
     "text": [
      "Total of 7 unique ids for Peter Crompton \n"
     ]
    },
    {
     "name": "stderr",
     "output_type": "stream",
     "text": [
      "0-7 / 7 (2.39s)\u001b[0m\n",
      "===\n",
      "Records extracted: 7\u001b[0m\n",
      "Starting iteration with limit=1000 skip=0 ...\u001b[0m\n"
     ]
    },
    {
     "name": "stdout",
     "output_type": "stream",
     "text": [
      "++++++++ FINAL 7 Working ID(s) +++++++++++\n",
      "{'ur.07541625457.11', 'ur.015317534006.18', 'ur.014161050565.23', 'ur.014621500621.64', 'ur.015542277275.27', 'ur.0767571370.31', 'ur.07760001026.94'}\n"
     ]
    },
    {
     "name": "stderr",
     "output_type": "stream",
     "text": [
      "0-2 / 2 (6.04s)\u001b[0m\n",
      "===\n",
      "Records extracted: 2\u001b[0m\n",
      "Starting iteration with limit=1000 skip=0 ...\u001b[0m\n"
     ]
    },
    {
     "name": "stdout",
     "output_type": "stream",
     "text": [
      "Total of 2 unique ids for Aaron Cypess \n"
     ]
    },
    {
     "name": "stderr",
     "output_type": "stream",
     "text": [
      "0-2 / 2 (0.22s)\u001b[0m\n",
      "===\n",
      "Records extracted: 2\u001b[0m\n",
      "Starting iteration with limit=1000 skip=0 ...\u001b[0m\n"
     ]
    },
    {
     "name": "stdout",
     "output_type": "stream",
     "text": [
      "++++++++ FINAL 2 Working ID(s) +++++++++++\n",
      "{'ur.014105164740.02', 'ur.01142301773.01'}\n"
     ]
    },
    {
     "name": "stderr",
     "output_type": "stream",
     "text": [
      "0-4 / 4 (0.38s)\u001b[0m\n",
      "===\n",
      "Records extracted: 4\u001b[0m\n",
      "Starting iteration with limit=1000 skip=0 ...\u001b[0m\n"
     ]
    },
    {
     "name": "stdout",
     "output_type": "stream",
     "text": [
      "Total of 4 unique ids for Maximilian Diehn \n"
     ]
    },
    {
     "name": "stderr",
     "output_type": "stream",
     "text": [
      "0-4 / 4 (2.38s)\u001b[0m\n",
      "===\n",
      "Records extracted: 4\u001b[0m\n",
      "Starting iteration with limit=1000 skip=0 ...\u001b[0m\n"
     ]
    },
    {
     "name": "stdout",
     "output_type": "stream",
     "text": [
      "++++++++ FINAL 4 Working ID(s) +++++++++++\n",
      "{'ur.013240741207.86', 'ur.016540632505.31', 'ur.07434351027.73', 'ur.0601674532.75'}\n"
     ]
    },
    {
     "name": "stderr",
     "output_type": "stream",
     "text": [
      "0-3 / 3 (0.34s)\u001b[0m\n",
      "===\n",
      "Records extracted: 3\u001b[0m\n",
      "Starting iteration with limit=1000 skip=0 ...\u001b[0m\n"
     ]
    },
    {
     "name": "stdout",
     "output_type": "stream",
     "text": [
      "Total of 3 unique ids for Justin Dimick \n"
     ]
    },
    {
     "name": "stderr",
     "output_type": "stream",
     "text": [
      "0-3 / 3 (4.26s)\u001b[0m\n",
      "===\n",
      "Records extracted: 3\u001b[0m\n",
      "Starting iteration with limit=1000 skip=0 ...\u001b[0m\n"
     ]
    },
    {
     "name": "stdout",
     "output_type": "stream",
     "text": [
      "++++++++ FINAL 3 Working ID(s) +++++++++++\n",
      "{'ur.01275742424.25', 'ur.011712205341.98', 'ur.013610132763.19'}\n"
     ]
    },
    {
     "name": "stderr",
     "output_type": "stream",
     "text": [
      "0-12 / 12 (0.30s)\u001b[0m\n",
      "===\n",
      "Records extracted: 12\u001b[0m\n",
      "Starting iteration with limit=1000 skip=0 ...\u001b[0m\n"
     ]
    },
    {
     "name": "stdout",
     "output_type": "stream",
     "text": [
      "Total of 12 unique ids for Mark Dransfield \n"
     ]
    },
    {
     "name": "stderr",
     "output_type": "stream",
     "text": [
      "0-12 / 12 (4.52s)\u001b[0m\n",
      "===\n",
      "Records extracted: 12\u001b[0m\n",
      "Starting iteration with limit=1000 skip=0 ...\u001b[0m\n"
     ]
    },
    {
     "name": "stdout",
     "output_type": "stream",
     "text": [
      "++++++++ FINAL 12 Working ID(s) +++++++++++\n",
      "{'ur.014326573741.01', 'ur.015165606351.30', 'ur.01277335455.33', 'ur.011547316505.72', 'ur.016461213531.78', 'ur.011432146671.27', 'ur.016135163345.46', 'ur.07573403055.05', 'ur.012133634761.79', 'ur.014047474265.38', 'ur.01033053757.54', 'ur.016453322071.68'}\n"
     ]
    },
    {
     "name": "stderr",
     "output_type": "stream",
     "text": [
      "0-22 / 22 (0.33s)\u001b[0m\n",
      "===\n",
      "Records extracted: 22\u001b[0m\n",
      "Starting iteration with limit=1000 skip=0 ...\u001b[0m\n"
     ]
    },
    {
     "name": "stdout",
     "output_type": "stream",
     "text": [
      "Total of 22 unique ids for Brian Feldman \n"
     ]
    },
    {
     "name": "stderr",
     "output_type": "stream",
     "text": [
      "0-22 / 22 (0.29s)\u001b[0m\n",
      "===\n",
      "Records extracted: 22\u001b[0m\n",
      "Starting iteration with limit=1000 skip=0 ...\u001b[0m\n"
     ]
    },
    {
     "name": "stdout",
     "output_type": "stream",
     "text": [
      "++++++++ FINAL 22 Working ID(s) +++++++++++\n",
      "{'ur.014046706573.20', 'ur.010060377535.92', 'ur.01342441516.37', 'ur.015301325051.33', 'ur.014156305053.47', 'ur.011163607051.52', 'ur.016037313205.15', 'ur.012763016051.47', 'ur.016537055436.94', 'ur.07512772027.38', 'ur.010310271133.03', 'ur.012441671217.86', 'ur.010604304101.62', 'ur.01140427304.49', 'ur.011661641165.35', 'ur.010763225770.54', 'ur.011756042477.10', 'ur.012511420566.25', 'ur.0770235162.82', 'ur.016426146246.23', 'ur.01135744551.70', 'ur.014110327212.12'}\n"
     ]
    },
    {
     "name": "stderr",
     "output_type": "stream",
     "text": [
      "0-4 / 4 (2.72s)\u001b[0m\n",
      "===\n",
      "Records extracted: 4\u001b[0m\n",
      "Starting iteration with limit=1000 skip=0 ...\u001b[0m\n"
     ]
    },
    {
     "name": "stdout",
     "output_type": "stream",
     "text": [
      "Total of 4 unique ids for Ariel Feldstein \n"
     ]
    },
    {
     "name": "stderr",
     "output_type": "stream",
     "text": [
      "0-4 / 4 (1.84s)\u001b[0m\n",
      "===\n",
      "Records extracted: 4\u001b[0m\n",
      "Starting iteration with limit=1000 skip=0 ...\u001b[0m\n"
     ]
    },
    {
     "name": "stdout",
     "output_type": "stream",
     "text": [
      "++++++++ FINAL 4 Working ID(s) +++++++++++\n",
      "{'ur.01256667743.26', 'ur.010122731367.00', 'ur.01007031103.93', 'ur.016700515365.93'}\n"
     ]
    },
    {
     "name": "stderr",
     "output_type": "stream",
     "text": [
      "0-2 / 2 (4.51s)\u001b[0m\n",
      "===\n",
      "Records extracted: 2\u001b[0m\n",
      "Starting iteration with limit=1000 skip=0 ...\u001b[0m\n"
     ]
    },
    {
     "name": "stdout",
     "output_type": "stream",
     "text": [
      "Total of 2 unique ids for Martin Fernandez-Zapico \n"
     ]
    },
    {
     "name": "stderr",
     "output_type": "stream",
     "text": [
      "0-2 / 2 (0.26s)\u001b[0m\n",
      "===\n",
      "Records extracted: 2\u001b[0m\n",
      "Starting iteration with limit=1000 skip=0 ...\u001b[0m\n"
     ]
    },
    {
     "name": "stdout",
     "output_type": "stream",
     "text": [
      "++++++++ FINAL 2 Working ID(s) +++++++++++\n",
      "{'ur.012356677447.93', 'ur.07716766115.43'}\n"
     ]
    },
    {
     "name": "stderr",
     "output_type": "stream",
     "text": [
      "0-7 / 7 (4.23s)\u001b[0m\n",
      "===\n",
      "Records extracted: 7\u001b[0m\n",
      "Starting iteration with limit=1000 skip=0 ...\u001b[0m\n"
     ]
    },
    {
     "name": "stdout",
     "output_type": "stream",
     "text": [
      "Total of 7 unique ids for Alessia Fornoni \n"
     ]
    },
    {
     "name": "stderr",
     "output_type": "stream",
     "text": [
      "0-7 / 7 (0.32s)\u001b[0m\n",
      "===\n",
      "Records extracted: 7\u001b[0m\n",
      "Starting iteration with limit=1000 skip=0 ...\u001b[0m\n"
     ]
    },
    {
     "name": "stdout",
     "output_type": "stream",
     "text": [
      "++++++++ FINAL 7 Working ID(s) +++++++++++\n",
      "{'ur.012110246461.50', 'ur.015774224363.83', 'ur.014252112657.41', 'ur.015331407571.11', 'ur.012650326501.58', 'ur.07352451427.90', 'ur.01201546624.28'}\n"
     ]
    },
    {
     "name": "stderr",
     "output_type": "stream",
     "text": [
      "0-8 / 8 (0.28s)\u001b[0m\n",
      "===\n",
      "Records extracted: 8\u001b[0m\n",
      "Starting iteration with limit=1000 skip=0 ...\u001b[0m\n"
     ]
    },
    {
     "name": "stdout",
     "output_type": "stream",
     "text": [
      "Total of 8 unique ids for Terry Fry \n"
     ]
    },
    {
     "name": "stderr",
     "output_type": "stream",
     "text": [
      "0-8 / 8 (2.39s)\u001b[0m\n",
      "===\n",
      "Records extracted: 8\u001b[0m\n",
      "Starting iteration with limit=1000 skip=0 ...\u001b[0m\n"
     ]
    },
    {
     "name": "stdout",
     "output_type": "stream",
     "text": [
      "++++++++ FINAL 8 Working ID(s) +++++++++++\n",
      "{'ur.0766772171.26', 'ur.01370341727.58', 'ur.0740602465.03', 'ur.066125455.51', 'ur.01107352265.01', 'ur.012242162073.85', 'ur.0731444132.95', 'ur.01057567104.78'}\n"
     ]
    },
    {
     "name": "stderr",
     "output_type": "stream",
     "text": [
      "0-4 / 4 (6.02s)\u001b[0m\n",
      "===\n",
      "Records extracted: 4\u001b[0m\n",
      "Starting iteration with limit=1000 skip=0 ...\u001b[0m\n"
     ]
    },
    {
     "name": "stdout",
     "output_type": "stream",
     "text": [
      "Total of 4 unique ids for Rene Galindo \n"
     ]
    },
    {
     "name": "stderr",
     "output_type": "stream",
     "text": [
      "0-4 / 4 (5.98s)\u001b[0m\n",
      "===\n",
      "Records extracted: 4\u001b[0m\n",
      "Starting iteration with limit=1000 skip=0 ...\u001b[0m\n"
     ]
    },
    {
     "name": "stdout",
     "output_type": "stream",
     "text": [
      "++++++++ FINAL 4 Working ID(s) +++++++++++\n",
      "{'ur.014131207333.48', 'ur.0577264277.86', 'ur.015552514043.30', 'ur.012324351507.09'}\n"
     ]
    },
    {
     "name": "stderr",
     "output_type": "stream",
     "text": [
      "0-17 / 17 (6.09s)\u001b[0m\n",
      "===\n",
      "Records extracted: 17\u001b[0m\n",
      "Starting iteration with limit=1000 skip=0 ...\u001b[0m\n"
     ]
    },
    {
     "name": "stdout",
     "output_type": "stream",
     "text": [
      "Total of 17 unique ids for Anupam Agarwal \n"
     ]
    },
    {
     "name": "stderr",
     "output_type": "stream",
     "text": [
      "0-17 / 17 (0.29s)\u001b[0m\n",
      "===\n",
      "Records extracted: 17\u001b[0m\n",
      "Starting iteration with limit=1000 skip=0 ...\u001b[0m\n"
     ]
    },
    {
     "name": "stdout",
     "output_type": "stream",
     "text": [
      "++++++++ FINAL 17 Working ID(s) +++++++++++\n",
      "{'ur.015140305730.33', 'ur.07424430715.10', 'ur.01204502344.99', 'ur.011162571161.58', 'ur.01026747162.67', 'ur.0731567066.77', 'ur.015302264456.05', 'ur.012230617761.24', 'ur.015746622012.41', 'ur.07354714645.52', 'ur.0617214614.31', 'ur.013037051117.23', 'ur.013356052501.59', 'ur.012110016201.32', 'ur.01145160062.74', 'ur.011776066125.27', 'ur.01070434377.49'}\n"
     ]
    },
    {
     "name": "stderr",
     "output_type": "stream",
     "text": [
      "0-1 / 1 (4.50s)\u001b[0m\n",
      "===\n",
      "Records extracted: 1\u001b[0m\n",
      "Starting iteration with limit=1000 skip=0 ...\u001b[0m\n"
     ]
    },
    {
     "name": "stdout",
     "output_type": "stream",
     "text": [
      "Total of 1 unique ids for Jayakrishna Ambati \n"
     ]
    },
    {
     "name": "stderr",
     "output_type": "stream",
     "text": [
      "0-1 / 1 (0.27s)\u001b[0m\n",
      "===\n",
      "Records extracted: 1\u001b[0m\n",
      "Starting iteration with limit=1000 skip=0 ...\u001b[0m\n"
     ]
    },
    {
     "name": "stdout",
     "output_type": "stream",
     "text": [
      "++++++++ FINAL 1 Working ID(s) +++++++++++\n",
      "{'ur.0733426416.91'}\n",
      "Jayakrishna Ambati 4\n"
     ]
    },
    {
     "name": "stderr",
     "output_type": "stream",
     "text": [
      "0-3 / 3 (0.29s)\u001b[0m\n",
      "===\n",
      "Records extracted: 3\u001b[0m\n",
      "Starting iteration with limit=1000 skip=0 ...\u001b[0m\n"
     ]
    },
    {
     "name": "stdout",
     "output_type": "stream",
     "text": [
      "Total of 3 unique ids for Suneel Apte \n"
     ]
    },
    {
     "name": "stderr",
     "output_type": "stream",
     "text": [
      "0-3 / 3 (2.43s)\u001b[0m\n",
      "===\n",
      "Records extracted: 3\u001b[0m\n",
      "Starting iteration with limit=1000 skip=0 ...\u001b[0m\n"
     ]
    },
    {
     "name": "stdout",
     "output_type": "stream",
     "text": [
      "++++++++ FINAL 3 Working ID(s) +++++++++++\n",
      "{'ur.01220207630.27', 'ur.011572255101.53', 'ur.014660763714.58'}\n"
     ]
    },
    {
     "name": "stderr",
     "output_type": "stream",
     "text": [
      "0-6 / 6 (0.29s)\u001b[0m\n",
      "===\n",
      "Records extracted: 6\u001b[0m\n",
      "Starting iteration with limit=1000 skip=0 ...\u001b[0m\n"
     ]
    },
    {
     "name": "stdout",
     "output_type": "stream",
     "text": [
      "Total of 6 unique ids for Kyong-Mi Chang \n"
     ]
    },
    {
     "name": "stderr",
     "output_type": "stream",
     "text": [
      "0-6 / 6 (1.38s)\u001b[0m\n",
      "===\n",
      "Records extracted: 6\u001b[0m\n",
      "Starting iteration with limit=1000 skip=0 ...\u001b[0m\n"
     ]
    },
    {
     "name": "stdout",
     "output_type": "stream",
     "text": [
      "++++++++ FINAL 6 Working ID(s) +++++++++++\n",
      "{'ur.015602330107.31', 'ur.07767336553.97', 'ur.015064010164.90', 'ur.014703072371.94', 'ur.013446520713.52', 'ur.011123725445.08'}\n"
     ]
    },
    {
     "name": "stderr",
     "output_type": "stream",
     "text": [
      "0-12 / 12 (1.68s)\u001b[0m\n",
      "===\n",
      "Records extracted: 12\u001b[0m\n",
      "Starting iteration with limit=1000 skip=0 ...\u001b[0m\n"
     ]
    },
    {
     "name": "stdout",
     "output_type": "stream",
     "text": [
      "Total of 12 unique ids for Herbert Cohen \n"
     ]
    },
    {
     "name": "stderr",
     "output_type": "stream",
     "text": [
      "0-12 / 12 (0.26s)\u001b[0m\n",
      "===\n",
      "Records extracted: 12\u001b[0m\n",
      "Starting iteration with limit=1000 skip=0 ...\u001b[0m\n"
     ]
    },
    {
     "name": "stdout",
     "output_type": "stream",
     "text": [
      "++++++++ FINAL 12 Working ID(s) +++++++++++\n",
      "{'ur.01322202661.79', 'ur.066357050.11', 'ur.0740175736.97', 'ur.0705502103.45', 'ur.011407441502.36', 'ur.013664162110.48', 'ur.0105763656.20', 'ur.012117166011.30', 'ur.0105133450.88', 'ur.015754567617.20', 'ur.01263410240.52', 'ur.013720722771.40'}\n"
     ]
    },
    {
     "name": "stderr",
     "output_type": "stream",
     "text": [
      "0-16 / 16 (4.55s)\u001b[0m\n",
      "===\n",
      "Records extracted: 16\u001b[0m\n",
      "Starting iteration with limit=1000 skip=0 ...\u001b[0m\n"
     ]
    },
    {
     "name": "stdout",
     "output_type": "stream",
     "text": [
      "Total of 16 unique ids for Laurence Cooper \n"
     ]
    },
    {
     "name": "stderr",
     "output_type": "stream",
     "text": [
      "0-16 / 16 (0.26s)\u001b[0m\n",
      "===\n",
      "Records extracted: 16\u001b[0m\n",
      "Starting iteration with limit=1000 skip=0 ...\u001b[0m\n"
     ]
    },
    {
     "name": "stdout",
     "output_type": "stream",
     "text": [
      "++++++++ FINAL 16 Working ID(s) +++++++++++\n",
      "{'ur.015301557703.82', 'ur.07575623152.23', 'ur.011554706303.89', 'ur.012754644113.05', 'ur.016235342230.21', 'ur.010255221116.59', 'ur.011343756557.34', 'ur.011705723077.25', 'ur.013235036413.88', 'ur.01104455605.14', 'ur.013600473507.36', 'ur.013533757303.70', 'ur.015625515077.83', 'ur.01201235616.28', 'ur.016564157752.80', 'ur.012261717007.16'}\n"
     ]
    },
    {
     "name": "stderr",
     "output_type": "stream",
     "text": [
      "0-1 / 1 (4.26s)\u001b[0m\n",
      "===\n",
      "Records extracted: 1\u001b[0m\n",
      "Starting iteration with limit=1000 skip=0 ...\u001b[0m\n"
     ]
    },
    {
     "name": "stdout",
     "output_type": "stream",
     "text": [
      "Total of 1 unique ids for George Cotsarelis \n"
     ]
    },
    {
     "name": "stderr",
     "output_type": "stream",
     "text": [
      "0-1 / 1 (0.26s)\u001b[0m\n",
      "===\n",
      "Records extracted: 1\u001b[0m\n",
      "Starting iteration with limit=1000 skip=0 ...\u001b[0m\n"
     ]
    },
    {
     "name": "stdout",
     "output_type": "stream",
     "text": [
      "++++++++ FINAL 1 Working ID(s) +++++++++++\n",
      "{'ur.0665451323.77'}\n",
      "George Cotsarelis 5\n"
     ]
    },
    {
     "name": "stderr",
     "output_type": "stream",
     "text": [
      "0-3 / 3 (4.60s)\u001b[0m\n",
      "===\n",
      "Records extracted: 3\u001b[0m\n",
      "Starting iteration with limit=1000 skip=0 ...\u001b[0m\n"
     ]
    },
    {
     "name": "stdout",
     "output_type": "stream",
     "text": [
      "Total of 3 unique ids for Kenneth Covinsky \n"
     ]
    },
    {
     "name": "stderr",
     "output_type": "stream",
     "text": [
      "0-3 / 3 (0.23s)\u001b[0m\n",
      "===\n",
      "Records extracted: 3\u001b[0m\n",
      "Starting iteration with limit=1000 skip=0 ...\u001b[0m\n"
     ]
    },
    {
     "name": "stdout",
     "output_type": "stream",
     "text": [
      "++++++++ FINAL 3 Working ID(s) +++++++++++\n",
      "{'ur.011270770523.99', 'ur.015415235177.37', 'ur.016231651001.08'}\n"
     ]
    },
    {
     "name": "stderr",
     "output_type": "stream",
     "text": [
      "0-2 / 2 (0.30s)\u001b[0m\n",
      "===\n",
      "Records extracted: 2\u001b[0m\n",
      "Starting iteration with limit=1000 skip=0 ...\u001b[0m\n"
     ]
    },
    {
     "name": "stdout",
     "output_type": "stream",
     "text": [
      "Total of 2 unique ids for Maurizio Del Poeta \n"
     ]
    },
    {
     "name": "stderr",
     "output_type": "stream",
     "text": [
      "0-2 / 2 (2.70s)\u001b[0m\n",
      "===\n",
      "Records extracted: 2\u001b[0m\n",
      "Starting iteration with limit=1000 skip=0 ...\u001b[0m\n"
     ]
    },
    {
     "name": "stdout",
     "output_type": "stream",
     "text": [
      "++++++++ FINAL 2 Working ID(s) +++++++++++\n",
      "{'ur.01367154144.80', 'ur.011006415751.64'}\n"
     ]
    },
    {
     "name": "stderr",
     "output_type": "stream",
     "text": [
      "0-8 / 8 (6.06s)\u001b[0m\n",
      "===\n",
      "Records extracted: 8\u001b[0m\n",
      "Starting iteration with limit=1000 skip=0 ...\u001b[0m\n"
     ]
    },
    {
     "name": "stdout",
     "output_type": "stream",
     "text": [
      "Total of 8 unique ids for Phillip Dennis \n"
     ]
    },
    {
     "name": "stderr",
     "output_type": "stream",
     "text": [
      "0-8 / 8 (0.25s)\u001b[0m\n",
      "===\n",
      "Records extracted: 8\u001b[0m\n",
      "Starting iteration with limit=1000 skip=0 ...\u001b[0m\n"
     ]
    },
    {
     "name": "stdout",
     "output_type": "stream",
     "text": [
      "++++++++ FINAL 8 Working ID(s) +++++++++++\n",
      "{'ur.013456003073.37', 'ur.013443251137.42', 'ur.01351230365.06', 'ur.01152302035.13', 'ur.01225715423.82', 'ur.010207672217.12', 'ur.010641537153.30', 'ur.015261113237.39'}\n"
     ]
    },
    {
     "name": "stderr",
     "output_type": "stream",
     "text": [
      "0-28 / 28 (0.35s)\u001b[0m\n",
      "===\n",
      "Records extracted: 28\u001b[0m\n",
      "Starting iteration with limit=1000 skip=0 ...\u001b[0m\n"
     ]
    },
    {
     "name": "stdout",
     "output_type": "stream",
     "text": [
      "Total of 28 unique ids for Michael Diamond \n"
     ]
    },
    {
     "name": "stderr",
     "output_type": "stream",
     "text": [
      "0-28 / 28 (2.68s)\u001b[0m\n",
      "===\n",
      "Records extracted: 28\u001b[0m\n",
      "Starting iteration with limit=1000 skip=0 ...\u001b[0m\n"
     ]
    },
    {
     "name": "stdout",
     "output_type": "stream",
     "text": [
      "++++++++ FINAL 28 Working ID(s) +++++++++++\n",
      "{'ur.01136423534.46', 'ur.014030665166.04', 'ur.0577215761.39', 'ur.016600130776.04', 'ur.016376441131.71', 'ur.0757052535.15', 'ur.014330436266.94', 'ur.01173241756.39', 'ur.010364474312.40', 'ur.014055147346.03', 'ur.077547425.48', 'ur.0750536371.55', 'ur.0673016274.66', 'ur.014421054225.00', 'ur.012054453665.34', 'ur.0615673773.52', 'ur.011536475137.53', 'ur.015657706535.24', 'ur.012737135146.17', 'ur.011070231146.64', 'ur.011561555217.42', 'ur.01333453213.97', 'ur.0105306005.24', 'ur.010655367356.92', 'ur.016626166225.44', 'ur.011451166476.53', 'ur.07403300604.15', 'ur.01341376405.43'}\n"
     ]
    },
    {
     "name": "stderr",
     "output_type": "stream",
     "text": [
      "0-3 / 3 (1.79s)\u001b[0m\n",
      "===\n",
      "Records extracted: 3\u001b[0m\n",
      "Starting iteration with limit=1000 skip=0 ...\u001b[0m\n"
     ]
    },
    {
     "name": "stdout",
     "output_type": "stream",
     "text": [
      "Total of 3 unique ids for Jay Edelberg \n"
     ]
    },
    {
     "name": "stderr",
     "output_type": "stream",
     "text": [
      "0-3 / 3 (4.50s)\u001b[0m\n",
      "===\n",
      "Records extracted: 3\u001b[0m\n",
      "Starting iteration with limit=1000 skip=0 ...\u001b[0m\n"
     ]
    },
    {
     "name": "stdout",
     "output_type": "stream",
     "text": [
      "++++++++ FINAL 3 Working ID(s) +++++++++++\n",
      "{'ur.015502525001.77', 'ur.01106223624.20', 'ur.0624415064.56'}\n"
     ]
    },
    {
     "name": "stderr",
     "output_type": "stream",
     "text": [
      "0-1 / 1 (0.32s)\u001b[0m\n",
      "===\n",
      "Records extracted: 1\u001b[0m\n",
      "Starting iteration with limit=1000 skip=0 ...\u001b[0m\n"
     ]
    },
    {
     "name": "stdout",
     "output_type": "stream",
     "text": [
      "Total of 1 unique ids for David Engman \n"
     ]
    },
    {
     "name": "stderr",
     "output_type": "stream",
     "text": [
      "0-1 / 1 (4.46s)\u001b[0m\n",
      "===\n",
      "Records extracted: 1\u001b[0m\n",
      "Starting iteration with limit=1000 skip=0 ...\u001b[0m\n"
     ]
    },
    {
     "name": "stdout",
     "output_type": "stream",
     "text": [
      "++++++++ FINAL 1 Working ID(s) +++++++++++\n",
      "{'ur.01112672004.80'}\n",
      "David Engman 6\n"
     ]
    },
    {
     "name": "stderr",
     "output_type": "stream",
     "text": [
      "0-15 / 15 (0.27s)\u001b[0m\n",
      "===\n",
      "Records extracted: 15\u001b[0m\n",
      "Starting iteration with limit=1000 skip=0 ...\u001b[0m\n"
     ]
    },
    {
     "name": "stdout",
     "output_type": "stream",
     "text": [
      "Total of 15 unique ids for Daniel Fowler \n"
     ]
    },
    {
     "name": "stderr",
     "output_type": "stream",
     "text": [
      "0-15 / 15 (0.24s)\u001b[0m\n",
      "===\n",
      "Records extracted: 15\u001b[0m\n",
      "Starting iteration with limit=1000 skip=0 ...\u001b[0m\n"
     ]
    },
    {
     "name": "stdout",
     "output_type": "stream",
     "text": [
      "++++++++ FINAL 15 Working ID(s) +++++++++++\n",
      "{'ur.01114035145.20', 'ur.0774373361.72', 'ur.011044152016.05', 'ur.010650012612.10', 'ur.01052730267.32', 'ur.013164520167.49', 'ur.0721423672.14', 'ur.012522776035.37', 'ur.01233454166.54', 'ur.011017326365.24', 'ur.010612303054.62', 'ur.01270253026.60', 'ur.012571370425.14', 'ur.010610164665.36', 'ur.0647764171.48'}\n"
     ]
    },
    {
     "name": "stderr",
     "output_type": "stream",
     "text": [
      "0-6 / 6 (2.61s)\u001b[0m\n",
      "===\n",
      "Records extracted: 6\u001b[0m\n",
      "Starting iteration with limit=1000 skip=0 ...\u001b[0m\n"
     ]
    },
    {
     "name": "stdout",
     "output_type": "stream",
     "text": [
      "Total of 6 unique ids for Vance Fowler \n"
     ]
    },
    {
     "name": "stderr",
     "output_type": "stream",
     "text": [
      "0-6 / 6 (5.94s)\u001b[0m\n",
      "===\n",
      "Records extracted: 6\u001b[0m\n",
      "Starting iteration with limit=1000 skip=0 ...\u001b[0m\n"
     ]
    },
    {
     "name": "stdout",
     "output_type": "stream",
     "text": [
      "++++++++ FINAL 6 Working ID(s) +++++++++++\n",
      "{'ur.01020555670.21', 'ur.016221403674.51', 'ur.011715650574.50', 'ur.014412124603.30', 'ur.01220372166.05', 'ur.012100770252.57'}\n"
     ]
    },
    {
     "name": "stderr",
     "output_type": "stream",
     "text": [
      "0-1 / 1 (0.27s)\u001b[0m\n",
      "===\n",
      "Records extracted: 1\u001b[0m\n",
      "Starting iteration with limit=1000 skip=0 ...\u001b[0m\n"
     ]
    },
    {
     "name": "stdout",
     "output_type": "stream",
     "text": [
      "Total of 1 unique ids for John Frangioni \n"
     ]
    },
    {
     "name": "stderr",
     "output_type": "stream",
     "text": [
      "0-1 / 1 (0.27s)\u001b[0m\n",
      "===\n",
      "Records extracted: 1\u001b[0m\n",
      "Starting iteration with limit=1000 skip=0 ...\u001b[0m\n"
     ]
    },
    {
     "name": "stdout",
     "output_type": "stream",
     "text": [
      "++++++++ FINAL 1 Working ID(s) +++++++++++\n",
      "{'ur.01153672301.91'}\n",
      "John Frangioni 7\n"
     ]
    },
    {
     "name": "stderr",
     "output_type": "stream",
     "text": [
      "0-158 / 158 (4.56s)\u001b[0m\n",
      "===\n",
      "Records extracted: 158\u001b[0m\n",
      "Starting iteration with limit=1000 skip=0 ...\u001b[0m\n"
     ]
    },
    {
     "name": "stdout",
     "output_type": "stream",
     "text": [
      "Total of 158 unique ids for Bin Gao \n"
     ]
    },
    {
     "name": "stderr",
     "output_type": "stream",
     "text": [
      "0-158 / 158 (0.49s)\u001b[0m\n",
      "===\n",
      "Records extracted: 158\u001b[0m\n",
      "Starting iteration with limit=1000 skip=0 ...\u001b[0m\n"
     ]
    },
    {
     "name": "stdout",
     "output_type": "stream",
     "text": [
      "++++++++ FINAL 158 Working ID(s) +++++++++++\n",
      "{'ur.011454411420.05', 'ur.014764252627.00', 'ur.014625725442.30', 'ur.014434532737.07', 'ur.016055125345.78', 'ur.015477075443.37', 'ur.07605037425.90', 'ur.010702617265.95', 'ur.012002012111.57', 'ur.014626236440.29', 'ur.010634733107.01', 'ur.013660520772.05', 'ur.011120107224.31', 'ur.016245366632.66', 'ur.013474430345.55', 'ur.016634063576.00', 'ur.016710100201.19', 'ur.011375742445.25', 'ur.012433014533.24', 'ur.016707161707.10', 'ur.013537264672.85', 'ur.07413553051.55', 'ur.07567131035.37', 'ur.012146422531.78', 'ur.011157015275.27', 'ur.014221061223.37', 'ur.013477775470.00', 'ur.016713714411.20', 'ur.013446042427.97', 'ur.015266537263.74', 'ur.0746214143.44', 'ur.016367332736.69', 'ur.015364651753.57', 'ur.011713723213.63', 'ur.011024715677.75', 'ur.015037413002.22', 'ur.016320454761.06', 'ur.010130443176.85', 'ur.011007261170.09', 'ur.012720160575.21', 'ur.014155757467.13', 'ur.016453352602.55', 'ur.015050525663.14', 'ur.011356261304.55', 'ur.015706547017.61', 'ur.010667205370.45', 'ur.013123523027.75', 'ur.014175556721.81', 'ur.014022123372.16', 'ur.011504302573.40', 'ur.013653465573.36', 'ur.011254013524.29', 'ur.011071003130.92', 'ur.01354246175.95', 'ur.014553461066.50', 'ur.014241312355.41', 'ur.012323611527.43', 'ur.010706723776.30', 'ur.015571114224.32', 'ur.010016411766.27', 'ur.011150421275.68', 'ur.012211320013.45', 'ur.0607735446.44', 'ur.012226546072.06', 'ur.012045770043.07', 'ur.07550461473.29', 'ur.011376334521.10', 'ur.016067223601.15', 'ur.014262450112.89', 'ur.010267333142.04', 'ur.07625515477.48', 'ur.07762626270.02', 'ur.07400604630.75', 'ur.012365544226.75', 'ur.015734346521.94', 'ur.016465677470.29', 'ur.010331705541.11', 'ur.0753455616.49', 'ur.013455171275.14', 'ur.010517156620.94', 'ur.015250104661.05', 'ur.011672577345.51', 'ur.012055767774.02', 'ur.016342524141.36', 'ur.016002602172.76', 'ur.0617707007.16', 'ur.011402424751.11', 'ur.011650173033.61', 'ur.015707461723.05', 'ur.010071641125.18', 'ur.011712724410.46', 'ur.016021232030.55', 'ur.01162314771.15', 'ur.011433646175.20', 'ur.015704202420.12', 'ur.013766174073.29', 'ur.015622215307.15', 'ur.01250074357.86', 'ur.015434713457.86', 'ur.014330436216.56', 'ur.016067224673.34', 'ur.014636141546.42', 'ur.011631203145.37', 'ur.016624231574.92', 'ur.016516737127.50', 'ur.013016202202.59', 'ur.016266572262.61', 'ur.013170624545.50', 'ur.015620101572.11', 'ur.0654057524.22', 'ur.010467267275.46', 'ur.015071737527.88', 'ur.013346550054.47', 'ur.010561130033.88', 'ur.010732200163.19', 'ur.010072627543.81', 'ur.015407570325.63', 'ur.014746037777.48', 'ur.01053712344.25', 'ur.011071355430.99', 'ur.016510157060.77', 'ur.010354662341.01', 'ur.01270115656.26', 'ur.014015452167.43', 'ur.013130305561.08', 'ur.012474516324.55', 'ur.01205652141.39', 'ur.015077376653.87', 'ur.011747334455.36', 'ur.011620261746.14', 'ur.011543146465.70', 'ur.01330747157.77', 'ur.015040065272.50', 'ur.010744715131.85', 'ur.01163120061.57', 'ur.015562265414.20', 'ur.015670317070.36', 'ur.010620230210.09', 'ur.016061620114.41', 'ur.0665061552.42', 'ur.012353434135.26', 'ur.013702041621.05', 'ur.012320174361.52', 'ur.014656066275.21', 'ur.015471430761.78', 'ur.016010040635.89', 'ur.015072736470.53', 'ur.011416675763.13', 'ur.010455273540.55', 'ur.07674502750.55', 'ur.01212542615.03', 'ur.015312312130.53', 'ur.015444237227.46', 'ur.014520545723.28', 'ur.016133362636.53', 'ur.012233751101.99', 'ur.011677035113.33', 'ur.016374760075.04'}\n"
     ]
    },
    {
     "name": "stderr",
     "output_type": "stream",
     "text": [
      "0-16 / 16 (4.30s)\u001b[0m\n",
      "===\n",
      "Records extracted: 16\u001b[0m\n",
      "Starting iteration with limit=1000 skip=0 ...\u001b[0m\n"
     ]
    },
    {
     "name": "stdout",
     "output_type": "stream",
     "text": [
      "Total of 16 unique ids for Michael Glickman \n"
     ]
    },
    {
     "name": "stderr",
     "output_type": "stream",
     "text": [
      "0-16 / 16 (6.04s)\u001b[0m\n",
      "===\n",
      "Records extracted: 16\u001b[0m\n",
      "Starting iteration with limit=1000 skip=0 ...\u001b[0m\n"
     ]
    },
    {
     "name": "stdout",
     "output_type": "stream",
     "text": [
      "++++++++ FINAL 16 Working ID(s) +++++++++++\n",
      "{'ur.011344777464.45', 'ur.010350465407.11', 'ur.016455107664.87', 'ur.016673406555.17', 'ur.012537355042.53', 'ur.016077156132.77', 'ur.015211245526.93', 'ur.013603053753.15', 'ur.0743712621.98', 'ur.013057411367.40', 'ur.01231560230.01', 'ur.012304761520.28', 'ur.0631562111.32', 'ur.016670701422.41', 'ur.010121475076.65', 'ur.013371643217.04'}\n"
     ]
    },
    {
     "name": "stderr",
     "output_type": "stream",
     "text": [
      "0-3 / 3 (0.26s)\u001b[0m\n",
      "===\n",
      "Records extracted: 3\u001b[0m\n",
      "Starting iteration with limit=1000 skip=0 ...\u001b[0m\n"
     ]
    },
    {
     "name": "stdout",
     "output_type": "stream",
     "text": [
      "Total of 3 unique ids for Stephen Hammes \n"
     ]
    },
    {
     "name": "stderr",
     "output_type": "stream",
     "text": [
      "0-3 / 3 (4.24s)\u001b[0m\n",
      "===\n",
      "Records extracted: 3\u001b[0m\n",
      "Starting iteration with limit=1000 skip=0 ...\u001b[0m\n"
     ]
    },
    {
     "name": "stdout",
     "output_type": "stream",
     "text": [
      "++++++++ FINAL 3 Working ID(s) +++++++++++\n",
      "{'ur.01103105526.02', 'ur.0600326132.07', 'ur.01254375106.88'}\n"
     ]
    },
    {
     "name": "stderr",
     "output_type": "stream",
     "text": [
      "0-7 / 7 (0.30s)\u001b[0m\n",
      "===\n",
      "Records extracted: 7\u001b[0m\n",
      "Starting iteration with limit=1000 skip=0 ...\u001b[0m\n"
     ]
    },
    {
     "name": "stdout",
     "output_type": "stream",
     "text": [
      "Total of 7 unique ids for Hal Hoffman \n"
     ]
    },
    {
     "name": "stderr",
     "output_type": "stream",
     "text": [
      "0-7 / 7 (0.26s)\u001b[0m\n",
      "===\n",
      "Records extracted: 7\u001b[0m\n",
      "Starting iteration with limit=1000 skip=0 ...\u001b[0m\n"
     ]
    },
    {
     "name": "stdout",
     "output_type": "stream",
     "text": [
      "++++++++ FINAL 7 Working ID(s) +++++++++++\n",
      "{'ur.012246267543.95', 'ur.014142222157.12', 'ur.013632666467.15', 'ur.011653165057.09', 'ur.010321741667.39', 'ur.011675401655.08', 'ur.011545457044.21'}\n"
     ]
    },
    {
     "name": "stderr",
     "output_type": "stream",
     "text": [
      "0-12 / 12 (2.75s)\u001b[0m\n",
      "===\n",
      "Records extracted: 12\u001b[0m\n",
      "Starting iteration with limit=1000 skip=0 ...\u001b[0m\n"
     ]
    },
    {
     "name": "stdout",
     "output_type": "stream",
     "text": [
      "Total of 12 unique ids for Sam Hwang \n"
     ]
    },
    {
     "name": "stderr",
     "output_type": "stream",
     "text": [
      "0-12 / 12 (1.75s)\u001b[0m\n",
      "===\n",
      "Records extracted: 12\u001b[0m\n",
      "Starting iteration with limit=1000 skip=0 ...\u001b[0m\n"
     ]
    },
    {
     "name": "stdout",
     "output_type": "stream",
     "text": [
      "++++++++ FINAL 12 Working ID(s) +++++++++++\n",
      "{'ur.014640640324.27', 'ur.014065356747.41', 'ur.013535212124.08', 'ur.01200411344.28', 'ur.07400625241.93', 'ur.0650742344.37', 'ur.012110131773.37', 'ur.011716757277.24', 'ur.011731731312.68', 'ur.0742341554.83', 'ur.015150117150.71', 'ur.014311552765.84'}\n"
     ]
    },
    {
     "name": "stderr",
     "output_type": "stream",
     "text": [
      "0-15 / 15 (4.62s)\u001b[0m\n",
      "===\n",
      "Records extracted: 15\u001b[0m\n",
      "Starting iteration with limit=1000 skip=0 ...\u001b[0m\n"
     ]
    },
    {
     "name": "stdout",
     "output_type": "stream",
     "text": [
      "Total of 15 unique ids for S. Karumanchi \n"
     ]
    },
    {
     "name": "stderr",
     "output_type": "stream",
     "text": [
      "0-15 / 15 (0.26s)\u001b[0m\n",
      "===\n",
      "Records extracted: 15\u001b[0m\n",
      "Starting iteration with limit=1000 skip=0 ...\u001b[0m\n"
     ]
    },
    {
     "name": "stdout",
     "output_type": "stream",
     "text": [
      "++++++++ FINAL 15 Working ID(s) +++++++++++\n",
      "{'ur.01124076707.96', 'ur.01171471714.18', 'ur.011436267064.66', 'ur.07745510763.91', 'ur.013627070315.58', 'ur.010004102075.46', 'ur.015274326533.56', 'ur.015155257350.53', 'ur.013015156217.31', 'ur.01260534654.47', 'ur.01111744454.56', 'ur.010221512115.89', 'ur.013147731315.25', 'ur.013241763515.96', 'ur.012511551065.85'}\n"
     ]
    },
    {
     "name": "stderr",
     "output_type": "stream",
     "text": [
      "0-18 / 18 (0.25s)\u001b[0m\n",
      "===\n",
      "Records extracted: 18\u001b[0m\n",
      "Starting iteration with limit=1000 skip=0 ...\u001b[0m\n"
     ]
    },
    {
     "name": "stdout",
     "output_type": "stream",
     "text": [
      "Total of 18 unique ids for Douglas Kerr \n"
     ]
    },
    {
     "name": "stderr",
     "output_type": "stream",
     "text": [
      "0-18 / 18 (4.55s)\u001b[0m\n",
      "===\n",
      "Records extracted: 18\u001b[0m\n",
      "Starting iteration with limit=1000 skip=0 ...\u001b[0m\n"
     ]
    },
    {
     "name": "stdout",
     "output_type": "stream",
     "text": [
      "++++++++ FINAL 18 Working ID(s) +++++++++++\n",
      "{'ur.013514375312.58', 'ur.01102704544.51', 'ur.011105214004.65', 'ur.010352732731.57', 'ur.0100071542.46', 'ur.01221400572.51', 'ur.077363634.10', 'ur.016467031152.25', 'ur.016525625152.45', 'ur.01353606523.38', 'ur.0111160164.84', 'ur.011007347372.81', 'ur.013526316363.21', 'ur.01146646410.31', 'ur.07540677352.26', 'ur.01143007004.05', 'ur.010621260634.74', 'ur.0621371423.28'}\n"
     ]
    },
    {
     "name": "stderr",
     "output_type": "stream",
     "text": [
      "0-2 / 2 (0.29s)\u001b[0m\n",
      "===\n",
      "Records extracted: 2\u001b[0m\n",
      "Starting iteration with limit=1000 skip=0 ...\u001b[0m\n"
     ]
    },
    {
     "name": "stdout",
     "output_type": "stream",
     "text": [
      "Total of 2 unique ids for Tejvir Khurana \n"
     ]
    },
    {
     "name": "stderr",
     "output_type": "stream",
     "text": [
      "0-2 / 2 (4.20s)\u001b[0m\n",
      "===\n",
      "Records extracted: 2\u001b[0m\n",
      "Starting iteration with limit=1000 skip=0 ...\u001b[0m\n"
     ]
    },
    {
     "name": "stdout",
     "output_type": "stream",
     "text": [
      "++++++++ FINAL 2 Working ID(s) +++++++++++\n",
      "{'ur.010544226542.13', 'ur.014505252207.17'}\n"
     ]
    },
    {
     "name": "stderr",
     "output_type": "stream",
     "text": [
      "0-1 / 1 (6.08s)\u001b[0m\n",
      "===\n",
      "Records extracted: 1\u001b[0m\n",
      "Starting iteration with limit=1000 skip=0 ...\u001b[0m\n"
     ]
    },
    {
     "name": "stdout",
     "output_type": "stream",
     "text": [
      "Total of 1 unique ids for Fadlo Khuri \n"
     ]
    },
    {
     "name": "stderr",
     "output_type": "stream",
     "text": [
      "0-1 / 1 (0.22s)\u001b[0m\n",
      "===\n",
      "Records extracted: 1\u001b[0m\n",
      "Starting iteration with limit=1000 skip=0 ...\u001b[0m\n"
     ]
    },
    {
     "name": "stdout",
     "output_type": "stream",
     "text": [
      "++++++++ FINAL 1 Working ID(s) +++++++++++\n",
      "{'ur.01057764272.14'}\n",
      "Fadlo Khuri 8\n"
     ]
    },
    {
     "name": "stderr",
     "output_type": "stream",
     "text": [
      "0-77 / 77 (4.28s)\u001b[0m\n",
      "===\n",
      "Records extracted: 77\u001b[0m\n",
      "Starting iteration with limit=1000 skip=0 ...\u001b[0m\n"
     ]
    },
    {
     "name": "stdout",
     "output_type": "stream",
     "text": [
      "Total of 77 unique ids for Maria Abreu \n"
     ]
    },
    {
     "name": "stderr",
     "output_type": "stream",
     "text": [
      "0-77 / 77 (0.33s)\u001b[0m\n",
      "===\n",
      "Records extracted: 77\u001b[0m\n",
      "Starting iteration with limit=1000 skip=0 ...\u001b[0m\n"
     ]
    },
    {
     "name": "stdout",
     "output_type": "stream",
     "text": [
      "++++++++ FINAL 77 Working ID(s) +++++++++++\n",
      "{'ur.010546130076.50', 'ur.015617737401.58', 'ur.013706624716.01', 'ur.012305525673.48', 'ur.013156623574.86', 'ur.015365505121.40', 'ur.01003457564.55', 'ur.010470203751.07', 'ur.012336354016.14', 'ur.015271404117.45', 'ur.014232301734.46', 'ur.014521034576.16', 'ur.015630307131.57', 'ur.014463016301.39', 'ur.012550372613.54', 'ur.012205246641.43', 'ur.013312262047.31', 'ur.012421112350.10', 'ur.01163330433.50', 'ur.010252303416.14', 'ur.016504441210.13', 'ur.015771376634.07', 'ur.07555734057.74', 'ur.016345333010.79', 'ur.011147507720.42', 'ur.015700326575.65', 'ur.012156735701.04', 'ur.016265712105.62', 'ur.015744131377.86', 'ur.011531115543.31', 'ur.012574700305.22', 'ur.011065554740.99', 'ur.013663355607.21', 'ur.013370136125.41', 'ur.011772607421.06', 'ur.01246763427.62', 'ur.015752530123.36', 'ur.013022311062.76', 'ur.014302730452.13', 'ur.013605351077.87', 'ur.014432704125.63', 'ur.016026232234.44', 'ur.010320460775.44', 'ur.016514026050.17', 'ur.010114724616.43', 'ur.015153443753.43', 'ur.015702150053.33', 'ur.016404311253.18', 'ur.012642616474.76', 'ur.016333705000.33', 'ur.07612463625.61', 'ur.011432123700.76', 'ur.011176230473.49', 'ur.01136040175.39', 'ur.015630530670.42', 'ur.013206656545.45', 'ur.01356552326.71', 'ur.013222414101.62', 'ur.013441107510.48', 'ur.014535310263.59', 'ur.010133120246.01', 'ur.01152757451.92', 'ur.013036644473.73', 'ur.014430451243.91', 'ur.01157115345.18', 'ur.013511621177.15', 'ur.015535007011.91', 'ur.014721053110.03', 'ur.012517067635.37', 'ur.07527716577.44', 'ur.07401106153.99', 'ur.015214126257.19', 'ur.016562322011.14', 'ur.0606477677.70', 'ur.014053257233.72', 'ur.011253136475.92', 'ur.012756450747.57'}\n"
     ]
    },
    {
     "name": "stderr",
     "output_type": "stream",
     "text": [
      "0-53 / 53 (4.19s)\u001b[0m\n",
      "===\n",
      "Records extracted: 53\u001b[0m\n",
      "Starting iteration with limit=1000 skip=0 ...\u001b[0m\n"
     ]
    },
    {
     "name": "stdout",
     "output_type": "stream",
     "text": [
      "Total of 53 unique ids for Michael Ackerman \n"
     ]
    },
    {
     "name": "stderr",
     "output_type": "stream",
     "text": [
      "0-53 / 53 (6.03s)\u001b[0m\n",
      "===\n",
      "Records extracted: 53\u001b[0m\n",
      "Starting iteration with limit=1000 skip=0 ...\u001b[0m\n"
     ]
    },
    {
     "name": "stdout",
     "output_type": "stream",
     "text": [
      "++++++++ FINAL 53 Working ID(s) +++++++++++\n",
      "{'ur.0674673006.87', 'ur.011537675453.42', 'ur.01245437506.38', 'ur.0743006206.37', 'ur.01053373506.12', 'ur.01235735306.39', 'ur.01121506706.37', 'ur.01066737006.32', 'ur.0752510406.62', 'ur.011211261513.52', 'ur.0630363421.91', 'ur.013603027503.01', 'ur.07411473663.51', 'ur.01125350006.82', 'ur.01317414006.95', 'ur.012232723567.02', 'ur.01057234606.38', 'ur.010411473643.90', 'ur.01105343776.82', 'ur.01167622106.30', 'ur.0776756407.05', 'ur.014561023777.67', 'ur.012112407041.61', 'ur.0636262006.98', 'ur.015461723401.40', 'ur.01227355747.25', 'ur.07516577664.31', 'ur.07610065542.56', 'ur.014076012632.06', 'ur.0704375206.11', 'ur.01231154027.05', 'ur.01021407040.98', 'ur.0703136646.04', 'ur.012363577247.30', 'ur.0645764206.92', 'ur.0626557606.04', 'ur.0622653300.35', 'ur.01203165406.42', 'ur.01020623606.18', 'ur.01304050506.14', 'ur.012520015756.21', 'ur.016544620061.15', 'ur.010201630440.86', 'ur.015767220777.82', 'ur.01241576406.71', 'ur.01173463206.99', 'ur.015505022361.26', 'ur.013627406531.83', 'ur.01011121406.12', 'ur.014255170401.86', 'ur.01030574671.19', 'ur.01352163706.57', 'ur.07626521657.37'}\n"
     ]
    },
    {
     "name": "stderr",
     "output_type": "stream",
     "text": [
      "0-5 / 5 (6.01s)\u001b[0m\n",
      "===\n",
      "Records extracted: 5\u001b[0m\n",
      "Starting iteration with limit=1000 skip=0 ...\u001b[0m\n"
     ]
    },
    {
     "name": "stdout",
     "output_type": "stream",
     "text": [
      "Total of 5 unique ids for David Andes \n"
     ]
    },
    {
     "name": "stderr",
     "output_type": "stream",
     "text": [
      "0-5 / 5 (0.30s)\u001b[0m\n",
      "===\n",
      "Records extracted: 5\u001b[0m\n",
      "Starting iteration with limit=1000 skip=0 ...\u001b[0m\n"
     ]
    },
    {
     "name": "stdout",
     "output_type": "stream",
     "text": [
      "++++++++ FINAL 5 Working ID(s) +++++++++++\n",
      "{'ur.014143702661.23', 'ur.011462532173.43', 'ur.013567220522.16', 'ur.0724231274.33', 'ur.010443450531.52'}\n"
     ]
    },
    {
     "name": "stderr",
     "output_type": "stream",
     "text": [
      "0-21 / 21 (4.27s)\u001b[0m\n",
      "===\n",
      "Records extracted: 21\u001b[0m\n",
      "Starting iteration with limit=1000 skip=0 ...\u001b[0m\n"
     ]
    },
    {
     "name": "stdout",
     "output_type": "stream",
     "text": [
      "Total of 21 unique ids for Scott Armstrong \n"
     ]
    },
    {
     "name": "stderr",
     "output_type": "stream",
     "text": [
      "0-21 / 21 (0.26s)\u001b[0m\n",
      "===\n",
      "Records extracted: 21\u001b[0m\n",
      "Starting iteration with limit=1000 skip=0 ...\u001b[0m\n"
     ]
    },
    {
     "name": "stdout",
     "output_type": "stream",
     "text": [
      "++++++++ FINAL 21 Working ID(s) +++++++++++\n",
      "{'ur.015652150273.47', 'ur.015502032777.22', 'ur.016567434432.65', 'ur.015307132065.71', 'ur.01050320524.36', 'ur.013240450004.14', 'ur.01041371505.69', 'ur.0614245736.15', 'ur.010740013103.27', 'ur.01237161626.48', 'ur.012450362135.37', 'ur.015763306327.92', 'ur.0605712636.64', 'ur.011101202065.24', 'ur.014604706273.24', 'ur.015160356520.55', 'ur.011374076571.68', 'ur.01106642306.40', 'ur.011054522453.13', 'ur.012763264465.67', 'ur.01113376645.40'}\n"
     ]
    },
    {
     "name": "stderr",
     "output_type": "stream",
     "text": [
      "0-161 / 161 (4.31s)\u001b[0m\n",
      "===\n",
      "Records extracted: 161\u001b[0m\n",
      "Starting iteration with limit=1000 skip=0 ...\u001b[0m\n"
     ]
    },
    {
     "name": "stdout",
     "output_type": "stream",
     "text": [
      "Total of 161 unique ids for R. Barr \n"
     ]
    },
    {
     "name": "stderr",
     "output_type": "stream",
     "text": [
      "0-161 / 161 (6.11s)\u001b[0m\n",
      "===\n",
      "Records extracted: 161\u001b[0m\n",
      "Starting iteration with limit=1000 skip=0 ...\u001b[0m\n"
     ]
    },
    {
     "name": "stdout",
     "output_type": "stream",
     "text": [
      "++++++++ FINAL 161 Working ID(s) +++++++++++\n",
      "{'ur.015750456411.28', 'ur.015011107011.02', 'ur.013623122236.09', 'ur.011067727545.23', 'ur.0661272200.78', 'ur.057306514.49', 'ur.01035007313.21', 'ur.013027012133.54', 'ur.0605037367.19', 'ur.0721227434.24', 'ur.0745066106.34', 'ur.01210125164.80', 'ur.01306132002.01', 'ur.011714666235.38', 'ur.01053041010.79', 'ur.0105763014.29', 'ur.010627512621.50', 'ur.053615120.53', 'ur.011551702303.99', 'ur.01136613552.08', 'ur.011366416357.55', 'ur.010537140777.32', 'ur.0664710161.47', 'ur.015125404463.15', 'ur.013551634725.31', 'ur.013003511053.60', 'ur.016023666273.38', 'ur.014433433107.48', 'ur.01035630444.65', 'ur.01314307004.31', 'ur.0773400203.89', 'ur.052743150.05', 'ur.016267763647.95', 'ur.063346411.22', 'ur.015573746667.92', 'ur.01240410426.20', 'ur.016275403365.83', 'ur.010266311777.20', 'ur.016023063447.97', 'ur.015703763272.00', 'ur.012232344407.03', 'ur.0110611162.77', 'ur.010272233505.21', 'ur.013200460557.30', 'ur.015741665765.53', 'ur.01316704573.86', 'ur.013747203243.38', 'ur.01355365637.59', 'ur.014302262161.27', 'ur.015255775367.22', 'ur.062156211.01', 'ur.014026570353.22', 'ur.013737300147.14', 'ur.015671571155.76', 'ur.012106742467.55', 'ur.073046140.17', 'ur.01253424270.04', 'ur.016643253567.07', 'ur.015033361774.57', 'ur.016115716762.35', 'ur.016675071402.38', 'ur.010741307737.51', 'ur.01123361126.13', 'ur.01357210342.19', 'ur.01061520141.46', 'ur.011612516152.16', 'ur.056215754.18', 'ur.010217452552.08', 'ur.01240736376.67', 'ur.010641436274.52', 'ur.016516757555.13', 'ur.0655016712.32', 'ur.016704034316.71', 'ur.07506340232.21', 'ur.0576554243.13', 'ur.012276151051.28', 'ur.016452426040.68', 'ur.013671250756.58', 'ur.014102111475.27', 'ur.012727754031.30', 'ur.010570467053.52', 'ur.010446547161.17', 'ur.07702564270.46', 'ur.01273117406.30', 'ur.01010213236.10', 'ur.011743013130.88', 'ur.014763766521.28', 'ur.01372703645.57', 'ur.010460423162.51', 'ur.015362263460.55', 'ur.016140301372.22', 'ur.016463741277.30', 'ur.011131300737.14', 'ur.01062034005.30', 'ur.01121027556.26', 'ur.010102474517.77', 'ur.07347546427.30', 'ur.075025540.35', 'ur.0100507452.49', 'ur.064771635.61', 'ur.014206166433.72', 'ur.016004231537.49', 'ur.015045036457.09', 'ur.0722531550.97', 'ur.01202164241.67', 'ur.0102035004.36', 'ur.01217435151.13', 'ur.0754763207.94', 'ur.015430361427.11', 'ur.013044152214.31', 'ur.016667004746.67', 'ur.0652476254.31', 'ur.016532315520.95', 'ur.010222515265.42', 'ur.013104241313.43', 'ur.015401052616.11', 'ur.010171173120.48', 'ur.015344432704.86', 'ur.064422051.64', 'ur.012172206555.35', 'ur.011115446267.53', 'ur.016440173575.36', 'ur.07726636133.09', 'ur.012105074055.31', 'ur.010527122431.01', 'ur.011217756547.54', 'ur.0731554565.54', 'ur.014116327624.27', 'ur.01003073154.39', 'ur.01115400106.70', 'ur.0651737620.11', 'ur.016374166601.58', 'ur.0101537752.93', 'ur.013126635353.13', 'ur.01261415101.04', 'ur.014757751211.93', 'ur.01213767265.59', 'ur.013211354434.75', 'ur.0706623455.55', 'ur.060177714.36', 'ur.0774660473.92', 'ur.014344715053.35', 'ur.0114204744.29', 'ur.0775054567.08', 'ur.012124645532.33', 'ur.01215555744.05', 'ur.010246140075.83', 'ur.014642230753.91', 'ur.010351720465.27', 'ur.0776132402.92', 'ur.013570765761.97', 'ur.01345143415.02', 'ur.047127155.60', 'ur.070372230.54', 'ur.016034332157.08', 'ur.013032307672.87', 'ur.013416704217.24', 'ur.013405554567.23', 'ur.014401214765.26', 'ur.0716153045.14', 'ur.015001140715.81'}\n"
     ]
    },
    {
     "name": "stderr",
     "output_type": "stream",
     "text": [
      "0-8 / 8 (0.29s)\u001b[0m\n",
      "===\n",
      "Records extracted: 8\u001b[0m\n",
      "Starting iteration with limit=1000 skip=0 ...\u001b[0m\n"
     ]
    },
    {
     "name": "stdout",
     "output_type": "stream",
     "text": [
      "Total of 8 unique ids for Marcel Behr \n"
     ]
    },
    {
     "name": "stderr",
     "output_type": "stream",
     "text": [
      "0-8 / 8 (4.00s)\u001b[0m\n",
      "===\n",
      "Records extracted: 8\u001b[0m\n",
      "Starting iteration with limit=1000 skip=0 ...\u001b[0m\n"
     ]
    },
    {
     "name": "stdout",
     "output_type": "stream",
     "text": [
      "++++++++ FINAL 8 Working ID(s) +++++++++++\n",
      "{'ur.010114623372.23', 'ur.011723536122.42', 'ur.0654234066.86', 'ur.016245743207.82', 'ur.014701300142.37', 'ur.01323545716.38', 'ur.015236176102.67', 'ur.013316477122.55'}\n"
     ]
    },
    {
     "name": "stderr",
     "output_type": "stream",
     "text": [
      "0-45 / 45 (0.52s)\u001b[0m\n",
      "===\n",
      "Records extracted: 45\u001b[0m\n",
      "Starting iteration with limit=1000 skip=0 ...\u001b[0m\n"
     ]
    },
    {
     "name": "stdout",
     "output_type": "stream",
     "text": [
      "Total of 45 unique ids for Daniel Benjamin \n"
     ]
    },
    {
     "name": "stderr",
     "output_type": "stream",
     "text": [
      "0-45 / 45 (0.31s)\u001b[0m\n",
      "===\n",
      "Records extracted: 45\u001b[0m\n",
      "Starting iteration with limit=1000 skip=0 ...\u001b[0m\n"
     ]
    },
    {
     "name": "stdout",
     "output_type": "stream",
     "text": [
      "++++++++ FINAL 45 Working ID(s) +++++++++++\n",
      "{'ur.01042432722.83', 'ur.010502163345.60', 'ur.01200510455.60', 'ur.0646756463.68', 'ur.014401570654.45', 'ur.0647674604.94', 'ur.013725525477.31', 'ur.07773172272.34', 'ur.012630105657.62', 'ur.01160656610.03', 'ur.01051404431.31', 'ur.015356020673.25', 'ur.011226302471.03', 'ur.014745447531.23', 'ur.013164571654.52', 'ur.0640026731.81', 'ur.013107651225.46', 'ur.011047545347.67', 'ur.010131725260.06', 'ur.015016516207.92', 'ur.01250423661.24', 'ur.010640750762.26', 'ur.0754217425.22', 'ur.011113656671.33', 'ur.016674441452.30', 'ur.010341701063.51', 'ur.01352067275.05', 'ur.015010023333.29', 'ur.01011310326.43', 'ur.010666345143.52', 'ur.013663145027.65', 'ur.0741040205.10', 'ur.011015046255.47', 'ur.012605001661.10', 'ur.011367115154.12', 'ur.015113236064.94', 'ur.010303352561.57', 'ur.016415321222.00', 'ur.07525100567.49', 'ur.015636070346.98', 'ur.013163012355.09', 'ur.013575367473.67', 'ur.012131747253.49', 'ur.01171466173.24', 'ur.012352670210.55'}\n"
     ]
    },
    {
     "name": "stderr",
     "output_type": "stream",
     "text": [
      "0-1 / 1 (2.26s)\u001b[0m\n",
      "===\n",
      "Records extracted: 1\u001b[0m\n",
      "Starting iteration with limit=1000 skip=0 ...\u001b[0m\n"
     ]
    },
    {
     "name": "stdout",
     "output_type": "stream",
     "text": [
      "Total of 1 unique ids for Ernesto Bernal-Mizrachi \n"
     ]
    },
    {
     "name": "stderr",
     "output_type": "stream",
     "text": [
      "0-1 / 1 (5.96s)\u001b[0m\n",
      "===\n",
      "Records extracted: 1\u001b[0m\n",
      "Starting iteration with limit=1000 skip=0 ...\u001b[0m\n"
     ]
    },
    {
     "name": "stdout",
     "output_type": "stream",
     "text": [
      "++++++++ FINAL 1 Working ID(s) +++++++++++\n",
      "{'ur.01101102662.02'}\n",
      "Ernesto Bernal-Mizrachi 9\n"
     ]
    },
    {
     "name": "stderr",
     "output_type": "stream",
     "text": [
      "0-11 / 11 (0.30s)\u001b[0m\n",
      "===\n",
      "Records extracted: 11\u001b[0m\n",
      "Starting iteration with limit=1000 skip=0 ...\u001b[0m\n"
     ]
    },
    {
     "name": "stdout",
     "output_type": "stream",
     "text": [
      "Total of 11 unique ids for Kirsten Bibbins-Domingo \n"
     ]
    },
    {
     "name": "stderr",
     "output_type": "stream",
     "text": [
      "0-11 / 11 (4.50s)\u001b[0m\n",
      "===\n",
      "Records extracted: 11\u001b[0m\n",
      "Starting iteration with limit=1000 skip=0 ...\u001b[0m\n"
     ]
    },
    {
     "name": "stdout",
     "output_type": "stream",
     "text": [
      "++++++++ FINAL 11 Working ID(s) +++++++++++\n",
      "{'ur.011662117511.24', 'ur.012167550763.44', 'ur.013004370055.80', 'ur.010620043557.11', 'ur.013605637416.58', 'ur.013365041525.99', 'ur.012110041001.14', 'ur.07627667077.61', 'ur.015146032405.83', 'ur.011466507167.37', 'ur.015175000373.61'}\n"
     ]
    },
    {
     "name": "stderr",
     "output_type": "stream",
     "text": [
      "0-3 / 3 (6.04s)\u001b[0m\n",
      "===\n",
      "Records extracted: 3\u001b[0m\n",
      "Starting iteration with limit=1000 skip=0 ...\u001b[0m\n"
     ]
    },
    {
     "name": "stdout",
     "output_type": "stream",
     "text": [
      "Total of 3 unique ids for Catherine Bollard \n"
     ]
    },
    {
     "name": "stderr",
     "output_type": "stream",
     "text": [
      "0-3 / 3 (0.24s)\u001b[0m\n",
      "===\n",
      "Records extracted: 3\u001b[0m\n",
      "Starting iteration with limit=1000 skip=0 ...\u001b[0m\n"
     ]
    },
    {
     "name": "stdout",
     "output_type": "stream",
     "text": [
      "++++++++ FINAL 3 Working ID(s) +++++++++++\n",
      "{'ur.01125327571.07', 'ur.014572073642.52', 'ur.016454700103.07'}\n"
     ]
    },
    {
     "name": "stderr",
     "output_type": "stream",
     "text": [
      "0-4 / 4 (4.60s)\u001b[0m\n",
      "===\n",
      "Records extracted: 4\u001b[0m\n",
      "Starting iteration with limit=1000 skip=0 ...\u001b[0m\n"
     ]
    },
    {
     "name": "stdout",
     "output_type": "stream",
     "text": [
      "Total of 4 unique ids for Marcus Bosenberg \n"
     ]
    },
    {
     "name": "stderr",
     "output_type": "stream",
     "text": [
      "0-4 / 4 (5.90s)\u001b[0m\n",
      "===\n",
      "Records extracted: 4\u001b[0m\n",
      "Starting iteration with limit=1000 skip=0 ...\u001b[0m\n"
     ]
    },
    {
     "name": "stdout",
     "output_type": "stream",
     "text": [
      "++++++++ FINAL 4 Working ID(s) +++++++++++\n",
      "{'ur.012612053076.87', 'ur.0661634627.36', 'ur.07626302503.23', 'ur.012625243034.32'}\n"
     ]
    },
    {
     "name": "stderr",
     "output_type": "stream",
     "text": [
      "0-1 / 1 (0.33s)\u001b[0m\n",
      "===\n",
      "Records extracted: 1\u001b[0m\n",
      "Starting iteration with limit=1000 skip=0 ...\u001b[0m\n"
     ]
    },
    {
     "name": "stdout",
     "output_type": "stream",
     "text": [
      "Total of 1 unique ids for Russ Carstens \n"
     ]
    },
    {
     "name": "stderr",
     "output_type": "stream",
     "text": [
      "0-1 / 1 (4.25s)\u001b[0m\n",
      "===\n",
      "Records extracted: 1\u001b[0m\n",
      "Starting iteration with limit=1000 skip=0 ...\u001b[0m\n"
     ]
    },
    {
     "name": "stdout",
     "output_type": "stream",
     "text": [
      "++++++++ FINAL 1 Working ID(s) +++++++++++\n",
      "{'ur.011070650007.71'}\n",
      "Russ Carstens 10\n"
     ]
    },
    {
     "name": "stderr",
     "output_type": "stream",
     "text": [
      "===\n",
      "Records extracted: 0\u001b[0m\n",
      "Starting iteration with limit=1000 skip=0 ...\u001b[0m\n"
     ]
    },
    {
     "name": "stdout",
     "output_type": "stream",
     "text": [
      "Total of 0 unique ids for Juan CeledÃ³n \n"
     ]
    },
    {
     "name": "stderr",
     "output_type": "stream",
     "text": [
      "\n",
      ">>>[Dimcli tip] An error occurred with the batch '0-1000'. Consider using the 'limit' argument to retrieve fewer records per iteration, or use 'force=True' to ignore errors and continue the extraction.\u001b[0m\n",
      "Starting iteration with limit=1000 skip=0 ...\u001b[0m\n"
     ]
    },
    {
     "name": "stdout",
     "output_type": "stream",
     "text": [
      "Query Error\n",
      "1 QuerySyntaxError found\n",
      "\n",
      "1 ParserError found\n",
      "  * [Line 1:32] (']') no viable alternative at input '[]'\n",
      "An error occurred for Juan CeledÃ³n: 'researchers'\n"
     ]
    },
    {
     "name": "stderr",
     "output_type": "stream",
     "text": [
      "0-52 / 52 (0.27s)\u001b[0m\n",
      "===\n",
      "Records extracted: 52\u001b[0m\n",
      "Starting iteration with limit=1000 skip=0 ...\u001b[0m\n"
     ]
    },
    {
     "name": "stdout",
     "output_type": "stream",
     "text": [
      "Total of 52 unique ids for Benjamin Chen \n"
     ]
    },
    {
     "name": "stderr",
     "output_type": "stream",
     "text": [
      "0-52 / 52 (0.28s)\u001b[0m\n",
      "===\n",
      "Records extracted: 52\u001b[0m\n",
      "Starting iteration with limit=1000 skip=0 ...\u001b[0m\n"
     ]
    },
    {
     "name": "stdout",
     "output_type": "stream",
     "text": [
      "++++++++ FINAL 52 Working ID(s) +++++++++++\n",
      "{'ur.012645626331.55', 'ur.016341110423.43', 'ur.014556777204.65', 'ur.013356311117.19', 'ur.01111377064.18', 'ur.01035610077.82', 'ur.010763412742.55', 'ur.013543246075.71', 'ur.01045745630.53', 'ur.016556273514.76', 'ur.0663516215.31', 'ur.010230012513.17', 'ur.015231445714.58', 'ur.0617745353.53', 'ur.016704547434.74', 'ur.010650353063.35', 'ur.0662111463.23', 'ur.01100027527.09', 'ur.015767177460.34', 'ur.01032705326.08', 'ur.014672665640.41', 'ur.013232273260.58', 'ur.013375066734.70', 'ur.013021732741.36', 'ur.01267474050.35', 'ur.013132566021.78', 'ur.013655455072.10', 'ur.012122371415.87', 'ur.011256323613.48', 'ur.0741746534.67', 'ur.012707612721.40', 'ur.01236145002.53', 'ur.012431746614.21', 'ur.01126141230.71', 'ur.07643422517.86', 'ur.01173627414.69', 'ur.07655037655.64', 'ur.014076660761.90', 'ur.014144227676.68', 'ur.016523277770.87', 'ur.010146763363.18', 'ur.01063757542.44', 'ur.013172707616.12', 'ur.014701561147.47', 'ur.010356542334.68', 'ur.011342222303.65', 'ur.013462765307.10', 'ur.07554652273.30', 'ur.014340445665.32', 'ur.012660107241.34', 'ur.011076205102.29', 'ur.01127537647.48'}\n"
     ]
    },
    {
     "name": "stderr",
     "output_type": "stream",
     "text": [
      "0-30 / 30 (4.55s)\u001b[0m\n",
      "===\n",
      "Records extracted: 30\u001b[0m\n",
      "Starting iteration with limit=1000 skip=0 ...\u001b[0m\n"
     ]
    },
    {
     "name": "stdout",
     "output_type": "stream",
     "text": [
      "Total of 30 unique ids for Emily Cheng \n"
     ]
    },
    {
     "name": "stderr",
     "output_type": "stream",
     "text": [
      "0-30 / 30 (0.34s)\u001b[0m\n",
      "===\n",
      "Records extracted: 30\u001b[0m\n",
      "Starting iteration with limit=1000 skip=0 ...\u001b[0m\n"
     ]
    },
    {
     "name": "stdout",
     "output_type": "stream",
     "text": [
      "++++++++ FINAL 30 Working ID(s) +++++++++++\n",
      "{'ur.011077241273.49', 'ur.010152225303.20', 'ur.010053141407.24', 'ur.013026171743.08', 'ur.014662417550.21', 'ur.012502362216.76', 'ur.011652734366.14', 'ur.015745321456.42', 'ur.0707153127.19', 'ur.01236242067.49', 'ur.015211343572.07', 'ur.013353310640.55', 'ur.015007413250.17', 'ur.01175711362.15', 'ur.012771530163.81', 'ur.012034163325.54', 'ur.010037152515.30', 'ur.016470272214.07', 'ur.015207447550.27', 'ur.011471146330.64', 'ur.01173324365.15', 'ur.010322517442.79', 'ur.0767300454.60', 'ur.012545135466.31', 'ur.013422275754.06', 'ur.013547430620.17', 'ur.015270130104.61', 'ur.014606276437.82', 'ur.014240332477.14', 'ur.013725131754.56'}\n"
     ]
    },
    {
     "name": "stderr",
     "output_type": "stream",
     "text": [
      "0-5 / 5 (4.24s)\u001b[0m\n",
      "===\n",
      "Records extracted: 5\u001b[0m\n",
      "Starting iteration with limit=1000 skip=0 ...\u001b[0m\n"
     ]
    },
    {
     "name": "stdout",
     "output_type": "stream",
     "text": [
      "Total of 5 unique ids for Charleen Chu \n"
     ]
    },
    {
     "name": "stderr",
     "output_type": "stream",
     "text": [
      "0-5 / 5 (5.93s)\u001b[0m\n",
      "===\n",
      "Records extracted: 5\u001b[0m\n",
      "Starting iteration with limit=1000 skip=0 ...\u001b[0m\n"
     ]
    },
    {
     "name": "stdout",
     "output_type": "stream",
     "text": [
      "++++++++ FINAL 5 Working ID(s) +++++++++++\n",
      "{'ur.016554700671.07', 'ur.012310503251.85', 'ur.07665720167.12', 'ur.011677571145.09', 'ur.012616616711.93'}\n"
     ]
    },
    {
     "name": "stderr",
     "output_type": "stream",
     "text": [
      "0-4 / 4 (6.02s)\u001b[0m\n",
      "===\n",
      "Records extracted: 4\u001b[0m\n",
      "Starting iteration with limit=1000 skip=0 ...\u001b[0m\n"
     ]
    },
    {
     "name": "stdout",
     "output_type": "stream",
     "text": [
      "Total of 4 unique ids for John Chute \n"
     ]
    },
    {
     "name": "stderr",
     "output_type": "stream",
     "text": [
      "0-4 / 4 (0.23s)\u001b[0m\n",
      "===\n",
      "Records extracted: 4\u001b[0m\n",
      "Starting iteration with limit=1000 skip=0 ...\u001b[0m\n"
     ]
    },
    {
     "name": "stdout",
     "output_type": "stream",
     "text": [
      "++++++++ FINAL 4 Working ID(s) +++++++++++\n",
      "{'ur.014706774767.94', 'ur.012466370017.85', 'ur.01267170510.02', 'ur.011202477505.32'}\n"
     ]
    },
    {
     "name": "stderr",
     "output_type": "stream",
     "text": [
      "0-89 / 89 (0.34s)\u001b[0m\n",
      "===\n",
      "Records extracted: 89\u001b[0m\n",
      "Starting iteration with limit=1000 skip=0 ...\u001b[0m\n"
     ]
    },
    {
     "name": "stdout",
     "output_type": "stream",
     "text": [
      "Total of 89 unique ids for E. Connolly \n"
     ]
    },
    {
     "name": "stderr",
     "output_type": "stream",
     "text": [
      "0-89 / 89 (2.78s)\u001b[0m\n",
      "===\n",
      "Records extracted: 89\u001b[0m\n",
      "Starting iteration with limit=1000 skip=0 ...\u001b[0m\n"
     ]
    },
    {
     "name": "stdout",
     "output_type": "stream",
     "text": [
      "++++++++ FINAL 89 Working ID(s) +++++++++++\n",
      "{'ur.010256557604.72', 'ur.016026505575.86', 'ur.01061771243.06', 'ur.010133533754.38', 'ur.010254527532.17', 'ur.01120613417.21', 'ur.010253534214.83', 'ur.01260575206.44', 'ur.015372712172.51', 'ur.0600133466.35', 'ur.016325244120.33', 'ur.015637314565.72', 'ur.016543174646.97', 'ur.01360427560.42', 'ur.015501156734.73', 'ur.012410754335.69', 'ur.01304457433.99', 'ur.013250503772.27', 'ur.012003623614.23', 'ur.01357640622.40', 'ur.0703352645.90', 'ur.0764152422.21', 'ur.01332137026.65', 'ur.014160434766.20', 'ur.016205366774.04', 'ur.011322413625.00', 'ur.01004044012.26', 'ur.07633731020.48', 'ur.07403314445.56', 'ur.013476151675.10', 'ur.015347313430.21', 'ur.014372232466.32', 'ur.010046423511.45', 'ur.012152775167.59', 'ur.0665423726.39', 'ur.011755410337.63', 'ur.014507767541.11', 'ur.011723475657.39', 'ur.010306476477.91', 'ur.01013634007.24', 'ur.015030442204.26', 'ur.013264460061.68', 'ur.010000760237.43', 'ur.016336026355.43', 'ur.011174275035.34', 'ur.011507466721.30', 'ur.0642047743.02', 'ur.016074051425.11', 'ur.010350453277.09', 'ur.01362521262.04', 'ur.011542700775.16', 'ur.01001440310.73', 'ur.014521434375.31', 'ur.01235515171.86', 'ur.014531012437.36', 'ur.012453123372.34', 'ur.015635363123.31', 'ur.013113401373.49', 'ur.014774265611.81', 'ur.016334245634.88', 'ur.07465221372.58', 'ur.012212717125.05', 'ur.0104117546.35', 'ur.07764445063.21', 'ur.014645303335.26', 'ur.0620327124.38', 'ur.011655542772.63', 'ur.0612131132.25', 'ur.010577530165.28', 'ur.01276250061.13', 'ur.013454767252.25', 'ur.01116016001.89', 'ur.010411450651.27', 'ur.012636026063.17', 'ur.014327364023.67', 'ur.01173232612.67', 'ur.01120262675.65', 'ur.01165365333.54', 'ur.0112051146.44', 'ur.014205744233.58', 'ur.012641200403.79', 'ur.015620064177.31', 'ur.011526315467.35', 'ur.076723762.38', 'ur.07431576321.93', 'ur.0707557042.21', 'ur.01250527125.40', 'ur.0664421072.01', 'ur.015434661677.12'}\n"
     ]
    },
    {
     "name": "stderr",
     "output_type": "stream",
     "text": [
      "0-3 / 3 (1.65s)\u001b[0m\n",
      "===\n",
      "Records extracted: 3\u001b[0m\n",
      "Starting iteration with limit=1000 skip=0 ...\u001b[0m\n"
     ]
    },
    {
     "name": "stdout",
     "output_type": "stream",
     "text": [
      "Total of 3 unique ids for Jonathan Dranoff \n"
     ]
    },
    {
     "name": "stderr",
     "output_type": "stream",
     "text": [
      "0-3 / 3 (0.32s)\u001b[0m\n",
      "===\n",
      "Records extracted: 3\u001b[0m\n",
      "Starting iteration with limit=1000 skip=0 ...\u001b[0m\n"
     ]
    },
    {
     "name": "stdout",
     "output_type": "stream",
     "text": [
      "++++++++ FINAL 3 Working ID(s) +++++++++++\n",
      "{'ur.07767217346.34', 'ur.010577325255.79', 'ur.0703642674.64'}\n"
     ]
    },
    {
     "name": "stderr",
     "output_type": "stream",
     "text": [
      "0-98 / 98 (1.01s)\u001b[0m\n",
      "===\n",
      "Records extracted: 98\u001b[0m\n",
      "Starting iteration with limit=1000 skip=0 ...\u001b[0m\n"
     ]
    },
    {
     "name": "stdout",
     "output_type": "stream",
     "text": [
      "Total of 98 unique ids for R. Dudley \n"
     ]
    },
    {
     "name": "stderr",
     "output_type": "stream",
     "text": [
      "0-98 / 98 (2.02s)\u001b[0m\n",
      "===\n",
      "Records extracted: 98\u001b[0m\n",
      "Starting iteration with limit=1000 skip=0 ...\u001b[0m\n"
     ]
    },
    {
     "name": "stdout",
     "output_type": "stream",
     "text": [
      "++++++++ FINAL 98 Working ID(s) +++++++++++\n",
      "{'ur.016020446166.78', 'ur.01150470637.49', 'ur.01305607016.84', 'ur.011750620036.23', 'ur.0705530623.02', 'ur.010007551273.04', 'ur.01023770631.34', 'ur.012440106145.12', 'ur.016607710162.71', 'ur.016012327562.89', 'ur.011755075613.74', 'ur.014603716041.05', 'ur.014024037407.06', 'ur.07511727653.18', 'ur.015501012745.56', 'ur.012060616316.67', 'ur.011543373533.53', 'ur.07634717004.85', 'ur.015305706727.34', 'ur.013074210646.32', 'ur.012766762715.78', 'ur.01336013025.66', 'ur.013703007567.32', 'ur.01245562273.02', 'ur.01342170754.11', 'ur.07731610667.68', 'ur.015671451417.83', 'ur.01225561624.12', 'ur.011050062076.99', 'ur.014235107615.39', 'ur.013225206576.19', 'ur.0100050111.56', 'ur.01001744577.90', 'ur.013514105211.47', 'ur.01155255327.14', 'ur.0733077371.12', 'ur.010263710201.21', 'ur.0605133623.24', 'ur.01306275226.57', 'ur.016275674113.09', 'ur.012153376451.13', 'ur.013412552403.09', 'ur.014400464101.84', 'ur.016450164015.47', 'ur.010147203541.90', 'ur.0604413006.33', 'ur.016400551767.76', 'ur.01177013055.95', 'ur.014262041702.46', 'ur.0605133605.51', 'ur.07366474252.78', 'ur.013651073047.72', 'ur.014256152007.39', 'ur.012420743024.42', 'ur.01012255523.46', 'ur.010320510167.33', 'ur.012620300425.26', 'ur.01116103516.35', 'ur.015221776533.60', 'ur.011552472473.12', 'ur.01175723617.97', 'ur.010325020211.94', 'ur.0720602264.73', 'ur.015514740226.97', 'ur.010736544543.36', 'ur.060724042.68', 'ur.010432765306.29', 'ur.0713472012.43', 'ur.013703620131.29', 'ur.01175755105.11', 'ur.016001236742.30', 'ur.014043621111.38', 'ur.014611360515.72', 'ur.013213757750.37', 'ur.01155736121.74', 'ur.0576110735.02', 'ur.014162476042.54', 'ur.0617571565.12', 'ur.01120547146.64', 'ur.01274177516.34', 'ur.012070715377.10', 'ur.016516247345.58', 'ur.01166660706.71', 'ur.07632126113.62', 'ur.066547252.36', 'ur.01334167026.67', 'ur.0610571240.94', 'ur.01267716007.02', 'ur.014567100615.80', 'ur.0642145372.06', 'ur.014174702201.42', 'ur.012722365165.48', 'ur.013666112663.63', 'ur.012755245535.27', 'ur.014210314304.47', 'ur.07671302115.36', 'ur.012567533426.98', 'ur.011157042344.50'}\n"
     ]
    },
    {
     "name": "stderr",
     "output_type": "stream",
     "text": [
      "0-14 / 14 (2.47s)\u001b[0m\n",
      "===\n",
      "Records extracted: 14\u001b[0m\n",
      "Starting iteration with limit=1000 skip=0 ...\u001b[0m\n"
     ]
    },
    {
     "name": "stdout",
     "output_type": "stream",
     "text": [
      "Total of 14 unique ids for Charles Eberhart \n"
     ]
    },
    {
     "name": "stderr",
     "output_type": "stream",
     "text": [
      "0-14 / 14 (3.45s)\u001b[0m\n",
      "===\n",
      "Records extracted: 14\u001b[0m\n",
      "Starting iteration with limit=1000 skip=0 ...\u001b[0m\n"
     ]
    },
    {
     "name": "stdout",
     "output_type": "stream",
     "text": [
      "++++++++ FINAL 14 Working ID(s) +++++++++++\n",
      "{'ur.07752651725.22', 'ur.07404437221.02', 'ur.015515754771.14', 'ur.016173711045.31', 'ur.015063574235.21', 'ur.013537206721.25', 'ur.013007244075.48', 'ur.073474445.43', 'ur.012466360175.04', 'ur.016515756243.99', 'ur.014755601615.45', 'ur.01204052502.48', 'ur.0775321062.58', 'ur.010703226401.06'}\n"
     ]
    },
    {
     "name": "stderr",
     "output_type": "stream",
     "text": [
      "0-2 / 2 (0.27s)\u001b[0m\n",
      "===\n",
      "Records extracted: 2\u001b[0m\n",
      "Starting iteration with limit=1000 skip=0 ...\u001b[0m\n"
     ]
    },
    {
     "name": "stdout",
     "output_type": "stream",
     "text": [
      "Total of 2 unique ids for Charles Esmon \n"
     ]
    },
    {
     "name": "stderr",
     "output_type": "stream",
     "text": [
      "0-2 / 2 (0.74s)\u001b[0m\n",
      "===\n",
      "Records extracted: 2\u001b[0m\n",
      "Starting iteration with limit=1000 skip=0 ...\u001b[0m\n"
     ]
    },
    {
     "name": "stdout",
     "output_type": "stream",
     "text": [
      "++++++++ FINAL 2 Working ID(s) +++++++++++\n",
      "{'ur.011240165047.96', 'ur.01065507416.27'}\n"
     ]
    },
    {
     "name": "stderr",
     "output_type": "stream",
     "text": [
      "0-6 / 6 (2.09s)\u001b[0m\n",
      "===\n",
      "Records extracted: 6\u001b[0m\n",
      "Starting iteration with limit=1000 skip=0 ...\u001b[0m\n"
     ]
    },
    {
     "name": "stdout",
     "output_type": "stream",
     "text": [
      "Total of 6 unique ids for Francisco Esteva \n"
     ]
    },
    {
     "name": "stderr",
     "output_type": "stream",
     "text": [
      "0-6 / 6 (2.42s)\u001b[0m\n",
      "===\n",
      "Records extracted: 6\u001b[0m\n",
      "Starting iteration with limit=1000 skip=0 ...\u001b[0m\n"
     ]
    },
    {
     "name": "stdout",
     "output_type": "stream",
     "text": [
      "++++++++ FINAL 6 Working ID(s) +++++++++++\n",
      "{'ur.013323512267.01', 'ur.011777630457.00', 'ur.07623456111.49', 'ur.015076644623.60', 'ur.01251563127.31', 'ur.01130347417.06'}\n"
     ]
    },
    {
     "name": "stderr",
     "output_type": "stream",
     "text": [
      "0-1 / 1 (3.53s)\u001b[0m\n",
      "===\n",
      "Records extracted: 1\u001b[0m\n",
      "Starting iteration with limit=1000 skip=0 ...\u001b[0m\n"
     ]
    },
    {
     "name": "stdout",
     "output_type": "stream",
     "text": [
      "Total of 1 unique ids for Nikolaos Frangogiannis \n"
     ]
    },
    {
     "name": "stderr",
     "output_type": "stream",
     "text": [
      "0-1 / 1 (6.01s)\u001b[0m\n",
      "===\n",
      "Records extracted: 1\u001b[0m\n",
      "Starting iteration with limit=1000 skip=0 ...\u001b[0m\n"
     ]
    },
    {
     "name": "stdout",
     "output_type": "stream",
     "text": [
      "++++++++ FINAL 1 Working ID(s) +++++++++++\n",
      "{'ur.01255200715.86'}\n",
      "Nikolaos Frangogiannis 11\n"
     ]
    },
    {
     "name": "stderr",
     "output_type": "stream",
     "text": [
      "0-8 / 8 (0.30s)\u001b[0m\n",
      "===\n",
      "Records extracted: 8\u001b[0m\n",
      "Starting iteration with limit=1000 skip=0 ...\u001b[0m\n"
     ]
    },
    {
     "name": "stdout",
     "output_type": "stream",
     "text": [
      "Total of 8 unique ids for Ali Gharavi \n"
     ]
    },
    {
     "name": "stderr",
     "output_type": "stream",
     "text": [
      "0-8 / 8 (4.25s)\u001b[0m\n",
      "===\n",
      "Records extracted: 8\u001b[0m\n",
      "Starting iteration with limit=1000 skip=0 ...\u001b[0m\n"
     ]
    },
    {
     "name": "stdout",
     "output_type": "stream",
     "text": [
      "++++++++ FINAL 8 Working ID(s) +++++++++++\n",
      "{'ur.013034672046.27', 'ur.014715525515.53', 'ur.01067331531.54', 'ur.012203472074.86', 'ur.011242535717.49', 'ur.015454510707.33', 'ur.016504451471.41', 'ur.07604601135.47'}\n"
     ]
    },
    {
     "name": "stderr",
     "output_type": "stream",
     "text": [
      "0-21 / 21 (0.33s)\u001b[0m\n",
      "===\n",
      "Records extracted: 21\u001b[0m\n",
      "Starting iteration with limit=1000 skip=0 ...\u001b[0m\n"
     ]
    },
    {
     "name": "stdout",
     "output_type": "stream",
     "text": [
      "Total of 21 unique ids for Larry Allen \n"
     ]
    },
    {
     "name": "stderr",
     "output_type": "stream",
     "text": [
      "0-21 / 21 (4.45s)\u001b[0m\n",
      "===\n",
      "Records extracted: 21\u001b[0m\n",
      "Starting iteration with limit=1000 skip=0 ...\u001b[0m\n"
     ]
    },
    {
     "name": "stdout",
     "output_type": "stream",
     "text": [
      "++++++++ FINAL 21 Working ID(s) +++++++++++\n",
      "{'ur.01115052277.87', 'ur.013502430117.35', 'ur.064127637.85', 'ur.01046050604.68', 'ur.01343351501.36', 'ur.013757451311.14', 'ur.013336465747.44', 'ur.076367255.81', 'ur.050060145.47', 'ur.051747154.71', 'ur.01043671326.75', 'ur.014303374635.04', 'ur.01166451750.69', 'ur.0640450475.51', 'ur.012321433375.86', 'ur.01344335544.34', 'ur.0631274227.29', 'ur.011733514735.08', 'ur.01357363231.81', 'ur.01254662250.57', 'ur.013167563510.50'}\n"
     ]
    },
    {
     "name": "stderr",
     "output_type": "stream",
     "text": [
      "0-8 / 8 (6.02s)\u001b[0m\n",
      "===\n",
      "Records extracted: 8\u001b[0m\n",
      "Starting iteration with limit=1000 skip=0 ...\u001b[0m\n"
     ]
    },
    {
     "name": "stdout",
     "output_type": "stream",
     "text": [
      "Total of 8 unique ids for Rishi Arora \n"
     ]
    },
    {
     "name": "stderr",
     "output_type": "stream",
     "text": [
      "0-8 / 8 (0.26s)\u001b[0m\n",
      "===\n",
      "Records extracted: 8\u001b[0m\n",
      "Starting iteration with limit=1000 skip=0 ...\u001b[0m\n"
     ]
    },
    {
     "name": "stdout",
     "output_type": "stream",
     "text": [
      "++++++++ FINAL 8 Working ID(s) +++++++++++\n",
      "{'ur.015033641750.49', 'ur.012253756633.96', 'ur.013675356511.86', 'ur.0645016565.30', 'ur.016162156067.01', 'ur.01352174570.70', 'ur.01115173472.23', 'ur.016171147730.67'}\n"
     ]
    },
    {
     "name": "stderr",
     "output_type": "stream",
     "text": [
      "0-7 / 7 (4.30s)\u001b[0m\n",
      "===\n",
      "Records extracted: 7\u001b[0m\n",
      "Starting iteration with limit=1000 skip=0 ...\u001b[0m\n"
     ]
    },
    {
     "name": "stdout",
     "output_type": "stream",
     "text": [
      "Total of 7 unique ids for Themistocles Assimes \n"
     ]
    },
    {
     "name": "stderr",
     "output_type": "stream",
     "text": [
      "0-7 / 7 (0.29s)\u001b[0m\n",
      "===\n",
      "Records extracted: 7\u001b[0m\n",
      "Starting iteration with limit=1000 skip=0 ...\u001b[0m\n"
     ]
    },
    {
     "name": "stdout",
     "output_type": "stream",
     "text": [
      "++++++++ FINAL 7 Working ID(s) +++++++++++\n",
      "{'ur.015174327067.75', 'ur.07627317045.22', 'ur.012274663705.34', 'ur.0716373565.06', 'ur.012525677273.14', 'ur.010316213605.23', 'ur.015036015303.69'}\n"
     ]
    },
    {
     "name": "stderr",
     "output_type": "stream",
     "text": [
      "0-4 / 4 (0.25s)\u001b[0m\n",
      "===\n",
      "Records extracted: 4\u001b[0m\n",
      "Starting iteration with limit=1000 skip=0 ...\u001b[0m\n"
     ]
    },
    {
     "name": "stdout",
     "output_type": "stream",
     "text": [
      "Total of 4 unique ids for Jared Baeten \n"
     ]
    },
    {
     "name": "stderr",
     "output_type": "stream",
     "text": [
      "0-4 / 4 (2.70s)\u001b[0m\n",
      "===\n",
      "Records extracted: 4\u001b[0m\n",
      "Starting iteration with limit=1000 skip=0 ...\u001b[0m\n"
     ]
    },
    {
     "name": "stdout",
     "output_type": "stream",
     "text": [
      "++++++++ FINAL 4 Working ID(s) +++++++++++\n",
      "{'ur.0777220652.28', 'ur.016326651343.02', 'ur.015627006133.13', 'ur.012117051447.15'}\n"
     ]
    },
    {
     "name": "stderr",
     "output_type": "stream",
     "text": [
      "0-7 / 7 (6.07s)\u001b[0m\n",
      "===\n",
      "Records extracted: 7\u001b[0m\n",
      "Starting iteration with limit=1000 skip=0 ...\u001b[0m\n"
     ]
    },
    {
     "name": "stdout",
     "output_type": "stream",
     "text": [
      "Total of 7 unique ids for Christopher Barbieri \n"
     ]
    },
    {
     "name": "stderr",
     "output_type": "stream",
     "text": [
      "0-7 / 7 (0.23s)\u001b[0m\n",
      "===\n",
      "Records extracted: 7\u001b[0m\n",
      "Starting iteration with limit=1000 skip=0 ...\u001b[0m\n"
     ]
    },
    {
     "name": "stdout",
     "output_type": "stream",
     "text": [
      "++++++++ FINAL 7 Working ID(s) +++++++++++\n",
      "{'ur.015045623163.51', 'ur.0662644425.03', 'ur.01020147072.08', 'ur.012661201067.39', 'ur.012603744023.58', 'ur.014675122031.94', 'ur.015457323342.22'}\n"
     ]
    },
    {
     "name": "stderr",
     "output_type": "stream",
     "text": [
      "0-1 / 1 (0.30s)\u001b[0m\n",
      "===\n",
      "Records extracted: 1\u001b[0m\n",
      "Starting iteration with limit=1000 skip=0 ...\u001b[0m\n"
     ]
    },
    {
     "name": "stdout",
     "output_type": "stream",
     "text": [
      "Total of 1 unique ids for Julie Bastarache \n"
     ]
    },
    {
     "name": "stderr",
     "output_type": "stream",
     "text": [
      "0-1 / 1 (4.47s)\u001b[0m\n",
      "===\n",
      "Records extracted: 1\u001b[0m\n",
      "Starting iteration with limit=1000 skip=0 ...\u001b[0m\n"
     ]
    },
    {
     "name": "stdout",
     "output_type": "stream",
     "text": [
      "++++++++ FINAL 1 Working ID(s) +++++++++++\n",
      "{'ur.0777464651.51'}\n",
      "Julie Bastarache 12\n"
     ]
    },
    {
     "name": "stderr",
     "output_type": "stream",
     "text": [
      "0-3 / 3 (0.29s)\u001b[0m\n",
      "===\n",
      "Records extracted: 3\u001b[0m\n",
      "Starting iteration with limit=1000 skip=0 ...\u001b[0m\n"
     ]
    },
    {
     "name": "stdout",
     "output_type": "stream",
     "text": [
      "Total of 3 unique ids for Justin Bekelman \n"
     ]
    },
    {
     "name": "stderr",
     "output_type": "stream",
     "text": [
      "0-3 / 3 (4.21s)\u001b[0m\n",
      "===\n",
      "Records extracted: 3\u001b[0m\n",
      "Starting iteration with limit=1000 skip=0 ...\u001b[0m\n"
     ]
    },
    {
     "name": "stdout",
     "output_type": "stream",
     "text": [
      "++++++++ FINAL 3 Working ID(s) +++++++++++\n",
      "{'ur.012261633067.59', 'ur.01127702261.71', 'ur.010074117776.04'}\n"
     ]
    },
    {
     "name": "stderr",
     "output_type": "stream",
     "text": [
      "0-7 / 7 (0.31s)\u001b[0m\n",
      "===\n",
      "Records extracted: 7\u001b[0m\n",
      "Starting iteration with limit=1000 skip=0 ...\u001b[0m\n"
     ]
    },
    {
     "name": "stdout",
     "output_type": "stream",
     "text": [
      "Total of 7 unique ids for Tammie Benzinger \n"
     ]
    },
    {
     "name": "stderr",
     "output_type": "stream",
     "text": [
      "0-7 / 7 (0.23s)\u001b[0m\n",
      "===\n",
      "Records extracted: 7\u001b[0m\n",
      "Starting iteration with limit=1000 skip=0 ...\u001b[0m\n"
     ]
    },
    {
     "name": "stdout",
     "output_type": "stream",
     "text": [
      "++++++++ FINAL 7 Working ID(s) +++++++++++\n",
      "{'ur.014111173603.11', 'ur.012064164650.21', 'ur.012407653414.26', 'ur.011133265577.64', 'ur.013546553477.14', 'ur.015306763334.69', 'ur.015703534464.49'}\n"
     ]
    },
    {
     "name": "stderr",
     "output_type": "stream",
     "text": [
      "0-1 / 1 (2.77s)\u001b[0m\n",
      "===\n",
      "Records extracted: 1\u001b[0m\n",
      "Starting iteration with limit=1000 skip=0 ...\u001b[0m\n"
     ]
    },
    {
     "name": "stdout",
     "output_type": "stream",
     "text": [
      "Total of 1 unique ids for Gregory Bisson \n"
     ]
    },
    {
     "name": "stderr",
     "output_type": "stream",
     "text": [
      "0-1 / 1 (1.79s)\u001b[0m\n",
      "===\n",
      "Records extracted: 1\u001b[0m\n",
      "Starting iteration with limit=1000 skip=0 ...\u001b[0m\n"
     ]
    },
    {
     "name": "stdout",
     "output_type": "stream",
     "text": [
      "++++++++ FINAL 1 Working ID(s) +++++++++++\n",
      "{'ur.01033115570.02'}\n",
      "Gregory Bisson 13\n"
     ]
    },
    {
     "name": "stderr",
     "output_type": "stream",
     "text": [
      "0-10 / 10 (4.56s)\u001b[0m\n",
      "===\n",
      "Records extracted: 10\u001b[0m\n",
      "Starting iteration with limit=1000 skip=0 ...\u001b[0m\n"
     ]
    },
    {
     "name": "stdout",
     "output_type": "stream",
     "text": [
      "Total of 10 unique ids for David Boulware \n"
     ]
    },
    {
     "name": "stderr",
     "output_type": "stream",
     "text": [
      "0-10 / 10 (5.98s)\u001b[0m\n",
      "===\n",
      "Records extracted: 10\u001b[0m\n",
      "Starting iteration with limit=1000 skip=0 ...\u001b[0m\n"
     ]
    },
    {
     "name": "stdout",
     "output_type": "stream",
     "text": [
      "++++++++ FINAL 10 Working ID(s) +++++++++++\n",
      "{'ur.012476133346.87', 'ur.013460613171.25', 'ur.016401560221.75', 'ur.014136165073.78', 'ur.012323621511.71', 'ur.015277573441.73', 'ur.01040774640.13', 'ur.01007573427.46', 'ur.011255170225.35', 'ur.01361554135.48'}\n"
     ]
    },
    {
     "name": "stderr",
     "output_type": "stream",
     "text": [
      "0-17 / 17 (0.29s)\u001b[0m\n",
      "===\n",
      "Records extracted: 17\u001b[0m\n",
      "Starting iteration with limit=1000 skip=0 ...\u001b[0m\n"
     ]
    },
    {
     "name": "stdout",
     "output_type": "stream",
     "text": [
      "Total of 17 unique ids for Scott Boyd \n"
     ]
    },
    {
     "name": "stderr",
     "output_type": "stream",
     "text": [
      "0-17 / 17 (4.24s)\u001b[0m\n",
      "===\n",
      "Records extracted: 17\u001b[0m\n",
      "Starting iteration with limit=1000 skip=0 ...\u001b[0m\n"
     ]
    },
    {
     "name": "stdout",
     "output_type": "stream",
     "text": [
      "++++++++ FINAL 17 Working ID(s) +++++++++++\n",
      "{'ur.014505361232.00', 'ur.0712601532.19', 'ur.01217326375.99', 'ur.010453353043.54', 'ur.0713601023.10', 'ur.013677413727.55', 'ur.01361535703.93', 'ur.0762403266.54', 'ur.0606307447.32', 'ur.01207562056.27', 'ur.010312721132.26', 'ur.07401320270.36', 'ur.0756420600.50', 'ur.01372607571.31', 'ur.013761755132.69', 'ur.012246672045.53', 'ur.015707401746.17'}\n"
     ]
    },
    {
     "name": "stderr",
     "output_type": "stream",
     "text": [
      "0-2 / 2 (0.27s)\u001b[0m\n",
      "===\n",
      "Records extracted: 2\u001b[0m\n",
      "Starting iteration with limit=1000 skip=0 ...\u001b[0m\n"
     ]
    },
    {
     "name": "stdout",
     "output_type": "stream",
     "text": [
      "Total of 2 unique ids for Katrin Chua \n"
     ]
    },
    {
     "name": "stderr",
     "output_type": "stream",
     "text": [
      "0-2 / 2 (4.24s)\u001b[0m\n",
      "===\n",
      "Records extracted: 2\u001b[0m\n",
      "Starting iteration with limit=1000 skip=0 ...\u001b[0m\n"
     ]
    },
    {
     "name": "stdout",
     "output_type": "stream",
     "text": [
      "++++++++ FINAL 2 Working ID(s) +++++++++++\n",
      "{'ur.0774552402.95', 'ur.015466373262.79'}\n"
     ]
    },
    {
     "name": "stderr",
     "output_type": "stream",
     "text": [
      "0-3 / 3 (6.05s)\u001b[0m\n",
      "===\n",
      "Records extracted: 3\u001b[0m\n",
      "Starting iteration with limit=1000 skip=0 ...\u001b[0m\n"
     ]
    },
    {
     "name": "stdout",
     "output_type": "stream",
     "text": [
      "Total of 3 unique ids for Sara Cosgrove \n"
     ]
    },
    {
     "name": "stderr",
     "output_type": "stream",
     "text": [
      "0-3 / 3 (5.98s)\u001b[0m\n",
      "===\n",
      "Records extracted: 3\u001b[0m\n",
      "Starting iteration with limit=1000 skip=0 ...\u001b[0m\n"
     ]
    },
    {
     "name": "stdout",
     "output_type": "stream",
     "text": [
      "++++++++ FINAL 3 Working ID(s) +++++++++++\n",
      "{'ur.01347347172.89', 'ur.010737227205.18', 'ur.010201353174.27'}\n"
     ]
    },
    {
     "name": "stderr",
     "output_type": "stream",
     "text": [
      "0-2 / 2 (0.26s)\u001b[0m\n",
      "===\n",
      "Records extracted: 2\u001b[0m\n",
      "Starting iteration with limit=1000 skip=0 ...\u001b[0m\n"
     ]
    },
    {
     "name": "stdout",
     "output_type": "stream",
     "text": [
      "Total of 2 unique ids for Deidra Crews \n"
     ]
    },
    {
     "name": "stderr",
     "output_type": "stream",
     "text": [
      "0-2 / 2 (4.48s)\u001b[0m\n",
      "===\n",
      "Records extracted: 2\u001b[0m\n",
      "Starting iteration with limit=1000 skip=0 ...\u001b[0m\n"
     ]
    },
    {
     "name": "stdout",
     "output_type": "stream",
     "text": [
      "++++++++ FINAL 2 Working ID(s) +++++++++++\n",
      "{'ur.07437530063.26', 'ur.01066126366.34'}\n"
     ]
    },
    {
     "name": "stderr",
     "output_type": "stream",
     "text": [
      "0-15 / 15 (6.05s)\u001b[0m\n",
      "===\n",
      "Records extracted: 15\u001b[0m\n",
      "Starting iteration with limit=1000 skip=0 ...\u001b[0m\n"
     ]
    },
    {
     "name": "stdout",
     "output_type": "stream",
     "text": [
      "Total of 15 unique ids for Saumya Das \n"
     ]
    },
    {
     "name": "stderr",
     "output_type": "stream",
     "text": [
      "0-15 / 15 (0.27s)\u001b[0m\n",
      "===\n",
      "Records extracted: 15\u001b[0m\n",
      "Starting iteration with limit=1000 skip=0 ...\u001b[0m\n"
     ]
    },
    {
     "name": "stdout",
     "output_type": "stream",
     "text": [
      "++++++++ FINAL 15 Working ID(s) +++++++++++\n",
      "{'ur.013727762210.39', 'ur.015740646206.36', 'ur.014560264272.21', 'ur.011140503267.23', 'ur.016023403023.97', 'ur.015324735143.20', 'ur.014047435374.71', 'ur.010360431476.13', 'ur.010557035327.54', 'ur.013040671611.17', 'ur.012435231211.27', 'ur.010140207031.60', 'ur.014021113036.08', 'ur.012065752471.28', 'ur.0612333333.47'}\n"
     ]
    },
    {
     "name": "stderr",
     "output_type": "stream",
     "text": [
      "0-18 / 18 (4.55s)\u001b[0m\n",
      "===\n",
      "Records extracted: 18\u001b[0m\n",
      "Starting iteration with limit=1000 skip=0 ...\u001b[0m\n"
     ]
    },
    {
     "name": "stdout",
     "output_type": "stream",
     "text": [
      "Total of 18 unique ids for Tushar Desai \n"
     ]
    },
    {
     "name": "stderr",
     "output_type": "stream",
     "text": [
      "0-18 / 18 (0.27s)\u001b[0m\n",
      "===\n",
      "Records extracted: 18\u001b[0m\n",
      "Starting iteration with limit=1000 skip=0 ...\u001b[0m\n"
     ]
    },
    {
     "name": "stdout",
     "output_type": "stream",
     "text": [
      "++++++++ FINAL 18 Working ID(s) +++++++++++\n",
      "{'ur.016203347260.40', 'ur.014404451501.58', 'ur.015651172366.49', 'ur.010432065260.27', 'ur.01364172746.76', 'ur.012531251367.07', 'ur.016655370346.71', 'ur.015007265711.23', 'ur.07557652353.70', 'ur.010076551764.45', 'ur.013741665453.20', 'ur.0641065610.35', 'ur.014552135324.26', 'ur.011111321415.48', 'ur.012231005362.94', 'ur.011763414736.36', 'ur.012210130053.57', 'ur.07375060372.24'}\n"
     ]
    },
    {
     "name": "stderr",
     "output_type": "stream",
     "text": [
      "0-13 / 13 (4.22s)\u001b[0m\n",
      "===\n",
      "Records extracted: 13\u001b[0m\n",
      "Starting iteration with limit=1000 skip=0 ...\u001b[0m\n"
     ]
    },
    {
     "name": "stdout",
     "output_type": "stream",
     "text": [
      "Total of 13 unique ids for Joseph Duncan \n"
     ]
    },
    {
     "name": "stderr",
     "output_type": "stream",
     "text": [
      "0-13 / 13 (0.31s)\u001b[0m\n",
      "===\n",
      "Records extracted: 13\u001b[0m\n",
      "Starting iteration with limit=1000 skip=0 ...\u001b[0m\n"
     ]
    },
    {
     "name": "stdout",
     "output_type": "stream",
     "text": [
      "++++++++ FINAL 13 Working ID(s) +++++++++++\n",
      "{'ur.01177125470.50', 'ur.010475371542.64', 'ur.012523150557.02', 'ur.0730124517.54', 'ur.016453174653.02', 'ur.012710152555.44', 'ur.07517761376.79', 'ur.0770325321.79', 'ur.0722216315.25', 'ur.01333442150.65', 'ur.016212616744.51', 'ur.016671071266.15', 'ur.014207326024.10'}\n"
     ]
    },
    {
     "name": "stderr",
     "output_type": "stream",
     "text": [
      "0-3 / 3 (4.51s)\u001b[0m\n",
      "===\n",
      "Records extracted: 3\u001b[0m\n",
      "Starting iteration with limit=1000 skip=0 ...\u001b[0m\n"
     ]
    },
    {
     "name": "stdout",
     "output_type": "stream",
     "text": [
      "Total of 3 unique ids for Stephanie Eisenbarth \n"
     ]
    },
    {
     "name": "stderr",
     "output_type": "stream",
     "text": [
      "0-3 / 3 (0.28s)\u001b[0m\n",
      "===\n",
      "Records extracted: 3\u001b[0m\n",
      "Starting iteration with limit=1000 skip=0 ...\u001b[0m\n"
     ]
    },
    {
     "name": "stdout",
     "output_type": "stream",
     "text": [
      "++++++++ FINAL 3 Working ID(s) +++++++++++\n",
      "{'ur.01212733661.87', 'ur.015463056106.63', 'ur.011511467447.80'}\n"
     ]
    },
    {
     "name": "stderr",
     "output_type": "stream",
     "text": [
      "0-35 / 35 (4.52s)\u001b[0m\n",
      "===\n",
      "Records extracted: 35\u001b[0m\n",
      "Starting iteration with limit=1000 skip=0 ...\u001b[0m\n"
     ]
    },
    {
     "name": "stdout",
     "output_type": "stream",
     "text": [
      "Total of 35 unique ids for Jordan Feld \n"
     ]
    },
    {
     "name": "stderr",
     "output_type": "stream",
     "text": [
      "0-35 / 35 (0.28s)\u001b[0m\n",
      "===\n",
      "Records extracted: 35\u001b[0m\n",
      "Starting iteration with limit=1000 skip=0 ...\u001b[0m\n"
     ]
    },
    {
     "name": "stdout",
     "output_type": "stream",
     "text": [
      "++++++++ FINAL 35 Working ID(s) +++++++++++\n",
      "{'ur.015250251525.90', 'ur.014431047437.59', 'ur.012365527701.10', 'ur.0653602577.10', 'ur.016336004367.80', 'ur.010736030133.09', 'ur.010514001467.22', 'ur.016663624612.90', 'ur.010616676462.17', 'ur.013112543037.20', 'ur.07566562077.90', 'ur.013505202247.62', 'ur.012054523537.96', 'ur.016252327433.67', 'ur.013677262337.47', 'ur.012266720617.95', 'ur.016200750543.34', 'ur.012161100612.48', 'ur.07610201540.03', 'ur.015556563517.17', 'ur.016404724317.97', 'ur.016045253577.74', 'ur.013570502667.29', 'ur.010240752334.99', 'ur.016466264717.21', 'ur.010146217007.37', 'ur.015577755075.42', 'ur.015115442526.52', 'ur.0704266362.46', 'ur.014645760027.08', 'ur.014006232007.33', 'ur.012537154517.39', 'ur.07363656317.35', 'ur.015667216107.08', 'ur.013243646265.71'}\n"
     ]
    },
    {
     "name": "stderr",
     "output_type": "stream",
     "text": [
      "0-60 / 60 (0.31s)\u001b[0m\n",
      "===\n",
      "Records extracted: 60\u001b[0m\n",
      "Starting iteration with limit=1000 skip=0 ...\u001b[0m\n"
     ]
    },
    {
     "name": "stdout",
     "output_type": "stream",
     "text": [
      "Total of 60 unique ids for Maria Figueroa \n"
     ]
    },
    {
     "name": "stderr",
     "output_type": "stream",
     "text": [
      "0-60 / 60 (2.71s)\u001b[0m\n",
      "===\n",
      "Records extracted: 60\u001b[0m\n",
      "Starting iteration with limit=1000 skip=0 ...\u001b[0m\n"
     ]
    },
    {
     "name": "stdout",
     "output_type": "stream",
     "text": [
      "++++++++ FINAL 60 Working ID(s) +++++++++++\n",
      "{'ur.015122747043.60', 'ur.014305614506.50', 'ur.013413705075.12', 'ur.016074540273.12', 'ur.014613064555.47', 'ur.013765565127.24', 'ur.010324564137.46', 'ur.010160540371.06', 'ur.07470002137.38', 'ur.016126076145.07', 'ur.010533121714.57', 'ur.014652324741.07', 'ur.012343253501.62', 'ur.07655730517.24', 'ur.015230436074.84', 'ur.01320071463.54', 'ur.07713322605.11', 'ur.016714247653.06', 'ur.01046005724.07', 'ur.010045371530.59', 'ur.012310534603.08', 'ur.015532505101.61', 'ur.013364636540.15', 'ur.07714551457.20', 'ur.011217544355.26', 'ur.010624325273.77', 'ur.016706756510.38', 'ur.01010746446.42', 'ur.01144362256.35', 'ur.0577056333.94', 'ur.012400753320.52', 'ur.011653532610.11', 'ur.015572147646.82', 'ur.01204614060.84', 'ur.010510233451.97', 'ur.014672155027.29', 'ur.013173152715.62', 'ur.015304362455.12', 'ur.01104231656.94', 'ur.07732746507.73', 'ur.07535751030.76', 'ur.07746326720.21', 'ur.013046625423.14', 'ur.011003025773.92', 'ur.0765350721.26', 'ur.010206350343.51', 'ur.0651225702.25', 'ur.012247740733.36', 'ur.016026142642.17', 'ur.012624715640.41', 'ur.012040227227.88', 'ur.011765637464.74', 'ur.010176444667.46', 'ur.0576244273.69', 'ur.012173225003.02', 'ur.011672166452.49', 'ur.010741237010.97', 'ur.012335575452.61', 'ur.01011627614.44', 'ur.07615136375.12'}\n"
     ]
    },
    {
     "name": "stderr",
     "output_type": "stream",
     "text": [
      "0-6 / 6 (1.73s)\u001b[0m\n",
      "===\n",
      "Records extracted: 6\u001b[0m\n",
      "Starting iteration with limit=1000 skip=0 ...\u001b[0m\n"
     ]
    },
    {
     "name": "stdout",
     "output_type": "stream",
     "text": [
      "Total of 6 unique ids for Alexander Fiks \n"
     ]
    },
    {
     "name": "stderr",
     "output_type": "stream",
     "text": [
      "0-6 / 6 (4.49s)\u001b[0m\n",
      "===\n",
      "Records extracted: 6\u001b[0m\n",
      "Starting iteration with limit=1000 skip=0 ...\u001b[0m\n"
     ]
    },
    {
     "name": "stdout",
     "output_type": "stream",
     "text": [
      "++++++++ FINAL 6 Working ID(s) +++++++++++\n",
      "{'ur.015202564425.24', 'ur.016264272575.02', 'ur.010064360673.38', 'ur.07721526733.98', 'ur.015652035366.55', 'ur.01066074334.50'}\n"
     ]
    },
    {
     "name": "stderr",
     "output_type": "stream",
     "text": [
      "0-2 / 2 (0.29s)\u001b[0m\n",
      "===\n",
      "Records extracted: 2\u001b[0m\n",
      "Starting iteration with limit=1000 skip=0 ...\u001b[0m\n"
     ]
    },
    {
     "name": "stdout",
     "output_type": "stream",
     "text": [
      "Total of 2 unique ids for Amit Gaggar \n"
     ]
    },
    {
     "name": "stderr",
     "output_type": "stream",
     "text": [
      "0-2 / 2 (0.27s)\u001b[0m\n",
      "===\n",
      "Records extracted: 2\u001b[0m\n",
      "Starting iteration with limit=1000 skip=0 ...\u001b[0m\n"
     ]
    },
    {
     "name": "stdout",
     "output_type": "stream",
     "text": [
      "++++++++ FINAL 2 Working ID(s) +++++++++++\n",
      "{'ur.0660114053.00', 'ur.012637225451.05'}\n"
     ]
    },
    {
     "name": "stderr",
     "output_type": "stream",
     "text": [
      "0-17 / 17 (2.74s)\u001b[0m\n",
      "===\n",
      "Records extracted: 17\u001b[0m\n",
      "Starting iteration with limit=1000 skip=0 ...\u001b[0m\n"
     ]
    },
    {
     "name": "stdout",
     "output_type": "stream",
     "text": [
      "Total of 17 unique ids for Katherine Gallagher \n"
     ]
    },
    {
     "name": "stderr",
     "output_type": "stream",
     "text": [
      "0-17 / 17 (0.29s)\u001b[0m\n",
      "===\n",
      "Records extracted: 17\u001b[0m\n",
      "Starting iteration with limit=1000 skip=0 ...\u001b[0m\n"
     ]
    },
    {
     "name": "stdout",
     "output_type": "stream",
     "text": [
      "++++++++ FINAL 17 Working ID(s) +++++++++++\n",
      "{'ur.012543226037.11', 'ur.01110230503.43', 'ur.016613352657.01', 'ur.011351743017.63', 'ur.01344642360.79', 'ur.01351162620.74', 'ur.016060720564.06', 'ur.010660413555.36', 'ur.010257111623.03', 'ur.014366240551.25', 'ur.013655531013.20', 'ur.011726216415.13', 'ur.012363233117.32', 'ur.01064235630.14', 'ur.012413105452.40', 'ur.01033350161.94', 'ur.015107477114.00'}\n"
     ]
    },
    {
     "name": "stderr",
     "output_type": "stream",
     "text": [
      "0-1 / 1 (0.44s)\u001b[0m\n",
      "===\n",
      "Records extracted: 1\u001b[0m\n",
      "Starting iteration with limit=1000 skip=0 ...\u001b[0m\n"
     ]
    },
    {
     "name": "stdout",
     "output_type": "stream",
     "text": [
      "Total of 1 unique ids for Santhi Ganesh \n"
     ]
    },
    {
     "name": "stderr",
     "output_type": "stream",
     "text": [
      "0-1 / 1 (2.58s)\u001b[0m\n",
      "===\n",
      "Records extracted: 1\u001b[0m\n",
      "Starting iteration with limit=1000 skip=0 ...\u001b[0m\n"
     ]
    },
    {
     "name": "stdout",
     "output_type": "stream",
     "text": [
      "++++++++ FINAL 1 Working ID(s) +++++++++++\n",
      "{'ur.01041573706.30'}\n",
      "Santhi Ganesh 14\n"
     ]
    },
    {
     "name": "stderr",
     "output_type": "stream",
     "text": [
      "0-6 / 6 (6.01s)\u001b[0m\n",
      "===\n",
      "Records extracted: 6\u001b[0m\n",
      "Starting iteration with limit=1000 skip=0 ...\u001b[0m\n"
     ]
    },
    {
     "name": "stdout",
     "output_type": "stream",
     "text": [
      "Total of 6 unique ids for Wendy Garrett \n"
     ]
    },
    {
     "name": "stderr",
     "output_type": "stream",
     "text": [
      "0-6 / 6 (0.23s)\u001b[0m\n",
      "===\n",
      "Records extracted: 6\u001b[0m\n",
      "Starting iteration with limit=1000 skip=0 ...\u001b[0m\n"
     ]
    },
    {
     "name": "stdout",
     "output_type": "stream",
     "text": [
      "++++++++ FINAL 6 Working ID(s) +++++++++++\n",
      "{'ur.016204513230.45', 'ur.012375405702.62', 'ur.016550442204.02', 'ur.011742222405.11', 'ur.01000430505.10', 'ur.010660733742.23'}\n"
     ]
    },
    {
     "name": "stderr",
     "output_type": "stream",
     "text": [
      "0-5 / 5 (4.28s)\u001b[0m\n",
      "===\n",
      "Records extracted: 5\u001b[0m\n",
      "Starting iteration with limit=1000 skip=0 ...\u001b[0m\n"
     ]
    },
    {
     "name": "stdout",
     "output_type": "stream",
     "text": [
      "Total of 5 unique ids for Seema Ahuja \n"
     ]
    },
    {
     "name": "stderr",
     "output_type": "stream",
     "text": [
      "0-5 / 5 (0.23s)\u001b[0m\n",
      "===\n",
      "Records extracted: 5\u001b[0m\n",
      "Starting iteration with limit=1000 skip=0 ...\u001b[0m\n"
     ]
    },
    {
     "name": "stdout",
     "output_type": "stream",
     "text": [
      "++++++++ FINAL 5 Working ID(s) +++++++++++\n",
      "{'ur.012232732575.08', 'ur.07361706043.30', 'ur.07412031777.12', 'ur.01231277132.36', 'ur.01260502760.10'}\n"
     ]
    },
    {
     "name": "stderr",
     "output_type": "stream",
     "text": [
      "0-3 / 3 (0.30s)\u001b[0m\n",
      "===\n",
      "Records extracted: 3\u001b[0m\n",
      "Starting iteration with limit=1000 skip=0 ...\u001b[0m\n"
     ]
    },
    {
     "name": "stdout",
     "output_type": "stream",
     "text": [
      "Total of 3 unique ids for Maria-Luisa Alegre \n"
     ]
    },
    {
     "name": "stderr",
     "output_type": "stream",
     "text": [
      "0-3 / 3 (2.73s)\u001b[0m\n",
      "===\n",
      "Records extracted: 3\u001b[0m\n",
      "Starting iteration with limit=1000 skip=0 ...\u001b[0m\n"
     ]
    },
    {
     "name": "stdout",
     "output_type": "stream",
     "text": [
      "++++++++ FINAL 3 Working ID(s) +++++++++++\n",
      "{'ur.01331664303.96', 'ur.016674412137.08', 'ur.012173400417.17'}\n"
     ]
    },
    {
     "name": "stderr",
     "output_type": "stream",
     "text": [
      "0-11 / 11 (1.78s)\u001b[0m\n",
      "===\n",
      "Records extracted: 11\u001b[0m\n",
      "Starting iteration with limit=1000 skip=0 ...\u001b[0m\n"
     ]
    },
    {
     "name": "stdout",
     "output_type": "stream",
     "text": [
      "Total of 11 unique ids for David Altshuler \n"
     ]
    },
    {
     "name": "stderr",
     "output_type": "stream",
     "text": [
      "0-11 / 11 (4.43s)\u001b[0m\n",
      "===\n",
      "Records extracted: 11\u001b[0m\n",
      "Starting iteration with limit=1000 skip=0 ...\u001b[0m\n"
     ]
    },
    {
     "name": "stdout",
     "output_type": "stream",
     "text": [
      "++++++++ FINAL 11 Working ID(s) +++++++++++\n",
      "{'ur.014436131342.39', 'ur.01243662030.16', 'ur.01132736434.18', 'ur.016067020227.24', 'ur.0724374300.10', 'ur.010703244561.32', 'ur.014041251630.21', 'ur.011574434444.03', 'ur.012713255433.09', 'ur.012731225055.53', 'ur.013764756044.24'}\n"
     ]
    },
    {
     "name": "stderr",
     "output_type": "stream",
     "text": [
      "0-5 / 5 (6.21s)\u001b[0m\n",
      "===\n",
      "Records extracted: 5\u001b[0m\n",
      "Starting iteration with limit=1000 skip=0 ...\u001b[0m\n"
     ]
    },
    {
     "name": "stdout",
     "output_type": "stream",
     "text": [
      "Total of 5 unique ids for Andrew Arai \n"
     ]
    },
    {
     "name": "stderr",
     "output_type": "stream",
     "text": [
      "0-5 / 5 (0.28s)\u001b[0m\n",
      "===\n",
      "Records extracted: 5\u001b[0m\n",
      "Starting iteration with limit=1000 skip=0 ...\u001b[0m\n"
     ]
    },
    {
     "name": "stdout",
     "output_type": "stream",
     "text": [
      "++++++++ FINAL 5 Working ID(s) +++++++++++\n",
      "{'ur.0603205226.92', 'ur.014546747470.56', 'ur.01115370474.12', 'ur.011511061035.38', 'ur.010217040136.87'}\n"
     ]
    },
    {
     "name": "stderr",
     "output_type": "stream",
     "text": [
      "0-6 / 6 (4.15s)\u001b[0m\n",
      "===\n",
      "Records extracted: 6\u001b[0m\n",
      "Starting iteration with limit=1000 skip=0 ...\u001b[0m\n"
     ]
    },
    {
     "name": "stdout",
     "output_type": "stream",
     "text": [
      "Total of 6 unique ids for Katrina Armstrong \n"
     ]
    },
    {
     "name": "stderr",
     "output_type": "stream",
     "text": [
      "0-6 / 6 (5.99s)\u001b[0m\n",
      "===\n",
      "Records extracted: 6\u001b[0m\n",
      "Starting iteration with limit=1000 skip=0 ...\u001b[0m\n"
     ]
    },
    {
     "name": "stdout",
     "output_type": "stream",
     "text": [
      "++++++++ FINAL 6 Working ID(s) +++++++++++\n",
      "{'ur.07741752473.88', 'ur.01247015471.37', 'ur.010166765233.22', 'ur.013615525413.30', 'ur.01131155564.81', 'ur.013424302112.64'}\n"
     ]
    },
    {
     "name": "stderr",
     "output_type": "stream",
     "text": [
      "0-5 / 5 (0.28s)\u001b[0m\n",
      "===\n",
      "Records extracted: 5\u001b[0m\n",
      "Starting iteration with limit=1000 skip=0 ...\u001b[0m\n"
     ]
    },
    {
     "name": "stdout",
     "output_type": "stream",
     "text": [
      "Total of 5 unique ids for Andrew Badley \n"
     ]
    },
    {
     "name": "stderr",
     "output_type": "stream",
     "text": [
      "0-5 / 5 (4.46s)\u001b[0m\n",
      "===\n",
      "Records extracted: 5\u001b[0m\n",
      "Starting iteration with limit=1000 skip=0 ...\u001b[0m\n"
     ]
    },
    {
     "name": "stdout",
     "output_type": "stream",
     "text": [
      "++++++++ FINAL 5 Working ID(s) +++++++++++\n",
      "{'ur.015320746317.71', 'ur.011064630757.43', 'ur.011034010162.28', 'ur.013561642601.71', 'ur.01345621012.25'}\n"
     ]
    },
    {
     "name": "stderr",
     "output_type": "stream",
     "text": [
      "0-17 / 17 (0.28s)\u001b[0m\n",
      "===\n",
      "Records extracted: 17\u001b[0m\n",
      "Starting iteration with limit=1000 skip=0 ...\u001b[0m\n"
     ]
    },
    {
     "name": "stdout",
     "output_type": "stream",
     "text": [
      "Total of 17 unique ids for Ravi Bhatia \n"
     ]
    },
    {
     "name": "stderr",
     "output_type": "stream",
     "text": [
      "0-17 / 17 (4.48s)\u001b[0m\n",
      "===\n",
      "Records extracted: 17\u001b[0m\n",
      "Starting iteration with limit=1000 skip=0 ...\u001b[0m\n"
     ]
    },
    {
     "name": "stdout",
     "output_type": "stream",
     "text": [
      "++++++++ FINAL 17 Working ID(s) +++++++++++\n",
      "{'ur.0661764266.17', 'ur.01045255257.00', 'ur.013465747401.38', 'ur.012011101630.69', 'ur.014141516173.46', 'ur.0734200323.66', 'ur.0712566612.16', 'ur.0705444751.09', 'ur.012501417237.50', 'ur.07556655115.17', 'ur.065204456.17', 'ur.014567421631.14', 'ur.01236700177.14', 'ur.01061261705.55', 'ur.012454337177.35', 'ur.014764664471.12', 'ur.014551515523.45'}\n"
     ]
    },
    {
     "name": "stderr",
     "output_type": "stream",
     "text": [
      "0-9 / 9 (0.37s)\u001b[0m\n",
      "===\n",
      "Records extracted: 9\u001b[0m\n",
      "Starting iteration with limit=1000 skip=0 ...\u001b[0m\n"
     ]
    },
    {
     "name": "stdout",
     "output_type": "stream",
     "text": [
      "Total of 9 unique ids for Smita Bhatia \n"
     ]
    },
    {
     "name": "stderr",
     "output_type": "stream",
     "text": [
      "0-9 / 9 (0.29s)\u001b[0m\n",
      "===\n",
      "Records extracted: 9\u001b[0m\n",
      "Starting iteration with limit=1000 skip=0 ...\u001b[0m\n"
     ]
    },
    {
     "name": "stdout",
     "output_type": "stream",
     "text": [
      "++++++++ FINAL 9 Working ID(s) +++++++++++\n",
      "{'ur.010315565720.39', 'ur.011022053770.02', 'ur.010164031506.95', 'ur.0656255240.48', 'ur.013246626347.23', 'ur.0726351036.30', 'ur.01266561243.08', 'ur.01204074305.27', 'ur.013646341306.34'}\n"
     ]
    },
    {
     "name": "stderr",
     "output_type": "stream",
     "text": [
      "0-4 / 4 (2.65s)\u001b[0m\n",
      "===\n",
      "Records extracted: 4\u001b[0m\n",
      "Starting iteration with limit=1000 skip=0 ...\u001b[0m\n"
     ]
    },
    {
     "name": "stdout",
     "output_type": "stream",
     "text": [
      "Total of 4 unique ids for Arul Chinnaiyan \n"
     ]
    },
    {
     "name": "stderr",
     "output_type": "stream",
     "text": [
      "0-4 / 4 (6.03s)\u001b[0m\n",
      "===\n",
      "Records extracted: 4\u001b[0m\n",
      "Starting iteration with limit=1000 skip=0 ...\u001b[0m\n"
     ]
    },
    {
     "name": "stdout",
     "output_type": "stream",
     "text": [
      "++++++++ FINAL 4 Working ID(s) +++++++++++\n",
      "{'ur.010064272144.28', 'ur.016465525257.41', 'ur.01057336674.48', 'ur.015514444061.17'}\n"
     ]
    },
    {
     "name": "stderr",
     "output_type": "stream",
     "text": [
      "0-26 / 26 (0.28s)\u001b[0m\n",
      "===\n",
      "Records extracted: 26\u001b[0m\n",
      "Starting iteration with limit=1000 skip=0 ...\u001b[0m\n"
     ]
    },
    {
     "name": "stdout",
     "output_type": "stream",
     "text": [
      "Total of 26 unique ids for Philip Cole \n"
     ]
    },
    {
     "name": "stderr",
     "output_type": "stream",
     "text": [
      "0-26 / 26 (0.25s)\u001b[0m\n",
      "===\n",
      "Records extracted: 26\u001b[0m\n",
      "Starting iteration with limit=1000 skip=0 ...\u001b[0m\n"
     ]
    },
    {
     "name": "stdout",
     "output_type": "stream",
     "text": [
      "++++++++ FINAL 26 Working ID(s) +++++++++++\n",
      "{'ur.012377354255.07', 'ur.01335501773.83', 'ur.015277744274.73', 'ur.010771055574.28', 'ur.010452761377.08', 'ur.064346541.55', 'ur.0635047730.61', 'ur.01226357064.75', 'ur.014515721355.52', 'ur.0611032224.00', 'ur.07362720015.23', 'ur.01212701041.00', 'ur.07376114574.03', 'ur.016323334707.39', 'ur.010742747655.08', 'ur.060507702.50', 'ur.016672705274.69', 'ur.013501566435.62', 'ur.012414614575.39', 'ur.013504320555.77', 'ur.066125371.18', 'ur.0727626056.96', 'ur.0640406620.11', 'ur.016075324674.19', 'ur.014637155335.83', 'ur.015776011015.49'}\n"
     ]
    },
    {
     "name": "stderr",
     "output_type": "stream",
     "text": [
      "0-3 / 3 (2.50s)\u001b[0m\n",
      "===\n",
      "Records extracted: 3\u001b[0m\n",
      "Starting iteration with limit=1000 skip=0 ...\u001b[0m\n"
     ]
    },
    {
     "name": "stdout",
     "output_type": "stream",
     "text": [
      "Total of 3 unique ids for Suzanne Conzen \n"
     ]
    },
    {
     "name": "stderr",
     "output_type": "stream",
     "text": [
      "0-3 / 3 (0.23s)\u001b[0m\n",
      "===\n",
      "Records extracted: 3\u001b[0m\n",
      "Starting iteration with limit=1000 skip=0 ...\u001b[0m\n"
     ]
    },
    {
     "name": "stdout",
     "output_type": "stream",
     "text": [
      "++++++++ FINAL 3 Working ID(s) +++++++++++\n",
      "{'ur.012106724403.41', 'ur.01236125575.77', 'ur.01133777240.14'}\n"
     ]
    },
    {
     "name": "stderr",
     "output_type": "stream",
     "text": [
      "0-11 / 11 (0.29s)\u001b[0m\n",
      "===\n",
      "Records extracted: 11\u001b[0m\n",
      "Starting iteration with limit=1000 skip=0 ...\u001b[0m\n"
     ]
    },
    {
     "name": "stdout",
     "output_type": "stream",
     "text": [
      "Total of 11 unique ids for David Corry \n"
     ]
    },
    {
     "name": "stderr",
     "output_type": "stream",
     "text": [
      "0-11 / 11 (2.90s)\u001b[0m\n",
      "===\n",
      "Records extracted: 11\u001b[0m\n",
      "Starting iteration with limit=1000 skip=0 ...\u001b[0m\n"
     ]
    },
    {
     "name": "stdout",
     "output_type": "stream",
     "text": [
      "++++++++ FINAL 11 Working ID(s) +++++++++++\n",
      "{'ur.07750350667.54', 'ur.014663557411.77', 'ur.013723121506.21', 'ur.0631766353.59', 'ur.01240702031.76', 'ur.012356323726.37', 'ur.010217344514.31', 'ur.014640303265.91', 'ur.0732242610.10', 'ur.014042642640.79', 'ur.014117574576.12'}\n"
     ]
    },
    {
     "name": "stderr",
     "output_type": "stream",
     "text": [
      "0-16 / 16 (0.33s)\u001b[0m\n",
      "===\n",
      "Records extracted: 16\u001b[0m\n",
      "Starting iteration with limit=1000 skip=0 ...\u001b[0m\n"
     ]
    },
    {
     "name": "stdout",
     "output_type": "stream",
     "text": [
      "Total of 16 unique ids for David Cummings \n"
     ]
    },
    {
     "name": "stderr",
     "output_type": "stream",
     "text": [
      "0-16 / 16 (4.54s)\u001b[0m\n",
      "===\n",
      "Records extracted: 16\u001b[0m\n",
      "Starting iteration with limit=1000 skip=0 ...\u001b[0m\n"
     ]
    },
    {
     "name": "stdout",
     "output_type": "stream",
     "text": [
      "++++++++ FINAL 16 Working ID(s) +++++++++++\n",
      "{'ur.01163735600.85', 'ur.010315030655.47', 'ur.01342547266.47', 'ur.071155061.50', 'ur.01215452555.20', 'ur.0733404504.42', 'ur.07606526052.89', 'ur.01065267300.09', 'ur.01164733755.78', 'ur.010071444275.86', 'ur.010615731623.60', 'ur.01074312701.74', 'ur.016677167503.48', 'ur.01004531361.14', 'ur.016706411611.24', 'ur.016061322472.57'}\n"
     ]
    },
    {
     "name": "stderr",
     "output_type": "stream",
     "text": [
      "0-2 / 2 (0.36s)\u001b[0m\n",
      "===\n",
      "Records extracted: 2\u001b[0m\n",
      "Starting iteration with limit=1000 skip=0 ...\u001b[0m\n"
     ]
    },
    {
     "name": "stdout",
     "output_type": "stream",
     "text": [
      "Total of 2 unique ids for Michael Debaun \n"
     ]
    },
    {
     "name": "stderr",
     "output_type": "stream",
     "text": [
      "0-2 / 2 (0.24s)\u001b[0m\n",
      "===\n",
      "Records extracted: 2\u001b[0m\n",
      "Starting iteration with limit=1000 skip=0 ...\u001b[0m\n"
     ]
    },
    {
     "name": "stdout",
     "output_type": "stream",
     "text": [
      "++++++++ FINAL 2 Working ID(s) +++++++++++\n",
      "{'ur.0640311763.00', 'ur.014706070117.51'}\n"
     ]
    },
    {
     "name": "stderr",
     "output_type": "stream",
     "text": [
      "0-3 / 3 (2.85s)\u001b[0m\n",
      "===\n",
      "Records extracted: 3\u001b[0m\n",
      "Starting iteration with limit=1000 skip=0 ...\u001b[0m\n"
     ]
    },
    {
     "name": "stdout",
     "output_type": "stream",
     "text": [
      "Total of 3 unique ids for Madhav Dhodapkar \n"
     ]
    },
    {
     "name": "stderr",
     "output_type": "stream",
     "text": [
      "0-3 / 3 (5.98s)\u001b[0m\n",
      "===\n",
      "Records extracted: 3\u001b[0m\n",
      "Starting iteration with limit=1000 skip=0 ...\u001b[0m\n"
     ]
    },
    {
     "name": "stdout",
     "output_type": "stream",
     "text": [
      "++++++++ FINAL 3 Working ID(s) +++++++++++\n",
      "{'ur.015247624243.79', 'ur.012053430513.95', 'ur.01103031252.33'}\n"
     ]
    },
    {
     "name": "stderr",
     "output_type": "stream",
     "text": [
      "0-29 / 29 (6.22s)\u001b[0m\n",
      "===\n",
      "Records extracted: 29\u001b[0m\n",
      "Starting iteration with limit=1000 skip=0 ...\u001b[0m\n"
     ]
    },
    {
     "name": "stdout",
     "output_type": "stream",
     "text": [
      "Total of 29 unique ids for E. Ely \n"
     ]
    },
    {
     "name": "stderr",
     "output_type": "stream",
     "text": [
      "0-29 / 29 (5.87s)\u001b[0m\n",
      "===\n",
      "Records extracted: 29\u001b[0m\n",
      "Starting iteration with limit=1000 skip=0 ...\u001b[0m\n"
     ]
    },
    {
     "name": "stdout",
     "output_type": "stream",
     "text": [
      "++++++++ FINAL 29 Working ID(s) +++++++++++\n",
      "{'ur.01005005664.10', 'ur.013714332477.51', 'ur.01242147417.53', 'ur.0746356510.00', 'ur.011346465657.00', 'ur.01250465246.20', 'ur.014651032473.05', 'ur.011256670174.47', 'ur.01322061750.66', 'ur.01022463411.88', 'ur.013625470704.42', 'ur.012337030037.37', 'ur.014403774041.94', 'ur.014224552471.60', 'ur.016341011175.70', 'ur.012000443645.54', 'ur.01153732271.48', 'ur.015444271751.08', 'ur.07676773116.99', 'ur.015524661015.94', 'ur.011333752162.20', 'ur.010215605627.45', 'ur.01277334005.23', 'ur.016574253131.27', 'ur.0730554063.78', 'ur.014520065305.06', 'ur.011441354353.25', 'ur.0771126622.30', 'ur.07506431703.32'}\n"
     ]
    },
    {
     "name": "stderr",
     "output_type": "stream",
     "text": [
      "0-12 / 12 (6.06s)\u001b[0m\n",
      "===\n",
      "Records extracted: 12\u001b[0m\n",
      "Starting iteration with limit=1000 skip=0 ...\u001b[0m\n"
     ]
    },
    {
     "name": "stdout",
     "output_type": "stream",
     "text": [
      "Total of 12 unique ids for Robert Friedlander \n"
     ]
    },
    {
     "name": "stderr",
     "output_type": "stream",
     "text": [
      "0-12 / 12 (5.92s)\u001b[0m\n",
      "===\n",
      "Records extracted: 12\u001b[0m\n",
      "Starting iteration with limit=1000 skip=0 ...\u001b[0m\n"
     ]
    },
    {
     "name": "stdout",
     "output_type": "stream",
     "text": [
      "++++++++ FINAL 12 Working ID(s) +++++++++++\n",
      "{'ur.077036566.16', 'ur.013613055755.65', 'ur.0735167115.22', 'ur.011371531662.73', 'ur.01213401651.12', 'ur.010435106334.11', 'ur.010346444141.85', 'ur.012150120032.37', 'ur.01325316141.69', 'ur.015413363674.45', 'ur.01275217405.19', 'ur.0601570566.04'}\n"
     ]
    },
    {
     "name": "stderr",
     "output_type": "stream",
     "text": [
      "0-9 / 9 (6.10s)\u001b[0m\n",
      "===\n",
      "Records extracted: 9\u001b[0m\n",
      "Starting iteration with limit=1000 skip=0 ...\u001b[0m\n"
     ]
    },
    {
     "name": "stdout",
     "output_type": "stream",
     "text": [
      "Total of 9 unique ids for Thomas Gajewski \n"
     ]
    },
    {
     "name": "stderr",
     "output_type": "stream",
     "text": [
      "0-9 / 9 (5.96s)\u001b[0m\n",
      "===\n",
      "Records extracted: 9\u001b[0m\n",
      "Starting iteration with limit=1000 skip=0 ...\u001b[0m\n"
     ]
    },
    {
     "name": "stdout",
     "output_type": "stream",
     "text": [
      "++++++++ FINAL 9 Working ID(s) +++++++++++\n",
      "{'ur.01060637247.03', 'ur.014445641135.76', 'ur.012514772744.60', 'ur.011506536667.08', 'ur.014562151371.50', 'ur.014215275353.48', 'ur.012157132575.84', 'ur.07710460231.31', 'ur.011070551602.31'}\n"
     ]
    },
    {
     "name": "stderr",
     "output_type": "stream",
     "text": [
      "0-12 / 12 (0.33s)\u001b[0m\n",
      "===\n",
      "Records extracted: 12\u001b[0m\n",
      "Starting iteration with limit=1000 skip=0 ...\u001b[0m\n"
     ]
    },
    {
     "name": "stdout",
     "output_type": "stream",
     "text": [
      "Total of 12 unique ids for Robert Gerszten \n"
     ]
    },
    {
     "name": "stderr",
     "output_type": "stream",
     "text": [
      "0-12 / 12 (0.24s)\u001b[0m\n",
      "===\n",
      "Records extracted: 12\u001b[0m\n",
      "Starting iteration with limit=1000 skip=0 ...\u001b[0m\n"
     ]
    },
    {
     "name": "stdout",
     "output_type": "stream",
     "text": [
      "++++++++ FINAL 12 Working ID(s) +++++++++++\n",
      "{'ur.010030454233.85', 'ur.010053512547.98', 'ur.014370503633.21', 'ur.015741771355.45', 'ur.015532651257.62', 'ur.01024477020.55', 'ur.014104764615.39', 'ur.011010172103.37', 'ur.014341414421.58', 'ur.01220714655.16', 'ur.011651511517.06', 'ur.016342714415.20'}\n"
     ]
    },
    {
     "name": "stderr",
     "output_type": "stream",
     "text": [
      "0-3 / 3 (2.46s)\u001b[0m\n",
      "===\n",
      "Records extracted: 3\u001b[0m\n",
      "Starting iteration with limit=1000 skip=0 ...\u001b[0m\n"
     ]
    },
    {
     "name": "stdout",
     "output_type": "stream",
     "text": [
      "Total of 3 unique ids for George Gittes \n"
     ]
    },
    {
     "name": "stderr",
     "output_type": "stream",
     "text": [
      "0-3 / 3 (0.23s)\u001b[0m\n",
      "===\n",
      "Records extracted: 3\u001b[0m\n",
      "Starting iteration with limit=1000 skip=0 ...\u001b[0m\n"
     ]
    },
    {
     "name": "stdout",
     "output_type": "stream",
     "text": [
      "++++++++ FINAL 3 Working ID(s) +++++++++++\n",
      "{'ur.01307216424.37', 'ur.016513725227.70', 'ur.010662762667.18'}\n"
     ]
    },
    {
     "name": "stderr",
     "output_type": "stream",
     "text": [
      "0-10 / 10 (0.35s)\u001b[0m\n",
      "===\n",
      "Records extracted: 10\u001b[0m\n",
      "Starting iteration with limit=1000 skip=0 ...\u001b[0m\n"
     ]
    },
    {
     "name": "stdout",
     "output_type": "stream",
     "text": [
      "Total of 10 unique ids for Mark Gladwin \n"
     ]
    },
    {
     "name": "stderr",
     "output_type": "stream",
     "text": [
      "0-10 / 10 (4.48s)\u001b[0m\n",
      "===\n",
      "Records extracted: 10\u001b[0m\n",
      "Starting iteration with limit=1000 skip=0 ...\u001b[0m\n"
     ]
    },
    {
     "name": "stdout",
     "output_type": "stream",
     "text": [
      "++++++++ FINAL 10 Working ID(s) +++++++++++\n",
      "{'ur.013543413513.64', 'ur.014416560755.57', 'ur.014662546033.07', 'ur.015414651605.67', 'ur.010130405773.11', 'ur.015634263244.02', 'ur.016064643041.54', 'ur.0606710372.61', 'ur.0666220257.32', 'ur.013505210271.53'}\n"
     ]
    },
    {
     "name": "stderr",
     "output_type": "stream",
     "text": [
      "0-5 / 5 (0.25s)\u001b[0m\n",
      "===\n",
      "Records extracted: 5\u001b[0m\n",
      "Starting iteration with limit=1000 skip=0 ...\u001b[0m\n"
     ]
    },
    {
     "name": "stdout",
     "output_type": "stream",
     "text": [
      "Total of 5 unique ids for Roy Gulick \n"
     ]
    },
    {
     "name": "stderr",
     "output_type": "stream",
     "text": [
      "0-5 / 5 (4.30s)\u001b[0m\n",
      "===\n",
      "Records extracted: 5\u001b[0m\n",
      "Starting iteration with limit=1000 skip=0 ...\u001b[0m\n"
     ]
    },
    {
     "name": "stdout",
     "output_type": "stream",
     "text": [
      "++++++++ FINAL 5 Working ID(s) +++++++++++\n",
      "{'ur.016555715034.83', 'ur.015751257233.49', 'ur.016602373367.02', 'ur.01141310641.61', 'ur.015016703205.06'}\n"
     ]
    },
    {
     "name": "stderr",
     "output_type": "stream",
     "text": [
      "0-1 / 1 (0.24s)\u001b[0m\n",
      "===\n",
      "Records extracted: 1\u001b[0m\n",
      "Starting iteration with limit=1000 skip=0 ...\u001b[0m\n"
     ]
    },
    {
     "name": "stdout",
     "output_type": "stream",
     "text": [
      "Total of 1 unique ids for Volker Haase \n"
     ]
    },
    {
     "name": "stderr",
     "output_type": "stream",
     "text": [
      "0-1 / 1 (0.23s)\u001b[0m\n",
      "===\n",
      "Records extracted: 1\u001b[0m\n",
      "Starting iteration with limit=1000 skip=0 ...\u001b[0m\n"
     ]
    },
    {
     "name": "stdout",
     "output_type": "stream",
     "text": [
      "++++++++ FINAL 1 Working ID(s) +++++++++++\n",
      "{'ur.01254056046.16'}\n",
      "Volker Haase 15\n"
     ]
    },
    {
     "name": "stderr",
     "output_type": "stream",
     "text": [
      "0-29 / 29 (2.80s)\u001b[0m\n",
      "===\n",
      "Records extracted: 29\u001b[0m\n",
      "Starting iteration with limit=1000 skip=0 ...\u001b[0m\n"
     ]
    },
    {
     "name": "stdout",
     "output_type": "stream",
     "text": [
      "Total of 29 unique ids for William Haynes \n"
     ]
    },
    {
     "name": "stderr",
     "output_type": "stream",
     "text": [
      "0-29 / 29 (0.26s)\u001b[0m\n",
      "===\n",
      "Records extracted: 29\u001b[0m\n",
      "Starting iteration with limit=1000 skip=0 ...\u001b[0m\n"
     ]
    },
    {
     "name": "stdout",
     "output_type": "stream",
     "text": [
      "++++++++ FINAL 29 Working ID(s) +++++++++++\n",
      "{'ur.046175777.30', 'ur.0614521752.44', 'ur.01010730522.02', 'ur.013602322300.70', 'ur.0107242433.69', 'ur.013334515214.72', 'ur.015106021135.24', 'ur.013566742260.51', 'ur.011130473061.71', 'ur.01367531531.51', 'ur.0673720205.96', 'ur.052172631.04', 'ur.01022540513.08', 'ur.016526616760.36', 'ur.057311765.27', 'ur.013163105020.27', 'ur.014326441515.09', 'ur.0632314326.19', 'ur.013751727402.65', 'ur.010622305137.17', 'ur.01274663241.67', 'ur.011204407005.61', 'ur.016013471420.55', 'ur.014226342767.89', 'ur.014563075161.74', 'ur.015161466773.48', 'ur.011164741663.43', 'ur.012011503061.16', 'ur.010421410522.35'}\n"
     ]
    },
    {
     "name": "stderr",
     "output_type": "stream",
     "text": [
      "0-11 / 11 (4.29s)\u001b[0m\n",
      "===\n",
      "Records extracted: 11\u001b[0m\n",
      "Starting iteration with limit=1000 skip=0 ...\u001b[0m\n"
     ]
    },
    {
     "name": "stdout",
     "output_type": "stream",
     "text": [
      "Total of 11 unique ids for Joel Hirschhorn \n"
     ]
    },
    {
     "name": "stderr",
     "output_type": "stream",
     "text": [
      "0-11 / 11 (0.26s)\u001b[0m\n",
      "===\n",
      "Records extracted: 11\u001b[0m\n",
      "Starting iteration with limit=1000 skip=0 ...\u001b[0m\n"
     ]
    },
    {
     "name": "stdout",
     "output_type": "stream",
     "text": [
      "++++++++ FINAL 11 Working ID(s) +++++++++++\n",
      "{'ur.01331443306.99', 'ur.013406705350.93', 'ur.010513507132.23', 'ur.016007430551.28', 'ur.013361242317.34', 'ur.0675500473.09', 'ur.015116316124.90', 'ur.010454221273.34', 'ur.012272522215.20', 'ur.07573742555.51', 'ur.014001342415.18'}\n"
     ]
    },
    {
     "name": "stderr",
     "output_type": "stream",
     "text": [
      "0-29 / 29 (0.29s)\u001b[0m\n",
      "===\n",
      "Records extracted: 29\u001b[0m\n",
      "Starting iteration with limit=1000 skip=0 ...\u001b[0m\n"
     ]
    },
    {
     "name": "stdout",
     "output_type": "stream",
     "text": [
      "Total of 29 unique ids for Edward Abraham \n"
     ]
    },
    {
     "name": "stderr",
     "output_type": "stream",
     "text": [
      "0-29 / 29 (3.86s)\u001b[0m\n",
      "===\n",
      "Records extracted: 29\u001b[0m\n",
      "Starting iteration with limit=1000 skip=0 ...\u001b[0m\n"
     ]
    },
    {
     "name": "stdout",
     "output_type": "stream",
     "text": [
      "++++++++ FINAL 29 Working ID(s) +++++++++++\n",
      "{'ur.0770156315.09', 'ur.0107006044.99', 'ur.014360535735.43', 'ur.016567160725.40', 'ur.054265456.42', 'ur.01313254203.58', 'ur.01265673001.30', 'ur.010407435142.38', 'ur.01117372642.63', 'ur.016063032303.90', 'ur.01005210470.26', 'ur.01363602626.34', 'ur.01240537043.51', 'ur.0660303032.82', 'ur.01224001371.34', 'ur.014256040102.28', 'ur.0105607737.92', 'ur.01152264213.35', 'ur.01053237353.64', 'ur.015442625475.24', 'ur.0114050316.95', 'ur.01040662010.00', 'ur.01226737273.01', 'ur.012600010742.67', 'ur.013015622103.56', 'ur.010764631201.55', 'ur.014507620007.25', 'ur.0657116173.95', 'ur.015743760717.16'}\n"
     ]
    },
    {
     "name": "stderr",
     "output_type": "stream",
     "text": [
      "0-86 / 86 (5.00s)\u001b[0m\n",
      "===\n",
      "Records extracted: 86\u001b[0m\n",
      "Starting iteration with limit=1000 skip=0 ...\u001b[0m\n"
     ]
    },
    {
     "name": "stdout",
     "output_type": "stream",
     "text": [
      "Total of 86 unique ids for Kenneth Anderson \n"
     ]
    },
    {
     "name": "stderr",
     "output_type": "stream",
     "text": [
      "0-86 / 86 (0.28s)\u001b[0m\n",
      "===\n",
      "Records extracted: 86\u001b[0m\n",
      "Starting iteration with limit=1000 skip=0 ...\u001b[0m\n"
     ]
    },
    {
     "name": "stdout",
     "output_type": "stream",
     "text": [
      "++++++++ FINAL 86 Working ID(s) +++++++++++\n",
      "{'ur.01003320146.08', 'ur.0743423275.44', 'ur.012627222231.92', 'ur.014221075273.39', 'ur.012027157500.81', 'ur.014710006573.22', 'ur.011753461712.29', 'ur.01135722671.06', 'ur.07556031663.12', 'ur.016200622673.41', 'ur.012714257341.93', 'ur.010737705273.71', 'ur.014123544121.76', 'ur.0724276162.12', 'ur.01013652665.99', 'ur.013030630265.89', 'ur.0110624003.77', 'ur.01224035726.23', 'ur.01040556524.37', 'ur.01210203751.65', 'ur.010503316173.03', 'ur.01211370041.01', 'ur.07767026535.48', 'ur.07740317025.35', 'ur.0627207515.37', 'ur.016057133456.01', 'ur.012542036070.27', 'ur.01100213355.47', 'ur.010527577041.10', 'ur.051211245.33', 'ur.015550320040.47', 'ur.015664155151.40', 'ur.0633135101.44', 'ur.015335541765.98', 'ur.014640400737.58', 'ur.012612256507.31', 'ur.07541403757.96', 'ur.014611177740.29', 'ur.01364424303.82', 'ur.016205012367.60', 'ur.011551120047.57', 'ur.013604370573.15', 'ur.01311164134.17', 'ur.051214670.47', 'ur.0702714374.66', 'ur.013057645602.45', 'ur.07471465403.09', 'ur.013404775151.05', 'ur.01074721256.36', 'ur.010320523562.13', 'ur.01301536640.13', 'ur.015057043622.63', 'ur.016245221553.28', 'ur.015773655324.74', 'ur.011266231341.92', 'ur.0743537060.81', 'ur.01007055576.22', 'ur.051760512.10', 'ur.010737046745.39', 'ur.074470453.51', 'ur.010556155412.32', 'ur.011165066761.18', 'ur.01255420232.17', 'ur.011202656111.05', 'ur.054767754.41', 'ur.013052570457.33', 'ur.011510270702.77', 'ur.010174546101.61', 'ur.016101362605.90', 'ur.01070547622.64', 'ur.070035545.37', 'ur.013211673267.09', 'ur.060263366.58', 'ur.011021700306.75', 'ur.013012740111.36', 'ur.016003536145.62', 'ur.01152144246.20', 'ur.0114061571.73', 'ur.010475451031.81', 'ur.01027452654.68', 'ur.01167450725.43', 'ur.056503225.10', 'ur.015707126137.35', 'ur.013136067013.56', 'ur.01207512724.67', 'ur.01021131150.84'}\n"
     ]
    },
    {
     "name": "stderr",
     "output_type": "stream",
     "text": [
      "0-2 / 2 (4.52s)\u001b[0m\n",
      "===\n",
      "Records extracted: 2\u001b[0m\n",
      "Starting iteration with limit=1000 skip=0 ...\u001b[0m\n"
     ]
    },
    {
     "name": "stdout",
     "output_type": "stream",
     "text": [
      "Total of 2 unique ids for Steven Balk \n"
     ]
    },
    {
     "name": "stderr",
     "output_type": "stream",
     "text": [
      "0-2 / 2 (6.00s)\u001b[0m\n",
      "===\n",
      "Records extracted: 2\u001b[0m\n",
      "Starting iteration with limit=1000 skip=0 ...\u001b[0m\n"
     ]
    },
    {
     "name": "stdout",
     "output_type": "stream",
     "text": [
      "++++++++ FINAL 2 Working ID(s) +++++++++++\n",
      "{'ur.015422233657.85', 'ur.012457173457.45'}\n"
     ]
    },
    {
     "name": "stderr",
     "output_type": "stream",
     "text": [
      "0-10 / 10 (0.29s)\u001b[0m\n",
      "===\n",
      "Records extracted: 10\u001b[0m\n",
      "Starting iteration with limit=1000 skip=0 ...\u001b[0m\n"
     ]
    },
    {
     "name": "stdout",
     "output_type": "stream",
     "text": [
      "Total of 10 unique ids for Jeffrey Bender \n"
     ]
    },
    {
     "name": "stderr",
     "output_type": "stream",
     "text": [
      "0-10 / 10 (0.41s)\u001b[0m\n",
      "===\n",
      "Records extracted: 10\u001b[0m\n",
      "Starting iteration with limit=1000 skip=0 ...\u001b[0m\n"
     ]
    },
    {
     "name": "stdout",
     "output_type": "stream",
     "text": [
      "++++++++ FINAL 10 Working ID(s) +++++++++++\n",
      "{'ur.016062606634.75', 'ur.013230672777.30', 'ur.0775371522.22', 'ur.01306033274.68', 'ur.0633354437.33', 'ur.01210210736.34', 'ur.013753477052.55', 'ur.01152067121.78', 'ur.013320024461.20', 'ur.01263524157.68'}\n"
     ]
    },
    {
     "name": "stderr",
     "output_type": "stream",
     "text": [
      "0-2 / 2 (2.41s)\u001b[0m\n",
      "===\n",
      "Records extracted: 2\u001b[0m\n",
      "Starting iteration with limit=1000 skip=0 ...\u001b[0m\n"
     ]
    },
    {
     "name": "stdout",
     "output_type": "stream",
     "text": [
      "Total of 2 unique ids for Bruce Blazar \n"
     ]
    },
    {
     "name": "stderr",
     "output_type": "stream",
     "text": [
      "0-2 / 2 (6.11s)\u001b[0m\n",
      "===\n",
      "Records extracted: 2\u001b[0m\n",
      "Starting iteration with limit=1000 skip=0 ...\u001b[0m\n"
     ]
    },
    {
     "name": "stdout",
     "output_type": "stream",
     "text": [
      "++++++++ FINAL 2 Working ID(s) +++++++++++\n",
      "{'ur.014102657406.35', 'ur.015124321217.27'}\n"
     ]
    },
    {
     "name": "stderr",
     "output_type": "stream",
     "text": [
      "0-3 / 3 (5.83s)\u001b[0m\n",
      "===\n",
      "Records extracted: 3\u001b[0m\n",
      "Starting iteration with limit=1000 skip=0 ...\u001b[0m\n"
     ]
    },
    {
     "name": "stdout",
     "output_type": "stream",
     "text": [
      "Total of 3 unique ids for Linda Boxer \n"
     ]
    },
    {
     "name": "stderr",
     "output_type": "stream",
     "text": [
      "0-3 / 3 (0.25s)\u001b[0m\n",
      "===\n",
      "Records extracted: 3\u001b[0m\n",
      "Starting iteration with limit=1000 skip=0 ...\u001b[0m\n"
     ]
    },
    {
     "name": "stdout",
     "output_type": "stream",
     "text": [
      "++++++++ FINAL 3 Working ID(s) +++++++++++\n",
      "{'ur.01205731353.68', 'ur.01162457501.01', 'ur.0752215152.37'}\n"
     ]
    },
    {
     "name": "stderr",
     "output_type": "stream",
     "text": [
      "0-1 / 1 (4.54s)\u001b[0m\n",
      "===\n",
      "Records extracted: 1\u001b[0m\n",
      "Starting iteration with limit=1000 skip=0 ...\u001b[0m\n"
     ]
    },
    {
     "name": "stdout",
     "output_type": "stream",
     "text": [
      "Total of 1 unique ids for Troyen Brennan \n"
     ]
    },
    {
     "name": "stderr",
     "output_type": "stream",
     "text": [
      "0-1 / 1 (6.00s)\u001b[0m\n",
      "===\n",
      "Records extracted: 1\u001b[0m\n",
      "Starting iteration with limit=1000 skip=0 ...\u001b[0m\n"
     ]
    },
    {
     "name": "stdout",
     "output_type": "stream",
     "text": [
      "++++++++ FINAL 1 Working ID(s) +++++++++++\n",
      "{'ur.01331435353.26'}\n",
      "Troyen Brennan 16\n"
     ]
    },
    {
     "name": "stderr",
     "output_type": "stream",
     "text": [
      "0-5 / 5 (6.06s)\u001b[0m\n",
      "===\n",
      "Records extracted: 5\u001b[0m\n",
      "Starting iteration with limit=1000 skip=0 ...\u001b[0m\n"
     ]
    },
    {
     "name": "stdout",
     "output_type": "stream",
     "text": [
      "Total of 5 unique ids for Richard Bucala \n"
     ]
    },
    {
     "name": "stderr",
     "output_type": "stream",
     "text": [
      "0-5 / 5 (0.25s)\u001b[0m\n",
      "===\n",
      "Records extracted: 5\u001b[0m\n",
      "Starting iteration with limit=1000 skip=0 ...\u001b[0m\n"
     ]
    },
    {
     "name": "stdout",
     "output_type": "stream",
     "text": [
      "++++++++ FINAL 5 Working ID(s) +++++++++++\n",
      "{'ur.015352661725.51', 'ur.013151720017.63', 'ur.011110375415.38', 'ur.012545433525.06', 'ur.010463044551.18'}\n"
     ]
    },
    {
     "name": "stderr",
     "output_type": "stream",
     "text": [
      "0-1 / 1 (0.31s)\u001b[0m\n",
      "===\n",
      "Records extracted: 1\u001b[0m\n",
      "Starting iteration with limit=1000 skip=0 ...\u001b[0m\n"
     ]
    },
    {
     "name": "stdout",
     "output_type": "stream",
     "text": [
      "Total of 1 unique ids for Phillip Chance \n"
     ]
    },
    {
     "name": "stderr",
     "output_type": "stream",
     "text": [
      "0-1 / 1 (4.47s)\u001b[0m\n",
      "===\n",
      "Records extracted: 1\u001b[0m\n",
      "Starting iteration with limit=1000 skip=0 ...\u001b[0m\n"
     ]
    },
    {
     "name": "stdout",
     "output_type": "stream",
     "text": [
      "++++++++ FINAL 1 Working ID(s) +++++++++++\n",
      "{'ur.01224060372.64'}\n",
      "Phillip Chance 17\n"
     ]
    },
    {
     "name": "stderr",
     "output_type": "stream",
     "text": [
      "0-111 / 111 (0.27s)\u001b[0m\n",
      "===\n",
      "Records extracted: 111\u001b[0m\n",
      "Starting iteration with limit=1000 skip=0 ...\u001b[0m\n"
     ]
    },
    {
     "name": "stdout",
     "output_type": "stream",
     "text": [
      "Total of 111 unique ids for Michael Clarke \n"
     ]
    },
    {
     "name": "stderr",
     "output_type": "stream",
     "text": [
      "0-111 / 111 (4.28s)\u001b[0m\n",
      "===\n",
      "Records extracted: 111\u001b[0m\n",
      "Starting iteration with limit=1000 skip=0 ...\u001b[0m\n"
     ]
    },
    {
     "name": "stdout",
     "output_type": "stream",
     "text": [
      "++++++++ FINAL 111 Working ID(s) +++++++++++\n",
      "{'ur.011522017627.34', 'ur.015672574204.00', 'ur.011553770403.12', 'ur.0706012336.19', 'ur.010252032663.21', 'ur.013026665621.37', 'ur.010075155653.11', 'ur.011312777777.79', 'ur.01006724474.38', 'ur.01066617722.07', 'ur.01231341306.35', 'ur.016614073437.06', 'ur.01064361352.03', 'ur.015373646263.38', 'ur.014534522620.04', 'ur.014415755302.83', 'ur.010506442207.35', 'ur.01040274676.78', 'ur.010506712562.99', 'ur.01031576505.90', 'ur.013427212112.49', 'ur.01316644444.93', 'ur.010740703700.29', 'ur.01352143621.24', 'ur.013105520737.36', 'ur.014644301470.66', 'ur.016521715202.92', 'ur.016647047345.11', 'ur.015027731547.08', 'ur.013726301251.85', 'ur.012761436610.23', 'ur.01276330755.07', 'ur.0600650523.14', 'ur.014152505756.23', 'ur.014436761630.34', 'ur.01212243214.17', 'ur.011430053302.95', 'ur.013300373437.68', 'ur.07471461611.20', 'ur.013102662173.00', 'ur.014036321607.62', 'ur.010341352647.06', 'ur.054724756.98', 'ur.013621301342.39', 'ur.014334320610.93', 'ur.07347663777.84', 'ur.013607114306.94', 'ur.01010312617.60', 'ur.014442727412.49', 'ur.014077773704.32', 'ur.014317460145.81', 'ur.015520663705.70', 'ur.012543053570.52', 'ur.015740061144.17', 'ur.0607041540.71', 'ur.0603135163.46', 'ur.07467274643.25', 'ur.061542147.73', 'ur.01144112266.00', 'ur.013706276107.59', 'ur.013113452762.93', 'ur.01070374512.38', 'ur.011026010060.29', 'ur.015175364713.55', 'ur.012614626475.92', 'ur.0724602444.78', 'ur.01217216346.10', 'ur.010661311471.07', 'ur.01204774443.53', 'ur.014252171603.70', 'ur.0776044321.86', 'ur.01251011355.62', 'ur.013172166622.40', 'ur.014726101745.24', 'ur.0610630642.57', 'ur.01355156613.96', 'ur.016430151047.21', 'ur.016643116223.59', 'ur.011041567000.64', 'ur.01153476240.46', 'ur.01130046050.34', 'ur.011560547573.24', 'ur.016513573620.83', 'ur.0661346532.45', 'ur.07627740012.31', 'ur.010532253767.80', 'ur.01262201062.79', 'ur.07765407712.23', 'ur.012040423471.14', 'ur.011126124057.20', 'ur.07476075671.12', 'ur.01177155144.89', 'ur.01263745610.42', 'ur.010054400617.20', 'ur.013516770730.17', 'ur.014216653614.50', 'ur.010600543055.28', 'ur.01262230422.33', 'ur.015237223666.64', 'ur.01337001501.52', 'ur.01001720010.58', 'ur.012721170525.55', 'ur.011020675602.73', 'ur.016112464106.72', 'ur.012022756612.58', 'ur.01232732005.97', 'ur.0614231217.58', 'ur.07353347532.40', 'ur.011423070225.90', 'ur.016516620304.08', 'ur.011127704572.96'}\n"
     ]
    },
    {
     "name": "stderr",
     "output_type": "stream",
     "text": [
      "0-5 / 5 (0.33s)\u001b[0m\n",
      "===\n",
      "Records extracted: 5\u001b[0m\n",
      "Starting iteration with limit=1000 skip=0 ...\u001b[0m\n"
     ]
    },
    {
     "name": "stdout",
     "output_type": "stream",
     "text": [
      "Total of 5 unique ids for Thomas Coffman \n"
     ]
    },
    {
     "name": "stderr",
     "output_type": "stream",
     "text": [
      "0-5 / 5 (4.14s)\u001b[0m\n",
      "===\n",
      "Records extracted: 5\u001b[0m\n",
      "Starting iteration with limit=1000 skip=0 ...\u001b[0m\n"
     ]
    },
    {
     "name": "stdout",
     "output_type": "stream",
     "text": [
      "++++++++ FINAL 5 Working ID(s) +++++++++++\n",
      "{'ur.0740460046.64', 'ur.016157176364.43', 'ur.010264563272.32', 'ur.01055204160.88', 'ur.0111321162.06'}\n"
     ]
    },
    {
     "name": "stderr",
     "output_type": "stream",
     "text": [
      "0-8 / 8 (0.35s)\u001b[0m\n",
      "===\n",
      "Records extracted: 8\u001b[0m\n",
      "Starting iteration with limit=1000 skip=0 ...\u001b[0m\n"
     ]
    },
    {
     "name": "stdout",
     "output_type": "stream",
     "text": [
      "Total of 8 unique ids for David Curiel \n"
     ]
    },
    {
     "name": "stderr",
     "output_type": "stream",
     "text": [
      "0-8 / 8 (0.24s)\u001b[0m\n",
      "===\n",
      "Records extracted: 8\u001b[0m\n",
      "Starting iteration with limit=1000 skip=0 ...\u001b[0m\n"
     ]
    },
    {
     "name": "stdout",
     "output_type": "stream",
     "text": [
      "++++++++ FINAL 8 Working ID(s) +++++++++++\n",
      "{'ur.014245610777.23', 'ur.011171634042.11', 'ur.015421540637.19', 'ur.01153251143.34', 'ur.01273407603.63', 'ur.014140666201.86', 'ur.01027325153.32', 'ur.015755000377.15'}\n"
     ]
    },
    {
     "name": "stderr",
     "output_type": "stream",
     "text": [
      "0-2 / 2 (2.51s)\u001b[0m\n",
      "===\n",
      "Records extracted: 2\u001b[0m\n",
      "Starting iteration with limit=1000 skip=0 ...\u001b[0m\n"
     ]
    },
    {
     "name": "stdout",
     "output_type": "stream",
     "text": [
      "Total of 2 unique ids for Patrice Delafontaine \n"
     ]
    },
    {
     "name": "stderr",
     "output_type": "stream",
     "text": [
      "0-2 / 2 (5.99s)\u001b[0m\n",
      "===\n",
      "Records extracted: 2\u001b[0m\n",
      "Starting iteration with limit=1000 skip=0 ...\u001b[0m\n"
     ]
    },
    {
     "name": "stdout",
     "output_type": "stream",
     "text": [
      "++++++++ FINAL 2 Working ID(s) +++++++++++\n",
      "{'ur.011631373055.36', 'ur.010415466657.23'}\n"
     ]
    },
    {
     "name": "stderr",
     "output_type": "stream",
     "text": [
      "0-2 / 2 (0.26s)\u001b[0m\n",
      "===\n",
      "Records extracted: 2\u001b[0m\n",
      "Starting iteration with limit=1000 skip=0 ...\u001b[0m\n"
     ]
    },
    {
     "name": "stdout",
     "output_type": "stream",
     "text": [
      "Total of 2 unique ids for Stephen Desiderio \n"
     ]
    },
    {
     "name": "stderr",
     "output_type": "stream",
     "text": [
      "0-2 / 2 (0.23s)\u001b[0m\n",
      "===\n",
      "Records extracted: 2\u001b[0m\n",
      "Starting iteration with limit=1000 skip=0 ...\u001b[0m\n"
     ]
    },
    {
     "name": "stdout",
     "output_type": "stream",
     "text": [
      "++++++++ FINAL 2 Working ID(s) +++++++++++\n",
      "{'ur.0716074762.94', 'ur.010042360432.63'}\n"
     ]
    },
    {
     "name": "stderr",
     "output_type": "stream",
     "text": [
      "0-3 / 3 (3.17s)\u001b[0m\n",
      "===\n",
      "Records extracted: 3\u001b[0m\n",
      "Starting iteration with limit=1000 skip=0 ...\u001b[0m\n"
     ]
    },
    {
     "name": "stdout",
     "output_type": "stream",
     "text": [
      "Total of 3 unique ids for John DiPersio \n"
     ]
    },
    {
     "name": "stderr",
     "output_type": "stream",
     "text": [
      "0-3 / 3 (5.64s)\u001b[0m\n",
      "===\n",
      "Records extracted: 3\u001b[0m\n",
      "Starting iteration with limit=1000 skip=0 ...\u001b[0m\n"
     ]
    },
    {
     "name": "stdout",
     "output_type": "stream",
     "text": [
      "++++++++ FINAL 3 Working ID(s) +++++++++++\n",
      "{'ur.016465051733.10', 'ur.011246203021.49', 'ur.0755514036.46'}\n"
     ]
    },
    {
     "name": "stderr",
     "output_type": "stream",
     "text": [
      "0-5 / 5 (6.05s)\u001b[0m\n",
      "===\n",
      "Records extracted: 5\u001b[0m\n",
      "Starting iteration with limit=1000 skip=0 ...\u001b[0m\n"
     ]
    },
    {
     "name": "stdout",
     "output_type": "stream",
     "text": [
      "Total of 5 unique ids for Vishva Dixit \n"
     ]
    },
    {
     "name": "stderr",
     "output_type": "stream",
     "text": [
      "0-5 / 5 (0.32s)\u001b[0m\n",
      "===\n",
      "Records extracted: 5\u001b[0m\n",
      "Starting iteration with limit=1000 skip=0 ...\u001b[0m\n"
     ]
    },
    {
     "name": "stdout",
     "output_type": "stream",
     "text": [
      "++++++++ FINAL 5 Working ID(s) +++++++++++\n",
      "{'ur.015301413172.07', 'ur.011674675141.42', 'ur.011550340066.10', 'ur.014776761672.73', 'ur.016707666126.42'}\n"
     ]
    },
    {
     "name": "stderr",
     "output_type": "stream",
     "text": [
      "0-3 / 3 (4.19s)\u001b[0m\n",
      "===\n",
      "Records extracted: 3\u001b[0m\n",
      "Starting iteration with limit=1000 skip=0 ...\u001b[0m\n"
     ]
    },
    {
     "name": "stdout",
     "output_type": "stream",
     "text": [
      "Total of 3 unique ids for Andrea Dunaif \n"
     ]
    },
    {
     "name": "stderr",
     "output_type": "stream",
     "text": [
      "0-3 / 3 (6.04s)\u001b[0m\n",
      "===\n",
      "Records extracted: 3\u001b[0m\n",
      "Starting iteration with limit=1000 skip=0 ...\u001b[0m\n"
     ]
    },
    {
     "name": "stdout",
     "output_type": "stream",
     "text": [
      "++++++++ FINAL 3 Working ID(s) +++++++++++\n",
      "{'ur.010346772667.59', 'ur.013504174110.32', 'ur.01037322204.55'}\n"
     ]
    },
    {
     "name": "stderr",
     "output_type": "stream",
     "text": [
      "0-3 / 3 (0.30s)\u001b[0m\n",
      "===\n",
      "Records extracted: 3\u001b[0m\n",
      "Starting iteration with limit=1000 skip=0 ...\u001b[0m\n"
     ]
    },
    {
     "name": "stdout",
     "output_type": "stream",
     "text": [
      "Total of 3 unique ids for James Feramisco \n"
     ]
    },
    {
     "name": "stderr",
     "output_type": "stream",
     "text": [
      "0-3 / 3 (0.26s)\u001b[0m\n",
      "===\n",
      "Records extracted: 3\u001b[0m\n",
      "Starting iteration with limit=1000 skip=0 ...\u001b[0m\n"
     ]
    },
    {
     "name": "stdout",
     "output_type": "stream",
     "text": [
      "++++++++ FINAL 3 Working ID(s) +++++++++++\n",
      "{'ur.07437441477.98', 'ur.012633022312.07', 'ur.01201451723.58'}\n"
     ]
    },
    {
     "name": "stderr",
     "output_type": "stream",
     "text": [
      "0-11 / 11 (2.44s)\u001b[0m\n",
      "===\n",
      "Records extracted: 11\u001b[0m\n",
      "Starting iteration with limit=1000 skip=0 ...\u001b[0m\n"
     ]
    },
    {
     "name": "stdout",
     "output_type": "stream",
     "text": [
      "Total of 11 unique ids for Elizabeth Field \n"
     ]
    },
    {
     "name": "stderr",
     "output_type": "stream",
     "text": [
      "0-11 / 11 (0.32s)\u001b[0m\n",
      "===\n",
      "Records extracted: 11\u001b[0m\n",
      "Starting iteration with limit=1000 skip=0 ...\u001b[0m\n"
     ]
    },
    {
     "name": "stdout",
     "output_type": "stream",
     "text": [
      "++++++++ FINAL 11 Working ID(s) +++++++++++\n",
      "{'ur.0756536543.97', 'ur.01235610462.02', 'ur.014005300364.54', 'ur.015210411232.97', 'ur.0716675516.17', 'ur.07557237255.51', 'ur.013444643347.36', 'ur.010034121544.79', 'ur.01111300464.88', 'ur.013206713617.84', 'ur.01003361003.95'}\n"
     ]
    },
    {
     "name": "stderr",
     "output_type": "stream",
     "text": [
      "0-7 / 7 (4.23s)\u001b[0m\n",
      "===\n",
      "Records extracted: 7\u001b[0m\n",
      "Starting iteration with limit=1000 skip=0 ...\u001b[0m\n"
     ]
    },
    {
     "name": "stdout",
     "output_type": "stream",
     "text": [
      "Total of 7 unique ids for Gary Firestein \n"
     ]
    },
    {
     "name": "stderr",
     "output_type": "stream",
     "text": [
      "0-7 / 7 (0.26s)\u001b[0m\n",
      "===\n",
      "Records extracted: 7\u001b[0m\n",
      "Starting iteration with limit=1000 skip=0 ...\u001b[0m\n"
     ]
    },
    {
     "name": "stdout",
     "output_type": "stream",
     "text": [
      "++++++++ FINAL 7 Working ID(s) +++++++++++\n",
      "{'ur.014521455535.04', 'ur.01274220164.44', 'ur.014275661437.49', 'ur.012732555321.31', 'ur.010204235023.41', 'ur.011371754775.89', 'ur.014530443557.80'}\n"
     ]
    },
    {
     "name": "stderr",
     "output_type": "stream",
     "text": [
      "0-3 / 3 (4.56s)\u001b[0m\n",
      "===\n",
      "Records extracted: 3\u001b[0m\n",
      "Starting iteration with limit=1000 skip=0 ...\u001b[0m\n"
     ]
    },
    {
     "name": "stdout",
     "output_type": "stream",
     "text": [
      "Total of 3 unique ids for Naomi Fukagawa \n"
     ]
    },
    {
     "name": "stderr",
     "output_type": "stream",
     "text": [
      "0-3 / 3 (6.07s)\u001b[0m\n",
      "===\n",
      "Records extracted: 3\u001b[0m\n",
      "Starting iteration with limit=1000 skip=0 ...\u001b[0m\n"
     ]
    },
    {
     "name": "stdout",
     "output_type": "stream",
     "text": [
      "++++++++ FINAL 3 Working ID(s) +++++++++++\n",
      "{'ur.010313643714.76', 'ur.01370122511.60', 'ur.0703121126.18'}\n"
     ]
    },
    {
     "name": "stderr",
     "output_type": "stream",
     "text": [
      "0-11 / 11 (0.29s)\u001b[0m\n",
      "===\n",
      "Records extracted: 11\u001b[0m\n",
      "Starting iteration with limit=1000 skip=0 ...\u001b[0m\n"
     ]
    },
    {
     "name": "stdout",
     "output_type": "stream",
     "text": [
      "Total of 11 unique ids for Joe Garcia \n"
     ]
    },
    {
     "name": "stderr",
     "output_type": "stream",
     "text": [
      "0-11 / 11 (0.26s)\u001b[0m\n",
      "===\n",
      "Records extracted: 11\u001b[0m\n",
      "Starting iteration with limit=1000 skip=0 ...\u001b[0m\n"
     ]
    },
    {
     "name": "stdout",
     "output_type": "stream",
     "text": [
      "++++++++ FINAL 11 Working ID(s) +++++++++++\n",
      "{'ur.014232143421.52', 'ur.014420750733.66', 'ur.012517511423.02', 'ur.015267210520.55', 'ur.012045344367.93', 'ur.014023656157.77', 'ur.01066225246.07', 'ur.07755721103.61', 'ur.013714316030.22', 'ur.016576140453.95', 'ur.013773367347.48'}\n"
     ]
    },
    {
     "name": "stderr",
     "output_type": "stream",
     "text": [
      "0-2 / 2 (2.42s)\u001b[0m\n",
      "===\n",
      "Records extracted: 2\u001b[0m\n",
      "Starting iteration with limit=1000 skip=0 ...\u001b[0m\n"
     ]
    },
    {
     "name": "stdout",
     "output_type": "stream",
     "text": [
      "Total of 2 unique ids for Julie Gerberding \n"
     ]
    },
    {
     "name": "stderr",
     "output_type": "stream",
     "text": [
      "0-2 / 2 (0.30s)\u001b[0m\n",
      "===\n",
      "Records extracted: 2\u001b[0m\n",
      "Starting iteration with limit=1000 skip=0 ...\u001b[0m\n"
     ]
    },
    {
     "name": "stdout",
     "output_type": "stream",
     "text": [
      "++++++++ FINAL 2 Working ID(s) +++++++++++\n",
      "{'ur.01157010210.37', 'ur.016106226076.18'}\n"
     ]
    },
    {
     "name": "stderr",
     "output_type": "stream",
     "text": [
      "0-3 / 3 (4.26s)\u001b[0m\n",
      "===\n",
      "Records extracted: 3\u001b[0m\n",
      "Starting iteration with limit=1000 skip=0 ...\u001b[0m\n"
     ]
    },
    {
     "name": "stdout",
     "output_type": "stream",
     "text": [
      "Total of 3 unique ids for Francis Gigliotti \n"
     ]
    },
    {
     "name": "stderr",
     "output_type": "stream",
     "text": [
      "0-3 / 3 (0.25s)\u001b[0m\n",
      "===\n",
      "Records extracted: 3\u001b[0m\n",
      "Starting iteration with limit=1000 skip=0 ...\u001b[0m\n"
     ]
    },
    {
     "name": "stdout",
     "output_type": "stream",
     "text": [
      "++++++++ FINAL 3 Working ID(s) +++++++++++\n",
      "{'ur.01267631365.29', 'ur.0612074377.64', 'ur.014503114362.31'}\n"
     ]
    },
    {
     "name": "stderr",
     "output_type": "stream",
     "text": [
      "0-8 / 8 (0.27s)\u001b[0m\n",
      "===\n",
      "Records extracted: 8\u001b[0m\n",
      "Starting iteration with limit=1000 skip=0 ...\u001b[0m\n"
     ]
    },
    {
     "name": "stdout",
     "output_type": "stream",
     "text": [
      "Total of 8 unique ids for David Golan \n"
     ]
    },
    {
     "name": "stderr",
     "output_type": "stream",
     "text": [
      "0-8 / 8 (4.54s)\u001b[0m\n",
      "===\n",
      "Records extracted: 8\u001b[0m\n"
     ]
    },
    {
     "name": "stdout",
     "output_type": "stream",
     "text": [
      "++++++++ FINAL 8 Working ID(s) +++++++++++\n",
      "{'ur.015601425747.72', 'ur.013411104347.36', 'ur.016377006347.90', 'ur.0770777565.58', 'ur.012764675327.78', 'ur.012106750212.06', 'ur.01144174070.48', 'ur.07423033552.33'}\n"
     ]
    }
   ],
   "source": [
    "def allIds(namesList):\n",
    "    finalNames = {} \n",
    "    secondNames = {}\n",
    "    zeroNames = {}\n",
    "    count = 0\n",
    "\n",
    "    for name in namesList:\n",
    "        try:\n",
    "            validIds = researcherIds(name)\n",
    "\n",
    "            if len(validIds) == 0:\n",
    "                zeroNames[name] = set()\n",
    "                finalNames[name] = set()\n",
    "                pass\n",
    "            elif len(validIds) == 1:\n",
    "                count += 1\n",
    "                print(name, count)\n",
    "                finalNames[name] = validIds\n",
    "            elif len(validIds) == 2:\n",
    "                secondNames[name] = validIds\n",
    "                finalNames[name] = validIds\n",
    "            else:\n",
    "                finalNames[name] = validIds\n",
    "        except Exception as e:\n",
    "            print(f\"An error occurred for {name}: {e}\")\n",
    "    return finalNames, secondNames, zeroNames\n",
    "        \n",
    "resultAll, pairsAll, zeroNames = allIds(all_names)\n",
    "#resultAll is all names with more than two ids\n",
    "#pairsAll is all names with two ids\n",
    "#zeroNames is all names with no ids"
   ]
  },
  {
   "cell_type": "code",
   "execution_count": 11,
   "id": "7be67287",
   "metadata": {},
   "outputs": [
    {
     "name": "stdout",
     "output_type": "stream",
     "text": [
      "149\n",
      "15\n",
      "0\n"
     ]
    }
   ],
   "source": [
    "#this writes only names with more than two ids to file\n",
    "print(len(resultAll))\n",
    "print(len(pairsAll))\n",
    "print(len(zeroNames))\n",
    "\n",
    "def write_set_to_csv(file_path, my_set):\n",
    "    with open(file_path, 'w', newline='') as csv_file:\n",
    "        writer = csv.writer(csv_file)\n",
    "\n",
    "        # Write the header\n",
    "        writer.writerow(['Name', 'ID'])\n",
    "\n",
    "        # Write the data\n",
    "        for name, id_set in my_set.items():                \n",
    "            id_set = list(id_set)\n",
    "            writer.writerow([name, id_set])\n",
    "            \n",
    "write_set_to_csv(\"dimensionsAI_NameIds.csv\", resultAll)\n"
   ]
  },
  {
   "cell_type": "code",
   "execution_count": 12,
   "id": "8604461e",
   "metadata": {},
   "outputs": [
    {
     "ename": "TypeError",
     "evalue": "unhashable type: 'dict'",
     "output_type": "error",
     "traceback": [
      "\u001b[0;31m---------------------------------------------------------------------------\u001b[0m",
      "\u001b[0;31mTypeError\u001b[0m                                 Traceback (most recent call last)",
      "Cell \u001b[0;32mIn[12], line 2\u001b[0m\n\u001b[1;32m      1\u001b[0m \u001b[38;5;66;03m#if you want to write all you names to a csv file\u001b[39;00m\n\u001b[0;32m----> 2\u001b[0m merged_dict \u001b[38;5;241m=\u001b[39m {resultAll, pairsAll, zeroNames}\n\u001b[1;32m      3\u001b[0m write_set_to_csv(\u001b[38;5;124m\"\u001b[39m\u001b[38;5;124mdimensionsAI_NameIds.csv\u001b[39m\u001b[38;5;124m\"\u001b[39m, merged_dict)\n",
      "\u001b[0;31mTypeError\u001b[0m: unhashable type: 'dict'"
     ]
    }
   ],
   "source": [
    "#if you want to write all you names to a csv file\n",
    "merged_dict = {resultAll, pairsAll, zeroNames}\n",
    "write_set_to_csv(\"dimensionsAI_NameIds.csv\", merged_dict)"
   ]
  }
 ],
 "metadata": {
  "kernelspec": {
   "display_name": ".venv",
   "language": "python",
   "name": "python3"
  },
  "language_info": {
   "codemirror_mode": {
    "name": "ipython",
    "version": 3
   },
   "file_extension": ".py",
   "mimetype": "text/x-python",
   "name": "python",
   "nbconvert_exporter": "python",
   "pygments_lexer": "ipython3",
   "version": "3.9.6"
  }
 },
 "nbformat": 4,
 "nbformat_minor": 5
}
