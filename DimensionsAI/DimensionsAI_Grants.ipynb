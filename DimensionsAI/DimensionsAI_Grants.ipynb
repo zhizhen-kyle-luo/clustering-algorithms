{
 "cells": [
  {
   "cell_type": "code",
   "execution_count": 1,
   "metadata": {},
   "outputs": [
    {
     "name": "stderr",
     "output_type": "stream",
     "text": [
      "c:\\Users\\ashle\\Anaconda\\lib\\site-packages\\scipy\\__init__.py:155: UserWarning: A NumPy version >=1.18.5 and <1.25.0 is required for this version of SciPy (detected version 1.26.4\n",
      "  warnings.warn(f\"A NumPy version >={np_minversion} and <{np_maxversion}\"\n"
     ]
    }
   ],
   "source": [
    "from tqdm.notebook import tqdm as progress\n",
    "import pandas as pd\n",
    "import plotly.express as px\n",
    "from plotly.offline import plot\n",
    "import dimcli\n",
    "from dimcli.utils import *\n",
    "import os, sys, time, json\n",
    "from IPython.display import Image\n",
    "from IPython.core.display import HTML "
   ]
  },
  {
   "cell_type": "code",
   "execution_count": 2,
   "metadata": {},
   "outputs": [
    {
     "name": "stdout",
     "output_type": "stream",
     "text": [
      "==\n",
      "Logging in..\n",
      "\u001b[2mDimcli - Dimensions API Client (v1.2)\u001b[0m\n",
      "\u001b[2mConnected to: <https://app.dimensions.ai/api/dsl> - DSL v2.9\u001b[0m\n",
      "\u001b[2mMethod: manual login\u001b[0m\n"
     ]
    }
   ],
   "source": [
    "#Log into Dimensions\n",
    "#API key is: 9F8D648F0D7E437CB1736BEBDF007F02\n",
    "#!pip install dimcli -U --quiet \n",
    "\n",
    "print(\"==\\nLogging in..\")\n",
    "# https://digital-science.github.io/dimcli/getting-started.html#authentication\n",
    "ENDPOINT = \"https://app.dimensions.ai\"\n",
    "if 'google.colab' in sys.modules:\n",
    "    import getpass\n",
    "    KEY = getpass.getpass(prompt='API Key: ')  \n",
    "    dimcli.login(key=KEY, endpoint=ENDPOINT)\n",
    "else:\n",
    "    KEY = \"9F8D648F0D7E437CB1736BEBDF007F02\"\n",
    "    dimcli.login(key=KEY, endpoint=ENDPOINT)\n",
    "dsl = dimcli.Dsl()\n",
    "\n"
   ]
  },
  {
   "cell_type": "code",
   "execution_count": 3,
   "metadata": {},
   "outputs": [
    {
     "name": "stdout",
     "output_type": "stream",
     "text": [
      "{\"alan d'andrea\": ['ur.012727024557.25'], 'james fagin': ['ur.01002446502.38'], 'daniel haber': ['ur.01221020161.61'], 'ethylin jabs': ['ur.0757041626.26'], 'karl nath': ['ur.0621613670.95'], 'bishr omary': ['ur.014730211054.29'], 'john raymond': ['ur.0717265610.95'], 'fuad ziyadeh': ['ur.0761676730.05'], 'maria abreu': ['ur.0606477677.70'], 'michael ackerman': ['ur.01227355747.25'], 'mariana kaplan': ['ur.012647507142.53'], 'feroz papa': ['ur.01147037443.33'], 'paul taylor': ['ur.013436160257.94'], 'loren walensky': ['ur.01324277771.74'], 'yiping yang': ['ur.0707211155.90'], 'steven albelda': ['ur.015000016117.95'], 'richard  anderson': ['ur.010576736217.64'], 'peter arvan': ['ur.01002760245.88'], 'adam asch': ['ur.0615715006.01'], 'john belmont': ['ur.01140262452.40'], 'bradford berk': ['ur.012523312277.63'], 'morris birnbaum': ['ur.01033446252.27'], 'richard blumberg': ['ur.0633257054.96'], 'douglas bradley': ['ur.01153467234.36'], 'kenneth bridges': ['ur.016162551417.02'], 'william carroll': ['ur.01244066051.55'], 'christine cartwright': ['ur.01003065721.10', 'ur.0741204747.88'], 'webster cavenee': ['ur.012740223223.69'], 'anthony cerami': ['ur.01213472726.84'], 'jeffrey cohen': ['ur.01325554464.07'], 'fabio cominelli': ['ur.0620555626.93'], 'james covell': ['ur.01102714156.98'], 'bruce cronstein': ['ur.0711105165.79'], 'garry cutting': ['ur.0752157206.07'], 'mary dinauer': ['ur.0651722340.16'], 'daniel drucker': ['ur.0763704140.49'], 'keith elkon': ['ur.01336001101.35'], 'scott friedman': ['ur.01152344370.10'], 'gerhard giebisch': ['ur.0772206703.69'], 'dwight gary gilliland': ['ur.0744536167.42'], 'christopher glass': ['ur.01067240353.95'], 'daniel goldberg': ['ur.01157271565.79'], 'roberto ariel gomez': ['ur.01356023066.14'], 'john griffin': ['ur.016604543402.68'], 'murray grossman': ['ur.01305430265.06'], 'samuel hawgood': ['ur.013155066547.55'], 'jay heinecke': ['ur.01020255414.31'], 'stephen heinemann': ['ur.014171277202.92'], 'alan hillman': ['ur.01271177722.98', 'ur.0627200551.43'], 'suzanne ildstad': ['ur.0636442207.95'], 'richard johnson': ['ur.010175037017.23'], 'william kane': ['ur.0665466315.82'], 'stefan karlsson': ['ur.0622521714.49'], 'michael kastan': ['ur.01277715415.41'], 'daniel kastner': ['ur.012247544157.63'], 'carolyn kelly': ['ur.0716143620.18'], 'shannon kenney': ['ur.0663774106.86'], 'brian kobilka': ['ur.01107022045.13'], 'james krueger': ['ur.012632026177.48'], 'david kwiatkowski': ['ur.01045437517.59'], 'jack leahy': ['ur.011437130222.71'], 'thomas lee': ['ur.01130535435.19'], 'wilbur lew': ['ur.01205170110.03'], 'michael lieber': ['ur.01251725136.98'], 'howard lippton': ['ur.01236526331.24'], 'edison liu': ['ur.01244760140.44'], 'nicole lurie': ['ur.01302155501.56'], 'sanford markowitz': ['ur.015750001717.89'], 'andrew marks': ['ur.01072670717.67'], 'donald mcclain': ['ur.010572272337.66'], 'michael mcphaul': ['ur.01323534056.92'], 'hiroaki mitsuya': ['ur.0606570120.14'], 'timothy murphy': ['ur.015563027057.11'], 'george palade': ['ur.01315756601.55'], 'thomas pallone': ['ur.01122016026.09'], 'james paulson': ['ur.0627076066.77'], 'alice pentland': ['ur.01346121507.66'], 'william petri jr.': ['ur.0704212656.70'], 'roger pomerantz': ['ur.0735065052.71'], 'lewis rubin': ['ur.0756075734.69'], 'erkki ruoslahti': ['ur.075643133.08'], 'paul sanders': ['ur.01147010000.10'], 'james schafer': ['ur.01211311752.94'], 'daniel schuster': ['ur.01160710210.68'], 'david schwartz': ['ur.0637453473.51'], 'gregg semenza': ['ur.01254223162.13'], 'peter st. george-hyslop': ['ur.01272213066.16'], 'jonathan stamler': ['ur.0673753523.71'], 'samuel stanley': ['ur.016036762337.68'], 'charles stevens': ['ur.013317500652.16'], 'vikas sukhatme': ['ur.0612750636.84'], 'palmer taylor': ['ur.0654367343.57'], 'laurence turka': ['ur.01315400021.90'], 'andre veillette': ['ur.01370223226.10'], 'stephen wank': ['ur.01014762776.19'], 'allan weissman': ['ur.0645763160.52'], 'michael wessels': ['ur.01342670351.13'], 'samuel wickline': ['ur.01144204341.44'], 'fredric wondisford': ['ur.0575545206.08'], 'david andes': ['ur.0724231274.33'], 'scott armstrong': ['ur.0605712636.64'], 'graham barr': ['ur.01053041010.79'], 'marcel behr': ['ur.0654234066.86'], 'daniel benjamin': ['ur.016415321222.00'], 'ernesto bernal-mizrachi': ['ur.01101102662.02'], 'kirsten bibbins-domingo': ['ur.010620043557.11'], 'catherine bollard': ['ur.01125327571.07'], 'marcus bosenberg': ['ur.0661634627.36'], 'russ carstens': ['ur.011070650007.71'], 'juan celedon': ['ur.01210111627.99'], 'benjamin chen': ['ur.01173627414.69'], 'emily cheng': ['ur.014240332477.14'], 'charleen chu': ['ur.07665720167.12'], 'john chute': ['ur.014706774767.94'], 'edward sander connolly': ['ur.01173232612.67'], 'jonathan dranoff': ['ur.0703642674.64'], 'raymond adams dudley': ['ur.0604413006.33'], 'charles eberhart': ['ur.0775321062.58'], 'charles esmon': ['ur.01065507416.27'], 'francisco esteva': ['ur.01130347417.06'], 'nikolaos frangogiannis': ['ur.01255200715.86'], 'ali gharavi': ['ur.012203472074.86'], 'maura gillison': ['ur.01106271435.77'], 'paul goepfert': ['ur.0625272302.13'], 'daniel goldstein': ['ur.01310116146.23'], 'laura haneline': ['ur.0711517452.48'], 'tzung hsiai': ['ur.01134672503.93'], 'james hsieh': ['ur.0631053106.24'], 'linden hu': ['ur.01333042221.11'], 'terrie inder': ['ur.0620674221.66'], 'raghu kalluri': ['ur.0714371057.61'], 'bjorn knollmann': ['ur.015045506007.80'], 'andrew kung': ['ur.01041700036.85'], 'james lewis': ['ur.015262716107.02'], 'gary luker': ['ur.0727657075.71'], 'richard malley': ['ur.0740376070.63'], 'mehrdad matloubian': ['ur.0772745010.90'], 'franck mauvais-jarvis': ['ur.0703373116.16'], 'raghavendra mirmira': ['ur.0762775110.66'], 'joshua nosanchuk': ['ur.015756017657.79'], 'lucila ohno-machado': ['ur.01143047214.87'], 'hideho okada': ['ur.0741146020.92'], 'jordan orange': ['ur.0774334672.45'], 'jonathan powell': ['ur.01162106561.71'], 'sridhar ramaswamy': ['ur.01022315720.67'], 'muredach reilly': ['ur.013551442357.17'], 'jeremy reiter': ['ur.01174455631.12'], 'charles roberts': ['ur.012404741132.65'], 'william robinson': ['ur.01036436624.26'], 'evan rosen': ['ur.01307371374.44'], 'charles rudin': ['ur.0712434301.07'], 'ida sim': ['ur.01202263115.16'], 'upinder singh': ['ur.01061572211.26'], 'rhonda souza': ['ur.0751006274.35'], 'kimberly stegmaier': ['ur.01323203047.64'], 'constantine stratakis': ['ur.011151216517.08'], 'john tisdale': ['ur.01206574465.13'], 'thomas wang': ['ur.01024164315.00'], 'myles wolf': ['ur.0652523657.55'], 'alan yu': ['ur.015100501062.34']}\n"
     ]
    }
   ],
   "source": [
    "\n",
    "#Link to grant variables description: https://docs.dimensions.ai/dsl/datasource-grants.html#grants\n",
    "search_Var = \"[abstract + active_year + category_bra + category_for + category_for_2020 + category_hra + category_hrcs_hc + category_hrcs_rac + category_icrp_cso + category_icrp_ct + category_rcdc + category_sdg + category_uoa + concepts + concepts_scores + date_inserted + dimensions_url + end_date + foa_number + funder_countries + funder_org_acronym + funder_org_cities + funder_org_countries + funder_org_name + funder_org_states + funder_orgs + funders + funding_aud + funding_cad + funding_chf + funding_cny + funding_currency + funding_eur + funding_gbp + funding_jpy + funding_nzd + funding_org_acronym + funding_org_cities + funding_org_city + funding_org_name + funding_org_states + funding_schemes + funding_usd + grant_number + id + investigators + keywords + language + language_title + linkout + original_title + project_numbers + research_org_cities + research_org_countries + research_org_names + research_org_state_codes + research_orgs + researchers + score + start_date + start_year + title]\"\n",
    "names = {}\n",
    "\n",
    "#CHANGE CSV FILE TO THE NAME OF YOUR FILE SAVED FROM DimensionsAI_IDs.ipynb\n",
    "with open('1995_2010.csv', newline='') as csvfile:\n",
    "    reader = csv.reader(csvfile)\n",
    "    next(reader, None)  \n",
    "    for row in reader:\n",
    "        name = row[0]\n",
    "        openIds_str = row[2]  \n",
    "        openIds_list = ast.literal_eval(openIds_str)\n",
    "        names[name] = openIds_list\n",
    "\n",
    "print(names)\n"
   ]
  },
  {
   "cell_type": "code",
   "execution_count": 4,
   "metadata": {},
   "outputs": [
    {
     "name": "stderr",
     "output_type": "stream",
     "text": [
      "Starting iteration with limit=1000 skip=0 ...\u001b[0m\n",
      "0-27 / 27 (0.65s)\u001b[0m\n",
      "===\n",
      "Records extracted: 27\u001b[0m\n",
      "Warnings:  8\u001b[0m\n",
      "Starting iteration with limit=1000 skip=0 ...\u001b[0m\n"
     ]
    },
    {
     "name": "stdout",
     "output_type": "stream",
     "text": [
      "ur.012727024557.25 id has 27 grants\n",
      "1. alan d'andrea\n",
      "27\n"
     ]
    },
    {
     "name": "stderr",
     "output_type": "stream",
     "text": [
      "0-18 / 18 (4.67s)\u001b[0m\n",
      "===\n",
      "Records extracted: 18\u001b[0m\n",
      "Warnings:  8\u001b[0m\n",
      "Starting iteration with limit=1000 skip=0 ...\u001b[0m\n"
     ]
    },
    {
     "name": "stdout",
     "output_type": "stream",
     "text": [
      "ur.01002446502.38 id has 18 grants\n",
      "2. james fagin\n",
      "18\n"
     ]
    },
    {
     "name": "stderr",
     "output_type": "stream",
     "text": [
      "0-22 / 22 (0.70s)\u001b[0m\n",
      "===\n",
      "Records extracted: 22\u001b[0m\n",
      "Warnings:  8\u001b[0m\n",
      "Starting iteration with limit=1000 skip=0 ...\u001b[0m\n"
     ]
    },
    {
     "name": "stdout",
     "output_type": "stream",
     "text": [
      "ur.01221020161.61 id has 22 grants\n",
      "3. daniel haber\n",
      "22\n"
     ]
    },
    {
     "name": "stderr",
     "output_type": "stream",
     "text": [
      "0-27 / 27 (1.73s)\u001b[0m\n",
      "===\n",
      "Records extracted: 27\u001b[0m\n",
      "Warnings:  8\u001b[0m\n",
      "Starting iteration with limit=1000 skip=0 ...\u001b[0m\n"
     ]
    },
    {
     "name": "stdout",
     "output_type": "stream",
     "text": [
      "ur.0757041626.26 id has 27 grants\n",
      "4. ethylin jabs\n",
      "27\n"
     ]
    },
    {
     "name": "stderr",
     "output_type": "stream",
     "text": [
      "0-12 / 12 (3.28s)\u001b[0m\n",
      "===\n",
      "Records extracted: 12\u001b[0m\n",
      "Warnings:  8\u001b[0m\n",
      "Starting iteration with limit=1000 skip=0 ...\u001b[0m\n"
     ]
    },
    {
     "name": "stdout",
     "output_type": "stream",
     "text": [
      "ur.0621613670.95 id has 12 grants\n",
      "5. karl nath\n",
      "12\n"
     ]
    },
    {
     "name": "stderr",
     "output_type": "stream",
     "text": [
      "0-20 / 20 (0.85s)\u001b[0m\n",
      "===\n",
      "Records extracted: 20\u001b[0m\n",
      "Warnings:  8\u001b[0m\n",
      "Starting iteration with limit=1000 skip=0 ...\u001b[0m\n"
     ]
    },
    {
     "name": "stdout",
     "output_type": "stream",
     "text": [
      "ur.014730211054.29 id has 20 grants\n",
      "6. bishr omary\n",
      "20\n"
     ]
    },
    {
     "name": "stderr",
     "output_type": "stream",
     "text": [
      "0-13 / 13 (3.71s)\u001b[0m\n",
      "===\n",
      "Records extracted: 13\u001b[0m\n",
      "Warnings:  8\u001b[0m\n",
      "Starting iteration with limit=1000 skip=0 ...\u001b[0m\n"
     ]
    },
    {
     "name": "stdout",
     "output_type": "stream",
     "text": [
      "ur.0717265610.95 id has 13 grants\n",
      "7. john raymond\n",
      "13\n"
     ]
    },
    {
     "name": "stderr",
     "output_type": "stream",
     "text": [
      "0-6 / 6 (5.96s)\u001b[0m\n",
      "===\n",
      "Records extracted: 6\u001b[0m\n",
      "Warnings:  8\u001b[0m\n",
      "Starting iteration with limit=1000 skip=0 ...\u001b[0m\n"
     ]
    },
    {
     "name": "stdout",
     "output_type": "stream",
     "text": [
      "ur.0761676730.05 id has 6 grants\n",
      "8. fuad ziyadeh\n",
      "6\n"
     ]
    },
    {
     "name": "stderr",
     "output_type": "stream",
     "text": [
      "0-20 / 20 (1.08s)\u001b[0m\n",
      "===\n",
      "Records extracted: 20\u001b[0m\n",
      "Warnings:  8\u001b[0m\n",
      "Starting iteration with limit=1000 skip=0 ...\u001b[0m\n"
     ]
    },
    {
     "name": "stdout",
     "output_type": "stream",
     "text": [
      "ur.0606477677.70 id has 20 grants\n",
      "9. maria abreu\n",
      "20\n"
     ]
    },
    {
     "name": "stderr",
     "output_type": "stream",
     "text": [
      "0-4 / 4 (3.85s)\u001b[0m\n",
      "===\n",
      "Records extracted: 4\u001b[0m\n",
      "Warnings:  8\u001b[0m\n",
      "Starting iteration with limit=1000 skip=0 ...\u001b[0m\n"
     ]
    },
    {
     "name": "stdout",
     "output_type": "stream",
     "text": [
      "ur.01227355747.25 id has 4 grants\n",
      "10. michael ackerman\n",
      "4\n"
     ]
    },
    {
     "name": "stderr",
     "output_type": "stream",
     "text": [
      "0-1 / 1 (6.02s)\u001b[0m\n",
      "===\n",
      "Records extracted: 1\u001b[0m\n",
      "Warnings:  8\u001b[0m\n",
      "Starting iteration with limit=1000 skip=0 ...\u001b[0m\n"
     ]
    },
    {
     "name": "stdout",
     "output_type": "stream",
     "text": [
      "ur.012647507142.53 id has 1 grants\n",
      "11. mariana kaplan\n",
      "1\n"
     ]
    },
    {
     "name": "stderr",
     "output_type": "stream",
     "text": [
      "0-18 / 18 (0.59s)\u001b[0m\n",
      "===\n",
      "Records extracted: 18\u001b[0m\n",
      "Warnings:  8\u001b[0m\n",
      "Starting iteration with limit=1000 skip=0 ...\u001b[0m\n"
     ]
    },
    {
     "name": "stdout",
     "output_type": "stream",
     "text": [
      "ur.01147037443.33 id has 18 grants\n",
      "12. feroz papa\n",
      "18\n"
     ]
    },
    {
     "name": "stderr",
     "output_type": "stream",
     "text": [
      "0-5 / 5 (0.63s)\u001b[0m\n",
      "===\n",
      "Records extracted: 5\u001b[0m\n",
      "Warnings:  8\u001b[0m\n",
      "Starting iteration with limit=1000 skip=0 ...\u001b[0m\n"
     ]
    },
    {
     "name": "stdout",
     "output_type": "stream",
     "text": [
      "ur.013436160257.94 id has 5 grants\n",
      "13. paul taylor\n",
      "5\n"
     ]
    },
    {
     "name": "stderr",
     "output_type": "stream",
     "text": [
      "0-20 / 20 (2.05s)\u001b[0m\n",
      "===\n",
      "Records extracted: 20\u001b[0m\n",
      "Warnings:  8\u001b[0m\n",
      "Starting iteration with limit=1000 skip=0 ...\u001b[0m\n"
     ]
    },
    {
     "name": "stdout",
     "output_type": "stream",
     "text": [
      "ur.01324277771.74 id has 20 grants\n",
      "14. loren walensky\n",
      "20\n"
     ]
    },
    {
     "name": "stderr",
     "output_type": "stream",
     "text": [
      "0-10 / 10 (5.83s)\u001b[0m\n",
      "===\n",
      "Records extracted: 10\u001b[0m\n",
      "Warnings:  8\u001b[0m\n",
      "Starting iteration with limit=1000 skip=0 ...\u001b[0m\n"
     ]
    },
    {
     "name": "stdout",
     "output_type": "stream",
     "text": [
      "ur.0707211155.90 id has 10 grants\n",
      "15. yiping yang\n",
      "10\n"
     ]
    },
    {
     "name": "stderr",
     "output_type": "stream",
     "text": [
      "0-14 / 14 (0.75s)\u001b[0m\n",
      "===\n",
      "Records extracted: 14\u001b[0m\n",
      "Warnings:  8\u001b[0m\n",
      "Starting iteration with limit=1000 skip=0 ...\u001b[0m\n"
     ]
    },
    {
     "name": "stdout",
     "output_type": "stream",
     "text": [
      "ur.015000016117.95 id has 14 grants\n",
      "16. steven albelda\n",
      "14\n"
     ]
    },
    {
     "name": "stderr",
     "output_type": "stream",
     "text": [
      "0-4 / 4 (3.62s)\u001b[0m\n",
      "===\n",
      "Records extracted: 4\u001b[0m\n",
      "Warnings:  8\u001b[0m\n",
      "Starting iteration with limit=1000 skip=0 ...\u001b[0m\n"
     ]
    },
    {
     "name": "stdout",
     "output_type": "stream",
     "text": [
      "ur.010576736217.64 id has 4 grants\n",
      "17. richard  anderson\n",
      "4\n"
     ]
    },
    {
     "name": "stderr",
     "output_type": "stream",
     "text": [
      "0-13 / 13 (6.26s)\u001b[0m\n",
      "===\n",
      "Records extracted: 13\u001b[0m\n",
      "Warnings:  8\u001b[0m\n",
      "Starting iteration with limit=1000 skip=0 ...\u001b[0m\n"
     ]
    },
    {
     "name": "stdout",
     "output_type": "stream",
     "text": [
      "ur.01002760245.88 id has 13 grants\n",
      "18. peter arvan\n",
      "13\n"
     ]
    },
    {
     "name": "stderr",
     "output_type": "stream",
     "text": [
      "0-6 / 6 (0.48s)\u001b[0m\n",
      "===\n",
      "Records extracted: 6\u001b[0m\n",
      "Warnings:  8\u001b[0m\n",
      "Starting iteration with limit=1000 skip=0 ...\u001b[0m\n"
     ]
    },
    {
     "name": "stdout",
     "output_type": "stream",
     "text": [
      "ur.0615715006.01 id has 6 grants\n",
      "19. adam asch\n",
      "6\n"
     ]
    },
    {
     "name": "stderr",
     "output_type": "stream",
     "text": [
      "0-12 / 12 (4.30s)\u001b[0m\n",
      "===\n",
      "Records extracted: 12\u001b[0m\n",
      "Warnings:  8\u001b[0m\n",
      "Starting iteration with limit=1000 skip=0 ...\u001b[0m\n"
     ]
    },
    {
     "name": "stdout",
     "output_type": "stream",
     "text": [
      "ur.01140262452.40 id has 12 grants\n",
      "20. john belmont\n",
      "12\n"
     ]
    },
    {
     "name": "stderr",
     "output_type": "stream",
     "text": [
      "0-19 / 19 (0.80s)\u001b[0m\n",
      "===\n",
      "Records extracted: 19\u001b[0m\n",
      "Warnings:  8\u001b[0m\n",
      "Starting iteration with limit=1000 skip=0 ...\u001b[0m\n"
     ]
    },
    {
     "name": "stdout",
     "output_type": "stream",
     "text": [
      "ur.012523312277.63 id has 19 grants\n",
      "21. bradford berk\n",
      "19\n"
     ]
    },
    {
     "name": "stderr",
     "output_type": "stream",
     "text": [
      "0-14 / 14 (4.38s)\u001b[0m\n",
      "===\n",
      "Records extracted: 14\u001b[0m\n",
      "Warnings:  8\u001b[0m\n",
      "Starting iteration with limit=1000 skip=0 ...\u001b[0m\n"
     ]
    },
    {
     "name": "stdout",
     "output_type": "stream",
     "text": [
      "ur.01033446252.27 id has 14 grants\n",
      "22. morris birnbaum\n",
      "14\n"
     ]
    },
    {
     "name": "stderr",
     "output_type": "stream",
     "text": [
      "0-44 / 44 (7.05s)\u001b[0m\n",
      "===\n",
      "Records extracted: 44\u001b[0m\n",
      "Warnings:  8\u001b[0m\n",
      "Starting iteration with limit=1000 skip=0 ...\u001b[0m\n"
     ]
    },
    {
     "name": "stdout",
     "output_type": "stream",
     "text": [
      "ur.0633257054.96 id has 44 grants\n",
      "23. richard blumberg\n",
      "44\n"
     ]
    },
    {
     "name": "stderr",
     "output_type": "stream",
     "text": [
      "0-2 / 2 (0.37s)\u001b[0m\n",
      "===\n",
      "Records extracted: 2\u001b[0m\n",
      "Warnings:  8\u001b[0m\n",
      "Starting iteration with limit=1000 skip=0 ...\u001b[0m\n"
     ]
    },
    {
     "name": "stdout",
     "output_type": "stream",
     "text": [
      "ur.01153467234.36 id has 2 grants\n",
      "24. douglas bradley\n",
      "2\n"
     ]
    },
    {
     "name": "stderr",
     "output_type": "stream",
     "text": [
      "0-2 / 2 (5.01s)\u001b[0m\n",
      "===\n",
      "Records extracted: 2\u001b[0m\n",
      "Warnings:  8\u001b[0m\n",
      "Starting iteration with limit=1000 skip=0 ...\u001b[0m\n"
     ]
    },
    {
     "name": "stdout",
     "output_type": "stream",
     "text": [
      "ur.016162551417.02 id has 2 grants\n",
      "25. kenneth bridges\n",
      "2\n"
     ]
    },
    {
     "name": "stderr",
     "output_type": "stream",
     "text": [
      "0-16 / 16 (0.74s)\u001b[0m\n",
      "===\n",
      "Records extracted: 16\u001b[0m\n",
      "Warnings:  8\u001b[0m\n",
      "Starting iteration with limit=1000 skip=0 ...\u001b[0m\n"
     ]
    },
    {
     "name": "stdout",
     "output_type": "stream",
     "text": [
      "ur.01244066051.55 id has 16 grants\n",
      "26. william carroll\n",
      "16\n"
     ]
    },
    {
     "name": "stderr",
     "output_type": "stream",
     "text": [
      "0-4 / 4 (3.40s)\u001b[0m\n",
      "===\n",
      "Records extracted: 4\u001b[0m\n",
      "Warnings:  8\u001b[0m\n",
      "Starting iteration with limit=1000 skip=0 ...\u001b[0m\n"
     ]
    },
    {
     "name": "stdout",
     "output_type": "stream",
     "text": [
      "ur.01003065721.10 id has 4 grants\n"
     ]
    },
    {
     "name": "stderr",
     "output_type": "stream",
     "text": [
      "===\n",
      "Records extracted: 0\u001b[0m\n",
      "Warnings:  8\u001b[0m\n",
      "Starting iteration with limit=1000 skip=0 ...\u001b[0m\n"
     ]
    },
    {
     "name": "stdout",
     "output_type": "stream",
     "text": [
      "ur.0741204747.88 id has 0 grants\n",
      "27. christine cartwright\n",
      "4\n"
     ]
    },
    {
     "name": "stderr",
     "output_type": "stream",
     "text": [
      "0-6 / 6 (1.49s)\u001b[0m\n",
      "===\n",
      "Records extracted: 6\u001b[0m\n",
      "Warnings:  8\u001b[0m\n",
      "Starting iteration with limit=1000 skip=0 ...\u001b[0m\n"
     ]
    },
    {
     "name": "stdout",
     "output_type": "stream",
     "text": [
      "ur.012740223223.69 id has 6 grants\n",
      "28. webster cavenee\n",
      "6\n"
     ]
    },
    {
     "name": "stderr",
     "output_type": "stream",
     "text": [
      "0-12 / 12 (1.91s)\u001b[0m\n",
      "===\n",
      "Records extracted: 12\u001b[0m\n",
      "Warnings:  8\u001b[0m\n",
      "Starting iteration with limit=1000 skip=0 ...\u001b[0m\n"
     ]
    },
    {
     "name": "stdout",
     "output_type": "stream",
     "text": [
      "ur.01213472726.84 id has 12 grants\n",
      "29. anthony cerami\n",
      "12\n"
     ]
    },
    {
     "name": "stderr",
     "output_type": "stream",
     "text": [
      "0-21 / 21 (1.57s)\u001b[0m\n",
      "===\n",
      "Records extracted: 21\u001b[0m\n",
      "Warnings:  8\u001b[0m\n",
      "Starting iteration with limit=1000 skip=0 ...\u001b[0m\n"
     ]
    },
    {
     "name": "stdout",
     "output_type": "stream",
     "text": [
      "ur.01325554464.07 id has 21 grants\n",
      "30. jeffrey cohen\n",
      "21\n"
     ]
    },
    {
     "name": "stderr",
     "output_type": "stream",
     "text": [
      "0-26 / 26 (0.99s)\u001b[0m\n",
      "===\n",
      "Records extracted: 26\u001b[0m\n",
      "Warnings:  8\u001b[0m\n",
      "Starting iteration with limit=1000 skip=0 ...\u001b[0m\n"
     ]
    },
    {
     "name": "stdout",
     "output_type": "stream",
     "text": [
      "ur.0620555626.93 id has 26 grants\n",
      "31. fabio cominelli\n",
      "26\n"
     ]
    },
    {
     "name": "stderr",
     "output_type": "stream",
     "text": [
      "0-6 / 6 (4.23s)\u001b[0m\n",
      "===\n",
      "Records extracted: 6\u001b[0m\n",
      "Warnings:  8\u001b[0m\n",
      "Starting iteration with limit=1000 skip=0 ...\u001b[0m\n"
     ]
    },
    {
     "name": "stdout",
     "output_type": "stream",
     "text": [
      "ur.01102714156.98 id has 6 grants\n",
      "32. james covell\n",
      "6\n"
     ]
    },
    {
     "name": "stderr",
     "output_type": "stream",
     "text": [
      "0-26 / 26 (0.87s)\u001b[0m\n",
      "===\n",
      "Records extracted: 26\u001b[0m\n",
      "Warnings:  8\u001b[0m\n",
      "Starting iteration with limit=1000 skip=0 ...\u001b[0m\n"
     ]
    },
    {
     "name": "stdout",
     "output_type": "stream",
     "text": [
      "ur.0711105165.79 id has 26 grants\n",
      "33. bruce cronstein\n",
      "26\n"
     ]
    },
    {
     "name": "stderr",
     "output_type": "stream",
     "text": [
      "0-8 / 8 (4.07s)\u001b[0m\n",
      "===\n",
      "Records extracted: 8\u001b[0m\n",
      "Warnings:  8\u001b[0m\n",
      "Starting iteration with limit=1000 skip=0 ...\u001b[0m\n"
     ]
    },
    {
     "name": "stdout",
     "output_type": "stream",
     "text": [
      "ur.0752157206.07 id has 8 grants\n",
      "34. garry cutting\n",
      "8\n"
     ]
    },
    {
     "name": "stderr",
     "output_type": "stream",
     "text": [
      "0-9 / 9 (0.60s)\u001b[0m\n",
      "===\n",
      "Records extracted: 9\u001b[0m\n",
      "Warnings:  8\u001b[0m\n",
      "Starting iteration with limit=1000 skip=0 ...\u001b[0m\n"
     ]
    },
    {
     "name": "stdout",
     "output_type": "stream",
     "text": [
      "ur.0651722340.16 id has 9 grants\n",
      "35. mary dinauer\n",
      "9\n"
     ]
    },
    {
     "name": "stderr",
     "output_type": "stream",
     "text": [
      "0-35 / 35 (3.48s)\u001b[0m\n",
      "===\n",
      "Records extracted: 35\u001b[0m\n",
      "Warnings:  8\u001b[0m\n",
      "Starting iteration with limit=1000 skip=0 ...\u001b[0m\n"
     ]
    },
    {
     "name": "stdout",
     "output_type": "stream",
     "text": [
      "ur.0763704140.49 id has 35 grants\n",
      "36. daniel drucker\n",
      "35\n"
     ]
    },
    {
     "name": "stderr",
     "output_type": "stream",
     "text": [
      "0-17 / 17 (0.62s)\u001b[0m\n",
      "===\n",
      "Records extracted: 17\u001b[0m\n",
      "Warnings:  8\u001b[0m\n",
      "Starting iteration with limit=1000 skip=0 ...\u001b[0m\n"
     ]
    },
    {
     "name": "stdout",
     "output_type": "stream",
     "text": [
      "ur.01336001101.35 id has 17 grants\n",
      "37. keith elkon\n",
      "17\n"
     ]
    },
    {
     "name": "stderr",
     "output_type": "stream",
     "text": [
      "0-20 / 20 (4.13s)\u001b[0m\n",
      "===\n",
      "Records extracted: 20\u001b[0m\n",
      "Warnings:  8\u001b[0m\n",
      "Starting iteration with limit=1000 skip=0 ...\u001b[0m\n"
     ]
    },
    {
     "name": "stdout",
     "output_type": "stream",
     "text": [
      "ur.01152344370.10 id has 20 grants\n",
      "38. scott friedman\n",
      "20\n"
     ]
    },
    {
     "name": "stderr",
     "output_type": "stream",
     "text": [
      "0-5 / 5 (1.45s)\u001b[0m\n",
      "===\n",
      "Records extracted: 5\u001b[0m\n",
      "Warnings:  8\u001b[0m\n",
      "Starting iteration with limit=1000 skip=0 ...\u001b[0m\n"
     ]
    },
    {
     "name": "stdout",
     "output_type": "stream",
     "text": [
      "ur.0772206703.69 id has 5 grants\n",
      "39. gerhard giebisch\n",
      "5\n"
     ]
    },
    {
     "name": "stderr",
     "output_type": "stream",
     "text": [
      "0-8 / 8 (4.83s)\u001b[0m\n",
      "===\n",
      "Records extracted: 8\u001b[0m\n",
      "Warnings:  8\u001b[0m\n",
      "Starting iteration with limit=1000 skip=0 ...\u001b[0m\n"
     ]
    },
    {
     "name": "stdout",
     "output_type": "stream",
     "text": [
      "ur.0744536167.42 id has 8 grants\n",
      "40. dwight gary gilliland\n",
      "8\n"
     ]
    },
    {
     "name": "stderr",
     "output_type": "stream",
     "text": [
      "0-33 / 33 (6.15s)\u001b[0m\n",
      "===\n",
      "Records extracted: 33\u001b[0m\n",
      "Warnings:  8\u001b[0m\n",
      "Starting iteration with limit=1000 skip=0 ...\u001b[0m\n"
     ]
    },
    {
     "name": "stdout",
     "output_type": "stream",
     "text": [
      "ur.01067240353.95 id has 33 grants\n",
      "41. christopher glass\n",
      "33\n"
     ]
    },
    {
     "name": "stderr",
     "output_type": "stream",
     "text": [
      "0-14 / 14 (1.30s)\u001b[0m\n",
      "===\n",
      "Records extracted: 14\u001b[0m\n",
      "Warnings:  8\u001b[0m\n",
      "Starting iteration with limit=1000 skip=0 ...\u001b[0m\n"
     ]
    },
    {
     "name": "stdout",
     "output_type": "stream",
     "text": [
      "ur.01157271565.79 id has 14 grants\n",
      "42. daniel goldberg\n",
      "14\n"
     ]
    },
    {
     "name": "stderr",
     "output_type": "stream",
     "text": [
      "0-13 / 13 (2.97s)\u001b[0m\n",
      "===\n",
      "Records extracted: 13\u001b[0m\n",
      "Warnings:  8\u001b[0m\n",
      "Starting iteration with limit=1000 skip=0 ...\u001b[0m\n"
     ]
    },
    {
     "name": "stdout",
     "output_type": "stream",
     "text": [
      "ur.01356023066.14 id has 13 grants\n",
      "43. roberto ariel gomez\n",
      "13\n"
     ]
    },
    {
     "name": "stderr",
     "output_type": "stream",
     "text": [
      "0-21 / 21 (1.42s)\u001b[0m\n",
      "===\n",
      "Records extracted: 21\u001b[0m\n",
      "Warnings:  8\u001b[0m\n",
      "Starting iteration with limit=1000 skip=0 ...\u001b[0m\n"
     ]
    },
    {
     "name": "stdout",
     "output_type": "stream",
     "text": [
      "ur.016604543402.68 id has 21 grants\n",
      "44. john griffin\n",
      "21\n"
     ]
    },
    {
     "name": "stderr",
     "output_type": "stream",
     "text": [
      "0-18 / 18 (3.30s)\u001b[0m\n",
      "===\n",
      "Records extracted: 18\u001b[0m\n",
      "Warnings:  8\u001b[0m\n",
      "Starting iteration with limit=1000 skip=0 ...\u001b[0m\n"
     ]
    },
    {
     "name": "stdout",
     "output_type": "stream",
     "text": [
      "ur.01305430265.06 id has 18 grants\n",
      "45. murray grossman\n",
      "18\n"
     ]
    },
    {
     "name": "stderr",
     "output_type": "stream",
     "text": [
      "0-6 / 6 (0.63s)\u001b[0m\n",
      "===\n",
      "Records extracted: 6\u001b[0m\n",
      "Warnings:  8\u001b[0m\n",
      "Starting iteration with limit=1000 skip=0 ...\u001b[0m\n"
     ]
    },
    {
     "name": "stdout",
     "output_type": "stream",
     "text": [
      "ur.013155066547.55 id has 6 grants\n",
      "46. samuel hawgood\n",
      "6\n"
     ]
    },
    {
     "name": "stderr",
     "output_type": "stream",
     "text": [
      "0-25 / 25 (0.87s)\u001b[0m\n",
      "===\n",
      "Records extracted: 25\u001b[0m\n",
      "Warnings:  8\u001b[0m\n",
      "Starting iteration with limit=1000 skip=0 ...\u001b[0m\n"
     ]
    },
    {
     "name": "stdout",
     "output_type": "stream",
     "text": [
      "ur.01020255414.31 id has 25 grants\n",
      "47. jay heinecke\n",
      "25\n"
     ]
    },
    {
     "name": "stderr",
     "output_type": "stream",
     "text": [
      "0-17 / 17 (2.19s)\u001b[0m\n",
      "===\n",
      "Records extracted: 17\u001b[0m\n",
      "Warnings:  8\u001b[0m\n",
      "Starting iteration with limit=1000 skip=0 ...\u001b[0m\n"
     ]
    },
    {
     "name": "stdout",
     "output_type": "stream",
     "text": [
      "ur.014171277202.92 id has 17 grants\n",
      "48. stephen heinemann\n",
      "17\n"
     ]
    },
    {
     "name": "stderr",
     "output_type": "stream",
     "text": [
      "0-5 / 5 (0.42s)\u001b[0m\n",
      "===\n",
      "Records extracted: 5\u001b[0m\n",
      "Warnings:  8\u001b[0m\n",
      "Starting iteration with limit=1000 skip=0 ...\u001b[0m\n"
     ]
    },
    {
     "name": "stdout",
     "output_type": "stream",
     "text": [
      "ur.01271177722.98 id has 5 grants\n"
     ]
    },
    {
     "name": "stderr",
     "output_type": "stream",
     "text": [
      "===\n",
      "Records extracted: 0\u001b[0m\n",
      "Warnings:  8\u001b[0m\n",
      "Starting iteration with limit=1000 skip=0 ...\u001b[0m\n"
     ]
    },
    {
     "name": "stdout",
     "output_type": "stream",
     "text": [
      "ur.0627200551.43 id has 0 grants\n",
      "49. alan hillman\n",
      "5\n"
     ]
    },
    {
     "name": "stderr",
     "output_type": "stream",
     "text": [
      "0-18 / 18 (0.62s)\u001b[0m\n",
      "===\n",
      "Records extracted: 18\u001b[0m\n",
      "Warnings:  8\u001b[0m\n",
      "Starting iteration with limit=1000 skip=0 ...\u001b[0m\n"
     ]
    },
    {
     "name": "stdout",
     "output_type": "stream",
     "text": [
      "ur.0636442207.95 id has 18 grants\n",
      "50. suzanne ildstad\n",
      "18\n"
     ]
    },
    {
     "name": "stderr",
     "output_type": "stream",
     "text": [
      "0-23 / 23 (0.86s)\u001b[0m\n",
      "===\n",
      "Records extracted: 23\u001b[0m\n",
      "Warnings:  8\u001b[0m\n",
      "Starting iteration with limit=1000 skip=0 ...\u001b[0m\n"
     ]
    },
    {
     "name": "stdout",
     "output_type": "stream",
     "text": [
      "ur.010175037017.23 id has 23 grants\n",
      "51. richard johnson\n",
      "23\n"
     ]
    },
    {
     "name": "stderr",
     "output_type": "stream",
     "text": [
      "0-3 / 3 (1.59s)\u001b[0m\n",
      "===\n",
      "Records extracted: 3\u001b[0m\n",
      "Warnings:  8\u001b[0m\n",
      "Starting iteration with limit=1000 skip=0 ...\u001b[0m\n"
     ]
    },
    {
     "name": "stdout",
     "output_type": "stream",
     "text": [
      "ur.0665466315.82 id has 3 grants\n",
      "52. william kane\n",
      "3\n"
     ]
    },
    {
     "name": "stderr",
     "output_type": "stream",
     "text": [
      "0-7 / 7 (4.60s)\u001b[0m\n",
      "===\n",
      "Records extracted: 7\u001b[0m\n",
      "Warnings:  8\u001b[0m\n",
      "Starting iteration with limit=1000 skip=0 ...\u001b[0m\n"
     ]
    },
    {
     "name": "stdout",
     "output_type": "stream",
     "text": [
      "ur.0622521714.49 id has 7 grants\n",
      "53. stefan karlsson\n",
      "7\n"
     ]
    },
    {
     "name": "stderr",
     "output_type": "stream",
     "text": [
      "0-15 / 15 (6.24s)\u001b[0m\n",
      "===\n",
      "Records extracted: 15\u001b[0m\n",
      "Warnings:  8\u001b[0m\n",
      "Starting iteration with limit=1000 skip=0 ...\u001b[0m\n"
     ]
    },
    {
     "name": "stdout",
     "output_type": "stream",
     "text": [
      "ur.01277715415.41 id has 15 grants\n",
      "54. michael kastan\n",
      "15\n"
     ]
    },
    {
     "name": "stderr",
     "output_type": "stream",
     "text": [
      "0-26 / 26 (0.90s)\u001b[0m\n",
      "===\n",
      "Records extracted: 26\u001b[0m\n",
      "Warnings:  8\u001b[0m\n",
      "Starting iteration with limit=1000 skip=0 ...\u001b[0m\n"
     ]
    },
    {
     "name": "stdout",
     "output_type": "stream",
     "text": [
      "ur.012247544157.63 id has 26 grants\n",
      "55. daniel kastner\n",
      "26\n"
     ]
    },
    {
     "name": "stderr",
     "output_type": "stream",
     "text": [
      "0-6 / 6 (0.43s)\u001b[0m\n",
      "===\n",
      "Records extracted: 6\u001b[0m\n",
      "Warnings:  8\u001b[0m\n",
      "Starting iteration with limit=1000 skip=0 ...\u001b[0m\n"
     ]
    },
    {
     "name": "stdout",
     "output_type": "stream",
     "text": [
      "ur.0716143620.18 id has 6 grants\n",
      "56. carolyn kelly\n",
      "6\n"
     ]
    },
    {
     "name": "stderr",
     "output_type": "stream",
     "text": [
      "0-18 / 18 (2.37s)\u001b[0m\n",
      "===\n",
      "Records extracted: 18\u001b[0m\n",
      "Warnings:  8\u001b[0m\n",
      "Starting iteration with limit=1000 skip=0 ...\u001b[0m\n"
     ]
    },
    {
     "name": "stdout",
     "output_type": "stream",
     "text": [
      "ur.0663774106.86 id has 18 grants\n",
      "57. shannon kenney\n",
      "18\n"
     ]
    },
    {
     "name": "stderr",
     "output_type": "stream",
     "text": [
      "0-20 / 20 (3.57s)\u001b[0m\n",
      "===\n",
      "Records extracted: 20\u001b[0m\n",
      "Warnings:  8\u001b[0m\n",
      "Starting iteration with limit=1000 skip=0 ...\u001b[0m\n"
     ]
    },
    {
     "name": "stdout",
     "output_type": "stream",
     "text": [
      "ur.01107022045.13 id has 20 grants\n",
      "58. brian kobilka\n",
      "20\n"
     ]
    },
    {
     "name": "stderr",
     "output_type": "stream",
     "text": [
      "0-9 / 9 (2.97s)\u001b[0m\n",
      "===\n",
      "Records extracted: 9\u001b[0m\n",
      "Warnings:  8\u001b[0m\n",
      "Starting iteration with limit=1000 skip=0 ...\u001b[0m\n"
     ]
    },
    {
     "name": "stdout",
     "output_type": "stream",
     "text": [
      "ur.012632026177.48 id has 9 grants\n",
      "59. james krueger\n",
      "9\n"
     ]
    },
    {
     "name": "stderr",
     "output_type": "stream",
     "text": [
      "0-22 / 22 (0.65s)\u001b[0m\n",
      "===\n",
      "Records extracted: 22\u001b[0m\n",
      "Warnings:  8\u001b[0m\n",
      "Starting iteration with limit=1000 skip=0 ...\u001b[0m\n"
     ]
    },
    {
     "name": "stdout",
     "output_type": "stream",
     "text": [
      "ur.01045437517.59 id has 22 grants\n",
      "60. david kwiatkowski\n",
      "22\n"
     ]
    },
    {
     "name": "stderr",
     "output_type": "stream",
     "text": [
      "===\n",
      "Records extracted: 0\u001b[0m\n",
      "Warnings:  8\u001b[0m\n",
      "Starting iteration with limit=1000 skip=0 ...\u001b[0m\n"
     ]
    },
    {
     "name": "stdout",
     "output_type": "stream",
     "text": [
      "ur.011437130222.71 id has 0 grants\n",
      "61. jack leahy\n",
      "0\n"
     ]
    },
    {
     "name": "stderr",
     "output_type": "stream",
     "text": [
      "0-4 / 4 (0.36s)\u001b[0m\n",
      "===\n",
      "Records extracted: 4\u001b[0m\n",
      "Warnings:  8\u001b[0m\n",
      "Starting iteration with limit=1000 skip=0 ...\u001b[0m\n"
     ]
    },
    {
     "name": "stdout",
     "output_type": "stream",
     "text": [
      "ur.01130535435.19 id has 4 grants\n",
      "62. thomas lee\n",
      "4\n"
     ]
    },
    {
     "name": "stderr",
     "output_type": "stream",
     "text": [
      "0-3 / 3 (4.08s)\u001b[0m\n",
      "===\n",
      "Records extracted: 3\u001b[0m\n",
      "Warnings:  8\u001b[0m\n",
      "Starting iteration with limit=1000 skip=0 ...\u001b[0m\n"
     ]
    },
    {
     "name": "stdout",
     "output_type": "stream",
     "text": [
      "ur.01205170110.03 id has 3 grants\n",
      "63. wilbur lew\n",
      "3\n"
     ]
    },
    {
     "name": "stderr",
     "output_type": "stream",
     "text": [
      "0-11 / 11 (0.60s)\u001b[0m\n",
      "===\n",
      "Records extracted: 11\u001b[0m\n",
      "Warnings:  8\u001b[0m\n",
      "Starting iteration with limit=1000 skip=0 ...\u001b[0m\n"
     ]
    },
    {
     "name": "stdout",
     "output_type": "stream",
     "text": [
      "ur.01251725136.98 id has 11 grants\n",
      "64. michael lieber\n",
      "11\n"
     ]
    },
    {
     "name": "stderr",
     "output_type": "stream",
     "text": [
      "0-1 / 1 (4.04s)\u001b[0m\n",
      "===\n",
      "Records extracted: 1\u001b[0m\n",
      "Warnings:  8\u001b[0m\n",
      "Starting iteration with limit=1000 skip=0 ...\u001b[0m\n"
     ]
    },
    {
     "name": "stdout",
     "output_type": "stream",
     "text": [
      "ur.01236526331.24 id has 1 grants\n",
      "65. howard lippton\n",
      "1\n"
     ]
    },
    {
     "name": "stderr",
     "output_type": "stream",
     "text": [
      "0-11 / 11 (0.76s)\u001b[0m\n",
      "===\n",
      "Records extracted: 11\u001b[0m\n",
      "Warnings:  8\u001b[0m\n",
      "Starting iteration with limit=1000 skip=0 ...\u001b[0m\n"
     ]
    },
    {
     "name": "stdout",
     "output_type": "stream",
     "text": [
      "ur.01244760140.44 id has 11 grants\n",
      "66. edison liu\n",
      "11\n"
     ]
    },
    {
     "name": "stderr",
     "output_type": "stream",
     "text": [
      "0-8 / 8 (3.68s)\u001b[0m\n",
      "===\n",
      "Records extracted: 8\u001b[0m\n",
      "Warnings:  8\u001b[0m\n",
      "Starting iteration with limit=1000 skip=0 ...\u001b[0m\n"
     ]
    },
    {
     "name": "stdout",
     "output_type": "stream",
     "text": [
      "ur.01302155501.56 id has 8 grants\n",
      "67. nicole lurie\n",
      "8\n"
     ]
    },
    {
     "name": "stderr",
     "output_type": "stream",
     "text": [
      "0-24 / 24 (1.00s)\u001b[0m\n",
      "===\n",
      "Records extracted: 24\u001b[0m\n",
      "Warnings:  8\u001b[0m\n",
      "Starting iteration with limit=1000 skip=0 ...\u001b[0m\n"
     ]
    },
    {
     "name": "stdout",
     "output_type": "stream",
     "text": [
      "ur.015750001717.89 id has 24 grants\n",
      "68. sanford markowitz\n",
      "24\n"
     ]
    },
    {
     "name": "stderr",
     "output_type": "stream",
     "text": [
      "0-26 / 26 (3.89s)\u001b[0m\n",
      "===\n",
      "Records extracted: 26\u001b[0m\n",
      "Warnings:  8\u001b[0m\n",
      "Starting iteration with limit=1000 skip=0 ...\u001b[0m\n"
     ]
    },
    {
     "name": "stdout",
     "output_type": "stream",
     "text": [
      "ur.01072670717.67 id has 26 grants\n",
      "69. andrew marks\n",
      "26\n"
     ]
    },
    {
     "name": "stderr",
     "output_type": "stream",
     "text": [
      "0-29 / 29 (0.98s)\u001b[0m\n",
      "===\n",
      "Records extracted: 29\u001b[0m\n",
      "Warnings:  8\u001b[0m\n",
      "Starting iteration with limit=1000 skip=0 ...\u001b[0m\n"
     ]
    },
    {
     "name": "stdout",
     "output_type": "stream",
     "text": [
      "ur.010572272337.66 id has 29 grants\n",
      "70. donald mcclain\n",
      "29\n"
     ]
    },
    {
     "name": "stderr",
     "output_type": "stream",
     "text": [
      "0-7 / 7 (4.17s)\u001b[0m\n",
      "===\n",
      "Records extracted: 7\u001b[0m\n",
      "Warnings:  8\u001b[0m\n",
      "Starting iteration with limit=1000 skip=0 ...\u001b[0m\n"
     ]
    },
    {
     "name": "stdout",
     "output_type": "stream",
     "text": [
      "ur.01323534056.92 id has 7 grants\n",
      "71. michael mcphaul\n",
      "7\n"
     ]
    },
    {
     "name": "stderr",
     "output_type": "stream",
     "text": [
      "0-80 / 80 (2.18s)\u001b[0m\n",
      "===\n",
      "Records extracted: 80\u001b[0m\n",
      "Warnings:  8\u001b[0m\n",
      "Starting iteration with limit=1000 skip=0 ...\u001b[0m\n"
     ]
    },
    {
     "name": "stdout",
     "output_type": "stream",
     "text": [
      "ur.0606570120.14 id has 80 grants\n",
      "72. hiroaki mitsuya\n",
      "80\n"
     ]
    },
    {
     "name": "stderr",
     "output_type": "stream",
     "text": [
      "0-12 / 12 (0.46s)\u001b[0m\n",
      "===\n",
      "Records extracted: 12\u001b[0m\n",
      "Warnings:  8\u001b[0m\n",
      "Starting iteration with limit=1000 skip=0 ...\u001b[0m\n"
     ]
    },
    {
     "name": "stdout",
     "output_type": "stream",
     "text": [
      "ur.015563027057.11 id has 12 grants\n",
      "73. timothy murphy\n",
      "12\n"
     ]
    },
    {
     "name": "stderr",
     "output_type": "stream",
     "text": [
      "0-11 / 11 (4.48s)\u001b[0m\n",
      "===\n",
      "Records extracted: 11\u001b[0m\n",
      "Warnings:  8\u001b[0m\n",
      "Starting iteration with limit=1000 skip=0 ...\u001b[0m\n"
     ]
    },
    {
     "name": "stdout",
     "output_type": "stream",
     "text": [
      "ur.01315756601.55 id has 11 grants\n",
      "74. george palade\n",
      "11\n"
     ]
    },
    {
     "name": "stderr",
     "output_type": "stream",
     "text": [
      "0-10 / 10 (6.02s)\u001b[0m\n",
      "===\n",
      "Records extracted: 10\u001b[0m\n",
      "Warnings:  8\u001b[0m\n",
      "Starting iteration with limit=1000 skip=0 ...\u001b[0m\n"
     ]
    },
    {
     "name": "stdout",
     "output_type": "stream",
     "text": [
      "ur.01122016026.09 id has 10 grants\n",
      "75. thomas pallone\n",
      "10\n"
     ]
    },
    {
     "name": "stderr",
     "output_type": "stream",
     "text": [
      "0-22 / 22 (1.37s)\u001b[0m\n",
      "===\n",
      "Records extracted: 22\u001b[0m\n",
      "Warnings:  8\u001b[0m\n",
      "Starting iteration with limit=1000 skip=0 ...\u001b[0m\n"
     ]
    },
    {
     "name": "stdout",
     "output_type": "stream",
     "text": [
      "ur.0627076066.77 id has 22 grants\n",
      "76. james paulson\n",
      "22\n"
     ]
    },
    {
     "name": "stderr",
     "output_type": "stream",
     "text": [
      "0-9 / 9 (3.73s)\u001b[0m\n",
      "===\n",
      "Records extracted: 9\u001b[0m\n",
      "Warnings:  8\u001b[0m\n",
      "Starting iteration with limit=1000 skip=0 ...\u001b[0m\n"
     ]
    },
    {
     "name": "stdout",
     "output_type": "stream",
     "text": [
      "ur.01346121507.66 id has 9 grants\n",
      "77. alice pentland\n",
      "9\n"
     ]
    },
    {
     "name": "stderr",
     "output_type": "stream",
     "text": [
      "0-26 / 26 (0.83s)\u001b[0m\n",
      "===\n",
      "Records extracted: 26\u001b[0m\n",
      "Warnings:  8\u001b[0m\n",
      "Starting iteration with limit=1000 skip=0 ...\u001b[0m\n"
     ]
    },
    {
     "name": "stdout",
     "output_type": "stream",
     "text": [
      "ur.0704212656.70 id has 26 grants\n",
      "78. william petri jr.\n",
      "26\n"
     ]
    },
    {
     "name": "stderr",
     "output_type": "stream",
     "text": [
      "0-17 / 17 (3.69s)\u001b[0m\n",
      "===\n",
      "Records extracted: 17\u001b[0m\n",
      "Warnings:  8\u001b[0m\n",
      "Starting iteration with limit=1000 skip=0 ...\u001b[0m\n"
     ]
    },
    {
     "name": "stdout",
     "output_type": "stream",
     "text": [
      "ur.0735065052.71 id has 17 grants\n",
      "79. roger pomerantz\n",
      "17\n"
     ]
    },
    {
     "name": "stderr",
     "output_type": "stream",
     "text": [
      "===\n",
      "Records extracted: 0\u001b[0m\n",
      "Warnings:  8\u001b[0m\n",
      "Starting iteration with limit=1000 skip=0 ...\u001b[0m\n"
     ]
    },
    {
     "name": "stdout",
     "output_type": "stream",
     "text": [
      "ur.0756075734.69 id has 0 grants\n",
      "80. lewis rubin\n",
      "0\n"
     ]
    },
    {
     "name": "stderr",
     "output_type": "stream",
     "text": [
      "0-50 / 50 (1.33s)\u001b[0m\n",
      "===\n",
      "Records extracted: 50\u001b[0m\n",
      "Warnings:  8\u001b[0m\n",
      "Starting iteration with limit=1000 skip=0 ...\u001b[0m\n"
     ]
    },
    {
     "name": "stdout",
     "output_type": "stream",
     "text": [
      "ur.075643133.08 id has 50 grants\n",
      "81. erkki ruoslahti\n",
      "50\n"
     ]
    },
    {
     "name": "stderr",
     "output_type": "stream",
     "text": [
      "0-7 / 7 (0.59s)\u001b[0m\n",
      "===\n",
      "Records extracted: 7\u001b[0m\n",
      "Warnings:  8\u001b[0m\n",
      "Starting iteration with limit=1000 skip=0 ...\u001b[0m\n"
     ]
    },
    {
     "name": "stdout",
     "output_type": "stream",
     "text": [
      "ur.01147010000.10 id has 7 grants\n",
      "82. paul sanders\n",
      "7\n"
     ]
    },
    {
     "name": "stderr",
     "output_type": "stream",
     "text": [
      "0-4 / 4 (4.42s)\u001b[0m\n",
      "===\n",
      "Records extracted: 4\u001b[0m\n",
      "Warnings:  8\u001b[0m\n",
      "Starting iteration with limit=1000 skip=0 ...\u001b[0m\n"
     ]
    },
    {
     "name": "stdout",
     "output_type": "stream",
     "text": [
      "ur.01211311752.94 id has 4 grants\n",
      "83. james schafer\n",
      "4\n"
     ]
    },
    {
     "name": "stderr",
     "output_type": "stream",
     "text": [
      "0-8 / 8 (0.69s)\u001b[0m\n",
      "===\n",
      "Records extracted: 8\u001b[0m\n",
      "Warnings:  8\u001b[0m\n",
      "Starting iteration with limit=1000 skip=0 ...\u001b[0m\n"
     ]
    },
    {
     "name": "stdout",
     "output_type": "stream",
     "text": [
      "ur.01160710210.68 id has 8 grants\n",
      "84. daniel schuster\n",
      "8\n"
     ]
    },
    {
     "name": "stderr",
     "output_type": "stream",
     "text": [
      "0-50 / 50 (2.50s)\u001b[0m\n",
      "===\n",
      "Records extracted: 50\u001b[0m\n",
      "Warnings:  8\u001b[0m\n",
      "Starting iteration with limit=1000 skip=0 ...\u001b[0m\n"
     ]
    },
    {
     "name": "stdout",
     "output_type": "stream",
     "text": [
      "ur.0637453473.51 id has 50 grants\n",
      "85. david schwartz\n",
      "50\n"
     ]
    },
    {
     "name": "stderr",
     "output_type": "stream",
     "text": [
      "0-11 / 11 (1.60s)\u001b[0m\n",
      "===\n",
      "Records extracted: 11\u001b[0m\n",
      "Warnings:  8\u001b[0m\n",
      "Starting iteration with limit=1000 skip=0 ...\u001b[0m\n"
     ]
    },
    {
     "name": "stdout",
     "output_type": "stream",
     "text": [
      "ur.01254223162.13 id has 11 grants\n",
      "86. gregg semenza\n",
      "11\n"
     ]
    },
    {
     "name": "stderr",
     "output_type": "stream",
     "text": [
      "0-53 / 53 (4.90s)\u001b[0m\n",
      "===\n",
      "Records extracted: 53\u001b[0m\n",
      "Warnings:  8\u001b[0m\n",
      "Starting iteration with limit=1000 skip=0 ...\u001b[0m\n"
     ]
    },
    {
     "name": "stdout",
     "output_type": "stream",
     "text": [
      "ur.01272213066.16 id has 53 grants\n",
      "87. peter st. george-hyslop\n",
      "53\n"
     ]
    },
    {
     "name": "stderr",
     "output_type": "stream",
     "text": [
      "0-21 / 21 (1.07s)\u001b[0m\n",
      "===\n",
      "Records extracted: 21\u001b[0m\n",
      "Warnings:  8\u001b[0m\n",
      "Starting iteration with limit=1000 skip=0 ...\u001b[0m\n"
     ]
    },
    {
     "name": "stdout",
     "output_type": "stream",
     "text": [
      "ur.0673753523.71 id has 21 grants\n",
      "88. jonathan stamler\n",
      "21\n"
     ]
    },
    {
     "name": "stderr",
     "output_type": "stream",
     "text": [
      "0-9 / 9 (2.89s)\u001b[0m\n",
      "===\n",
      "Records extracted: 9\u001b[0m\n",
      "Warnings:  8\u001b[0m\n",
      "Starting iteration with limit=1000 skip=0 ...\u001b[0m\n"
     ]
    },
    {
     "name": "stdout",
     "output_type": "stream",
     "text": [
      "ur.016036762337.68 id has 9 grants\n",
      "89. samuel stanley\n",
      "9\n"
     ]
    },
    {
     "name": "stderr",
     "output_type": "stream",
     "text": [
      "0-2 / 2 (0.97s)\u001b[0m\n",
      "===\n",
      "Records extracted: 2\u001b[0m\n",
      "Warnings:  8\u001b[0m\n",
      "Starting iteration with limit=1000 skip=0 ...\u001b[0m\n"
     ]
    },
    {
     "name": "stdout",
     "output_type": "stream",
     "text": [
      "ur.013317500652.16 id has 2 grants\n",
      "90. charles stevens\n",
      "2\n"
     ]
    },
    {
     "name": "stderr",
     "output_type": "stream",
     "text": [
      "0-13 / 13 (0.70s)\u001b[0m\n",
      "===\n",
      "Records extracted: 13\u001b[0m\n",
      "Warnings:  8\u001b[0m\n",
      "Starting iteration with limit=1000 skip=0 ...\u001b[0m\n"
     ]
    },
    {
     "name": "stdout",
     "output_type": "stream",
     "text": [
      "ur.0612750636.84 id has 13 grants\n",
      "91. vikas sukhatme\n",
      "13\n"
     ]
    },
    {
     "name": "stderr",
     "output_type": "stream",
     "text": [
      "0-19 / 19 (1.66s)\u001b[0m\n",
      "===\n",
      "Records extracted: 19\u001b[0m\n",
      "Warnings:  8\u001b[0m\n",
      "Starting iteration with limit=1000 skip=0 ...\u001b[0m\n"
     ]
    },
    {
     "name": "stdout",
     "output_type": "stream",
     "text": [
      "ur.0654367343.57 id has 19 grants\n",
      "92. palmer taylor\n",
      "19\n"
     ]
    },
    {
     "name": "stderr",
     "output_type": "stream",
     "text": [
      "0-18 / 18 (0.62s)\u001b[0m\n",
      "===\n",
      "Records extracted: 18\u001b[0m\n",
      "Warnings:  8\u001b[0m\n",
      "Starting iteration with limit=1000 skip=0 ...\u001b[0m\n"
     ]
    },
    {
     "name": "stdout",
     "output_type": "stream",
     "text": [
      "ur.01315400021.90 id has 18 grants\n",
      "93. laurence turka\n",
      "18\n"
     ]
    },
    {
     "name": "stderr",
     "output_type": "stream",
     "text": [
      "0-14 / 14 (0.48s)\u001b[0m\n",
      "===\n",
      "Records extracted: 14\u001b[0m\n",
      "Warnings:  8\u001b[0m\n",
      "Starting iteration with limit=1000 skip=0 ...\u001b[0m\n"
     ]
    },
    {
     "name": "stdout",
     "output_type": "stream",
     "text": [
      "ur.01370223226.10 id has 14 grants\n",
      "94. andre veillette\n",
      "14\n"
     ]
    },
    {
     "name": "stderr",
     "output_type": "stream",
     "text": [
      "0-24 / 24 (4.71s)\u001b[0m\n",
      "===\n",
      "Records extracted: 24\u001b[0m\n",
      "Warnings:  8\u001b[0m\n",
      "Starting iteration with limit=1000 skip=0 ...\u001b[0m\n"
     ]
    },
    {
     "name": "stdout",
     "output_type": "stream",
     "text": [
      "ur.01014762776.19 id has 24 grants\n",
      "95. stephen wank\n",
      "24\n"
     ]
    },
    {
     "name": "stderr",
     "output_type": "stream",
     "text": [
      "0-4 / 4 (0.43s)\u001b[0m\n",
      "===\n",
      "Records extracted: 4\u001b[0m\n",
      "Warnings:  8\u001b[0m\n",
      "Starting iteration with limit=1000 skip=0 ...\u001b[0m\n"
     ]
    },
    {
     "name": "stdout",
     "output_type": "stream",
     "text": [
      "ur.0645763160.52 id has 4 grants\n",
      "96. allan weissman\n",
      "4\n"
     ]
    },
    {
     "name": "stderr",
     "output_type": "stream",
     "text": [
      "0-10 / 10 (4.03s)\u001b[0m\n",
      "===\n",
      "Records extracted: 10\u001b[0m\n",
      "Warnings:  8\u001b[0m\n",
      "Starting iteration with limit=1000 skip=0 ...\u001b[0m\n"
     ]
    },
    {
     "name": "stdout",
     "output_type": "stream",
     "text": [
      "ur.01342670351.13 id has 10 grants\n",
      "97. michael wessels\n",
      "10\n"
     ]
    },
    {
     "name": "stderr",
     "output_type": "stream",
     "text": [
      "0-17 / 17 (0.70s)\u001b[0m\n",
      "===\n",
      "Records extracted: 17\u001b[0m\n",
      "Warnings:  8\u001b[0m\n",
      "Starting iteration with limit=1000 skip=0 ...\u001b[0m\n"
     ]
    },
    {
     "name": "stdout",
     "output_type": "stream",
     "text": [
      "ur.01144204341.44 id has 17 grants\n",
      "98. samuel wickline\n",
      "17\n"
     ]
    },
    {
     "name": "stderr",
     "output_type": "stream",
     "text": [
      "0-16 / 16 (4.05s)\u001b[0m\n",
      "===\n",
      "Records extracted: 16\u001b[0m\n",
      "Warnings:  8\u001b[0m\n",
      "Starting iteration with limit=1000 skip=0 ...\u001b[0m\n"
     ]
    },
    {
     "name": "stdout",
     "output_type": "stream",
     "text": [
      "ur.0575545206.08 id has 16 grants\n",
      "99. fredric wondisford\n",
      "16\n"
     ]
    },
    {
     "name": "stderr",
     "output_type": "stream",
     "text": [
      "0-11 / 11 (0.82s)\u001b[0m\n",
      "===\n",
      "Records extracted: 11\u001b[0m\n",
      "Warnings:  8\u001b[0m\n",
      "Starting iteration with limit=1000 skip=0 ...\u001b[0m\n"
     ]
    },
    {
     "name": "stdout",
     "output_type": "stream",
     "text": [
      "ur.0724231274.33 id has 11 grants\n",
      "100. david andes\n",
      "11\n"
     ]
    },
    {
     "name": "stderr",
     "output_type": "stream",
     "text": [
      "0-16 / 16 (3.54s)\u001b[0m\n",
      "===\n",
      "Records extracted: 16\u001b[0m\n",
      "Warnings:  8\u001b[0m\n",
      "Starting iteration with limit=1000 skip=0 ...\u001b[0m\n"
     ]
    },
    {
     "name": "stdout",
     "output_type": "stream",
     "text": [
      "ur.0605712636.64 id has 16 grants\n",
      "101. scott armstrong\n",
      "16\n"
     ]
    },
    {
     "name": "stderr",
     "output_type": "stream",
     "text": [
      "0-15 / 15 (1.00s)\u001b[0m\n",
      "===\n",
      "Records extracted: 15\u001b[0m\n",
      "Warnings:  8\u001b[0m\n",
      "Starting iteration with limit=1000 skip=0 ...\u001b[0m\n"
     ]
    },
    {
     "name": "stdout",
     "output_type": "stream",
     "text": [
      "ur.01053041010.79 id has 15 grants\n",
      "102. graham barr\n",
      "15\n"
     ]
    },
    {
     "name": "stderr",
     "output_type": "stream",
     "text": [
      "0-32 / 32 (4.25s)\u001b[0m\n",
      "===\n",
      "Records extracted: 32\u001b[0m\n",
      "Warnings:  8\u001b[0m\n",
      "Starting iteration with limit=1000 skip=0 ...\u001b[0m\n"
     ]
    },
    {
     "name": "stdout",
     "output_type": "stream",
     "text": [
      "ur.0654234066.86 id has 32 grants\n",
      "103. marcel behr\n",
      "32\n"
     ]
    },
    {
     "name": "stderr",
     "output_type": "stream",
     "text": [
      "0-15 / 15 (0.64s)\u001b[0m\n",
      "===\n",
      "Records extracted: 15\u001b[0m\n",
      "Warnings:  8\u001b[0m\n",
      "Starting iteration with limit=1000 skip=0 ...\u001b[0m\n"
     ]
    },
    {
     "name": "stdout",
     "output_type": "stream",
     "text": [
      "ur.016415321222.00 id has 15 grants\n",
      "104. daniel benjamin\n",
      "15\n"
     ]
    },
    {
     "name": "stderr",
     "output_type": "stream",
     "text": [
      "0-16 / 16 (4.59s)\u001b[0m\n",
      "===\n",
      "Records extracted: 16\u001b[0m\n",
      "Warnings:  8\u001b[0m\n",
      "Starting iteration with limit=1000 skip=0 ...\u001b[0m\n"
     ]
    },
    {
     "name": "stdout",
     "output_type": "stream",
     "text": [
      "ur.01101102662.02 id has 16 grants\n",
      "105. ernesto bernal-mizrachi\n",
      "16\n"
     ]
    },
    {
     "name": "stderr",
     "output_type": "stream",
     "text": [
      "0-20 / 20 (6.00s)\u001b[0m\n",
      "===\n",
      "Records extracted: 20\u001b[0m\n",
      "Warnings:  8\u001b[0m\n",
      "Starting iteration with limit=1000 skip=0 ...\u001b[0m\n"
     ]
    },
    {
     "name": "stdout",
     "output_type": "stream",
     "text": [
      "ur.010620043557.11 id has 20 grants\n",
      "106. kirsten bibbins-domingo\n",
      "20\n"
     ]
    },
    {
     "name": "stderr",
     "output_type": "stream",
     "text": [
      "0-20 / 20 (0.88s)\u001b[0m\n",
      "===\n",
      "Records extracted: 20\u001b[0m\n",
      "Warnings:  8\u001b[0m\n",
      "Starting iteration with limit=1000 skip=0 ...\u001b[0m\n"
     ]
    },
    {
     "name": "stdout",
     "output_type": "stream",
     "text": [
      "ur.01125327571.07 id has 20 grants\n",
      "107. catherine bollard\n",
      "20\n"
     ]
    },
    {
     "name": "stderr",
     "output_type": "stream",
     "text": [
      "0-12 / 12 (0.67s)\u001b[0m\n",
      "===\n",
      "Records extracted: 12\u001b[0m\n",
      "Warnings:  8\u001b[0m\n",
      "Starting iteration with limit=1000 skip=0 ...\u001b[0m\n"
     ]
    },
    {
     "name": "stdout",
     "output_type": "stream",
     "text": [
      "ur.0661634627.36 id has 12 grants\n",
      "108. marcus bosenberg\n",
      "12\n"
     ]
    },
    {
     "name": "stderr",
     "output_type": "stream",
     "text": [
      "0-13 / 13 (4.49s)\u001b[0m\n",
      "===\n",
      "Records extracted: 13\u001b[0m\n",
      "Warnings:  8\u001b[0m\n",
      "Starting iteration with limit=1000 skip=0 ...\u001b[0m\n"
     ]
    },
    {
     "name": "stdout",
     "output_type": "stream",
     "text": [
      "ur.011070650007.71 id has 13 grants\n",
      "109. russ carstens\n",
      "13\n"
     ]
    },
    {
     "name": "stderr",
     "output_type": "stream",
     "text": [
      "0-11 / 11 (0.66s)\u001b[0m\n",
      "===\n",
      "Records extracted: 11\u001b[0m\n",
      "Warnings:  8\u001b[0m\n",
      "Starting iteration with limit=1000 skip=0 ...\u001b[0m\n"
     ]
    },
    {
     "name": "stdout",
     "output_type": "stream",
     "text": [
      "ur.01210111627.99 id has 11 grants\n",
      "110. juan celedon\n",
      "11\n"
     ]
    },
    {
     "name": "stderr",
     "output_type": "stream",
     "text": [
      "0-19 / 19 (0.71s)\u001b[0m\n",
      "===\n",
      "Records extracted: 19\u001b[0m\n",
      "Warnings:  8\u001b[0m\n",
      "Starting iteration with limit=1000 skip=0 ...\u001b[0m\n"
     ]
    },
    {
     "name": "stdout",
     "output_type": "stream",
     "text": [
      "ur.01173627414.69 id has 19 grants\n",
      "111. benjamin chen\n",
      "19\n"
     ]
    },
    {
     "name": "stderr",
     "output_type": "stream",
     "text": [
      "0-5 / 5 (4.53s)\u001b[0m\n",
      "===\n",
      "Records extracted: 5\u001b[0m\n",
      "Warnings:  8\u001b[0m\n",
      "Starting iteration with limit=1000 skip=0 ...\u001b[0m\n"
     ]
    },
    {
     "name": "stdout",
     "output_type": "stream",
     "text": [
      "ur.014240332477.14 id has 5 grants\n",
      "112. emily cheng\n",
      "5\n"
     ]
    },
    {
     "name": "stderr",
     "output_type": "stream",
     "text": [
      "0-10 / 10 (0.53s)\u001b[0m\n",
      "===\n",
      "Records extracted: 10\u001b[0m\n",
      "Warnings:  8\u001b[0m\n",
      "Starting iteration with limit=1000 skip=0 ...\u001b[0m\n"
     ]
    },
    {
     "name": "stdout",
     "output_type": "stream",
     "text": [
      "ur.07665720167.12 id has 10 grants\n",
      "113. charleen chu\n",
      "10\n"
     ]
    },
    {
     "name": "stderr",
     "output_type": "stream",
     "text": [
      "0-8 / 8 (3.78s)\u001b[0m\n",
      "===\n",
      "Records extracted: 8\u001b[0m\n",
      "Warnings:  8\u001b[0m\n",
      "Starting iteration with limit=1000 skip=0 ...\u001b[0m\n"
     ]
    },
    {
     "name": "stdout",
     "output_type": "stream",
     "text": [
      "ur.014706774767.94 id has 8 grants\n",
      "114. john chute\n",
      "8\n"
     ]
    },
    {
     "name": "stderr",
     "output_type": "stream",
     "text": [
      "0-8 / 8 (6.07s)\u001b[0m\n",
      "===\n",
      "Records extracted: 8\u001b[0m\n",
      "Warnings:  8\u001b[0m\n",
      "Starting iteration with limit=1000 skip=0 ...\u001b[0m\n"
     ]
    },
    {
     "name": "stdout",
     "output_type": "stream",
     "text": [
      "ur.01173232612.67 id has 8 grants\n",
      "115. edward sander connolly\n",
      "8\n"
     ]
    },
    {
     "name": "stderr",
     "output_type": "stream",
     "text": [
      "0-7 / 7 (0.97s)\u001b[0m\n",
      "===\n",
      "Records extracted: 7\u001b[0m\n",
      "Warnings:  8\u001b[0m\n",
      "Starting iteration with limit=1000 skip=0 ...\u001b[0m\n"
     ]
    },
    {
     "name": "stdout",
     "output_type": "stream",
     "text": [
      "ur.0703642674.64 id has 7 grants\n",
      "116. jonathan dranoff\n",
      "7\n"
     ]
    },
    {
     "name": "stderr",
     "output_type": "stream",
     "text": [
      "0-11 / 11 (3.54s)\u001b[0m\n",
      "===\n",
      "Records extracted: 11\u001b[0m\n",
      "Warnings:  8\u001b[0m\n",
      "Starting iteration with limit=1000 skip=0 ...\u001b[0m\n"
     ]
    },
    {
     "name": "stdout",
     "output_type": "stream",
     "text": [
      "ur.0604413006.33 id has 11 grants\n",
      "117. raymond adams dudley\n",
      "11\n"
     ]
    },
    {
     "name": "stderr",
     "output_type": "stream",
     "text": [
      "0-7 / 7 (0.49s)\u001b[0m\n",
      "===\n",
      "Records extracted: 7\u001b[0m\n",
      "Warnings:  8\u001b[0m\n",
      "Starting iteration with limit=1000 skip=0 ...\u001b[0m\n"
     ]
    },
    {
     "name": "stdout",
     "output_type": "stream",
     "text": [
      "ur.0775321062.58 id has 7 grants\n",
      "118. charles eberhart\n",
      "7\n"
     ]
    },
    {
     "name": "stderr",
     "output_type": "stream",
     "text": [
      "0-12 / 12 (0.63s)\u001b[0m\n",
      "===\n",
      "Records extracted: 12\u001b[0m\n",
      "Warnings:  8\u001b[0m\n",
      "Starting iteration with limit=1000 skip=0 ...\u001b[0m\n"
     ]
    },
    {
     "name": "stdout",
     "output_type": "stream",
     "text": [
      "ur.01065507416.27 id has 12 grants\n",
      "119. charles esmon\n",
      "12\n"
     ]
    },
    {
     "name": "stderr",
     "output_type": "stream",
     "text": [
      "0-6 / 6 (2.43s)\u001b[0m\n",
      "===\n",
      "Records extracted: 6\u001b[0m\n",
      "Warnings:  8\u001b[0m\n",
      "Starting iteration with limit=1000 skip=0 ...\u001b[0m\n"
     ]
    },
    {
     "name": "stdout",
     "output_type": "stream",
     "text": [
      "ur.01130347417.06 id has 6 grants\n",
      "120. francisco esteva\n",
      "6\n"
     ]
    },
    {
     "name": "stderr",
     "output_type": "stream",
     "text": [
      "0-10 / 10 (1.94s)\u001b[0m\n",
      "===\n",
      "Records extracted: 10\u001b[0m\n",
      "Warnings:  8\u001b[0m\n",
      "Starting iteration with limit=1000 skip=0 ...\u001b[0m\n"
     ]
    },
    {
     "name": "stdout",
     "output_type": "stream",
     "text": [
      "ur.01255200715.86 id has 10 grants\n",
      "121. nikolaos frangogiannis\n",
      "10\n"
     ]
    },
    {
     "name": "stderr",
     "output_type": "stream",
     "text": [
      "0-21 / 21 (2.72s)\u001b[0m\n",
      "===\n",
      "Records extracted: 21\u001b[0m\n",
      "Warnings:  8\u001b[0m\n",
      "Starting iteration with limit=1000 skip=0 ...\u001b[0m\n"
     ]
    },
    {
     "name": "stdout",
     "output_type": "stream",
     "text": [
      "ur.012203472074.86 id has 21 grants\n",
      "122. ali gharavi\n",
      "21\n"
     ]
    },
    {
     "name": "stderr",
     "output_type": "stream",
     "text": [
      "0-6 / 6 (2.13s)\u001b[0m\n",
      "===\n",
      "Records extracted: 6\u001b[0m\n",
      "Warnings:  8\u001b[0m\n",
      "Starting iteration with limit=1000 skip=0 ...\u001b[0m\n"
     ]
    },
    {
     "name": "stdout",
     "output_type": "stream",
     "text": [
      "ur.01106271435.77 id has 6 grants\n",
      "123. maura gillison\n",
      "6\n"
     ]
    },
    {
     "name": "stderr",
     "output_type": "stream",
     "text": [
      "0-15 / 15 (6.01s)\u001b[0m\n",
      "===\n",
      "Records extracted: 15\u001b[0m\n",
      "Warnings:  8\u001b[0m\n",
      "Starting iteration with limit=1000 skip=0 ...\u001b[0m\n"
     ]
    },
    {
     "name": "stdout",
     "output_type": "stream",
     "text": [
      "ur.0625272302.13 id has 15 grants\n",
      "124. paul goepfert\n",
      "15\n"
     ]
    },
    {
     "name": "stderr",
     "output_type": "stream",
     "text": [
      "0-15 / 15 (0.70s)\u001b[0m\n",
      "===\n",
      "Records extracted: 15\u001b[0m\n",
      "Warnings:  8\u001b[0m\n",
      "Starting iteration with limit=1000 skip=0 ...\u001b[0m\n"
     ]
    },
    {
     "name": "stdout",
     "output_type": "stream",
     "text": [
      "ur.01310116146.23 id has 15 grants\n",
      "125. daniel goldstein\n",
      "15\n"
     ]
    },
    {
     "name": "stderr",
     "output_type": "stream",
     "text": [
      "0-7 / 7 (3.43s)\u001b[0m\n",
      "===\n",
      "Records extracted: 7\u001b[0m\n",
      "Warnings:  8\u001b[0m\n",
      "Starting iteration with limit=1000 skip=0 ...\u001b[0m\n"
     ]
    },
    {
     "name": "stdout",
     "output_type": "stream",
     "text": [
      "ur.0711517452.48 id has 7 grants\n",
      "126. laura haneline\n",
      "7\n"
     ]
    },
    {
     "name": "stderr",
     "output_type": "stream",
     "text": [
      "0-18 / 18 (6.30s)\u001b[0m\n",
      "===\n",
      "Records extracted: 18\u001b[0m\n",
      "Warnings:  8\u001b[0m\n",
      "Starting iteration with limit=1000 skip=0 ...\u001b[0m\n"
     ]
    },
    {
     "name": "stdout",
     "output_type": "stream",
     "text": [
      "ur.01134672503.93 id has 18 grants\n",
      "127. tzung hsiai\n",
      "18\n"
     ]
    },
    {
     "name": "stderr",
     "output_type": "stream",
     "text": [
      "0-5 / 5 (0.54s)\u001b[0m\n",
      "===\n",
      "Records extracted: 5\u001b[0m\n",
      "Warnings:  8\u001b[0m\n",
      "Starting iteration with limit=1000 skip=0 ...\u001b[0m\n"
     ]
    },
    {
     "name": "stdout",
     "output_type": "stream",
     "text": [
      "ur.0631053106.24 id has 5 grants\n",
      "128. james hsieh\n",
      "5\n"
     ]
    },
    {
     "name": "stderr",
     "output_type": "stream",
     "text": [
      "0-25 / 25 (0.88s)\u001b[0m\n",
      "===\n",
      "Records extracted: 25\u001b[0m\n",
      "Warnings:  8\u001b[0m\n",
      "Starting iteration with limit=1000 skip=0 ...\u001b[0m\n"
     ]
    },
    {
     "name": "stdout",
     "output_type": "stream",
     "text": [
      "ur.01333042221.11 id has 25 grants\n",
      "129. linden hu\n",
      "25\n"
     ]
    },
    {
     "name": "stderr",
     "output_type": "stream",
     "text": [
      "0-18 / 18 (2.43s)\u001b[0m\n",
      "===\n",
      "Records extracted: 18\u001b[0m\n",
      "Warnings:  8\u001b[0m\n",
      "Starting iteration with limit=1000 skip=0 ...\u001b[0m\n"
     ]
    },
    {
     "name": "stdout",
     "output_type": "stream",
     "text": [
      "ur.0620674221.66 id has 18 grants\n",
      "130. terrie inder\n",
      "18\n"
     ]
    },
    {
     "name": "stderr",
     "output_type": "stream",
     "text": [
      "0-32 / 32 (2.72s)\u001b[0m\n",
      "===\n",
      "Records extracted: 32\u001b[0m\n",
      "Warnings:  8\u001b[0m\n",
      "Starting iteration with limit=1000 skip=0 ...\u001b[0m\n"
     ]
    },
    {
     "name": "stdout",
     "output_type": "stream",
     "text": [
      "ur.0714371057.61 id has 32 grants\n",
      "131. raghu kalluri\n",
      "32\n"
     ]
    },
    {
     "name": "stderr",
     "output_type": "stream",
     "text": [
      "0-17 / 17 (0.99s)\u001b[0m\n",
      "===\n",
      "Records extracted: 17\u001b[0m\n",
      "Warnings:  8\u001b[0m\n",
      "Starting iteration with limit=1000 skip=0 ...\u001b[0m\n"
     ]
    },
    {
     "name": "stdout",
     "output_type": "stream",
     "text": [
      "ur.015045506007.80 id has 17 grants\n",
      "132. bjorn knollmann\n",
      "17\n"
     ]
    },
    {
     "name": "stderr",
     "output_type": "stream",
     "text": [
      "0-11 / 11 (0.72s)\u001b[0m\n",
      "===\n",
      "Records extracted: 11\u001b[0m\n",
      "Warnings:  8\u001b[0m\n",
      "Starting iteration with limit=1000 skip=0 ...\u001b[0m\n"
     ]
    },
    {
     "name": "stdout",
     "output_type": "stream",
     "text": [
      "ur.01041700036.85 id has 11 grants\n",
      "133. andrew kung\n",
      "11\n"
     ]
    },
    {
     "name": "stderr",
     "output_type": "stream",
     "text": [
      "0-25 / 25 (0.96s)\u001b[0m\n",
      "===\n",
      "Records extracted: 25\u001b[0m\n",
      "Warnings:  8\u001b[0m\n",
      "Starting iteration with limit=1000 skip=0 ...\u001b[0m\n"
     ]
    },
    {
     "name": "stdout",
     "output_type": "stream",
     "text": [
      "ur.015262716107.02 id has 25 grants\n",
      "134. james lewis\n",
      "25\n"
     ]
    },
    {
     "name": "stderr",
     "output_type": "stream",
     "text": [
      "0-21 / 21 (0.91s)\u001b[0m\n",
      "===\n",
      "Records extracted: 21\u001b[0m\n",
      "Warnings:  8\u001b[0m\n",
      "Starting iteration with limit=1000 skip=0 ...\u001b[0m\n"
     ]
    },
    {
     "name": "stdout",
     "output_type": "stream",
     "text": [
      "ur.0727657075.71 id has 21 grants\n",
      "135. gary luker\n",
      "21\n"
     ]
    },
    {
     "name": "stderr",
     "output_type": "stream",
     "text": [
      "0-9 / 9 (0.59s)\u001b[0m\n",
      "===\n",
      "Records extracted: 9\u001b[0m\n",
      "Warnings:  8\u001b[0m\n",
      "Starting iteration with limit=1000 skip=0 ...\u001b[0m\n"
     ]
    },
    {
     "name": "stdout",
     "output_type": "stream",
     "text": [
      "ur.0740376070.63 id has 9 grants\n",
      "136. richard malley\n",
      "9\n"
     ]
    },
    {
     "name": "stderr",
     "output_type": "stream",
     "text": [
      "0-3 / 3 (4.37s)\u001b[0m\n",
      "===\n",
      "Records extracted: 3\u001b[0m\n",
      "Warnings:  8\u001b[0m\n",
      "Starting iteration with limit=1000 skip=0 ...\u001b[0m\n"
     ]
    },
    {
     "name": "stdout",
     "output_type": "stream",
     "text": [
      "ur.0772745010.90 id has 3 grants\n",
      "137. mehrdad matloubian\n",
      "3\n"
     ]
    },
    {
     "name": "stderr",
     "output_type": "stream",
     "text": [
      "0-9 / 9 (0.45s)\u001b[0m\n",
      "===\n",
      "Records extracted: 9\u001b[0m\n",
      "Warnings:  8\u001b[0m\n",
      "Starting iteration with limit=1000 skip=0 ...\u001b[0m\n"
     ]
    },
    {
     "name": "stdout",
     "output_type": "stream",
     "text": [
      "ur.0703373116.16 id has 9 grants\n",
      "138. franck mauvais-jarvis\n",
      "9\n"
     ]
    },
    {
     "name": "stderr",
     "output_type": "stream",
     "text": [
      "0-20 / 20 (4.75s)\u001b[0m\n",
      "===\n",
      "Records extracted: 20\u001b[0m\n",
      "Warnings:  8\u001b[0m\n",
      "Starting iteration with limit=1000 skip=0 ...\u001b[0m\n"
     ]
    },
    {
     "name": "stdout",
     "output_type": "stream",
     "text": [
      "ur.0762775110.66 id has 20 grants\n",
      "139. raghavendra mirmira\n",
      "20\n"
     ]
    },
    {
     "name": "stderr",
     "output_type": "stream",
     "text": [
      "0-9 / 9 (5.85s)\u001b[0m\n",
      "===\n",
      "Records extracted: 9\u001b[0m\n",
      "Warnings:  8\u001b[0m\n",
      "Starting iteration with limit=1000 skip=0 ...\u001b[0m\n"
     ]
    },
    {
     "name": "stdout",
     "output_type": "stream",
     "text": [
      "ur.015756017657.79 id has 9 grants\n",
      "140. joshua nosanchuk\n",
      "9\n"
     ]
    },
    {
     "name": "stderr",
     "output_type": "stream",
     "text": [
      "0-34 / 34 (6.43s)\u001b[0m\n",
      "===\n",
      "Records extracted: 34\u001b[0m\n",
      "Warnings:  8\u001b[0m\n",
      "Starting iteration with limit=1000 skip=0 ...\u001b[0m\n"
     ]
    },
    {
     "name": "stdout",
     "output_type": "stream",
     "text": [
      "ur.01143047214.87 id has 34 grants\n",
      "141. lucila ohno-machado\n",
      "34\n"
     ]
    },
    {
     "name": "stderr",
     "output_type": "stream",
     "text": [
      "0-21 / 21 (5.98s)\u001b[0m\n",
      "===\n",
      "Records extracted: 21\u001b[0m\n",
      "Warnings:  8\u001b[0m\n",
      "Starting iteration with limit=1000 skip=0 ...\u001b[0m\n"
     ]
    },
    {
     "name": "stdout",
     "output_type": "stream",
     "text": [
      "ur.0741146020.92 id has 21 grants\n",
      "142. hideho okada\n",
      "21\n"
     ]
    },
    {
     "name": "stderr",
     "output_type": "stream",
     "text": [
      "0-7 / 7 (0.61s)\u001b[0m\n",
      "===\n",
      "Records extracted: 7\u001b[0m\n",
      "Warnings:  8\u001b[0m\n",
      "Starting iteration with limit=1000 skip=0 ...\u001b[0m\n"
     ]
    },
    {
     "name": "stdout",
     "output_type": "stream",
     "text": [
      "ur.0774334672.45 id has 7 grants\n",
      "143. jordan orange\n",
      "7\n"
     ]
    },
    {
     "name": "stderr",
     "output_type": "stream",
     "text": [
      "0-11 / 11 (0.60s)\u001b[0m\n",
      "===\n",
      "Records extracted: 11\u001b[0m\n",
      "Warnings:  8\u001b[0m\n",
      "Starting iteration with limit=1000 skip=0 ...\u001b[0m\n"
     ]
    },
    {
     "name": "stdout",
     "output_type": "stream",
     "text": [
      "ur.01162106561.71 id has 11 grants\n",
      "144. jonathan powell\n",
      "11\n"
     ]
    },
    {
     "name": "stderr",
     "output_type": "stream",
     "text": [
      "0-5 / 5 (2.22s)\u001b[0m\n",
      "===\n",
      "Records extracted: 5\u001b[0m\n",
      "Warnings:  8\u001b[0m\n",
      "Starting iteration with limit=1000 skip=0 ...\u001b[0m\n"
     ]
    },
    {
     "name": "stdout",
     "output_type": "stream",
     "text": [
      "ur.01022315720.67 id has 5 grants\n",
      "145. sridhar ramaswamy\n",
      "5\n"
     ]
    },
    {
     "name": "stderr",
     "output_type": "stream",
     "text": [
      "0-22 / 22 (6.50s)\u001b[0m\n",
      "===\n",
      "Records extracted: 22\u001b[0m\n",
      "Warnings:  8\u001b[0m\n",
      "Starting iteration with limit=1000 skip=0 ...\u001b[0m\n"
     ]
    },
    {
     "name": "stdout",
     "output_type": "stream",
     "text": [
      "ur.013551442357.17 id has 22 grants\n",
      "146. muredach reilly\n",
      "22\n"
     ]
    },
    {
     "name": "stderr",
     "output_type": "stream",
     "text": [
      "0-16 / 16 (0.68s)\u001b[0m\n",
      "===\n",
      "Records extracted: 16\u001b[0m\n",
      "Warnings:  8\u001b[0m\n",
      "Starting iteration with limit=1000 skip=0 ...\u001b[0m\n"
     ]
    },
    {
     "name": "stdout",
     "output_type": "stream",
     "text": [
      "ur.01174455631.12 id has 16 grants\n",
      "147. jeremy reiter\n",
      "16\n"
     ]
    },
    {
     "name": "stderr",
     "output_type": "stream",
     "text": [
      "0-5 / 5 (3.45s)\u001b[0m\n",
      "===\n",
      "Records extracted: 5\u001b[0m\n",
      "Warnings:  8\u001b[0m\n",
      "Starting iteration with limit=1000 skip=0 ...\u001b[0m\n"
     ]
    },
    {
     "name": "stdout",
     "output_type": "stream",
     "text": [
      "ur.012404741132.65 id has 5 grants\n",
      "148. charles roberts\n",
      "5\n"
     ]
    },
    {
     "name": "stderr",
     "output_type": "stream",
     "text": [
      "0-28 / 28 (6.28s)\u001b[0m\n",
      "===\n",
      "Records extracted: 28\u001b[0m\n",
      "Warnings:  8\u001b[0m\n",
      "Starting iteration with limit=1000 skip=0 ...\u001b[0m\n"
     ]
    },
    {
     "name": "stdout",
     "output_type": "stream",
     "text": [
      "ur.01036436624.26 id has 28 grants\n",
      "149. william robinson\n",
      "28\n"
     ]
    },
    {
     "name": "stderr",
     "output_type": "stream",
     "text": [
      "0-16 / 16 (5.88s)\u001b[0m\n",
      "===\n",
      "Records extracted: 16\u001b[0m\n",
      "Warnings:  8\u001b[0m\n",
      "Starting iteration with limit=1000 skip=0 ...\u001b[0m\n"
     ]
    },
    {
     "name": "stdout",
     "output_type": "stream",
     "text": [
      "ur.01307371374.44 id has 16 grants\n",
      "150. evan rosen\n",
      "16\n"
     ]
    },
    {
     "name": "stderr",
     "output_type": "stream",
     "text": [
      "0-22 / 22 (0.91s)\u001b[0m\n",
      "===\n",
      "Records extracted: 22\u001b[0m\n",
      "Warnings:  8\u001b[0m\n",
      "Starting iteration with limit=1000 skip=0 ...\u001b[0m\n"
     ]
    },
    {
     "name": "stdout",
     "output_type": "stream",
     "text": [
      "ur.0712434301.07 id has 22 grants\n",
      "151. charles rudin\n",
      "22\n"
     ]
    },
    {
     "name": "stderr",
     "output_type": "stream",
     "text": [
      "0-6 / 6 (4.05s)\u001b[0m\n",
      "===\n",
      "Records extracted: 6\u001b[0m\n",
      "Warnings:  8\u001b[0m\n",
      "Starting iteration with limit=1000 skip=0 ...\u001b[0m\n"
     ]
    },
    {
     "name": "stdout",
     "output_type": "stream",
     "text": [
      "ur.01202263115.16 id has 6 grants\n",
      "152. ida sim\n",
      "6\n"
     ]
    },
    {
     "name": "stderr",
     "output_type": "stream",
     "text": [
      "0-24 / 24 (6.32s)\u001b[0m\n",
      "===\n",
      "Records extracted: 24\u001b[0m\n",
      "Warnings:  8\u001b[0m\n",
      "Starting iteration with limit=1000 skip=0 ...\u001b[0m\n"
     ]
    },
    {
     "name": "stdout",
     "output_type": "stream",
     "text": [
      "ur.01061572211.26 id has 24 grants\n",
      "153. upinder singh\n",
      "24\n"
     ]
    },
    {
     "name": "stderr",
     "output_type": "stream",
     "text": [
      "0-13 / 13 (0.62s)\u001b[0m\n",
      "===\n",
      "Records extracted: 13\u001b[0m\n",
      "Warnings:  8\u001b[0m\n",
      "Starting iteration with limit=1000 skip=0 ...\u001b[0m\n"
     ]
    },
    {
     "name": "stdout",
     "output_type": "stream",
     "text": [
      "ur.0751006274.35 id has 13 grants\n",
      "154. rhonda souza\n",
      "13\n"
     ]
    },
    {
     "name": "stderr",
     "output_type": "stream",
     "text": [
      "0-22 / 22 (3.88s)\u001b[0m\n",
      "===\n",
      "Records extracted: 22\u001b[0m\n",
      "Warnings:  8\u001b[0m\n",
      "Starting iteration with limit=1000 skip=0 ...\u001b[0m\n"
     ]
    },
    {
     "name": "stdout",
     "output_type": "stream",
     "text": [
      "ur.01323203047.64 id has 22 grants\n",
      "155. kimberly stegmaier\n",
      "22\n"
     ]
    },
    {
     "name": "stderr",
     "output_type": "stream",
     "text": [
      "0-9 / 9 (0.63s)\u001b[0m\n",
      "===\n",
      "Records extracted: 9\u001b[0m\n",
      "Warnings:  8\u001b[0m\n",
      "Starting iteration with limit=1000 skip=0 ...\u001b[0m\n"
     ]
    },
    {
     "name": "stdout",
     "output_type": "stream",
     "text": [
      "ur.011151216517.08 id has 9 grants\n",
      "156. constantine stratakis\n",
      "9\n"
     ]
    },
    {
     "name": "stderr",
     "output_type": "stream",
     "text": [
      "0-13 / 13 (1.22s)\u001b[0m\n",
      "===\n",
      "Records extracted: 13\u001b[0m\n",
      "Warnings:  8\u001b[0m\n",
      "Starting iteration with limit=1000 skip=0 ...\u001b[0m\n"
     ]
    },
    {
     "name": "stdout",
     "output_type": "stream",
     "text": [
      "ur.01206574465.13 id has 13 grants\n",
      "157. john tisdale\n",
      "13\n"
     ]
    },
    {
     "name": "stderr",
     "output_type": "stream",
     "text": [
      "0-16 / 16 (4.14s)\u001b[0m\n",
      "===\n",
      "Records extracted: 16\u001b[0m\n",
      "Warnings:  8\u001b[0m\n",
      "Starting iteration with limit=1000 skip=0 ...\u001b[0m\n"
     ]
    },
    {
     "name": "stdout",
     "output_type": "stream",
     "text": [
      "ur.01024164315.00 id has 16 grants\n",
      "158. thomas wang\n",
      "16\n"
     ]
    },
    {
     "name": "stderr",
     "output_type": "stream",
     "text": [
      "0-13 / 13 (0.77s)\u001b[0m\n",
      "===\n",
      "Records extracted: 13\u001b[0m\n",
      "Warnings:  8\u001b[0m\n",
      "Starting iteration with limit=1000 skip=0 ...\u001b[0m\n"
     ]
    },
    {
     "name": "stdout",
     "output_type": "stream",
     "text": [
      "ur.0652523657.55 id has 13 grants\n",
      "159. myles wolf\n",
      "13\n"
     ]
    },
    {
     "name": "stderr",
     "output_type": "stream",
     "text": [
      "0-13 / 13 (4.42s)\u001b[0m\n",
      "===\n",
      "Records extracted: 13\u001b[0m\n",
      "Warnings:  8\u001b[0m\n"
     ]
    },
    {
     "name": "stdout",
     "output_type": "stream",
     "text": [
      "ur.015100501062.34 id has 13 grants\n",
      "160. alan yu\n",
      "13\n",
      "The data has been written to all_Grants.json\n"
     ]
    }
   ],
   "source": [
    "def findby_idGrant(nameDict):\n",
    "    all_Grants= {}\n",
    "    count=0\n",
    "    for name, person_ids in nameDict.items():\n",
    "        indv_grant_list = []\n",
    "        for i in person_ids:\n",
    "            res = dsl.query_iterative(f\"\"\"search grants where researchers = \"{i}\" return grants{search_Var}\"\"\")\n",
    "            number = res.json['_stats']['total_count']\n",
    "            print(f'{i} id has {number} grants')\n",
    "            listDict = res.json.get('grants', [])\n",
    "\n",
    "            indv_grant_list.extend(listDict)\n",
    "\n",
    "        all_Grants[name] = indv_grant_list\n",
    "        count+=1\n",
    "        print(f'{count}. {name}')\n",
    "        print(len(all_Grants[name]))\n",
    "    return all_Grants\n",
    "\n",
    "grants = findby_idGrant(names) \n",
    "\n",
    "json_filename = \"all_Grants.json\"\n",
    "\n",
    "with open(json_filename, 'w') as json_file:\n",
    "    json.dump(grants, json_file, indent=2)\n",
    "\n",
    "print(f'The data has been written to {json_filename}')"
   ]
  },
  {
   "cell_type": "code",
   "execution_count": 2,
   "metadata": {},
   "outputs": [
    {
     "name": "stdout",
     "output_type": "stream",
     "text": [
      "CSV file 'dimensionsGrants_data.csv' created successfully.\n"
     ]
    }
   ],
   "source": [
    "import csv\n",
    "import json\n",
    "\n",
    "csv_filename = \"dimensionsGrants_data.csv\"\n",
    "\n",
    "with open(\"all_Grants.json\", 'r', encoding='utf-8') as file:\n",
    "    personDict = json.load(file)\n",
    "# removed 'investigators\n",
    "common_work_info_headers = ['abstract', 'active_years', 'altmetric', 'associated_grant_ids', 'brief_title', 'category_bra', 'category_for', 'category_for_2020', 'category_hra', 'category_hrcs_rac', 'category_rcdc', 'conditions', 'date', 'date_inserted', 'dimensions_url', 'end_date', 'funder_countries', 'funders', 'funding_usd','grant_number','gender', 'id', 'interventions', 'linkout', 'mesh_terms', 'phase', 'publication_ids', 'publications', 'registry', 'score', 'start_date', 'study_arms', 'study_designs', 'study_eligibility_criteria', 'study_maximum_age', 'study_minimum_age', 'study_outcome_measures', 'study_participants', 'study_type', 'title']\n",
    "\n",
    "\n",
    "with open(csv_filename, 'w', newline='', encoding='utf-8') as csv_file:\n",
    "    writer = csv.writer(csv_file)\n",
    "    \n",
    "    header = ['Person'] + common_work_info_headers\n",
    "    writer.writerow(header)\n",
    "\n",
    "    # Write data rows\n",
    "    for person, works in personDict.items():\n",
    "        for work in works:  # Assuming works is a list of dictionaries now\n",
    "            row = [person] + [work.get(head, '') for head in common_work_info_headers]\n",
    "            writer.writerow(row)\n",
    "\n",
    "print(f\"CSV file '{csv_filename}' created successfully.\")"
   ]
  }
 ],
 "metadata": {
  "kernelspec": {
   "display_name": "base",
   "language": "python",
   "name": "python3"
  },
  "language_info": {
   "codemirror_mode": {
    "name": "ipython",
    "version": 3
   },
   "file_extension": ".py",
   "mimetype": "text/x-python",
   "name": "python",
   "nbconvert_exporter": "python",
   "pygments_lexer": "ipython3",
   "version": "3.9.13"
  }
 },
 "nbformat": 4,
 "nbformat_minor": 2
}
