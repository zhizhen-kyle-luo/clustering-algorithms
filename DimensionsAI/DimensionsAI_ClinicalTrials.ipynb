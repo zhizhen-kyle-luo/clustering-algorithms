{
 "cells": [
  {
   "cell_type": "code",
   "execution_count": 1,
   "id": "b479f862",
   "metadata": {},
   "outputs": [
    {
     "name": "stderr",
     "output_type": "stream",
     "text": [
      "c:\\Users\\ashle\\Anaconda\\lib\\site-packages\\scipy\\__init__.py:155: UserWarning: A NumPy version >=1.18.5 and <1.25.0 is required for this version of SciPy (detected version 1.26.4\n",
      "  warnings.warn(f\"A NumPy version >={np_minversion} and <{np_maxversion}\"\n"
     ]
    }
   ],
   "source": [
    "from tqdm.notebook import tqdm as progress\n",
    "import pandas as pd\n",
    "import plotly.express as px\n",
    "from plotly.offline import plot\n",
    "import dimcli\n",
    "from dimcli.utils import *\n",
    "import os, sys, time, json\n",
    "from IPython.display import Image\n",
    "from IPython.core.display import HTML \n",
    "import csv\n",
    "from itertools import islice\n",
    "import ast"
   ]
  },
  {
   "cell_type": "code",
   "execution_count": 2,
   "id": "580f7c73",
   "metadata": {},
   "outputs": [
    {
     "name": "stdout",
     "output_type": "stream",
     "text": [
      "==\n",
      "Logging in..\n",
      "\u001b[2mDimcli - Dimensions API Client (v1.2)\u001b[0m\n",
      "\u001b[2mConnected to: <https://app.dimensions.ai/api/dsl> - DSL v2.9\u001b[0m\n",
      "\u001b[2mMethod: manual login\u001b[0m\n"
     ]
    }
   ],
   "source": [
    "#Log into Dimensions\n",
    "#API key is: 9F8D648F0D7E437CB1736BEBDF007F02\n",
    "#!pip install dimcli -U --quiet \n",
    "\n",
    "print(\"==\\nLogging in..\")\n",
    "# https://digital-science.github.io/dimcli/getting-started.html#authentication\n",
    "ENDPOINT = \"https://app.dimensions.ai\"\n",
    "if 'google.colab' in sys.modules:\n",
    "    import getpass\n",
    "    KEY = getpass.getpass(prompt='API Key: ')  \n",
    "    dimcli.login(key=KEY, endpoint=ENDPOINT)\n",
    "else:\n",
    "    KEY = \"9F8D648F0D7E437CB1736BEBDF007F02\"\n",
    "    dimcli.login(key=KEY, endpoint=ENDPOINT)\n",
    "dsl = dimcli.Dsl()"
   ]
  },
  {
   "cell_type": "code",
   "execution_count": 3,
   "id": "5a07df5e",
   "metadata": {},
   "outputs": [
    {
     "name": "stdout",
     "output_type": "stream",
     "text": [
      "{\"alan d'andrea\": ['ur.012727024557.25'], 'james fagin': ['ur.01002446502.38'], 'daniel haber': ['ur.01221020161.61'], 'ethylin jabs': ['ur.0757041626.26'], 'karl nath': ['ur.0621613670.95'], 'bishr omary': ['ur.014730211054.29'], 'john raymond': ['ur.0717265610.95'], 'fuad ziyadeh': ['ur.0761676730.05'], 'maria abreu': ['ur.0606477677.70'], 'michael ackerman': ['ur.01227355747.25'], 'mariana kaplan': ['ur.012647507142.53'], 'feroz papa': ['ur.01147037443.33'], 'paul taylor': ['ur.013436160257.94'], 'loren walensky': ['ur.01324277771.74'], 'yiping yang': ['ur.0707211155.90'], 'steven albelda': ['ur.015000016117.95'], 'richard  anderson': ['ur.010576736217.64'], 'peter arvan': ['ur.01002760245.88'], 'adam asch': ['ur.0615715006.01'], 'john belmont': ['ur.01140262452.40'], 'bradford berk': ['ur.012523312277.63'], 'morris birnbaum': ['ur.01033446252.27'], 'richard blumberg': ['ur.0633257054.96'], 'douglas bradley': ['ur.01153467234.36'], 'kenneth bridges': ['ur.016162551417.02'], 'william carroll': ['ur.01244066051.55'], 'christine cartwright': ['ur.01003065721.10', 'ur.0741204747.88'], 'webster cavenee': ['ur.012740223223.69'], 'anthony cerami': ['ur.01213472726.84'], 'jeffrey cohen': ['ur.01325554464.07'], 'fabio cominelli': ['ur.0620555626.93'], 'james covell': ['ur.01102714156.98'], 'bruce cronstein': ['ur.0711105165.79'], 'garry cutting': ['ur.0752157206.07'], 'mary dinauer': ['ur.0651722340.16'], 'daniel drucker': ['ur.0763704140.49'], 'keith elkon': ['ur.01336001101.35'], 'scott friedman': ['ur.01152344370.10'], 'gerhard giebisch': ['ur.0772206703.69'], 'dwight gary gilliland': ['ur.0744536167.42'], 'christopher glass': ['ur.01067240353.95'], 'daniel goldberg': ['ur.01157271565.79'], 'roberto ariel gomez': ['ur.01356023066.14'], 'john griffin': ['ur.016604543402.68'], 'murray grossman': ['ur.01305430265.06'], 'samuel hawgood': ['ur.013155066547.55'], 'jay heinecke': ['ur.01020255414.31'], 'stephen heinemann': ['ur.014171277202.92'], 'alan hillman': ['ur.01271177722.98', 'ur.0627200551.43'], 'suzanne ildstad': ['ur.0636442207.95'], 'richard johnson': ['ur.010175037017.23'], 'william kane': ['ur.0665466315.82'], 'stefan karlsson': ['ur.0622521714.49'], 'michael kastan': ['ur.01277715415.41'], 'daniel kastner': ['ur.012247544157.63'], 'carolyn kelly': ['ur.0716143620.18'], 'shannon kenney': ['ur.0663774106.86'], 'brian kobilka': ['ur.01107022045.13'], 'james krueger': ['ur.012632026177.48'], 'david kwiatkowski': ['ur.01045437517.59'], 'jack leahy': ['ur.011437130222.71'], 'thomas lee': ['ur.01130535435.19'], 'wilbur lew': ['ur.01205170110.03'], 'michael lieber': ['ur.01251725136.98'], 'howard lippton': ['ur.01236526331.24'], 'edison liu': ['ur.01244760140.44'], 'nicole lurie': ['ur.01302155501.56'], 'sanford markowitz': ['ur.015750001717.89'], 'andrew marks': ['ur.01072670717.67'], 'donald mcclain': ['ur.010572272337.66'], 'michael mcphaul': ['ur.01323534056.92'], 'hiroaki mitsuya': ['ur.0606570120.14'], 'timothy murphy': ['ur.015563027057.11'], 'george palade': ['ur.01315756601.55'], 'thomas pallone': ['ur.01122016026.09'], 'james paulson': ['ur.0627076066.77'], 'alice pentland': ['ur.01346121507.66'], 'william petri jr.': ['ur.0704212656.70'], 'roger pomerantz': ['ur.0735065052.71'], 'lewis rubin': ['ur.0756075734.69'], 'erkki ruoslahti': ['ur.075643133.08'], 'paul sanders': ['ur.01147010000.10'], 'james schafer': ['ur.01211311752.94'], 'daniel schuster': ['ur.01160710210.68'], 'david schwartz': ['ur.0637453473.51'], 'gregg semenza': ['ur.01254223162.13'], 'peter st. george-hyslop': ['ur.01272213066.16'], 'jonathan stamler': ['ur.0673753523.71'], 'samuel stanley': ['ur.016036762337.68'], 'charles stevens': ['ur.013317500652.16'], 'vikas sukhatme': ['ur.0612750636.84'], 'palmer taylor': ['ur.0654367343.57'], 'laurence turka': ['ur.01315400021.90'], 'andre veillette': ['ur.01370223226.10'], 'stephen wank': ['ur.01014762776.19'], 'allan weissman': ['ur.0645763160.52'], 'michael wessels': ['ur.01342670351.13'], 'samuel wickline': ['ur.01144204341.44'], 'fredric wondisford': ['ur.0575545206.08'], 'david andes': ['ur.0724231274.33'], 'scott armstrong': ['ur.0605712636.64'], 'graham barr': ['ur.01053041010.79'], 'marcel behr': ['ur.0654234066.86'], 'daniel benjamin': ['ur.016415321222.00'], 'ernesto bernal-mizrachi': ['ur.01101102662.02'], 'kirsten bibbins-domingo': ['ur.010620043557.11'], 'catherine bollard': ['ur.01125327571.07'], 'marcus bosenberg': ['ur.0661634627.36'], 'russ carstens': ['ur.011070650007.71'], 'juan celedon': ['ur.01210111627.99'], 'benjamin chen': ['ur.01173627414.69'], 'emily cheng': ['ur.014240332477.14'], 'charleen chu': ['ur.07665720167.12'], 'john chute': ['ur.014706774767.94'], 'edward sander connolly': ['ur.01173232612.67'], 'jonathan dranoff': ['ur.0703642674.64'], 'raymond adams dudley': ['ur.0604413006.33'], 'charles eberhart': ['ur.0775321062.58'], 'charles esmon': ['ur.01065507416.27'], 'francisco esteva': ['ur.01130347417.06'], 'nikolaos frangogiannis': ['ur.01255200715.86'], 'ali gharavi': ['ur.012203472074.86'], 'maura gillison': ['ur.01106271435.77'], 'paul goepfert': ['ur.0625272302.13'], 'daniel goldstein': ['ur.01310116146.23'], 'laura haneline': ['ur.0711517452.48'], 'tzung hsiai': ['ur.01134672503.93'], 'james hsieh': ['ur.0631053106.24'], 'linden hu': ['ur.01333042221.11'], 'terrie inder': ['ur.0620674221.66'], 'raghu kalluri': ['ur.0714371057.61'], 'bjorn knollmann': ['ur.015045506007.80'], 'andrew kung': ['ur.01041700036.85'], 'james lewis': ['ur.015262716107.02'], 'gary luker': ['ur.0727657075.71'], 'richard malley': ['ur.0740376070.63'], 'mehrdad matloubian': ['ur.0772745010.90'], 'franck mauvais-jarvis': ['ur.0703373116.16'], 'raghavendra mirmira': ['ur.0762775110.66'], 'joshua nosanchuk': ['ur.015756017657.79'], 'lucila ohno-machado': ['ur.01143047214.87'], 'hideho okada': ['ur.0741146020.92'], 'jordan orange': ['ur.0774334672.45'], 'jonathan powell': ['ur.01162106561.71'], 'sridhar ramaswamy': ['ur.01022315720.67'], 'muredach reilly': ['ur.013551442357.17'], 'jeremy reiter': ['ur.01174455631.12'], 'charles roberts': ['ur.012404741132.65'], 'william robinson': ['ur.01036436624.26'], 'evan rosen': ['ur.01307371374.44'], 'charles rudin': ['ur.0712434301.07'], 'ida sim': ['ur.01202263115.16'], 'upinder singh': ['ur.01061572211.26'], 'rhonda souza': ['ur.0751006274.35'], 'kimberly stegmaier': ['ur.01323203047.64'], 'constantine stratakis': ['ur.011151216517.08'], 'john tisdale': ['ur.01206574465.13'], 'thomas wang': ['ur.01024164315.00'], 'myles wolf': ['ur.0652523657.55'], 'alan yu': ['ur.015100501062.34']}\n"
     ]
    }
   ],
   "source": [
    "names = {}\n",
    "\n",
    "#CHANGE NAME TO YOUR CSV FILE NAME FROM DimensionsAI_IDs.ipynb\n",
    "with open('1995_2010.csv', newline='') as csvfile:\n",
    "    reader = csv.reader(csvfile)\n",
    "    next(reader, None)  \n",
    "    for row in reader:\n",
    "        name = row[0]\n",
    "        openIds_str = row[2]\n",
    "        openIds_list = ast.literal_eval(openIds_str)\n",
    "        names[name] = openIds_list\n",
    "print(names)\n"
   ]
  },
  {
   "cell_type": "code",
   "execution_count": 4,
   "id": "530c51c8",
   "metadata": {},
   "outputs": [],
   "source": [
    "search_Var2 = \"[abstract + acronym + active_years + altmetric + associated_grant_ids + brief_title + category_bra + category_for + category_for_2020 + category_hra + category_hrcs_hc + category_hrcs_rac + category_icrp_cso + category_icrp_ct + category_rcdc + conditions + date + date_inserted + dimensions_url + end_date + funder_countries + funders + gender + id + interventions + investigators + linkout + mesh_terms + phase + publication_ids + publications + registry + research_orgs + researchers + score + start_date + study_arms + study_designs + study_eligibility_criteria + study_maximum_age + study_minimum_age + study_outcome_measures + study_participants + study_type + title]\"\n",
    "\n",
    "# var2 = \"abstract,acronym,active_years,altmetric,associated_grant_ids,brief_title,category_bra,category_for,category_for_2020,category_hra,category_hrcs_hc,category_hrcs_rac,category_icrp_cso,category_icrp_ct,category_rcdc,conditions,date,date_inserted,dimensions_url,end_date,funder_countries,funders,gender,id,interventions,investigators,linkout,mesh_terms,phase,publication_ids,publications,registry,research_orgs,researchers,score,start_date,study_arms,study_designs,study_eligibility_criteria,study_maximum_age,study_minimum_age,study_outcome_measures,study_participants,study_type,title\"\n",
    "# var2 = str(var2.replace(\",\", \" + \"))\n",
    "# search_Var2 = var2\n",
    "# print(var2)"
   ]
  },
  {
   "cell_type": "code",
   "execution_count": 9,
   "id": "d87aff8c",
   "metadata": {},
   "outputs": [
    {
     "name": "stderr",
     "output_type": "stream",
     "text": [
      "Starting iteration with limit=1000 skip=0 ...\u001b[0m\n",
      "===\n",
      "Records extracted: 0\u001b[0m\n",
      "Warnings:  1\u001b[0m\n",
      "Starting iteration with limit=1000 skip=0 ...\u001b[0m\n"
     ]
    },
    {
     "name": "stdout",
     "output_type": "stream",
     "text": [
      "ur.012727024557.25 id has 0 clinical trials\n",
      "1. alan d'andrea\n",
      "0\n"
     ]
    },
    {
     "name": "stderr",
     "output_type": "stream",
     "text": [
      "===\n",
      "Records extracted: 0\u001b[0m\n",
      "Warnings:  1\u001b[0m\n",
      "Starting iteration with limit=1000 skip=0 ...\u001b[0m\n"
     ]
    },
    {
     "name": "stdout",
     "output_type": "stream",
     "text": [
      "ur.01002446502.38 id has 0 clinical trials\n",
      "2. james fagin\n",
      "0\n"
     ]
    },
    {
     "name": "stderr",
     "output_type": "stream",
     "text": [
      "===\n",
      "Records extracted: 0\u001b[0m\n",
      "Warnings:  1\u001b[0m\n",
      "Starting iteration with limit=1000 skip=0 ...\u001b[0m\n"
     ]
    },
    {
     "name": "stdout",
     "output_type": "stream",
     "text": [
      "ur.01221020161.61 id has 0 clinical trials\n",
      "3. daniel haber\n",
      "0\n"
     ]
    },
    {
     "name": "stderr",
     "output_type": "stream",
     "text": [
      "0-1 / 1 (2.40s)\u001b[0m\n",
      "===\n",
      "Records extracted: 1\u001b[0m\n",
      "Warnings:  1\u001b[0m\n",
      "Starting iteration with limit=1000 skip=0 ...\u001b[0m\n"
     ]
    },
    {
     "name": "stdout",
     "output_type": "stream",
     "text": [
      "ur.0757041626.26 id has 1 clinical trials\n",
      "4. ethylin jabs\n",
      "1\n"
     ]
    },
    {
     "name": "stderr",
     "output_type": "stream",
     "text": [
      "===\n",
      "Records extracted: 0\u001b[0m\n",
      "Warnings:  1\u001b[0m\n",
      "Starting iteration with limit=1000 skip=0 ...\u001b[0m\n"
     ]
    },
    {
     "name": "stdout",
     "output_type": "stream",
     "text": [
      "ur.0621613670.95 id has 0 clinical trials\n",
      "5. karl nath\n",
      "0\n"
     ]
    },
    {
     "name": "stderr",
     "output_type": "stream",
     "text": [
      "===\n",
      "Records extracted: 0\u001b[0m\n",
      "Warnings:  1\u001b[0m\n",
      "Starting iteration with limit=1000 skip=0 ...\u001b[0m\n"
     ]
    },
    {
     "name": "stdout",
     "output_type": "stream",
     "text": [
      "ur.014730211054.29 id has 0 clinical trials\n",
      "6. bishr omary\n",
      "0\n"
     ]
    },
    {
     "name": "stderr",
     "output_type": "stream",
     "text": [
      "===\n",
      "Records extracted: 0\u001b[0m\n",
      "Warnings:  1\u001b[0m\n",
      "Starting iteration with limit=1000 skip=0 ...\u001b[0m\n"
     ]
    },
    {
     "name": "stdout",
     "output_type": "stream",
     "text": [
      "ur.0717265610.95 id has 0 clinical trials\n",
      "7. john raymond\n",
      "0\n"
     ]
    },
    {
     "name": "stderr",
     "output_type": "stream",
     "text": [
      "===\n",
      "Records extracted: 0\u001b[0m\n",
      "Warnings:  1\u001b[0m\n",
      "Starting iteration with limit=1000 skip=0 ...\u001b[0m\n"
     ]
    },
    {
     "name": "stdout",
     "output_type": "stream",
     "text": [
      "ur.0761676730.05 id has 0 clinical trials\n",
      "8. fuad ziyadeh\n",
      "0\n"
     ]
    },
    {
     "name": "stderr",
     "output_type": "stream",
     "text": [
      "0-4 / 4 (0.45s)\u001b[0m\n",
      "===\n",
      "Records extracted: 4\u001b[0m\n",
      "Warnings:  1\u001b[0m\n",
      "Starting iteration with limit=1000 skip=0 ...\u001b[0m\n"
     ]
    },
    {
     "name": "stdout",
     "output_type": "stream",
     "text": [
      "ur.0606477677.70 id has 4 clinical trials\n",
      "9. maria abreu\n",
      "4\n"
     ]
    },
    {
     "name": "stderr",
     "output_type": "stream",
     "text": [
      "0-5 / 5 (4.59s)\u001b[0m\n",
      "===\n",
      "Records extracted: 5\u001b[0m\n",
      "Warnings:  1\u001b[0m\n",
      "Starting iteration with limit=1000 skip=0 ...\u001b[0m\n"
     ]
    },
    {
     "name": "stdout",
     "output_type": "stream",
     "text": [
      "ur.01227355747.25 id has 5 clinical trials\n",
      "10. michael ackerman\n",
      "5\n"
     ]
    },
    {
     "name": "stderr",
     "output_type": "stream",
     "text": [
      "===\n",
      "Records extracted: 0\u001b[0m\n",
      "Warnings:  1\u001b[0m\n",
      "Starting iteration with limit=1000 skip=0 ...\u001b[0m\n"
     ]
    },
    {
     "name": "stdout",
     "output_type": "stream",
     "text": [
      "ur.012647507142.53 id has 0 clinical trials\n",
      "11. mariana kaplan\n",
      "0\n"
     ]
    },
    {
     "name": "stderr",
     "output_type": "stream",
     "text": [
      "===\n",
      "Records extracted: 0\u001b[0m\n",
      "Warnings:  1\u001b[0m\n",
      "Starting iteration with limit=1000 skip=0 ...\u001b[0m\n"
     ]
    },
    {
     "name": "stdout",
     "output_type": "stream",
     "text": [
      "ur.01147037443.33 id has 0 clinical trials\n",
      "12. feroz papa\n",
      "0\n"
     ]
    },
    {
     "name": "stderr",
     "output_type": "stream",
     "text": [
      "===\n",
      "Records extracted: 0\u001b[0m\n",
      "Warnings:  1\u001b[0m\n",
      "Starting iteration with limit=1000 skip=0 ...\u001b[0m\n"
     ]
    },
    {
     "name": "stdout",
     "output_type": "stream",
     "text": [
      "ur.013436160257.94 id has 0 clinical trials\n",
      "13. paul taylor\n",
      "0\n"
     ]
    },
    {
     "name": "stderr",
     "output_type": "stream",
     "text": [
      "===\n",
      "Records extracted: 0\u001b[0m\n",
      "Warnings:  1\u001b[0m\n",
      "Starting iteration with limit=1000 skip=0 ...\u001b[0m\n"
     ]
    },
    {
     "name": "stdout",
     "output_type": "stream",
     "text": [
      "ur.01324277771.74 id has 0 clinical trials\n",
      "14. loren walensky\n",
      "0\n"
     ]
    },
    {
     "name": "stderr",
     "output_type": "stream",
     "text": [
      "===\n",
      "Records extracted: 0\u001b[0m\n",
      "Warnings:  1\u001b[0m\n",
      "Starting iteration with limit=1000 skip=0 ...\u001b[0m\n"
     ]
    },
    {
     "name": "stdout",
     "output_type": "stream",
     "text": [
      "ur.0707211155.90 id has 0 clinical trials\n",
      "15. yiping yang\n",
      "0\n"
     ]
    },
    {
     "name": "stderr",
     "output_type": "stream",
     "text": [
      "===\n",
      "Records extracted: 0\u001b[0m\n",
      "Warnings:  1\u001b[0m\n",
      "Starting iteration with limit=1000 skip=0 ...\u001b[0m\n"
     ]
    },
    {
     "name": "stdout",
     "output_type": "stream",
     "text": [
      "ur.015000016117.95 id has 0 clinical trials\n",
      "16. steven albelda\n",
      "0\n"
     ]
    },
    {
     "name": "stderr",
     "output_type": "stream",
     "text": [
      "0-8 / 8 (0.48s)\u001b[0m\n",
      "===\n",
      "Records extracted: 8\u001b[0m\n",
      "Warnings:  1\u001b[0m\n",
      "Starting iteration with limit=1000 skip=0 ...\u001b[0m\n"
     ]
    },
    {
     "name": "stdout",
     "output_type": "stream",
     "text": [
      "ur.010576736217.64 id has 8 clinical trials\n",
      "17. richard  anderson\n",
      "8\n"
     ]
    },
    {
     "name": "stderr",
     "output_type": "stream",
     "text": [
      "===\n",
      "Records extracted: 0\u001b[0m\n",
      "Warnings:  1\u001b[0m\n",
      "Starting iteration with limit=1000 skip=0 ...\u001b[0m\n"
     ]
    },
    {
     "name": "stdout",
     "output_type": "stream",
     "text": [
      "ur.01002760245.88 id has 0 clinical trials\n",
      "18. peter arvan\n",
      "0\n"
     ]
    },
    {
     "name": "stderr",
     "output_type": "stream",
     "text": [
      "0-5 / 5 (6.27s)\u001b[0m\n",
      "===\n",
      "Records extracted: 5\u001b[0m\n",
      "Warnings:  1\u001b[0m\n",
      "Starting iteration with limit=1000 skip=0 ...\u001b[0m\n"
     ]
    },
    {
     "name": "stdout",
     "output_type": "stream",
     "text": [
      "ur.0615715006.01 id has 5 clinical trials\n",
      "19. adam asch\n",
      "5\n"
     ]
    },
    {
     "name": "stderr",
     "output_type": "stream",
     "text": [
      "===\n",
      "Records extracted: 0\u001b[0m\n",
      "Warnings:  1\u001b[0m\n",
      "Starting iteration with limit=1000 skip=0 ...\u001b[0m\n"
     ]
    },
    {
     "name": "stdout",
     "output_type": "stream",
     "text": [
      "ur.01140262452.40 id has 0 clinical trials\n",
      "20. john belmont\n",
      "0\n"
     ]
    },
    {
     "name": "stderr",
     "output_type": "stream",
     "text": [
      "===\n",
      "Records extracted: 0\u001b[0m\n",
      "Warnings:  1\u001b[0m\n",
      "Starting iteration with limit=1000 skip=0 ...\u001b[0m\n"
     ]
    },
    {
     "name": "stdout",
     "output_type": "stream",
     "text": [
      "ur.012523312277.63 id has 0 clinical trials\n",
      "21. bradford berk\n",
      "0\n"
     ]
    },
    {
     "name": "stderr",
     "output_type": "stream",
     "text": [
      "===\n",
      "Records extracted: 0\u001b[0m\n",
      "Warnings:  1\u001b[0m\n",
      "Starting iteration with limit=1000 skip=0 ...\u001b[0m\n"
     ]
    },
    {
     "name": "stdout",
     "output_type": "stream",
     "text": [
      "ur.01033446252.27 id has 0 clinical trials\n",
      "22. morris birnbaum\n",
      "0\n"
     ]
    },
    {
     "name": "stderr",
     "output_type": "stream",
     "text": [
      "===\n",
      "Records extracted: 0\u001b[0m\n",
      "Warnings:  1\u001b[0m\n",
      "Starting iteration with limit=1000 skip=0 ...\u001b[0m\n"
     ]
    },
    {
     "name": "stdout",
     "output_type": "stream",
     "text": [
      "ur.0633257054.96 id has 0 clinical trials\n",
      "23. richard blumberg\n",
      "0\n"
     ]
    },
    {
     "name": "stderr",
     "output_type": "stream",
     "text": [
      "0-1 / 1 (0.39s)\u001b[0m\n",
      "===\n",
      "Records extracted: 1\u001b[0m\n",
      "Warnings:  1\u001b[0m\n",
      "Starting iteration with limit=1000 skip=0 ...\u001b[0m\n"
     ]
    },
    {
     "name": "stdout",
     "output_type": "stream",
     "text": [
      "ur.01153467234.36 id has 1 clinical trials\n",
      "24. douglas bradley\n",
      "1\n"
     ]
    },
    {
     "name": "stderr",
     "output_type": "stream",
     "text": [
      "===\n",
      "Records extracted: 0\u001b[0m\n",
      "Warnings:  1\u001b[0m\n",
      "Starting iteration with limit=1000 skip=0 ...\u001b[0m\n"
     ]
    },
    {
     "name": "stdout",
     "output_type": "stream",
     "text": [
      "ur.016162551417.02 id has 0 clinical trials\n",
      "25. kenneth bridges\n",
      "0\n"
     ]
    },
    {
     "name": "stderr",
     "output_type": "stream",
     "text": [
      "0-2 / 2 (0.40s)\u001b[0m\n",
      "===\n",
      "Records extracted: 2\u001b[0m\n",
      "Warnings:  1\u001b[0m\n",
      "Starting iteration with limit=1000 skip=0 ...\u001b[0m\n"
     ]
    },
    {
     "name": "stdout",
     "output_type": "stream",
     "text": [
      "ur.01244066051.55 id has 2 clinical trials\n",
      "26. william carroll\n",
      "2\n"
     ]
    },
    {
     "name": "stderr",
     "output_type": "stream",
     "text": [
      "===\n",
      "Records extracted: 0\u001b[0m\n",
      "Warnings:  1\u001b[0m\n",
      "Starting iteration with limit=1000 skip=0 ...\u001b[0m\n"
     ]
    },
    {
     "name": "stdout",
     "output_type": "stream",
     "text": [
      "ur.01003065721.10 id has 0 clinical trials\n"
     ]
    },
    {
     "name": "stderr",
     "output_type": "stream",
     "text": [
      "===\n",
      "Records extracted: 0\u001b[0m\n",
      "Warnings:  1\u001b[0m\n",
      "Starting iteration with limit=1000 skip=0 ...\u001b[0m\n"
     ]
    },
    {
     "name": "stdout",
     "output_type": "stream",
     "text": [
      "ur.0741204747.88 id has 0 clinical trials\n",
      "27. christine cartwright\n",
      "0\n"
     ]
    },
    {
     "name": "stderr",
     "output_type": "stream",
     "text": [
      "===\n",
      "Records extracted: 0\u001b[0m\n",
      "Warnings:  1\u001b[0m\n",
      "Starting iteration with limit=1000 skip=0 ...\u001b[0m\n"
     ]
    },
    {
     "name": "stdout",
     "output_type": "stream",
     "text": [
      "ur.012740223223.69 id has 0 clinical trials\n",
      "28. webster cavenee\n",
      "0\n"
     ]
    },
    {
     "name": "stderr",
     "output_type": "stream",
     "text": [
      "===\n",
      "Records extracted: 0\u001b[0m\n",
      "Warnings:  1\u001b[0m\n",
      "Starting iteration with limit=1000 skip=0 ...\u001b[0m\n"
     ]
    },
    {
     "name": "stdout",
     "output_type": "stream",
     "text": [
      "ur.01213472726.84 id has 0 clinical trials\n",
      "29. anthony cerami\n",
      "0\n"
     ]
    },
    {
     "name": "stderr",
     "output_type": "stream",
     "text": [
      "0-8 / 8 (4.66s)\u001b[0m\n",
      "===\n",
      "Records extracted: 8\u001b[0m\n",
      "Warnings:  1\u001b[0m\n",
      "Starting iteration with limit=1000 skip=0 ...\u001b[0m\n"
     ]
    },
    {
     "name": "stdout",
     "output_type": "stream",
     "text": [
      "ur.01325554464.07 id has 8 clinical trials\n",
      "30. jeffrey cohen\n",
      "8\n"
     ]
    },
    {
     "name": "stderr",
     "output_type": "stream",
     "text": [
      "0-1 / 1 (0.40s)\u001b[0m\n",
      "===\n",
      "Records extracted: 1\u001b[0m\n",
      "Warnings:  1\u001b[0m\n",
      "Starting iteration with limit=1000 skip=0 ...\u001b[0m\n"
     ]
    },
    {
     "name": "stdout",
     "output_type": "stream",
     "text": [
      "ur.0620555626.93 id has 1 clinical trials\n",
      "31. fabio cominelli\n",
      "1\n"
     ]
    },
    {
     "name": "stderr",
     "output_type": "stream",
     "text": [
      "===\n",
      "Records extracted: 0\u001b[0m\n",
      "Warnings:  1\u001b[0m\n",
      "Starting iteration with limit=1000 skip=0 ...\u001b[0m\n"
     ]
    },
    {
     "name": "stdout",
     "output_type": "stream",
     "text": [
      "ur.01102714156.98 id has 0 clinical trials\n",
      "32. james covell\n",
      "0\n"
     ]
    },
    {
     "name": "stderr",
     "output_type": "stream",
     "text": [
      "===\n",
      "Records extracted: 0\u001b[0m\n",
      "Warnings:  1\u001b[0m\n",
      "Starting iteration with limit=1000 skip=0 ...\u001b[0m\n"
     ]
    },
    {
     "name": "stdout",
     "output_type": "stream",
     "text": [
      "ur.0711105165.79 id has 0 clinical trials\n",
      "33. bruce cronstein\n",
      "0\n"
     ]
    },
    {
     "name": "stderr",
     "output_type": "stream",
     "text": [
      "0-1 / 1 (0.53s)\u001b[0m\n",
      "===\n",
      "Records extracted: 1\u001b[0m\n",
      "Warnings:  1\u001b[0m\n",
      "Starting iteration with limit=1000 skip=0 ...\u001b[0m\n"
     ]
    },
    {
     "name": "stdout",
     "output_type": "stream",
     "text": [
      "ur.0752157206.07 id has 1 clinical trials\n",
      "34. garry cutting\n",
      "1\n"
     ]
    },
    {
     "name": "stderr",
     "output_type": "stream",
     "text": [
      "===\n",
      "Records extracted: 0\u001b[0m\n",
      "Warnings:  1\u001b[0m\n",
      "Starting iteration with limit=1000 skip=0 ...\u001b[0m\n"
     ]
    },
    {
     "name": "stdout",
     "output_type": "stream",
     "text": [
      "ur.0651722340.16 id has 0 clinical trials\n",
      "35. mary dinauer\n",
      "0\n"
     ]
    },
    {
     "name": "stderr",
     "output_type": "stream",
     "text": [
      "===\n",
      "Records extracted: 0\u001b[0m\n",
      "Warnings:  1\u001b[0m\n",
      "Starting iteration with limit=1000 skip=0 ...\u001b[0m\n"
     ]
    },
    {
     "name": "stdout",
     "output_type": "stream",
     "text": [
      "ur.0763704140.49 id has 0 clinical trials\n",
      "36. daniel drucker\n",
      "0\n"
     ]
    },
    {
     "name": "stderr",
     "output_type": "stream",
     "text": [
      "===\n",
      "Records extracted: 0\u001b[0m\n",
      "Warnings:  1\u001b[0m\n",
      "Starting iteration with limit=1000 skip=0 ...\u001b[0m\n"
     ]
    },
    {
     "name": "stdout",
     "output_type": "stream",
     "text": [
      "ur.01336001101.35 id has 0 clinical trials\n",
      "37. keith elkon\n",
      "0\n"
     ]
    },
    {
     "name": "stderr",
     "output_type": "stream",
     "text": [
      "===\n",
      "Records extracted: 0\u001b[0m\n",
      "Warnings:  1\u001b[0m\n",
      "Starting iteration with limit=1000 skip=0 ...\u001b[0m\n"
     ]
    },
    {
     "name": "stdout",
     "output_type": "stream",
     "text": [
      "ur.01152344370.10 id has 0 clinical trials\n",
      "38. scott friedman\n",
      "0\n"
     ]
    },
    {
     "name": "stderr",
     "output_type": "stream",
     "text": [
      "===\n",
      "Records extracted: 0\u001b[0m\n",
      "Warnings:  1\u001b[0m\n",
      "Starting iteration with limit=1000 skip=0 ...\u001b[0m\n"
     ]
    },
    {
     "name": "stdout",
     "output_type": "stream",
     "text": [
      "ur.0772206703.69 id has 0 clinical trials\n",
      "39. gerhard giebisch\n",
      "0\n"
     ]
    },
    {
     "name": "stderr",
     "output_type": "stream",
     "text": [
      "===\n",
      "Records extracted: 0\u001b[0m\n",
      "Warnings:  1\u001b[0m\n",
      "Starting iteration with limit=1000 skip=0 ...\u001b[0m\n"
     ]
    },
    {
     "name": "stdout",
     "output_type": "stream",
     "text": [
      "ur.0744536167.42 id has 0 clinical trials\n",
      "40. dwight gary gilliland\n",
      "0\n"
     ]
    },
    {
     "name": "stderr",
     "output_type": "stream",
     "text": [
      "===\n",
      "Records extracted: 0\u001b[0m\n",
      "Warnings:  1\u001b[0m\n",
      "Starting iteration with limit=1000 skip=0 ...\u001b[0m\n"
     ]
    },
    {
     "name": "stdout",
     "output_type": "stream",
     "text": [
      "ur.01067240353.95 id has 0 clinical trials\n",
      "41. christopher glass\n",
      "0\n"
     ]
    },
    {
     "name": "stderr",
     "output_type": "stream",
     "text": [
      "===\n",
      "Records extracted: 0\u001b[0m\n",
      "Warnings:  1\u001b[0m\n",
      "Starting iteration with limit=1000 skip=0 ...\u001b[0m\n"
     ]
    },
    {
     "name": "stdout",
     "output_type": "stream",
     "text": [
      "ur.01157271565.79 id has 0 clinical trials\n",
      "42. daniel goldberg\n",
      "0\n"
     ]
    },
    {
     "name": "stderr",
     "output_type": "stream",
     "text": [
      "===\n",
      "Records extracted: 0\u001b[0m\n",
      "Warnings:  1\u001b[0m\n",
      "Starting iteration with limit=1000 skip=0 ...\u001b[0m\n"
     ]
    },
    {
     "name": "stdout",
     "output_type": "stream",
     "text": [
      "ur.01356023066.14 id has 0 clinical trials\n",
      "43. roberto ariel gomez\n",
      "0\n"
     ]
    },
    {
     "name": "stderr",
     "output_type": "stream",
     "text": [
      "===\n",
      "Records extracted: 0\u001b[0m\n",
      "Warnings:  1\u001b[0m\n",
      "Starting iteration with limit=1000 skip=0 ...\u001b[0m\n"
     ]
    },
    {
     "name": "stdout",
     "output_type": "stream",
     "text": [
      "ur.016604543402.68 id has 0 clinical trials\n",
      "44. john griffin\n",
      "0\n"
     ]
    },
    {
     "name": "stderr",
     "output_type": "stream",
     "text": [
      "0-2 / 2 (6.08s)\u001b[0m\n",
      "===\n",
      "Records extracted: 2\u001b[0m\n",
      "Warnings:  1\u001b[0m\n",
      "Starting iteration with limit=1000 skip=0 ...\u001b[0m\n"
     ]
    },
    {
     "name": "stdout",
     "output_type": "stream",
     "text": [
      "ur.01305430265.06 id has 2 clinical trials\n",
      "45. murray grossman\n",
      "2\n"
     ]
    },
    {
     "name": "stderr",
     "output_type": "stream",
     "text": [
      "===\n",
      "Records extracted: 0\u001b[0m\n",
      "Warnings:  1\u001b[0m\n",
      "Starting iteration with limit=1000 skip=0 ...\u001b[0m\n"
     ]
    },
    {
     "name": "stdout",
     "output_type": "stream",
     "text": [
      "ur.013155066547.55 id has 0 clinical trials\n",
      "46. samuel hawgood\n",
      "0\n"
     ]
    },
    {
     "name": "stderr",
     "output_type": "stream",
     "text": [
      "===\n",
      "Records extracted: 0\u001b[0m\n",
      "Warnings:  1\u001b[0m\n",
      "Starting iteration with limit=1000 skip=0 ...\u001b[0m\n"
     ]
    },
    {
     "name": "stdout",
     "output_type": "stream",
     "text": [
      "ur.01020255414.31 id has 0 clinical trials\n",
      "47. jay heinecke\n",
      "0\n"
     ]
    },
    {
     "name": "stderr",
     "output_type": "stream",
     "text": [
      "===\n",
      "Records extracted: 0\u001b[0m\n",
      "Warnings:  1\u001b[0m\n",
      "Starting iteration with limit=1000 skip=0 ...\u001b[0m\n"
     ]
    },
    {
     "name": "stdout",
     "output_type": "stream",
     "text": [
      "ur.014171277202.92 id has 0 clinical trials\n",
      "48. stephen heinemann\n",
      "0\n"
     ]
    },
    {
     "name": "stderr",
     "output_type": "stream",
     "text": [
      "===\n",
      "Records extracted: 0\u001b[0m\n",
      "Warnings:  1\u001b[0m\n",
      "Starting iteration with limit=1000 skip=0 ...\u001b[0m\n"
     ]
    },
    {
     "name": "stdout",
     "output_type": "stream",
     "text": [
      "ur.01271177722.98 id has 0 clinical trials\n"
     ]
    },
    {
     "name": "stderr",
     "output_type": "stream",
     "text": [
      "===\n",
      "Records extracted: 0\u001b[0m\n",
      "Warnings:  1\u001b[0m\n",
      "Starting iteration with limit=1000 skip=0 ...\u001b[0m\n"
     ]
    },
    {
     "name": "stdout",
     "output_type": "stream",
     "text": [
      "ur.0627200551.43 id has 0 clinical trials\n",
      "49. alan hillman\n",
      "0\n"
     ]
    },
    {
     "name": "stderr",
     "output_type": "stream",
     "text": [
      "0-8 / 8 (6.18s)\u001b[0m\n",
      "===\n",
      "Records extracted: 8\u001b[0m\n",
      "Warnings:  1\u001b[0m\n",
      "Starting iteration with limit=1000 skip=0 ...\u001b[0m\n"
     ]
    },
    {
     "name": "stdout",
     "output_type": "stream",
     "text": [
      "ur.0636442207.95 id has 8 clinical trials\n",
      "50. suzanne ildstad\n",
      "8\n"
     ]
    },
    {
     "name": "stderr",
     "output_type": "stream",
     "text": [
      "0-3 / 3 (5.96s)\u001b[0m\n",
      "===\n",
      "Records extracted: 3\u001b[0m\n",
      "Warnings:  1\u001b[0m\n",
      "Starting iteration with limit=1000 skip=0 ...\u001b[0m\n"
     ]
    },
    {
     "name": "stdout",
     "output_type": "stream",
     "text": [
      "ur.010175037017.23 id has 3 clinical trials\n",
      "51. richard johnson\n",
      "3\n"
     ]
    },
    {
     "name": "stderr",
     "output_type": "stream",
     "text": [
      "===\n",
      "Records extracted: 0\u001b[0m\n",
      "Warnings:  1\u001b[0m\n",
      "Starting iteration with limit=1000 skip=0 ...\u001b[0m\n"
     ]
    },
    {
     "name": "stdout",
     "output_type": "stream",
     "text": [
      "ur.0665466315.82 id has 0 clinical trials\n",
      "52. william kane\n",
      "0\n"
     ]
    },
    {
     "name": "stderr",
     "output_type": "stream",
     "text": [
      "===\n",
      "Records extracted: 0\u001b[0m\n",
      "Warnings:  1\u001b[0m\n",
      "Starting iteration with limit=1000 skip=0 ...\u001b[0m\n"
     ]
    },
    {
     "name": "stdout",
     "output_type": "stream",
     "text": [
      "ur.0622521714.49 id has 0 clinical trials\n",
      "53. stefan karlsson\n",
      "0\n"
     ]
    },
    {
     "name": "stderr",
     "output_type": "stream",
     "text": [
      "===\n",
      "Records extracted: 0\u001b[0m\n",
      "Warnings:  1\u001b[0m\n",
      "Starting iteration with limit=1000 skip=0 ...\u001b[0m\n"
     ]
    },
    {
     "name": "stdout",
     "output_type": "stream",
     "text": [
      "ur.01277715415.41 id has 0 clinical trials\n",
      "54. michael kastan\n",
      "0\n"
     ]
    },
    {
     "name": "stderr",
     "output_type": "stream",
     "text": [
      "0-2 / 2 (4.60s)\u001b[0m\n",
      "===\n",
      "Records extracted: 2\u001b[0m\n",
      "Warnings:  1\u001b[0m\n",
      "Starting iteration with limit=1000 skip=0 ...\u001b[0m\n"
     ]
    },
    {
     "name": "stdout",
     "output_type": "stream",
     "text": [
      "ur.012247544157.63 id has 2 clinical trials\n",
      "55. daniel kastner\n",
      "2\n"
     ]
    },
    {
     "name": "stderr",
     "output_type": "stream",
     "text": [
      "===\n",
      "Records extracted: 0\u001b[0m\n",
      "Warnings:  1\u001b[0m\n",
      "Starting iteration with limit=1000 skip=0 ...\u001b[0m\n"
     ]
    },
    {
     "name": "stdout",
     "output_type": "stream",
     "text": [
      "ur.0716143620.18 id has 0 clinical trials\n",
      "56. carolyn kelly\n",
      "0\n"
     ]
    },
    {
     "name": "stderr",
     "output_type": "stream",
     "text": [
      "===\n",
      "Records extracted: 0\u001b[0m\n",
      "Warnings:  1\u001b[0m\n",
      "Starting iteration with limit=1000 skip=0 ...\u001b[0m\n"
     ]
    },
    {
     "name": "stdout",
     "output_type": "stream",
     "text": [
      "ur.0663774106.86 id has 0 clinical trials\n",
      "57. shannon kenney\n",
      "0\n"
     ]
    },
    {
     "name": "stderr",
     "output_type": "stream",
     "text": [
      "===\n",
      "Records extracted: 0\u001b[0m\n",
      "Warnings:  1\u001b[0m\n",
      "Starting iteration with limit=1000 skip=0 ...\u001b[0m\n"
     ]
    },
    {
     "name": "stdout",
     "output_type": "stream",
     "text": [
      "ur.01107022045.13 id has 0 clinical trials\n",
      "58. brian kobilka\n",
      "0\n"
     ]
    },
    {
     "name": "stderr",
     "output_type": "stream",
     "text": [
      "0-14 / 14 (0.50s)\u001b[0m\n",
      "===\n",
      "Records extracted: 14\u001b[0m\n",
      "Warnings:  1\u001b[0m\n",
      "Starting iteration with limit=1000 skip=0 ...\u001b[0m\n"
     ]
    },
    {
     "name": "stdout",
     "output_type": "stream",
     "text": [
      "ur.012632026177.48 id has 14 clinical trials\n",
      "59. james krueger\n",
      "14\n"
     ]
    },
    {
     "name": "stderr",
     "output_type": "stream",
     "text": [
      "0-2 / 2 (4.14s)\u001b[0m\n",
      "===\n",
      "Records extracted: 2\u001b[0m\n",
      "Warnings:  1\u001b[0m\n",
      "Starting iteration with limit=1000 skip=0 ...\u001b[0m\n"
     ]
    },
    {
     "name": "stdout",
     "output_type": "stream",
     "text": [
      "ur.01045437517.59 id has 2 clinical trials\n",
      "60. david kwiatkowski\n",
      "2\n"
     ]
    },
    {
     "name": "stderr",
     "output_type": "stream",
     "text": [
      "===\n",
      "Records extracted: 0\u001b[0m\n",
      "Warnings:  1\u001b[0m\n",
      "Starting iteration with limit=1000 skip=0 ...\u001b[0m\n"
     ]
    },
    {
     "name": "stdout",
     "output_type": "stream",
     "text": [
      "ur.011437130222.71 id has 0 clinical trials\n",
      "61. jack leahy\n",
      "0\n"
     ]
    },
    {
     "name": "stderr",
     "output_type": "stream",
     "text": [
      "===\n",
      "Records extracted: 0\u001b[0m\n",
      "Warnings:  1\u001b[0m\n",
      "Starting iteration with limit=1000 skip=0 ...\u001b[0m\n"
     ]
    },
    {
     "name": "stdout",
     "output_type": "stream",
     "text": [
      "ur.01130535435.19 id has 0 clinical trials\n",
      "62. thomas lee\n",
      "0\n"
     ]
    },
    {
     "name": "stderr",
     "output_type": "stream",
     "text": [
      "===\n",
      "Records extracted: 0\u001b[0m\n",
      "Warnings:  1\u001b[0m\n",
      "Starting iteration with limit=1000 skip=0 ...\u001b[0m\n"
     ]
    },
    {
     "name": "stdout",
     "output_type": "stream",
     "text": [
      "ur.01205170110.03 id has 0 clinical trials\n",
      "63. wilbur lew\n",
      "0\n"
     ]
    },
    {
     "name": "stderr",
     "output_type": "stream",
     "text": [
      "===\n",
      "Records extracted: 0\u001b[0m\n",
      "Warnings:  1\u001b[0m\n",
      "Starting iteration with limit=1000 skip=0 ...\u001b[0m\n"
     ]
    },
    {
     "name": "stdout",
     "output_type": "stream",
     "text": [
      "ur.01251725136.98 id has 0 clinical trials\n",
      "64. michael lieber\n",
      "0\n"
     ]
    },
    {
     "name": "stderr",
     "output_type": "stream",
     "text": [
      "===\n",
      "Records extracted: 0\u001b[0m\n",
      "Warnings:  1\u001b[0m\n",
      "Starting iteration with limit=1000 skip=0 ...\u001b[0m\n"
     ]
    },
    {
     "name": "stdout",
     "output_type": "stream",
     "text": [
      "ur.01236526331.24 id has 0 clinical trials\n",
      "65. howard lippton\n",
      "0\n"
     ]
    },
    {
     "name": "stderr",
     "output_type": "stream",
     "text": [
      "===\n",
      "Records extracted: 0\u001b[0m\n",
      "Warnings:  1\u001b[0m\n",
      "Starting iteration with limit=1000 skip=0 ...\u001b[0m\n"
     ]
    },
    {
     "name": "stdout",
     "output_type": "stream",
     "text": [
      "ur.01244760140.44 id has 0 clinical trials\n",
      "66. edison liu\n",
      "0\n"
     ]
    },
    {
     "name": "stderr",
     "output_type": "stream",
     "text": [
      "===\n",
      "Records extracted: 0\u001b[0m\n",
      "Warnings:  1\u001b[0m\n",
      "Starting iteration with limit=1000 skip=0 ...\u001b[0m\n"
     ]
    },
    {
     "name": "stdout",
     "output_type": "stream",
     "text": [
      "ur.01302155501.56 id has 0 clinical trials\n",
      "67. nicole lurie\n",
      "0\n"
     ]
    },
    {
     "name": "stderr",
     "output_type": "stream",
     "text": [
      "===\n",
      "Records extracted: 0\u001b[0m\n",
      "Warnings:  1\u001b[0m\n",
      "Starting iteration with limit=1000 skip=0 ...\u001b[0m\n"
     ]
    },
    {
     "name": "stdout",
     "output_type": "stream",
     "text": [
      "ur.015750001717.89 id has 0 clinical trials\n",
      "68. sanford markowitz\n",
      "0\n"
     ]
    },
    {
     "name": "stderr",
     "output_type": "stream",
     "text": [
      "===\n",
      "Records extracted: 0\u001b[0m\n",
      "Warnings:  1\u001b[0m\n",
      "Starting iteration with limit=1000 skip=0 ...\u001b[0m\n"
     ]
    },
    {
     "name": "stdout",
     "output_type": "stream",
     "text": [
      "ur.01072670717.67 id has 0 clinical trials\n",
      "69. andrew marks\n",
      "0\n"
     ]
    },
    {
     "name": "stderr",
     "output_type": "stream",
     "text": [
      "0-2 / 2 (4.52s)\u001b[0m\n",
      "===\n",
      "Records extracted: 2\u001b[0m\n",
      "Warnings:  1\u001b[0m\n",
      "Starting iteration with limit=1000 skip=0 ...\u001b[0m\n"
     ]
    },
    {
     "name": "stdout",
     "output_type": "stream",
     "text": [
      "ur.010572272337.66 id has 2 clinical trials\n",
      "70. donald mcclain\n",
      "2\n"
     ]
    },
    {
     "name": "stderr",
     "output_type": "stream",
     "text": [
      "===\n",
      "Records extracted: 0\u001b[0m\n",
      "Warnings:  1\u001b[0m\n",
      "Starting iteration with limit=1000 skip=0 ...\u001b[0m\n"
     ]
    },
    {
     "name": "stdout",
     "output_type": "stream",
     "text": [
      "ur.01323534056.92 id has 0 clinical trials\n",
      "71. michael mcphaul\n",
      "0\n"
     ]
    },
    {
     "name": "stderr",
     "output_type": "stream",
     "text": [
      "===\n",
      "Records extracted: 0\u001b[0m\n",
      "Warnings:  1\u001b[0m\n",
      "Starting iteration with limit=1000 skip=0 ...\u001b[0m\n"
     ]
    },
    {
     "name": "stdout",
     "output_type": "stream",
     "text": [
      "ur.0606570120.14 id has 0 clinical trials\n",
      "72. hiroaki mitsuya\n",
      "0\n"
     ]
    },
    {
     "name": "stderr",
     "output_type": "stream",
     "text": [
      "===\n",
      "Records extracted: 0\u001b[0m\n",
      "Warnings:  1\u001b[0m\n",
      "Starting iteration with limit=1000 skip=0 ...\u001b[0m\n"
     ]
    },
    {
     "name": "stdout",
     "output_type": "stream",
     "text": [
      "ur.015563027057.11 id has 0 clinical trials\n",
      "73. timothy murphy\n",
      "0\n"
     ]
    },
    {
     "name": "stderr",
     "output_type": "stream",
     "text": [
      "===\n",
      "Records extracted: 0\u001b[0m\n",
      "Warnings:  1\u001b[0m\n",
      "Starting iteration with limit=1000 skip=0 ...\u001b[0m\n"
     ]
    },
    {
     "name": "stdout",
     "output_type": "stream",
     "text": [
      "ur.01315756601.55 id has 0 clinical trials\n",
      "74. george palade\n",
      "0\n"
     ]
    },
    {
     "name": "stderr",
     "output_type": "stream",
     "text": [
      "===\n",
      "Records extracted: 0\u001b[0m\n",
      "Warnings:  1\u001b[0m\n",
      "Starting iteration with limit=1000 skip=0 ...\u001b[0m\n"
     ]
    },
    {
     "name": "stdout",
     "output_type": "stream",
     "text": [
      "ur.01122016026.09 id has 0 clinical trials\n",
      "75. thomas pallone\n",
      "0\n"
     ]
    },
    {
     "name": "stderr",
     "output_type": "stream",
     "text": [
      "===\n",
      "Records extracted: 0\u001b[0m\n",
      "Warnings:  1\u001b[0m\n",
      "Starting iteration with limit=1000 skip=0 ...\u001b[0m\n"
     ]
    },
    {
     "name": "stdout",
     "output_type": "stream",
     "text": [
      "ur.0627076066.77 id has 0 clinical trials\n",
      "76. james paulson\n",
      "0\n"
     ]
    },
    {
     "name": "stderr",
     "output_type": "stream",
     "text": [
      "0-4 / 4 (0.43s)\u001b[0m\n",
      "===\n",
      "Records extracted: 4\u001b[0m\n",
      "Warnings:  1\u001b[0m\n",
      "Starting iteration with limit=1000 skip=0 ...\u001b[0m\n"
     ]
    },
    {
     "name": "stdout",
     "output_type": "stream",
     "text": [
      "ur.01346121507.66 id has 4 clinical trials\n",
      "77. alice pentland\n",
      "4\n"
     ]
    },
    {
     "name": "stderr",
     "output_type": "stream",
     "text": [
      "0-9 / 9 (2.72s)\u001b[0m\n",
      "===\n",
      "Records extracted: 9\u001b[0m\n",
      "Warnings:  1\u001b[0m\n",
      "Starting iteration with limit=1000 skip=0 ...\u001b[0m\n"
     ]
    },
    {
     "name": "stdout",
     "output_type": "stream",
     "text": [
      "ur.0704212656.70 id has 9 clinical trials\n",
      "78. william petri jr.\n",
      "9\n"
     ]
    },
    {
     "name": "stderr",
     "output_type": "stream",
     "text": [
      "===\n",
      "Records extracted: 0\u001b[0m\n",
      "Warnings:  1\u001b[0m\n",
      "Starting iteration with limit=1000 skip=0 ...\u001b[0m\n"
     ]
    },
    {
     "name": "stdout",
     "output_type": "stream",
     "text": [
      "ur.0735065052.71 id has 0 clinical trials\n",
      "79. roger pomerantz\n",
      "0\n"
     ]
    },
    {
     "name": "stderr",
     "output_type": "stream",
     "text": [
      "0-4 / 4 (0.51s)\u001b[0m\n",
      "===\n",
      "Records extracted: 4\u001b[0m\n",
      "Warnings:  1\u001b[0m\n",
      "Starting iteration with limit=1000 skip=0 ...\u001b[0m\n"
     ]
    },
    {
     "name": "stdout",
     "output_type": "stream",
     "text": [
      "ur.0756075734.69 id has 4 clinical trials\n",
      "80. lewis rubin\n",
      "4\n"
     ]
    },
    {
     "name": "stderr",
     "output_type": "stream",
     "text": [
      "===\n",
      "Records extracted: 0\u001b[0m\n",
      "Warnings:  1\u001b[0m\n",
      "Starting iteration with limit=1000 skip=0 ...\u001b[0m\n"
     ]
    },
    {
     "name": "stdout",
     "output_type": "stream",
     "text": [
      "ur.075643133.08 id has 0 clinical trials\n",
      "81. erkki ruoslahti\n",
      "0\n"
     ]
    },
    {
     "name": "stderr",
     "output_type": "stream",
     "text": [
      "===\n",
      "Records extracted: 0\u001b[0m\n",
      "Warnings:  1\u001b[0m\n",
      "Starting iteration with limit=1000 skip=0 ...\u001b[0m\n"
     ]
    },
    {
     "name": "stdout",
     "output_type": "stream",
     "text": [
      "ur.01147010000.10 id has 0 clinical trials\n",
      "82. paul sanders\n",
      "0\n"
     ]
    },
    {
     "name": "stderr",
     "output_type": "stream",
     "text": [
      "===\n",
      "Records extracted: 0\u001b[0m\n",
      "Warnings:  1\u001b[0m\n",
      "Starting iteration with limit=1000 skip=0 ...\u001b[0m\n"
     ]
    },
    {
     "name": "stdout",
     "output_type": "stream",
     "text": [
      "ur.01211311752.94 id has 0 clinical trials\n",
      "83. james schafer\n",
      "0\n"
     ]
    },
    {
     "name": "stderr",
     "output_type": "stream",
     "text": [
      "0-1 / 1 (5.99s)\u001b[0m\n",
      "===\n",
      "Records extracted: 1\u001b[0m\n",
      "Warnings:  1\u001b[0m\n",
      "Starting iteration with limit=1000 skip=0 ...\u001b[0m\n"
     ]
    },
    {
     "name": "stdout",
     "output_type": "stream",
     "text": [
      "ur.01160710210.68 id has 1 clinical trials\n",
      "84. daniel schuster\n",
      "1\n"
     ]
    },
    {
     "name": "stderr",
     "output_type": "stream",
     "text": [
      "0-5 / 5 (0.49s)\u001b[0m\n",
      "===\n",
      "Records extracted: 5\u001b[0m\n",
      "Warnings:  1\u001b[0m\n",
      "Starting iteration with limit=1000 skip=0 ...\u001b[0m\n"
     ]
    },
    {
     "name": "stdout",
     "output_type": "stream",
     "text": [
      "ur.0637453473.51 id has 5 clinical trials\n",
      "85. david schwartz\n",
      "5\n"
     ]
    },
    {
     "name": "stderr",
     "output_type": "stream",
     "text": [
      "===\n",
      "Records extracted: 0\u001b[0m\n",
      "Warnings:  1\u001b[0m\n",
      "Starting iteration with limit=1000 skip=0 ...\u001b[0m\n"
     ]
    },
    {
     "name": "stdout",
     "output_type": "stream",
     "text": [
      "ur.01254223162.13 id has 0 clinical trials\n",
      "86. gregg semenza\n",
      "0\n"
     ]
    },
    {
     "name": "stderr",
     "output_type": "stream",
     "text": [
      "===\n",
      "Records extracted: 0\u001b[0m\n",
      "Warnings:  1\u001b[0m\n",
      "Starting iteration with limit=1000 skip=0 ...\u001b[0m\n"
     ]
    },
    {
     "name": "stdout",
     "output_type": "stream",
     "text": [
      "ur.01272213066.16 id has 0 clinical trials\n",
      "87. peter st. george-hyslop\n",
      "0\n"
     ]
    },
    {
     "name": "stderr",
     "output_type": "stream",
     "text": [
      "===\n",
      "Records extracted: 0\u001b[0m\n",
      "Warnings:  1\u001b[0m\n",
      "Starting iteration with limit=1000 skip=0 ...\u001b[0m\n"
     ]
    },
    {
     "name": "stdout",
     "output_type": "stream",
     "text": [
      "ur.0673753523.71 id has 0 clinical trials\n",
      "88. jonathan stamler\n",
      "0\n"
     ]
    },
    {
     "name": "stderr",
     "output_type": "stream",
     "text": [
      "===\n",
      "Records extracted: 0\u001b[0m\n",
      "Warnings:  1\u001b[0m\n",
      "Starting iteration with limit=1000 skip=0 ...\u001b[0m\n"
     ]
    },
    {
     "name": "stdout",
     "output_type": "stream",
     "text": [
      "ur.016036762337.68 id has 0 clinical trials\n",
      "89. samuel stanley\n",
      "0\n"
     ]
    },
    {
     "name": "stderr",
     "output_type": "stream",
     "text": [
      "===\n",
      "Records extracted: 0\u001b[0m\n",
      "Warnings:  1\u001b[0m\n",
      "Starting iteration with limit=1000 skip=0 ...\u001b[0m\n"
     ]
    },
    {
     "name": "stdout",
     "output_type": "stream",
     "text": [
      "ur.013317500652.16 id has 0 clinical trials\n",
      "90. charles stevens\n",
      "0\n"
     ]
    },
    {
     "name": "stderr",
     "output_type": "stream",
     "text": [
      "===\n",
      "Records extracted: 0\u001b[0m\n",
      "Warnings:  1\u001b[0m\n",
      "Starting iteration with limit=1000 skip=0 ...\u001b[0m\n"
     ]
    },
    {
     "name": "stdout",
     "output_type": "stream",
     "text": [
      "ur.0612750636.84 id has 0 clinical trials\n",
      "91. vikas sukhatme\n",
      "0\n"
     ]
    },
    {
     "name": "stderr",
     "output_type": "stream",
     "text": [
      "===\n",
      "Records extracted: 0\u001b[0m\n",
      "Warnings:  1\u001b[0m\n",
      "Starting iteration with limit=1000 skip=0 ...\u001b[0m\n"
     ]
    },
    {
     "name": "stdout",
     "output_type": "stream",
     "text": [
      "ur.0654367343.57 id has 0 clinical trials\n",
      "92. palmer taylor\n",
      "0\n"
     ]
    },
    {
     "name": "stderr",
     "output_type": "stream",
     "text": [
      "0-1 / 1 (0.41s)\u001b[0m\n",
      "===\n",
      "Records extracted: 1\u001b[0m\n",
      "Warnings:  1\u001b[0m\n",
      "Starting iteration with limit=1000 skip=0 ...\u001b[0m\n"
     ]
    },
    {
     "name": "stdout",
     "output_type": "stream",
     "text": [
      "ur.01315400021.90 id has 1 clinical trials\n",
      "93. laurence turka\n",
      "1\n"
     ]
    },
    {
     "name": "stderr",
     "output_type": "stream",
     "text": [
      "===\n",
      "Records extracted: 0\u001b[0m\n",
      "Warnings:  1\u001b[0m\n",
      "Starting iteration with limit=1000 skip=0 ...\u001b[0m\n"
     ]
    },
    {
     "name": "stdout",
     "output_type": "stream",
     "text": [
      "ur.01370223226.10 id has 0 clinical trials\n",
      "94. andre veillette\n",
      "0\n"
     ]
    },
    {
     "name": "stderr",
     "output_type": "stream",
     "text": [
      "0-4 / 4 (0.61s)\u001b[0m\n",
      "===\n",
      "Records extracted: 4\u001b[0m\n",
      "Warnings:  1\u001b[0m\n",
      "Starting iteration with limit=1000 skip=0 ...\u001b[0m\n"
     ]
    },
    {
     "name": "stdout",
     "output_type": "stream",
     "text": [
      "ur.01014762776.19 id has 4 clinical trials\n",
      "95. stephen wank\n",
      "4\n"
     ]
    },
    {
     "name": "stderr",
     "output_type": "stream",
     "text": [
      "===\n",
      "Records extracted: 0\u001b[0m\n",
      "Warnings:  1\u001b[0m\n",
      "Starting iteration with limit=1000 skip=0 ...\u001b[0m\n"
     ]
    },
    {
     "name": "stdout",
     "output_type": "stream",
     "text": [
      "ur.0645763160.52 id has 0 clinical trials\n",
      "96. allan weissman\n",
      "0\n"
     ]
    },
    {
     "name": "stderr",
     "output_type": "stream",
     "text": [
      "===\n",
      "Records extracted: 0\u001b[0m\n",
      "Warnings:  1\u001b[0m\n",
      "Starting iteration with limit=1000 skip=0 ...\u001b[0m\n"
     ]
    },
    {
     "name": "stdout",
     "output_type": "stream",
     "text": [
      "ur.01342670351.13 id has 0 clinical trials\n",
      "97. michael wessels\n",
      "0\n"
     ]
    },
    {
     "name": "stderr",
     "output_type": "stream",
     "text": [
      "===\n",
      "Records extracted: 0\u001b[0m\n",
      "Warnings:  1\u001b[0m\n",
      "Starting iteration with limit=1000 skip=0 ...\u001b[0m\n"
     ]
    },
    {
     "name": "stdout",
     "output_type": "stream",
     "text": [
      "ur.01144204341.44 id has 0 clinical trials\n",
      "98. samuel wickline\n",
      "0\n"
     ]
    },
    {
     "name": "stderr",
     "output_type": "stream",
     "text": [
      "===\n",
      "Records extracted: 0\u001b[0m\n",
      "Warnings:  1\u001b[0m\n",
      "Starting iteration with limit=1000 skip=0 ...\u001b[0m\n"
     ]
    },
    {
     "name": "stdout",
     "output_type": "stream",
     "text": [
      "ur.0575545206.08 id has 0 clinical trials\n",
      "99. fredric wondisford\n",
      "0\n"
     ]
    },
    {
     "name": "stderr",
     "output_type": "stream",
     "text": [
      "===\n",
      "Records extracted: 0\u001b[0m\n",
      "Warnings:  1\u001b[0m\n",
      "Starting iteration with limit=1000 skip=0 ...\u001b[0m\n"
     ]
    },
    {
     "name": "stdout",
     "output_type": "stream",
     "text": [
      "ur.0724231274.33 id has 0 clinical trials\n",
      "100. david andes\n",
      "0\n"
     ]
    },
    {
     "name": "stderr",
     "output_type": "stream",
     "text": [
      "===\n",
      "Records extracted: 0\u001b[0m\n",
      "Warnings:  1\u001b[0m\n",
      "Starting iteration with limit=1000 skip=0 ...\u001b[0m\n"
     ]
    },
    {
     "name": "stdout",
     "output_type": "stream",
     "text": [
      "ur.0605712636.64 id has 0 clinical trials\n",
      "101. scott armstrong\n",
      "0\n"
     ]
    },
    {
     "name": "stderr",
     "output_type": "stream",
     "text": [
      "0-5 / 5 (0.70s)\u001b[0m\n",
      "===\n",
      "Records extracted: 5\u001b[0m\n",
      "Warnings:  1\u001b[0m\n",
      "Starting iteration with limit=1000 skip=0 ...\u001b[0m\n"
     ]
    },
    {
     "name": "stdout",
     "output_type": "stream",
     "text": [
      "ur.01053041010.79 id has 5 clinical trials\n",
      "102. graham barr\n",
      "5\n"
     ]
    },
    {
     "name": "stderr",
     "output_type": "stream",
     "text": [
      "===\n",
      "Records extracted: 0\u001b[0m\n",
      "Warnings:  1\u001b[0m\n",
      "Starting iteration with limit=1000 skip=0 ...\u001b[0m\n"
     ]
    },
    {
     "name": "stdout",
     "output_type": "stream",
     "text": [
      "ur.0654234066.86 id has 0 clinical trials\n",
      "103. marcel behr\n",
      "0\n"
     ]
    },
    {
     "name": "stderr",
     "output_type": "stream",
     "text": [
      "0-6 / 6 (0.55s)\u001b[0m\n",
      "===\n",
      "Records extracted: 6\u001b[0m\n",
      "Warnings:  1\u001b[0m\n",
      "Starting iteration with limit=1000 skip=0 ...\u001b[0m\n"
     ]
    },
    {
     "name": "stdout",
     "output_type": "stream",
     "text": [
      "ur.016415321222.00 id has 6 clinical trials\n",
      "104. daniel benjamin\n",
      "6\n"
     ]
    },
    {
     "name": "stderr",
     "output_type": "stream",
     "text": [
      "===\n",
      "Records extracted: 0\u001b[0m\n",
      "Warnings:  1\u001b[0m\n",
      "Starting iteration with limit=1000 skip=0 ...\u001b[0m\n"
     ]
    },
    {
     "name": "stdout",
     "output_type": "stream",
     "text": [
      "ur.01101102662.02 id has 0 clinical trials\n",
      "105. ernesto bernal-mizrachi\n",
      "0\n"
     ]
    },
    {
     "name": "stderr",
     "output_type": "stream",
     "text": [
      "===\n",
      "Records extracted: 0\u001b[0m\n",
      "Warnings:  1\u001b[0m\n",
      "Starting iteration with limit=1000 skip=0 ...\u001b[0m\n"
     ]
    },
    {
     "name": "stdout",
     "output_type": "stream",
     "text": [
      "ur.010620043557.11 id has 0 clinical trials\n",
      "106. kirsten bibbins-domingo\n",
      "0\n"
     ]
    },
    {
     "name": "stderr",
     "output_type": "stream",
     "text": [
      "0-8 / 8 (0.43s)\u001b[0m\n",
      "===\n",
      "Records extracted: 8\u001b[0m\n",
      "Warnings:  1\u001b[0m\n",
      "Starting iteration with limit=1000 skip=0 ...\u001b[0m\n"
     ]
    },
    {
     "name": "stdout",
     "output_type": "stream",
     "text": [
      "ur.01125327571.07 id has 8 clinical trials\n",
      "107. catherine bollard\n",
      "8\n"
     ]
    },
    {
     "name": "stderr",
     "output_type": "stream",
     "text": [
      "===\n",
      "Records extracted: 0\u001b[0m\n",
      "Warnings:  1\u001b[0m\n",
      "Starting iteration with limit=1000 skip=0 ...\u001b[0m\n"
     ]
    },
    {
     "name": "stdout",
     "output_type": "stream",
     "text": [
      "ur.0661634627.36 id has 0 clinical trials\n",
      "108. marcus bosenberg\n",
      "0\n"
     ]
    },
    {
     "name": "stderr",
     "output_type": "stream",
     "text": [
      "===\n",
      "Records extracted: 0\u001b[0m\n",
      "Warnings:  1\u001b[0m\n",
      "Starting iteration with limit=1000 skip=0 ...\u001b[0m\n"
     ]
    },
    {
     "name": "stdout",
     "output_type": "stream",
     "text": [
      "ur.011070650007.71 id has 0 clinical trials\n",
      "109. russ carstens\n",
      "0\n"
     ]
    },
    {
     "name": "stderr",
     "output_type": "stream",
     "text": [
      "0-5 / 5 (0.43s)\u001b[0m\n",
      "===\n",
      "Records extracted: 5\u001b[0m\n",
      "Warnings:  1\u001b[0m\n",
      "Starting iteration with limit=1000 skip=0 ...\u001b[0m\n"
     ]
    },
    {
     "name": "stdout",
     "output_type": "stream",
     "text": [
      "ur.01210111627.99 id has 5 clinical trials\n",
      "110. juan celedon\n",
      "5\n"
     ]
    },
    {
     "name": "stderr",
     "output_type": "stream",
     "text": [
      "===\n",
      "Records extracted: 0\u001b[0m\n",
      "Warnings:  1\u001b[0m\n",
      "Starting iteration with limit=1000 skip=0 ...\u001b[0m\n"
     ]
    },
    {
     "name": "stdout",
     "output_type": "stream",
     "text": [
      "ur.01173627414.69 id has 0 clinical trials\n",
      "111. benjamin chen\n",
      "0\n"
     ]
    },
    {
     "name": "stderr",
     "output_type": "stream",
     "text": [
      "===\n",
      "Records extracted: 0\u001b[0m\n",
      "Warnings:  1\u001b[0m\n",
      "Starting iteration with limit=1000 skip=0 ...\u001b[0m\n"
     ]
    },
    {
     "name": "stdout",
     "output_type": "stream",
     "text": [
      "ur.014240332477.14 id has 0 clinical trials\n",
      "112. emily cheng\n",
      "0\n"
     ]
    },
    {
     "name": "stderr",
     "output_type": "stream",
     "text": [
      "===\n",
      "Records extracted: 0\u001b[0m\n",
      "Warnings:  1\u001b[0m\n",
      "Starting iteration with limit=1000 skip=0 ...\u001b[0m\n"
     ]
    },
    {
     "name": "stdout",
     "output_type": "stream",
     "text": [
      "ur.07665720167.12 id has 0 clinical trials\n",
      "113. charleen chu\n",
      "0\n"
     ]
    },
    {
     "name": "stderr",
     "output_type": "stream",
     "text": [
      "0-3 / 3 (4.47s)\u001b[0m\n",
      "===\n",
      "Records extracted: 3\u001b[0m\n",
      "Warnings:  1\u001b[0m\n",
      "Starting iteration with limit=1000 skip=0 ...\u001b[0m\n"
     ]
    },
    {
     "name": "stdout",
     "output_type": "stream",
     "text": [
      "ur.014706774767.94 id has 3 clinical trials\n",
      "114. john chute\n",
      "3\n"
     ]
    },
    {
     "name": "stderr",
     "output_type": "stream",
     "text": [
      "0-4 / 4 (0.60s)\u001b[0m\n",
      "===\n",
      "Records extracted: 4\u001b[0m\n",
      "Warnings:  1\u001b[0m\n",
      "Starting iteration with limit=1000 skip=0 ...\u001b[0m\n"
     ]
    },
    {
     "name": "stdout",
     "output_type": "stream",
     "text": [
      "ur.01173232612.67 id has 4 clinical trials\n",
      "115. edward sander connolly\n",
      "4\n"
     ]
    },
    {
     "name": "stderr",
     "output_type": "stream",
     "text": [
      "0-1 / 1 (0.35s)\u001b[0m\n",
      "===\n",
      "Records extracted: 1\u001b[0m\n",
      "Warnings:  1\u001b[0m\n",
      "Starting iteration with limit=1000 skip=0 ...\u001b[0m\n"
     ]
    },
    {
     "name": "stdout",
     "output_type": "stream",
     "text": [
      "ur.0703642674.64 id has 1 clinical trials\n",
      "116. jonathan dranoff\n",
      "1\n"
     ]
    },
    {
     "name": "stderr",
     "output_type": "stream",
     "text": [
      "0-1 / 1 (2.01s)\u001b[0m\n",
      "===\n",
      "Records extracted: 1\u001b[0m\n",
      "Warnings:  1\u001b[0m\n",
      "Starting iteration with limit=1000 skip=0 ...\u001b[0m\n"
     ]
    },
    {
     "name": "stdout",
     "output_type": "stream",
     "text": [
      "ur.0604413006.33 id has 1 clinical trials\n",
      "117. raymond adams dudley\n",
      "1\n"
     ]
    },
    {
     "name": "stderr",
     "output_type": "stream",
     "text": [
      "===\n",
      "Records extracted: 0\u001b[0m\n",
      "Warnings:  1\u001b[0m\n",
      "Starting iteration with limit=1000 skip=0 ...\u001b[0m\n"
     ]
    },
    {
     "name": "stdout",
     "output_type": "stream",
     "text": [
      "ur.0775321062.58 id has 0 clinical trials\n",
      "118. charles eberhart\n",
      "0\n"
     ]
    },
    {
     "name": "stderr",
     "output_type": "stream",
     "text": [
      "===\n",
      "Records extracted: 0\u001b[0m\n",
      "Warnings:  1\u001b[0m\n",
      "Starting iteration with limit=1000 skip=0 ...\u001b[0m\n"
     ]
    },
    {
     "name": "stdout",
     "output_type": "stream",
     "text": [
      "ur.01065507416.27 id has 0 clinical trials\n",
      "119. charles esmon\n",
      "0\n"
     ]
    },
    {
     "name": "stderr",
     "output_type": "stream",
     "text": [
      "0-5 / 5 (0.50s)\u001b[0m\n",
      "===\n",
      "Records extracted: 5\u001b[0m\n",
      "Warnings:  1\u001b[0m\n",
      "Starting iteration with limit=1000 skip=0 ...\u001b[0m\n"
     ]
    },
    {
     "name": "stdout",
     "output_type": "stream",
     "text": [
      "ur.01130347417.06 id has 5 clinical trials\n",
      "120. francisco esteva\n",
      "5\n"
     ]
    },
    {
     "name": "stderr",
     "output_type": "stream",
     "text": [
      "===\n",
      "Records extracted: 0\u001b[0m\n",
      "Warnings:  1\u001b[0m\n",
      "Starting iteration with limit=1000 skip=0 ...\u001b[0m\n"
     ]
    },
    {
     "name": "stdout",
     "output_type": "stream",
     "text": [
      "ur.01255200715.86 id has 0 clinical trials\n",
      "121. nikolaos frangogiannis\n",
      "0\n"
     ]
    },
    {
     "name": "stderr",
     "output_type": "stream",
     "text": [
      "===\n",
      "Records extracted: 0\u001b[0m\n",
      "Warnings:  1\u001b[0m\n",
      "Starting iteration with limit=1000 skip=0 ...\u001b[0m\n"
     ]
    },
    {
     "name": "stdout",
     "output_type": "stream",
     "text": [
      "ur.012203472074.86 id has 0 clinical trials\n",
      "122. ali gharavi\n",
      "0\n"
     ]
    },
    {
     "name": "stderr",
     "output_type": "stream",
     "text": [
      "0-11 / 11 (0.68s)\u001b[0m\n",
      "===\n",
      "Records extracted: 11\u001b[0m\n",
      "Warnings:  1\u001b[0m\n",
      "Starting iteration with limit=1000 skip=0 ...\u001b[0m\n"
     ]
    },
    {
     "name": "stdout",
     "output_type": "stream",
     "text": [
      "ur.01106271435.77 id has 11 clinical trials\n",
      "123. maura gillison\n",
      "11\n"
     ]
    },
    {
     "name": "stderr",
     "output_type": "stream",
     "text": [
      "0-10 / 10 (4.44s)\u001b[0m\n",
      "===\n",
      "Records extracted: 10\u001b[0m\n",
      "Warnings:  1\u001b[0m\n",
      "Starting iteration with limit=1000 skip=0 ...\u001b[0m\n"
     ]
    },
    {
     "name": "stdout",
     "output_type": "stream",
     "text": [
      "ur.0625272302.13 id has 10 clinical trials\n",
      "124. paul goepfert\n",
      "10\n"
     ]
    },
    {
     "name": "stderr",
     "output_type": "stream",
     "text": [
      "===\n",
      "Records extracted: 0\u001b[0m\n",
      "Warnings:  1\u001b[0m\n",
      "Starting iteration with limit=1000 skip=0 ...\u001b[0m\n"
     ]
    },
    {
     "name": "stdout",
     "output_type": "stream",
     "text": [
      "ur.01310116146.23 id has 0 clinical trials\n",
      "125. daniel goldstein\n",
      "0\n"
     ]
    },
    {
     "name": "stderr",
     "output_type": "stream",
     "text": [
      "===\n",
      "Records extracted: 0\u001b[0m\n",
      "Warnings:  1\u001b[0m\n",
      "Starting iteration with limit=1000 skip=0 ...\u001b[0m\n"
     ]
    },
    {
     "name": "stdout",
     "output_type": "stream",
     "text": [
      "ur.0711517452.48 id has 0 clinical trials\n",
      "126. laura haneline\n",
      "0\n"
     ]
    },
    {
     "name": "stderr",
     "output_type": "stream",
     "text": [
      "===\n",
      "Records extracted: 0\u001b[0m\n",
      "Warnings:  1\u001b[0m\n",
      "Starting iteration with limit=1000 skip=0 ...\u001b[0m\n"
     ]
    },
    {
     "name": "stdout",
     "output_type": "stream",
     "text": [
      "ur.01134672503.93 id has 0 clinical trials\n",
      "127. tzung hsiai\n",
      "0\n"
     ]
    },
    {
     "name": "stderr",
     "output_type": "stream",
     "text": [
      "0-4 / 4 (0.66s)\u001b[0m\n",
      "===\n",
      "Records extracted: 4\u001b[0m\n",
      "Warnings:  1\u001b[0m\n",
      "Starting iteration with limit=1000 skip=0 ...\u001b[0m\n"
     ]
    },
    {
     "name": "stdout",
     "output_type": "stream",
     "text": [
      "ur.0631053106.24 id has 4 clinical trials\n",
      "128. james hsieh\n",
      "4\n"
     ]
    },
    {
     "name": "stderr",
     "output_type": "stream",
     "text": [
      "0-1 / 1 (3.87s)\u001b[0m\n",
      "===\n",
      "Records extracted: 1\u001b[0m\n",
      "Warnings:  1\u001b[0m\n",
      "Starting iteration with limit=1000 skip=0 ...\u001b[0m\n"
     ]
    },
    {
     "name": "stdout",
     "output_type": "stream",
     "text": [
      "ur.01333042221.11 id has 1 clinical trials\n",
      "129. linden hu\n",
      "1\n"
     ]
    },
    {
     "name": "stderr",
     "output_type": "stream",
     "text": [
      "0-5 / 5 (0.48s)\u001b[0m\n",
      "===\n",
      "Records extracted: 5\u001b[0m\n",
      "Warnings:  1\u001b[0m\n",
      "Starting iteration with limit=1000 skip=0 ...\u001b[0m\n"
     ]
    },
    {
     "name": "stdout",
     "output_type": "stream",
     "text": [
      "ur.0620674221.66 id has 5 clinical trials\n",
      "130. terrie inder\n",
      "5\n"
     ]
    },
    {
     "name": "stderr",
     "output_type": "stream",
     "text": [
      "===\n",
      "Records extracted: 0\u001b[0m\n",
      "Warnings:  1\u001b[0m\n",
      "Starting iteration with limit=1000 skip=0 ...\u001b[0m\n"
     ]
    },
    {
     "name": "stdout",
     "output_type": "stream",
     "text": [
      "ur.0714371057.61 id has 0 clinical trials\n",
      "131. raghu kalluri\n",
      "0\n"
     ]
    },
    {
     "name": "stderr",
     "output_type": "stream",
     "text": [
      "0-1 / 1 (6.10s)\u001b[0m\n",
      "===\n",
      "Records extracted: 1\u001b[0m\n",
      "Warnings:  1\u001b[0m\n",
      "Starting iteration with limit=1000 skip=0 ...\u001b[0m\n"
     ]
    },
    {
     "name": "stdout",
     "output_type": "stream",
     "text": [
      "ur.015045506007.80 id has 1 clinical trials\n",
      "132. bjorn knollmann\n",
      "1\n"
     ]
    },
    {
     "name": "stderr",
     "output_type": "stream",
     "text": [
      "===\n",
      "Records extracted: 0\u001b[0m\n",
      "Warnings:  1\u001b[0m\n",
      "Starting iteration with limit=1000 skip=0 ...\u001b[0m\n"
     ]
    },
    {
     "name": "stdout",
     "output_type": "stream",
     "text": [
      "ur.01041700036.85 id has 0 clinical trials\n",
      "133. andrew kung\n",
      "0\n"
     ]
    },
    {
     "name": "stderr",
     "output_type": "stream",
     "text": [
      "0-9 / 9 (0.53s)\u001b[0m\n",
      "===\n",
      "Records extracted: 9\u001b[0m\n",
      "Warnings:  1\u001b[0m\n",
      "Starting iteration with limit=1000 skip=0 ...\u001b[0m\n"
     ]
    },
    {
     "name": "stdout",
     "output_type": "stream",
     "text": [
      "ur.015262716107.02 id has 9 clinical trials\n",
      "134. james lewis\n",
      "9\n"
     ]
    },
    {
     "name": "stderr",
     "output_type": "stream",
     "text": [
      "0-2 / 2 (2.19s)\u001b[0m\n",
      "===\n",
      "Records extracted: 2\u001b[0m\n",
      "Warnings:  1\u001b[0m\n",
      "Starting iteration with limit=1000 skip=0 ...\u001b[0m\n"
     ]
    },
    {
     "name": "stdout",
     "output_type": "stream",
     "text": [
      "ur.0727657075.71 id has 2 clinical trials\n",
      "135. gary luker\n",
      "2\n"
     ]
    },
    {
     "name": "stderr",
     "output_type": "stream",
     "text": [
      "===\n",
      "Records extracted: 0\u001b[0m\n",
      "Warnings:  1\u001b[0m\n",
      "Starting iteration with limit=1000 skip=0 ...\u001b[0m\n"
     ]
    },
    {
     "name": "stdout",
     "output_type": "stream",
     "text": [
      "ur.0740376070.63 id has 0 clinical trials\n",
      "136. richard malley\n",
      "0\n"
     ]
    },
    {
     "name": "stderr",
     "output_type": "stream",
     "text": [
      "===\n",
      "Records extracted: 0\u001b[0m\n",
      "Warnings:  1\u001b[0m\n",
      "Starting iteration with limit=1000 skip=0 ...\u001b[0m\n"
     ]
    },
    {
     "name": "stdout",
     "output_type": "stream",
     "text": [
      "ur.0772745010.90 id has 0 clinical trials\n",
      "137. mehrdad matloubian\n",
      "0\n"
     ]
    },
    {
     "name": "stderr",
     "output_type": "stream",
     "text": [
      "0-1 / 1 (2.83s)\u001b[0m\n",
      "===\n",
      "Records extracted: 1\u001b[0m\n",
      "Warnings:  1\u001b[0m\n",
      "Starting iteration with limit=1000 skip=0 ...\u001b[0m\n"
     ]
    },
    {
     "name": "stdout",
     "output_type": "stream",
     "text": [
      "ur.0703373116.16 id has 1 clinical trials\n",
      "138. franck mauvais-jarvis\n",
      "1\n"
     ]
    },
    {
     "name": "stderr",
     "output_type": "stream",
     "text": [
      "===\n",
      "Records extracted: 0\u001b[0m\n",
      "Warnings:  1\u001b[0m\n",
      "Starting iteration with limit=1000 skip=0 ...\u001b[0m\n"
     ]
    },
    {
     "name": "stdout",
     "output_type": "stream",
     "text": [
      "ur.0762775110.66 id has 0 clinical trials\n",
      "139. raghavendra mirmira\n",
      "0\n"
     ]
    },
    {
     "name": "stderr",
     "output_type": "stream",
     "text": [
      "===\n",
      "Records extracted: 0\u001b[0m\n",
      "Warnings:  1\u001b[0m\n",
      "Starting iteration with limit=1000 skip=0 ...\u001b[0m\n"
     ]
    },
    {
     "name": "stdout",
     "output_type": "stream",
     "text": [
      "ur.015756017657.79 id has 0 clinical trials\n",
      "140. joshua nosanchuk\n",
      "0\n"
     ]
    },
    {
     "name": "stderr",
     "output_type": "stream",
     "text": [
      "===\n",
      "Records extracted: 0\u001b[0m\n",
      "Warnings:  1\u001b[0m\n",
      "Starting iteration with limit=1000 skip=0 ...\u001b[0m\n"
     ]
    },
    {
     "name": "stdout",
     "output_type": "stream",
     "text": [
      "ur.01143047214.87 id has 0 clinical trials\n",
      "141. lucila ohno-machado\n",
      "0\n"
     ]
    },
    {
     "name": "stderr",
     "output_type": "stream",
     "text": [
      "0-5 / 5 (4.68s)\u001b[0m\n",
      "===\n",
      "Records extracted: 5\u001b[0m\n",
      "Warnings:  1\u001b[0m\n",
      "Starting iteration with limit=1000 skip=0 ...\u001b[0m\n"
     ]
    },
    {
     "name": "stdout",
     "output_type": "stream",
     "text": [
      "ur.0741146020.92 id has 5 clinical trials\n",
      "142. hideho okada\n",
      "5\n"
     ]
    },
    {
     "name": "stderr",
     "output_type": "stream",
     "text": [
      "===\n",
      "Records extracted: 0\u001b[0m\n",
      "Warnings:  1\u001b[0m\n",
      "Starting iteration with limit=1000 skip=0 ...\u001b[0m\n"
     ]
    },
    {
     "name": "stdout",
     "output_type": "stream",
     "text": [
      "ur.0774334672.45 id has 0 clinical trials\n",
      "143. jordan orange\n",
      "0\n"
     ]
    },
    {
     "name": "stderr",
     "output_type": "stream",
     "text": [
      "===\n",
      "Records extracted: 0\u001b[0m\n",
      "Warnings:  1\u001b[0m\n",
      "Starting iteration with limit=1000 skip=0 ...\u001b[0m\n"
     ]
    },
    {
     "name": "stdout",
     "output_type": "stream",
     "text": [
      "ur.01162106561.71 id has 0 clinical trials\n",
      "144. jonathan powell\n",
      "0\n"
     ]
    },
    {
     "name": "stderr",
     "output_type": "stream",
     "text": [
      "===\n",
      "Records extracted: 0\u001b[0m\n",
      "Warnings:  1\u001b[0m\n",
      "Starting iteration with limit=1000 skip=0 ...\u001b[0m\n"
     ]
    },
    {
     "name": "stdout",
     "output_type": "stream",
     "text": [
      "ur.01022315720.67 id has 0 clinical trials\n",
      "145. sridhar ramaswamy\n",
      "0\n"
     ]
    },
    {
     "name": "stderr",
     "output_type": "stream",
     "text": [
      "0-6 / 6 (0.51s)\u001b[0m\n",
      "===\n",
      "Records extracted: 6\u001b[0m\n",
      "Warnings:  1\u001b[0m\n",
      "Starting iteration with limit=1000 skip=0 ...\u001b[0m\n"
     ]
    },
    {
     "name": "stdout",
     "output_type": "stream",
     "text": [
      "ur.013551442357.17 id has 6 clinical trials\n",
      "146. muredach reilly\n",
      "6\n"
     ]
    },
    {
     "name": "stderr",
     "output_type": "stream",
     "text": [
      "===\n",
      "Records extracted: 0\u001b[0m\n",
      "Warnings:  1\u001b[0m\n",
      "Starting iteration with limit=1000 skip=0 ...\u001b[0m\n"
     ]
    },
    {
     "name": "stdout",
     "output_type": "stream",
     "text": [
      "ur.01174455631.12 id has 0 clinical trials\n",
      "147. jeremy reiter\n",
      "0\n"
     ]
    },
    {
     "name": "stderr",
     "output_type": "stream",
     "text": [
      "===\n",
      "Records extracted: 0\u001b[0m\n",
      "Warnings:  1\u001b[0m\n",
      "Starting iteration with limit=1000 skip=0 ...\u001b[0m\n"
     ]
    },
    {
     "name": "stdout",
     "output_type": "stream",
     "text": [
      "ur.012404741132.65 id has 0 clinical trials\n",
      "148. charles roberts\n",
      "0\n"
     ]
    },
    {
     "name": "stderr",
     "output_type": "stream",
     "text": [
      "0-1 / 1 (4.53s)\u001b[0m\n",
      "===\n",
      "Records extracted: 1\u001b[0m\n",
      "Warnings:  1\u001b[0m\n",
      "Starting iteration with limit=1000 skip=0 ...\u001b[0m\n"
     ]
    },
    {
     "name": "stdout",
     "output_type": "stream",
     "text": [
      "ur.01036436624.26 id has 1 clinical trials\n",
      "149. william robinson\n",
      "1\n"
     ]
    },
    {
     "name": "stderr",
     "output_type": "stream",
     "text": [
      "===\n",
      "Records extracted: 0\u001b[0m\n",
      "Warnings:  1\u001b[0m\n",
      "Starting iteration with limit=1000 skip=0 ...\u001b[0m\n"
     ]
    },
    {
     "name": "stdout",
     "output_type": "stream",
     "text": [
      "ur.01307371374.44 id has 0 clinical trials\n",
      "150. evan rosen\n",
      "0\n"
     ]
    },
    {
     "name": "stderr",
     "output_type": "stream",
     "text": [
      "0-11 / 11 (0.51s)\u001b[0m\n",
      "===\n",
      "Records extracted: 11\u001b[0m\n",
      "Warnings:  1\u001b[0m\n",
      "Starting iteration with limit=1000 skip=0 ...\u001b[0m\n"
     ]
    },
    {
     "name": "stdout",
     "output_type": "stream",
     "text": [
      "ur.0712434301.07 id has 11 clinical trials\n",
      "151. charles rudin\n",
      "11\n"
     ]
    },
    {
     "name": "stderr",
     "output_type": "stream",
     "text": [
      "0-1 / 1 (2.60s)\u001b[0m\n",
      "===\n",
      "Records extracted: 1\u001b[0m\n",
      "Warnings:  1\u001b[0m\n",
      "Starting iteration with limit=1000 skip=0 ...\u001b[0m\n"
     ]
    },
    {
     "name": "stdout",
     "output_type": "stream",
     "text": [
      "ur.01202263115.16 id has 1 clinical trials\n",
      "152. ida sim\n",
      "1\n"
     ]
    },
    {
     "name": "stderr",
     "output_type": "stream",
     "text": [
      "0-5 / 5 (6.21s)\u001b[0m\n",
      "===\n",
      "Records extracted: 5\u001b[0m\n",
      "Warnings:  1\u001b[0m\n",
      "Starting iteration with limit=1000 skip=0 ...\u001b[0m\n"
     ]
    },
    {
     "name": "stdout",
     "output_type": "stream",
     "text": [
      "ur.01061572211.26 id has 5 clinical trials\n",
      "153. upinder singh\n",
      "5\n"
     ]
    },
    {
     "name": "stderr",
     "output_type": "stream",
     "text": [
      "===\n",
      "Records extracted: 0\u001b[0m\n",
      "Warnings:  1\u001b[0m\n",
      "Starting iteration with limit=1000 skip=0 ...\u001b[0m\n"
     ]
    },
    {
     "name": "stdout",
     "output_type": "stream",
     "text": [
      "ur.0751006274.35 id has 0 clinical trials\n",
      "154. rhonda souza\n",
      "0\n"
     ]
    },
    {
     "name": "stderr",
     "output_type": "stream",
     "text": [
      "0-1 / 1 (3.85s)\u001b[0m\n",
      "===\n",
      "Records extracted: 1\u001b[0m\n",
      "Warnings:  1\u001b[0m\n",
      "Starting iteration with limit=1000 skip=0 ...\u001b[0m\n"
     ]
    },
    {
     "name": "stdout",
     "output_type": "stream",
     "text": [
      "ur.01323203047.64 id has 1 clinical trials\n",
      "155. kimberly stegmaier\n",
      "1\n"
     ]
    },
    {
     "name": "stderr",
     "output_type": "stream",
     "text": [
      "===\n",
      "Records extracted: 0\u001b[0m\n",
      "Warnings:  1\u001b[0m\n",
      "Starting iteration with limit=1000 skip=0 ...\u001b[0m\n"
     ]
    },
    {
     "name": "stdout",
     "output_type": "stream",
     "text": [
      "ur.011151216517.08 id has 0 clinical trials\n",
      "156. constantine stratakis\n",
      "0\n"
     ]
    },
    {
     "name": "stderr",
     "output_type": "stream",
     "text": [
      "0-14 / 14 (6.28s)\u001b[0m\n",
      "===\n",
      "Records extracted: 14\u001b[0m\n",
      "Warnings:  1\u001b[0m\n",
      "Starting iteration with limit=1000 skip=0 ...\u001b[0m\n"
     ]
    },
    {
     "name": "stdout",
     "output_type": "stream",
     "text": [
      "ur.01206574465.13 id has 14 clinical trials\n",
      "157. john tisdale\n",
      "14\n"
     ]
    },
    {
     "name": "stderr",
     "output_type": "stream",
     "text": [
      "0-5 / 5 (0.50s)\u001b[0m\n",
      "===\n",
      "Records extracted: 5\u001b[0m\n",
      "Warnings:  1\u001b[0m\n",
      "Starting iteration with limit=1000 skip=0 ...\u001b[0m\n"
     ]
    },
    {
     "name": "stdout",
     "output_type": "stream",
     "text": [
      "ur.01024164315.00 id has 5 clinical trials\n",
      "158. thomas wang\n",
      "5\n"
     ]
    },
    {
     "name": "stderr",
     "output_type": "stream",
     "text": [
      "0-4 / 4 (0.48s)\u001b[0m\n",
      "===\n",
      "Records extracted: 4\u001b[0m\n",
      "Warnings:  1\u001b[0m\n",
      "Starting iteration with limit=1000 skip=0 ...\u001b[0m\n"
     ]
    },
    {
     "name": "stdout",
     "output_type": "stream",
     "text": [
      "ur.0652523657.55 id has 4 clinical trials\n",
      "159. myles wolf\n",
      "4\n"
     ]
    },
    {
     "name": "stderr",
     "output_type": "stream",
     "text": [
      "0-3 / 3 (1.95s)\u001b[0m\n",
      "===\n",
      "Records extracted: 3\u001b[0m\n",
      "Warnings:  1\u001b[0m\n"
     ]
    },
    {
     "name": "stdout",
     "output_type": "stream",
     "text": [
      "ur.015100501062.34 id has 3 clinical trials\n",
      "160. alan yu\n",
      "3\n",
      "The data has been written to all_ClinicalTrials.json\n"
     ]
    }
   ],
   "source": [
    "# study_arms, study_designs, study_eligibility_criteria, study_maximum_age, study_minimum_age, study_outcome_measures, study_participants, study_type\n",
    "# abstract, conditions, gender, linkout, phase registry, category_bra, category_for, category_hra, category_hrcs_hc, category_hrcs_rac, category_icrp_cso, category_icrp_ct, category_rcdc + active_years + id + investigators + title\n",
    "#testing = {\"alan d'andrea\": ['ur.012727024557.25'], 'bishr omary': ['ur.014730211054.29'], 'john raymond': ['ur.0717265610.95'], 'fuad ziyadeh': ['ur.0761676730.05'], 'maria abreu': ['ur.0606477677.70'], 'michael ackerman': ['ur.01227355747.25']}\n",
    "\n",
    "def findby_IdCT(nameDict, search_Var2):\n",
    "    all_CT = {}\n",
    "    count = 0\n",
    "\n",
    "    for name, person_id in nameDict.items():\n",
    "        indv_ct_list = []  \n",
    "        for indv_id in person_id:\n",
    "            res = dsl.query_iterative(f\"\"\"search clinical_trials where researchers = \"{indv_id}\" return clinical_trials {search_Var2}\"\"\")\n",
    "            number = res.json['_stats']['total_count']\n",
    "            print(f'{indv_id} id has {number} clinical trials')\n",
    "            listDict = res.json.get('clinical_trials', [])  \n",
    "            \n",
    "            indv_ct_list.extend(listDict)  \n",
    "\n",
    "        all_CT[name] = indv_ct_list\n",
    "        count += 1\n",
    "        print(f'{count}. {name}')\n",
    "        print(len(all_CT[name]))\n",
    "    return all_CT\n",
    "\n",
    "\n",
    "ct = findby_IdCT(names,search_Var2) \n",
    "\n",
    "json_filename = \"all_ClinicalTrials.json\"\n",
    "\n",
    "with open(json_filename, 'w') as json_file:\n",
    "    json.dump(ct, json_file, indent=2)\n",
    "\n",
    "print(f'The data has been written to {json_filename}')"
   ]
  },
  {
   "cell_type": "code",
   "execution_count": 12,
   "id": "b7786d4f",
   "metadata": {},
   "outputs": [
    {
     "name": "stdout",
     "output_type": "stream",
     "text": [
      "dict_keys(['abstract', 'active_years', 'altmetric', 'associated_grant_ids', 'brief_title', 'category_bra', 'category_for', 'category_for_2020', 'category_hra', 'category_hrcs_rac', 'category_rcdc', 'conditions', 'date', 'date_inserted', 'dimensions_url', 'end_date', 'funder_countries', 'funders', 'gender', 'id', 'interventions', 'investigators', 'linkout', 'mesh_terms', 'phase', 'publication_ids', 'publications', 'registry', 'research_orgs', 'researchers', 'score', 'start_date', 'study_arms', 'study_designs', 'study_eligibility_criteria', 'study_maximum_age', 'study_minimum_age', 'study_outcome_measures', 'study_participants', 'study_type', 'title'])\n",
      "dict_keys(['abstract', 'active_years', 'brief_title', 'category_bra', 'category_for', 'category_for_2020', 'category_hra', 'category_hrcs_hc', 'category_icrp_cso', 'category_icrp_ct', 'category_rcdc', 'conditions', 'date', 'date_inserted', 'dimensions_url', 'end_date', 'funder_countries', 'funders', 'gender', 'id', 'interventions', 'investigators', 'linkout', 'mesh_terms', 'phase', 'registry', 'research_orgs', 'researchers', 'score', 'start_date', 'study_arms', 'study_designs', 'study_eligibility_criteria', 'study_maximum_age', 'study_minimum_age', 'study_outcome_measures', 'study_participants', 'study_type', 'title'])\n",
      "dict_keys(['abstract', 'active_years', 'brief_title', 'category_bra', 'category_for', 'category_for_2020', 'category_hra', 'category_hrcs_hc', 'category_rcdc', 'conditions', 'date', 'date_inserted', 'dimensions_url', 'end_date', 'funder_countries', 'funders', 'gender', 'id', 'investigators', 'linkout', 'mesh_terms', 'phase', 'registry', 'research_orgs', 'researchers', 'score', 'start_date', 'study_arms', 'study_designs', 'study_eligibility_criteria', 'study_maximum_age', 'study_minimum_age', 'study_outcome_measures', 'study_participants', 'study_type', 'title'])\n",
      "dict_keys(['abstract', 'active_years', 'altmetric', 'brief_title', 'category_bra', 'category_for', 'category_for_2020', 'category_hra', 'category_hrcs_hc', 'category_rcdc', 'conditions', 'date', 'date_inserted', 'dimensions_url', 'end_date', 'funder_countries', 'funders', 'gender', 'id', 'interventions', 'investigators', 'linkout', 'mesh_terms', 'phase', 'registry', 'research_orgs', 'researchers', 'score', 'start_date', 'study_arms', 'study_designs', 'study_eligibility_criteria', 'study_maximum_age', 'study_minimum_age', 'study_outcome_measures', 'study_participants', 'study_type', 'title'])\n",
      "dict_keys(['abstract', 'active_years', 'brief_title', 'category_bra', 'category_for', 'category_for_2020', 'category_hra', 'category_hrcs_hc', 'category_icrp_cso', 'category_icrp_ct', 'category_rcdc', 'conditions', 'date', 'date_inserted', 'dimensions_url', 'end_date', 'funder_countries', 'funders', 'gender', 'id', 'interventions', 'investigators', 'linkout', 'mesh_terms', 'phase', 'registry', 'research_orgs', 'researchers', 'score', 'start_date', 'study_arms', 'study_designs', 'study_eligibility_criteria', 'study_maximum_age', 'study_minimum_age', 'study_outcome_measures', 'study_participants', 'study_type', 'title'])\n",
      "dict_keys(['abstract', 'active_years', 'associated_grant_ids', 'brief_title', 'category_bra', 'category_for', 'category_for_2020', 'category_hra', 'category_hrcs_hc', 'category_hrcs_rac', 'category_rcdc', 'conditions', 'date', 'date_inserted', 'dimensions_url', 'end_date', 'funder_countries', 'funders', 'gender', 'id', 'interventions', 'investigators', 'linkout', 'mesh_terms', 'phase', 'registry', 'research_orgs', 'researchers', 'score', 'start_date', 'study_arms', 'study_designs', 'study_eligibility_criteria', 'study_maximum_age', 'study_minimum_age', 'study_outcome_measures', 'study_participants', 'study_type', 'title'])\n",
      "dict_keys(['abstract', 'active_years', 'brief_title', 'category_bra', 'category_for', 'category_for_2020', 'category_hra', 'category_hrcs_rac', 'category_rcdc', 'conditions', 'date', 'date_inserted', 'dimensions_url', 'end_date', 'funder_countries', 'funders', 'gender', 'id', 'interventions', 'investigators', 'linkout', 'mesh_terms', 'phase', 'registry', 'research_orgs', 'researchers', 'score', 'start_date', 'study_arms', 'study_designs', 'study_eligibility_criteria', 'study_maximum_age', 'study_minimum_age', 'study_outcome_measures', 'study_participants', 'study_type', 'title'])\n",
      "dict_keys(['abstract', 'active_years', 'brief_title', 'category_bra', 'category_for', 'category_for_2020', 'category_hra', 'category_hrcs_hc', 'category_hrcs_rac', 'category_rcdc', 'conditions', 'date', 'date_inserted', 'dimensions_url', 'end_date', 'funder_countries', 'funders', 'gender', 'id', 'investigators', 'linkout', 'mesh_terms', 'phase', 'registry', 'research_orgs', 'researchers', 'score', 'start_date', 'study_arms', 'study_designs', 'study_eligibility_criteria', 'study_maximum_age', 'study_minimum_age', 'study_outcome_measures', 'study_participants', 'study_type', 'title'])\n",
      "dict_keys(['abstract', 'acronym', 'active_years', 'brief_title', 'category_bra', 'category_for', 'category_for_2020', 'category_hra', 'category_hrcs_hc', 'category_hrcs_rac', 'category_rcdc', 'conditions', 'date', 'date_inserted', 'dimensions_url', 'end_date', 'funder_countries', 'funders', 'gender', 'id', 'investigators', 'linkout', 'mesh_terms', 'phase', 'registry', 'research_orgs', 'researchers', 'score', 'start_date', 'study_arms', 'study_designs', 'study_eligibility_criteria', 'study_maximum_age', 'study_minimum_age', 'study_outcome_measures', 'study_participants', 'study_type', 'title'])\n",
      "dict_keys(['abstract', 'acronym', 'active_years', 'brief_title', 'category_bra', 'category_for', 'category_for_2020', 'category_hra', 'category_hrcs_rac', 'conditions', 'date', 'date_inserted', 'dimensions_url', 'end_date', 'funder_countries', 'funders', 'gender', 'id', 'interventions', 'investigators', 'linkout', 'mesh_terms', 'phase', 'registry', 'research_orgs', 'researchers', 'score', 'start_date', 'study_arms', 'study_designs', 'study_eligibility_criteria', 'study_maximum_age', 'study_minimum_age', 'study_outcome_measures', 'study_participants', 'study_type', 'title'])\n",
      "dict_keys(['abstract', 'active_years', 'brief_title', 'category_bra', 'category_for', 'category_for_2020', 'category_hrcs_rac', 'category_icrp_ct', 'category_rcdc', 'conditions', 'date', 'date_inserted', 'dimensions_url', 'end_date', 'funder_countries', 'funders', 'gender', 'id', 'interventions', 'investigators', 'linkout', 'mesh_terms', 'phase', 'registry', 'research_orgs', 'researchers', 'score', 'start_date', 'study_arms', 'study_designs', 'study_eligibility_criteria', 'study_maximum_age', 'study_minimum_age', 'study_outcome_measures', 'study_participants', 'study_type', 'title'])\n",
      "dict_keys(['abstract', 'active_years', 'brief_title', 'category_for', 'category_for_2020', 'conditions', 'date', 'date_inserted', 'dimensions_url', 'end_date', 'funder_countries', 'funders', 'gender', 'id', 'interventions', 'investigators', 'linkout', 'mesh_terms', 'phase', 'registry', 'research_orgs', 'researchers', 'score', 'start_date', 'study_arms', 'study_designs', 'study_eligibility_criteria', 'study_maximum_age', 'study_minimum_age', 'study_outcome_measures', 'study_participants', 'study_type', 'title'])\n",
      "dict_keys(['abstract', 'acronym', 'active_years', 'brief_title', 'category_bra', 'category_for', 'category_for_2020', 'category_hra', 'category_hrcs_hc', 'category_hrcs_rac', 'category_rcdc', 'conditions', 'date', 'date_inserted', 'dimensions_url', 'end_date', 'funder_countries', 'funders', 'gender', 'id', 'interventions', 'investigators', 'linkout', 'mesh_terms', 'phase', 'publication_ids', 'publications', 'registry', 'research_orgs', 'researchers', 'score', 'start_date', 'study_arms', 'study_designs', 'study_eligibility_criteria', 'study_maximum_age', 'study_minimum_age', 'study_outcome_measures', 'study_participants', 'study_type', 'title'])\n",
      "dict_keys(['abstract', 'active_years', 'brief_title', 'category_bra', 'category_for', 'category_for_2020', 'category_hra', 'conditions', 'date', 'date_inserted', 'dimensions_url', 'end_date', 'funder_countries', 'funders', 'gender', 'id', 'interventions', 'investigators', 'linkout', 'mesh_terms', 'phase', 'registry', 'research_orgs', 'researchers', 'score', 'start_date', 'study_arms', 'study_designs', 'study_eligibility_criteria', 'study_maximum_age', 'study_minimum_age', 'study_outcome_measures', 'study_participants', 'study_type', 'title'])\n",
      "dict_keys(['abstract', 'active_years', 'brief_title', 'category_bra', 'category_for', 'category_for_2020', 'category_hra', 'category_hrcs_rac', 'category_rcdc', 'conditions', 'date', 'date_inserted', 'dimensions_url', 'end_date', 'funder_countries', 'funders', 'gender', 'id', 'interventions', 'investigators', 'linkout', 'mesh_terms', 'phase', 'registry', 'research_orgs', 'researchers', 'score', 'start_date', 'study_arms', 'study_designs', 'study_eligibility_criteria', 'study_maximum_age', 'study_minimum_age', 'study_outcome_measures', 'study_participants', 'study_type', 'title'])\n",
      "dict_keys(['abstract', 'active_years', 'brief_title', 'category_bra', 'category_for', 'category_for_2020', 'category_hra', 'category_hrcs_hc', 'category_hrcs_rac', 'category_rcdc', 'conditions', 'date', 'date_inserted', 'dimensions_url', 'end_date', 'funder_countries', 'funders', 'gender', 'id', 'interventions', 'investigators', 'linkout', 'mesh_terms', 'phase', 'registry', 'research_orgs', 'researchers', 'score', 'start_date', 'study_arms', 'study_designs', 'study_eligibility_criteria', 'study_maximum_age', 'study_minimum_age', 'study_outcome_measures', 'study_participants', 'study_type', 'title'])\n",
      "dict_keys(['abstract', 'active_years', 'brief_title', 'category_for', 'category_for_2020', 'category_hra', 'category_rcdc', 'conditions', 'date', 'date_inserted', 'dimensions_url', 'end_date', 'funder_countries', 'funders', 'gender', 'id', 'interventions', 'investigators', 'linkout', 'mesh_terms', 'phase', 'registry', 'research_orgs', 'researchers', 'score', 'start_date', 'study_arms', 'study_designs', 'study_eligibility_criteria', 'study_maximum_age', 'study_minimum_age', 'study_outcome_measures', 'study_participants', 'study_type', 'title'])\n",
      "dict_keys(['abstract', 'active_years', 'brief_title', 'category_for', 'category_for_2020', 'category_hra', 'category_rcdc', 'conditions', 'date', 'date_inserted', 'dimensions_url', 'end_date', 'funder_countries', 'funders', 'gender', 'id', 'interventions', 'investigators', 'linkout', 'phase', 'registry', 'research_orgs', 'researchers', 'score', 'start_date', 'study_designs', 'study_eligibility_criteria', 'study_maximum_age', 'study_minimum_age', 'study_outcome_measures', 'study_participants', 'study_type', 'title'])\n",
      "dict_keys(['abstract', 'active_years', 'altmetric', 'brief_title', 'category_bra', 'category_for', 'category_for_2020', 'category_hra', 'category_hrcs_hc', 'category_hrcs_rac', 'category_icrp_cso', 'category_icrp_ct', 'category_rcdc', 'conditions', 'date', 'date_inserted', 'dimensions_url', 'end_date', 'gender', 'id', 'interventions', 'investigators', 'linkout', 'mesh_terms', 'phase', 'registry', 'research_orgs', 'researchers', 'score', 'start_date', 'study_arms', 'study_designs', 'study_eligibility_criteria', 'study_maximum_age', 'study_minimum_age', 'study_outcome_measures', 'study_participants', 'study_type', 'title'])\n",
      "dict_keys(['abstract', 'active_years', 'altmetric', 'brief_title', 'category_bra', 'category_for', 'category_for_2020', 'category_hra', 'category_hrcs_hc', 'category_hrcs_rac', 'category_icrp_cso', 'category_icrp_ct', 'category_rcdc', 'conditions', 'date', 'date_inserted', 'dimensions_url', 'end_date', 'gender', 'id', 'interventions', 'investigators', 'linkout', 'mesh_terms', 'phase', 'registry', 'research_orgs', 'researchers', 'score', 'start_date', 'study_arms', 'study_designs', 'study_eligibility_criteria', 'study_maximum_age', 'study_minimum_age', 'study_outcome_measures', 'study_participants', 'study_type', 'title'])\n",
      "dict_keys(['abstract', 'active_years', 'altmetric', 'associated_grant_ids', 'brief_title', 'category_for', 'category_for_2020', 'category_hrcs_hc', 'category_hrcs_rac', 'category_icrp_cso', 'category_icrp_ct', 'category_rcdc', 'conditions', 'date', 'date_inserted', 'dimensions_url', 'end_date', 'funder_countries', 'funders', 'gender', 'id', 'interventions', 'investigators', 'linkout', 'mesh_terms', 'phase', 'registry', 'research_orgs', 'researchers', 'score', 'start_date', 'study_arms', 'study_designs', 'study_eligibility_criteria', 'study_maximum_age', 'study_minimum_age', 'study_outcome_measures', 'study_participants', 'study_type', 'title'])\n",
      "dict_keys(['abstract', 'active_years', 'altmetric', 'brief_title', 'category_bra', 'category_for', 'category_for_2020', 'category_hra', 'category_hrcs_hc', 'category_icrp_cso', 'category_icrp_ct', 'category_rcdc', 'conditions', 'date', 'date_inserted', 'dimensions_url', 'end_date', 'gender', 'id', 'investigators', 'linkout', 'mesh_terms', 'phase', 'registry', 'research_orgs', 'researchers', 'score', 'start_date', 'study_designs', 'study_eligibility_criteria', 'study_maximum_age', 'study_minimum_age', 'study_outcome_measures', 'study_participants', 'study_type', 'title'])\n",
      "dict_keys(['abstract', 'active_years', 'brief_title', 'category_bra', 'category_for', 'category_for_2020', 'category_icrp_cso', 'category_icrp_ct', 'category_rcdc', 'conditions', 'date', 'date_inserted', 'dimensions_url', 'end_date', 'funder_countries', 'funders', 'gender', 'id', 'interventions', 'investigators', 'linkout', 'mesh_terms', 'phase', 'registry', 'research_orgs', 'researchers', 'score', 'start_date', 'study_arms', 'study_designs', 'study_eligibility_criteria', 'study_maximum_age', 'study_minimum_age', 'study_outcome_measures', 'study_participants', 'study_type', 'title'])\n",
      "dict_keys(['abstract', 'acronym', 'active_years', 'category_bra', 'category_for', 'category_for_2020', 'category_hra', 'category_hrcs_hc', 'category_hrcs_rac', 'category_rcdc', 'conditions', 'date', 'date_inserted', 'dimensions_url', 'end_date', 'funder_countries', 'funders', 'gender', 'id', 'interventions', 'investigators', 'linkout', 'phase', 'registry', 'research_orgs', 'researchers', 'score', 'start_date', 'study_designs', 'study_eligibility_criteria', 'study_outcome_measures', 'study_participants', 'study_type', 'title'])\n",
      "dict_keys(['abstract', 'brief_title', 'category_bra', 'category_for', 'category_for_2020', 'category_hra', 'category_hrcs_hc', 'category_hrcs_rac', 'category_icrp_cso', 'category_icrp_ct', 'category_rcdc', 'conditions', 'date', 'date_inserted', 'dimensions_url', 'funder_countries', 'funders', 'gender', 'id', 'interventions', 'investigators', 'linkout', 'mesh_terms', 'phase', 'registry', 'research_orgs', 'researchers', 'score', 'start_date', 'study_arms', 'study_designs', 'study_eligibility_criteria', 'study_maximum_age', 'study_minimum_age', 'study_outcome_measures', 'study_participants', 'study_type', 'title'])\n",
      "dict_keys(['abstract', 'active_years', 'brief_title', 'category_bra', 'category_for', 'category_for_2020', 'category_hra', 'category_hrcs_hc', 'category_hrcs_rac', 'category_icrp_cso', 'category_icrp_ct', 'category_rcdc', 'conditions', 'date', 'date_inserted', 'dimensions_url', 'end_date', 'funder_countries', 'funders', 'gender', 'id', 'interventions', 'investigators', 'linkout', 'mesh_terms', 'phase', 'registry', 'research_orgs', 'researchers', 'score', 'start_date', 'study_arms', 'study_designs', 'study_eligibility_criteria', 'study_maximum_age', 'study_minimum_age', 'study_outcome_measures', 'study_participants', 'study_type', 'title'])\n",
      "dict_keys(['abstract', 'active_years', 'altmetric', 'brief_title', 'category_bra', 'category_for', 'category_for_2020', 'category_hra', 'category_hrcs_hc', 'category_hrcs_rac', 'category_rcdc', 'conditions', 'date', 'date_inserted', 'dimensions_url', 'end_date', 'funder_countries', 'funders', 'gender', 'id', 'interventions', 'investigators', 'linkout', 'mesh_terms', 'phase', 'publication_ids', 'publications', 'registry', 'research_orgs', 'researchers', 'score', 'start_date', 'study_arms', 'study_designs', 'study_eligibility_criteria', 'study_maximum_age', 'study_minimum_age', 'study_outcome_measures', 'study_participants', 'study_type', 'title'])\n",
      "dict_keys(['abstract', 'active_years', 'altmetric', 'brief_title', 'category_bra', 'category_for', 'category_for_2020', 'category_hra', 'category_hrcs_hc', 'category_hrcs_rac', 'category_rcdc', 'conditions', 'date', 'date_inserted', 'dimensions_url', 'end_date', 'funder_countries', 'funders', 'gender', 'id', 'interventions', 'investigators', 'linkout', 'mesh_terms', 'phase', 'publication_ids', 'publications', 'registry', 'research_orgs', 'researchers', 'score', 'start_date', 'study_arms', 'study_designs', 'study_eligibility_criteria', 'study_maximum_age', 'study_minimum_age', 'study_outcome_measures', 'study_participants', 'study_type', 'title'])\n",
      "dict_keys(['abstract', 'active_years', 'altmetric', 'brief_title', 'category_bra', 'category_for', 'category_for_2020', 'category_hra', 'category_hrcs_hc', 'category_hrcs_rac', 'category_rcdc', 'conditions', 'date', 'date_inserted', 'dimensions_url', 'end_date', 'funder_countries', 'funders', 'gender', 'id', 'investigators', 'linkout', 'phase', 'registry', 'research_orgs', 'researchers', 'score', 'start_date', 'study_arms', 'study_designs', 'study_eligibility_criteria', 'study_maximum_age', 'study_minimum_age', 'study_outcome_measures', 'study_participants', 'study_type', 'title'])\n",
      "dict_keys(['abstract', 'altmetric', 'brief_title', 'category_for', 'category_for_2020', 'category_hra', 'category_hrcs_hc', 'category_hrcs_rac', 'category_rcdc', 'conditions', 'date', 'date_inserted', 'dimensions_url', 'funder_countries', 'funders', 'gender', 'id', 'investigators', 'linkout', 'mesh_terms', 'phase', 'registry', 'research_orgs', 'researchers', 'score', 'start_date', 'study_arms', 'study_designs', 'study_eligibility_criteria', 'study_maximum_age', 'study_minimum_age', 'study_outcome_measures', 'study_participants', 'study_type', 'title'])\n",
      "dict_keys(['abstract', 'active_years', 'altmetric', 'brief_title', 'category_bra', 'category_for', 'category_for_2020', 'category_hra', 'category_hrcs_hc', 'category_hrcs_rac', 'category_rcdc', 'conditions', 'date', 'date_inserted', 'dimensions_url', 'end_date', 'funder_countries', 'funders', 'gender', 'id', 'investigators', 'linkout', 'mesh_terms', 'phase', 'publication_ids', 'publications', 'registry', 'research_orgs', 'researchers', 'score', 'start_date', 'study_eligibility_criteria', 'study_maximum_age', 'study_minimum_age', 'study_participants', 'study_type', 'title'])\n",
      "dict_keys(['abstract', 'active_years', 'brief_title', 'category_bra', 'category_for', 'category_for_2020', 'category_hra', 'category_hrcs_hc', 'category_hrcs_rac', 'category_rcdc', 'conditions', 'date', 'date_inserted', 'dimensions_url', 'end_date', 'funder_countries', 'funders', 'gender', 'id', 'investigators', 'linkout', 'mesh_terms', 'phase', 'publication_ids', 'publications', 'registry', 'research_orgs', 'researchers', 'score', 'start_date', 'study_arms', 'study_designs', 'study_eligibility_criteria', 'study_maximum_age', 'study_minimum_age', 'study_outcome_measures', 'study_participants', 'study_type', 'title'])\n",
      "dict_keys(['abstract', 'active_years', 'altmetric', 'brief_title', 'category_bra', 'category_for', 'category_for_2020', 'category_hra', 'category_hrcs_hc', 'category_hrcs_rac', 'category_rcdc', 'conditions', 'date', 'date_inserted', 'dimensions_url', 'end_date', 'funder_countries', 'funders', 'gender', 'id', 'investigators', 'linkout', 'mesh_terms', 'phase', 'publication_ids', 'publications', 'registry', 'research_orgs', 'researchers', 'score', 'start_date', 'study_designs', 'study_eligibility_criteria', 'study_maximum_age', 'study_minimum_age', 'study_outcome_measures', 'study_participants', 'study_type', 'title'])\n",
      "dict_keys(['abstract', 'altmetric', 'brief_title', 'category_bra', 'category_for', 'category_for_2020', 'category_hra', 'category_hrcs_hc', 'category_hrcs_rac', 'category_icrp_cso', 'category_icrp_ct', 'category_rcdc', 'conditions', 'date', 'date_inserted', 'dimensions_url', 'funder_countries', 'funders', 'gender', 'id', 'investigators', 'linkout', 'mesh_terms', 'phase', 'publication_ids', 'publications', 'registry', 'research_orgs', 'researchers', 'score', 'start_date', 'study_arms', 'study_designs', 'study_eligibility_criteria', 'study_maximum_age', 'study_minimum_age', 'study_outcome_measures', 'study_participants', 'study_type', 'title'])\n",
      "dict_keys(['abstract', 'active_years', 'associated_grant_ids', 'brief_title', 'category_bra', 'category_for', 'category_for_2020', 'category_hra', 'category_hrcs_hc', 'category_hrcs_rac', 'category_icrp_cso', 'category_icrp_ct', 'category_rcdc', 'conditions', 'date', 'date_inserted', 'dimensions_url', 'end_date', 'funder_countries', 'funders', 'gender', 'id', 'interventions', 'investigators', 'linkout', 'mesh_terms', 'phase', 'publication_ids', 'publications', 'registry', 'research_orgs', 'researchers', 'score', 'start_date', 'study_arms', 'study_designs', 'study_eligibility_criteria', 'study_maximum_age', 'study_minimum_age', 'study_outcome_measures', 'study_participants', 'study_type', 'title'])\n",
      "dict_keys(['abstract', 'active_years', 'associated_grant_ids', 'brief_title', 'category_bra', 'category_for', 'category_for_2020', 'category_hra', 'category_hrcs_hc', 'category_hrcs_rac', 'category_rcdc', 'conditions', 'date', 'date_inserted', 'dimensions_url', 'end_date', 'funder_countries', 'funders', 'gender', 'id', 'investigators', 'linkout', 'mesh_terms', 'phase', 'publication_ids', 'publications', 'registry', 'research_orgs', 'researchers', 'score', 'start_date', 'study_designs', 'study_eligibility_criteria', 'study_maximum_age', 'study_minimum_age', 'study_outcome_measures', 'study_participants', 'study_type', 'title'])\n",
      "dict_keys(['abstract', 'active_years', 'brief_title', 'category_bra', 'category_for', 'category_for_2020', 'category_hra', 'category_rcdc', 'conditions', 'date', 'date_inserted', 'dimensions_url', 'end_date', 'funder_countries', 'funders', 'gender', 'id', 'interventions', 'investigators', 'linkout', 'mesh_terms', 'phase', 'registry', 'research_orgs', 'researchers', 'score', 'start_date', 'study_arms', 'study_designs', 'study_eligibility_criteria', 'study_maximum_age', 'study_minimum_age', 'study_outcome_measures', 'study_participants', 'study_type', 'title'])\n",
      "dict_keys(['abstract', 'acronym', 'active_years', 'associated_grant_ids', 'brief_title', 'category_bra', 'category_for', 'category_for_2020', 'category_hra', 'category_hrcs_hc', 'category_hrcs_rac', 'category_rcdc', 'conditions', 'date', 'date_inserted', 'dimensions_url', 'end_date', 'funder_countries', 'funders', 'gender', 'id', 'interventions', 'investigators', 'linkout', 'mesh_terms', 'phase', 'publication_ids', 'publications', 'registry', 'research_orgs', 'researchers', 'score', 'start_date', 'study_arms', 'study_designs', 'study_eligibility_criteria', 'study_maximum_age', 'study_minimum_age', 'study_outcome_measures', 'study_participants', 'study_type', 'title'])\n",
      "dict_keys(['abstract', 'brief_title', 'category_bra', 'category_for', 'category_for_2020', 'category_hrcs_hc', 'category_rcdc', 'conditions', 'date_inserted', 'dimensions_url', 'funder_countries', 'funders', 'gender', 'id', 'interventions', 'investigators', 'linkout', 'mesh_terms', 'phase', 'registry', 'research_orgs', 'researchers', 'score', 'study_eligibility_criteria', 'study_maximum_age', 'study_minimum_age', 'study_type', 'title'])\n",
      "dict_keys(['abstract', 'acronym', 'altmetric', 'brief_title', 'category_bra', 'category_for', 'category_for_2020', 'category_hra', 'category_hrcs_hc', 'category_hrcs_rac', 'category_icrp_cso', 'category_icrp_ct', 'category_rcdc', 'conditions', 'date_inserted', 'dimensions_url', 'funder_countries', 'funders', 'gender', 'id', 'interventions', 'investigators', 'linkout', 'mesh_terms', 'phase', 'registry', 'research_orgs', 'researchers', 'score', 'study_eligibility_criteria', 'study_maximum_age', 'study_minimum_age', 'study_type', 'title'])\n",
      "dict_keys(['abstract', 'active_years', 'altmetric', 'brief_title', 'category_for', 'category_for_2020', 'category_hrcs_rac', 'category_rcdc', 'conditions', 'date', 'date_inserted', 'dimensions_url', 'end_date', 'funder_countries', 'funders', 'gender', 'id', 'interventions', 'investigators', 'linkout', 'mesh_terms', 'phase', 'registry', 'research_orgs', 'researchers', 'score', 'start_date', 'study_arms', 'study_designs', 'study_eligibility_criteria', 'study_maximum_age', 'study_minimum_age', 'study_outcome_measures', 'study_participants', 'study_type', 'title'])\n",
      "dict_keys(['abstract', 'active_years', 'altmetric', 'brief_title', 'category_bra', 'category_for', 'category_for_2020', 'category_hrcs_hc', 'category_hrcs_rac', 'category_icrp_ct', 'category_rcdc', 'conditions', 'date', 'date_inserted', 'dimensions_url', 'end_date', 'funder_countries', 'funders', 'gender', 'id', 'interventions', 'investigators', 'linkout', 'mesh_terms', 'phase', 'registry', 'research_orgs', 'researchers', 'score', 'start_date', 'study_arms', 'study_designs', 'study_eligibility_criteria', 'study_maximum_age', 'study_minimum_age', 'study_outcome_measures', 'study_participants', 'study_type', 'title'])\n",
      "dict_keys(['abstract', 'active_years', 'brief_title', 'category_bra', 'category_for', 'category_for_2020', 'category_hrcs_hc', 'category_icrp_cso', 'category_icrp_ct', 'category_rcdc', 'conditions', 'date', 'date_inserted', 'dimensions_url', 'end_date', 'funder_countries', 'funders', 'gender', 'id', 'interventions', 'investigators', 'linkout', 'mesh_terms', 'phase', 'registry', 'research_orgs', 'researchers', 'score', 'start_date', 'study_arms', 'study_designs', 'study_eligibility_criteria', 'study_maximum_age', 'study_minimum_age', 'study_outcome_measures', 'study_participants', 'study_type', 'title'])\n",
      "dict_keys(['abstract', 'active_years', 'brief_title', 'category_bra', 'category_for', 'category_for_2020', 'category_hra', 'category_hrcs_hc', 'category_icrp_cso', 'category_icrp_ct', 'category_rcdc', 'conditions', 'date', 'date_inserted', 'dimensions_url', 'end_date', 'funder_countries', 'funders', 'gender', 'id', 'interventions', 'investigators', 'linkout', 'mesh_terms', 'phase', 'registry', 'research_orgs', 'researchers', 'score', 'start_date', 'study_arms', 'study_designs', 'study_eligibility_criteria', 'study_maximum_age', 'study_minimum_age', 'study_outcome_measures', 'study_participants', 'study_type', 'title'])\n",
      "dict_keys(['abstract', 'active_years', 'brief_title', 'category_bra', 'category_for', 'category_for_2020', 'category_hra', 'category_hrcs_hc', 'category_hrcs_rac', 'category_icrp_cso', 'category_icrp_ct', 'category_rcdc', 'conditions', 'date', 'date_inserted', 'dimensions_url', 'end_date', 'gender', 'id', 'interventions', 'investigators', 'linkout', 'mesh_terms', 'phase', 'registry', 'research_orgs', 'researchers', 'score', 'start_date', 'study_arms', 'study_designs', 'study_eligibility_criteria', 'study_maximum_age', 'study_minimum_age', 'study_outcome_measures', 'study_participants', 'study_type', 'title'])\n",
      "dict_keys(['abstract', 'active_years', 'altmetric', 'brief_title', 'category_bra', 'category_for', 'category_for_2020', 'category_hra', 'category_hrcs_hc', 'category_hrcs_rac', 'category_icrp_cso', 'category_icrp_ct', 'category_rcdc', 'conditions', 'date', 'date_inserted', 'dimensions_url', 'end_date', 'gender', 'id', 'interventions', 'investigators', 'linkout', 'phase', 'registry', 'research_orgs', 'researchers', 'score', 'start_date', 'study_arms', 'study_designs', 'study_eligibility_criteria', 'study_maximum_age', 'study_minimum_age', 'study_outcome_measures', 'study_participants', 'study_type', 'title'])\n",
      "dict_keys(['abstract', 'acronym', 'active_years', 'brief_title', 'category_bra', 'category_for', 'category_for_2020', 'category_hra', 'category_hrcs_hc', 'category_rcdc', 'conditions', 'date', 'date_inserted', 'dimensions_url', 'end_date', 'funder_countries', 'funders', 'gender', 'id', 'interventions', 'investigators', 'linkout', 'mesh_terms', 'phase', 'publication_ids', 'publications', 'registry', 'research_orgs', 'researchers', 'score', 'start_date', 'study_arms', 'study_designs', 'study_eligibility_criteria', 'study_maximum_age', 'study_minimum_age', 'study_outcome_measures', 'study_participants', 'study_type', 'title'])\n",
      "dict_keys(['abstract', 'brief_title', 'category_bra', 'category_for', 'category_for_2020', 'category_hra', 'category_hrcs_hc', 'category_rcdc', 'conditions', 'date', 'date_inserted', 'dimensions_url', 'gender', 'id', 'interventions', 'investigators', 'linkout', 'phase', 'registry', 'research_orgs', 'researchers', 'score', 'start_date', 'study_type', 'title'])\n",
      "dict_keys(['abstract', 'active_years', 'brief_title', 'category_bra', 'category_for', 'category_for_2020', 'category_hra', 'category_hrcs_hc', 'category_rcdc', 'conditions', 'date', 'date_inserted', 'dimensions_url', 'end_date', 'gender', 'id', 'interventions', 'investigators', 'linkout', 'phase', 'registry', 'research_orgs', 'researchers', 'score', 'start_date', 'study_type', 'title'])\n",
      "dict_keys(['abstract', 'active_years', 'brief_title', 'category_bra', 'category_for', 'category_for_2020', 'category_hra', 'category_hrcs_hc', 'category_hrcs_rac', 'category_rcdc', 'conditions', 'date', 'date_inserted', 'dimensions_url', 'end_date', 'funder_countries', 'funders', 'gender', 'id', 'investigators', 'linkout', 'mesh_terms', 'phase', 'publication_ids', 'publications', 'registry', 'research_orgs', 'researchers', 'score', 'start_date', 'study_eligibility_criteria', 'study_maximum_age', 'study_minimum_age', 'study_participants', 'study_type', 'title'])\n",
      "dict_keys(['abstract', 'altmetric', 'brief_title', 'category_bra', 'category_for', 'category_for_2020', 'category_hra', 'category_hrcs_hc', 'category_hrcs_rac', 'category_rcdc', 'conditions', 'date', 'date_inserted', 'dimensions_url', 'funder_countries', 'funders', 'gender', 'id', 'investigators', 'linkout', 'mesh_terms', 'phase', 'publication_ids', 'publications', 'registry', 'research_orgs', 'researchers', 'score', 'start_date', 'study_arms', 'study_designs', 'study_eligibility_criteria', 'study_maximum_age', 'study_minimum_age', 'study_outcome_measures', 'study_participants', 'study_type', 'title'])\n",
      "dict_keys(['abstract', 'active_years', 'brief_title', 'category_bra', 'category_for', 'category_for_2020', 'category_hra', 'category_hrcs_hc', 'category_hrcs_rac', 'category_rcdc', 'conditions', 'date', 'date_inserted', 'dimensions_url', 'end_date', 'funder_countries', 'funders', 'gender', 'id', 'interventions', 'investigators', 'linkout', 'mesh_terms', 'phase', 'publication_ids', 'publications', 'registry', 'research_orgs', 'researchers', 'score', 'start_date', 'study_arms', 'study_designs', 'study_eligibility_criteria', 'study_maximum_age', 'study_minimum_age', 'study_outcome_measures', 'study_participants', 'study_type', 'title'])\n",
      "dict_keys(['abstract', 'acronym', 'active_years', 'altmetric', 'brief_title', 'category_bra', 'category_for', 'category_for_2020', 'category_hra', 'category_hrcs_hc', 'category_hrcs_rac', 'category_rcdc', 'conditions', 'date', 'date_inserted', 'dimensions_url', 'end_date', 'funder_countries', 'funders', 'gender', 'id', 'interventions', 'investigators', 'linkout', 'mesh_terms', 'phase', 'registry', 'research_orgs', 'researchers', 'score', 'start_date', 'study_arms', 'study_designs', 'study_eligibility_criteria', 'study_maximum_age', 'study_minimum_age', 'study_outcome_measures', 'study_participants', 'study_type', 'title'])\n",
      "dict_keys(['abstract', 'active_years', 'brief_title', 'category_bra', 'category_for', 'category_for_2020', 'category_hra', 'category_hrcs_hc', 'category_hrcs_rac', 'category_rcdc', 'conditions', 'date', 'date_inserted', 'dimensions_url', 'end_date', 'funder_countries', 'funders', 'gender', 'id', 'interventions', 'investigators', 'linkout', 'mesh_terms', 'phase', 'registry', 'research_orgs', 'researchers', 'score', 'start_date', 'study_arms', 'study_designs', 'study_eligibility_criteria', 'study_maximum_age', 'study_minimum_age', 'study_outcome_measures', 'study_participants', 'study_type', 'title'])\n",
      "dict_keys(['abstract', 'active_years', 'altmetric', 'brief_title', 'category_bra', 'category_for', 'category_for_2020', 'category_hra', 'category_hrcs_hc', 'category_hrcs_rac', 'category_icrp_ct', 'category_rcdc', 'conditions', 'date', 'date_inserted', 'dimensions_url', 'end_date', 'gender', 'id', 'interventions', 'investigators', 'linkout', 'mesh_terms', 'phase', 'registry', 'research_orgs', 'researchers', 'score', 'start_date', 'study_arms', 'study_designs', 'study_eligibility_criteria', 'study_maximum_age', 'study_minimum_age', 'study_outcome_measures', 'study_participants', 'study_type', 'title'])\n",
      "dict_keys(['abstract', 'active_years', 'brief_title', 'category_bra', 'category_for', 'category_for_2020', 'category_hra', 'category_hrcs_hc', 'category_hrcs_rac', 'category_icrp_cso', 'category_icrp_ct', 'category_rcdc', 'conditions', 'date', 'date_inserted', 'dimensions_url', 'end_date', 'gender', 'id', 'interventions', 'investigators', 'linkout', 'mesh_terms', 'phase', 'registry', 'research_orgs', 'researchers', 'score', 'start_date', 'study_arms', 'study_designs', 'study_eligibility_criteria', 'study_maximum_age', 'study_minimum_age', 'study_outcome_measures', 'study_participants', 'study_type', 'title'])\n",
      "dict_keys(['abstract', 'active_years', 'brief_title', 'category_for', 'category_for_2020', 'category_hra', 'category_hrcs_rac', 'category_icrp_ct', 'category_rcdc', 'conditions', 'date', 'date_inserted', 'dimensions_url', 'end_date', 'gender', 'id', 'interventions', 'investigators', 'linkout', 'phase', 'registry', 'research_orgs', 'researchers', 'score', 'start_date', 'study_arms', 'study_designs', 'study_eligibility_criteria', 'study_maximum_age', 'study_minimum_age', 'study_participants', 'study_type', 'title'])\n",
      "dict_keys(['abstract', 'active_years', 'brief_title', 'category_bra', 'category_for', 'category_for_2020', 'category_hra', 'category_hrcs_hc', 'category_hrcs_rac', 'category_rcdc', 'conditions', 'date', 'date_inserted', 'dimensions_url', 'end_date', 'funder_countries', 'funders', 'gender', 'id', 'interventions', 'investigators', 'linkout', 'mesh_terms', 'phase', 'registry', 'research_orgs', 'researchers', 'score', 'start_date', 'study_arms', 'study_designs', 'study_eligibility_criteria', 'study_maximum_age', 'study_minimum_age', 'study_outcome_measures', 'study_participants', 'study_type', 'title'])\n",
      "dict_keys(['abstract', 'active_years', 'brief_title', 'category_bra', 'category_for', 'category_for_2020', 'category_hra', 'category_hrcs_hc', 'category_hrcs_rac', 'category_rcdc', 'conditions', 'date', 'date_inserted', 'dimensions_url', 'end_date', 'gender', 'id', 'interventions', 'investigators', 'linkout', 'mesh_terms', 'phase', 'registry', 'research_orgs', 'researchers', 'score', 'start_date', 'study_arms', 'study_designs', 'study_eligibility_criteria', 'study_maximum_age', 'study_minimum_age', 'study_outcome_measures', 'study_participants', 'study_type', 'title'])\n",
      "dict_keys(['abstract', 'active_years', 'brief_title', 'category_bra', 'category_for', 'category_for_2020', 'category_hra', 'category_hrcs_hc', 'category_rcdc', 'conditions', 'date', 'date_inserted', 'dimensions_url', 'end_date', 'gender', 'id', 'interventions', 'investigators', 'linkout', 'mesh_terms', 'phase', 'registry', 'research_orgs', 'researchers', 'score', 'start_date', 'study_arms', 'study_designs', 'study_eligibility_criteria', 'study_maximum_age', 'study_minimum_age', 'study_outcome_measures', 'study_participants', 'study_type', 'title'])\n",
      "dict_keys(['abstract', 'active_years', 'brief_title', 'category_bra', 'category_for', 'category_for_2020', 'category_hra', 'category_hrcs_hc', 'category_icrp_ct', 'category_rcdc', 'conditions', 'date', 'date_inserted', 'dimensions_url', 'end_date', 'gender', 'id', 'interventions', 'investigators', 'linkout', 'mesh_terms', 'phase', 'registry', 'research_orgs', 'researchers', 'score', 'start_date', 'study_arms', 'study_designs', 'study_eligibility_criteria', 'study_maximum_age', 'study_minimum_age', 'study_outcome_measures', 'study_participants', 'study_type', 'title'])\n",
      "dict_keys(['abstract', 'brief_title', 'category_bra', 'category_for', 'category_for_2020', 'category_hra', 'category_hrcs_hc', 'category_hrcs_rac', 'category_rcdc', 'conditions', 'date', 'date_inserted', 'dimensions_url', 'funder_countries', 'funders', 'gender', 'id', 'interventions', 'investigators', 'linkout', 'mesh_terms', 'phase', 'registry', 'research_orgs', 'researchers', 'score', 'start_date', 'study_arms', 'study_designs', 'study_eligibility_criteria', 'study_maximum_age', 'study_minimum_age', 'study_outcome_measures', 'study_participants', 'study_type', 'title'])\n",
      "dict_keys(['abstract', 'active_years', 'brief_title', 'category_bra', 'category_for', 'category_for_2020', 'category_hra', 'category_hrcs_hc', 'category_hrcs_rac', 'category_rcdc', 'conditions', 'date', 'date_inserted', 'dimensions_url', 'end_date', 'funder_countries', 'funders', 'gender', 'id', 'interventions', 'investigators', 'linkout', 'mesh_terms', 'phase', 'registry', 'research_orgs', 'researchers', 'score', 'start_date', 'study_arms', 'study_designs', 'study_eligibility_criteria', 'study_maximum_age', 'study_minimum_age', 'study_outcome_measures', 'study_participants', 'study_type', 'title'])\n",
      "dict_keys(['abstract', 'active_years', 'brief_title', 'category_bra', 'category_for', 'category_for_2020', 'category_hra', 'category_hrcs_hc', 'category_hrcs_rac', 'category_rcdc', 'conditions', 'date', 'date_inserted', 'dimensions_url', 'end_date', 'gender', 'id', 'interventions', 'investigators', 'linkout', 'mesh_terms', 'phase', 'registry', 'research_orgs', 'researchers', 'score', 'start_date', 'study_arms', 'study_designs', 'study_eligibility_criteria', 'study_maximum_age', 'study_minimum_age', 'study_outcome_measures', 'study_participants', 'study_type', 'title'])\n",
      "dict_keys(['abstract', 'active_years', 'brief_title', 'category_bra', 'category_for', 'category_for_2020', 'category_hra', 'category_hrcs_rac', 'category_rcdc', 'conditions', 'date', 'date_inserted', 'dimensions_url', 'end_date', 'gender', 'id', 'interventions', 'investigators', 'linkout', 'mesh_terms', 'phase', 'registry', 'research_orgs', 'researchers', 'score', 'start_date', 'study_arms', 'study_designs', 'study_eligibility_criteria', 'study_maximum_age', 'study_minimum_age', 'study_outcome_measures', 'study_participants', 'study_type', 'title'])\n",
      "dict_keys(['abstract', 'acronym', 'active_years', 'altmetric', 'brief_title', 'category_bra', 'category_for', 'category_for_2020', 'category_hra', 'category_hrcs_hc', 'category_hrcs_rac', 'category_icrp_cso', 'category_icrp_ct', 'category_rcdc', 'conditions', 'date', 'date_inserted', 'dimensions_url', 'end_date', 'funder_countries', 'funders', 'gender', 'id', 'interventions', 'investigators', 'linkout', 'mesh_terms', 'phase', 'registry', 'research_orgs', 'researchers', 'score', 'start_date', 'study_arms', 'study_designs', 'study_eligibility_criteria', 'study_maximum_age', 'study_minimum_age', 'study_outcome_measures', 'study_participants', 'study_type', 'title'])\n",
      "dict_keys(['abstract', 'active_years', 'altmetric', 'brief_title', 'category_bra', 'category_for', 'category_for_2020', 'category_hra', 'category_hrcs_hc', 'category_hrcs_rac', 'category_icrp_cso', 'category_icrp_ct', 'category_rcdc', 'conditions', 'date', 'date_inserted', 'dimensions_url', 'end_date', 'funder_countries', 'funders', 'gender', 'id', 'interventions', 'investigators', 'linkout', 'mesh_terms', 'phase', 'registry', 'research_orgs', 'researchers', 'score', 'start_date', 'study_arms', 'study_designs', 'study_eligibility_criteria', 'study_maximum_age', 'study_minimum_age', 'study_outcome_measures', 'study_participants', 'study_type', 'title'])\n",
      "dict_keys(['abstract', 'active_years', 'altmetric', 'associated_grant_ids', 'brief_title', 'category_bra', 'category_for', 'category_for_2020', 'category_hra', 'category_hrcs_hc', 'category_hrcs_rac', 'category_rcdc', 'conditions', 'date', 'date_inserted', 'dimensions_url', 'end_date', 'funder_countries', 'funders', 'gender', 'id', 'interventions', 'investigators', 'linkout', 'mesh_terms', 'phase', 'publication_ids', 'publications', 'registry', 'research_orgs', 'researchers', 'score', 'start_date', 'study_arms', 'study_designs', 'study_eligibility_criteria', 'study_maximum_age', 'study_minimum_age', 'study_outcome_measures', 'study_participants', 'study_type', 'title'])\n",
      "dict_keys(['abstract', 'active_years', 'brief_title', 'category_bra', 'category_for', 'category_for_2020', 'category_hra', 'category_hrcs_hc', 'category_hrcs_rac', 'category_rcdc', 'conditions', 'date', 'date_inserted', 'dimensions_url', 'end_date', 'funder_countries', 'funders', 'gender', 'id', 'interventions', 'investigators', 'linkout', 'mesh_terms', 'phase', 'registry', 'research_orgs', 'researchers', 'score', 'start_date', 'study_arms', 'study_designs', 'study_eligibility_criteria', 'study_maximum_age', 'study_minimum_age', 'study_outcome_measures', 'study_participants', 'study_type', 'title'])\n",
      "dict_keys(['abstract', 'active_years', 'brief_title', 'category_bra', 'category_for', 'category_for_2020', 'category_hra', 'category_hrcs_rac', 'category_icrp_ct', 'category_rcdc', 'conditions', 'date', 'date_inserted', 'dimensions_url', 'end_date', 'funder_countries', 'funders', 'gender', 'id', 'interventions', 'investigators', 'linkout', 'mesh_terms', 'phase', 'publication_ids', 'publications', 'registry', 'research_orgs', 'researchers', 'score', 'start_date', 'study_arms', 'study_designs', 'study_eligibility_criteria', 'study_maximum_age', 'study_minimum_age', 'study_outcome_measures', 'study_participants', 'study_type', 'title'])\n",
      "dict_keys(['abstract', 'active_years', 'associated_grant_ids', 'brief_title', 'category_bra', 'category_for', 'category_for_2020', 'category_hra', 'category_hrcs_rac', 'category_icrp_cso', 'category_icrp_ct', 'category_rcdc', 'conditions', 'date', 'date_inserted', 'dimensions_url', 'end_date', 'funder_countries', 'funders', 'gender', 'id', 'interventions', 'investigators', 'linkout', 'mesh_terms', 'phase', 'registry', 'research_orgs', 'researchers', 'score', 'start_date', 'study_arms', 'study_designs', 'study_eligibility_criteria', 'study_maximum_age', 'study_minimum_age', 'study_outcome_measures', 'study_participants', 'study_type', 'title'])\n",
      "dict_keys(['abstract', 'active_years', 'associated_grant_ids', 'brief_title', 'category_bra', 'category_for', 'category_for_2020', 'category_rcdc', 'conditions', 'date', 'date_inserted', 'dimensions_url', 'end_date', 'funder_countries', 'funders', 'gender', 'id', 'interventions', 'investigators', 'linkout', 'mesh_terms', 'phase', 'registry', 'research_orgs', 'researchers', 'score', 'start_date', 'study_arms', 'study_designs', 'study_eligibility_criteria', 'study_maximum_age', 'study_minimum_age', 'study_outcome_measures', 'study_participants', 'study_type', 'title'])\n",
      "dict_keys(['abstract', 'active_years', 'altmetric', 'associated_grant_ids', 'brief_title', 'category_bra', 'category_for', 'category_for_2020', 'category_hra', 'category_hrcs_hc', 'category_hrcs_rac', 'category_icrp_cso', 'category_icrp_ct', 'category_rcdc', 'conditions', 'date', 'date_inserted', 'dimensions_url', 'end_date', 'funder_countries', 'funders', 'gender', 'id', 'interventions', 'investigators', 'linkout', 'mesh_terms', 'phase', 'registry', 'research_orgs', 'researchers', 'score', 'start_date', 'study_arms', 'study_designs', 'study_eligibility_criteria', 'study_maximum_age', 'study_minimum_age', 'study_outcome_measures', 'study_participants', 'study_type', 'title'])\n",
      "dict_keys(['abstract', 'acronym', 'active_years', 'altmetric', 'brief_title', 'category_bra', 'category_for', 'category_for_2020', 'category_hra', 'category_hrcs_hc', 'category_hrcs_rac', 'category_rcdc', 'conditions', 'date', 'date_inserted', 'dimensions_url', 'end_date', 'funder_countries', 'funders', 'gender', 'id', 'interventions', 'investigators', 'linkout', 'mesh_terms', 'phase', 'publication_ids', 'publications', 'registry', 'research_orgs', 'researchers', 'score', 'start_date', 'study_arms', 'study_designs', 'study_eligibility_criteria', 'study_maximum_age', 'study_minimum_age', 'study_outcome_measures', 'study_participants', 'study_type', 'title'])\n",
      "dict_keys(['abstract', 'acronym', 'active_years', 'brief_title', 'category_bra', 'category_for', 'category_for_2020', 'category_hra', 'category_hrcs_rac', 'category_rcdc', 'conditions', 'date', 'date_inserted', 'dimensions_url', 'end_date', 'funder_countries', 'funders', 'gender', 'id', 'interventions', 'investigators', 'linkout', 'mesh_terms', 'phase', 'registry', 'research_orgs', 'researchers', 'score', 'start_date', 'study_arms', 'study_designs', 'study_eligibility_criteria', 'study_maximum_age', 'study_minimum_age', 'study_outcome_measures', 'study_participants', 'study_type', 'title'])\n",
      "dict_keys(['abstract', 'active_years', 'altmetric', 'associated_grant_ids', 'brief_title', 'category_bra', 'category_for', 'category_for_2020', 'category_hrcs_hc', 'category_hrcs_rac', 'category_rcdc', 'conditions', 'date', 'date_inserted', 'dimensions_url', 'end_date', 'funder_countries', 'funders', 'gender', 'id', 'investigators', 'linkout', 'phase', 'registry', 'research_orgs', 'researchers', 'score', 'start_date', 'study_arms', 'study_designs', 'study_eligibility_criteria', 'study_maximum_age', 'study_minimum_age', 'study_outcome_measures', 'study_participants', 'study_type', 'title'])\n",
      "dict_keys(['abstract', 'acronym', 'active_years', 'brief_title', 'category_bra', 'category_for', 'category_for_2020', 'category_hra', 'category_hrcs_hc', 'category_hrcs_rac', 'category_rcdc', 'conditions', 'date', 'date_inserted', 'dimensions_url', 'end_date', 'funder_countries', 'funders', 'gender', 'id', 'investigators', 'linkout', 'phase', 'registry', 'research_orgs', 'researchers', 'score', 'start_date', 'study_designs', 'study_eligibility_criteria', 'study_maximum_age', 'study_minimum_age', 'study_outcome_measures', 'study_participants', 'study_type', 'title'])\n",
      "dict_keys(['abstract', 'active_years', 'brief_title', 'category_bra', 'category_for', 'category_for_2020', 'category_hra', 'category_hrcs_hc', 'category_hrcs_rac', 'category_rcdc', 'conditions', 'date', 'date_inserted', 'dimensions_url', 'end_date', 'funder_countries', 'funders', 'gender', 'id', 'investigators', 'linkout', 'mesh_terms', 'phase', 'registry', 'research_orgs', 'researchers', 'score', 'start_date', 'study_designs', 'study_eligibility_criteria', 'study_maximum_age', 'study_minimum_age', 'study_outcome_measures', 'study_participants', 'study_type', 'title'])\n",
      "dict_keys(['abstract', 'active_years', 'brief_title', 'category_bra', 'category_for', 'category_for_2020', 'category_hra', 'category_hrcs_hc', 'category_rcdc', 'conditions', 'date', 'date_inserted', 'dimensions_url', 'end_date', 'funder_countries', 'funders', 'gender', 'id', 'interventions', 'investigators', 'linkout', 'mesh_terms', 'phase', 'publication_ids', 'publications', 'registry', 'research_orgs', 'researchers', 'score', 'start_date', 'study_arms', 'study_designs', 'study_eligibility_criteria', 'study_maximum_age', 'study_minimum_age', 'study_outcome_measures', 'study_participants', 'study_type', 'title'])\n",
      "dict_keys(['abstract', 'active_years', 'brief_title', 'category_bra', 'category_for', 'category_for_2020', 'category_hra', 'category_hrcs_rac', 'category_rcdc', 'conditions', 'date', 'date_inserted', 'dimensions_url', 'end_date', 'funder_countries', 'funders', 'gender', 'id', 'interventions', 'investigators', 'linkout', 'mesh_terms', 'phase', 'registry', 'research_orgs', 'researchers', 'score', 'start_date', 'study_arms', 'study_designs', 'study_eligibility_criteria', 'study_maximum_age', 'study_minimum_age', 'study_outcome_measures', 'study_participants', 'study_type', 'title'])\n",
      "dict_keys(['abstract', 'acronym', 'active_years', 'brief_title', 'category_bra', 'category_for', 'category_for_2020', 'category_hra', 'category_hrcs_hc', 'category_hrcs_rac', 'category_rcdc', 'conditions', 'date', 'date_inserted', 'dimensions_url', 'end_date', 'funder_countries', 'funders', 'gender', 'id', 'interventions', 'investigators', 'linkout', 'mesh_terms', 'phase', 'publication_ids', 'publications', 'registry', 'research_orgs', 'researchers', 'score', 'start_date', 'study_arms', 'study_designs', 'study_eligibility_criteria', 'study_maximum_age', 'study_minimum_age', 'study_outcome_measures', 'study_participants', 'study_type', 'title'])\n",
      "dict_keys(['abstract', 'acronym', 'active_years', 'altmetric', 'brief_title', 'category_bra', 'category_for', 'category_for_2020', 'category_hra', 'category_hrcs_hc', 'category_hrcs_rac', 'category_rcdc', 'conditions', 'date', 'date_inserted', 'dimensions_url', 'end_date', 'gender', 'id', 'interventions', 'investigators', 'linkout', 'phase', 'registry', 'research_orgs', 'researchers', 'score', 'start_date', 'study_arms', 'study_designs', 'study_eligibility_criteria', 'study_maximum_age', 'study_minimum_age', 'study_outcome_measures', 'study_participants', 'study_type', 'title'])\n",
      "dict_keys(['abstract', 'acronym', 'active_years', 'brief_title', 'category_bra', 'category_for', 'category_for_2020', 'category_hra', 'category_hrcs_rac', 'category_rcdc', 'conditions', 'date', 'date_inserted', 'dimensions_url', 'end_date', 'funder_countries', 'funders', 'gender', 'id', 'interventions', 'investigators', 'linkout', 'mesh_terms', 'phase', 'registry', 'research_orgs', 'researchers', 'score', 'start_date', 'study_arms', 'study_designs', 'study_eligibility_criteria', 'study_maximum_age', 'study_minimum_age', 'study_outcome_measures', 'study_participants', 'study_type', 'title'])\n",
      "dict_keys(['abstract', 'active_years', 'brief_title', 'category_bra', 'category_for', 'category_for_2020', 'category_hra', 'category_hrcs_hc', 'category_rcdc', 'conditions', 'date', 'date_inserted', 'dimensions_url', 'end_date', 'funder_countries', 'funders', 'gender', 'id', 'interventions', 'investigators', 'linkout', 'mesh_terms', 'phase', 'registry', 'research_orgs', 'researchers', 'score', 'start_date', 'study_arms', 'study_designs', 'study_eligibility_criteria', 'study_maximum_age', 'study_minimum_age', 'study_outcome_measures', 'study_participants', 'study_type', 'title'])\n",
      "dict_keys(['abstract', 'active_years', 'altmetric', 'brief_title', 'category_bra', 'category_for', 'category_for_2020', 'category_hra', 'category_hrcs_hc', 'category_hrcs_rac', 'category_rcdc', 'conditions', 'date', 'date_inserted', 'dimensions_url', 'end_date', 'funder_countries', 'funders', 'gender', 'id', 'interventions', 'investigators', 'linkout', 'mesh_terms', 'phase', 'registry', 'research_orgs', 'researchers', 'score', 'start_date', 'study_designs', 'study_eligibility_criteria', 'study_maximum_age', 'study_minimum_age', 'study_outcome_measures', 'study_participants', 'study_type', 'title'])\n",
      "dict_keys(['abstract', 'active_years', 'brief_title', 'category_bra', 'category_for', 'category_for_2020', 'category_hra', 'category_hrcs_rac', 'category_rcdc', 'conditions', 'date', 'date_inserted', 'dimensions_url', 'end_date', 'funder_countries', 'funders', 'gender', 'id', 'interventions', 'investigators', 'linkout', 'mesh_terms', 'phase', 'registry', 'research_orgs', 'researchers', 'score', 'start_date', 'study_designs', 'study_eligibility_criteria', 'study_maximum_age', 'study_minimum_age', 'study_outcome_measures', 'study_participants', 'study_type', 'title'])\n",
      "dict_keys(['abstract', 'brief_title', 'category_bra', 'category_for', 'category_for_2020', 'category_hra', 'category_hrcs_hc', 'category_hrcs_rac', 'category_rcdc', 'conditions', 'date_inserted', 'dimensions_url', 'funder_countries', 'funders', 'gender', 'id', 'interventions', 'investigators', 'linkout', 'mesh_terms', 'phase', 'registry', 'research_orgs', 'researchers', 'score', 'study_designs', 'study_eligibility_criteria', 'study_maximum_age', 'study_minimum_age', 'study_participants', 'study_type', 'title'])\n",
      "dict_keys(['abstract', 'active_years', 'brief_title', 'category_bra', 'category_for', 'category_for_2020', 'category_hrcs_hc', 'category_hrcs_rac', 'category_icrp_ct', 'category_rcdc', 'conditions', 'date', 'date_inserted', 'dimensions_url', 'end_date', 'funder_countries', 'funders', 'gender', 'id', 'interventions', 'investigators', 'linkout', 'mesh_terms', 'phase', 'registry', 'research_orgs', 'researchers', 'score', 'start_date', 'study_arms', 'study_designs', 'study_eligibility_criteria', 'study_maximum_age', 'study_minimum_age', 'study_outcome_measures', 'study_participants', 'study_type', 'title'])\n",
      "dict_keys(['abstract', 'active_years', 'associated_grant_ids', 'brief_title', 'category_bra', 'category_for', 'category_for_2020', 'category_hra', 'category_hrcs_hc', 'category_hrcs_rac', 'category_icrp_cso', 'category_icrp_ct', 'category_rcdc', 'conditions', 'date', 'date_inserted', 'dimensions_url', 'end_date', 'funder_countries', 'funders', 'gender', 'id', 'investigators', 'linkout', 'mesh_terms', 'phase', 'registry', 'research_orgs', 'researchers', 'score', 'start_date', 'study_eligibility_criteria', 'study_maximum_age', 'study_minimum_age', 'study_outcome_measures', 'study_participants', 'study_type', 'title'])\n",
      "dict_keys(['abstract', 'active_years', 'altmetric', 'brief_title', 'category_bra', 'category_for', 'category_for_2020', 'category_hra', 'category_hrcs_hc', 'category_hrcs_rac', 'category_rcdc', 'conditions', 'date', 'date_inserted', 'dimensions_url', 'end_date', 'funder_countries', 'funders', 'gender', 'id', 'investigators', 'linkout', 'mesh_terms', 'phase', 'registry', 'research_orgs', 'researchers', 'score', 'start_date', 'study_arms', 'study_designs', 'study_eligibility_criteria', 'study_maximum_age', 'study_minimum_age', 'study_outcome_measures', 'study_participants', 'study_type', 'title'])\n",
      "dict_keys(['abstract', 'active_years', 'associated_grant_ids', 'brief_title', 'category_bra', 'category_for', 'category_for_2020', 'category_hra', 'category_hrcs_hc', 'category_hrcs_rac', 'category_rcdc', 'conditions', 'date', 'date_inserted', 'dimensions_url', 'end_date', 'funder_countries', 'funders', 'gender', 'id', 'investigators', 'linkout', 'mesh_terms', 'phase', 'registry', 'research_orgs', 'researchers', 'score', 'start_date', 'study_arms', 'study_designs', 'study_eligibility_criteria', 'study_maximum_age', 'study_minimum_age', 'study_participants', 'study_type', 'title'])\n",
      "dict_keys(['abstract', 'acronym', 'active_years', 'altmetric', 'brief_title', 'category_bra', 'category_for', 'category_for_2020', 'category_hra', 'category_hrcs_hc', 'category_hrcs_rac', 'category_rcdc', 'conditions', 'date', 'date_inserted', 'dimensions_url', 'end_date', 'funder_countries', 'funders', 'gender', 'id', 'investigators', 'linkout', 'mesh_terms', 'phase', 'registry', 'research_orgs', 'researchers', 'score', 'start_date', 'study_designs', 'study_eligibility_criteria', 'study_maximum_age', 'study_minimum_age', 'study_outcome_measures', 'study_participants', 'study_type', 'title'])\n",
      "dict_keys(['abstract', 'acronym', 'active_years', 'brief_title', 'category_bra', 'category_for', 'category_for_2020', 'category_hra', 'category_hrcs_hc', 'category_hrcs_rac', 'category_icrp_ct', 'category_rcdc', 'conditions', 'date', 'date_inserted', 'dimensions_url', 'end_date', 'funder_countries', 'funders', 'gender', 'id', 'investigators', 'linkout', 'phase', 'publication_ids', 'publications', 'registry', 'research_orgs', 'researchers', 'score', 'start_date', 'study_arms', 'study_designs', 'study_eligibility_criteria', 'study_maximum_age', 'study_minimum_age', 'study_outcome_measures', 'study_participants', 'study_type', 'title'])\n",
      "dict_keys(['abstract', 'active_years', 'brief_title', 'category_bra', 'category_for', 'category_for_2020', 'category_hra', 'category_hrcs_hc', 'category_hrcs_rac', 'category_icrp_cso', 'category_icrp_ct', 'category_rcdc', 'conditions', 'date', 'date_inserted', 'dimensions_url', 'end_date', 'funder_countries', 'funders', 'gender', 'id', 'investigators', 'linkout', 'mesh_terms', 'phase', 'publication_ids', 'publications', 'registry', 'research_orgs', 'researchers', 'score', 'start_date', 'study_eligibility_criteria', 'study_maximum_age', 'study_minimum_age', 'study_participants', 'study_type', 'title'])\n",
      "dict_keys(['abstract', 'active_years', 'altmetric', 'brief_title', 'category_bra', 'category_for', 'category_for_2020', 'category_hra', 'category_hrcs_rac', 'category_icrp_cso', 'category_icrp_ct', 'category_rcdc', 'conditions', 'date', 'date_inserted', 'dimensions_url', 'end_date', 'funder_countries', 'funders', 'gender', 'id', 'investigators', 'linkout', 'mesh_terms', 'phase', 'publication_ids', 'publications', 'registry', 'research_orgs', 'researchers', 'score', 'start_date', 'study_arms', 'study_designs', 'study_eligibility_criteria', 'study_maximum_age', 'study_minimum_age', 'study_outcome_measures', 'study_participants', 'study_type', 'title'])\n",
      "dict_keys(['abstract', 'brief_title', 'category_bra', 'category_for', 'category_for_2020', 'category_hra', 'category_hrcs_hc', 'category_hrcs_rac', 'category_icrp_ct', 'category_rcdc', 'conditions', 'date', 'date_inserted', 'dimensions_url', 'funder_countries', 'funders', 'gender', 'id', 'interventions', 'investigators', 'linkout', 'phase', 'publication_ids', 'publications', 'registry', 'research_orgs', 'researchers', 'score', 'start_date', 'study_arms', 'study_designs', 'study_eligibility_criteria', 'study_maximum_age', 'study_minimum_age', 'study_outcome_measures', 'study_participants', 'study_type', 'title'])\n",
      "dict_keys(['abstract', 'altmetric', 'brief_title', 'category_bra', 'category_for', 'category_for_2020', 'category_hra', 'category_hrcs_hc', 'category_hrcs_rac', 'category_icrp_cso', 'category_icrp_ct', 'category_rcdc', 'conditions', 'date', 'date_inserted', 'dimensions_url', 'funder_countries', 'funders', 'gender', 'id', 'interventions', 'investigators', 'linkout', 'mesh_terms', 'phase', 'publication_ids', 'publications', 'registry', 'research_orgs', 'researchers', 'score', 'start_date', 'study_arms', 'study_designs', 'study_eligibility_criteria', 'study_maximum_age', 'study_minimum_age', 'study_outcome_measures', 'study_participants', 'study_type', 'title'])\n",
      "dict_keys(['abstract', 'active_years', 'altmetric', 'brief_title', 'category_bra', 'category_for', 'category_for_2020', 'category_hra', 'category_hrcs_hc', 'category_hrcs_rac', 'category_rcdc', 'conditions', 'date', 'date_inserted', 'dimensions_url', 'end_date', 'funder_countries', 'funders', 'gender', 'id', 'investigators', 'linkout', 'mesh_terms', 'phase', 'registry', 'research_orgs', 'researchers', 'score', 'start_date', 'study_arms', 'study_designs', 'study_eligibility_criteria', 'study_maximum_age', 'study_minimum_age', 'study_outcome_measures', 'study_participants', 'study_type', 'title'])\n",
      "dict_keys(['abstract', 'acronym', 'active_years', 'associated_grant_ids', 'brief_title', 'category_bra', 'category_for', 'category_for_2020', 'category_hra', 'category_hrcs_hc', 'category_hrcs_rac', 'category_icrp_cso', 'category_icrp_ct', 'category_rcdc', 'conditions', 'date', 'date_inserted', 'dimensions_url', 'end_date', 'funder_countries', 'funders', 'gender', 'id', 'investigators', 'linkout', 'phase', 'registry', 'research_orgs', 'researchers', 'score', 'start_date', 'study_arms', 'study_designs', 'study_eligibility_criteria', 'study_maximum_age', 'study_minimum_age', 'study_outcome_measures', 'study_participants', 'study_type', 'title'])\n",
      "dict_keys(['abstract', 'acronym', 'active_years', 'associated_grant_ids', 'brief_title', 'category_bra', 'category_for', 'category_for_2020', 'category_hra', 'category_hrcs_hc', 'category_hrcs_rac', 'category_icrp_ct', 'category_rcdc', 'conditions', 'date', 'date_inserted', 'dimensions_url', 'end_date', 'funder_countries', 'funders', 'gender', 'id', 'investigators', 'linkout', 'mesh_terms', 'phase', 'registry', 'research_orgs', 'researchers', 'score', 'start_date', 'study_eligibility_criteria', 'study_maximum_age', 'study_minimum_age', 'study_outcome_measures', 'study_participants', 'study_type', 'title'])\n",
      "dict_keys(['abstract', 'acronym', 'active_years', 'associated_grant_ids', 'brief_title', 'category_bra', 'category_for', 'category_for_2020', 'category_hra', 'category_hrcs_hc', 'category_hrcs_rac', 'category_icrp_ct', 'category_rcdc', 'conditions', 'date', 'date_inserted', 'dimensions_url', 'end_date', 'funder_countries', 'funders', 'gender', 'id', 'investigators', 'linkout', 'mesh_terms', 'phase', 'registry', 'research_orgs', 'researchers', 'score', 'start_date', 'study_arms', 'study_designs', 'study_eligibility_criteria', 'study_maximum_age', 'study_minimum_age', 'study_outcome_measures', 'study_participants', 'study_type', 'title'])\n",
      "dict_keys(['abstract', 'acronym', 'active_years', 'associated_grant_ids', 'brief_title', 'category_bra', 'category_for', 'category_for_2020', 'category_hra', 'category_hrcs_hc', 'category_rcdc', 'conditions', 'date', 'date_inserted', 'dimensions_url', 'end_date', 'funder_countries', 'funders', 'gender', 'id', 'interventions', 'investigators', 'linkout', 'mesh_terms', 'phase', 'registry', 'research_orgs', 'researchers', 'score', 'start_date', 'study_arms', 'study_designs', 'study_eligibility_criteria', 'study_maximum_age', 'study_minimum_age', 'study_outcome_measures', 'study_participants', 'study_type', 'title'])\n",
      "dict_keys(['abstract', 'acronym', 'active_years', 'altmetric', 'brief_title', 'category_bra', 'category_for', 'category_for_2020', 'category_hra', 'category_hrcs_rac', 'category_rcdc', 'conditions', 'date', 'date_inserted', 'dimensions_url', 'end_date', 'funder_countries', 'funders', 'gender', 'id', 'interventions', 'investigators', 'linkout', 'mesh_terms', 'phase', 'registry', 'research_orgs', 'researchers', 'score', 'start_date', 'study_arms', 'study_designs', 'study_eligibility_criteria', 'study_maximum_age', 'study_minimum_age', 'study_outcome_measures', 'study_participants', 'study_type', 'title'])\n",
      "dict_keys(['abstract', 'acronym', 'active_years', 'altmetric', 'associated_grant_ids', 'brief_title', 'category_bra', 'category_for', 'category_for_2020', 'category_hra', 'category_hrcs_rac', 'category_rcdc', 'conditions', 'date', 'date_inserted', 'dimensions_url', 'end_date', 'funder_countries', 'funders', 'gender', 'id', 'interventions', 'investigators', 'linkout', 'mesh_terms', 'phase', 'registry', 'research_orgs', 'researchers', 'score', 'start_date', 'study_arms', 'study_designs', 'study_eligibility_criteria', 'study_maximum_age', 'study_minimum_age', 'study_outcome_measures', 'study_participants', 'study_type', 'title'])\n",
      "dict_keys(['abstract', 'acronym', 'active_years', 'associated_grant_ids', 'brief_title', 'category_bra', 'category_for', 'category_for_2020', 'category_hra', 'category_hrcs_hc', 'category_hrcs_rac', 'category_rcdc', 'conditions', 'date', 'date_inserted', 'dimensions_url', 'end_date', 'funder_countries', 'funders', 'gender', 'id', 'interventions', 'investigators', 'linkout', 'mesh_terms', 'phase', 'publication_ids', 'publications', 'registry', 'research_orgs', 'researchers', 'score', 'start_date', 'study_arms', 'study_designs', 'study_eligibility_criteria', 'study_maximum_age', 'study_minimum_age', 'study_outcome_measures', 'study_participants', 'study_type', 'title'])\n",
      "dict_keys(['abstract', 'active_years', 'brief_title', 'category_bra', 'category_for', 'category_for_2020', 'category_hra', 'category_rcdc', 'conditions', 'date', 'date_inserted', 'dimensions_url', 'end_date', 'funder_countries', 'funders', 'gender', 'id', 'investigators', 'linkout', 'mesh_terms', 'phase', 'registry', 'research_orgs', 'researchers', 'score', 'start_date', 'study_arms', 'study_designs', 'study_eligibility_criteria', 'study_maximum_age', 'study_minimum_age', 'study_participants', 'study_type', 'title'])\n",
      "dict_keys(['abstract', 'active_years', 'associated_grant_ids', 'brief_title', 'category_bra', 'category_for', 'category_for_2020', 'category_hra', 'category_hrcs_hc', 'category_hrcs_rac', 'category_rcdc', 'conditions', 'date', 'date_inserted', 'dimensions_url', 'end_date', 'funder_countries', 'funders', 'gender', 'id', 'interventions', 'investigators', 'linkout', 'mesh_terms', 'phase', 'publication_ids', 'publications', 'registry', 'research_orgs', 'researchers', 'score', 'start_date', 'study_arms', 'study_designs', 'study_eligibility_criteria', 'study_maximum_age', 'study_minimum_age', 'study_outcome_measures', 'study_participants', 'study_type', 'title'])\n",
      "dict_keys(['abstract', 'active_years', 'associated_grant_ids', 'brief_title', 'category_bra', 'category_for', 'category_for_2020', 'category_hra', 'category_hrcs_hc', 'category_hrcs_rac', 'category_rcdc', 'conditions', 'date', 'date_inserted', 'dimensions_url', 'end_date', 'funder_countries', 'funders', 'gender', 'id', 'interventions', 'investigators', 'linkout', 'mesh_terms', 'phase', 'registry', 'research_orgs', 'researchers', 'score', 'start_date', 'study_arms', 'study_designs', 'study_eligibility_criteria', 'study_maximum_age', 'study_minimum_age', 'study_outcome_measures', 'study_participants', 'study_type', 'title'])\n",
      "dict_keys(['abstract', 'active_years', 'brief_title', 'category_bra', 'category_for', 'category_for_2020', 'category_hra', 'category_hrcs_hc', 'category_hrcs_rac', 'category_icrp_cso', 'category_icrp_ct', 'category_rcdc', 'conditions', 'date', 'date_inserted', 'dimensions_url', 'end_date', 'gender', 'id', 'interventions', 'investigators', 'linkout', 'mesh_terms', 'phase', 'registry', 'research_orgs', 'researchers', 'score', 'start_date', 'study_arms', 'study_designs', 'study_eligibility_criteria', 'study_maximum_age', 'study_minimum_age', 'study_outcome_measures', 'study_participants', 'study_type', 'title'])\n",
      "dict_keys(['abstract', 'active_years', 'brief_title', 'category_bra', 'category_for', 'category_for_2020', 'category_hra', 'category_hrcs_hc', 'category_hrcs_rac', 'category_icrp_cso', 'category_icrp_ct', 'category_rcdc', 'conditions', 'date', 'date_inserted', 'dimensions_url', 'end_date', 'gender', 'id', 'interventions', 'investigators', 'linkout', 'mesh_terms', 'phase', 'registry', 'research_orgs', 'researchers', 'score', 'start_date', 'study_arms', 'study_designs', 'study_eligibility_criteria', 'study_maximum_age', 'study_minimum_age', 'study_outcome_measures', 'study_participants', 'study_type', 'title'])\n",
      "dict_keys(['abstract', 'active_years', 'altmetric', 'brief_title', 'category_bra', 'category_for', 'category_for_2020', 'category_hra', 'category_hrcs_hc', 'category_hrcs_rac', 'category_icrp_cso', 'category_icrp_ct', 'category_rcdc', 'conditions', 'date', 'date_inserted', 'dimensions_url', 'end_date', 'funder_countries', 'funders', 'gender', 'id', 'interventions', 'investigators', 'linkout', 'mesh_terms', 'phase', 'registry', 'research_orgs', 'researchers', 'score', 'start_date', 'study_arms', 'study_designs', 'study_eligibility_criteria', 'study_maximum_age', 'study_minimum_age', 'study_outcome_measures', 'study_participants', 'study_type', 'title'])\n",
      "dict_keys(['abstract', 'acronym', 'active_years', 'brief_title', 'category_bra', 'category_for', 'category_for_2020', 'category_hra', 'category_hrcs_hc', 'category_hrcs_rac', 'category_icrp_cso', 'category_icrp_ct', 'category_rcdc', 'conditions', 'date', 'date_inserted', 'dimensions_url', 'end_date', 'gender', 'id', 'interventions', 'investigators', 'linkout', 'mesh_terms', 'phase', 'registry', 'research_orgs', 'researchers', 'score', 'start_date', 'study_arms', 'study_designs', 'study_eligibility_criteria', 'study_maximum_age', 'study_minimum_age', 'study_outcome_measures', 'study_participants', 'study_type', 'title'])\n",
      "dict_keys(['abstract', 'active_years', 'brief_title', 'category_bra', 'category_for', 'category_for_2020', 'category_hra', 'category_hrcs_hc', 'category_hrcs_rac', 'category_icrp_cso', 'category_icrp_ct', 'category_rcdc', 'conditions', 'date', 'date_inserted', 'dimensions_url', 'end_date', 'gender', 'id', 'interventions', 'investigators', 'linkout', 'mesh_terms', 'phase', 'registry', 'research_orgs', 'researchers', 'score', 'start_date', 'study_arms', 'study_designs', 'study_eligibility_criteria', 'study_maximum_age', 'study_minimum_age', 'study_outcome_measures', 'study_participants', 'study_type', 'title'])\n",
      "dict_keys(['abstract', 'active_years', 'altmetric', 'brief_title', 'category_bra', 'category_for', 'category_for_2020', 'category_hra', 'category_hrcs_hc', 'category_hrcs_rac', 'category_icrp_cso', 'category_icrp_ct', 'category_rcdc', 'conditions', 'date', 'date_inserted', 'dimensions_url', 'end_date', 'funder_countries', 'funders', 'gender', 'id', 'interventions', 'investigators', 'linkout', 'mesh_terms', 'phase', 'registry', 'research_orgs', 'researchers', 'score', 'start_date', 'study_arms', 'study_designs', 'study_eligibility_criteria', 'study_maximum_age', 'study_minimum_age', 'study_outcome_measures', 'study_participants', 'study_type', 'title'])\n",
      "dict_keys(['abstract', 'acronym', 'active_years', 'brief_title', 'category_bra', 'category_for', 'category_for_2020', 'category_hra', 'category_hrcs_hc', 'category_hrcs_rac', 'category_icrp_cso', 'category_icrp_ct', 'category_rcdc', 'conditions', 'date', 'date_inserted', 'dimensions_url', 'end_date', 'funder_countries', 'funders', 'gender', 'id', 'interventions', 'investigators', 'linkout', 'mesh_terms', 'phase', 'registry', 'research_orgs', 'researchers', 'score', 'start_date', 'study_arms', 'study_designs', 'study_eligibility_criteria', 'study_maximum_age', 'study_minimum_age', 'study_outcome_measures', 'study_participants', 'study_type', 'title'])\n",
      "dict_keys(['abstract', 'acronym', 'active_years', 'brief_title', 'category_bra', 'category_for', 'category_for_2020', 'category_hra', 'category_hrcs_hc', 'category_hrcs_rac', 'category_icrp_ct', 'category_rcdc', 'conditions', 'date', 'date_inserted', 'dimensions_url', 'end_date', 'funder_countries', 'funders', 'gender', 'id', 'interventions', 'investigators', 'linkout', 'mesh_terms', 'phase', 'registry', 'research_orgs', 'researchers', 'score', 'start_date', 'study_arms', 'study_designs', 'study_eligibility_criteria', 'study_maximum_age', 'study_minimum_age', 'study_outcome_measures', 'study_participants', 'study_type', 'title'])\n",
      "dict_keys(['abstract', 'acronym', 'active_years', 'associated_grant_ids', 'brief_title', 'category_bra', 'category_for', 'category_for_2020', 'category_hra', 'category_hrcs_hc', 'category_hrcs_rac', 'category_rcdc', 'conditions', 'date', 'date_inserted', 'dimensions_url', 'end_date', 'funder_countries', 'funders', 'gender', 'id', 'interventions', 'investigators', 'linkout', 'mesh_terms', 'phase', 'registry', 'research_orgs', 'researchers', 'score', 'start_date', 'study_arms', 'study_designs', 'study_eligibility_criteria', 'study_maximum_age', 'study_minimum_age', 'study_outcome_measures', 'study_participants', 'study_type', 'title'])\n",
      "dict_keys(['abstract', 'active_years', 'altmetric', 'associated_grant_ids', 'brief_title', 'category_bra', 'category_for', 'category_for_2020', 'category_hra', 'category_hrcs_hc', 'category_hrcs_rac', 'category_rcdc', 'conditions', 'date', 'date_inserted', 'dimensions_url', 'end_date', 'funder_countries', 'funders', 'gender', 'id', 'interventions', 'investigators', 'linkout', 'mesh_terms', 'phase', 'registry', 'research_orgs', 'researchers', 'score', 'start_date', 'study_arms', 'study_designs', 'study_eligibility_criteria', 'study_maximum_age', 'study_minimum_age', 'study_outcome_measures', 'study_participants', 'study_type', 'title'])\n",
      "dict_keys(['abstract', 'acronym', 'active_years', 'brief_title', 'category_bra', 'category_for', 'category_for_2020', 'category_hra', 'category_hrcs_hc', 'category_hrcs_rac', 'category_rcdc', 'conditions', 'date', 'date_inserted', 'dimensions_url', 'end_date', 'funder_countries', 'funders', 'gender', 'id', 'interventions', 'investigators', 'linkout', 'mesh_terms', 'phase', 'registry', 'research_orgs', 'researchers', 'score', 'start_date', 'study_arms', 'study_designs', 'study_eligibility_criteria', 'study_maximum_age', 'study_minimum_age', 'study_outcome_measures', 'study_participants', 'study_type', 'title'])\n",
      "dict_keys(['abstract', 'active_years', 'associated_grant_ids', 'brief_title', 'category_bra', 'category_for', 'category_for_2020', 'category_hra', 'category_hrcs_hc', 'category_rcdc', 'conditions', 'date', 'date_inserted', 'dimensions_url', 'end_date', 'funder_countries', 'funders', 'gender', 'id', 'investigators', 'linkout', 'mesh_terms', 'phase', 'registry', 'research_orgs', 'researchers', 'score', 'start_date', 'study_designs', 'study_eligibility_criteria', 'study_maximum_age', 'study_minimum_age', 'study_outcome_measures', 'study_participants', 'study_type', 'title'])\n",
      "dict_keys(['abstract', 'active_years', 'associated_grant_ids', 'brief_title', 'category_bra', 'category_for', 'category_for_2020', 'category_hra', 'category_hrcs_hc', 'category_rcdc', 'conditions', 'date', 'date_inserted', 'dimensions_url', 'end_date', 'funder_countries', 'funders', 'gender', 'id', 'investigators', 'linkout', 'mesh_terms', 'phase', 'publication_ids', 'publications', 'registry', 'research_orgs', 'researchers', 'score', 'start_date', 'study_designs', 'study_eligibility_criteria', 'study_maximum_age', 'study_minimum_age', 'study_outcome_measures', 'study_participants', 'study_type', 'title'])\n",
      "dict_keys(['abstract', 'active_years', 'brief_title', 'category_bra', 'category_for', 'category_for_2020', 'category_hrcs_hc', 'category_hrcs_rac', 'category_icrp_cso', 'category_icrp_ct', 'category_rcdc', 'conditions', 'date', 'date_inserted', 'dimensions_url', 'end_date', 'gender', 'id', 'interventions', 'investigators', 'linkout', 'mesh_terms', 'phase', 'registry', 'research_orgs', 'researchers', 'score', 'start_date', 'study_arms', 'study_designs', 'study_eligibility_criteria', 'study_maximum_age', 'study_minimum_age', 'study_outcome_measures', 'study_participants', 'study_type', 'title'])\n",
      "dict_keys(['abstract', 'acronym', 'active_years', 'brief_title', 'category_bra', 'category_for', 'category_for_2020', 'category_hra', 'category_icrp_cso', 'category_icrp_ct', 'category_rcdc', 'conditions', 'date', 'date_inserted', 'dimensions_url', 'end_date', 'gender', 'id', 'interventions', 'investigators', 'linkout', 'mesh_terms', 'phase', 'registry', 'research_orgs', 'researchers', 'score', 'start_date', 'study_arms', 'study_designs', 'study_eligibility_criteria', 'study_maximum_age', 'study_minimum_age', 'study_outcome_measures', 'study_participants', 'study_type', 'title'])\n",
      "dict_keys(['abstract', 'acronym', 'active_years', 'brief_title', 'category_bra', 'category_for', 'category_for_2020', 'category_hra', 'category_hrcs_rac', 'category_icrp_cso', 'category_icrp_ct', 'category_rcdc', 'conditions', 'date', 'date_inserted', 'dimensions_url', 'end_date', 'gender', 'id', 'interventions', 'investigators', 'linkout', 'mesh_terms', 'phase', 'registry', 'research_orgs', 'researchers', 'score', 'start_date', 'study_arms', 'study_designs', 'study_eligibility_criteria', 'study_maximum_age', 'study_minimum_age', 'study_outcome_measures', 'study_participants', 'study_type', 'title'])\n",
      "dict_keys(['abstract', 'acronym', 'active_years', 'altmetric', 'associated_grant_ids', 'brief_title', 'category_bra', 'category_for', 'category_for_2020', 'category_hra', 'category_rcdc', 'conditions', 'date', 'date_inserted', 'dimensions_url', 'end_date', 'funder_countries', 'funders', 'gender', 'id', 'investigators', 'linkout', 'mesh_terms', 'phase', 'publication_ids', 'publications', 'registry', 'research_orgs', 'researchers', 'score', 'start_date', 'study_arms', 'study_designs', 'study_eligibility_criteria', 'study_maximum_age', 'study_minimum_age', 'study_outcome_measures', 'study_participants', 'study_type', 'title'])\n",
      "dict_keys(['abstract', 'acronym', 'active_years', 'brief_title', 'category_bra', 'category_for', 'category_for_2020', 'category_hra', 'category_hrcs_hc', 'category_hrcs_rac', 'category_rcdc', 'conditions', 'date', 'date_inserted', 'dimensions_url', 'end_date', 'funder_countries', 'funders', 'gender', 'id', 'interventions', 'investigators', 'linkout', 'mesh_terms', 'phase', 'registry', 'research_orgs', 'researchers', 'score', 'start_date', 'study_arms', 'study_designs', 'study_eligibility_criteria', 'study_maximum_age', 'study_minimum_age', 'study_outcome_measures', 'study_participants', 'study_type', 'title'])\n",
      "dict_keys(['abstract', 'acronym', 'active_years', 'associated_grant_ids', 'brief_title', 'category_bra', 'category_for', 'category_for_2020', 'category_hra', 'category_hrcs_hc', 'category_rcdc', 'conditions', 'date', 'date_inserted', 'dimensions_url', 'end_date', 'funder_countries', 'funders', 'gender', 'id', 'interventions', 'investigators', 'linkout', 'mesh_terms', 'phase', 'registry', 'research_orgs', 'researchers', 'score', 'start_date', 'study_arms', 'study_designs', 'study_eligibility_criteria', 'study_maximum_age', 'study_minimum_age', 'study_outcome_measures', 'study_participants', 'study_type', 'title'])\n",
      "dict_keys(['abstract', 'active_years', 'associated_grant_ids', 'brief_title', 'category_bra', 'category_for', 'category_for_2020', 'category_hra', 'category_hrcs_rac', 'category_rcdc', 'conditions', 'date', 'date_inserted', 'dimensions_url', 'end_date', 'funder_countries', 'funders', 'gender', 'id', 'interventions', 'investigators', 'linkout', 'mesh_terms', 'phase', 'publication_ids', 'publications', 'registry', 'research_orgs', 'researchers', 'score', 'start_date', 'study_arms', 'study_designs', 'study_eligibility_criteria', 'study_maximum_age', 'study_minimum_age', 'study_outcome_measures', 'study_participants', 'study_type', 'title'])\n",
      "dict_keys(['abstract', 'acronym', 'active_years', 'brief_title', 'category_bra', 'category_for', 'category_for_2020', 'category_hra', 'category_icrp_ct', 'category_rcdc', 'conditions', 'date', 'date_inserted', 'dimensions_url', 'end_date', 'funder_countries', 'funders', 'gender', 'id', 'interventions', 'investigators', 'linkout', 'mesh_terms', 'phase', 'publication_ids', 'publications', 'registry', 'research_orgs', 'researchers', 'score', 'start_date', 'study_arms', 'study_designs', 'study_eligibility_criteria', 'study_maximum_age', 'study_minimum_age', 'study_outcome_measures', 'study_participants', 'study_type', 'title'])\n",
      "dict_keys(['abstract', 'acronym', 'active_years', 'brief_title', 'category_bra', 'category_for', 'category_for_2020', 'category_hra', 'category_hrcs_hc', 'category_rcdc', 'conditions', 'date', 'date_inserted', 'dimensions_url', 'end_date', 'funder_countries', 'funders', 'gender', 'id', 'interventions', 'investigators', 'linkout', 'mesh_terms', 'phase', 'registry', 'research_orgs', 'researchers', 'score', 'start_date', 'study_arms', 'study_designs', 'study_eligibility_criteria', 'study_maximum_age', 'study_minimum_age', 'study_outcome_measures', 'study_participants', 'study_type', 'title'])\n",
      "dict_keys(['abstract', 'brief_title', 'category_for', 'category_for_2020', 'category_hra', 'category_hrcs_hc', 'category_hrcs_rac', 'category_icrp_cso', 'category_icrp_ct', 'category_rcdc', 'conditions', 'date', 'date_inserted', 'dimensions_url', 'funder_countries', 'funders', 'gender', 'id', 'interventions', 'investigators', 'linkout', 'mesh_terms', 'phase', 'registry', 'research_orgs', 'researchers', 'score', 'start_date', 'study_arms', 'study_designs', 'study_eligibility_criteria', 'study_maximum_age', 'study_minimum_age', 'study_outcome_measures', 'study_participants', 'study_type', 'title'])\n",
      "dict_keys(['abstract', 'active_years', 'brief_title', 'category_bra', 'category_for', 'category_for_2020', 'category_hra', 'category_hrcs_hc', 'category_hrcs_rac', 'category_icrp_cso', 'category_icrp_ct', 'category_rcdc', 'conditions', 'date', 'date_inserted', 'dimensions_url', 'end_date', 'funder_countries', 'funders', 'gender', 'id', 'interventions', 'investigators', 'linkout', 'mesh_terms', 'phase', 'registry', 'research_orgs', 'researchers', 'score', 'start_date', 'study_arms', 'study_designs', 'study_eligibility_criteria', 'study_maximum_age', 'study_minimum_age', 'study_outcome_measures', 'study_participants', 'study_type', 'title'])\n",
      "dict_keys(['abstract', 'active_years', 'brief_title', 'category_bra', 'category_for', 'category_for_2020', 'category_hra', 'category_hrcs_hc', 'category_hrcs_rac', 'category_icrp_cso', 'category_icrp_ct', 'category_rcdc', 'conditions', 'date', 'date_inserted', 'dimensions_url', 'end_date', 'funder_countries', 'funders', 'gender', 'id', 'interventions', 'investigators', 'linkout', 'mesh_terms', 'phase', 'registry', 'research_orgs', 'researchers', 'score', 'start_date', 'study_arms', 'study_designs', 'study_eligibility_criteria', 'study_maximum_age', 'study_minimum_age', 'study_outcome_measures', 'study_participants', 'study_type', 'title'])\n",
      "dict_keys(['abstract', 'active_years', 'brief_title', 'category_bra', 'category_for', 'category_for_2020', 'category_hra', 'category_hrcs_hc', 'category_hrcs_rac', 'category_icrp_cso', 'category_icrp_ct', 'category_rcdc', 'conditions', 'date', 'date_inserted', 'dimensions_url', 'end_date', 'funder_countries', 'funders', 'gender', 'id', 'interventions', 'linkout', 'mesh_terms', 'phase', 'registry', 'research_orgs', 'researchers', 'score', 'start_date', 'study_designs', 'study_eligibility_criteria', 'study_maximum_age', 'study_minimum_age', 'study_type', 'title'])\n",
      "dict_keys(['abstract', 'active_years', 'associated_grant_ids', 'brief_title', 'category_bra', 'category_for', 'category_for_2020', 'category_hra', 'category_hrcs_hc', 'category_hrcs_rac', 'category_icrp_cso', 'category_icrp_ct', 'category_rcdc', 'conditions', 'date', 'date_inserted', 'dimensions_url', 'end_date', 'funder_countries', 'funders', 'gender', 'id', 'interventions', 'investigators', 'linkout', 'mesh_terms', 'phase', 'registry', 'research_orgs', 'researchers', 'score', 'start_date', 'study_arms', 'study_designs', 'study_eligibility_criteria', 'study_maximum_age', 'study_minimum_age', 'study_outcome_measures', 'study_participants', 'study_type', 'title'])\n",
      "dict_keys(['abstract', 'active_years', 'brief_title', 'category_bra', 'category_for', 'category_for_2020', 'category_hra', 'category_hrcs_hc', 'category_hrcs_rac', 'category_rcdc', 'conditions', 'date', 'date_inserted', 'dimensions_url', 'end_date', 'funder_countries', 'funders', 'gender', 'id', 'interventions', 'investigators', 'linkout', 'mesh_terms', 'phase', 'registry', 'research_orgs', 'researchers', 'score', 'start_date', 'study_arms', 'study_designs', 'study_eligibility_criteria', 'study_maximum_age', 'study_minimum_age', 'study_outcome_measures', 'study_participants', 'study_type', 'title'])\n",
      "dict_keys(['abstract', 'active_years', 'altmetric', 'brief_title', 'category_bra', 'category_for', 'category_for_2020', 'category_hrcs_hc', 'category_hrcs_rac', 'category_icrp_cso', 'category_icrp_ct', 'category_rcdc', 'conditions', 'date', 'date_inserted', 'dimensions_url', 'end_date', 'funder_countries', 'funders', 'gender', 'id', 'interventions', 'investigators', 'linkout', 'mesh_terms', 'phase', 'registry', 'research_orgs', 'researchers', 'score', 'start_date', 'study_arms', 'study_designs', 'study_eligibility_criteria', 'study_maximum_age', 'study_minimum_age', 'study_outcome_measures', 'study_participants', 'study_type', 'title'])\n",
      "dict_keys(['abstract', 'active_years', 'altmetric', 'brief_title', 'category_bra', 'category_for', 'category_for_2020', 'category_hra', 'category_hrcs_hc', 'category_hrcs_rac', 'category_icrp_cso', 'category_icrp_ct', 'category_rcdc', 'conditions', 'date', 'date_inserted', 'dimensions_url', 'end_date', 'gender', 'id', 'interventions', 'investigators', 'linkout', 'mesh_terms', 'phase', 'registry', 'research_orgs', 'researchers', 'score', 'start_date', 'study_arms', 'study_designs', 'study_eligibility_criteria', 'study_maximum_age', 'study_minimum_age', 'study_outcome_measures', 'study_participants', 'study_type', 'title'])\n",
      "dict_keys(['abstract', 'active_years', 'brief_title', 'category_bra', 'category_for', 'category_for_2020', 'category_hra', 'category_hrcs_hc', 'category_hrcs_rac', 'category_icrp_cso', 'category_icrp_ct', 'category_rcdc', 'conditions', 'date', 'date_inserted', 'dimensions_url', 'end_date', 'gender', 'id', 'interventions', 'investigators', 'linkout', 'mesh_terms', 'phase', 'registry', 'research_orgs', 'researchers', 'score', 'start_date', 'study_arms', 'study_designs', 'study_eligibility_criteria', 'study_maximum_age', 'study_minimum_age', 'study_outcome_measures', 'study_participants', 'study_type', 'title'])\n",
      "dict_keys(['abstract', 'active_years', 'altmetric', 'associated_grant_ids', 'brief_title', 'category_bra', 'category_for', 'category_for_2020', 'category_hra', 'category_hrcs_hc', 'category_hrcs_rac', 'category_icrp_cso', 'category_icrp_ct', 'category_rcdc', 'conditions', 'date', 'date_inserted', 'dimensions_url', 'end_date', 'funder_countries', 'funders', 'gender', 'id', 'interventions', 'investigators', 'linkout', 'mesh_terms', 'phase', 'registry', 'research_orgs', 'researchers', 'score', 'start_date', 'study_arms', 'study_designs', 'study_eligibility_criteria', 'study_maximum_age', 'study_minimum_age', 'study_outcome_measures', 'study_participants', 'study_type', 'title'])\n",
      "dict_keys(['abstract', 'active_years', 'altmetric', 'brief_title', 'category_bra', 'category_for', 'category_for_2020', 'category_hra', 'category_hrcs_hc', 'category_hrcs_rac', 'category_icrp_cso', 'category_icrp_ct', 'category_rcdc', 'conditions', 'date', 'date_inserted', 'dimensions_url', 'end_date', 'funder_countries', 'funders', 'gender', 'id', 'interventions', 'investigators', 'linkout', 'mesh_terms', 'phase', 'registry', 'research_orgs', 'researchers', 'score', 'start_date', 'study_arms', 'study_designs', 'study_eligibility_criteria', 'study_maximum_age', 'study_minimum_age', 'study_outcome_measures', 'study_participants', 'study_type', 'title'])\n",
      "dict_keys(['abstract', 'active_years', 'altmetric', 'brief_title', 'category_bra', 'category_for', 'category_for_2020', 'category_hra', 'category_hrcs_hc', 'category_hrcs_rac', 'category_icrp_cso', 'category_icrp_ct', 'category_rcdc', 'conditions', 'date', 'date_inserted', 'dimensions_url', 'end_date', 'funder_countries', 'funders', 'gender', 'id', 'interventions', 'investigators', 'linkout', 'mesh_terms', 'phase', 'registry', 'research_orgs', 'researchers', 'score', 'start_date', 'study_arms', 'study_designs', 'study_eligibility_criteria', 'study_maximum_age', 'study_minimum_age', 'study_outcome_measures', 'study_participants', 'study_type', 'title'])\n",
      "dict_keys(['abstract', 'altmetric', 'brief_title', 'category_bra', 'category_for', 'category_for_2020', 'category_hra', 'category_hrcs_hc', 'category_hrcs_rac', 'category_icrp_cso', 'category_icrp_ct', 'category_rcdc', 'conditions', 'date', 'date_inserted', 'dimensions_url', 'funder_countries', 'funders', 'gender', 'id', 'interventions', 'investigators', 'linkout', 'mesh_terms', 'phase', 'registry', 'research_orgs', 'researchers', 'score', 'start_date', 'study_arms', 'study_designs', 'study_eligibility_criteria', 'study_maximum_age', 'study_minimum_age', 'study_outcome_measures', 'study_participants', 'study_type', 'title'])\n",
      "dict_keys(['abstract', 'active_years', 'brief_title', 'category_bra', 'category_for', 'category_for_2020', 'category_hra', 'category_rcdc', 'conditions', 'date', 'date_inserted', 'dimensions_url', 'end_date', 'funder_countries', 'funders', 'gender', 'id', 'interventions', 'investigators', 'linkout', 'mesh_terms', 'phase', 'registry', 'research_orgs', 'researchers', 'score', 'start_date', 'study_arms', 'study_designs', 'study_eligibility_criteria', 'study_maximum_age', 'study_minimum_age', 'study_outcome_measures', 'study_participants', 'study_type', 'title'])\n",
      "dict_keys(['abstract', 'active_years', 'associated_grant_ids', 'brief_title', 'category_bra', 'category_for', 'category_for_2020', 'category_hra', 'category_hrcs_hc', 'category_hrcs_rac', 'category_icrp_cso', 'category_icrp_ct', 'category_rcdc', 'conditions', 'date', 'date_inserted', 'dimensions_url', 'end_date', 'funder_countries', 'funders', 'gender', 'id', 'interventions', 'investigators', 'linkout', 'mesh_terms', 'phase', 'registry', 'research_orgs', 'researchers', 'score', 'start_date', 'study_designs', 'study_eligibility_criteria', 'study_maximum_age', 'study_minimum_age', 'study_outcome_measures', 'study_participants', 'study_type', 'title'])\n",
      "dict_keys(['abstract', 'associated_grant_ids', 'brief_title', 'category_bra', 'category_for', 'category_for_2020', 'category_hra', 'category_hrcs_hc', 'category_hrcs_rac', 'category_icrp_cso', 'category_icrp_ct', 'category_rcdc', 'conditions', 'date', 'date_inserted', 'dimensions_url', 'funder_countries', 'funders', 'gender', 'id', 'interventions', 'investigators', 'linkout', 'mesh_terms', 'phase', 'registry', 'research_orgs', 'researchers', 'score', 'start_date', 'study_arms', 'study_designs', 'study_eligibility_criteria', 'study_maximum_age', 'study_minimum_age', 'study_outcome_measures', 'study_participants', 'study_type', 'title'])\n",
      "dict_keys(['abstract', 'active_years', 'associated_grant_ids', 'brief_title', 'category_bra', 'category_for', 'category_for_2020', 'category_hra', 'category_hrcs_hc', 'category_hrcs_rac', 'category_rcdc', 'conditions', 'date', 'date_inserted', 'dimensions_url', 'end_date', 'funder_countries', 'funders', 'gender', 'id', 'interventions', 'investigators', 'linkout', 'phase', 'registry', 'research_orgs', 'researchers', 'score', 'start_date', 'study_arms', 'study_designs', 'study_eligibility_criteria', 'study_maximum_age', 'study_minimum_age', 'study_outcome_measures', 'study_participants', 'study_type', 'title'])\n",
      "dict_keys(['abstract', 'acronym', 'active_years', 'brief_title', 'category_bra', 'category_for', 'category_for_2020', 'category_hra', 'category_hrcs_hc', 'category_hrcs_rac', 'category_rcdc', 'conditions', 'date', 'date_inserted', 'dimensions_url', 'end_date', 'funder_countries', 'funders', 'gender', 'id', 'interventions', 'investigators', 'linkout', 'mesh_terms', 'phase', 'registry', 'research_orgs', 'researchers', 'score', 'start_date', 'study_arms', 'study_designs', 'study_eligibility_criteria', 'study_maximum_age', 'study_minimum_age', 'study_outcome_measures', 'study_participants', 'study_type', 'title'])\n",
      "dict_keys(['abstract', 'active_years', 'brief_title', 'category_bra', 'category_for', 'category_for_2020', 'category_hra', 'category_hrcs_hc', 'category_hrcs_rac', 'category_rcdc', 'conditions', 'date', 'date_inserted', 'dimensions_url', 'end_date', 'funder_countries', 'funders', 'gender', 'id', 'interventions', 'investigators', 'linkout', 'mesh_terms', 'phase', 'registry', 'research_orgs', 'researchers', 'score', 'start_date', 'study_arms', 'study_designs', 'study_eligibility_criteria', 'study_maximum_age', 'study_minimum_age', 'study_outcome_measures', 'study_participants', 'study_type', 'title'])\n",
      "dict_keys(['abstract', 'active_years', 'brief_title', 'category_bra', 'category_for', 'category_for_2020', 'category_hra', 'category_hrcs_hc', 'category_hrcs_rac', 'category_icrp_cso', 'category_icrp_ct', 'category_rcdc', 'conditions', 'date', 'date_inserted', 'dimensions_url', 'end_date', 'funder_countries', 'funders', 'gender', 'id', 'interventions', 'investigators', 'linkout', 'mesh_terms', 'phase', 'registry', 'research_orgs', 'researchers', 'score', 'start_date', 'study_arms', 'study_designs', 'study_eligibility_criteria', 'study_maximum_age', 'study_minimum_age', 'study_outcome_measures', 'study_participants', 'study_type', 'title'])\n",
      "dict_keys(['abstract', 'acronym', 'active_years', 'altmetric', 'brief_title', 'category_bra', 'category_for', 'category_for_2020', 'category_hra', 'category_hrcs_hc', 'category_icrp_ct', 'category_rcdc', 'conditions', 'date', 'date_inserted', 'dimensions_url', 'end_date', 'funder_countries', 'funders', 'gender', 'id', 'interventions', 'investigators', 'linkout', 'mesh_terms', 'phase', 'registry', 'research_orgs', 'researchers', 'score', 'start_date', 'study_arms', 'study_designs', 'study_eligibility_criteria', 'study_maximum_age', 'study_minimum_age', 'study_outcome_measures', 'study_participants', 'study_type', 'title'])\n",
      "dict_keys(['abstract', 'active_years', 'altmetric', 'brief_title', 'category_for', 'category_for_2020', 'category_hra', 'category_hrcs_hc', 'category_hrcs_rac', 'category_icrp_cso', 'category_icrp_ct', 'category_rcdc', 'conditions', 'date', 'date_inserted', 'dimensions_url', 'end_date', 'funder_countries', 'funders', 'gender', 'id', 'interventions', 'investigators', 'linkout', 'mesh_terms', 'phase', 'publication_ids', 'publications', 'registry', 'research_orgs', 'researchers', 'score', 'start_date', 'study_arms', 'study_designs', 'study_eligibility_criteria', 'study_maximum_age', 'study_minimum_age', 'study_outcome_measures', 'study_participants', 'study_type', 'title'])\n",
      "dict_keys(['abstract', 'active_years', 'brief_title', 'category_bra', 'category_for', 'category_for_2020', 'category_hra', 'category_hrcs_hc', 'category_hrcs_rac', 'category_rcdc', 'conditions', 'date', 'date_inserted', 'dimensions_url', 'end_date', 'funder_countries', 'funders', 'gender', 'id', 'interventions', 'investigators', 'linkout', 'mesh_terms', 'phase', 'publication_ids', 'publications', 'registry', 'research_orgs', 'researchers', 'score', 'start_date', 'study_arms', 'study_designs', 'study_eligibility_criteria', 'study_maximum_age', 'study_minimum_age', 'study_outcome_measures', 'study_participants', 'study_type', 'title'])\n",
      "dict_keys(['abstract', 'active_years', 'associated_grant_ids', 'brief_title', 'category_bra', 'category_for', 'category_for_2020', 'category_hra', 'category_hrcs_hc', 'category_hrcs_rac', 'category_rcdc', 'conditions', 'date', 'date_inserted', 'dimensions_url', 'end_date', 'funder_countries', 'funders', 'gender', 'id', 'interventions', 'investigators', 'linkout', 'mesh_terms', 'phase', 'publication_ids', 'publications', 'registry', 'research_orgs', 'researchers', 'score', 'start_date', 'study_arms', 'study_designs', 'study_eligibility_criteria', 'study_maximum_age', 'study_minimum_age', 'study_outcome_measures', 'study_participants', 'study_type', 'title'])\n",
      "dict_keys(['abstract', 'active_years', 'brief_title', 'category_bra', 'category_for', 'category_for_2020', 'category_hra', 'category_hrcs_hc', 'category_hrcs_rac', 'category_rcdc', 'conditions', 'date', 'date_inserted', 'dimensions_url', 'end_date', 'funder_countries', 'funders', 'gender', 'id', 'investigators', 'linkout', 'mesh_terms', 'phase', 'registry', 'research_orgs', 'researchers', 'score', 'start_date', 'study_designs', 'study_eligibility_criteria', 'study_maximum_age', 'study_minimum_age', 'study_outcome_measures', 'study_participants', 'study_type', 'title'])\n",
      "dict_keys(['abstract', 'brief_title', 'category_bra', 'category_for', 'category_for_2020', 'category_hra', 'category_hrcs_hc', 'category_hrcs_rac', 'category_rcdc', 'conditions', 'date_inserted', 'dimensions_url', 'end_date', 'funder_countries', 'funders', 'gender', 'id', 'interventions', 'investigators', 'linkout', 'mesh_terms', 'phase', 'registry', 'research_orgs', 'researchers', 'score', 'study_designs', 'study_eligibility_criteria', 'study_maximum_age', 'study_minimum_age', 'study_participants', 'study_type', 'title'])\n",
      "dict_keys(['abstract', 'active_years', 'altmetric', 'brief_title', 'category_bra', 'category_for', 'category_for_2020', 'category_hra', 'category_hrcs_hc', 'category_hrcs_rac', 'category_icrp_cso', 'category_icrp_ct', 'category_rcdc', 'conditions', 'date', 'date_inserted', 'dimensions_url', 'end_date', 'funder_countries', 'funders', 'gender', 'id', 'investigators', 'linkout', 'mesh_terms', 'phase', 'registry', 'research_orgs', 'researchers', 'score', 'start_date', 'study_designs', 'study_eligibility_criteria', 'study_maximum_age', 'study_minimum_age', 'study_outcome_measures', 'study_participants', 'study_type', 'title'])\n",
      "dict_keys(['abstract', 'active_years', 'altmetric', 'brief_title', 'category_bra', 'category_for', 'category_for_2020', 'category_hra', 'category_hrcs_hc', 'category_hrcs_rac', 'category_icrp_cso', 'category_icrp_ct', 'category_rcdc', 'conditions', 'date', 'date_inserted', 'dimensions_url', 'end_date', 'funder_countries', 'funders', 'gender', 'id', 'investigators', 'linkout', 'mesh_terms', 'phase', 'registry', 'research_orgs', 'researchers', 'score', 'start_date', 'study_arms', 'study_designs', 'study_eligibility_criteria', 'study_maximum_age', 'study_minimum_age', 'study_outcome_measures', 'study_participants', 'study_type', 'title'])\n",
      "dict_keys(['abstract', 'active_years', 'altmetric', 'brief_title', 'category_bra', 'category_for', 'category_for_2020', 'category_hra', 'category_hrcs_hc', 'category_hrcs_rac', 'category_icrp_cso', 'category_icrp_ct', 'category_rcdc', 'conditions', 'date', 'date_inserted', 'dimensions_url', 'end_date', 'funder_countries', 'funders', 'gender', 'id', 'interventions', 'investigators', 'linkout', 'mesh_terms', 'phase', 'registry', 'research_orgs', 'researchers', 'score', 'start_date', 'study_arms', 'study_designs', 'study_eligibility_criteria', 'study_maximum_age', 'study_minimum_age', 'study_outcome_measures', 'study_participants', 'study_type', 'title'])\n",
      "dict_keys(['abstract', 'acronym', 'active_years', 'brief_title', 'category_bra', 'category_for', 'category_for_2020', 'category_hra', 'category_hrcs_hc', 'category_hrcs_rac', 'category_icrp_cso', 'category_icrp_ct', 'category_rcdc', 'conditions', 'date', 'date_inserted', 'dimensions_url', 'end_date', 'funder_countries', 'funders', 'gender', 'id', 'interventions', 'investigators', 'linkout', 'mesh_terms', 'phase', 'registry', 'research_orgs', 'researchers', 'score', 'start_date', 'study_arms', 'study_designs', 'study_eligibility_criteria', 'study_maximum_age', 'study_minimum_age', 'study_outcome_measures', 'study_participants', 'study_type', 'title'])\n",
      "dict_keys(['abstract', 'active_years', 'altmetric', 'brief_title', 'category_for', 'category_for_2020', 'category_hra', 'category_hrcs_rac', 'category_rcdc', 'conditions', 'date', 'date_inserted', 'dimensions_url', 'end_date', 'gender', 'id', 'interventions', 'investigators', 'linkout', 'phase', 'registry', 'research_orgs', 'researchers', 'score', 'start_date', 'study_arms', 'study_designs', 'study_eligibility_criteria', 'study_maximum_age', 'study_minimum_age', 'study_outcome_measures', 'study_participants', 'study_type', 'title'])\n",
      "dict_keys(['abstract', 'active_years', 'brief_title', 'category_bra', 'category_for', 'category_for_2020', 'category_hra', 'category_hrcs_hc', 'category_hrcs_rac', 'category_rcdc', 'conditions', 'date', 'date_inserted', 'dimensions_url', 'end_date', 'funder_countries', 'funders', 'gender', 'id', 'interventions', 'investigators', 'linkout', 'mesh_terms', 'phase', 'registry', 'research_orgs', 'researchers', 'score', 'start_date', 'study_arms', 'study_designs', 'study_eligibility_criteria', 'study_maximum_age', 'study_minimum_age', 'study_outcome_measures', 'study_participants', 'study_type', 'title'])\n",
      "dict_keys(['abstract', 'active_years', 'associated_grant_ids', 'brief_title', 'category_bra', 'category_for', 'category_for_2020', 'category_hra', 'category_hrcs_hc', 'category_rcdc', 'conditions', 'date', 'date_inserted', 'dimensions_url', 'end_date', 'funder_countries', 'funders', 'gender', 'id', 'interventions', 'investigators', 'linkout', 'mesh_terms', 'phase', 'registry', 'research_orgs', 'researchers', 'score', 'start_date', 'study_arms', 'study_designs', 'study_eligibility_criteria', 'study_maximum_age', 'study_minimum_age', 'study_outcome_measures', 'study_participants', 'study_type', 'title'])\n",
      "dict_keys(['abstract', 'active_years', 'associated_grant_ids', 'brief_title', 'category_bra', 'category_for', 'category_for_2020', 'category_hra', 'category_hrcs_hc', 'category_hrcs_rac', 'category_rcdc', 'conditions', 'date', 'date_inserted', 'dimensions_url', 'end_date', 'funder_countries', 'funders', 'gender', 'id', 'interventions', 'investigators', 'linkout', 'mesh_terms', 'phase', 'registry', 'research_orgs', 'researchers', 'score', 'start_date', 'study_designs', 'study_eligibility_criteria', 'study_maximum_age', 'study_minimum_age', 'study_outcome_measures', 'study_participants', 'study_type', 'title'])\n",
      "dict_keys(['abstract', 'acronym', 'active_years', 'brief_title', 'category_bra', 'category_for', 'category_for_2020', 'category_hra', 'category_hrcs_hc', 'category_rcdc', 'conditions', 'date', 'date_inserted', 'dimensions_url', 'end_date', 'funder_countries', 'funders', 'gender', 'id', 'interventions', 'investigators', 'linkout', 'mesh_terms', 'phase', 'publication_ids', 'publications', 'registry', 'research_orgs', 'researchers', 'score', 'start_date', 'study_arms', 'study_designs', 'study_eligibility_criteria', 'study_maximum_age', 'study_minimum_age', 'study_outcome_measures', 'study_participants', 'study_type', 'title'])\n",
      "dict_keys(['abstract', 'active_years', 'associated_grant_ids', 'brief_title', 'category_bra', 'category_for', 'category_for_2020', 'category_hra', 'category_hrcs_hc', 'category_hrcs_rac', 'category_rcdc', 'conditions', 'date', 'date_inserted', 'dimensions_url', 'end_date', 'funder_countries', 'funders', 'gender', 'id', 'interventions', 'investigators', 'linkout', 'mesh_terms', 'phase', 'registry', 'research_orgs', 'researchers', 'score', 'start_date', 'study_arms', 'study_designs', 'study_eligibility_criteria', 'study_maximum_age', 'study_minimum_age', 'study_outcome_measures', 'study_participants', 'study_type', 'title'])\n",
      "dict_keys(['abstract', 'active_years', 'associated_grant_ids', 'brief_title', 'category_bra', 'category_for', 'category_for_2020', 'category_hra', 'category_hrcs_hc', 'category_hrcs_rac', 'category_rcdc', 'conditions', 'date', 'date_inserted', 'dimensions_url', 'end_date', 'funder_countries', 'funders', 'gender', 'id', 'interventions', 'investigators', 'linkout', 'mesh_terms', 'phase', 'publication_ids', 'publications', 'registry', 'research_orgs', 'researchers', 'score', 'start_date', 'study_arms', 'study_designs', 'study_eligibility_criteria', 'study_maximum_age', 'study_minimum_age', 'study_outcome_measures', 'study_participants', 'study_type', 'title'])\n",
      "dict_keys(['abstract', 'acronym', 'active_years', 'altmetric', 'brief_title', 'category_bra', 'category_for', 'category_for_2020', 'category_hra', 'category_hrcs_hc', 'category_hrcs_rac', 'category_icrp_cso', 'category_icrp_ct', 'category_rcdc', 'conditions', 'date', 'date_inserted', 'dimensions_url', 'end_date', 'funder_countries', 'funders', 'gender', 'id', 'interventions', 'investigators', 'linkout', 'mesh_terms', 'phase', 'registry', 'research_orgs', 'researchers', 'score', 'start_date', 'study_arms', 'study_designs', 'study_eligibility_criteria', 'study_maximum_age', 'study_minimum_age', 'study_outcome_measures', 'study_participants', 'study_type', 'title'])\n",
      "dict_keys(['abstract', 'acronym', 'active_years', 'altmetric', 'brief_title', 'category_bra', 'category_for', 'category_for_2020', 'category_hra', 'category_hrcs_hc', 'category_hrcs_rac', 'category_rcdc', 'conditions', 'date', 'date_inserted', 'dimensions_url', 'end_date', 'gender', 'id', 'interventions', 'investigators', 'linkout', 'mesh_terms', 'phase', 'registry', 'research_orgs', 'researchers', 'score', 'start_date', 'study_arms', 'study_designs', 'study_eligibility_criteria', 'study_maximum_age', 'study_minimum_age', 'study_outcome_measures', 'study_participants', 'study_type', 'title'])\n",
      "dict_keys(['abstract', 'acronym', 'active_years', 'brief_title', 'category_bra', 'category_for', 'category_for_2020', 'category_hra', 'category_hrcs_hc', 'category_hrcs_rac', 'category_rcdc', 'conditions', 'date', 'date_inserted', 'dimensions_url', 'end_date', 'funder_countries', 'funders', 'gender', 'id', 'interventions', 'investigators', 'linkout', 'mesh_terms', 'phase', 'registry', 'research_orgs', 'researchers', 'score', 'start_date', 'study_arms', 'study_designs', 'study_eligibility_criteria', 'study_maximum_age', 'study_minimum_age', 'study_outcome_measures', 'study_participants', 'study_type', 'title'])\n",
      "dict_keys(['abstract', 'acronym', 'active_years', 'brief_title', 'category_bra', 'category_for', 'category_for_2020', 'category_hrcs_hc', 'category_hrcs_rac', 'category_rcdc', 'conditions', 'date', 'date_inserted', 'dimensions_url', 'end_date', 'funder_countries', 'funders', 'gender', 'id', 'interventions', 'investigators', 'linkout', 'mesh_terms', 'phase', 'registry', 'research_orgs', 'researchers', 'score', 'start_date', 'study_arms', 'study_designs', 'study_eligibility_criteria', 'study_maximum_age', 'study_minimum_age', 'study_outcome_measures', 'study_participants', 'study_type', 'title'])\n",
      "dict_keys(['abstract', 'acronym', 'active_years', 'altmetric', 'associated_grant_ids', 'brief_title', 'category_bra', 'category_for', 'category_for_2020', 'category_hra', 'category_hrcs_hc', 'category_hrcs_rac', 'category_rcdc', 'conditions', 'date', 'date_inserted', 'dimensions_url', 'end_date', 'funder_countries', 'funders', 'gender', 'id', 'interventions', 'investigators', 'linkout', 'mesh_terms', 'phase', 'registry', 'research_orgs', 'researchers', 'score', 'start_date', 'study_arms', 'study_designs', 'study_eligibility_criteria', 'study_maximum_age', 'study_minimum_age', 'study_outcome_measures', 'study_participants', 'study_type', 'title'])\n",
      "dict_keys(['abstract', 'acronym', 'active_years', 'associated_grant_ids', 'brief_title', 'category_bra', 'category_for', 'category_for_2020', 'category_hra', 'category_hrcs_hc', 'category_hrcs_rac', 'category_rcdc', 'conditions', 'date', 'date_inserted', 'dimensions_url', 'end_date', 'funder_countries', 'funders', 'gender', 'id', 'interventions', 'investigators', 'linkout', 'phase', 'registry', 'research_orgs', 'researchers', 'score', 'start_date', 'study_arms', 'study_designs', 'study_eligibility_criteria', 'study_maximum_age', 'study_minimum_age', 'study_outcome_measures', 'study_participants', 'study_type', 'title'])\n",
      "dict_keys(['abstract', 'acronym', 'active_years', 'associated_grant_ids', 'brief_title', 'category_bra', 'category_for', 'category_for_2020', 'category_hra', 'category_hrcs_hc', 'category_hrcs_rac', 'category_icrp_cso', 'category_icrp_ct', 'category_rcdc', 'conditions', 'date', 'date_inserted', 'dimensions_url', 'end_date', 'funder_countries', 'funders', 'gender', 'id', 'interventions', 'investigators', 'linkout', 'mesh_terms', 'phase', 'registry', 'research_orgs', 'researchers', 'score', 'start_date', 'study_arms', 'study_designs', 'study_eligibility_criteria', 'study_maximum_age', 'study_minimum_age', 'study_outcome_measures', 'study_participants', 'study_type', 'title'])\n",
      "dict_keys(['abstract', 'acronym', 'active_years', 'associated_grant_ids', 'brief_title', 'category_bra', 'category_for', 'category_for_2020', 'category_hrcs_hc', 'category_icrp_ct', 'category_rcdc', 'conditions', 'date', 'date_inserted', 'dimensions_url', 'end_date', 'funder_countries', 'funders', 'gender', 'id', 'interventions', 'investigators', 'linkout', 'mesh_terms', 'phase', 'registry', 'research_orgs', 'researchers', 'score', 'start_date', 'study_arms', 'study_designs', 'study_eligibility_criteria', 'study_maximum_age', 'study_minimum_age', 'study_outcome_measures', 'study_participants', 'study_type', 'title'])\n",
      "dict_keys(['abstract', 'active_years', 'associated_grant_ids', 'brief_title', 'category_bra', 'category_for', 'category_for_2020', 'category_hra', 'category_hrcs_hc', 'category_hrcs_rac', 'category_icrp_cso', 'category_icrp_ct', 'category_rcdc', 'conditions', 'date', 'date_inserted', 'dimensions_url', 'end_date', 'funder_countries', 'funders', 'gender', 'id', 'interventions', 'investigators', 'linkout', 'mesh_terms', 'phase', 'registry', 'research_orgs', 'researchers', 'score', 'start_date', 'study_arms', 'study_designs', 'study_eligibility_criteria', 'study_maximum_age', 'study_minimum_age', 'study_outcome_measures', 'study_participants', 'study_type', 'title'])\n",
      "dict_keys(['abstract', 'active_years', 'associated_grant_ids', 'brief_title', 'category_bra', 'category_for', 'category_for_2020', 'category_hra', 'category_hrcs_hc', 'category_hrcs_rac', 'category_rcdc', 'conditions', 'date', 'date_inserted', 'dimensions_url', 'end_date', 'funder_countries', 'funders', 'gender', 'id', 'interventions', 'investigators', 'linkout', 'mesh_terms', 'phase', 'registry', 'research_orgs', 'researchers', 'score', 'start_date', 'study_arms', 'study_designs', 'study_eligibility_criteria', 'study_maximum_age', 'study_minimum_age', 'study_outcome_measures', 'study_participants', 'study_type', 'title'])\n",
      "dict_keys(['abstract', 'active_years', 'brief_title', 'category_bra', 'category_for', 'category_for_2020', 'category_hrcs_hc', 'category_hrcs_rac', 'category_icrp_cso', 'category_icrp_ct', 'category_rcdc', 'conditions', 'date', 'date_inserted', 'dimensions_url', 'end_date', 'funder_countries', 'funders', 'gender', 'id', 'interventions', 'investigators', 'linkout', 'mesh_terms', 'phase', 'registry', 'research_orgs', 'researchers', 'score', 'start_date', 'study_arms', 'study_designs', 'study_eligibility_criteria', 'study_maximum_age', 'study_minimum_age', 'study_outcome_measures', 'study_participants', 'study_type', 'title'])\n",
      "dict_keys(['abstract', 'acronym', 'active_years', 'altmetric', 'brief_title', 'category_bra', 'category_for', 'category_for_2020', 'category_hra', 'category_hrcs_rac', 'category_icrp_ct', 'category_rcdc', 'conditions', 'date', 'date_inserted', 'dimensions_url', 'end_date', 'funder_countries', 'funders', 'gender', 'id', 'interventions', 'investigators', 'linkout', 'mesh_terms', 'phase', 'registry', 'research_orgs', 'researchers', 'score', 'start_date', 'study_arms', 'study_designs', 'study_eligibility_criteria', 'study_maximum_age', 'study_minimum_age', 'study_outcome_measures', 'study_participants', 'study_type', 'title'])\n",
      "dict_keys(['abstract', 'active_years', 'associated_grant_ids', 'brief_title', 'category_bra', 'category_for', 'category_for_2020', 'category_hrcs_hc', 'category_hrcs_rac', 'category_icrp_cso', 'category_icrp_ct', 'category_rcdc', 'conditions', 'date', 'date_inserted', 'dimensions_url', 'end_date', 'funder_countries', 'funders', 'gender', 'id', 'interventions', 'investigators', 'linkout', 'mesh_terms', 'phase', 'registry', 'research_orgs', 'researchers', 'score', 'start_date', 'study_arms', 'study_designs', 'study_eligibility_criteria', 'study_maximum_age', 'study_minimum_age', 'study_outcome_measures', 'study_participants', 'study_type', 'title'])\n",
      "dict_keys(['abstract', 'acronym', 'active_years', 'altmetric', 'brief_title', 'category_bra', 'category_for', 'category_for_2020', 'category_hrcs_hc', 'category_hrcs_rac', 'category_rcdc', 'conditions', 'date', 'date_inserted', 'dimensions_url', 'end_date', 'funder_countries', 'funders', 'gender', 'id', 'interventions', 'investigators', 'linkout', 'mesh_terms', 'phase', 'registry', 'research_orgs', 'researchers', 'score', 'start_date', 'study_arms', 'study_designs', 'study_eligibility_criteria', 'study_maximum_age', 'study_minimum_age', 'study_outcome_measures', 'study_participants', 'study_type', 'title'])\n",
      "dict_keys(['abstract', 'active_years', 'altmetric', 'brief_title', 'category_bra', 'category_for', 'category_for_2020', 'category_hra', 'category_hrcs_hc', 'category_hrcs_rac', 'category_icrp_cso', 'category_icrp_ct', 'category_rcdc', 'conditions', 'date', 'date_inserted', 'dimensions_url', 'end_date', 'funder_countries', 'funders', 'gender', 'id', 'interventions', 'investigators', 'linkout', 'mesh_terms', 'phase', 'registry', 'research_orgs', 'researchers', 'score', 'start_date', 'study_arms', 'study_designs', 'study_eligibility_criteria', 'study_maximum_age', 'study_minimum_age', 'study_outcome_measures', 'study_participants', 'study_type', 'title'])\n",
      "dict_keys(['abstract', 'active_years', 'brief_title', 'category_bra', 'category_for', 'category_for_2020', 'category_hra', 'category_hrcs_hc', 'category_hrcs_rac', 'category_icrp_cso', 'category_icrp_ct', 'category_rcdc', 'conditions', 'date', 'date_inserted', 'dimensions_url', 'end_date', 'gender', 'id', 'interventions', 'investigators', 'linkout', 'mesh_terms', 'phase', 'registry', 'research_orgs', 'researchers', 'score', 'start_date', 'study_arms', 'study_designs', 'study_eligibility_criteria', 'study_maximum_age', 'study_minimum_age', 'study_outcome_measures', 'study_participants', 'study_type', 'title'])\n",
      "dict_keys(['abstract', 'active_years', 'brief_title', 'category_bra', 'category_for', 'category_for_2020', 'category_hra', 'category_hrcs_hc', 'category_hrcs_rac', 'category_icrp_cso', 'category_icrp_ct', 'category_rcdc', 'conditions', 'date', 'date_inserted', 'dimensions_url', 'end_date', 'funder_countries', 'funders', 'gender', 'id', 'interventions', 'investigators', 'linkout', 'mesh_terms', 'phase', 'registry', 'research_orgs', 'researchers', 'score', 'start_date', 'study_arms', 'study_designs', 'study_eligibility_criteria', 'study_maximum_age', 'study_minimum_age', 'study_outcome_measures', 'study_participants', 'study_type', 'title'])\n",
      "dict_keys(['abstract', 'acronym', 'active_years', 'altmetric', 'brief_title', 'category_bra', 'category_for', 'category_for_2020', 'category_hra', 'category_hrcs_hc', 'category_rcdc', 'conditions', 'date', 'date_inserted', 'dimensions_url', 'end_date', 'funder_countries', 'funders', 'gender', 'id', 'interventions', 'investigators', 'linkout', 'phase', 'registry', 'research_orgs', 'researchers', 'score', 'start_date', 'study_arms', 'study_designs', 'study_eligibility_criteria', 'study_maximum_age', 'study_minimum_age', 'study_outcome_measures', 'study_participants', 'study_type', 'title'])\n",
      "dict_keys(['abstract', 'acronym', 'active_years', 'associated_grant_ids', 'brief_title', 'category_bra', 'category_for', 'category_for_2020', 'category_hra', 'category_hrcs_hc', 'category_rcdc', 'conditions', 'date', 'date_inserted', 'dimensions_url', 'end_date', 'funder_countries', 'funders', 'gender', 'id', 'interventions', 'investigators', 'linkout', 'mesh_terms', 'phase', 'registry', 'research_orgs', 'researchers', 'score', 'start_date', 'study_arms', 'study_designs', 'study_eligibility_criteria', 'study_maximum_age', 'study_minimum_age', 'study_outcome_measures', 'study_participants', 'study_type', 'title'])\n",
      "dict_keys(['abstract', 'acronym', 'active_years', 'associated_grant_ids', 'brief_title', 'category_bra', 'category_for', 'category_for_2020', 'category_hra', 'category_hrcs_hc', 'category_hrcs_rac', 'category_rcdc', 'conditions', 'date', 'date_inserted', 'dimensions_url', 'end_date', 'funder_countries', 'funders', 'gender', 'id', 'interventions', 'investigators', 'linkout', 'mesh_terms', 'phase', 'publication_ids', 'publications', 'registry', 'research_orgs', 'researchers', 'score', 'start_date', 'study_arms', 'study_designs', 'study_eligibility_criteria', 'study_maximum_age', 'study_minimum_age', 'study_outcome_measures', 'study_participants', 'study_type', 'title'])\n",
      "dict_keys(['abstract', 'acronym', 'active_years', 'brief_title', 'category_bra', 'category_for', 'category_for_2020', 'category_hra', 'category_hrcs_hc', 'category_rcdc', 'conditions', 'date', 'date_inserted', 'dimensions_url', 'end_date', 'funder_countries', 'funders', 'gender', 'id', 'interventions', 'investigators', 'linkout', 'mesh_terms', 'phase', 'registry', 'research_orgs', 'researchers', 'score', 'start_date', 'study_arms', 'study_designs', 'study_eligibility_criteria', 'study_maximum_age', 'study_minimum_age', 'study_outcome_measures', 'study_participants', 'study_type', 'title'])\n",
      "dict_keys(['abstract', 'active_years', 'brief_title', 'category_bra', 'category_for', 'category_for_2020', 'category_hra', 'category_hrcs_hc', 'category_rcdc', 'conditions', 'date', 'date_inserted', 'dimensions_url', 'end_date', 'gender', 'id', 'interventions', 'investigators', 'linkout', 'mesh_terms', 'phase', 'registry', 'research_orgs', 'researchers', 'score', 'start_date', 'study_arms', 'study_designs', 'study_eligibility_criteria', 'study_maximum_age', 'study_minimum_age', 'study_outcome_measures', 'study_participants', 'study_type', 'title'])\n",
      "dict_keys(['abstract', 'active_years', 'altmetric', 'brief_title', 'category_bra', 'category_for', 'category_for_2020', 'category_hra', 'category_hrcs_hc', 'category_hrcs_rac', 'category_rcdc', 'conditions', 'date', 'date_inserted', 'dimensions_url', 'end_date', 'funder_countries', 'funders', 'gender', 'id', 'interventions', 'investigators', 'linkout', 'mesh_terms', 'phase', 'registry', 'research_orgs', 'researchers', 'score', 'start_date', 'study_designs', 'study_eligibility_criteria', 'study_maximum_age', 'study_minimum_age', 'study_outcome_measures', 'study_participants', 'study_type', 'title'])\n",
      "dict_keys(['abstract', 'acronym', 'active_years', 'associated_grant_ids', 'brief_title', 'category_bra', 'category_for', 'category_for_2020', 'category_hra', 'category_hrcs_hc', 'category_hrcs_rac', 'category_rcdc', 'conditions', 'date', 'date_inserted', 'dimensions_url', 'end_date', 'funder_countries', 'funders', 'gender', 'id', 'interventions', 'investigators', 'linkout', 'mesh_terms', 'phase', 'registry', 'research_orgs', 'researchers', 'score', 'start_date', 'study_arms', 'study_designs', 'study_eligibility_criteria', 'study_maximum_age', 'study_minimum_age', 'study_outcome_measures', 'study_participants', 'study_type', 'title'])\n",
      "dict_keys(['abstract', 'active_years', 'brief_title', 'category_bra', 'category_for', 'category_for_2020', 'category_hrcs_hc', 'category_hrcs_rac', 'category_icrp_cso', 'category_icrp_ct', 'category_rcdc', 'conditions', 'date', 'date_inserted', 'dimensions_url', 'end_date', 'funder_countries', 'funders', 'gender', 'id', 'interventions', 'investigators', 'linkout', 'mesh_terms', 'phase', 'registry', 'research_orgs', 'researchers', 'score', 'start_date', 'study_arms', 'study_designs', 'study_eligibility_criteria', 'study_maximum_age', 'study_minimum_age', 'study_outcome_measures', 'study_participants', 'study_type', 'title'])\n",
      "dict_keys(['abstract', 'active_years', 'altmetric', 'associated_grant_ids', 'brief_title', 'category_bra', 'category_for', 'category_for_2020', 'category_hra', 'category_hrcs_hc', 'category_hrcs_rac', 'category_icrp_cso', 'category_icrp_ct', 'category_rcdc', 'conditions', 'date', 'date_inserted', 'dimensions_url', 'end_date', 'funder_countries', 'funders', 'gender', 'id', 'interventions', 'investigators', 'linkout', 'mesh_terms', 'phase', 'registry', 'research_orgs', 'researchers', 'score', 'start_date', 'study_arms', 'study_designs', 'study_eligibility_criteria', 'study_maximum_age', 'study_minimum_age', 'study_outcome_measures', 'study_participants', 'study_type', 'title'])\n",
      "dict_keys(['abstract', 'active_years', 'altmetric', 'brief_title', 'category_bra', 'category_for', 'category_for_2020', 'category_hra', 'category_hrcs_hc', 'category_hrcs_rac', 'category_icrp_cso', 'category_icrp_ct', 'category_rcdc', 'conditions', 'date', 'date_inserted', 'dimensions_url', 'end_date', 'funder_countries', 'funders', 'gender', 'id', 'interventions', 'investigators', 'linkout', 'mesh_terms', 'phase', 'registry', 'research_orgs', 'researchers', 'score', 'start_date', 'study_arms', 'study_designs', 'study_eligibility_criteria', 'study_maximum_age', 'study_minimum_age', 'study_outcome_measures', 'study_participants', 'study_type', 'title'])\n",
      "dict_keys(['abstract', 'active_years', 'associated_grant_ids', 'brief_title', 'category_bra', 'category_for', 'category_for_2020', 'category_hra', 'category_hrcs_hc', 'category_hrcs_rac', 'category_icrp_cso', 'category_icrp_ct', 'category_rcdc', 'conditions', 'date', 'date_inserted', 'dimensions_url', 'end_date', 'funder_countries', 'funders', 'gender', 'id', 'interventions', 'investigators', 'linkout', 'mesh_terms', 'phase', 'registry', 'research_orgs', 'researchers', 'score', 'start_date', 'study_arms', 'study_designs', 'study_eligibility_criteria', 'study_maximum_age', 'study_minimum_age', 'study_outcome_measures', 'study_participants', 'study_type', 'title'])\n",
      "dict_keys(['abstract', 'active_years', 'altmetric', 'brief_title', 'category_bra', 'category_for', 'category_for_2020', 'category_hra', 'category_hrcs_hc', 'category_hrcs_rac', 'category_icrp_cso', 'category_icrp_ct', 'category_rcdc', 'conditions', 'date', 'date_inserted', 'dimensions_url', 'end_date', 'funder_countries', 'funders', 'gender', 'id', 'interventions', 'investigators', 'linkout', 'mesh_terms', 'phase', 'registry', 'research_orgs', 'researchers', 'score', 'start_date', 'study_arms', 'study_designs', 'study_eligibility_criteria', 'study_maximum_age', 'study_minimum_age', 'study_outcome_measures', 'study_participants', 'study_type', 'title'])\n",
      "dict_keys(['abstract', 'associated_grant_ids', 'brief_title', 'category_bra', 'category_for', 'category_for_2020', 'category_hra', 'category_hrcs_hc', 'category_hrcs_rac', 'category_icrp_cso', 'category_icrp_ct', 'category_rcdc', 'conditions', 'date', 'date_inserted', 'dimensions_url', 'funder_countries', 'funders', 'gender', 'id', 'interventions', 'investigators', 'linkout', 'mesh_terms', 'phase', 'registry', 'research_orgs', 'researchers', 'score', 'start_date', 'study_designs', 'study_eligibility_criteria', 'study_maximum_age', 'study_minimum_age', 'study_outcome_measures', 'study_participants', 'study_type', 'title'])\n",
      "dict_keys(['abstract', 'active_years', 'associated_grant_ids', 'brief_title', 'category_bra', 'category_for', 'category_for_2020', 'category_hra', 'category_hrcs_hc', 'category_hrcs_rac', 'category_icrp_cso', 'category_icrp_ct', 'category_rcdc', 'conditions', 'date', 'date_inserted', 'dimensions_url', 'end_date', 'funder_countries', 'funders', 'gender', 'id', 'interventions', 'investigators', 'linkout', 'mesh_terms', 'phase', 'registry', 'research_orgs', 'researchers', 'score', 'start_date', 'study_arms', 'study_designs', 'study_eligibility_criteria', 'study_maximum_age', 'study_minimum_age', 'study_outcome_measures', 'study_participants', 'study_type', 'title'])\n",
      "dict_keys(['abstract', 'active_years', 'associated_grant_ids', 'brief_title', 'category_bra', 'category_for', 'category_for_2020', 'category_hra', 'category_hrcs_hc', 'category_hrcs_rac', 'category_icrp_cso', 'category_icrp_ct', 'category_rcdc', 'conditions', 'date', 'date_inserted', 'dimensions_url', 'end_date', 'funder_countries', 'funders', 'gender', 'id', 'interventions', 'investigators', 'linkout', 'mesh_terms', 'phase', 'registry', 'research_orgs', 'researchers', 'score', 'start_date', 'study_designs', 'study_eligibility_criteria', 'study_maximum_age', 'study_minimum_age', 'study_outcome_measures', 'study_participants', 'study_type', 'title'])\n",
      "dict_keys(['abstract', 'associated_grant_ids', 'brief_title', 'category_bra', 'category_for', 'category_for_2020', 'category_hra', 'category_hrcs_hc', 'category_hrcs_rac', 'category_icrp_cso', 'category_icrp_ct', 'category_rcdc', 'conditions', 'date', 'date_inserted', 'dimensions_url', 'funder_countries', 'funders', 'gender', 'id', 'interventions', 'investigators', 'linkout', 'mesh_terms', 'phase', 'registry', 'research_orgs', 'researchers', 'score', 'start_date', 'study_arms', 'study_designs', 'study_eligibility_criteria', 'study_maximum_age', 'study_minimum_age', 'study_outcome_measures', 'study_participants', 'study_type', 'title'])\n",
      "dict_keys(['abstract', 'brief_title', 'category_bra', 'category_for', 'category_for_2020', 'category_hrcs_hc', 'category_hrcs_rac', 'category_icrp_cso', 'category_icrp_ct', 'category_rcdc', 'conditions', 'date', 'date_inserted', 'dimensions_url', 'funder_countries', 'funders', 'gender', 'id', 'interventions', 'investigators', 'linkout', 'mesh_terms', 'phase', 'registry', 'research_orgs', 'researchers', 'score', 'start_date', 'study_arms', 'study_designs', 'study_eligibility_criteria', 'study_maximum_age', 'study_minimum_age', 'study_outcome_measures', 'study_participants', 'study_type', 'title'])\n",
      "dict_keys(['abstract', 'active_years', 'brief_title', 'category_bra', 'category_for', 'category_for_2020', 'category_hra', 'category_hrcs_hc', 'category_hrcs_rac', 'category_icrp_cso', 'category_icrp_ct', 'category_rcdc', 'conditions', 'date', 'date_inserted', 'dimensions_url', 'end_date', 'funder_countries', 'funders', 'gender', 'id', 'interventions', 'investigators', 'linkout', 'mesh_terms', 'phase', 'registry', 'research_orgs', 'researchers', 'score', 'start_date', 'study_arms', 'study_designs', 'study_eligibility_criteria', 'study_maximum_age', 'study_minimum_age', 'study_outcome_measures', 'study_participants', 'study_type', 'title'])\n",
      "dict_keys(['abstract', 'active_years', 'altmetric', 'brief_title', 'category_for', 'category_for_2020', 'category_hra', 'category_hrcs_rac', 'category_icrp_cso', 'category_icrp_ct', 'category_rcdc', 'conditions', 'date', 'date_inserted', 'dimensions_url', 'end_date', 'funder_countries', 'funders', 'gender', 'id', 'interventions', 'investigators', 'linkout', 'mesh_terms', 'phase', 'registry', 'research_orgs', 'researchers', 'score', 'start_date', 'study_arms', 'study_designs', 'study_eligibility_criteria', 'study_maximum_age', 'study_minimum_age', 'study_outcome_measures', 'study_participants', 'study_type', 'title'])\n",
      "dict_keys(['abstract', 'active_years', 'associated_grant_ids', 'brief_title', 'category_bra', 'category_for', 'category_for_2020', 'category_hra', 'category_hrcs_rac', 'category_icrp_ct', 'category_rcdc', 'conditions', 'date', 'date_inserted', 'dimensions_url', 'end_date', 'funder_countries', 'funders', 'gender', 'id', 'interventions', 'investigators', 'linkout', 'mesh_terms', 'phase', 'registry', 'research_orgs', 'researchers', 'score', 'start_date', 'study_arms', 'study_designs', 'study_eligibility_criteria', 'study_maximum_age', 'study_minimum_age', 'study_outcome_measures', 'study_participants', 'study_type', 'title'])\n",
      "dict_keys(['abstract', 'acronym', 'active_years', 'altmetric', 'brief_title', 'category_bra', 'category_for', 'category_for_2020', 'category_hra', 'category_hrcs_rac', 'category_rcdc', 'conditions', 'date', 'date_inserted', 'dimensions_url', 'end_date', 'funder_countries', 'funders', 'gender', 'id', 'interventions', 'investigators', 'linkout', 'mesh_terms', 'phase', 'registry', 'research_orgs', 'researchers', 'score', 'start_date', 'study_arms', 'study_designs', 'study_eligibility_criteria', 'study_maximum_age', 'study_minimum_age', 'study_outcome_measures', 'study_participants', 'study_type', 'title'])\n",
      "dict_keys(['abstract', 'active_years', 'altmetric', 'brief_title', 'category_bra', 'category_for', 'category_for_2020', 'category_hra', 'category_hrcs_hc', 'category_hrcs_rac', 'category_rcdc', 'conditions', 'date', 'date_inserted', 'dimensions_url', 'end_date', 'funder_countries', 'funders', 'gender', 'id', 'investigators', 'linkout', 'mesh_terms', 'phase', 'registry', 'research_orgs', 'researchers', 'score', 'start_date', 'study_arms', 'study_designs', 'study_eligibility_criteria', 'study_maximum_age', 'study_minimum_age', 'study_outcome_measures', 'study_participants', 'study_type', 'title'])\n",
      "dict_keys(['abstract', 'active_years', 'brief_title', 'category_bra', 'category_for', 'category_for_2020', 'category_hra', 'category_hrcs_rac', 'category_rcdc', 'conditions', 'date', 'date_inserted', 'dimensions_url', 'end_date', 'funder_countries', 'funders', 'gender', 'id', 'interventions', 'investigators', 'linkout', 'mesh_terms', 'phase', 'publication_ids', 'publications', 'registry', 'research_orgs', 'researchers', 'score', 'start_date', 'study_arms', 'study_designs', 'study_eligibility_criteria', 'study_maximum_age', 'study_minimum_age', 'study_outcome_measures', 'study_participants', 'study_type', 'title'])\n",
      "dict_keys(['abstract', 'acronym', 'active_years', 'altmetric', 'brief_title', 'category_bra', 'category_for', 'category_for_2020', 'category_hra', 'category_hrcs_rac', 'category_rcdc', 'conditions', 'date', 'date_inserted', 'dimensions_url', 'end_date', 'funder_countries', 'funders', 'gender', 'id', 'interventions', 'investigators', 'linkout', 'mesh_terms', 'phase', 'registry', 'research_orgs', 'researchers', 'score', 'start_date', 'study_arms', 'study_designs', 'study_eligibility_criteria', 'study_maximum_age', 'study_minimum_age', 'study_outcome_measures', 'study_participants', 'study_type', 'title'])\n",
      "dict_keys(['abstract', 'active_years', 'brief_title', 'category_bra', 'category_for', 'category_for_2020', 'category_hra', 'category_hrcs_hc', 'category_hrcs_rac', 'category_icrp_cso', 'category_icrp_ct', 'category_rcdc', 'conditions', 'date', 'date_inserted', 'dimensions_url', 'end_date', 'funder_countries', 'funders', 'gender', 'id', 'interventions', 'investigators', 'linkout', 'mesh_terms', 'phase', 'registry', 'research_orgs', 'researchers', 'score', 'start_date', 'study_arms', 'study_designs', 'study_eligibility_criteria', 'study_maximum_age', 'study_minimum_age', 'study_outcome_measures', 'study_participants', 'study_type', 'title'])\n",
      "dict_keys(['abstract', 'active_years', 'associated_grant_ids', 'brief_title', 'category_bra', 'category_for', 'category_for_2020', 'category_hra', 'category_hrcs_hc', 'category_icrp_cso', 'category_icrp_ct', 'category_rcdc', 'conditions', 'date', 'date_inserted', 'dimensions_url', 'end_date', 'funder_countries', 'funders', 'gender', 'id', 'interventions', 'investigators', 'linkout', 'mesh_terms', 'phase', 'registry', 'research_orgs', 'researchers', 'score', 'start_date', 'study_arms', 'study_designs', 'study_eligibility_criteria', 'study_maximum_age', 'study_minimum_age', 'study_outcome_measures', 'study_participants', 'study_type', 'title'])\n",
      "dict_keys(['abstract', 'active_years', 'brief_title', 'category_bra', 'category_for', 'category_for_2020', 'category_hra', 'category_hrcs_hc', 'category_icrp_cso', 'category_icrp_ct', 'category_rcdc', 'conditions', 'date', 'date_inserted', 'dimensions_url', 'end_date', 'funder_countries', 'funders', 'gender', 'id', 'interventions', 'investigators', 'linkout', 'mesh_terms', 'phase', 'registry', 'research_orgs', 'researchers', 'score', 'start_date', 'study_arms', 'study_designs', 'study_eligibility_criteria', 'study_maximum_age', 'study_minimum_age', 'study_outcome_measures', 'study_participants', 'study_type', 'title'])\n",
      "dict_keys(['abstract', 'active_years', 'brief_title', 'category_bra', 'category_for', 'category_for_2020', 'category_hra', 'category_hrcs_hc', 'category_hrcs_rac', 'category_icrp_ct', 'category_rcdc', 'conditions', 'date', 'date_inserted', 'dimensions_url', 'end_date', 'funder_countries', 'funders', 'gender', 'id', 'interventions', 'investigators', 'linkout', 'mesh_terms', 'phase', 'registry', 'research_orgs', 'researchers', 'score', 'start_date', 'study_arms', 'study_designs', 'study_eligibility_criteria', 'study_maximum_age', 'study_minimum_age', 'study_outcome_measures', 'study_participants', 'study_type', 'title'])\n",
      "dict_keys(['abstract', 'active_years', 'brief_title', 'category_bra', 'category_for', 'category_for_2020', 'category_hra', 'category_hrcs_hc', 'category_hrcs_rac', 'category_rcdc', 'conditions', 'date', 'date_inserted', 'dimensions_url', 'end_date', 'funder_countries', 'funders', 'gender', 'id', 'investigators', 'linkout', 'mesh_terms', 'phase', 'publication_ids', 'publications', 'registry', 'research_orgs', 'researchers', 'score', 'start_date', 'study_eligibility_criteria', 'study_maximum_age', 'study_minimum_age', 'study_participants', 'study_type', 'title'])\n",
      "dict_keys(['abstract', 'active_years', 'altmetric', 'brief_title', 'category_bra', 'category_for', 'category_for_2020', 'category_hra', 'category_hrcs_hc', 'category_hrcs_rac', 'category_rcdc', 'conditions', 'date', 'date_inserted', 'dimensions_url', 'end_date', 'funder_countries', 'funders', 'gender', 'id', 'interventions', 'investigators', 'linkout', 'mesh_terms', 'phase', 'publication_ids', 'publications', 'registry', 'research_orgs', 'researchers', 'score', 'start_date', 'study_arms', 'study_designs', 'study_eligibility_criteria', 'study_maximum_age', 'study_minimum_age', 'study_outcome_measures', 'study_participants', 'study_type', 'title'])\n",
      "dict_keys(['abstract', 'active_years', 'altmetric', 'brief_title', 'category_bra', 'category_for', 'category_for_2020', 'category_hra', 'category_hrcs_hc', 'category_hrcs_rac', 'category_rcdc', 'conditions', 'date', 'date_inserted', 'dimensions_url', 'end_date', 'funder_countries', 'funders', 'gender', 'id', 'interventions', 'investigators', 'linkout', 'mesh_terms', 'phase', 'publication_ids', 'publications', 'registry', 'research_orgs', 'researchers', 'score', 'start_date', 'study_designs', 'study_eligibility_criteria', 'study_maximum_age', 'study_minimum_age', 'study_outcome_measures', 'study_participants', 'study_type', 'title'])\n",
      "dict_keys(['abstract', 'active_years', 'brief_title', 'category_bra', 'category_for', 'category_for_2020', 'category_hra', 'category_hrcs_hc', 'category_hrcs_rac', 'category_rcdc', 'conditions', 'date', 'date_inserted', 'dimensions_url', 'end_date', 'funder_countries', 'funders', 'gender', 'id', 'interventions', 'investigators', 'linkout', 'mesh_terms', 'phase', 'publication_ids', 'publications', 'registry', 'research_orgs', 'researchers', 'score', 'start_date', 'study_designs', 'study_eligibility_criteria', 'study_maximum_age', 'study_minimum_age', 'study_outcome_measures', 'study_participants', 'study_type', 'title'])\n",
      "dict_keys(['abstract', 'active_years', 'brief_title', 'category_bra', 'category_for', 'category_for_2020', 'category_hra', 'category_hrcs_hc', 'category_rcdc', 'conditions', 'date', 'date_inserted', 'dimensions_url', 'end_date', 'funder_countries', 'funders', 'gender', 'id', 'interventions', 'investigators', 'linkout', 'mesh_terms', 'phase', 'publication_ids', 'publications', 'registry', 'research_orgs', 'researchers', 'score', 'start_date', 'study_designs', 'study_eligibility_criteria', 'study_maximum_age', 'study_minimum_age', 'study_outcome_measures', 'study_participants', 'study_type', 'title'])\n",
      "dict_keys(['abstract', 'active_years', 'brief_title', 'category_bra', 'category_for', 'category_for_2020', 'category_hra', 'category_hrcs_hc', 'category_rcdc', 'conditions', 'date', 'date_inserted', 'dimensions_url', 'end_date', 'funder_countries', 'funders', 'gender', 'id', 'interventions', 'investigators', 'linkout', 'mesh_terms', 'phase', 'publication_ids', 'publications', 'registry', 'research_orgs', 'researchers', 'score', 'start_date', 'study_designs', 'study_eligibility_criteria', 'study_maximum_age', 'study_minimum_age', 'study_participants', 'study_type', 'title'])\n",
      "dict_keys(['abstract', 'active_years', 'altmetric', 'associated_grant_ids', 'brief_title', 'category_bra', 'category_for', 'category_for_2020', 'category_hra', 'category_hrcs_hc', 'category_hrcs_rac', 'category_icrp_cso', 'category_icrp_ct', 'category_rcdc', 'conditions', 'date', 'date_inserted', 'dimensions_url', 'end_date', 'funder_countries', 'funders', 'gender', 'id', 'interventions', 'investigators', 'linkout', 'mesh_terms', 'phase', 'publication_ids', 'publications', 'registry', 'research_orgs', 'researchers', 'score', 'start_date', 'study_arms', 'study_designs', 'study_eligibility_criteria', 'study_maximum_age', 'study_minimum_age', 'study_outcome_measures', 'study_participants', 'study_type', 'title'])\n",
      "dict_keys(['abstract', 'active_years', 'brief_title', 'category_bra', 'category_for', 'category_for_2020', 'category_hra', 'category_rcdc', 'conditions', 'date', 'date_inserted', 'dimensions_url', 'end_date', 'funder_countries', 'funders', 'gender', 'id', 'interventions', 'investigators', 'linkout', 'mesh_terms', 'phase', 'publication_ids', 'publications', 'registry', 'research_orgs', 'researchers', 'score', 'start_date', 'study_designs', 'study_eligibility_criteria', 'study_maximum_age', 'study_minimum_age', 'study_participants', 'study_type', 'title'])\n",
      "dict_keys(['abstract', 'active_years', 'brief_title', 'category_bra', 'category_for', 'category_for_2020', 'category_hra', 'category_hrcs_hc', 'category_hrcs_rac', 'category_icrp_cso', 'category_icrp_ct', 'category_rcdc', 'conditions', 'date', 'date_inserted', 'dimensions_url', 'end_date', 'funder_countries', 'funders', 'gender', 'id', 'investigators', 'linkout', 'phase', 'publication_ids', 'publications', 'registry', 'research_orgs', 'researchers', 'score', 'start_date', 'study_arms', 'study_designs', 'study_eligibility_criteria', 'study_maximum_age', 'study_minimum_age', 'study_outcome_measures', 'study_participants', 'study_type', 'title'])\n",
      "dict_keys(['abstract', 'active_years', 'brief_title', 'category_bra', 'category_for', 'category_for_2020', 'category_hra', 'category_hrcs_hc', 'category_rcdc', 'conditions', 'date', 'date_inserted', 'dimensions_url', 'end_date', 'funder_countries', 'funders', 'gender', 'id', 'interventions', 'investigators', 'linkout', 'mesh_terms', 'phase', 'publication_ids', 'publications', 'registry', 'research_orgs', 'researchers', 'score', 'start_date', 'study_designs', 'study_eligibility_criteria', 'study_maximum_age', 'study_minimum_age', 'study_outcome_measures', 'study_participants', 'study_type', 'title'])\n",
      "dict_keys(['abstract', 'associated_grant_ids', 'brief_title', 'category_bra', 'category_for', 'category_for_2020', 'category_hra', 'category_hrcs_hc', 'category_hrcs_rac', 'category_icrp_cso', 'category_icrp_ct', 'category_rcdc', 'conditions', 'date', 'date_inserted', 'dimensions_url', 'funder_countries', 'funders', 'gender', 'id', 'investigators', 'linkout', 'mesh_terms', 'phase', 'publication_ids', 'publications', 'registry', 'research_orgs', 'researchers', 'score', 'start_date', 'study_arms', 'study_designs', 'study_eligibility_criteria', 'study_maximum_age', 'study_minimum_age', 'study_outcome_measures', 'study_participants', 'study_type', 'title'])\n",
      "dict_keys(['abstract', 'active_years', 'altmetric', 'brief_title', 'category_bra', 'category_for', 'category_for_2020', 'category_hra', 'category_hrcs_hc', 'category_hrcs_rac', 'category_rcdc', 'conditions', 'date', 'date_inserted', 'dimensions_url', 'end_date', 'funder_countries', 'funders', 'gender', 'id', 'interventions', 'investigators', 'linkout', 'mesh_terms', 'phase', 'registry', 'research_orgs', 'researchers', 'score', 'start_date', 'study_arms', 'study_designs', 'study_eligibility_criteria', 'study_maximum_age', 'study_minimum_age', 'study_outcome_measures', 'study_participants', 'study_type', 'title'])\n",
      "dict_keys(['abstract', 'acronym', 'active_years', 'brief_title', 'category_bra', 'category_for', 'category_for_2020', 'category_hra', 'category_hrcs_hc', 'category_hrcs_rac', 'category_rcdc', 'conditions', 'date', 'date_inserted', 'dimensions_url', 'end_date', 'funder_countries', 'funders', 'gender', 'id', 'interventions', 'investigators', 'linkout', 'mesh_terms', 'phase', 'registry', 'research_orgs', 'researchers', 'score', 'start_date', 'study_arms', 'study_designs', 'study_eligibility_criteria', 'study_maximum_age', 'study_minimum_age', 'study_outcome_measures', 'study_participants', 'study_type', 'title'])\n",
      "dict_keys(['abstract', 'active_years', 'brief_title', 'category_bra', 'category_for', 'category_for_2020', 'category_hra', 'category_hrcs_hc', 'category_hrcs_rac', 'category_rcdc', 'conditions', 'date', 'date_inserted', 'dimensions_url', 'end_date', 'gender', 'id', 'interventions', 'investigators', 'linkout', 'mesh_terms', 'phase', 'registry', 'research_orgs', 'researchers', 'score', 'start_date', 'study_arms', 'study_designs', 'study_eligibility_criteria', 'study_maximum_age', 'study_minimum_age', 'study_outcome_measures', 'study_participants', 'study_type', 'title'])\n",
      "dict_keys(['abstract', 'acronym', 'active_years', 'brief_title', 'category_bra', 'category_for', 'category_for_2020', 'category_hra', 'category_hrcs_rac', 'category_rcdc', 'conditions', 'date', 'date_inserted', 'dimensions_url', 'end_date', 'funder_countries', 'funders', 'gender', 'id', 'interventions', 'investigators', 'linkout', 'mesh_terms', 'phase', 'registry', 'research_orgs', 'researchers', 'score', 'start_date', 'study_arms', 'study_designs', 'study_eligibility_criteria', 'study_maximum_age', 'study_minimum_age', 'study_outcome_measures', 'study_participants', 'study_type', 'title'])\n",
      "dict_keys(['abstract', 'active_years', 'brief_title', 'category_bra', 'category_for', 'category_for_2020', 'category_hrcs_hc', 'category_rcdc', 'conditions', 'date', 'date_inserted', 'dimensions_url', 'end_date', 'funder_countries', 'funders', 'gender', 'id', 'interventions', 'investigators', 'linkout', 'mesh_terms', 'phase', 'registry', 'research_orgs', 'researchers', 'score', 'start_date', 'study_arms', 'study_designs', 'study_eligibility_criteria', 'study_maximum_age', 'study_minimum_age', 'study_outcome_measures', 'study_participants', 'study_type', 'title'])\n",
      "dict_keys(['abstract', 'acronym', 'active_years', 'altmetric', 'brief_title', 'category_bra', 'category_for', 'category_for_2020', 'category_hra', 'category_hrcs_hc', 'category_hrcs_rac', 'category_rcdc', 'conditions', 'date', 'date_inserted', 'dimensions_url', 'end_date', 'funder_countries', 'funders', 'gender', 'id', 'interventions', 'investigators', 'linkout', 'mesh_terms', 'phase', 'registry', 'research_orgs', 'researchers', 'score', 'start_date', 'study_arms', 'study_designs', 'study_eligibility_criteria', 'study_maximum_age', 'study_minimum_age', 'study_outcome_measures', 'study_participants', 'study_type', 'title'])\n",
      "dict_keys(['abstract', 'active_years', 'altmetric', 'associated_grant_ids', 'brief_title', 'category_for', 'category_for_2020', 'category_hra', 'category_hrcs_hc', 'category_rcdc', 'conditions', 'date', 'date_inserted', 'dimensions_url', 'end_date', 'funder_countries', 'funders', 'gender', 'id', 'interventions', 'investigators', 'linkout', 'phase', 'registry', 'research_orgs', 'researchers', 'score', 'start_date', 'study_arms', 'study_designs', 'study_eligibility_criteria', 'study_maximum_age', 'study_minimum_age', 'study_outcome_measures', 'study_participants', 'study_type', 'title'])\n",
      "dict_keys(['abstract', 'active_years', 'associated_grant_ids', 'brief_title', 'category_bra', 'category_for', 'category_for_2020', 'category_hra', 'category_hrcs_hc', 'category_hrcs_rac', 'category_rcdc', 'conditions', 'date', 'date_inserted', 'dimensions_url', 'end_date', 'funder_countries', 'funders', 'gender', 'id', 'interventions', 'investigators', 'linkout', 'mesh_terms', 'phase', 'registry', 'research_orgs', 'researchers', 'score', 'start_date', 'study_arms', 'study_designs', 'study_eligibility_criteria', 'study_maximum_age', 'study_minimum_age', 'study_outcome_measures', 'study_participants', 'study_type', 'title'])\n",
      "dict_keys(['abstract', 'active_years', 'brief_title', 'category_bra', 'category_for', 'category_for_2020', 'category_hra', 'category_hrcs_hc', 'category_icrp_ct', 'category_rcdc', 'conditions', 'date', 'date_inserted', 'dimensions_url', 'end_date', 'funder_countries', 'funders', 'gender', 'id', 'interventions', 'investigators', 'linkout', 'mesh_terms', 'phase', 'registry', 'research_orgs', 'researchers', 'score', 'start_date', 'study_arms', 'study_designs', 'study_eligibility_criteria', 'study_maximum_age', 'study_minimum_age', 'study_outcome_measures', 'study_participants', 'study_type', 'title'])\n",
      "dict_keys(['abstract', 'acronym', 'active_years', 'altmetric', 'associated_grant_ids', 'brief_title', 'category_bra', 'category_for', 'category_for_2020', 'category_hra', 'category_hrcs_hc', 'category_hrcs_rac', 'category_icrp_cso', 'category_icrp_ct', 'category_rcdc', 'conditions', 'date', 'date_inserted', 'dimensions_url', 'end_date', 'funder_countries', 'funders', 'gender', 'id', 'investigators', 'linkout', 'mesh_terms', 'phase', 'registry', 'research_orgs', 'researchers', 'score', 'start_date', 'study_arms', 'study_designs', 'study_eligibility_criteria', 'study_maximum_age', 'study_minimum_age', 'study_outcome_measures', 'study_participants', 'study_type', 'title'])\n",
      "dict_keys(['abstract', 'active_years', 'associated_grant_ids', 'brief_title', 'category_bra', 'category_for', 'category_for_2020', 'category_hra', 'category_hrcs_hc', 'category_rcdc', 'conditions', 'date', 'date_inserted', 'dimensions_url', 'end_date', 'funder_countries', 'funders', 'gender', 'id', 'interventions', 'investigators', 'linkout', 'mesh_terms', 'phase', 'registry', 'research_orgs', 'researchers', 'score', 'start_date', 'study_arms', 'study_designs', 'study_eligibility_criteria', 'study_maximum_age', 'study_minimum_age', 'study_outcome_measures', 'study_participants', 'study_type', 'title'])\n",
      "dict_keys(['abstract', 'acronym', 'altmetric', 'brief_title', 'category_bra', 'category_for', 'category_for_2020', 'category_hra', 'category_hrcs_hc', 'category_rcdc', 'conditions', 'date', 'date_inserted', 'dimensions_url', 'gender', 'id', 'interventions', 'investigators', 'linkout', 'mesh_terms', 'phase', 'registry', 'research_orgs', 'researchers', 'score', 'start_date', 'study_arms', 'study_designs', 'study_eligibility_criteria', 'study_maximum_age', 'study_minimum_age', 'study_outcome_measures', 'study_participants', 'study_type', 'title'])\n"
     ]
    }
   ],
   "source": [
    "with open(\"all_ClinicalTrials.json\", 'r') as file:\n",
    "    personDict = json.load(file)\n",
    "    for name, ctList in personDict.items():\n",
    "        for indv_ct in ctList:\n",
    "            print(indv_ct.keys())"
   ]
  },
  {
   "cell_type": "code",
   "execution_count": 22,
   "id": "c7c51f56",
   "metadata": {},
   "outputs": [
    {
     "name": "stdout",
     "output_type": "stream",
     "text": [
      "CSV file 'dimensionsCT_data.csv' created successfully.\n"
     ]
    }
   ],
   "source": [
    "import csv\n",
    "import json\n",
    "\n",
    "csv_filename = \"dimensionsCT_data.csv\"\n",
    "\n",
    "with open(\"all_ClinicalTrials.json\", 'r', encoding='utf-8') as file:\n",
    "    personDict = json.load(file)\n",
    "# removed 'research_orgs' and researchers'\n",
    "common_work_info_headers = ['abstract', 'active_years', 'altmetric', 'associated_grant_ids', 'brief_title', 'category_bra', 'category_for', 'category_for_2020', 'category_hra', 'category_hrcs_rac', 'category_rcdc', 'conditions', 'date', 'date_inserted', 'dimensions_url', 'end_date', 'funder_countries', 'funders', 'gender', 'id', 'interventions', 'investigators', 'linkout', 'mesh_terms', 'phase', 'publication_ids', 'publications', 'registry', 'score', 'start_date', 'study_arms', 'study_designs', 'study_eligibility_criteria', 'study_maximum_age', 'study_minimum_age', 'study_outcome_measures', 'study_participants', 'study_type', 'title']\n",
    "\n",
    "\n",
    "with open(csv_filename, 'w', newline='', encoding='utf-8') as csv_file:\n",
    "    writer = csv.writer(csv_file)\n",
    "    \n",
    "    header = ['Person'] + common_work_info_headers\n",
    "    writer.writerow(header)\n",
    "\n",
    "    # Write data rows\n",
    "    for person, works in personDict.items():\n",
    "        for work in works:  # Assuming works is a list of dictionaries now\n",
    "            row = [person] + [work.get(head, '') for head in common_work_info_headers]\n",
    "            writer.writerow(row)\n",
    "\n",
    "print(f\"CSV file '{csv_filename}' created successfully.\")\n"
   ]
  }
 ],
 "metadata": {
  "kernelspec": {
   "display_name": "Python 3 (ipykernel)",
   "language": "python",
   "name": "python3"
  },
  "language_info": {
   "codemirror_mode": {
    "name": "ipython",
    "version": 3
   },
   "file_extension": ".py",
   "mimetype": "text/x-python",
   "name": "python",
   "nbconvert_exporter": "python",
   "pygments_lexer": "ipython3",
   "version": "3.9.13"
  }
 },
 "nbformat": 4,
 "nbformat_minor": 5
}
