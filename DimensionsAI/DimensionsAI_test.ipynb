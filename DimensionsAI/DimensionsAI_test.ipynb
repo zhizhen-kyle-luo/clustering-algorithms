{
 "cells": [
  {
   "cell_type": "code",
   "execution_count": 1,
   "metadata": {},
   "outputs": [
    {
     "name": "stderr",
     "output_type": "stream",
     "text": [
      "/Users/FionaXu/Documents/Research/.venv/lib/python3.9/site-packages/urllib3/__init__.py:35: NotOpenSSLWarning:\n",
      "\n",
      "urllib3 v2 only supports OpenSSL 1.1.1+, currently the 'ssl' module is compiled with 'LibreSSL 2.8.3'. See: https://github.com/urllib3/urllib3/issues/3020\n",
      "\n"
     ]
    }
   ],
   "source": [
    "from tqdm.notebook import tqdm as progress\n",
    "import pandas as pd\n",
    "import plotly.express as px\n",
    "from plotly.offline import plot\n",
    "import dimcli\n",
    "from dimcli.utils import *\n",
    "import os, sys, time, json\n",
    "from IPython.display import Image\n",
    "from IPython.core.display import HTML "
   ]
  },
  {
   "cell_type": "code",
   "execution_count": null,
   "metadata": {},
   "outputs": [],
   "source": [
    "#Log into Dimensions\n",
    "#API key is: 9F8D648F0D7E437CB1736BEBDF007F02\n",
    "#!pip install dimcli -U --quiet \n",
    "\n",
    "print(\"==\\nLogging in..\")\n",
    "# https://digital-science.github.io/dimcli/getting-started.html#authentication\n",
    "ENDPOINT = \"https://app.dimensions.ai\"\n",
    "if 'google.colab' in sys.modules:\n",
    "    import getpass\n",
    "    KEY = getpass.getpass(prompt='API Key: ')  \n",
    "    dimcli.login(key=KEY, endpoint=ENDPOINT)\n",
    "else:\n",
    "    KEY = \"9F8D648F0D7E437CB1736BEBDF007F02\"\n",
    "    dimcli.login(key=KEY, endpoint=ENDPOINT)\n",
    "dsl = dimcli.Dsl()"
   ]
  },
  {
   "cell_type": "code",
   "execution_count": null,
   "metadata": {},
   "outputs": [],
   "source": []
  }
 ],
 "metadata": {
  "kernelspec": {
   "display_name": ".venv",
   "language": "python",
   "name": "python3"
  },
  "language_info": {
   "codemirror_mode": {
    "name": "ipython",
    "version": 3
   },
   "file_extension": ".py",
   "mimetype": "text/x-python",
   "name": "python",
   "nbconvert_exporter": "python",
   "pygments_lexer": "ipython3",
   "version": "3.9.6"
  }
 },
 "nbformat": 4,
 "nbformat_minor": 2
}
