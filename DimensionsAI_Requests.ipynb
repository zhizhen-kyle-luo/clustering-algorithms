{
 "cells": [
  {
   "cell_type": "code",
   "execution_count": 1,
   "id": "4b99665a",
   "metadata": {},
   "outputs": [],
   "source": [
    "#Use this link to understnd API calls and the steps below\n",
    "#https://docs.dimensions.ai/dsl/getting-started.html"
   ]
  },
  {
   "cell_type": "code",
   "execution_count": 2,
   "id": "34d5e3d3",
   "metadata": {},
   "outputs": [
    {
     "name": "stdout",
     "output_type": "stream",
     "text": [
      "==\n",
      "Logging in..\n",
      "\u001b[2mDimcli - Dimensions API Client (v1.1)\u001b[0m\n",
      "\u001b[2mConnected to: <https://app.dimensions.ai/api/dsl> - DSL v2.7\u001b[0m\n",
      "\u001b[2mMethod: manual login\u001b[0m\n"
     ]
    }
   ],
   "source": [
    "#Log into Dimensions\n",
    "#API key is: 9F8D648F0D7E437CB1736BEBDF007F02\n",
    "!pip install dimcli -U --quiet \n",
    "\n",
    "import dimcli\n",
    "from dimcli.utils import *\n",
    "\n",
    "import os, sys, time, json\n",
    "import pandas as pd\n",
    "from IPython.display import Image\n",
    "from IPython.core.display import HTML \n",
    "\n",
    "print(\"==\\nLogging in..\")\n",
    "# https://digital-science.github.io/dimcli/getting-started.html#authentication\n",
    "ENDPOINT = \"https://app.dimensions.ai\"\n",
    "if 'google.colab' in sys.modules:\n",
    "    import getpass\n",
    "    KEY = getpass.getpass(prompt='API Key: ')  \n",
    "    dimcli.login(key=KEY, endpoint=ENDPOINT)\n",
    "else:\n",
    "    KEY = \"9F8D648F0D7E437CB1736BEBDF007F02\"\n",
    "    dimcli.login(key=KEY, endpoint=ENDPOINT)\n",
    "dsl = dimcli.Dsl()"
   ]
  },
  {
   "cell_type": "code",
   "execution_count": 3,
   "id": "9e5b43ff",
   "metadata": {},
   "outputs": [],
   "source": [
    "import dimcli\n",
    "from dimcli.utils import *\n",
    "import os, sys, time, json\n",
    "from tqdm.notebook import tqdm as progress\n",
    "import pandas as pd\n",
    "import plotly.express as px\n",
    "from plotly.offline import plot"
   ]
  },
  {
   "cell_type": "code",
   "execution_count": 3,
   "id": "27d82e07",
   "metadata": {},
   "outputs": [
    {
     "name": "stdout",
     "output_type": "stream",
     "text": [
      "{'total_count': 6423}\n"
     ]
    }
   ],
   "source": [
    "res1 = dsl.query(\"\"\"\n",
    "  search publications\n",
    "  where year in [2013:2018] and research_orgs=\"grid.258806.1\"\n",
    "  return publications\"\"\", verbose=False)\n",
    "print(res1.stats) # PS this is short for `res.json['_stats'])`"
   ]
  },
  {
   "cell_type": "code",
   "execution_count": 4,
   "id": "a88676ac",
   "metadata": {},
   "outputs": [
    {
     "name": "stdout",
     "output_type": "stream",
     "text": [
      "{'total_count': 270}\n"
     ]
    }
   ],
   "source": [
    "res1 = dsl.query(\"\"\"\n",
    "  search publications in authors for \"Charles Peirce\" return publications\"\"\", verbose=False)\n",
    "print(res1.stats)"
   ]
  },
  {
   "cell_type": "code",
   "execution_count": 5,
   "id": "c0590c41",
   "metadata": {},
   "outputs": [
    {
     "name": "stdout",
     "output_type": "stream",
     "text": [
      "Returned Publications: 20 (total = 270)\n",
      "\u001b[2mTime: 5.87s\u001b[0m\n"
     ]
    },
    {
     "data": {
      "text/html": [
       "<div>\n",
       "<style scoped>\n",
       "    .dataframe tbody tr th:only-of-type {\n",
       "        vertical-align: middle;\n",
       "    }\n",
       "\n",
       "    .dataframe tbody tr th {\n",
       "        vertical-align: top;\n",
       "    }\n",
       "\n",
       "    .dataframe thead th {\n",
       "        text-align: right;\n",
       "    }\n",
       "</style>\n",
       "<table border=\"1\" class=\"dataframe\">\n",
       "  <thead>\n",
       "    <tr style=\"text-align: right;\">\n",
       "      <th></th>\n",
       "      <th>id</th>\n",
       "    </tr>\n",
       "  </thead>\n",
       "  <tbody>\n",
       "    <tr>\n",
       "      <th>0</th>\n",
       "      <td>pub.1147078001</td>\n",
       "    </tr>\n",
       "    <tr>\n",
       "      <th>1</th>\n",
       "      <td>pub.1141018395</td>\n",
       "    </tr>\n",
       "    <tr>\n",
       "      <th>2</th>\n",
       "      <td>pub.1140830594</td>\n",
       "    </tr>\n",
       "    <tr>\n",
       "      <th>3</th>\n",
       "      <td>pub.1140830593</td>\n",
       "    </tr>\n",
       "    <tr>\n",
       "      <th>4</th>\n",
       "      <td>pub.1137292963</td>\n",
       "    </tr>\n",
       "    <tr>\n",
       "      <th>5</th>\n",
       "      <td>pub.1137292823</td>\n",
       "    </tr>\n",
       "    <tr>\n",
       "      <th>6</th>\n",
       "      <td>pub.1137292778</td>\n",
       "    </tr>\n",
       "    <tr>\n",
       "      <th>7</th>\n",
       "      <td>pub.1137292744</td>\n",
       "    </tr>\n",
       "    <tr>\n",
       "      <th>8</th>\n",
       "      <td>pub.1137292342</td>\n",
       "    </tr>\n",
       "    <tr>\n",
       "      <th>9</th>\n",
       "      <td>pub.1137292279</td>\n",
       "    </tr>\n",
       "    <tr>\n",
       "      <th>10</th>\n",
       "      <td>pub.1137292222</td>\n",
       "    </tr>\n",
       "    <tr>\n",
       "      <th>11</th>\n",
       "      <td>pub.1137291947</td>\n",
       "    </tr>\n",
       "    <tr>\n",
       "      <th>12</th>\n",
       "      <td>pub.1137291489</td>\n",
       "    </tr>\n",
       "    <tr>\n",
       "      <th>13</th>\n",
       "      <td>pub.1137291274</td>\n",
       "    </tr>\n",
       "    <tr>\n",
       "      <th>14</th>\n",
       "      <td>pub.1137291247</td>\n",
       "    </tr>\n",
       "    <tr>\n",
       "      <th>15</th>\n",
       "      <td>pub.1137291143</td>\n",
       "    </tr>\n",
       "    <tr>\n",
       "      <th>16</th>\n",
       "      <td>pub.1137291051</td>\n",
       "    </tr>\n",
       "    <tr>\n",
       "      <th>17</th>\n",
       "      <td>pub.1137290993</td>\n",
       "    </tr>\n",
       "    <tr>\n",
       "      <th>18</th>\n",
       "      <td>pub.1137290770</td>\n",
       "    </tr>\n",
       "    <tr>\n",
       "      <th>19</th>\n",
       "      <td>pub.1137290678</td>\n",
       "    </tr>\n",
       "  </tbody>\n",
       "</table>\n",
       "</div>"
      ],
      "text/plain": [
       "                id\n",
       "0   pub.1147078001\n",
       "1   pub.1141018395\n",
       "2   pub.1140830594\n",
       "3   pub.1140830593\n",
       "4   pub.1137292963\n",
       "5   pub.1137292823\n",
       "6   pub.1137292778\n",
       "7   pub.1137292744\n",
       "8   pub.1137292342\n",
       "9   pub.1137292279\n",
       "10  pub.1137292222\n",
       "11  pub.1137291947\n",
       "12  pub.1137291489\n",
       "13  pub.1137291274\n",
       "14  pub.1137291247\n",
       "15  pub.1137291143\n",
       "16  pub.1137291051\n",
       "17  pub.1137290993\n",
       "18  pub.1137290770\n",
       "19  pub.1137290678"
      ]
     },
     "execution_count": 5,
     "metadata": {},
     "output_type": "execute_result"
    }
   ],
   "source": [
    "%%dsldf \n",
    "search publications in authors for \"\\\"Charles Peirce\\\"\" return publications[id]"
   ]
  },
  {
   "cell_type": "code",
   "execution_count": 14,
   "id": "b4f47562",
   "metadata": {},
   "outputs": [],
   "source": [
    "# %%dsldf \n",
    "# search publications in authors for \"\\\"Peter Fecci\\\"\" return publications[title]\n"
   ]
  },
  {
   "cell_type": "code",
   "execution_count": 3,
   "id": "2349c72c",
   "metadata": {},
   "outputs": [
    {
     "name": "stdout",
     "output_type": "stream",
     "text": [
      "Results in this batch:  30\n",
      "Results in total:  99559\n",
      "Errors:  None\n"
     ]
    }
   ],
   "source": [
    "result = dsl.query(\"\"\"\n",
    "     search publications\n",
    "       for \"malaria AND congo\"\n",
    "     return publications[basics]\n",
    "     limit 30\n",
    "\"\"\", verbose=False)\n",
    "# print some stats using the Result object\n",
    "print(\"Results in this batch: \", result.count_batch)\n",
    "print(\"Results in total: \", result.count_total)\n",
    "print(\"Errors: \",result.errors)"
   ]
  },
  {
   "cell_type": "code",
   "execution_count": 6,
   "id": "74a88264",
   "metadata": {},
   "outputs": [],
   "source": [
    "#EXAMPLE OF WRITING TO A FILENAME, NOT NECESSARY TO RUN\n",
    "# data = dsl.query_iterative(\"\"\"search publications where journal.title=\"nature medicine\" and year>2014 return publications[id+title+year+concepts]\"\"\")\n",
    "# data.to_json_file(FILENAME, verbose=True)\n",
    "# new_data = DslDataset.load_json_file(FILENAME, verbose=True)\n",
    "# print(new_data)"
   ]
  },
  {
   "cell_type": "code",
   "execution_count": 13,
   "id": "0414b056",
   "metadata": {},
   "outputs": [
    {
     "name": "stdout",
     "output_type": "stream",
     "text": [
      "Returned Publications: 20 (total = 1065)\n",
      "\u001b[2mTime: 0.83s\u001b[0m\n",
      "WARNINGS [1]\n",
      "Field current_organization_id of the authors field is deprecated and will be removed in the next major release.\n",
      "dict_keys(['_copyright', '_stats', '_version', '_warnings', 'publications'])\n"
     ]
    }
   ],
   "source": [
    "res = dsl.query(\"\"\"search publications in authors for \"Peng Ji\" return publications\"\"\")\n",
    "print(res.json.keys())"
   ]
  },
  {
   "cell_type": "code",
   "execution_count": null,
   "id": "dd52e152",
   "metadata": {},
   "outputs": [],
   "source": [
    "def getpubIDS(names):\n",
    "    finalDict= {}\n",
    "    for i in names:\n",
    "        idvDict = {}\n",
    "        res = dsl.query_iterative(f\"\"\"search publications in authors for \"{i}\" return publications\"\"\")\n",
    "        #print(res.json['publications']) #list of dictionaries\n",
    "        listDict = res.json['publications']\n",
    "        for l in listDict:\n",
    "            tempList = []\n",
    "            pubID = l['id']\n",
    "            idvDict[pubID] = l['title']\n",
    "        print(f\"==========There are {len(idvDict.keys())} publications with {i} search===========\")\n",
    "        finalDict[i]= idvDict\n",
    "        # Writing results to a JSON file\n",
    "    output_file = \"titlesCheckDimens.json\"\n",
    "    with open(output_file, 'w', encoding=\"utf-8\") as json_file:\n",
    "        json.dump(finalDict, json_file, ensure_ascii=False, indent=4)\n",
    "        \n",
    "    return finalDict\n",
    "        \n",
    "pubs = getpubIDS([\"Stephanie Eisenbarth\",\"Peng Ji\", \"Peter Fecci\", \"Tippi Mackenzie\", \"Purna Kashyap\"])"
   ]
  },
  {
   "cell_type": "code",
   "execution_count": 15,
   "id": "6670a263",
   "metadata": {},
   "outputs": [],
   "source": [
    "# allPK = (pubs[\"Purna Kashyap\"])\n",
    "# print(f'{len(allPK.keys())} PUBLICATIONS')\n",
    "# for i in allPK.keys():\n",
    "#     print(allPK[i])\n",
    "#     check = False\n",
    "#     print()\n",
    "# print(check)"
   ]
  },
  {
   "cell_type": "code",
   "execution_count": 47,
   "id": "3527e311",
   "metadata": {},
   "outputs": [
    {
     "name": "stdout",
     "output_type": "stream",
     "text": [
      "FALSE\n"
     ]
    }
   ],
   "source": [
    "def find(pubID):\n",
    "    allPK = (pubs[\"Purna Kashyap\"])\n",
    "    if pubID in allPK.keys():\n",
    "        print(\"TRUE\")\n",
    "    else:\n",
    "        print(\"FALSE\")\n",
    "find(\"pub.1040297645\")"
   ]
  },
  {
   "cell_type": "code",
   "execution_count": 16,
   "id": "497cb637",
   "metadata": {},
   "outputs": [
    {
     "ename": "NameError",
     "evalue": "name 'pubs' is not defined",
     "output_type": "error",
     "traceback": [
      "\u001b[1;31m---------------------------------------------------------------------------\u001b[0m",
      "\u001b[1;31mNameError\u001b[0m                                 Traceback (most recent call last)",
      "\u001b[1;32m~\\AppData\\Local\\Temp\\ipykernel_6644\\3633458832.py\u001b[0m in \u001b[0;36m<module>\u001b[1;34m\u001b[0m\n\u001b[0;32m     22\u001b[0m     \u001b[1;34m\"strategies to treat helicobacter pylori in peptic ulcer disease\"\u001b[0m\u001b[1;33m\u001b[0m\u001b[1;33m\u001b[0m\u001b[0m\n\u001b[0;32m     23\u001b[0m ]\n\u001b[1;32m---> 24\u001b[1;33m \u001b[0mallPK\u001b[0m \u001b[1;33m=\u001b[0m \u001b[1;33m(\u001b[0m\u001b[0mpubs\u001b[0m\u001b[1;33m[\u001b[0m\u001b[1;34m\"Purna Kashyap\"\u001b[0m\u001b[1;33m]\u001b[0m\u001b[1;33m)\u001b[0m\u001b[1;33m\u001b[0m\u001b[1;33m\u001b[0m\u001b[0m\n\u001b[0m\u001b[0;32m     25\u001b[0m \u001b[0mallPK_values_lower\u001b[0m \u001b[1;33m=\u001b[0m \u001b[1;33m[\u001b[0m\u001b[0mvalue\u001b[0m\u001b[1;33m.\u001b[0m\u001b[0mlower\u001b[0m\u001b[1;33m(\u001b[0m\u001b[1;33m)\u001b[0m \u001b[1;32mfor\u001b[0m \u001b[0mvalue\u001b[0m \u001b[1;32min\u001b[0m \u001b[0mallPK\u001b[0m\u001b[1;33m.\u001b[0m\u001b[0mvalues\u001b[0m\u001b[1;33m(\u001b[0m\u001b[1;33m)\u001b[0m\u001b[1;33m]\u001b[0m\u001b[1;33m\u001b[0m\u001b[1;33m\u001b[0m\u001b[0m\n\u001b[0;32m     26\u001b[0m \u001b[0mcount\u001b[0m \u001b[1;33m=\u001b[0m \u001b[1;36m0\u001b[0m\u001b[1;33m\u001b[0m\u001b[1;33m\u001b[0m\u001b[0m\n",
      "\u001b[1;31mNameError\u001b[0m: name 'pubs' is not defined"
     ]
    }
   ],
   "source": [
    "data = [\n",
    "    \"microbes make the cancer science translational medicine\",\n",
    "    \"interleukin 10 restores gastric emptying, electrical activity, and interstitial cells of cajal networks in diabetic mice\",\n",
    "    \"identification of shared and disease-specific host gene-microbiome associations across human diseases using multi-omic integration\",\n",
    "    \"correlated gene expression encoding serotonin (5-ht) receptor 4 and 5-ht transporter in proximal colonic segments of mice across different colonization states and sexes\",\n",
    "    \"nephrogenic systemic fibrosis following acute kidney injury and exposure to gadolinium\",\n",
    "    \"beware! are bacteria raising your oxidative stress? sci transl med 2017 feb 22; 9 (378)\",\n",
    "    \"a metabolomic view of how the human gut microbiota impacts the host metabolome using humanized and gnotobiotic mice\",\n",
    "    \"production of alpha-galactosylceramide by a prominent member of the human gut microbiota\",\n",
    "    \"reprogramming of gut microbiome energy metabolism by the fut2 crohn's disease risk polymorphism\",\n",
    "    \"high risk of post-infectious irritable bowel syndrome in patients with clostridium difficile infection\",\n",
    "    \"therapeutically-targeted probiotic formulations from potential to practice\",\n",
    "    \"germ-free mice model for studying host-microbial interactions\",\n",
    "    \"immunoreactivity for ano1 detects depletion of kit-positive interstitial cells of cajal in patients with slow transit constipation\",\n",
    "    \"germ-free mice as a model to study effect of gut microbiota on host physiology\",\n",
    "    \"an increased abundance of clostridiaceae characterizes arthritis in inflammatory bowel disease and rheumatoid arthritis: a cross-sectional study\",\n",
    "    \"comparison of efficacy of pantoprazole alone versus pantoprazole plus mosapride in therapy of gastroesophageal reflux disease: a randomized trial\",\n",
    "    \"mucin-derived o-glycans supplemented to diet mitigate diverse microbiota perturbations\",\n",
    "    \"keep it moving science translational medicine\",\n",
    "    \"exercise training-induced modification of the gut microbiota persists after microbiota colonization and attenuates the response to chemically-induced colitis in gnotobiotic mice\",\n",
    "    \"body mass index and per capita income influence duodenal ulcer healing and h\",\n",
    "    \"strategies to treat helicobacter pylori in peptic ulcer disease\"\n",
    "]\n",
    "allPK = (pubs[\"Purna Kashyap\"])\n",
    "allPK_values_lower = [value.lower() for value in allPK.values()]\n",
    "count = 0\n",
    "# for checkers in allPK_values_lower:\n",
    "#     print(checkers)\n"
   ]
  },
  {
   "cell_type": "markdown",
   "id": "3be57073",
   "metadata": {},
   "source": [
    "Below is a comparison on the most accurate way to search for a scientist:"
   ]
  },
  {
   "cell_type": "code",
   "execution_count": 17,
   "id": "f4c268b6",
   "metadata": {},
   "outputs": [],
   "source": [
    "# %%dsldf \n",
    "# search publications in authors for \"\\\"Tippi Mackenzie\\\" OR \\\"TC Mackenzie\\\"\"\n",
    "# return publications "
   ]
  },
  {
   "cell_type": "code",
   "execution_count": 21,
   "id": "8d24981d",
   "metadata": {},
   "outputs": [
    {
     "name": "stdout",
     "output_type": "stream",
     "text": [
      "Returned Publications: 20 (total = 128)\n",
      "\u001b[2mTime: 1.29s\u001b[0m\n",
      "WARNINGS [1]\n",
      "Field current_organization_id of the authors field is deprecated and will be removed in the next major release.\n"
     ]
    }
   ],
   "source": [
    "res = dsl.query(\"\"\"search publications in authors for \"Tippi Mackenzie\" return publications\"\"\")"
   ]
  },
  {
   "cell_type": "code",
   "execution_count": 18,
   "id": "f0e67afc",
   "metadata": {},
   "outputs": [],
   "source": [
    "# %%dsldf \n",
    "# search publications where researchers = \"ur.07415240117.28\"\n",
    "# return publications"
   ]
  },
  {
   "cell_type": "code",
   "execution_count": 27,
   "id": "b409380a",
   "metadata": {},
   "outputs": [
    {
     "name": "stdout",
     "output_type": "stream",
     "text": [
      "Returned Researchers: 9 (total = 9)\n",
      "\u001b[2mTime: 0.78s\u001b[0m\n"
     ]
    },
    {
     "data": {
      "text/html": [
       "<div>\n",
       "<style scoped>\n",
       "    .dataframe tbody tr th:only-of-type {\n",
       "        vertical-align: middle;\n",
       "    }\n",
       "\n",
       "    .dataframe tbody tr th {\n",
       "        vertical-align: top;\n",
       "    }\n",
       "\n",
       "    .dataframe thead th {\n",
       "        text-align: right;\n",
       "    }\n",
       "</style>\n",
       "<table border=\"1\" class=\"dataframe\">\n",
       "  <thead>\n",
       "    <tr style=\"text-align: right;\">\n",
       "      <th></th>\n",
       "      <th>id</th>\n",
       "      <th>first_name</th>\n",
       "      <th>last_name</th>\n",
       "      <th>research_orgs</th>\n",
       "    </tr>\n",
       "  </thead>\n",
       "  <tbody>\n",
       "    <tr>\n",
       "      <th>0</th>\n",
       "      <td>ur.016476050057.39</td>\n",
       "      <td>Joon S</td>\n",
       "      <td>You</td>\n",
       "      <td>[{'acronym': 'UNIST', 'city_name': 'Ulsan', 'c...</td>\n",
       "    </tr>\n",
       "    <tr>\n",
       "      <th>1</th>\n",
       "      <td>ur.013631210271.79</td>\n",
       "      <td>Joon Ho</td>\n",
       "      <td>You</td>\n",
       "      <td>[{'acronym': 'KAIST', 'city_name': 'Daejeon', ...</td>\n",
       "    </tr>\n",
       "    <tr>\n",
       "      <th>2</th>\n",
       "      <td>ur.01351100024.97</td>\n",
       "      <td>Joon S</td>\n",
       "      <td>You</td>\n",
       "      <td>[{'city_name': 'Irvine', 'country_name': 'Unit...</td>\n",
       "    </tr>\n",
       "    <tr>\n",
       "      <th>3</th>\n",
       "      <td>ur.01313534214.50</td>\n",
       "      <td>Joon S</td>\n",
       "      <td>You</td>\n",
       "      <td>[{'acronym': 'UCI', 'city_name': 'Irvine', 'co...</td>\n",
       "    </tr>\n",
       "    <tr>\n",
       "      <th>4</th>\n",
       "      <td>ur.012573734243.66</td>\n",
       "      <td>You Hyuk</td>\n",
       "      <td>Joon</td>\n",
       "      <td>NaN</td>\n",
       "    </tr>\n",
       "    <tr>\n",
       "      <th>5</th>\n",
       "      <td>ur.012126672647.59</td>\n",
       "      <td>Joon Ho</td>\n",
       "      <td>You</td>\n",
       "      <td>[{'acronym': 'KAIST', 'city_name': 'Daejeon', ...</td>\n",
       "    </tr>\n",
       "    <tr>\n",
       "      <th>6</th>\n",
       "      <td>ur.011442406365.18</td>\n",
       "      <td>Joon</td>\n",
       "      <td>You</td>\n",
       "      <td>NaN</td>\n",
       "    </tr>\n",
       "    <tr>\n",
       "      <th>7</th>\n",
       "      <td>ur.011210246147.15</td>\n",
       "      <td>Joon</td>\n",
       "      <td>You</td>\n",
       "      <td>NaN</td>\n",
       "    </tr>\n",
       "    <tr>\n",
       "      <th>8</th>\n",
       "      <td>ur.010206001525.16</td>\n",
       "      <td>Joon</td>\n",
       "      <td>You</td>\n",
       "      <td>NaN</td>\n",
       "    </tr>\n",
       "  </tbody>\n",
       "</table>\n",
       "</div>"
      ],
      "text/plain": [
       "                   id first_name last_name  \\\n",
       "0  ur.016476050057.39     Joon S       You   \n",
       "1  ur.013631210271.79    Joon Ho       You   \n",
       "2   ur.01351100024.97     Joon S       You   \n",
       "3   ur.01313534214.50     Joon S       You   \n",
       "4  ur.012573734243.66   You Hyuk      Joon   \n",
       "5  ur.012126672647.59    Joon Ho       You   \n",
       "6  ur.011442406365.18       Joon       You   \n",
       "7  ur.011210246147.15       Joon       You   \n",
       "8  ur.010206001525.16       Joon       You   \n",
       "\n",
       "                                       research_orgs  \n",
       "0  [{'acronym': 'UNIST', 'city_name': 'Ulsan', 'c...  \n",
       "1  [{'acronym': 'KAIST', 'city_name': 'Daejeon', ...  \n",
       "2  [{'city_name': 'Irvine', 'country_name': 'Unit...  \n",
       "3  [{'acronym': 'UCI', 'city_name': 'Irvine', 'co...  \n",
       "4                                                NaN  \n",
       "5  [{'acronym': 'KAIST', 'city_name': 'Daejeon', ...  \n",
       "6                                                NaN  \n",
       "7                                                NaN  \n",
       "8                                                NaN  "
      ]
     },
     "execution_count": 27,
     "metadata": {},
     "output_type": "execute_result"
    }
   ],
   "source": [
    "%%dsldf \n",
    "search researchers for \"Joon You\" return researchers"
   ]
  },
  {
   "cell_type": "code",
   "execution_count": 7,
   "id": "cc15b847",
   "metadata": {},
   "outputs": [
    {
     "name": "stdout",
     "output_type": "stream",
     "text": [
      "Returned Patents: 0\n",
      "\u001b[2mTime: 1.37s\u001b[0m\n"
     ]
    },
    {
     "data": {
      "text/html": [
       "<div>\n",
       "<style scoped>\n",
       "    .dataframe tbody tr th:only-of-type {\n",
       "        vertical-align: middle;\n",
       "    }\n",
       "\n",
       "    .dataframe tbody tr th {\n",
       "        vertical-align: top;\n",
       "    }\n",
       "\n",
       "    .dataframe thead th {\n",
       "        text-align: right;\n",
       "    }\n",
       "</style>\n",
       "<table border=\"1\" class=\"dataframe\">\n",
       "  <thead>\n",
       "    <tr style=\"text-align: right;\">\n",
       "      <th></th>\n",
       "    </tr>\n",
       "  </thead>\n",
       "  <tbody>\n",
       "  </tbody>\n",
       "</table>\n",
       "</div>"
      ],
      "text/plain": [
       "Empty DataFrame\n",
       "Columns: []\n",
       "Index: []"
      ]
     },
     "execution_count": 7,
     "metadata": {},
     "output_type": "execute_result"
    }
   ],
   "source": [
    "%%dsldf \n",
    "search patents in inventors for \"Charles Balch\" return patents"
   ]
  },
  {
   "cell_type": "code",
   "execution_count": 37,
   "id": "1ea669f6",
   "metadata": {},
   "outputs": [
    {
     "name": "stdout",
     "output_type": "stream",
     "text": [
      "Returned Researchers: 2 (total = 2)\n",
      "\u001b[2mTime: 0.92s\u001b[0m\n"
     ]
    },
    {
     "data": {
      "text/html": [
       "<div>\n",
       "<style scoped>\n",
       "    .dataframe tbody tr th:only-of-type {\n",
       "        vertical-align: middle;\n",
       "    }\n",
       "\n",
       "    .dataframe tbody tr th {\n",
       "        vertical-align: top;\n",
       "    }\n",
       "\n",
       "    .dataframe thead th {\n",
       "        text-align: right;\n",
       "    }\n",
       "</style>\n",
       "<table border=\"1\" class=\"dataframe\">\n",
       "  <thead>\n",
       "    <tr style=\"text-align: right;\">\n",
       "      <th></th>\n",
       "      <th>id</th>\n",
       "      <th>obsolete</th>\n",
       "      <th>redirect</th>\n",
       "    </tr>\n",
       "  </thead>\n",
       "  <tbody>\n",
       "    <tr>\n",
       "      <th>0</th>\n",
       "      <td>ur.01273256011.82</td>\n",
       "      <td>0</td>\n",
       "      <td>NaN</td>\n",
       "    </tr>\n",
       "    <tr>\n",
       "      <th>1</th>\n",
       "      <td>ur.012126746436.50</td>\n",
       "      <td>1</td>\n",
       "      <td>[ur.01273256011.82]</td>\n",
       "    </tr>\n",
       "  </tbody>\n",
       "</table>\n",
       "</div>"
      ],
      "text/plain": [
       "                   id  obsolete             redirect\n",
       "0   ur.01273256011.82         0                  NaN\n",
       "1  ur.012126746436.50         1  [ur.01273256011.82]"
      ]
     },
     "execution_count": 37,
     "metadata": {},
     "output_type": "execute_result"
    }
   ],
   "source": [
    "%%dsldf \n",
    "search researchers where id in [\"ur.01273256011.82\", \"ur.012126746436.50\"] return researchers[id+obsolete+redirect]"
   ]
  },
  {
   "cell_type": "markdown",
   "id": "ea5526d5",
   "metadata": {},
   "source": [
    "I'm choosing to use the userID method/disambiguated names:\n",
    "1. Use name to find user ids\n",
    "2. Find the id that is active/0\n",
    "3. Use the active id to find all publications, so this will get the profile number of publications on website"
   ]
  },
  {
   "cell_type": "code",
   "execution_count": 33,
   "id": "30267ee4",
   "metadata": {},
   "outputs": [
    {
     "name": "stderr",
     "output_type": "stream",
     "text": [
      "Starting iteration with limit=1000 skip=0 ...\u001b[0m\n",
      "0-16 / 16 (0.73s)\u001b[0m\n",
      "===\n",
      "Records extracted: 16\u001b[0m\n"
     ]
    },
    {
     "name": "stdout",
     "output_type": "stream",
     "text": [
      "ur.07462116021.23\n",
      "\n",
      "ur.016515750754.45\n",
      "\n",
      "ur.016117734160.26\n",
      "\n",
      "ur.015023567730.00\n",
      "\n",
      "ur.014511020011.16\n",
      "\n",
      "ur.014254123503.46\n",
      "\n",
      "ur.013245051514.77\n",
      "\n",
      "ur.012111124134.14\n",
      "\n",
      "ur.011715703220.64\n",
      "\n",
      "ur.011547277077.47\n",
      "\n",
      "ur.011546556424.11\n",
      "\n",
      "ur.011123416700.86\n",
      "\n",
      "ur.010604374076.20\n",
      "\n",
      "ur.010434163147.26\n",
      "\n",
      "ur.010216565245.82\n",
      "\n",
      "ur.01007613452.86\n",
      "\n",
      "[\"ur.07462116021.23\", \"ur.016515750754.45\", \"ur.016117734160.26\", \"ur.015023567730.00\", \"ur.014511020011.16\", \"ur.014254123503.46\", \"ur.013245051514.77\", \"ur.012111124134.14\", \"ur.011715703220.64\", \"ur.011547277077.47\", \"ur.011546556424.11\", \"ur.011123416700.86\", \"ur.010604374076.20\", \"ur.010434163147.26\", \"ur.010216565245.82\", \"ur.01007613452.86\"]\n"
     ]
    }
   ],
   "source": [
    "#1.\n",
    "res = dsl.query_iterative(f\"\"\"search researchers for \"Purna Kashyap\" return researchers\"\"\")\n",
    "# print(res.json) #list of dictionaries\n",
    "listDict = res.json['researchers']\n",
    "allIds = []\n",
    "for name in listDict:\n",
    "    print(name['id'])\n",
    "    print()\n",
    "    allIds.append(name['id'])\n",
    "allIds = [f'\"{item}\"' for item in allIds]\n",
    "allIds = '[' + ', '.join(allIds) + ']'\n",
    "print(allIds)"
   ]
  },
  {
   "cell_type": "code",
   "execution_count": 29,
   "id": "2273aa34",
   "metadata": {},
   "outputs": [
    {
     "name": "stderr",
     "output_type": "stream",
     "text": [
      "Starting iteration with limit=1000 skip=0 ...\u001b[0m\n",
      "0-9 / 9 (0.79s)\u001b[0m\n",
      "===\n",
      "Records extracted: 9\u001b[0m\n"
     ]
    },
    {
     "name": "stdout",
     "output_type": "stream",
     "text": [
      "{'_stats': {'total_count': 9}, 'researchers': [{'id': 'ur.016476050057.39', 'obsolete': 0}, {'id': 'ur.013631210271.79', 'obsolete': 0}, {'id': 'ur.01351100024.97', 'obsolete': 0}, {'id': 'ur.01313534214.50', 'obsolete': 0}, {'id': 'ur.012573734243.66', 'obsolete': 0}, {'id': 'ur.012126672647.59', 'obsolete': 1}, {'id': 'ur.011442406365.18', 'obsolete': 0}, {'id': 'ur.011210246147.15', 'obsolete': 0}, {'id': 'ur.010206001525.16', 'obsolete': 0}]}\n",
      "=================Current Working Ids: \n",
      "ur.016476050057.39\n",
      "=================Current Working Ids: \n",
      "ur.013631210271.79\n",
      "=================Current Working Ids: \n",
      "ur.01351100024.97\n",
      "=================Current Working Ids: \n",
      "ur.01313534214.50\n",
      "=================Current Working Ids: \n",
      "ur.012573734243.66\n",
      "=================Current Working Ids: \n",
      "ur.011442406365.18\n",
      "=================Current Working Ids: \n",
      "ur.011210246147.15\n",
      "=================Current Working Ids: \n",
      "ur.010206001525.16\n"
     ]
    }
   ],
   "source": [
    "2. \n",
    "res2 = dsl.query_iterative(f\"\"\"search researchers where id in {allIds} return researchers[id+obsolete]\"\"\")\n",
    "print(res2.json) #list of dictionaries\n",
    "listDict2 = res2.json['researchers']\n",
    "for person in listDict2:\n",
    "    if person['obsolete'] == 0:\n",
    "        print(f'=================Current Working Ids: ')\n",
    "        print(person['id'])\n",
    "        workingid = person['id']"
   ]
  },
  {
   "cell_type": "code",
   "execution_count": 106,
   "id": "d5752193",
   "metadata": {},
   "outputs": [
    {
     "name": "stderr",
     "output_type": "stream",
     "text": [
      "Starting iteration with limit=1000 skip=0 ...\u001b[0m\n",
      "0-133 / 133 (1.07s)\u001b[0m\n",
      "===\n",
      "Records extracted: 133\u001b[0m\n",
      "Warnings:  1\u001b[0m\n"
     ]
    },
    {
     "name": "stdout",
     "output_type": "stream",
     "text": [
      "There are 6 number of duplicated publications removed\n",
      "Final set has 127 number of publications\n",
      "\n",
      "{'O27: MICROGLIAL CORRECTION AFTER FETAL THERAPY WITHOUT CONDITIONING IN MICE WITH MUCOPOLYSACCHARIDOSIS TYPE VII', 'Consensus statement from the first international conference for in utero stem cell transplantation and gene therapy', 'Decreased Risk of Graft Failure with Maternal Liver Transplantation in Patients with Biliary Atresia', '458: Impact of in utero transfusions in fetuses with hydrops fetalis due to alpha thalassemia', 'Long‐term transgene expression in cardiac and skeletal muscle following fetal administration of adenoviral or adeno‐associated viral vectors in mice', 'Whole-Exome Sequencing in Fetuses with Congenital Diaphragmatic Hernias: Known and Novel Genetic Mutation', 'Hematopoietic Stem Cell Transplantation Using a Non-Toxic Regimen to Ablate the Fetal Bone Marrow Niche Enables Engraftment of Brain Microglial Cells', 'The many faces of hydrops', 'Fetal and Maternal Safety Considerations for In Utero Therapy Clinical Trials: iFeTiS Consensus Statement', 'Fetal Surgical conditions and the unraveling of maternal–fetal tolerance', 'In utero hematopoietic cell transplantation', 'Regulatory T cells establish and maintain chimerism after in utero hematopoietic cell transplantation (169.30)', 'Preterm labor leads to activation and proliferation of maternal T cells which recognize the paternal alloantigen via the indirect pathway (100.46)', 'Defining immune development from a novel developmentally-restricted hematopoietic stem cell', 'Human Mesenchymal Stem Cells: Insights from a Surrogate in vivo Assay System', 'Autoimmune regulator gene supports maternal-fetal immune tolerance during early pregnancy', 'Novel non-surgical prenatal approaches to treating congenital diaphragmatic hernia', 'Advances in the management of α-thalassemia major: reasons to be optimistic', 'Fetal enzyme replacement and stem cell transplantation in murine Sly syndrome targeting microglia', 'Multilineage differentiation of human MSC after in utero transplantation', 'Meta-Analysis of Maternal and Fetal Transcriptomic Data Elucidates the Role of Adaptive and Innate Immunity in Preterm Birth', 'Esophagoesophagopexy technique for assisted fistulization of esophageal atresia', 'Aire deficiency during early pregnancy leads to maternal T cell imbalance and embryo loss', 'Umbilical cord CD71+ erythroid cells are reduced in neonates born to women in spontaneous preterm labor', 'Patients and Mice with Gastroschisis Have Increased Innate Lymphoid Cells and Eosinophils in Herniated Organs: A Potential Mechanism for T Cell-Mediated Bowel Inflammation', 'A Mouse Model of <em>in Utero</em> Transplantation', 'A Transient Developmental Hematopoietic Stem Cell Gives Rise to Innate-like B and T Cells', 'Pancreatic Mesenchyme Regulates Epithelial Organogenesis throughout Development', 'Direct and indirect antigen presentation lead to deletion of donor-specific T cells after in utero hematopoietic cell transplantation in mice', 'Thoracoamniotic shunt placement for a right-sided congenital diaphragmatic hernia complicated by hydrops', '83: HyDROPS study: Exome sequencing identifies genetic disorders causing non-immune hydrops fetalis', 'Favorable outcomes in high-risk congenital pulmonary airway malformations treated with multiple courses of maternal betamethasone', 'Adherence to and outcomes of a University-Consortium gastroschisis pathway', 'Impact of Continuous Intraoperative Monitoring on Outcomes in Open Fetal Surgery', '737: Activation of the fetal but not maternal adaptive immune system in preterm premature rupture of membranes (PPROM)', 'Altered T cell profiles in uterine draining lymph nodes of mice with preterm labor (169.31)', 'Maternal–fetal cellular trafficking', \"In Utero Enzyme-Replacement Therapy for Infantile-Onset Pompe's Disease\", 'Investigating Zeta Globin Gene Expression to Develop a Potential Therapy for Alpha Thalassemia Major', 'Increased maternal T cell microchimerism in the allogeneic fetus during LPS-induced preterm labor in mice', 'Prenatal Gene Therapy', 'The diagnosis and management of intradiaphragmatic extralobar pulmonary sequestrations: a report of 4 cases', 'Anal duplication in a one-year-old girl', 'Maternal and Infant Immune Repertoire Sequencing Analysis Identifies Distinct Immunoglobulin and T Cell Receptor Development in Term and Preterm Infants', 'CD161 contributes to prenatal immune suppression of IFNγ-producing PLZF+ T cells', '481: Maternal-fetal cellular trafficking and fetal inflammation in patients with preterm premature rupture of membranes', 'Maternal and Infant Immune Repertoire Sequencing Analysis Identifies Distinct Ig and TCR Development in Term and Preterm Infants', 'Placental drug delivery for treatment of congenital hematopoietic disorders', 'In utero depletion of fetal hematopoietic stem cells improves engraftment after neonatal transplantation in mice', 'Fetal stem cell and gene therapy', 'Peripheral tolerance mechanisms are important for the maintenance of donor cell engraftment after in utero hematopoietic cell transplantation', 'Fetal therapies and trials for lysosomal storage diseases: a survey of attitudes of parents and patients', 'Human Mesenchymal Stem Cells Persist, Demonstrate Site-Specific Multipotential Differentiation, and Are Present in Sites of Wound Healing and Tissue Regeneration after Transplantation into Fetal Sheep', 'Exome sequencing of fetuses with congenital diaphragmatic hernia supports a causal role for NR2F2, PTPN11, and WT1 variants', 'A Fetal Lung Lesion Consisting of Bronchogenic Cyst, Bronchopulmonary Sequestration, and Congenital Cystic Adenomatoid Malformation: The Missing Link?', 'Hepatic portocholecystostomy for biliary atresia: A 25-year follow-up and review', 'Maternal microchimerism in patients with biliary atresia: Implications for allograft tolerance.', 'In Utero Hematopoietic Stem Cell Transplantation for Congenital Disorders', 'Large differences in small RNA composition between human biofluids', 'Future AAVenues for In Utero Gene Therapy', 'Long-term outcomes after fetal therapy for congenital high airway obstructive syndrome', 'Maternal T cells limit engraftment after in utero hematopoietic cell transplantation in mice', 'Human mesenchymal stem cells engraft and demonstrate site-specific differentiation after in utero transplantation in sheep', 'In utero enzyme replacement therapy in a fetus with infantile-onset Pompe disease', 'In Utero Depletion Of Fetal Host Hematopoietic Stem Cells Improves Engraftment Following Neonatal Transplantation In Mice', 'The natural history of prenatally diagnosed conjoined twins', 'Magnetic resonance imaging of Müllerian duct anomalies in children', 'Consensus statement for the perinatal management of patients with alpha thalassemia major', 'Outcomes of fetal intervention for primary hydrothorax', 'Persistent Expression of hF.IX After Tolerance Induction by In Utero or Neonatal Administration of AAV-1-F.IX in Hemophilia B Mice', 'Sacrococcygeal teratoma: late recurrence warrants long-term surveillance', 'Intrauterine Molekulartherapien für Monogenetische Erkrankungen', 'In Utero Stem Cell Transplantation in Patients with Alpha Thalassemia Major: Interim Results of a Phase 1 Clinical Trial', '615: Non-immune hydrops, aneuploidy and anomalies: contemporary survival statistics from a population-based cohort', 'Long-term surgical outcomes in congenital diaphragmatic hernia: observations from a single institution', 'Fetal production of growth factors and inflammatory mediators predicts pulmonary hypertension in congenital diaphragmatic hernia', 'Systemic multilineage engraftment in mice after in utero transplantation with human hematopoietic stem cells', 'Maternal factors associated with the occurrence of gastroschisis', 'Heightened Immune Activation in Fetuses with Gastroschisis May Be Blocked by Targeting IL-5', 'Detection of microbial cell-free DNA in maternal and umbilical cord plasma in patients with chorioamnionitis using next generation sequencing', 'In Utero Enzyme-Replacement Therapy for Infantile-Onset Pompe’s Disease', 'Alterations in maternal-fetal cellular trafficking after fetal surgery', 'In Utero Hematopoietic Cell Transplantation for the Treatment of Congenital Anomalies', 'Non‐Immune Hydrops Fetalis: Do Placentomegaly and Polyhydramnios Matter?', 'Translating a novel fetal therapy for lysosomal diseases into clinical care: The race for approval to treat one patient with mucopolysaccharidosis type VII', 'Fetal Intervention Increases Maternal T Cell Awareness of the Foreign Conceptus and Can Lead to Immune-Mediated Fetal Demise', 'In Utero Gene Therapy Consensus Statement from the IFeTIS', 'Advances in Fetal Surgery', 'Forever Connected: The Lifelong Biological Consequences of Fetomaternal and Maternofetal Microchimerism.', 'The maternal immune response inhibits the success of in utero hematopoietic cell transplantation', 'The management of prenatally diagnosed choledochal cysts', 'Efficient Transduction of Liver and Muscle after in Utero Injection of Lentiviral Vectors with Different Pseudotypes', 'Evaluation of Clinical Outcomes of Sutureless vs Sutured Closure Techniques in Gastroschisis Repair', 'Transduction of satellite cells after prenatal intramuscular administration of lentiviral vectors', 'Tolerance induction and microglial engraftment after fetal therapy without conditioning in mice with mucopolysaccharidosis type VII', 'Systematic evaluation of genome sequencing for the assessment of fetal structural anomalies', 'Are we prepared to deliver gene‐targeted therapies for rare diseases?', 'Chapter 16 Fetal Treatment of Genetic Disorders', 'Mass Effect Alone May Not Explain Pulmonary Vascular Pathology in Severe Congenital Diaphragmatic Hernia', 'Increased maternal microchimerism after open fetal surgery', 'Favorable outcomes after in utero transfusion in fetuses with alpha thalassemia major: a case series and review of the literature', 'Depletion of murine fetal hematopoietic stem cells with c-Kit receptor and CD47 blockade improves neonatal engraftment', 'Type IV intestinal atresia, congenital bilateral perisylvian syndrome, and chronic pulmonary hypertension secondary to multiple vascular disruption syndrome in a monochorionic twin', 'Prenatal Somatic Cell Gene Therapies: Charting a Path Toward Clinical Applications (Proceedings of the CERSI‐FDA Meeting)', 'The impact of in utero transfusions on perinatal outcomes in patients with alpha thalassemia major: the UCSF registry', 'The Maternal Immune Response to in Utero Hematopoietic Stem Cell Transplantation.', 'A booster shot to cure hemoglobinopathies', 'A mouse model of in utero transplantation.', 'Prenatal Diagnosis of Congenital Malformations', 'The ex-utero intrapartum treatment', 'In utero enzyme replacement therapy in fetuses with lysosomal diseases: A phase I clinical trial', 'Feto-Maternal Cell Trafficking and Labor', 'Thymic and extrathymic Aire‐expressing cells in maternal‐fetal tolerance*', 'Memory regulatory T cells reside in human skin', 'Epidemiology of Live Born Infants with Nonimmune Hydrops Fetalis—Insights from a Population-Based Dataset', 'In utero hematopoietic cell transplantation for hemoglobinopathies', 'Extrathymic Aire-expressing cells support maternal-fetal tolerance', 'Large Differences in Small RNA Composition Between Human Biofluids', 'Alloreactive fetal T cells promote uterine contractility in preterm labor via IFN-γ and TNF-α', 'Developmental layering of immune cell production is regulated by a developmentally restricted hematopoietic stem cell', 'Growth Failure Prevalence in Neonates with Gastroschisis : A Statewide Cohort Study', 'Investigating attitudes toward prenatal diagnosis and fetal therapy for spinal muscular atrophy', 'Exome Sequencing for Prenatal Diagnosis in Nonimmune Hydrops Fetalis', 'In Utero Hematopoietic Cell Transplantation: Past Clinical Experience and Future Clinical Trials', 'Image of the Month—Quiz Case', 'Engraftment of bone marrow and fetal liver cells after in utero transplantation in MDX mice', 'Clinical implications of maternal-fetal cellular trafficking'}\n"
     ]
    }
   ],
   "source": [
    "3. \n",
    "res3 = dsl.query_iterative(f\"\"\"search publications where researchers = \"{workingid}\" return publications\"\"\")\n",
    "#print(res.json['publications']) #list of dictionaries\n",
    "# idvDict = {}\n",
    "listDict3 = res3.json['publications']\n",
    "count = 0\n",
    "finalSet = set()\n",
    "for l in listDict3:\n",
    "#     pubID = l['id']\n",
    "    if l['title'] not in finalSet:\n",
    "        finalSet.add(l['title'])\n",
    "    else:\n",
    "        count += 1\n",
    "\n",
    "print(f'There are {count} number of duplicated publications removed')\n",
    "print(f'Final set has {len(finalSet)} number of publications')\n",
    "print()\n",
    "print(finalSet)\n",
    "\n"
   ]
  },
  {
   "cell_type": "code",
   "execution_count": 7,
   "id": "14680a10",
   "metadata": {},
   "outputs": [
    {
     "name": "stderr",
     "output_type": "stream",
     "text": [
      "Starting iteration with limit=1000 skip=0 ...\u001b[0m\n",
      "0-221 / 221 (0.91s)\u001b[0m\n",
      "===\n",
      "Records extracted: 221\u001b[0m\n",
      "Starting iteration with limit=1000 skip=0 ...\u001b[0m\n"
     ]
    },
    {
     "name": "stdout",
     "output_type": "stream",
     "text": [
      "Here are all the ids for Peng Ji: \n",
      "[\"ur.07753373215.17\", \"ur.0775260411.39\", \"ur.07735531604.99\", \"ur.07711272665.80\", \"ur.07707252163.67\", \"ur.07646470772.83\", \"ur.07631043430.53\", \"ur.07454105427.95\", \"ur.07415240117.28\", \"ur.07367361367.80\", \"ur.07362052377.86\", \"ur.07351526371.49\", \"ur.0733324053.82\", \"ur.0731027367.85\", \"ur.0721746470.14\", \"ur.0713162041.75\", \"ur.0702663465.57\", \"ur.0625244155.29\", \"ur.0611306645.56\", \"ur.016632072473.43\", \"ur.016547027775.02\", \"ur.016427214733.74\", \"ur.016427127157.01\", \"ur.016424764103.53\", \"ur.016424016062.60\", \"ur.016356435106.31\", \"ur.016343261477.30\", \"ur.016336306175.37\", \"ur.016313171057.18\", \"ur.016270576701.57\", \"ur.016247735702.14\", \"ur.016244672502.48\", \"ur.016236475407.41\", \"ur.016223406507.44\", \"ur.016203345677.78\", \"ur.016171666052.29\", \"ur.016164257175.64\", \"ur.016147360604.23\", \"ur.016142511714.30\", \"ur.016132524253.63\", \"ur.016074045353.07\", \"ur.016067710643.63\", \"ur.016054353733.64\", \"ur.016042341067.00\", \"ur.015751540723.63\", \"ur.015746716405.02\", \"ur.015735545141.89\", \"ur.015727313320.20\", \"ur.015721671320.56\", \"ur.015720620124.07\", \"ur.015717105263.13\", \"ur.015713604166.54\", \"ur.015701207421.43\", \"ur.015654630145.78\", \"ur.015643355752.25\", \"ur.015614642143.07\", \"ur.015562313300.08\", \"ur.015554331274.74\", \"ur.015552311644.43\", \"ur.015523344626.89\", \"ur.015370212122.56\", \"ur.015355417273.18\", \"ur.015354070277.99\", \"ur.015334172353.30\", \"ur.015253574567.09\", \"ur.015210532743.94\", \"ur.015200305705.24\", \"ur.015160603773.02\", \"ur.015041171461.53\", \"ur.015013467013.26\", \"ur.014771304205.22\", \"ur.014744375353.32\", \"ur.014715346217.44\", \"ur.014666540701.44\", \"ur.014654345474.30\", \"ur.014643722357.87\", \"ur.014640627263.45\", \"ur.014627371062.85\", \"ur.014574674416.74\", \"ur.014474373465.02\", \"ur.014471575732.56\", \"ur.014455072330.02\", \"ur.014452325561.25\", \"ur.014426034631.99\", \"ur.014375564631.77\", \"ur.014357675633.80\", \"ur.014302450201.02\", \"ur.014274544064.36\", \"ur.014270027365.97\", \"ur.014266526553.01\", \"ur.014237245775.45\", \"ur.014176154675.22\", \"ur.014172425163.03\", \"ur.014170011116.89\", \"ur.014161663567.71\", \"ur.014153733643.31\", \"ur.014144311555.09\", \"ur.014132644572.34\", \"ur.014106666156.60\", \"ur.014004655421.89\", \"ur.01371313767.25\", \"ur.01371015725.92\", \"ur.013676124730.49\", \"ur.013667005167.03\", \"ur.013663430565.44\", \"ur.01366206604.23\", \"ur.013633623041.26\", \"ur.013632722661.28\", \"ur.013601744247.45\", \"ur.013577171513.94\", \"ur.013576622100.66\", \"ur.013561154633.50\", \"ur.013544600232.94\", \"ur.01353416776.46\", \"ur.013530045020.16\", \"ur.013523623471.17\", \"ur.013477350233.55\", \"ur.013470332171.40\", \"ur.013467345313.25\", \"ur.013443257551.69\", \"ur.013440534020.16\", \"ur.013430635345.89\", \"ur.013341731263.40\", \"ur.013336007075.29\", \"ur.013332305451.80\", \"ur.013300636453.64\", \"ur.013254073214.48\", \"ur.013244656616.34\", \"ur.01324446365.05\", \"ur.01324223247.57\", \"ur.01322442416.16\", \"ur.013207072273.00\", \"ur.013177067533.43\", \"ur.013162206405.95\", \"ur.013134574615.25\", \"ur.013114662037.00\", \"ur.013107262565.39\", \"ur.013104043147.98\", \"ur.013073011633.75\", \"ur.013063664050.60\", \"ur.01304661075.24\", \"ur.013046563561.76\", \"ur.012745412213.28\", \"ur.012734674500.58\", \"ur.012732727150.38\", \"ur.012721321457.32\", \"ur.012713263047.34\", \"ur.012661631744.44\", \"ur.012623004324.66\", \"ur.012566345561.04\", \"ur.012545344104.04\", \"ur.012530016355.47\", \"ur.012463662735.49\", \"ur.01240046505.53\", \"ur.012367614576.28\", \"ur.012346663135.16\", \"ur.012346172535.93\", \"ur.012344213336.11\", \"ur.012306053663.15\", \"ur.012271255114.34\", \"ur.01226743221.46\", \"ur.012260074247.50\", \"ur.012257731711.17\", \"ur.012256645303.05\", \"ur.012251524450.78\", \"ur.012210217527.07\", \"ur.012203316440.25\", \"ur.012162316257.25\", \"ur.012127136734.14\", \"ur.012107435143.36\", \"ur.01177273767.34\", \"ur.011763403627.35\", \"ur.011761754453.48\", \"ur.011755717134.92\", \"ur.011643307235.31\", \"ur.011625254233.11\", \"ur.011625152617.10\", \"ur.011620136566.32\", \"ur.011563037043.02\", \"ur.011557470370.70\", \"ur.011552605303.96\", \"ur.01153703345.84\", \"ur.011526432035.24\", \"ur.011456263113.36\", \"ur.011444772606.47\", \"ur.01144264047.48\", \"ur.011436071600.43\", \"ur.011431312375.59\", \"ur.011421253007.00\", \"ur.011407433716.04\", \"ur.011403134727.53\", \"ur.01140011340.23\", \"ur.011357301334.24\", \"ur.011313573645.52\", \"ur.011273502726.08\", \"ur.011261725743.07\", \"ur.011243222176.43\", \"ur.011237675411.19\", \"ur.011237661631.17\", \"ur.011203224501.43\", \"ur.011152110765.29\", \"ur.011144737375.47\", \"ur.011137642315.41\", \"ur.01113020720.04\", \"ur.011111540353.96\", \"ur.011060732001.86\", \"ur.01101031265.74\", \"ur.010751205320.40\", \"ur.010750334733.44\", \"ur.01073267271.64\", \"ur.010674516556.35\", \"ur.01064204371.92\", \"ur.010547646263.39\", \"ur.010502673457.27\", \"ur.010470372311.50\", \"ur.010337620560.05\", \"ur.01024520712.48\", \"ur.010064616341.41\", \"ur.010060754003.20\", \"ur.010043725537.87\", \"ur.010004313166.87\"]\n"
     ]
    },
    {
     "name": "stderr",
     "output_type": "stream",
     "text": [
      "0-221 / 221 (0.66s)\u001b[0m\n",
      "===\n",
      "Records extracted: 221\u001b[0m\n",
      "Starting iteration with limit=1000 skip=0 ...\u001b[0m\n"
     ]
    },
    {
     "name": "stdout",
     "output_type": "stream",
     "text": [
      "Current Working Id(s): \n",
      "ur.07753373215.17\n",
      "Current Working Id(s): \n",
      "ur.07735531604.99\n",
      "Current Working Id(s): \n",
      "ur.07415240117.28\n",
      "Current Working Id(s): \n",
      "ur.0731027367.85\n",
      "Current Working Id(s): \n",
      "ur.0721746470.14\n",
      "Current Working Id(s): \n",
      "ur.0625244155.29\n",
      "Current Working Id(s): \n",
      "ur.016632072473.43\n",
      "Current Working Id(s): \n",
      "ur.016424016062.60\n",
      "Current Working Id(s): \n",
      "ur.016356435106.31\n",
      "Current Working Id(s): \n",
      "ur.016336306175.37\n",
      "Current Working Id(s): \n",
      "ur.016270576701.57\n",
      "Current Working Id(s): \n",
      "ur.016244672502.48\n",
      "Current Working Id(s): \n",
      "ur.016236475407.41\n",
      "Current Working Id(s): \n",
      "ur.016203345677.78\n",
      "Current Working Id(s): \n",
      "ur.016171666052.29\n",
      "Current Working Id(s): \n",
      "ur.016164257175.64\n",
      "Current Working Id(s): \n",
      "ur.016147360604.23\n",
      "Current Working Id(s): \n",
      "ur.016142511714.30\n",
      "Current Working Id(s): \n",
      "ur.016132524253.63\n",
      "Current Working Id(s): \n",
      "ur.016074045353.07\n",
      "Current Working Id(s): \n",
      "ur.016054353733.64\n",
      "Current Working Id(s): \n",
      "ur.016042341067.00\n",
      "Current Working Id(s): \n",
      "ur.015727313320.20\n",
      "Current Working Id(s): \n",
      "ur.015721671320.56\n",
      "Current Working Id(s): \n",
      "ur.015720620124.07\n",
      "Current Working Id(s): \n",
      "ur.015614642143.07\n",
      "Current Working Id(s): \n",
      "ur.015562313300.08\n",
      "Current Working Id(s): \n",
      "ur.015552311644.43\n",
      "Current Working Id(s): \n",
      "ur.015370212122.56\n",
      "Current Working Id(s): \n",
      "ur.015355417273.18\n",
      "Current Working Id(s): \n",
      "ur.015354070277.99\n",
      "Current Working Id(s): \n",
      "ur.015334172353.30\n",
      "Current Working Id(s): \n",
      "ur.015253574567.09\n",
      "Current Working Id(s): \n",
      "ur.015200305705.24\n",
      "Current Working Id(s): \n",
      "ur.015013467013.26\n",
      "Current Working Id(s): \n",
      "ur.014771304205.22\n",
      "Current Working Id(s): \n",
      "ur.014666540701.44\n",
      "Current Working Id(s): \n",
      "ur.014654345474.30\n",
      "Current Working Id(s): \n",
      "ur.014640627263.45\n",
      "Current Working Id(s): \n",
      "ur.014574674416.74\n",
      "Current Working Id(s): \n",
      "ur.014474373465.02\n",
      "Current Working Id(s): \n",
      "ur.014471575732.56\n",
      "Current Working Id(s): \n",
      "ur.014452325561.25\n",
      "Current Working Id(s): \n",
      "ur.014375564631.77\n",
      "Current Working Id(s): \n",
      "ur.014302450201.02\n",
      "Current Working Id(s): \n",
      "ur.014274544064.36\n",
      "Current Working Id(s): \n",
      "ur.014270027365.97\n",
      "Current Working Id(s): \n",
      "ur.014266526553.01\n",
      "Current Working Id(s): \n",
      "ur.014237245775.45\n",
      "Current Working Id(s): \n",
      "ur.014176154675.22\n",
      "Current Working Id(s): \n",
      "ur.014172425163.03\n",
      "Current Working Id(s): \n",
      "ur.014170011116.89\n",
      "Current Working Id(s): \n",
      "ur.014106666156.60\n",
      "Current Working Id(s): \n",
      "ur.01371313767.25\n",
      "Current Working Id(s): \n",
      "ur.013676124730.49\n",
      "Current Working Id(s): \n",
      "ur.013663430565.44\n",
      "Current Working Id(s): \n",
      "ur.01366206604.23\n",
      "Current Working Id(s): \n",
      "ur.013633623041.26\n",
      "Current Working Id(s): \n",
      "ur.013632722661.28\n",
      "Current Working Id(s): \n",
      "ur.013576622100.66\n",
      "Current Working Id(s): \n",
      "ur.013561154633.50\n",
      "Current Working Id(s): \n",
      "ur.013544600232.94\n",
      "Current Working Id(s): \n",
      "ur.01353416776.46\n",
      "Current Working Id(s): \n",
      "ur.013477350233.55\n",
      "Current Working Id(s): \n",
      "ur.013336007075.29\n",
      "Current Working Id(s): \n",
      "ur.013332305451.80\n",
      "Current Working Id(s): \n",
      "ur.01324223247.57\n",
      "Current Working Id(s): \n",
      "ur.013207072273.00\n",
      "Current Working Id(s): \n",
      "ur.013134574615.25\n",
      "Current Working Id(s): \n",
      "ur.013114662037.00\n",
      "Current Working Id(s): \n",
      "ur.013107262565.39\n",
      "Current Working Id(s): \n",
      "ur.013063664050.60\n",
      "Current Working Id(s): \n",
      "ur.01304661075.24\n",
      "Current Working Id(s): \n",
      "ur.013046563561.76\n",
      "Current Working Id(s): \n",
      "ur.012745412213.28\n",
      "Current Working Id(s): \n",
      "ur.012734674500.58\n",
      "Current Working Id(s): \n",
      "ur.012732727150.38\n",
      "Current Working Id(s): \n",
      "ur.012721321457.32\n",
      "Current Working Id(s): \n",
      "ur.012713263047.34\n",
      "Current Working Id(s): \n",
      "ur.012566345561.04\n",
      "Current Working Id(s): \n",
      "ur.012530016355.47\n",
      "Current Working Id(s): \n",
      "ur.01240046505.53\n",
      "Current Working Id(s): \n",
      "ur.012346172535.93\n",
      "Current Working Id(s): \n",
      "ur.012256645303.05\n",
      "Current Working Id(s): \n",
      "ur.012127136734.14\n",
      "Current Working Id(s): \n",
      "ur.012107435143.36\n",
      "Current Working Id(s): \n",
      "ur.01177273767.34\n",
      "Current Working Id(s): \n",
      "ur.011625254233.11\n",
      "Current Working Id(s): \n",
      "ur.011563037043.02\n",
      "Current Working Id(s): \n",
      "ur.011444772606.47\n",
      "Current Working Id(s): \n",
      "ur.01144264047.48\n",
      "Current Working Id(s): \n",
      "ur.01140011340.23\n",
      "Current Working Id(s): \n",
      "ur.011313573645.52\n",
      "Current Working Id(s): \n",
      "ur.011261725743.07\n",
      "Current Working Id(s): \n",
      "ur.011243222176.43\n",
      "Current Working Id(s): \n",
      "ur.011152110765.29\n",
      "Current Working Id(s): \n",
      "ur.01113020720.04\n",
      "Current Working Id(s): \n",
      "ur.01101031265.74\n",
      "Current Working Id(s): \n",
      "ur.010750334733.44\n",
      "Current Working Id(s): \n",
      "ur.01073267271.64\n",
      "Current Working Id(s): \n",
      "ur.010502673457.27\n",
      "Current Working Id(s): \n",
      "ur.010060754003.20\n"
     ]
    },
    {
     "name": "stderr",
     "output_type": "stream",
     "text": [
      "===\n",
      "Records extracted: 0\u001b[0m\n",
      "Warnings:  1\u001b[0m\n"
     ]
    },
    {
     "name": "stdout",
     "output_type": "stream",
     "text": [
      "There are 0 number of duplicated publications removed\n",
      "Final set has 0 number of publications\n",
      "\n"
     ]
    },
    {
     "data": {
      "text/plain": [
       "set()"
      ]
     },
     "execution_count": 7,
     "metadata": {},
     "output_type": "execute_result"
    }
   ],
   "source": [
    "def dimensionsPubsSearch(name):\n",
    "    res = dsl.query_iterative(f\"\"\"search researchers for \"{name}\" return researchers\"\"\")\n",
    "    # print(res.json) #list of dictionaries\n",
    "    listDict = res.json['researchers']\n",
    "    allIds = []\n",
    "    for idv in listDict:\n",
    "        allIds.append(idv['id'])\n",
    "    allIds = [f'\"{item}\"' for item in allIds]\n",
    "    allIds = '[' + ', '.join(allIds) + ']'\n",
    "    print(f'Here are all the ids for {name}: ')\n",
    "    print(allIds)\n",
    "    \n",
    "    res2 = dsl.query_iterative(f\"\"\"search researchers where id in {allIds} return researchers[id+obsolete]\"\"\")\n",
    "    listDict2 = res2.json['researchers']\n",
    "    for person in listDict2:\n",
    "        if person['obsolete'] == 0:\n",
    "            print(f'Current Working Id(s): ')\n",
    "            print(person['id'])\n",
    "            workingid = person['id']\n",
    "            \n",
    " \n",
    "    res3 = dsl.query_iterative(f\"\"\"search publications where researchers = \"{workingid}\" return publications\"\"\")\n",
    "    #print(res.json['publications']) #list of dictionaries\n",
    "    # idvDict = {}\n",
    "    listDict3 = res3.json['publications']\n",
    "    count = 0\n",
    "    finalSet = set()\n",
    "    lowerSet = set()\n",
    "    for l in listDict3:\n",
    "    #     pubID = l['id']\n",
    "        if l['title'].lower() not in lowerSet:\n",
    "            finalSet.add(l['title'])\n",
    "            lowerSet.add(l['title'].lower())\n",
    "        else:\n",
    "            count += 1\n",
    "\n",
    "    print(f'There are {count} number of duplicated publications removed')\n",
    "    print(f'Final set has {len(finalSet)} number of publications')\n",
    "    print()\n",
    "    return (finalSet)\n",
    "\n",
    "dimensionsPubsSearch(\"Peng Ji\")"
   ]
  },
  {
   "cell_type": "code",
   "execution_count": 19,
   "id": "719048ac",
   "metadata": {},
   "outputs": [
    {
     "name": "stderr",
     "output_type": "stream",
     "text": [
      "Starting iteration with limit=1000 skip=0 ...\u001b[0m\n",
      "0-18 / 18 (0.79s)\u001b[0m\n",
      "===\n",
      "Records extracted: 18\u001b[0m\n",
      "Starting iteration with limit=1000 skip=0 ...\u001b[0m\n"
     ]
    },
    {
     "name": "stdout",
     "output_type": "stream",
     "text": [
      "Here are all the ids for Stephanie Eisenbarth: \n",
      "[\"ur.0717540060.26\", \"ur.016675535717.55\", \"ur.016674231642.19\", \"ur.016175116565.68\", \"ur.015655613634.49\", \"ur.015615725217.48\", \"ur.015300477407.51\", \"ur.013532570370.49\", \"ur.013003567374.75\", \"ur.013001643160.35\", \"ur.012772644523.04\", \"ur.012553126154.12\", \"ur.012232521457.85\", \"ur.01212733661.87\", \"ur.011547511273.41\", \"ur.010734040214.97\", \"ur.010516044727.37\", \"ur.010420165033.09\"]\n"
     ]
    },
    {
     "name": "stderr",
     "output_type": "stream",
     "text": [
      "0-18 / 18 (0.60s)\u001b[0m\n",
      "===\n",
      "Records extracted: 18\u001b[0m\n",
      "Starting iteration with limit=1000 skip=0 ...\u001b[0m\n"
     ]
    },
    {
     "name": "stdout",
     "output_type": "stream",
     "text": [
      "Current Working Id(s): \n",
      "ur.01212733661.87\n"
     ]
    },
    {
     "name": "stderr",
     "output_type": "stream",
     "text": [
      "0-118 / 118 (5.00s)\u001b[0m\n",
      "===\n",
      "Records extracted: 118\u001b[0m\n",
      "Warnings:  1\u001b[0m\n",
      "Starting iteration with limit=1000 skip=0 ...\u001b[0m\n"
     ]
    },
    {
     "name": "stdout",
     "output_type": "stream",
     "text": [
      "There are 1 number of duplicated publications removed\n",
      "Final set has 117 number of publications\n",
      "\n"
     ]
    },
    {
     "name": "stderr",
     "output_type": "stream",
     "text": [
      "0-221 / 221 (0.63s)\u001b[0m\n",
      "===\n",
      "Records extracted: 221\u001b[0m\n",
      "Starting iteration with limit=1000 skip=0 ...\u001b[0m\n"
     ]
    },
    {
     "name": "stdout",
     "output_type": "stream",
     "text": [
      "Here are all the ids for Peng Ji: \n",
      "[\"ur.07753373215.17\", \"ur.0775260411.39\", \"ur.07735531604.99\", \"ur.07711272665.80\", \"ur.07707252163.67\", \"ur.07646470772.83\", \"ur.07631043430.53\", \"ur.07454105427.95\", \"ur.07415240117.28\", \"ur.07367361367.80\", \"ur.07362052377.86\", \"ur.07351526371.49\", \"ur.0733324053.82\", \"ur.0731027367.85\", \"ur.0721746470.14\", \"ur.0713162041.75\", \"ur.0702663465.57\", \"ur.0625244155.29\", \"ur.0611306645.56\", \"ur.016632072473.43\", \"ur.016547027775.02\", \"ur.016427214733.74\", \"ur.016427127157.01\", \"ur.016424764103.53\", \"ur.016424016062.60\", \"ur.016356435106.31\", \"ur.016343261477.30\", \"ur.016336306175.37\", \"ur.016313171057.18\", \"ur.016270576701.57\", \"ur.016247735702.14\", \"ur.016244672502.48\", \"ur.016236475407.41\", \"ur.016223406507.44\", \"ur.016203345677.78\", \"ur.016171666052.29\", \"ur.016164257175.64\", \"ur.016147360604.23\", \"ur.016142511714.30\", \"ur.016132524253.63\", \"ur.016074045353.07\", \"ur.016067710643.63\", \"ur.016054353733.64\", \"ur.016042341067.00\", \"ur.015751540723.63\", \"ur.015746716405.02\", \"ur.015735545141.89\", \"ur.015727313320.20\", \"ur.015721671320.56\", \"ur.015720620124.07\", \"ur.015717105263.13\", \"ur.015713604166.54\", \"ur.015701207421.43\", \"ur.015654630145.78\", \"ur.015643355752.25\", \"ur.015614642143.07\", \"ur.015562313300.08\", \"ur.015554331274.74\", \"ur.015552311644.43\", \"ur.015523344626.89\", \"ur.015370212122.56\", \"ur.015355417273.18\", \"ur.015354070277.99\", \"ur.015334172353.30\", \"ur.015253574567.09\", \"ur.015210532743.94\", \"ur.015200305705.24\", \"ur.015160603773.02\", \"ur.015041171461.53\", \"ur.015013467013.26\", \"ur.014771304205.22\", \"ur.014744375353.32\", \"ur.014715346217.44\", \"ur.014666540701.44\", \"ur.014654345474.30\", \"ur.014643722357.87\", \"ur.014640627263.45\", \"ur.014627371062.85\", \"ur.014574674416.74\", \"ur.014474373465.02\", \"ur.014471575732.56\", \"ur.014455072330.02\", \"ur.014452325561.25\", \"ur.014426034631.99\", \"ur.014375564631.77\", \"ur.014357675633.80\", \"ur.014302450201.02\", \"ur.014274544064.36\", \"ur.014270027365.97\", \"ur.014266526553.01\", \"ur.014237245775.45\", \"ur.014176154675.22\", \"ur.014172425163.03\", \"ur.014170011116.89\", \"ur.014161663567.71\", \"ur.014153733643.31\", \"ur.014144311555.09\", \"ur.014132644572.34\", \"ur.014106666156.60\", \"ur.014004655421.89\", \"ur.01371313767.25\", \"ur.01371015725.92\", \"ur.013676124730.49\", \"ur.013667005167.03\", \"ur.013663430565.44\", \"ur.01366206604.23\", \"ur.013633623041.26\", \"ur.013632722661.28\", \"ur.013601744247.45\", \"ur.013577171513.94\", \"ur.013576622100.66\", \"ur.013561154633.50\", \"ur.013544600232.94\", \"ur.01353416776.46\", \"ur.013530045020.16\", \"ur.013523623471.17\", \"ur.013477350233.55\", \"ur.013470332171.40\", \"ur.013467345313.25\", \"ur.013443257551.69\", \"ur.013440534020.16\", \"ur.013430635345.89\", \"ur.013341731263.40\", \"ur.013336007075.29\", \"ur.013332305451.80\", \"ur.013300636453.64\", \"ur.013254073214.48\", \"ur.013244656616.34\", \"ur.01324446365.05\", \"ur.01324223247.57\", \"ur.01322442416.16\", \"ur.013207072273.00\", \"ur.013177067533.43\", \"ur.013162206405.95\", \"ur.013134574615.25\", \"ur.013114662037.00\", \"ur.013107262565.39\", \"ur.013104043147.98\", \"ur.013073011633.75\", \"ur.013063664050.60\", \"ur.01304661075.24\", \"ur.013046563561.76\", \"ur.012745412213.28\", \"ur.012734674500.58\", \"ur.012732727150.38\", \"ur.012721321457.32\", \"ur.012713263047.34\", \"ur.012661631744.44\", \"ur.012623004324.66\", \"ur.012566345561.04\", \"ur.012545344104.04\", \"ur.012530016355.47\", \"ur.012463662735.49\", \"ur.01240046505.53\", \"ur.012367614576.28\", \"ur.012346663135.16\", \"ur.012346172535.93\", \"ur.012344213336.11\", \"ur.012306053663.15\", \"ur.012271255114.34\", \"ur.01226743221.46\", \"ur.012260074247.50\", \"ur.012257731711.17\", \"ur.012256645303.05\", \"ur.012251524450.78\", \"ur.012210217527.07\", \"ur.012203316440.25\", \"ur.012162316257.25\", \"ur.012127136734.14\", \"ur.012107435143.36\", \"ur.01177273767.34\", \"ur.011763403627.35\", \"ur.011761754453.48\", \"ur.011755717134.92\", \"ur.011643307235.31\", \"ur.011625254233.11\", \"ur.011625152617.10\", \"ur.011620136566.32\", \"ur.011563037043.02\", \"ur.011557470370.70\", \"ur.011552605303.96\", \"ur.01153703345.84\", \"ur.011526432035.24\", \"ur.011456263113.36\", \"ur.011444772606.47\", \"ur.01144264047.48\", \"ur.011436071600.43\", \"ur.011431312375.59\", \"ur.011421253007.00\", \"ur.011407433716.04\", \"ur.011403134727.53\", \"ur.01140011340.23\", \"ur.011357301334.24\", \"ur.011313573645.52\", \"ur.011273502726.08\", \"ur.011261725743.07\", \"ur.011243222176.43\", \"ur.011237675411.19\", \"ur.011237661631.17\", \"ur.011203224501.43\", \"ur.011152110765.29\", \"ur.011144737375.47\", \"ur.011137642315.41\", \"ur.01113020720.04\", \"ur.011111540353.96\", \"ur.011060732001.86\", \"ur.01101031265.74\", \"ur.010751205320.40\", \"ur.010750334733.44\", \"ur.01073267271.64\", \"ur.010674516556.35\", \"ur.01064204371.92\", \"ur.010547646263.39\", \"ur.010502673457.27\", \"ur.010470372311.50\", \"ur.010337620560.05\", \"ur.01024520712.48\", \"ur.010064616341.41\", \"ur.010060754003.20\", \"ur.010043725537.87\", \"ur.010004313166.87\"]\n"
     ]
    },
    {
     "name": "stderr",
     "output_type": "stream",
     "text": [
      "0-221 / 221 (3.38s)\u001b[0m\n",
      "===\n",
      "Records extracted: 221\u001b[0m\n",
      "Starting iteration with limit=1000 skip=0 ...\u001b[0m\n"
     ]
    },
    {
     "name": "stdout",
     "output_type": "stream",
     "text": [
      "Current Working Id(s): \n",
      "ur.07753373215.17\n",
      "Current Working Id(s): \n",
      "ur.07735531604.99\n",
      "Current Working Id(s): \n",
      "ur.07415240117.28\n",
      "Current Working Id(s): \n",
      "ur.0731027367.85\n",
      "Current Working Id(s): \n",
      "ur.0721746470.14\n",
      "Current Working Id(s): \n",
      "ur.0625244155.29\n",
      "Current Working Id(s): \n",
      "ur.016632072473.43\n",
      "Current Working Id(s): \n",
      "ur.016424016062.60\n",
      "Current Working Id(s): \n",
      "ur.016356435106.31\n",
      "Current Working Id(s): \n",
      "ur.016336306175.37\n",
      "Current Working Id(s): \n",
      "ur.016270576701.57\n",
      "Current Working Id(s): \n",
      "ur.016244672502.48\n",
      "Current Working Id(s): \n",
      "ur.016236475407.41\n",
      "Current Working Id(s): \n",
      "ur.016203345677.78\n",
      "Current Working Id(s): \n",
      "ur.016171666052.29\n",
      "Current Working Id(s): \n",
      "ur.016164257175.64\n",
      "Current Working Id(s): \n",
      "ur.016147360604.23\n",
      "Current Working Id(s): \n",
      "ur.016142511714.30\n",
      "Current Working Id(s): \n",
      "ur.016132524253.63\n",
      "Current Working Id(s): \n",
      "ur.016074045353.07\n",
      "Current Working Id(s): \n",
      "ur.016054353733.64\n",
      "Current Working Id(s): \n",
      "ur.016042341067.00\n",
      "Current Working Id(s): \n",
      "ur.015727313320.20\n",
      "Current Working Id(s): \n",
      "ur.015721671320.56\n",
      "Current Working Id(s): \n",
      "ur.015720620124.07\n",
      "Current Working Id(s): \n",
      "ur.015614642143.07\n",
      "Current Working Id(s): \n",
      "ur.015562313300.08\n",
      "Current Working Id(s): \n",
      "ur.015552311644.43\n",
      "Current Working Id(s): \n",
      "ur.015370212122.56\n",
      "Current Working Id(s): \n",
      "ur.015355417273.18\n",
      "Current Working Id(s): \n",
      "ur.015354070277.99\n",
      "Current Working Id(s): \n",
      "ur.015334172353.30\n",
      "Current Working Id(s): \n",
      "ur.015253574567.09\n",
      "Current Working Id(s): \n",
      "ur.015200305705.24\n",
      "Current Working Id(s): \n",
      "ur.015013467013.26\n",
      "Current Working Id(s): \n",
      "ur.014771304205.22\n",
      "Current Working Id(s): \n",
      "ur.014666540701.44\n",
      "Current Working Id(s): \n",
      "ur.014654345474.30\n",
      "Current Working Id(s): \n",
      "ur.014640627263.45\n",
      "Current Working Id(s): \n",
      "ur.014574674416.74\n",
      "Current Working Id(s): \n",
      "ur.014474373465.02\n",
      "Current Working Id(s): \n",
      "ur.014471575732.56\n",
      "Current Working Id(s): \n",
      "ur.014452325561.25\n",
      "Current Working Id(s): \n",
      "ur.014375564631.77\n",
      "Current Working Id(s): \n",
      "ur.014302450201.02\n",
      "Current Working Id(s): \n",
      "ur.014274544064.36\n",
      "Current Working Id(s): \n",
      "ur.014270027365.97\n",
      "Current Working Id(s): \n",
      "ur.014266526553.01\n",
      "Current Working Id(s): \n",
      "ur.014237245775.45\n",
      "Current Working Id(s): \n",
      "ur.014176154675.22\n",
      "Current Working Id(s): \n",
      "ur.014172425163.03\n",
      "Current Working Id(s): \n",
      "ur.014170011116.89\n",
      "Current Working Id(s): \n",
      "ur.014106666156.60\n",
      "Current Working Id(s): \n",
      "ur.01371313767.25\n",
      "Current Working Id(s): \n",
      "ur.013676124730.49\n",
      "Current Working Id(s): \n",
      "ur.013663430565.44\n",
      "Current Working Id(s): \n",
      "ur.01366206604.23\n",
      "Current Working Id(s): \n",
      "ur.013633623041.26\n",
      "Current Working Id(s): \n",
      "ur.013632722661.28\n",
      "Current Working Id(s): \n",
      "ur.013576622100.66\n",
      "Current Working Id(s): \n",
      "ur.013561154633.50\n",
      "Current Working Id(s): \n",
      "ur.013544600232.94\n",
      "Current Working Id(s): \n",
      "ur.01353416776.46\n",
      "Current Working Id(s): \n",
      "ur.013477350233.55\n",
      "Current Working Id(s): \n",
      "ur.013336007075.29\n",
      "Current Working Id(s): \n",
      "ur.013332305451.80\n",
      "Current Working Id(s): \n",
      "ur.01324223247.57\n",
      "Current Working Id(s): \n",
      "ur.013207072273.00\n",
      "Current Working Id(s): \n",
      "ur.013134574615.25\n",
      "Current Working Id(s): \n",
      "ur.013114662037.00\n",
      "Current Working Id(s): \n",
      "ur.013107262565.39\n",
      "Current Working Id(s): \n",
      "ur.013063664050.60\n",
      "Current Working Id(s): \n",
      "ur.01304661075.24\n",
      "Current Working Id(s): \n",
      "ur.013046563561.76\n",
      "Current Working Id(s): \n",
      "ur.012745412213.28\n",
      "Current Working Id(s): \n",
      "ur.012734674500.58\n",
      "Current Working Id(s): \n",
      "ur.012732727150.38\n",
      "Current Working Id(s): \n",
      "ur.012721321457.32\n",
      "Current Working Id(s): \n",
      "ur.012713263047.34\n",
      "Current Working Id(s): \n",
      "ur.012566345561.04\n",
      "Current Working Id(s): \n",
      "ur.012530016355.47\n",
      "Current Working Id(s): \n",
      "ur.01240046505.53\n",
      "Current Working Id(s): \n",
      "ur.012346172535.93\n",
      "Current Working Id(s): \n",
      "ur.012256645303.05\n",
      "Current Working Id(s): \n",
      "ur.012127136734.14\n",
      "Current Working Id(s): \n",
      "ur.012107435143.36\n",
      "Current Working Id(s): \n",
      "ur.01177273767.34\n",
      "Current Working Id(s): \n",
      "ur.011625254233.11\n",
      "Current Working Id(s): \n",
      "ur.011563037043.02\n",
      "Current Working Id(s): \n",
      "ur.011444772606.47\n",
      "Current Working Id(s): \n",
      "ur.01144264047.48\n",
      "Current Working Id(s): \n",
      "ur.01140011340.23\n",
      "Current Working Id(s): \n",
      "ur.011313573645.52\n",
      "Current Working Id(s): \n",
      "ur.011261725743.07\n",
      "Current Working Id(s): \n",
      "ur.011243222176.43\n",
      "Current Working Id(s): \n",
      "ur.011152110765.29\n",
      "Current Working Id(s): \n",
      "ur.01113020720.04\n",
      "Current Working Id(s): \n",
      "ur.01101031265.74\n",
      "Current Working Id(s): \n",
      "ur.010750334733.44\n",
      "Current Working Id(s): \n",
      "ur.01073267271.64\n",
      "Current Working Id(s): \n",
      "ur.010502673457.27\n",
      "Current Working Id(s): \n",
      "ur.010060754003.20\n"
     ]
    },
    {
     "name": "stderr",
     "output_type": "stream",
     "text": [
      "===\n",
      "Records extracted: 0\u001b[0m\n",
      "Warnings:  1\u001b[0m\n",
      "Starting iteration with limit=1000 skip=0 ...\u001b[0m\n"
     ]
    },
    {
     "name": "stdout",
     "output_type": "stream",
     "text": [
      "There are 0 number of duplicated publications removed\n",
      "Final set has 0 number of publications\n",
      "\n"
     ]
    },
    {
     "name": "stderr",
     "output_type": "stream",
     "text": [
      "0-27 / 27 (4.66s)\u001b[0m\n",
      "===\n",
      "Records extracted: 27\u001b[0m\n",
      "Starting iteration with limit=1000 skip=0 ...\u001b[0m\n"
     ]
    },
    {
     "name": "stdout",
     "output_type": "stream",
     "text": [
      "Here are all the ids for Peter Fecci: \n",
      "[\"ur.0750523305.07\", \"ur.0654123373.82\", \"ur.0635120351.34\", \"ur.016421260722.83\", \"ur.015727251331.83\", \"ur.015340406034.61\", \"ur.015304240100.22\", \"ur.015154671163.95\", \"ur.014650523502.14\", \"ur.014620416033.49\", \"ur.014360513174.30\", \"ur.014130540117.07\", \"ur.014035200220.42\", \"ur.013562236201.75\", \"ur.013432455066.85\", \"ur.013420607314.26\", \"ur.013417733074.29\", \"ur.013405353574.22\", \"ur.012615127657.78\", \"ur.012603112045.91\", \"ur.011636576036.58\", \"ur.011534741234.27\", \"ur.011144356505.86\", \"ur.011056761040.71\", \"ur.01042311053.64\", \"ur.01032000044.25\", \"ur.010206553343.05\"]\n"
     ]
    },
    {
     "name": "stderr",
     "output_type": "stream",
     "text": [
      "0-27 / 27 (0.65s)\u001b[0m\n",
      "===\n",
      "Records extracted: 27\u001b[0m\n",
      "Starting iteration with limit=1000 skip=0 ...\u001b[0m\n"
     ]
    },
    {
     "name": "stdout",
     "output_type": "stream",
     "text": [
      "Current Working Id(s): \n",
      "ur.0750523305.07\n"
     ]
    },
    {
     "name": "stderr",
     "output_type": "stream",
     "text": [
      "0-227 / 227 (5.18s)\u001b[0m\n",
      "===\n",
      "Records extracted: 227\u001b[0m\n",
      "Warnings:  1\u001b[0m\n",
      "Starting iteration with limit=1000 skip=0 ...\u001b[0m\n"
     ]
    },
    {
     "name": "stdout",
     "output_type": "stream",
     "text": [
      "There are 3 number of duplicated publications removed\n",
      "Final set has 224 number of publications\n",
      "\n"
     ]
    },
    {
     "name": "stderr",
     "output_type": "stream",
     "text": [
      "0-8 / 8 (5.41s)\u001b[0m\n",
      "===\n",
      "Records extracted: 8\u001b[0m\n",
      "Starting iteration with limit=1000 skip=0 ...\u001b[0m\n"
     ]
    },
    {
     "name": "stdout",
     "output_type": "stream",
     "text": [
      "Here are all the ids for Tippi Mackenzie: \n",
      "[\"ur.016563352250.30\", \"ur.016046625573.22\", \"ur.014605207322.80\", \"ur.01273256011.82\", \"ur.012126746436.50\", \"ur.011313057233.76\", \"ur.010720043527.59\", \"ur.010301577607.86\"]\n"
     ]
    },
    {
     "name": "stderr",
     "output_type": "stream",
     "text": [
      "0-8 / 8 (0.66s)\u001b[0m\n",
      "===\n",
      "Records extracted: 8\u001b[0m\n",
      "Starting iteration with limit=1000 skip=0 ...\u001b[0m\n"
     ]
    },
    {
     "name": "stdout",
     "output_type": "stream",
     "text": [
      "Current Working Id(s): \n",
      "ur.01273256011.82\n"
     ]
    },
    {
     "name": "stderr",
     "output_type": "stream",
     "text": [
      "0-133 / 133 (4.30s)\u001b[0m\n",
      "===\n",
      "Records extracted: 133\u001b[0m\n",
      "Warnings:  1\u001b[0m\n",
      "Starting iteration with limit=1000 skip=0 ...\u001b[0m\n"
     ]
    },
    {
     "name": "stdout",
     "output_type": "stream",
     "text": [
      "There are 7 number of duplicated publications removed\n",
      "Final set has 126 number of publications\n",
      "\n"
     ]
    },
    {
     "name": "stderr",
     "output_type": "stream",
     "text": [
      "0-16 / 16 (0.68s)\u001b[0m\n",
      "===\n",
      "Records extracted: 16\u001b[0m\n",
      "Starting iteration with limit=1000 skip=0 ...\u001b[0m\n"
     ]
    },
    {
     "name": "stdout",
     "output_type": "stream",
     "text": [
      "Here are all the ids for Purna Kashyap: \n",
      "[\"ur.07462116021.23\", \"ur.016515750754.45\", \"ur.016117734160.26\", \"ur.015023567730.00\", \"ur.014511020011.16\", \"ur.014254123503.46\", \"ur.013245051514.77\", \"ur.012111124134.14\", \"ur.011715703220.64\", \"ur.011547277077.47\", \"ur.011546556424.11\", \"ur.011123416700.86\", \"ur.010604374076.20\", \"ur.010434163147.26\", \"ur.010216565245.82\", \"ur.01007613452.86\"]\n"
     ]
    },
    {
     "name": "stderr",
     "output_type": "stream",
     "text": [
      "0-16 / 16 (4.43s)\u001b[0m\n",
      "===\n",
      "Records extracted: 16\u001b[0m\n",
      "Starting iteration with limit=1000 skip=0 ...\u001b[0m\n"
     ]
    },
    {
     "name": "stdout",
     "output_type": "stream",
     "text": [
      "Current Working Id(s): \n",
      "ur.01007613452.86\n"
     ]
    },
    {
     "name": "stderr",
     "output_type": "stream",
     "text": [
      "0-191 / 191 (1.18s)\u001b[0m\n",
      "===\n",
      "Records extracted: 191\u001b[0m\n",
      "Warnings:  1\u001b[0m\n"
     ]
    },
    {
     "name": "stdout",
     "output_type": "stream",
     "text": [
      "There are 6 number of duplicated publications removed\n",
      "Final set has 185 number of publications\n",
      "\n"
     ]
    }
   ],
   "source": [
    "#fix so if multiple workig ids/common names, then use non disambiguated call which would be just return publications using name\n",
    "def finalget(names):\n",
    "    finalDict = {}\n",
    "    for name in names:\n",
    "        finalDict[name] = list(dimensionsPubsSearch(name))\n",
    "\n",
    "    output_file = \"titlesCheckDimens.json\"\n",
    "    with open(output_file, 'w', encoding=\"utf-8\") as json_file:\n",
    "        json.dump(finalDict, json_file, ensure_ascii=False, indent=4)\n",
    "    return finalDict    \n",
    "    \n",
    "allData = finalget([\"Stephanie Eisenbarth\",\"Peng Ji\", \"Peter Fecci\", \"Tippi Mackenzie\", \"Purna Kashyap\"])\n",
    "\n",
    "#lookover Peng Ji"
   ]
  },
  {
   "cell_type": "code",
   "execution_count": 23,
   "id": "85d0f320",
   "metadata": {},
   "outputs": [
    {
     "name": "stdout",
     "output_type": "stream",
     "text": [
      "Purna Kashyap has 185 number of publications in DimensionsAI\n",
      "These are all her publications: \n",
      "\n",
      "effects of transplanting an exercised or sedentary microbiota into gnotobiotic mice on global gene expression in gut, muscle, and brain tissue\n",
      "wild primate microbiomes prevent weight gain in germ-free mice\n",
      "sex differences in nsaid‐induced perturbation of human intestinal barrier function and microbiota\n",
      "su1991 diet-induced change in gastrointestinal transit significantly alters distal gut microbial communities\n",
      "model of personalized postprandial glycemic response to food developed for an israeli cohort predicts responses in midwestern american individuals\n",
      "tu1790 – bacteria derived tryptamine production alters host gene expression associated with intestinal inflammation\n",
      "metabolites and microbial composition of stool of women with fecal incontinence: study design and methods\n",
      "hmga1 and hmga2 rearrangements in mass‐forming endometriosis\n",
      "sa2054 germ free mice have normal epithelial responses to serotonin and acetylcholine in the proximal colon\n",
      "role of diet and gut microbiota in management of inflammatory bowel disease in an asian migrant\n",
      "innovative gastric endoscopic muscle biopsy to identify all cell types, including myenteric neurons and interstitial cells of cajal in patients with idiopathic gastroparesis: a feasibility study (with video)\n",
      "su1878 microbial signatures of persistent effects of chronic dietary restriction in mice\n",
      "a diet for healthy weight: why reaching a consensus seems difficult\n",
      "high risk of post‐infectious irritable bowel syndrome in patients with clostridium difficile infection\n",
      "reprograming of gut microbiome energy metabolism by the fut2 crohn’s disease risk polymorphism\n",
      "histoplasmosis presenting as a colonic mass in an immunocompromised patient\n",
      "bacterially derived tryptamine increases mucus release by activating a host receptor in a mouse model of inflammatory bowel disease\n",
      "role of gut microbiota in regulating gastrointestinal dysfunction and motor symptoms in a mouse model of parkinson’s disease\n",
      "impact of air quality on the gastrointestinal microbiome: a review\n",
      "646 colonic mucosal colonization of clostridioides difficile may play a role in recurrence following treatment\n",
      "460 bacteria-produced hypoxanthine increases serotonin release and accelerates whole gut transit\n",
      "436f human gut microbiota modulates gut serotonergic pathway and motility\n",
      "diabetic gastroparesis: what we have learned and had to unlearn in the past 5 years\n",
      "non-automated intervention to improve h. pylori testing in active peptic ulcer disease does not work\n",
      "assessment of a personalized approach to predicting postprandial glycemic responses to food among individuals without diabetes\n",
      "abstract # 1852 exercise-induced changes in gut microbiota alters response to colitis in mice: clinical scores and body weight differences\n",
      "germ‐free mice as a model to study effect of gut microbiota on host physiology\n",
      "esophageal papillomas and skin abnormalities\n",
      "s149 body mass index changes after fecal microbiota transplantation for recurrent clostridioides difficile infection\n",
      "cd206-positive m2 macrophages that express heme oxygenase-1 protect against diabetic gastroparesis in mice\n",
      "678 transcriptomic changes in colonic mucosa in patients with campylobacter jejuni post infectious irritable bowel syndrome\n",
      "262 longitudinal changes in gut microbiota in patients with irritable bowel syndrome\n",
      "1022 - serine proteases as luminal mediators of symptom severity and intestinal barrier function in irritable bowel syndrome\n",
      "469 carbon monoxide reverses diabetic gastroparesis in nod mice\n",
      "gut microbes promote colonic serotonin production through an effect of short‐chain fatty acids on enterochromaffin cells\n",
      "25 colonization of germ-free mice by human gut microbiota alters colonic morphology and increases tph1 expression likely contributing to altered colonic contractility following colonization\n",
      "the promise of the gut microbiome as part of individualized treatment strategies\n",
      "435 diet and distal gut microbiota interact to alter gastrointestinal transit\n",
      "102 – physiological and proteomic characterization of campylobacter jejuni post infection irritable bowel syndrome\n",
      "drug‐induced constipation alters gut microbiota stability leading to physiological changes in the host (1118.2)\n",
      "human-derived gut microbiota modulates colonic secretion in mice by regulating 5-ht3 receptor expression via acetate production\n",
      "gut microbiota: modulation of host physiology in obesity\n",
      "increased prevalence of rare sucrase-isomaltase pathogenic variants in irritable bowel syndrome patients\n",
      "tryptamine activates 5‐ht4 gpcr to increase secretion in the mouse proximal colon\n",
      "pancreatic cholera\n",
      "179 mechanosensitive ion channel piezo2 in mouse enterochromaffin cells is important for pressure-induced secretion from small bowel mucosa\n",
      "92 gut microbiome signatures at the time of primary clostridium difficile infection predict recurrence\n",
      "mo1948 – gut microbiota composition at diagnosis predicts outcomes of clostridioides difficile infection\n",
      "discovery and characterization of gut microbiota decarboxylases that can produce the neurotransmitter tryptamine\n",
      "the role of microbiome in pancreatic cancer\n",
      "american gut: an open platform for citizen science microbiome research\n",
      "mucin-derived o-glycans supplemented to diet mitigate diverse microbiota perturbations\n",
      "mechanosensitive ion channel piezo2 is important for enterochromaffin cell response to mechanical forces\n",
      "microbiome prevents sudden death through occult cardiac sub-micrometastasis in mice\n",
      "s1288 small intestinal microbiome differs in relationship to clostridioides difficile infection\n",
      "beyond phylotyping: understanding the impact of gut microbiota on host biology\n",
      "abstract lb226: maternal microbiome protects host against clonal de novo transformation, early onset systemic metastasis, and sudden death\n",
      "unusual submucosal tumor in the stomach\n",
      "serine proteases as luminal mediators of intestinal barrier dysfunction and symptom severity in ibs\n",
      "individualized responses of gut microbiota to dietary intervention modeled in humanized mice\n",
      "clostridioides difficile uses amino acids associated with gut microbial dysbiosis in a subset of patients with diarrhea\n",
      "contained duodenal perforation manifesting as a cystic mass can be managed non-surgically\n",
      "identification of shared and disease-specific host gene–microbiome associations across human diseases using multi-omic integration\n",
      "multi-omics for biomarker approaches in the diagnostic evaluation and management of abdominal pain and irritable bowel syndrome: what lies ahead\n",
      "microbiota on biotics: probiotics, prebiotics, and synbiotics to optimize growth and metabolism\n",
      "microbially derived polyunsaturated fatty acid as a modulator of gastrointestinal motility\n",
      "therapeutic implications of the gastrointestinal microbiome\n",
      "enterococcus faecalis readily colonizes the entire gastrointestinal tract and forms biofilms in a germ-free mouse model\n",
      "gut microbial β-glucuronidases regulate host luminal proteases and are depleted in irritable bowel syndrome\n",
      "261 altered colonic permeability and epithelial secretion in subgroups of irritable bowel syndrome patients\n",
      "don’t mix zinc lozenges and antibiotics\n",
      "promote or prevent? gut microbial function and immune status may determine the effect of fiber in inflammatory bowel disease\n",
      "gut microbiome predictors of treatment response and recurrence in primary clostridium difficile infection\n",
      "oxidative stress: key player in gastrointestinal complications of diabetes\n",
      "t1345 the pathological basis of gastroparesis\n",
      "sa1251 butyrate modulates ca2+ response in enterochromaffin cells via the epigenetic modification of distinct gpcr and cation channel genes\n",
      "a decreased abundance of clostridia characterizes the gut microbiota in eosinophilic esophagitis\n",
      "altered gut microbiota in female mice with persistent low body weights following removal of post-weaning chronic dietary restriction\n",
      "sa2048 shear sensitivity of the voltage-gated sodium selective ion channels (nav) in the neuroendocrine cell line qgp-1\n",
      "microbiome at the frontier of personalized medicine\n",
      "microbiota suppresses innate type 2 immune responses in the lungs in mice\n",
      "changes in microbial ecology after fecal microbiota transplantation for recurrent c. difficile infection affected by underlying inflammatory bowel disease\n",
      "bacteria‐derived hypoxanthine accelerates gastrointestinal transit\n",
      "su1624 - gender differences in the effect of nsaids on intestinal barrier function and microbiota in healthy adults\n",
      "clostridioides difficile whole-genome sequencing differentiates relapse with the same strain from reinfection with a new strain\n",
      "genetically dictated change in host mucus carbohydrate landscape exerts a diet-dependent effect on the gut microbiota\n",
      "parkinson’s disease: are gut microbes involved?\n",
      "shared and disease-specific host gene-microbiome interactions across human diseases\n",
      "percutaneous endoscopic gastrostomy tract salvage using natural orifice transluminal endoscopic surgery technique (with video)\n",
      "immunoreactivity for ano1 detects depletion of kit‐positive interstitial cells of cajal in patients with slow transit constipation\n",
      "intrinsic gastrointestinal macrophages: their phenotype and role in gastrointestinal motility\n",
      "808 colonic mucosal colonization of clostridioides difficile prior to development of infection may play a role in recurrent disease\n",
      "45 the role of the biliary and gut microbiome in the progression of cholangiocarcinoma and primary sclerosing cholangitis\n",
      "the ‘in vivo lifestyle’ of bile acid 7α-dehydroxylating bacteria: comparative genomics, metatranscriptomic, and bile acid metabolomics analysis of a defined microbial community in gnotobiotic mice\n",
      "the dopamine-3 receptor and gastric motility\n",
      "ssat state-of-the-art conference: advancements in the microbiome\n",
      "role of diet–microbiome interaction in gastrointestinal disorders and strategies to modulate them with microbiome-targeted therapies\n",
      "tu1915 – feasibility of serum lipidomics and fecal microbiome as novel predictive biomarkers of severe intragastric balloons (igb) intolerance leading to early igb removal: a pilot study\n",
      "gut microbial carbohydrate metabolism hinders weight loss in overweight adults undergoing lifestyle intervention with a volumetric diet\n",
      "germ-free mice model for studying host–microbial interactions\n",
      "a clinical primer of the role of gut microbiome in health and disease.\n",
      "i’ll have a turkey and cheese sandwich\n",
      "production of α-galactosylceramide by a prominent member of the human gut microbiota\n",
      "enteric autoantibodies and gut motility disorders\n",
      "beware! are bacteria raising your oxidative stress?\n",
      "957 human derived gut microbiota influence the host colonic secretory response to serotonin\n",
      "mo1934 - gut microbial markers of arthritis including inflammatory bowel disease associated arthropathy\n",
      "chapter 33 diet effects on gut microbiome composition, function, and host physiology\n",
      "a potential role for stress-induced microbial alterations in iga-associated irritable bowel syndrome with diarrhea\n",
      "tu1864 the gut microbiota and sex of the host influence the host serotonergic pathway\n",
      "small intestinal bacterial overgrowth complicating gastrointestinal manifestations of systemic sclerosis: a systematic review and meta-analysis\n",
      "mutual reinforcement of pathophysiological host‐microbe interactions in intestinal stasis models\n",
      "a metabolomic view of how the human gut microbiota impacts the host metabolome using humanized and gnotobiotic mice\n",
      "378 commensal microbiota plays a critical role in regulation of intestinal proteolytic activity\n",
      "sa1778 detecting outcomes from clostridium difficile screening on admission in patients admitted to a bone marrow transplant unit\n",
      "mitochondrial mutations as a cause of gastrointestinal dysmotility in older patients\n",
      "industrialized gut microbiota promote intestinal inflammation in mice\n",
      "the gut microbiome in adult and pediatric functional gastrointestinal disorders\n",
      "377 cd206 positive m2 macrophages expressing ho1 protect against the development of delayed ge in a mouse model of diabetic gastroparesis\n",
      "aga technical review on the role of probiotics in the management of gastrointestinal disorders\n",
      "intestinal obstruction and pseudo‐obstruction\n",
      "oxidative ornithine metabolism supports non-inflammatory c. difficile colonization\n",
      "469 gut microbiota regulates rotenone induced disruptions in epithelial barrier permeability and motor behavior\n",
      "mo1570 luminal proteases modulate intestinal barrier function in irritable bowel syndrome\n",
      "eat your curry\n",
      "181 mouse colon enterochromaffin (ec) cells express voltage-gated sodium channels and are electrically excitable\n",
      "irritable bowel syndrome: a gut microbiota-related disorder?\n",
      "1135 – 5-ht3 receptor activation increases anion secretion mediated via vip-vpac1 and 5-ht4 receptor pathways in mouse duodenum and proximal colon\n",
      "correlated gene expression encoding serotonin (5‐ht) receptor 4 and 5‐ht transporter in proximal colonic segments of mice across different colonization states and sexes\n",
      "blow the germs away\n",
      "agaro-oligosaccharides: a new frontier in the fight against colon cancer?\n",
      "small intestinal microbial dysbiosis underlies symptoms associated with functional gastrointestinal disorders\n",
      "production of an nkt cell stimulatory glycosphingolipid by a prominent member of the human gut microbiota (55.22)\n",
      "41 small intestinal microbiome dysbiosis may underlie abdominal pain in patients with disorders of gut brain axis interaction.\n",
      "an unusual submucosal tumor in a pregnant female\n",
      "s0248 mucosal association of clostridioides difficile in the colon may play a role in infection recurrence\n",
      "adjustable intragastric balloon leads to significant improvement in obesity-related lipidome and fecal microbiome profiles: a proof-of-concept study.\n",
      "sa1218 - a subset of symptomatic patients exhibit small intestinal dysbiosis irrespective of quantitative duodenal aspirate culture results\n",
      "outcomes from fecal microbiota transplantation in adults with c. difficile infection and inflammatory bowel disease\n",
      "berberine alters gut microbial function through modulation of bile acids\n",
      "exercise training-induced modification of the gut microbiota persists after microbiota colonization and attenuates the response to chemically-induced colitis in gnotobiotic mice\n",
      "microbes make the cancer\n",
      "keep it moving\n",
      "high‐fat diet–induced alterations to gut microbiota and gut‐derived lipoteichoic acid contributes to the development of enteric neuropathy\n",
      "longitudinal multi-omics reveals subset-specific mechanisms underlying irritable bowel syndrome\n",
      "multi-omics analyses show disease, diet, and transcriptome interactions with the virome\n",
      "sa1789 prophylactic fecal microbial transplant restores clostridium difficile colonization resistance in a dysbiotic subset of diarrhea associated human microbial communities modeled in germ free mice\n",
      "potential role of inflammation-promoting biliary microbiome in primary sclerosing cholangitis and cholangiocarcinoma\n",
      "interleukin 10 restores gastric emptying, electrical activity, and interstitial cells of cajal networks in diabetic mice\n",
      "nephrogenic systemic fibrosis following acute kidney injury and exposure to gadolinium\n",
      "gut microbiota-produced tryptamine activates an epithelial g-protein-coupled receptor to increase colonic secretion\n",
      "changes in microbial ecology after fecal microbiota transplantation for recurrent c. difficile infection depends on underlying inflammatory bowel disease: 2016 acg presidential poster award\n",
      "probiotics reduce mortality and morbidity in preterm, low-birth-weight infants: a systematic review and network meta-analysis of randomized trials\n",
      "complications of cirrhosis\n",
      "microbiota-liberated host sugars facilitate post-antibiotic expansion of enteric pathogens\n",
      "su2082 colonic barrier function is impaired in post-campylobacter jejuni irritable bowel syndrome\n",
      "an increased abundance of clostridiaceae characterizes arthritis in inflammatory bowel disease and rheumatoid arthritis: a cross-sectional study.\n",
      "389 chronic diarrhea in subset of patients with ibd and ibs is associated with altered microbiota\n",
      "696 patients with primary clostridioides difficile infection are more likely to harbor c. difficile biofilm in the colonic mucosa\n",
      "su1939 - bile acid 7α-dehydroxylating gut clostridia: from comparative genomics to in vivo metatranscriptomics and metabolomics to gene discovery\n",
      "a rare case of goltz-gorlin syndrome presenting with esophageal papillomas\n",
      "836 the enteroendocrine cell t-type voltage gated calcium channel cav3.2 affects cellular mechanotransduction, colonic transit and visceral hypersensitivity\n",
      "complex interactions among diet, gastrointestinal transit, and gut microbiota in humanized mice\n",
      "mo2010 – the impact of adjustable intragastric balloon on fecal microbiome and serum bioactive lipids metabolism: a pilot study\n",
      "update on fecal microbiota transplantation 2015: indications, methodologies, mechanisms, and outlook\n",
      "genesis of fecal floatation is causally linked to gut microbial colonization in mice\n",
      "bugs clogging your arteries? take an anti-b2 shot.\n",
      "dynamics of plasmid-mediated niche invasion, immunity to invasion, and pheromone-inducible conjugation in the murine gastrointestinal tract\n",
      "plasmid acquisition alters vancomycin susceptibility in clostridioides difficile\n",
      "spotlight: probiotics guidelines\n",
      "us immigration westernizes the human gut microbiome\n",
      "645 clostridioides difficile whole genome sequencing differentiates relapse with the same strain from reinfection with a new strain\n",
      "levô in fimo test – a simple test for fecal microbial reconstituted mice\n",
      "su1941 - small intestinal microbiome associated physiological changes in the gastrointestinal tract are seen with shift to low fiber, high sugar diet\n",
      "481 individualized responses of gut microbiota to dietary intervention modeled in humanized mice\n",
      "276 treatment with il-10 reverses gastroparesis in diabetic nod/shiltj mice\n",
      "screening for clostridium difficile colonization on admission to a hematopoietic stem cell transplant unit may reduce hospital-acquired c difficile infection\n",
      "body mass index changes after fecal microbiota transplant for recurrent clostridium difficile infection\n",
      "enterococcus faecalis sex pheromone ccf10 enhances conjugative plasmid transfer in vivo\n",
      "gut microbiota changes as predictors of treatment failure in primary clostridium difficile infection: acg category award\n",
      "265 immunoreactivity for ano1 detects depletion of interstitial cells of cajal in patients with slow transit constipation\n",
      "carbon monoxide reverses diabetic gastroparesis in nod mice\n",
      "tune into the rhythm of your bugs.\n",
      "functional gastrointestinal disorders and the microbiome—what is the best strategy for moving microbiome-based therapies for functional gastrointestinal disorders into the clinic?\n",
      "the d2/d3 agonist pd128907 (r-(+)-trans-3,4a,10b-tetrahydro-4-propyl-2h,5h-[1]benzopyrano[4,3-b]-1,4-oxazin-9-ol) inhibits stimulated pyloric relaxation and spontaneous gastric emptying\n"
     ]
    }
   ],
   "source": [
    "listPeter = allData[\"Purna Kashyap\"]\n",
    "print(f'Purna Kashyap has {len(listPeter)} number of publications in DimensionsAI')\n",
    "print(f'These are all her publications: ')\n",
    "print()\n",
    "for pub in listPeter:\n",
    "    print(pub.lower())"
   ]
  }
 ],
 "metadata": {
  "kernelspec": {
   "display_name": "Python 3 (ipykernel)",
   "language": "python",
   "name": "python3"
  },
  "language_info": {
   "codemirror_mode": {
    "name": "ipython",
    "version": 3
   },
   "file_extension": ".py",
   "mimetype": "text/x-python",
   "name": "python",
   "nbconvert_exporter": "python",
   "pygments_lexer": "ipython3",
   "version": "3.9.13"
  }
 },
 "nbformat": 4,
 "nbformat_minor": 5
}
