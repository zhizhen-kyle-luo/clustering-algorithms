{
 "cells": [
  {
   "cell_type": "code",
   "execution_count": null,
   "id": "3501e89d",
   "metadata": {},
   "outputs": [],
   "source": [
    "#Use this link to understnd API calls and the steps below\n",
    "#https://docs.dimensions.ai/dsl/getting-started.html"
   ]
  },
  {
   "cell_type": "code",
   "execution_count": null,
   "id": "eb87e891",
   "metadata": {},
   "outputs": [],
   "source": [
    "from tqdm.notebook import tqdm as progress\n",
    "import pandas as pd\n",
    "import plotly.express as px\n",
    "from plotly.offline import plot\n",
    "import dimcli\n",
    "from dimcli.utils import *\n",
    "import os, sys, time, json\n",
    "from IPython.display import Image\n",
    "from IPython.core.display import HTML "
   ]
  },
  {
   "cell_type": "code",
   "execution_count": null,
   "id": "40bd57a6",
   "metadata": {},
   "outputs": [],
   "source": [
    "#Log into Dimensions\n",
    "#API key is: 9F8D648F0D7E437CB1736BEBDF007F02\n",
    "#!pip install dimcli -U --quiet \n",
    "\n",
    "print(\"==\\nLogging in..\")\n",
    "# https://digital-science.github.io/dimcli/getting-started.html#authentication\n",
    "ENDPOINT = \"https://app.dimensions.ai\"\n",
    "if 'google.colab' in sys.modules:\n",
    "    import getpass\n",
    "    KEY = getpass.getpass(prompt='API Key: ')  \n",
    "    dimcli.login(key=KEY, endpoint=ENDPOINT)\n",
    "else:\n",
    "    KEY = \"9F8D648F0D7E437CB1736BEBDF007F02\"\n",
    "    dimcli.login(key=KEY, endpoint=ENDPOINT)\n",
    "dsl = dimcli.Dsl()"
   ]
  },
  {
   "cell_type": "code",
   "execution_count": null,
   "id": "d5be5633",
   "metadata": {},
   "outputs": [],
   "source": [
    "names = [\n",
    "    \"Michael Agus\",\n",
    "    \"Dorothy Bainton\",\n",
    "    \"Charles Balch\",\n",
    "    \"Jeffrey Balser\",\n",
    "    \"Kevin Catt\",\n",
    "    \"Henry Chambers\",\n",
    "    \"Richard Clark\",\n",
    "    \"Stephanie Eisenbarth\",\n",
    "    \"Peng Ji\", \n",
    "    \"Peter Fecci\", \n",
    "    \"Tippi Mackenzie\", \n",
    "    \"Purna Kashyap\"\n",
    "]"
   ]
  },
  {
   "cell_type": "code",
   "execution_count": null,
   "id": "f7d4a4ce",
   "metadata": {},
   "outputs": [],
   "source": [
    "def dimensionsPatentSearch(name):\n",
    "    res = dsl.query_iterative(f\"\"\"search researchers for \"{name}\" return researchers\"\"\")\n",
    "    # print(res.json) #list of dictionaries\n",
    "    listDict = res.json['researchers']\n",
    "    allIds = []\n",
    "    for idv in listDict:\n",
    "        allIds.append(idv['id'])\n",
    "    allIds = [f'\"{item}\"' for item in allIds]\n",
    "    allIds = '[' + ', '.join(allIds) + ']'\n",
    "    print(f'Here are all the ids for {name}: ')\n",
    "    print(allIds)\n",
    "    \n",
    "    res2 = dsl.query_iterative(f\"\"\"search researchers where id in {allIds} return researchers[id+obsolete]\"\"\")\n",
    "    listDict2 = res2.json['researchers']\n",
    "    allWorkingIDs = []\n",
    "    for person in listDict2:\n",
    "        if person['obsolete'] == 0:\n",
    "            print(f'Current Working Id(s): ')\n",
    "            print(person['id'])\n",
    "            workingid = person['id']\n",
    "            allWorkingIDs.append(person['id'])\n",
    "    print(f'++++++++There are {len(allWorkingIDs)} Working IDs+++++++++++')        \n",
    "    if len(allWorkingIDs) == 1:\n",
    "        res3 = dsl.query_iterative(f\"\"\"search patents where researchers = \"{workingid}\" return patents\"\"\")\n",
    "        listDict3 = res3.json['patents']\n",
    "        count = 0\n",
    "        finalSet = set()\n",
    "        lowerSet = set()\n",
    "        for l in listDict3:\n",
    "            if l['title'].lower() not in lowerSet:\n",
    "                finalSet.add(l['title'])\n",
    "                lowerSet.add(l['title'].lower())\n",
    "            else:\n",
    "                count += 1\n",
    "    else:\n",
    "        res3 = dsl.query_iterative(f\"\"\"search patents in inventors for \"{name}\" return patents\"\"\")\n",
    "        print(res3)\n",
    "#         listDict3 = res3.json['patents']\n",
    "#         count = 0\n",
    "#         finalSet = set()\n",
    "#         lowerSet = set()\n",
    "#         for l in listDict3:\n",
    "#             if l['title'].lower() not in lowerSet:\n",
    "#                 finalSet.add(l['title'])\n",
    "#                 lowerSet.add(l['title'].lower())\n",
    "#             else:\n",
    "#                 count += 1\n",
    "    \n",
    "    print(f'There are {count} number of duplicated patents removed')\n",
    "    print(f'Final set has {len(finalSet)} number of patents')\n",
    "    print()\n",
    "    return (finalSet)\n",
    "\n",
    "dimensionsPatentSearch(\"Charles Balch\")"
   ]
  }
 ],
 "metadata": {
  "kernelspec": {
   "display_name": "Python 3 (ipykernel)",
   "language": "python",
   "name": "python3"
  },
  "language_info": {
   "codemirror_mode": {
    "name": "ipython",
    "version": 3
   },
   "file_extension": ".py",
   "mimetype": "text/x-python",
   "name": "python",
   "nbconvert_exporter": "python",
   "pygments_lexer": "ipython3",
   "version": "3.9.13"
  }
 },
 "nbformat": 4,
 "nbformat_minor": 5
}
