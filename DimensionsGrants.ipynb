{
 "cells": [
  {
   "cell_type": "code",
   "execution_count": 1,
   "metadata": {},
   "outputs": [],
   "source": [
    "from tqdm.notebook import tqdm as progress\n",
    "import pandas as pd\n",
    "import plotly.express as px\n",
    "from plotly.offline import plot\n",
    "import dimcli\n",
    "from dimcli.utils import *\n",
    "import os, sys, time, json\n",
    "from IPython.display import Image\n",
    "from IPython.core.display import HTML "
   ]
  },
  {
   "cell_type": "code",
   "execution_count": 2,
   "metadata": {},
   "outputs": [
    {
     "name": "stdout",
     "output_type": "stream",
     "text": [
      "==\n",
      "Logging in..\n",
      "\u001b[2mDimcli - Dimensions API Client (v1.1)\u001b[0m\n",
      "\u001b[2mConnected to: <https://app.dimensions.ai/api/dsl> - DSL v2.8\u001b[0m\n",
      "\u001b[2mMethod: manual login\u001b[0m\n",
      "====\n",
      "Heads up! The latest Dimcli version is  1.2\n",
      "You have installed:  1.1\n",
      "====\n",
      "Please upgrade: `pip install dimcli -U`\n"
     ]
    }
   ],
   "source": [
    "#Log into Dimensions\n",
    "#API key is: 9F8D648F0D7E437CB1736BEBDF007F02\n",
    "#!pip install dimcli -U --quiet \n",
    "\n",
    "print(\"==\\nLogging in..\")\n",
    "# https://digital-science.github.io/dimcli/getting-started.html#authentication\n",
    "ENDPOINT = \"https://app.dimensions.ai\"\n",
    "if 'google.colab' in sys.modules:\n",
    "    import getpass\n",
    "    KEY = getpass.getpass(prompt='API Key: ')  \n",
    "    dimcli.login(key=KEY, endpoint=ENDPOINT)\n",
    "else:\n",
    "    KEY = \"9F8D648F0D7E437CB1736BEBDF007F02\"\n",
    "    dimcli.login(key=KEY, endpoint=ENDPOINT)\n",
    "dsl = dimcli.Dsl()"
   ]
  },
  {
   "cell_type": "code",
   "execution_count": 3,
   "metadata": {},
   "outputs": [],
   "source": [
    "names = [\n",
    "    \"MICHAEL AGUS\",\n",
    "    \"DOROTHY BAINTON\",\n",
    "    \"CHARLES BALCH\",\n",
    "    \"JEFFREY BALSER\",\n",
    "    \"KEVIN CATT\",\n",
    "    \"HENRY CHAMBERS\",\n",
    "    \"RICHARD CLARK\",\n",
    "    \"STEPHANIE EISENBARTH\",\n",
    "    \"PENG JI\",\n",
    "    \"PETER FECCI\",\n",
    "    \"TIPPI MACKENZIE\",\n",
    "    \"PURNA KASHYAP\"\n",
    "]\n",
    "\n",
    "namesTest = [\n",
    "    \"MICHAEL AGUS\",\n",
    "    \"PETER FECCI\",\n",
    "    \"TIPPI MACKENZIE\",\n",
    "    \"PURNA KASHYAP\"]\n",
    "\n",
    "#Link to grant variables description: https://docs.dimensions.ai/dsl/datasource-grants.html#grants\n",
    "search_Var = \"[abstract + active_year + category_bra + category_for + category_for_2020 + category_hra + category_hrcs_hc + category_hrcs_rac + category_icrp_cso + category_icrp_ct + category_rcdc + category_sdg + category_uoa + concepts + concepts_scores + date_inserted + dimensions_url + end_date + foa_number + funder_countries + funder_org_acronym + funder_org_cities + funder_org_countries + funder_org_name + funder_org_states + funder_orgs + funders + funding_aud + funding_cad + funding_chf + funding_cny + funding_currency + funding_eur + funding_gbp + funding_jpy + funding_nzd + funding_org_acronym + funding_org_cities + funding_org_city + funding_org_name + funding_org_states + funding_schemes + funding_usd + grant_number + id + investigators + keywords + language + language_title + linkout + original_title + project_numbers + research_org_cities + research_org_countries + research_org_names + research_org_state_codes + research_orgs + researchers + score + start_date + start_year + title]\""
   ]
  },
  {
   "cell_type": "code",
   "execution_count": 4,
   "metadata": {},
   "outputs": [
    {
     "name": "stderr",
     "output_type": "stream",
     "text": [
      "Starting iteration with limit=1000 skip=0 ...\u001b[0m\n",
      "0-193 / 193 (6.09s)\u001b[0m\n",
      "===\n",
      "Records extracted: 193\u001b[0m\n",
      "Starting iteration with limit=1000 skip=0 ...\u001b[0m\n"
     ]
    },
    {
     "name": "stdout",
     "output_type": "stream",
     "text": [
      "Total of 193 unique ids for David Sankey: \n",
      "['ur.011325562211.34', 'ur.013256511441.79', 'ur.015731176027.95', 'ur.01054242413.45', 'ur.014172422321.14', 'ur.01116742271.23', 'ur.014320114311.06', 'ur.07433744221.78', 'ur.015012240060.68', 'ur.016240520521.24', 'ur.010444417475.96', 'ur.015450214527.05', 'ur.01140270701.69', 'ur.016612025002.93', 'ur.0714036640.60', 'ur.01124375426.12', 'ur.015366255521.68', 'ur.016063673701.58', 'ur.015621235575.61', 'ur.01315671130.33', 'ur.0605462501.51', 'ur.015756715251.04', 'ur.015470321621.20', 'ur.013043034641.00', 'ur.015102477771.79', 'ur.011553606451.89', 'ur.01030361026.32', 'ur.01101444145.85', 'ur.011022604501.09', 'ur.011657124747.33', 'ur.01044206131.26', 'ur.014072773667.31', 'ur.015525235716.30', 'ur.010630635107.77', 'ur.016214721561.67', 'ur.010075412767.97', 'ur.013514112141.39', 'ur.014157553341.49', 'ur.0742162372.99', 'ur.01240027465.25', 'ur.011007424357.96', 'ur.012350012623.03', 'ur.01000634025.05', 'ur.015664650234.51', 'ur.0733010351.14', 'ur.010064471636.08', 'ur.010500232036.81', 'ur.011333375747.52', 'ur.015117723370.09', 'ur.01217155062.36', 'ur.012331246647.25', 'ur.016251502631.77', 'ur.01340354442.77', 'ur.01211161715.76', 'ur.0635142055.19', 'ur.012304571623.47', 'ur.01102376635.22', 'ur.07670276101.15', 'ur.012073360707.83', 'ur.016551455423.72', 'ur.014166421477.17', 'ur.07730242147.27', 'ur.01262323455.76', 'ur.01152214025.31', 'ur.013724257313.24', 'ur.01213746622.42', 'ur.010575742511.46', 'ur.01045212204.15', 'ur.0776501454.49', 'ur.01050513473.52', 'ur.01151503232.17', 'ur.010053134456.39', 'ur.014653063721.52', 'ur.014436021143.51', 'ur.01313500444.47', 'ur.012343544123.42', 'ur.013322607551.50', 'ur.01076372045.09', 'ur.013513260021.13', 'ur.01073403157.11', 'ur.016301774077.72', 'ur.01337024212.06', 'ur.014411614341.93', 'ur.016324530407.26', 'ur.011614424635.26', 'ur.016106067561.39', 'ur.012656167423.48', 'ur.01150276360.38', 'ur.012526307233.18', 'ur.014167716601.01', 'ur.014466416271.21', 'ur.01165031336.11', 'ur.013121535671.82', 'ur.016540545211.44', 'ur.013041655611.36', 'ur.012532516156.99', 'ur.016201333327.38', 'ur.01034010351.67', 'ur.0577675350.85', 'ur.015262306334.49', 'ur.010274635656.99', 'ur.012170217653.60', 'ur.01200140741.16', 'ur.01032270403.30', 'ur.011364734621.18', 'ur.01115454153.25', 'ur.0643511161.81', 'ur.015034524341.90', 'ur.015454251777.16', 'ur.0747643414.02', 'ur.01306642210.85', 'ur.015017341104.39', 'ur.012707732471.00', 'ur.010645242213.66', 'ur.07651331621.46', 'ur.0741407647.38', 'ur.011351253221.33', 'ur.013510343034.28', 'ur.015747474641.24', 'ur.012125301721.48', 'ur.07635230631.40', 'ur.012433112432.33', 'ur.014761134611.08', 'ur.011473025677.97', 'ur.015210334161.75', 'ur.011342075731.24', 'ur.01333726005.14', 'ur.01217455436.06', 'ur.01235636333.35', 'ur.01215501752.14', 'ur.01212043462.96', 'ur.01331253621.90', 'ur.07634536261.57', 'ur.0730207741.74', 'ur.012511126161.16', 'ur.0635434643.12', 'ur.016234666307.38', 'ur.015406631767.38', 'ur.016465405741.06', 'ur.011034227353.88', 'ur.015672316223.89', 'ur.015423503551.86', 'ur.016015074021.15', 'ur.012755111542.94', 'ur.014023736342.62', 'ur.01307321521.56', 'ur.014316213351.61', 'ur.013276076132.11', 'ur.01270106052.83', 'ur.07772015271.78', 'ur.016226503471.07', 'ur.0623566744.79', 'ur.013566346261.20', 'ur.013732111727.76', 'ur.07731564201.13', 'ur.013530141325.64', 'ur.011222221747.86', 'ur.010703716751.42', 'ur.0625444024.89', 'ur.011307666665.17', 'ur.010206562001.05', 'ur.011126705357.81', 'ur.013011516751.13', 'ur.010254057021.15', 'ur.07412334107.23', 'ur.07704224227.63', 'ur.016651631313.79', 'ur.011654555665.82', 'ur.016320311067.40', 'ur.07736502777.60', 'ur.010526340703.66', 'ur.01230206651.90', 'ur.012603172466.93', 'ur.01143364657.44', 'ur.014044273211.24', 'ur.012667205106.98', 'ur.012505145011.37', 'ur.010202410131.42', 'ur.012533404661.04', 'ur.015053457011.92', 'ur.07516350207.53', 'ur.011143100341.26', 'ur.07774021441.53', 'ur.012021122131.16', 'ur.014156235227.54', 'ur.016457232667.51', 'ur.012106221134.68', 'ur.016126145325.01', 'ur.07647200401.30', 'ur.014346601640.44', 'ur.013606131101.71', 'ur.013664370041.33', 'ur.010116557227.48']\n"
     ]
    },
    {
     "name": "stderr",
     "output_type": "stream",
     "text": [
      "0-193 / 193 (0.64s)\u001b[0m\n",
      "===\n",
      "Records extracted: 193\u001b[0m\n"
     ]
    },
    {
     "name": "stdout",
     "output_type": "stream",
     "text": [
      "++++++++ FINAL 2 Working ID(s) +++++++++++\n",
      "{'ur.012304571623.47', 'ur.016251502631.77'}\n"
     ]
    }
   ],
   "source": [
    "def researcherIds(name):\n",
    "    res = dsl.query_iterative(f\"\"\"search researchers for \"{name}\" return researchers\"\"\")\n",
    "    listDict = res.json['researchers']\n",
    "    allIds = set()\n",
    "    for idv in listDict:\n",
    "        allIds.add(idv['id'])\n",
    "\n",
    "    allIds = list(allIds)  # Convert set back to a list if needed\n",
    "    print(f'Total of {len(allIds)} unique ids for {name}: ')\n",
    "    print(allIds)\n",
    "\n",
    "    # Constructing the DSL query with the list of IDs\n",
    "    query_ids = ', '.join([f'\"{id_val}\"' for id_val in allIds])\n",
    "    query = f'search researchers where id in [{query_ids}] return researchers[id+obsolete+redirect]'\n",
    "\n",
    "    # Execute the DSL query\n",
    "    res2 = dsl.query_iterative(query)\n",
    "    listDict2 = res2.json['researchers']\n",
    "    allWorkingIDs = set()\n",
    "    for person in listDict2:\n",
    "        if person['obsolete'] == 0:  # Current Working Id(s)\n",
    "            allWorkingIDs.add(person[\"id\"])\n",
    "        else:\n",
    "            for ids in person['redirect']:\n",
    "                allWorkingIDs.add(ids)\n",
    "    \n",
    "    print(f'++++++++ FINAL {len(allWorkingIDs)} Working ID(s) +++++++++++')  \n",
    "    print(allWorkingIDs)\n",
    "    \n",
    "    return allWorkingIDs\n",
    "testIDs = researcherIds(\"David Sankey\")"
   ]
  },
  {
   "cell_type": "code",
   "execution_count": 5,
   "metadata": {},
   "outputs": [],
   "source": [
    "#using researcher ids to find grants\n",
    "def findingGrants(ids):\n",
    "    all_grants = {}\n",
    "    if len(ids) >= 1:\n",
    "        for i in ids:\n",
    "            res = dsl.query_iterative(f\"\"\"search grants where researchers = \"{i}\" return grants{search_Var}\"\"\")\n",
    "            number = res.json['_stats']['total_count']\n",
    "            print(f'{i} id has {number} grants')\n",
    "            listDict = res.json['grants']\n",
    "            name_list = []\n",
    "            for grant in listDict:\n",
    "                name_list.append(grant)\n",
    "            all_grants[i]= name_list\n",
    "    \n",
    "    else:\n",
    "        print(f'+++++++++++There are no working ids+++++++++++')\n",
    "    return all_grants\n",
    "        \n",
    "#findingGrants(testIDs)"
   ]
  },
  {
   "cell_type": "code",
   "execution_count": 6,
   "metadata": {},
   "outputs": [],
   "source": [
    "#Finds grants based on active researcher ids\n",
    "\n",
    "def idGrants(nameList):\n",
    "    allGrants = {}\n",
    "    for name in nameList:\n",
    "        nameIds = researcherIds(name)\n",
    "        indvGrants = findingGrants(nameIds)\n",
    "        allGrants[name] = indvGrants\n",
    "    return allGrants\n",
    "#idGrants(namesTest)"
   ]
  },
  {
   "cell_type": "code",
   "execution_count": 7,
   "metadata": {},
   "outputs": [],
   "source": [
    "#search index queries\n",
    "def grantSearch(namesTest):\n",
    "    all_grants= {}\n",
    "    for name in namesTest:\n",
    "        res = dsl.query_iterative(f\"\"\"search grants in investigators for \"{name}\" return grants{search_Var}\"\"\")\n",
    "        number = res.json['_stats']['total_count']\n",
    "        print(f'{name} has {number} grants')\n",
    "        listDict = res.json['grants']\n",
    "        for indvgrant in listDict:\n",
    "            print(indvgrant)\n",
    "            print()\n",
    "\n",
    "#grantSearch(namesTest)"
   ]
  },
  {
   "cell_type": "code",
   "execution_count": 8,
   "metadata": {},
   "outputs": [],
   "source": [
    "#exact name searchers\n",
    "def grantSearch(namesList):\n",
    "    all_grants= {}\n",
    "    for name in namesList:\n",
    "        res = dsl.query_iterative(f\"\"\"search grants where investigators = \"{name}\" return grants{search_Var}\"\"\")\n",
    "        number = res.json['_stats']['total_count']\n",
    "        print(f'{name} has {number} grants')\n",
    "        listDict = res.json['grants']\n",
    "        name_list = []\n",
    "        for grant in listDict:\n",
    "            #print(grant.keys())\n",
    "            name_list.append(grant)\n",
    "        all_grants[name]= name_list\n",
    "    return all_grants\n",
    "\n",
    "\n",
    "\n",
    "#grantSearch(namesTest)"
   ]
  },
  {
   "cell_type": "code",
   "execution_count": null,
   "metadata": {},
   "outputs": [
    {
     "name": "stderr",
     "output_type": "stream",
     "text": [
      "Starting iteration with limit=1000 skip=0 ...\u001b[0m\n",
      "0-27 / 27 (0.73s)\u001b[0m\n",
      "===\n",
      "Records extracted: 27\u001b[0m\n",
      "Starting iteration with limit=1000 skip=0 ...\u001b[0m\n"
     ]
    },
    {
     "name": "stdout",
     "output_type": "stream",
     "text": [
      "Total of 27 unique ids for John Abel: \n",
      "['ur.07370032243.26', 'ur.013564276423.55', 'ur.013145453621.07', 'ur.073430540.26', 'ur.010740401257.50', 'ur.074673247.88', 'ur.0113601506.45', 'ur.015511503762.83', 'ur.01100100145.61', 'ur.012756721200.18', 'ur.0731023010.97', 'ur.011411730413.84', 'ur.013152145273.78', 'ur.011373457143.88', 'ur.0660057507.79', 'ur.01370644616.03', 'ur.013667277461.72', 'ur.012317776113.57', 'ur.014364356720.76', 'ur.011660271405.54', 'ur.053245756.22', 'ur.014464515022.13', 'ur.07754467115.07', 'ur.0105542203.93', 'ur.053660030.94', 'ur.014455657146.15', 'ur.01350722170.79']\n"
     ]
    },
    {
     "name": "stderr",
     "output_type": "stream",
     "text": [
      "0-27 / 27 (4.58s)\u001b[0m\n",
      "===\n",
      "Records extracted: 27\u001b[0m\n",
      "Starting iteration with limit=1000 skip=0 ...\u001b[0m\n"
     ]
    },
    {
     "name": "stdout",
     "output_type": "stream",
     "text": [
      "++++++++ FINAL 17 Working ID(s) +++++++++++\n",
      "{'ur.07370032243.26', 'ur.01100100145.61', 'ur.013564276423.55', 'ur.012317776113.57', 'ur.012756721200.18', 'ur.073430540.26', 'ur.010740401257.50', 'ur.011373457143.88', 'ur.074673247.88', 'ur.013152145273.78', 'ur.0660057507.79', 'ur.01370644616.03', 'ur.053660030.94', 'ur.011660271405.54', 'ur.015511503762.83', 'ur.013667277461.72', 'ur.01350722170.79'}\n"
     ]
    },
    {
     "name": "stderr",
     "output_type": "stream",
     "text": [
      "===\n",
      "Records extracted: 0\u001b[0m\n",
      "Warnings:  8\u001b[0m\n",
      "Starting iteration with limit=1000 skip=0 ...\u001b[0m\n"
     ]
    },
    {
     "name": "stdout",
     "output_type": "stream",
     "text": [
      "ur.07370032243.26 id has 0 grants\n"
     ]
    },
    {
     "name": "stderr",
     "output_type": "stream",
     "text": [
      "===\n",
      "Records extracted: 0\u001b[0m\n",
      "Warnings:  8\u001b[0m\n",
      "Starting iteration with limit=1000 skip=0 ...\u001b[0m\n"
     ]
    },
    {
     "name": "stdout",
     "output_type": "stream",
     "text": [
      "ur.01100100145.61 id has 0 grants\n"
     ]
    },
    {
     "name": "stderr",
     "output_type": "stream",
     "text": [
      "===\n",
      "Records extracted: 0\u001b[0m\n",
      "Warnings:  8\u001b[0m\n",
      "Starting iteration with limit=1000 skip=0 ...\u001b[0m\n"
     ]
    },
    {
     "name": "stdout",
     "output_type": "stream",
     "text": [
      "ur.013564276423.55 id has 0 grants\n"
     ]
    },
    {
     "name": "stderr",
     "output_type": "stream",
     "text": [
      "===\n",
      "Records extracted: 0\u001b[0m\n",
      "Warnings:  8\u001b[0m\n",
      "Starting iteration with limit=1000 skip=0 ...\u001b[0m\n"
     ]
    },
    {
     "name": "stdout",
     "output_type": "stream",
     "text": [
      "ur.012317776113.57 id has 0 grants\n"
     ]
    }
   ],
   "source": [
    "#Use ids when it shows up, but use search index queries if not\n",
    "def findallGrants(names):\n",
    "    allGrants = {}\n",
    "    for n in names:\n",
    "        nameIds = researcherIds(n)\n",
    "        if len(nameIds) != 0:\n",
    "            indvGrants = findingGrants(nameIds)\n",
    "            allGrants[n] = indvGrants\n",
    "            \n",
    "        else:\n",
    "            searched = \"No ids\"\n",
    "            res = dsl.query_iterative(f\"\"\"search grants in investigators for \"{n}\" return grants{search_Var}\"\"\")\n",
    "            number = res.json['_stats']['total_count']\n",
    "            typeDict = {}\n",
    "            print(f'{n} has {number} grants')\n",
    "            listDict = res.json['grants']\n",
    "            typeDict[searched] = listDict\n",
    "            allGrants[n] = typeDict\n",
    "    return allGrants\n",
    "\n",
    "\n",
    "findallGrants([\"John Abel\"])\n",
    "    "
   ]
  },
  {
   "cell_type": "code",
   "execution_count": null,
   "metadata": {},
   "outputs": [],
   "source": []
  }
 ],
 "metadata": {
  "kernelspec": {
   "display_name": "Python 3 (ipykernel)",
   "language": "python",
   "name": "python3"
  },
  "language_info": {
   "codemirror_mode": {
    "name": "ipython",
    "version": 3
   },
   "file_extension": ".py",
   "mimetype": "text/x-python",
   "name": "python",
   "nbconvert_exporter": "python",
   "pygments_lexer": "ipython3",
   "version": "3.9.13"
  }
 },
 "nbformat": 4,
 "nbformat_minor": 2
}
