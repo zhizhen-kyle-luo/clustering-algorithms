{
 "cells": [
  {
   "attachments": {},
   "cell_type": "markdown",
   "metadata": {},
   "source": [
    "After finishing all that, we can delete the records quite easily. When an entity is deleted, all connection with that entity will be automatically deleted too."
   ]
  },
  {
   "cell_type": "code",
   "execution_count": 8,
   "metadata": {},
   "outputs": [],
   "source": [
    "import sys\n",
    "import os\n",
    "module_path = os.path.abspath(os.path.join('..'))\n",
    "if module_path not in sys.path:\n",
    "    sys.path.append(module_path)\n",
    "from SQLConnect import connect_and_query\n",
    "from SQLConnect import insert_query_dict"
   ]
  },
  {
   "cell_type": "code",
   "execution_count": 9,
   "metadata": {},
   "outputs": [],
   "source": [
    "queries = [\n",
    "    'DELETE FROM People WHERE origin_database = \"NIH Demo\" OR origin_database = \"OpenAlex Demo\"',\n",
    "    'DELETE FROM Org WHERE origin_database = \"NIH Demo\" OR origin_database = \"OpenAlex Demo\"',\n",
    "    'DELETE FROM Bioentity WHERE origin_database = \"NIH Demo\" OR origin_database = \"OpenAlex Demo\"',\n",
    "    'DELETE FROM Work WHERE origin_database = \"NIH Demo\" OR origin_database = \"OpenAlex Demo\"'\n",
    "]"
   ]
  },
  {
   "cell_type": "code",
   "execution_count": 10,
   "metadata": {},
   "outputs": [
    {
     "name": "stdout",
     "output_type": "stream",
     "text": [
      "Connection to database established\n",
      "MySQL connection is closed\n"
     ]
    },
    {
     "data": {
      "text/plain": [
       "[]"
      ]
     },
     "execution_count": 10,
     "metadata": {},
     "output_type": "execute_result"
    }
   ],
   "source": [
    "connect_and_query(queries, ['DELETE' for _ in range(4)], 'UnmergedV1')"
   ]
  }
 ],
 "metadata": {
  "kernelspec": {
   "display_name": "Python 3",
   "language": "python",
   "name": "python3"
  },
  "language_info": {
   "codemirror_mode": {
    "name": "ipython",
    "version": 3
   },
   "file_extension": ".py",
   "mimetype": "text/x-python",
   "name": "python",
   "nbconvert_exporter": "python",
   "pygments_lexer": "ipython3",
   "version": "3.10.2"
  },
  "orig_nbformat": 4,
  "vscode": {
   "interpreter": {
    "hash": "afb734500600fd355917ca529030176ea0ca205570884b88f2f6f7d791fd3fbe"
   }
  }
 },
 "nbformat": 4,
 "nbformat_minor": 2
}
