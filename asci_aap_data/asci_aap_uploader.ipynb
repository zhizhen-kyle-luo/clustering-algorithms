{
 "cells": [
  {
   "cell_type": "code",
   "execution_count": 2,
   "metadata": {},
   "outputs": [
    {
     "name": "stdout",
     "output_type": "stream",
     "text": [
      "\n",
      "Extracting from asci_aap_data.csv\n",
      "Found column names\n",
      "\n",
      "Extracting from edges_kumu.csv\n",
      "Found column names\n",
      "{'Parent Institution-Child Institution', 'Specialization-Associate', 'Year-Associate', 'Parent Specialization-Child Specialization', 'Institution-Associate'}\n"
     ]
    }
   ],
   "source": [
    "import asci_aap_data_extractor\n",
    "import edges_kumu_extractor\n",
    "import sys\n",
    "import os\n",
    "module_path = os.path.abspath(os.path.join('..'))\n",
    "if module_path not in sys.path:\n",
    "    sys.path.append(module_path)\n",
    "import SQLConnect\n",
    "\n",
    "asci_aap_data = asci_aap_data_extractor.extract()\n",
    "edges = edges_kumu_extractor.extract()\n",
    "Unmerged = SQLConnect.UnmergedV1"
   ]
  },
  {
   "cell_type": "code",
   "execution_count": null,
   "metadata": {},
   "outputs": [],
   "source": [
    "# The data to be uploaded\n",
    "people = set()\n",
    "org = set()\n",
    "bioentity = set()\n",
    "people_org_name_dic = {}\n",
    "people_spec_name = set()\n",
    "bio_relation_name = set()\n",
    "org_relation_name = set()"
   ]
  },
  {
   "cell_type": "code",
   "execution_count": null,
   "metadata": {},
   "outputs": [],
   "source": [
    "# Extracting data from edges_kumu.csv\n",
    "for record in edges:\n",
    "    if record[\"type\"] == \"Parent Specialization-Child Specialization\":\n",
    "        bioentity.add((\"ASCI+AAP\", record[\"entity1\"]))\n",
    "        bioentity.add((\"ASCI+AAP\", record[\"entity2\"]))\n",
    "        bio_relation_name.add((record[\"entity1\"], record[\"entity2\"], \"parent\"))\n",
    "        bio_relation_name.add((record[\"entity2\"], record[\"entity1\"], \"child\"))\n",
    "    elif record[\"type\"] == \"Specialization-Associate\":\n",
    "        bioentity.add((\"ASCI+AAP\", record[\"entity1\"]))\n",
    "        people_spec_name.add((record[\"entity1\"], record[\"entity2\"]))\n",
    "    elif record[\"type\"] == \"Parent Institution-Child Institution\":\n",
    "        org_relation_name.add((record[\"entity1\"], record[\"entity2\"], \"parent\"))\n",
    "        org_relation_name.add((record[\"entity2\"], record[\"entity1\"], \"child\"))\n",
    "    elif record[\"type\"] == \"Institution-Associate\":\n",
    "        if record[\"entity2\"] in people_org_name_dic:\n",
    "            people_org_name_dic[record[\"entity2\"]].append(record[\"entity1\"])\n",
    "        else:\n",
    "            people_org_name_dic[record[\"entity2\"]] = [record[\"entity1\"]]\n",
    "    else:\n",
    "        if record[\"entity2\"] in people_org_name_dic:\n",
    "            people_org_name_dic[record[\"entity2\"]] = [int(record[\"entity1\"])] + people_org_name_dic[record[\"entity2\"]]\n",
    "        else:\n",
    "            people_org_name_dic[record[\"entity2\"]] = [int(record[\"entity1\"])]"
   ]
  },
  {
   "cell_type": "code",
   "execution_count": null,
   "metadata": {},
   "outputs": [],
   "source": [
    "# Extracting data from asci_aap_data.csv\n",
    "for record in asci_aap_data:\n",
    "    new_person = (\"ASCI+AAP\", record[\"email\"], record[\"phone\"], None, record[\"first_name\"], record[\"middle_name\"], record[\"last_name\"], None)\n",
    "    people.add(new_person)\n",
    "    for aff in record[\"affiliation\"] + record[\"umbrella_spec\"] + record[\"related_aff\"]:\n",
    "        new_org = (\"ASCI+AAP\", aff, None)\n",
    "        org.add(new_org)"
   ]
  },
  {
   "cell_type": "code",
   "execution_count": null,
   "metadata": {},
   "outputs": [],
   "source": [
    "# Converting people affiliation data to a set type\n",
    "people_org_name_set = set()\n",
    "for key, val in people_org_name_dic.items():\n",
    "    if type(val[0]) == int:\n",
    "        for aff in val[1:]:\n",
    "            people_org_name_set.add((key, aff, val[0]))\n",
    "    else:\n",
    "        for aff in val:\n",
    "            people_org_name_set.add((key, aff, None))"
   ]
  },
  {
   "cell_type": "code",
   "execution_count": null,
   "metadata": {},
   "outputs": [],
   "source": [
    "# Uploading people, organization, and bioentity data\n",
    "people_queries = [Unmerged.people(record) for record in people]\n",
    "org_queries = [Unmerged.org(record) for record in org]\n",
    "bioentity_queries = [Unmerged.bioentity(record) for record in bioentity]\n",
    "primary_queries = people_queries + org_queries + bioentity_queries\n",
    "query_types = [\"INSERT\" for _ in range(len(primary_queries))]\n",
    "SQLConnect.connect_and_query(queries=primary_queries, types=query_types, database=\"Onboarding\")"
   ]
  },
  {
   "cell_type": "code",
   "execution_count": null,
   "metadata": {},
   "outputs": [],
   "source": [
    "# Finding the Primary IDs for the people, organizations, and bio\n",
    "people_id_raw = SQLConnect.connect_and_query(queries=[\"SELECT people_id, first_name, middle_name, last_name FROM People;\"], types=[\"SELECT\"], database=\"UnmergedV1\")\n",
    "org_id_raw = SQLConnect.connect_and_query(queries=[\"SELECT org_id, name FROM Org;\"], types=[\"SELECT\"], database=\"UnmergedV1\")\n",
    "bio_id_raw = SQLConnect.connect_and_query(queries=[\"SELECT bio_id, name FROM Bioentity;\"], types=[\"SELECT\"], database=\"UnmergedV1\")"
   ]
  },
  {
   "cell_type": "code",
   "execution_count": null,
   "metadata": {},
   "outputs": [],
   "source": [
    "# Clean primary id data\n",
    "people_id_clean = {}\n",
    "org_id_clean = {}\n",
    "bio_id_clean = {}\n",
    "for record in people_id_raw[0]:\n",
    "    name = record[3] + \", \" + record[1]\n",
    "    if record[2]:\n",
    "        name += (\" (\" + record[2] + \")\")\n",
    "    people_id_clean[name] = record[0]\n",
    "for record in org_id_raw[0]:\n",
    "    org_id_clean[record[1]] = record[0]\n",
    "for record in bio_id_raw[0]:\n",
    "    bio_id_clean[record[1]] = record[0]"
   ]
  },
  {
   "cell_type": "code",
   "execution_count": null,
   "metadata": {},
   "outputs": [],
   "source": [
    "# Convert people affiliation, org relation, bio relation, and people spec into id types\n",
    "people_org_id = set()\n",
    "org_relation_id = set()\n",
    "bio_relation_id = set()\n",
    "people_spec_id = set()\n",
    "manual_upload = []\n",
    "for record in people_org_name_set:\n",
    "    if record[0] in people_id_clean:\n",
    "        people_org_id.add((people_id_clean[record[0]], org_id_clean[record[1]], record[2]))\n",
    "    else:\n",
    "        manual_upload.append(record)\n",
    "for record in org_relation_name:\n",
    "    org_relation_id.add((org_id_clean[record[0]], org_id_clean[record[1]], record[2]))\n",
    "for record in bio_relation_name:\n",
    "    bio_relation_id.add((bio_id_clean[record[0]], bio_id_clean[record[1]], record[2]))\n",
    "for record in people_spec_name:\n",
    "    if record[1] in people_id_clean:\n",
    "        people_spec_id.add((people_id_clean[record[1]], bio_id_clean[record[0]]))\n",
    "    else:\n",
    "        manual_upload.append(record)\n",
    "print(manual_upload, \"Unable to be uploaded, person not found\")\n",
    "print(\"After manual search, this person's id is 1846\")\n",
    "people_org_id.add((1846, org_id_clean['University of California, Davis, School of Medicine'], 2020))"
   ]
  },
  {
   "cell_type": "code",
   "execution_count": null,
   "metadata": {},
   "outputs": [],
   "source": [
    "# Upload relational data\n",
    "people_org_queries = [Unmerged.people_org(record) for record in people_org_id]\n",
    "org_relation_queries = [Unmerged.org_relation(record) for record in org_relation_id]\n",
    "bio_relation_queries = [Unmerged.bio_relation(record) for record in bio_relation_id]\n",
    "people_spec_queries = [Unmerged.people_spec(record) for record in people_spec_id]\n",
    "secondary_queries = people_org_queries + org_relation_queries + bio_relation_queries + people_spec_queries\n",
    "query_types = [\"INSERT\" for _ in range(len(secondary_queries))]\n",
    "# SQLConnect.connect_and_query(queries=secondary_queries, types=query_types, database=\"UnmergedV1\")"
   ]
  }
 ],
 "metadata": {
  "kernelspec": {
   "display_name": "Python 3",
   "language": "python",
   "name": "python3"
  },
  "language_info": {
   "codemirror_mode": {
    "name": "ipython",
    "version": 3
   },
   "file_extension": ".py",
   "mimetype": "text/x-python",
   "name": "python",
   "nbconvert_exporter": "python",
   "pygments_lexer": "ipython3",
   "version": "3.10.2"
  },
  "orig_nbformat": 4,
  "vscode": {
   "interpreter": {
    "hash": "afb734500600fd355917ca529030176ea0ca205570884b88f2f6f7d791fd3fbe"
   }
  }
 },
 "nbformat": 4,
 "nbformat_minor": 2
}
