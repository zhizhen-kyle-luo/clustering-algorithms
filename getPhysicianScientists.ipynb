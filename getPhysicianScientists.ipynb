{
 "cells": [
  {
   "cell_type": "markdown",
   "metadata": {},
   "source": [
    "### Run this code to get your list of Physician-Scientists"
   ]
  },
  {
   "cell_type": "code",
   "execution_count": 18,
   "metadata": {},
   "outputs": [],
   "source": [
    "import pandas as pd\n",
    "\n",
    "def get_physician_scientists_by_year(file_path, induction_year, num_physician_scientists=None):\n",
    "    \n",
    "    # Read CSV file into a dataframe\n",
    "    df = pd.read_csv(file_path, encoding = \"ISO-8859-1\")\n",
    "\n",
    "    # Filter dataframe based on given induction_year\n",
    "    filtered_df = df[df['year'] == induction_year]\n",
    "\n",
    "    # Get the total number of physician scientists that have\n",
    "    # the given induction year\n",
    "    total = filtered_df.shape[0]\n",
    "\n",
    "    # Check if the number of requested physicians is greater than the available ones\n",
    "    if num_physician_scientists and num_physician_scientists > total:\n",
    "        raise ValueError(f\"Requested {num_physician_scientists} physician-scientists, but only {total} available for the year {induction_year}.\")\n",
    "\n",
    "    # If number of physician-scientists specified, filter\n",
    "    # dataframe to only include first num_physician_scientists\n",
    "    if num_physician_scientists:\n",
    "        filtered_df = filtered_df.head(num_physician_scientists)\n",
    "\n",
    "    # Row indices will be non-sequential due to filtering the dataframe\n",
    "    # so reset them to start at 0 to num_physician_scientists - 1\n",
    "    filtered_df.reset_index(drop=True, inplace=True)\n",
    "\n",
    "    return filtered_df"
   ]
  },
  {
   "cell_type": "code",
   "execution_count": 19,
   "metadata": {},
   "outputs": [],
   "source": [
    "# Get first 25 physician scientists for some ascii induction year\n",
    "first_set = get_physician_scientists_by_year('asci_aap_data/original_names.csv', 2000, 25)\n",
    "\n",
    "# Get next 25 physician scientists for another ascii induction year\n",
    "second_set = get_physician_scientists_by_year('asci_aap_data/original_names.csv', 2010, 25)\n",
    "\n",
    "# Combined dataframe of all 50 physician-scientists\n",
    "# Note: ignore_index tells pandas to reset the row indices.\n",
    "# By default pandas preserves the original indices of the rows from each DataFrame. \n",
    "# This can result in duplicate indices or indices that are not sequential.\n",
    "fifty_physcian_scientists_df = pd.concat([first_set, second_set], ignore_index=True)"
   ]
  },
  {
   "cell_type": "code",
   "execution_count": 20,
   "metadata": {},
   "outputs": [],
   "source": [
    "# Print dataframe\n",
    "fifty_physcian_scientists_df\n",
    "\n",
    "# Save the DataFrame to a CSV file\n",
    "# index = False gets rid of the row indices\n",
    "fifty_physcian_scientists_df.to_csv('physician_scientists.csv', index=False)"
   ]
  }
 ],
 "metadata": {
  "kernelspec": {
   "display_name": "Python 3",
   "language": "python",
   "name": "python3"
  },
  "language_info": {
   "codemirror_mode": {
    "name": "ipython",
    "version": 3
   },
   "file_extension": ".py",
   "mimetype": "text/x-python",
   "name": "python",
   "nbconvert_exporter": "python",
   "pygments_lexer": "ipython3",
   "version": "3.12.1"
  }
 },
 "nbformat": 4,
 "nbformat_minor": 2
}
