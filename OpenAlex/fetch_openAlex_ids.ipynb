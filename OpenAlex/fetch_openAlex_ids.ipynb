{
 "cells": [
  {
   "cell_type": "code",
   "execution_count": 1,
   "id": "fbc5af9c",
   "metadata": {},
   "outputs": [],
   "source": [
    "import requests\n",
    "import json\n",
    "from nameparser import HumanName"
   ]
  },
  {
   "cell_type": "code",
   "execution_count": 2,
   "id": "594fbadd",
   "metadata": {},
   "outputs": [
    {
     "name": "stdout",
     "output_type": "stream",
     "text": [
      "JSON file not found.\n"
     ]
    }
   ],
   "source": [
    "# Specify the path to your JSON file\n",
    "asci_aap_path = 'asci_aap_dataJSON.json'\n",
    "\n",
    "# Initialize an empty dictionary\n",
    "people_dictionary = {}\n",
    "\n",
    "try:\n",
    "    # Open the JSON file in read mode\n",
    "    with open(asci_aap_path, 'r') as json_file:\n",
    "        # Load the JSON data into the dictionary\n",
    "        people_dictionary = json.load(json_file)\n",
    "except FileNotFoundError:\n",
    "    print(\"JSON file not found.\")\n",
    "except json.JSONDecodeError:\n",
    "    print(\"Error decoding JSON data.\")"
   ]
  },
  {
   "cell_type": "code",
   "execution_count": 4,
   "id": "79cbf90e",
   "metadata": {},
   "outputs": [
    {
     "name": "stdout",
     "output_type": "stream",
     "text": [
      "Kjersti Aagaard done\n",
      "Derek Abbott done\n",
      "Francois Abboud done\n",
      "Hanna Abboud done\n",
      "Omar Abdel-Wahab done\n",
      "Sarki Abdulkadir done\n",
      "E Abel done\n",
      "Evan Abel done\n",
      "John Abel done\n",
      "Walter Abelmann done\n",
      "Failed queries: set()\n"
     ]
    }
   ],
   "source": [
    "# Initialize dictionary representing a each physician-scientist's queried IDs\n",
    "# Key:\n",
    "# - \"{first_name} {last_name}\" (dict): a dict of dictionaries of possible inventors keyed on id\n",
    "#     Each dictionary contains:\n",
    "#     - \"id\" (str): openAlex inventor id\n",
    "#     - \"counts_by_year\" (list): a list of dictionaries documenting activity of inventor\n",
    "#         Each dictionary contains: \n",
    "#         - \"year\" (int): the year\n",
    "#         - \"works_count\" (int): inventor's patent count that year\n",
    "#         - \"cited_by_count\" (int): number of papers that cite inventor that year\n",
    "#     - \"first_name\" (str): inventor's first name\n",
    "#     - \"last_name\" (str): inventor's last name\n",
    "#     - \"created_date\" (str): inventor's first seen date\n",
    "#     - \"works_count\" (int): inventor's total number of papers\n",
    "#     - \"api\" (str): \"openAlex\"\n",
    "\n",
    "# Initialize a dictionary to store the queried IDs for each physician-scientist\n",
    "ids_dictionary = {}\n",
    "\n",
    "# Initialize a set to store the failed queries\n",
    "failed_queries = set()\n",
    "\n",
    "for person in people_dictionary[\"people\"][:10]:\n",
    "    cursor = \"*\"\n",
    "\n",
    "    # Get the person's first and last name\n",
    "    first_name = person[\"first_name\"].strip(\".\")\n",
    "    last_name = person[\"last_name\"].strip(\".\")\n",
    "\n",
    "    # Create a query name by combining the person's first and last name\n",
    "    author_name = first_name + \" \" + last_name\n",
    "\n",
    "    # Keep making queries until the request is successful or the maximum number of queries is reached\n",
    "    while True:\n",
    "        query_author = f'https://api.openalex.org/authors?search={author_name}&per_page=100&cursor={cursor}'\n",
    "        \n",
    "        try:\n",
    "            # Make the API request\n",
    "            response = requests.get(query_author)\n",
    "\n",
    "\n",
    "            # Check if the request was successful\n",
    "            if response.status_code == 200:\n",
    "                # Get the list of inventors from the response\n",
    "                authors = response.json()[\"results\"]\n",
    "\n",
    "                # Iterate over the author and add them to the dictionary\n",
    "                for author in authors:\n",
    "                    name = HumanName(author.pop(\"display_name\"))\n",
    "    \n",
    "                    # remove unnecessary features\n",
    "                    author.pop(\"display_name_alternatives\")\n",
    "                    author.pop(\"orcid\")\n",
    "                    author.pop(\"summary_stats\")\n",
    "                    author.pop(\"x_concepts\")\n",
    "                    author.pop(\"works_api_url\")\n",
    "                    \n",
    "                    author[\"id\"] = author[\"id\"][21:]\n",
    "                    author[\"name_first\"] = name.first if len(name.first) > 1 else None\n",
    "                    author[\"name_middle\"] = name.middle if len(name.middle) > 1 else None\n",
    "                    author[\"name_last\"] = name.last if len(name.last) > 1 else None\n",
    "                    author[\"works\"] = []\n",
    "                    \n",
    "                    author[\"api\"] = \"openAlex\"\n",
    "                    \n",
    "                    if author_name not in ids_dictionary:\n",
    "                        ids_dictionary[author_name] = {}\n",
    "                    \n",
    "                    if author[\"id\"] not in ids_dictionary[author_name]:\n",
    "                        ids_dictionary[author_name][author[\"id\"]] = {}\n",
    "\n",
    "                    ids_dictionary[author_name][author[\"id\"]] = author\n",
    "\n",
    "            # Break out of the loop if there are no more authors\n",
    "            if not authors:\n",
    "                break\n",
    "\n",
    "            # Update the query parameters with the next `cursor` value\n",
    "            cursor = response.json()[\"meta\"][\"next_cursor\"]\n",
    "                \n",
    "        # If the request is unsuccessful, add the query name and `after` value to the failed queries set\n",
    "        except Exception as e:\n",
    "            print(e)\n",
    "            failed_queries.add((query_name, cursor))\n",
    "            break\n",
    "\n",
    "    print(author_name + \" done\")\n",
    "\n",
    "# Print the failed queries\n",
    "print(f\"Failed queries: {failed_queries}\")"
   ]
  },
  {
   "cell_type": "code",
   "execution_count": 5,
   "id": "90cf01c1",
   "metadata": {},
   "outputs": [],
   "source": [
    "with open(\"openAlex_ids.json\", \"w\") as f:\n",
    "    json.dump(ids_dictionary, f, indent=4)\n",
    "\n",
    "with open(\"openAlex_failed_queries.json\", \"w\") as f:\n",
    "    json.dump(list(failed_queries), f, indent=4)\n"
   ]
  },
  {
   "cell_type": "code",
   "execution_count": null,
   "id": "47524daf",
   "metadata": {},
   "outputs": [],
   "source": []
  }
 ],
 "metadata": {
  "kernelspec": {
   "display_name": "Python 3 (ipykernel)",
   "language": "python",
   "name": "python3"
  },
  "language_info": {
   "codemirror_mode": {
    "name": "ipython",
    "version": 3
   },
   "file_extension": ".py",
   "mimetype": "text/x-python",
   "name": "python",
   "nbconvert_exporter": "python",
   "pygments_lexer": "ipython3",
   "version": "3.9.13"
  }
 },
 "nbformat": 4,
 "nbformat_minor": 5
}
