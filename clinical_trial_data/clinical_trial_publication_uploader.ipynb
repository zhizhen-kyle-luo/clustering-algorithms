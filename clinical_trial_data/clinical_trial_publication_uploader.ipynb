{
 "cells": [
  {
   "cell_type": "code",
   "execution_count": 1,
   "metadata": {},
   "outputs": [],
   "source": [
    "import clinical_trial_extractor\n",
    "import SQLConnect"
   ]
  },
  {
   "cell_type": "code",
   "execution_count": 2,
   "metadata": {},
   "outputs": [],
   "source": [
    "# Get mapping from project to their publications pmids, along with\n",
    "# list of all publications records\n",
    "data = clinical_trial_extractor.extract()\n",
    "project_pub = {\n",
    "    (datum['title'], datum['start_date']): [pub[0] for pub in datum['works']]\n",
    "    for datum in data\n",
    "}\n",
    "publications = []\n",
    "for key, val in project_pub.items():\n",
    "    publications += val"
   ]
  },
  {
   "cell_type": "code",
   "execution_count": 3,
   "metadata": {},
   "outputs": [],
   "source": [
    "# Upload publications\n",
    "publication_queries = [SQLConnect.UnmergedV1.publication((\"ClinicalTrials.gov\", None, rec)) for rec in publications]\n",
    "# SQLConnect.connect_and_query(queries=publication_queries, types=[\"INSERT\" for _ in publication_queries], database=\"UnmergedV1\")"
   ]
  },
  {
   "cell_type": "code",
   "execution_count": 4,
   "metadata": {},
   "outputs": [
    {
     "name": "stdout",
     "output_type": "stream",
     "text": [
      "Connection to database established\n",
      "MySQL connection is closed\n"
     ]
    }
   ],
   "source": [
    "# Get our publication IDs\n",
    "pub_id_queries = [\"SELECT pmid, pub_id FROM Publication WHERE origin_database='ClinicalTrials.gov'\"]\n",
    "pub_id = SQLConnect.connect_and_query(queries=pub_id_queries, types=[\"SELECT\"], database=\"UnmergedV1\")[0]\n",
    "pub_id = {\n",
    "    rec[0]: rec[1]\n",
    "    for rec in pub_id\n",
    "}"
   ]
  },
  {
   "cell_type": "code",
   "execution_count": 5,
   "metadata": {},
   "outputs": [
    {
     "name": "stdout",
     "output_type": "stream",
     "text": [
      "Connection to database established\n",
      "MySQL connection is closed\n"
     ]
    }
   ],
   "source": [
    "# Get mapping from projects to our project ids\n",
    "query = 'SELECT project_id, title, start_date FROM Project WHERE origin_database=\"ClinicalTrials.gov\"'\n",
    "project_data = SQLConnect.connect_and_query(queries=[query], types=['SELECT'], database=\"UnmergedV1\")[0]\n",
    "project_to_id = {\n",
    "    (record[1], str(record[2])): record[0]\n",
    "    for record in project_data\n",
    "}"
   ]
  },
  {
   "cell_type": "code",
   "execution_count": 6,
   "metadata": {},
   "outputs": [],
   "source": [
    "# Map project id to their publications ids, and make list of querys from them\n",
    "project_pub_id = {}\n",
    "project_not_found = set()\n",
    "for key, val in project_pub.items():\n",
    "    if key in project_to_id:\n",
    "        project_pub_id[project_to_id[key]] = [\n",
    "            pub_id[pmid] for pmid in val\n",
    "        ]\n",
    "    else:\n",
    "        project_not_found.add(key)\n",
    "project_pub_query = [\n",
    "    SQLConnect.UnmergedV1.project_pub((key, idx))\n",
    "    for key, val in project_pub_id.items()\n",
    "    for idx in val\n",
    "]"
   ]
  },
  {
   "cell_type": "code",
   "execution_count": 7,
   "metadata": {},
   "outputs": [
    {
     "name": "stdout",
     "output_type": "stream",
     "text": [
      "22\n"
     ]
    },
    {
     "data": {
      "text/plain": [
       "4023"
      ]
     },
     "execution_count": 7,
     "metadata": {},
     "output_type": "execute_result"
    }
   ],
   "source": [
    "print(len(project_not_found))\n",
    "len(project_pub)"
   ]
  },
  {
   "cell_type": "code",
   "execution_count": 8,
   "metadata": {},
   "outputs": [],
   "source": [
    "# SQLConnect.connect_and_query(project_pub_query, [\"INSERT\" for _ in project_pub_query], 'UnmergedV1')"
   ]
  },
  {
   "cell_type": "code",
   "execution_count": 10,
   "metadata": {},
   "outputs": [
    {
     "name": "stdout",
     "output_type": "stream",
     "text": [
      "Connection to database established\n",
      "MySQL connection is closed\n"
     ]
    },
    {
     "data": {
      "text/plain": [
       "[]"
      ]
     },
     "execution_count": 10,
     "metadata": {},
     "output_type": "execute_result"
    }
   ],
   "source": [
    "work_upload_queries = [(None, id) for id in pub_id.values()]\n",
    "work_upload_queries = [SQLConnect.UnmergedV1.work(entry) for entry in work_upload_queries]\n",
    "SQLConnect.connect_and_query(work_upload_queries, [\"INSERT\" for _ in work_upload_queries], 'UnmergedV1')"
   ]
  }
 ],
 "metadata": {
  "kernelspec": {
   "display_name": "Python 3",
   "language": "python",
   "name": "python3"
  },
  "language_info": {
   "codemirror_mode": {
    "name": "ipython",
    "version": 3
   },
   "file_extension": ".py",
   "mimetype": "text/x-python",
   "name": "python",
   "nbconvert_exporter": "python",
   "pygments_lexer": "ipython3",
   "version": "3.10.2"
  },
  "orig_nbformat": 4,
  "vscode": {
   "interpreter": {
    "hash": "afb734500600fd355917ca529030176ea0ca205570884b88f2f6f7d791fd3fbe"
   }
  }
 },
 "nbformat": 4,
 "nbformat_minor": 2
}
