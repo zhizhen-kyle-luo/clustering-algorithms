{
 "cells": [
  {
   "cell_type": "code",
   "execution_count": null,
   "metadata": {},
   "outputs": [],
   "source": [
    "import clinical_trial_extractor\n",
    "import SQLConnect\n",
    "\n",
    "data = clinical_trial_extractor.extract()\n",
    "query = SQLConnect.UnmergedV1"
   ]
  },
  {
   "cell_type": "code",
   "execution_count": null,
   "metadata": {},
   "outputs": [],
   "source": [
    "# Types of information to be collected\n",
    "# Phase 1 upload\n",
    "bioentity = set()\n",
    "org = set()\n",
    "people = set()\n",
    "project = set()\n",
    "# Phase 2 upload\n",
    "people_org = set()\n",
    "work = set()\n",
    "# Phase 3 upload\n",
    "work_org = set()\n",
    "work_people = set()\n",
    "keyword = set()"
   ]
  },
  {
   "cell_type": "code",
   "execution_count": null,
   "metadata": {},
   "outputs": [],
   "source": [
    "# People name exception\n",
    "job_title = set()\n",
    "exception_names = ['NADIA NATHALIE HANSEL', 'BALAMURALI AMBATI', 'HYO-SUK LEE', 'RAZELLE KURZROCK', 'SUNG RAE KIM', 'MALCOLM K BRENNER']\n",
    "job_title.update(['md', 'MMath', 'm', 'MMed', 'Ph.D.', 'Phd', 'ph.D.', 'MD,PhD', 'DNs', 'MD，PhD', 'PhD，MD', 'MD PhD', 'MBChB', 'DPhil'])"
   ]
  },
  {
   "cell_type": "code",
   "execution_count": null,
   "metadata": {},
   "outputs": [],
   "source": [
    "# Get data from extractor\n",
    "for record in data:\n",
    "    bioentity.update([('ClinicalTrials.gov', entity) for entity in record['bio'] if entity])\n",
    "    org.update([('ClinicalTrials.gov', entity, None) for entity in (record['aff'] + ([record['name_org'][1]] if record['name_org'] else [])) if entity])\n",
    "    # Splitting the name from the JSON file may leave behind titles like PhD,\n",
    "    # MD PhD, etc. The loop tries to remove these kinds of erroneous names\n",
    "    new_people = record['name'] + ([record['name_org'][0]] if record['name_org'] else [])\n",
    "    valid_name = set()\n",
    "    for name in new_people:\n",
    "        if (name == 'PhD' or name.isupper()) and name not in exception_names:\n",
    "            job_title.add(name)\n",
    "        else:\n",
    "            valid_name.add(name)\n",
    "    people.update([('ClinicalTrials.gov', None, None, entity, None, None, None, None) for entity in valid_name if entity])\n",
    "    project.add(('ClinicalTrials.gov', record['title'], record['start_date']))\n",
    "    if record['name_org']:\n",
    "        people_org.add(record['name_org'] + (int(record['start_date'].split('-')[0]),))\n",
    "    work.add((record['title'], record['start_date']))\n",
    "    work_org.update([(\n",
    "        (record['title'], record['start_date']),\n",
    "        entity\n",
    "        ) for entity in (record['aff'] + ([record['name_org'][1]] if record['name_org'] else [])) if entity])\n",
    "    work_people.update([(\n",
    "        (record['title'], record['start_date']),\n",
    "        entity\n",
    "    ) for entity in valid_name if entity])\n",
    "    keyword.update([(\n",
    "        (record['title'], record['start_date']),\n",
    "        entity\n",
    "    ) for entity in record['bio'] if entity])"
   ]
  },
  {
   "cell_type": "code",
   "execution_count": null,
   "metadata": {},
   "outputs": [],
   "source": [
    "# Phase 1 upload\n",
    "bioentity_query = [query.bioentity(entity) for entity in bioentity]\n",
    "org_query = [query.org(entity) for entity in org]\n",
    "people_query = [query.people(entity) for entity in people]\n",
    "project_query = [query.project(entity) for entity in project]\n",
    "phase_1_queries = bioentity_query + org_query + people_query + project_query\n",
    "phase_1_types = ['INSERT' for _ in range(len(phase_1_queries))]\n",
    "# SQLConnect.connect_and_query(phase_1_queries, phase_1_types, \"UnmergedV1\")"
   ]
  },
  {
   "cell_type": "code",
   "execution_count": null,
   "metadata": {},
   "outputs": [],
   "source": [
    "# Get id data\n",
    "bioentity_id_req = \"SELECT bio_id, name FROM Bioentity WHERE origin_database='ClinicalTrials.gov';\"\n",
    "org_id_req = \"SELECT org_id, name FROM Org WHERE origin_database='ClinicalTrials.gov';\"\n",
    "people_id_req = \"SELECT people_id, name FROM People WHERE origin_database='ClinicalTrials.gov';\"\n",
    "project_id_req = \"SELECT project_id, title, start_date FROM Project WHERE origin_database='ClinicalTrials.gov';\"\n",
    "id_req = [bioentity_id_req, org_id_req, people_id_req, project_id_req]\n",
    "response = SQLConnect.connect_and_query(id_req, ['SELECT' for _ in range(4)], 'UnmergedV1')"
   ]
  },
  {
   "cell_type": "code",
   "execution_count": null,
   "metadata": {},
   "outputs": [],
   "source": [
    "# Make dictionary mapping data to id\n",
    "bioentity_id_dict = {}\n",
    "org_id_dict = {}\n",
    "people_id_dict = {}\n",
    "project_id_dict = {}\n",
    "for record in response[0]:\n",
    "    bioentity_id_dict[record[1]] = record[0]\n",
    "for record in response[1]:\n",
    "    org_id_dict[record[1]] = record[0]\n",
    "for record in response[2]:\n",
    "    people_id_dict[record[1]] = record[0]\n",
    "for record in response[3]:\n",
    "    date = str(record[2].year) + '-'\n",
    "    if record[2].month < 10:\n",
    "        date += '0'\n",
    "    date += str(record[2].month) + '-'\n",
    "    if record[2].day < 10:\n",
    "        date += '0'\n",
    "    date += str(record[2].day)\n",
    "    project_id_dict[(record[1], date)] = record[0]"
   ]
  },
  {
   "cell_type": "code",
   "execution_count": null,
   "metadata": {},
   "outputs": [],
   "source": [
    "# Entries for queries in phase 2\n",
    "people_org_id = []\n",
    "work_id = []\n",
    "people_org_exceptions = set()                                           # Failure Cases\n",
    "work_exceptions = set()                                                 # Failure Cases\n",
    "for record in people_org:\n",
    "    if record[0] in people_id_dict and record[1] in org_id_dict:\n",
    "        people_org_id.append((\n",
    "            people_id_dict[record[0]],\n",
    "            org_id_dict[record[1]],\n",
    "            record[2]\n",
    "        ))\n",
    "    else:\n",
    "        people_org_exceptions.add(record)\n",
    "for record in work:\n",
    "    if record in project_id_dict:\n",
    "        work_id.append((project_id_dict[record], None))\n",
    "    else:\n",
    "        work_exceptions.add(record)\n"
   ]
  },
  {
   "cell_type": "code",
   "execution_count": null,
   "metadata": {},
   "outputs": [],
   "source": [
    "# Make queries for phase 2\n",
    "people_org_queries = [query.people_org(record) for record in people_org_id]\n",
    "work_queries = [query.work(record) for record in work_id]\n",
    "phase_2_queries = people_org_queries + work_queries\n",
    "phase_2_types = ['INSERT' for _ in range(len(phase_2_queries))]\n",
    "# SQLConnect.connect_and_query(phase_2_queries, phase_2_types, 'UnmergedV1')"
   ]
  },
  {
   "cell_type": "code",
   "execution_count": null,
   "metadata": {},
   "outputs": [],
   "source": [
    "# Get work ids for each project\n",
    "req = 'SELECT work_id, project_id FROM Work WHERE pub_id IS NULL;'\n",
    "response = SQLConnect.connect_and_query([req], ['SELECT'], 'UnmergedV1')\n",
    "work_id_dict = {} # Converts project id to work id\n",
    "for record in response[0]:\n",
    "    work_id_dict[record[1]] = record[0]\n",
    "project_to_work_dict = {}\n",
    "project_id_not_found = set()                                            # Failure Cases\n",
    "for key, val in project_id_dict.items():\n",
    "    if val in work_id_dict:\n",
    "        project_to_work_dict[key] = work_id_dict[val]\n",
    "    elif key not in work_exceptions:\n",
    "        project_id_not_found.add(key)"
   ]
  },
  {
   "cell_type": "code",
   "execution_count": null,
   "metadata": {},
   "outputs": [],
   "source": [
    "# Entries for queries in phase 3\n",
    "work_org_id = []\n",
    "work_people_id = []\n",
    "keyword_id = []\n",
    "phase_3_exceptions = set()                                              # Failure Cases\n",
    "for record in work_org:\n",
    "    if record[0] in project_to_work_dict and record[1] in org_id_dict:\n",
    "        work_org_id.append((project_to_work_dict[record[0]], org_id_dict[record[1]]))\n",
    "    elif record[0] not in work_exceptions:\n",
    "        phase_3_exceptions.add(record)\n",
    "for record in work_people:\n",
    "    if record[0] in project_to_work_dict and record[1] in people_id_dict:\n",
    "        work_people_id.append((project_to_work_dict[record[0]], people_id_dict[record[1]]))\n",
    "    elif record[0] not in work_exceptions and record[1] not in job_title:\n",
    "        phase_3_exceptions.add(record)\n",
    "for record in keyword:\n",
    "    if record[0] in project_to_work_dict and record[1] in bioentity_id_dict:\n",
    "        keyword_id.append((project_to_work_dict[record[0]], bioentity_id_dict[record[1]]))\n",
    "    elif record[0] not in work_exceptions:\n",
    "        phase_3_exceptions.add(record)"
   ]
  },
  {
   "cell_type": "code",
   "execution_count": null,
   "metadata": {},
   "outputs": [],
   "source": [
    "# Phase 3 upload\n",
    "work_org_query = [query.work_org(record) for record in work_org_id]\n",
    "work_people_query = [query.work_people(record) for record in work_people_id]\n",
    "keyword_query = [query.keyword(record) for record in keyword_id]\n",
    "phase_3_queries = work_org_query + work_people_query + keyword_query\n",
    "phase_3_types = [\"INSERT\" for _ in range(len(phase_3_queries))]\n",
    "# SQLConnect.connect_and_query(phase_3_queries, phase_3_types, 'UnmergedV1')"
   ]
  }
 ],
 "metadata": {
  "kernelspec": {
   "display_name": "Python 3",
   "language": "python",
   "name": "python3"
  },
  "language_info": {
   "name": "python",
   "version": "3.10.2 (tags/v3.10.2:a58ebcc, Jan 17 2022, 14:12:15) [MSC v.1929 64 bit (AMD64)]"
  },
  "orig_nbformat": 4,
  "vscode": {
   "interpreter": {
    "hash": "afb734500600fd355917ca529030176ea0ca205570884b88f2f6f7d791fd3fbe"
   }
  }
 },
 "nbformat": 4,
 "nbformat_minor": 2
}
