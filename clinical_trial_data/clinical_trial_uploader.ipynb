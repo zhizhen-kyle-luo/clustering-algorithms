{
 "cells": [
  {
   "cell_type": "code",
   "execution_count": 1,
   "metadata": {},
   "outputs": [],
   "source": [
    "import clinical_trial_extractor\n",
    "import sys\n",
    "import os\n",
    "module_path = os.path.abspath(os.path.join('..'))\n",
    "if module_path not in sys.path:\n",
    "    sys.path.append(module_path)\n",
    "import SQLConnect\n",
    "\n",
    "data = clinical_trial_extractor.extract()\n",
    "query = SQLConnect.UnmergedV1"
   ]
  },
  {
   "cell_type": "code",
   "execution_count": 6,
   "metadata": {},
   "outputs": [],
   "source": [
    "# Types of information to be collected\n",
    "# Phase 1 upload\n",
    "bioentity = []\n",
    "org = []\n",
    "people = []\n",
    "work = []\n",
    "# Phase 2 upload\n",
    "people_org = []\n",
    "work_org = []\n",
    "work_people = []\n",
    "keyword = []"
   ]
  },
  {
   "cell_type": "code",
   "execution_count": 7,
   "metadata": {},
   "outputs": [],
   "source": [
    "# People name exception\n",
    "job_title = set()\n",
    "exception_names = ['NADIA NATHALIE HANSEL', 'BALAMURALI AMBATI', 'HYO-SUK LEE', 'RAZELLE KURZROCK', 'SUNG RAE KIM', 'MALCOLM K BRENNER']\n",
    "job_title.update(['md', 'MMath', 'm', 'MMed', 'Ph.D.', 'Phd', 'ph.D.', 'MD,PhD', 'DNs', 'MD，PhD', 'PhD，MD', 'MD PhD', 'MBChB', 'DPhil'])"
   ]
  },
  {
   "cell_type": "code",
   "execution_count": 10,
   "metadata": {},
   "outputs": [],
   "source": [
    "# Get data from extractor\n",
    "for record in data:\n",
    "    bioentity += [\n",
    "        {\n",
    "            'origin_database': 'ClinicalTrials.gov',\n",
    "            'name': entity\n",
    "        }\n",
    "    for entity in record['bio'] if entity]\n",
    "    org += [\n",
    "        {\n",
    "            'origin_database': 'ClinicalTrials.gov',\n",
    "            'name': entity,\n",
    "            'funding': None\n",
    "        }\n",
    "    for entity in (record['aff'] + ([record['name_org'][1]] if record['name_org'] else [])) if entity]\n",
    "    # Splitting the name from the JSON file may leave behind titles like PhD,\n",
    "    # MD PhD, etc. The loop tries to remove these kinds of erroneous names\n",
    "    new_people = record['name'] + ([record['name_org'][0]] if record['name_org'] else [])\n",
    "    valid_name = set()\n",
    "    for name in new_people:\n",
    "        if (name == 'PhD' or name.isupper()) and name not in exception_names:\n",
    "            job_title.add(name)\n",
    "        else:\n",
    "            valid_name.add(name)\n",
    "    people += [\n",
    "        {\n",
    "            'origin_database': 'ClinicalTrials.gov',\n",
    "            'email': None,\n",
    "            'phone': None,\n",
    "            'name': entity,\n",
    "            'first_name': None,\n",
    "            'last_name': None,\n",
    "            'middle_name': None,\n",
    "            'nih_id': None\n",
    "        }\n",
    "    for entity in valid_name if entity]\n",
    "    work.append({\n",
    "        'origin_database': 'ClinicalTrials.gov',\n",
    "        'title': record['title'],\n",
    "        'start_date': record['start_date'],\n",
    "        'end_date': None,\n",
    "        'type': 'Project',\n",
    "        'pmid': None\n",
    "    })\n",
    "    if record['name_org']:\n",
    "        people_org.append(record['name_org'] + (int(record['start_date'].split('-')[0]),))\n",
    "    work_org += [{\n",
    "        'work': (record['title'], record['start_date']),\n",
    "        'org': entity\n",
    "    } for entity in (record['aff'] + ([record['name_org'][1]] if record['name_org'] else [])) if entity]\n",
    "    work_people += [{\n",
    "        'work': (record['title'], record['start_date']),\n",
    "        'people': entity\n",
    "    } for entity in valid_name if entity]\n",
    "    keyword += [{\n",
    "        'work': (record['title'], record['start_date']),\n",
    "        'bio': entity\n",
    "    } for entity in record['bio'] if entity]"
   ]
  },
  {
   "cell_type": "code",
   "execution_count": 21,
   "metadata": {},
   "outputs": [],
   "source": [
    "# Phase 1 upload\n",
    "bioentity_query = [SQLConnect.insert_query_dict('Bioentity', entity) for entity in bioentity]\n",
    "org_query = [SQLConnect.insert_query_dict('Org', entity) for entity in org]\n",
    "people_query = [SQLConnect.insert_query_dict('People', entity) for entity in people]\n",
    "work_query = [SQLConnect.insert_query_dict('Work', entity) for entity in work]\n",
    "phase_1_queries = bioentity_query + org_query + people_query + work_query\n",
    "phase_1_types = ['INSERT' for _ in range(len(phase_1_queries))]\n",
    "# SQLConnect.connect_and_query(phase_1_queries, phase_1_types, \"UnmergedV1\")"
   ]
  },
  {
   "cell_type": "code",
   "execution_count": 33,
   "metadata": {},
   "outputs": [
    {
     "name": "stdout",
     "output_type": "stream",
     "text": [
      "Connection to database established\n",
      "MySQL connection is closed\n"
     ]
    }
   ],
   "source": [
    "# Get id data\n",
    "bioentity_id_req = \"SELECT bio_id, name FROM Bioentity WHERE origin_database='ClinicalTrials.gov';\"\n",
    "org_id_req = \"SELECT org_id, name FROM Org WHERE origin_database='ClinicalTrials.gov';\"\n",
    "people_id_req = \"SELECT people_id, name FROM People WHERE origin_database='ClinicalTrials.gov';\"\n",
    "work_id_req = \"SELECT work_id, title, start_date FROM Work WHERE origin_database='ClinicalTrials.gov' AND type = 'Project';\"\n",
    "id_req = [bioentity_id_req, org_id_req, people_id_req, work_id_req]\n",
    "response = SQLConnect.connect_and_query(id_req, ['SELECT' for _ in range(4)], 'UnmergedV1')"
   ]
  },
  {
   "cell_type": "code",
   "execution_count": 36,
   "metadata": {},
   "outputs": [],
   "source": [
    "# Make dictionary mapping data to id\n",
    "bioentity_id_dict = {}\n",
    "org_id_dict = {}\n",
    "people_id_dict = {}\n",
    "work_id_dict = {}\n",
    "for record in response[0]:\n",
    "    bioentity_id_dict[record[1]] = record[0]\n",
    "for record in response[1]:\n",
    "    org_id_dict[record[1]] = record[0]\n",
    "for record in response[2]:\n",
    "    people_id_dict[record[1]] = record[0]\n",
    "for record in response[3]:\n",
    "    date = str(record[2].year) + '-'\n",
    "    if record[2].month < 10:\n",
    "        date += '0'\n",
    "    date += str(record[2].month) + '-'\n",
    "    if record[2].day < 10:\n",
    "        date += '0'\n",
    "    date += str(record[2].day)\n",
    "    work_id_dict[(record[1], date)] = record[0]"
   ]
  },
  {
   "cell_type": "code",
   "execution_count": 37,
   "metadata": {},
   "outputs": [],
   "source": [
    "# Entries for queries in phase 2\n",
    "people_org_id = []\n",
    "people_org_exceptions = set()                                           # Failure Cases\n",
    "for record in people_org:\n",
    "    if record[0] in people_id_dict and record[1] in org_id_dict:\n",
    "        people_org_id.append({\n",
    "            'people_id': people_id_dict[record[0]],\n",
    "            'org_id': org_id_dict[record[1]],\n",
    "            'year': record[2]\n",
    "        })\n",
    "    else:\n",
    "        people_org_exceptions.add(record)\n"
   ]
  },
  {
   "cell_type": "code",
   "execution_count": 38,
   "metadata": {},
   "outputs": [],
   "source": [
    "work_org_id = []\n",
    "work_org_exception = []\n",
    "for record in work_org:\n",
    "    if record['work'] in work_id_dict and record['org'] in org_id_dict:\n",
    "        work_org_id.append({\n",
    "            'work_id': work_id_dict[record['work']],\n",
    "            'org_id': org_id_dict[record['org']]\n",
    "        })\n",
    "    else:\n",
    "        work_org_exception.append(record)"
   ]
  },
  {
   "cell_type": "code",
   "execution_count": 42,
   "metadata": {},
   "outputs": [],
   "source": [
    "work_people_id = []\n",
    "work_people_exception = []\n",
    "for record in work_people:\n",
    "    if record['work'] in work_id_dict and record['people'] in people_id_dict:\n",
    "        work_people_id.append({\n",
    "            'work_id': work_id_dict[record['work']],\n",
    "            'people_id': people_id_dict[record['people']]\n",
    "        })\n",
    "    else:\n",
    "        work_people_exception.append(record)"
   ]
  },
  {
   "cell_type": "code",
   "execution_count": 46,
   "metadata": {},
   "outputs": [],
   "source": [
    "keyword_id = []\n",
    "keyword_exception = []\n",
    "for record in keyword:\n",
    "    if record['work'] in work_id_dict and record['bio'] in bioentity_id_dict:\n",
    "        keyword_id.append({\n",
    "            'work_id': work_id_dict[record['work']],\n",
    "            'bio_id': bioentity_id_dict[record['bio']]\n",
    "        })\n",
    "    else:\n",
    "        keyword_exception.append(record)"
   ]
  },
  {
   "cell_type": "code",
   "execution_count": 50,
   "metadata": {},
   "outputs": [],
   "source": [
    "# Make queries for phase 2\n",
    "people_org_queries = [SQLConnect.insert_query_dict('PeopleOrg', record) for record in people_org_id]\n",
    "work_org_queries = [SQLConnect.insert_query_dict('WorkOrg', record) for record in work_org_id]\n",
    "work_people_queries = [SQLConnect.insert_query_dict('WorkPeople', record) for record in work_people_id]\n",
    "keyword_queries = [SQLConnect.insert_query_dict('Keyword', record) for record in keyword_id]\n",
    "phase_2_queries = people_org_queries + work_org_queries + work_people_queries + keyword_queries\n",
    "phase_2_types = ['INSERT' for _ in range(len(phase_2_queries))]\n",
    "# SQLConnect.connect_and_query(phase_2_queries, phase_2_types, 'UnmergedV1')"
   ]
  }
 ],
 "metadata": {
  "kernelspec": {
   "display_name": "Python 3",
   "language": "python",
   "name": "python3"
  },
  "language_info": {
   "codemirror_mode": {
    "name": "ipython",
    "version": 3
   },
   "file_extension": ".py",
   "mimetype": "text/x-python",
   "name": "python",
   "nbconvert_exporter": "python",
   "pygments_lexer": "ipython3",
   "version": "3.10.2"
  },
  "orig_nbformat": 4,
  "vscode": {
   "interpreter": {
    "hash": "afb734500600fd355917ca529030176ea0ca205570884b88f2f6f7d791fd3fbe"
   }
  }
 },
 "nbformat": 4,
 "nbformat_minor": 2
}
