{
 "cells": [
  {
   "cell_type": "code",
   "execution_count": null,
   "id": "506155ea",
   "metadata": {},
   "outputs": [],
   "source": [
    "#Use this link to understnd API calls and the steps below\n",
    "#https://docs.dimensions.ai/dsl/getting-started.html"
   ]
  },
  {
   "cell_type": "code",
   "execution_count": 2,
   "id": "2bf121de",
   "metadata": {},
   "outputs": [],
   "source": [
    "from tqdm.notebook import tqdm as progress\n",
    "import pandas as pd\n",
    "import plotly.express as px\n",
    "from plotly.offline import plot\n",
    "import dimcli\n",
    "from dimcli.utils import *\n",
    "import os, sys, time, json\n",
    "from IPython.display import Image\n",
    "from IPython.core.display import HTML "
   ]
  },
  {
   "cell_type": "code",
   "execution_count": 3,
   "id": "ef98e769",
   "metadata": {},
   "outputs": [
    {
     "name": "stdout",
     "output_type": "stream",
     "text": [
      "==\n",
      "Logging in..\n",
      "\u001b[2mDimcli - Dimensions API Client (v1.1)\u001b[0m\n",
      "\u001b[2mConnected to: <https://app.dimensions.ai/api/dsl> - DSL v2.7\u001b[0m\n",
      "\u001b[2mMethod: manual login\u001b[0m\n"
     ]
    }
   ],
   "source": [
    "#Log into Dimensions\n",
    "#API key is: 9F8D648F0D7E437CB1736BEBDF007F02\n",
    "#!pip install dimcli -U --quiet \n",
    "\n",
    "print(\"==\\nLogging in..\")\n",
    "# https://digital-science.github.io/dimcli/getting-started.html#authentication\n",
    "ENDPOINT = \"https://app.dimensions.ai\"\n",
    "if 'google.colab' in sys.modules:\n",
    "    import getpass\n",
    "    KEY = getpass.getpass(prompt='API Key: ')  \n",
    "    dimcli.login(key=KEY, endpoint=ENDPOINT)\n",
    "else:\n",
    "    KEY = \"9F8D648F0D7E437CB1736BEBDF007F02\"\n",
    "    dimcli.login(key=KEY, endpoint=ENDPOINT)\n",
    "dsl = dimcli.Dsl()"
   ]
  },
  {
   "cell_type": "code",
   "execution_count": 30,
   "id": "e77d2aef",
   "metadata": {},
   "outputs": [],
   "source": [
    "names = [\n",
    "    \"Michael Agus\",\n",
    "    \"Dorothy Bainton\",\n",
    "    \"Charles Balch\",\n",
    "    \"Jeffrey Balser\",\n",
    "    \"Kevin Catt\",\n",
    "    \"Henry Chambers\",\n",
    "    \"Richard Clark\",\n",
    "    \"Stephanie Eisenbarth\",\n",
    "    \"Peng Ji\", \n",
    "    \"Peter Fecci\", \n",
    "    \"Tippi Mackenzie\", \n",
    "    \"Purna Kashyap\"\n",
    "]"
   ]
  },
  {
   "cell_type": "code",
   "execution_count": 16,
   "id": "af3fd073",
   "metadata": {},
   "outputs": [
    {
     "name": "stderr",
     "output_type": "stream",
     "text": [
      "Starting iteration with limit=1000 skip=0 ...\u001b[0m\n",
      "0-58 / 58 (0.95s)\u001b[0m\n",
      "===\n",
      "Records extracted: 58\u001b[0m\n",
      "Starting iteration with limit=1000 skip=0 ...\u001b[0m\n"
     ]
    },
    {
     "name": "stdout",
     "output_type": "stream",
     "text": [
      "Here are all the ids for Charles Balch: \n",
      "[\"ur.07702743621.42\", \"ur.0765122623.54\", \"ur.07627375053.67\", \"ur.0726615536.45\", \"ur.072625614.99\", \"ur.072502766.03\", \"ur.066617566.80\", \"ur.0657144310.29\", \"ur.0647455641.12\", \"ur.0623024275.39\", \"ur.016614775072.65\", \"ur.016537413672.61\", \"ur.016502357006.97\", \"ur.016453351545.49\", \"ur.016444450513.00\", \"ur.016077077076.94\", \"ur.016042325224.69\", \"ur.015416215440.03\", \"ur.015404021625.15\", \"ur.015365122232.53\", \"ur.015275637173.10\", \"ur.014643304546.52\", \"ur.014516353037.17\", \"ur.014436235307.54\", \"ur.014341562367.11\", \"ur.014306751412.78\", \"ur.013603073224.19\", \"ur.01357722116.76\", \"ur.01355544706.81\", \"ur.01343554730.25\", \"ur.01341665345.10\", \"ur.01337060205.02\", \"ur.01335163471.44\", \"ur.01333564455.68\", \"ur.01314577014.49\", \"ur.01313017405.44\", \"ur.013126150216.26\", \"ur.013033144331.95\", \"ur.013024323730.08\", \"ur.012774637025.41\", \"ur.01273610367.58\", \"ur.01271700337.71\", \"ur.012627700214.51\", \"ur.01246272657.45\", \"ur.01243520216.75\", \"ur.01231746675.50\", \"ur.01227264605.01\", \"ur.012233656026.29\", \"ur.012217650515.18\", \"ur.012032610232.51\", \"ur.011377306352.79\", \"ur.01130465352.85\", \"ur.01107732015.74\", \"ur.01053163657.27\", \"ur.01041234263.33\", \"ur.01025151201.14\", \"ur.01017551157.80\", \"ur.01013220042.13\"]\n"
     ]
    },
    {
     "name": "stderr",
     "output_type": "stream",
     "text": [
      "0-58 / 58 (1.01s)\u001b[0m\n",
      "===\n",
      "Records extracted: 58\u001b[0m\n",
      "Starting iteration with limit=1000 skip=0 ...\u001b[0m\n"
     ]
    },
    {
     "name": "stdout",
     "output_type": "stream",
     "text": [
      "Current Working Id(s): \n",
      "ur.0726615536.45\n",
      "Current Working Id(s): \n",
      "ur.01243520216.75\n",
      "Current Working Id(s): \n",
      "ur.01227264605.01\n",
      "Current Working Id(s): \n",
      "ur.01013220042.13\n",
      "++++++++There are 4 Working IDs+++++++++++\n"
     ]
    },
    {
     "name": "stderr",
     "output_type": "stream",
     "text": [
      "===\n",
      "Records extracted: 0\u001b[0m\n"
     ]
    },
    {
     "name": "stdout",
     "output_type": "stream",
     "text": [
      "<dimcli.DslDataset object #2892151274992. Records: 0/0>\n"
     ]
    },
    {
     "ename": "UnboundLocalError",
     "evalue": "local variable 'count' referenced before assignment",
     "output_type": "error",
     "traceback": [
      "\u001b[1;31m---------------------------------------------------------------------------\u001b[0m",
      "\u001b[1;31mUnboundLocalError\u001b[0m                         Traceback (most recent call last)",
      "\u001b[1;32m~\\AppData\\Local\\Temp\\ipykernel_22344\\3617798179.py\u001b[0m in \u001b[0;36m<module>\u001b[1;34m\u001b[0m\n\u001b[0;32m     52\u001b[0m     \u001b[1;32mreturn\u001b[0m \u001b[1;33m(\u001b[0m\u001b[0mfinalSet\u001b[0m\u001b[1;33m)\u001b[0m\u001b[1;33m\u001b[0m\u001b[1;33m\u001b[0m\u001b[0m\n\u001b[0;32m     53\u001b[0m \u001b[1;33m\u001b[0m\u001b[0m\n\u001b[1;32m---> 54\u001b[1;33m \u001b[0mdimensionsPatentSearch\u001b[0m\u001b[1;33m(\u001b[0m\u001b[1;34m\"Charles Balch\"\u001b[0m\u001b[1;33m)\u001b[0m\u001b[1;33m\u001b[0m\u001b[1;33m\u001b[0m\u001b[0m\n\u001b[0m",
      "\u001b[1;32m~\\AppData\\Local\\Temp\\ipykernel_22344\\3617798179.py\u001b[0m in \u001b[0;36mdimensionsPatentSearch\u001b[1;34m(name)\u001b[0m\n\u001b[0;32m     47\u001b[0m \u001b[1;31m#                 count += 1\u001b[0m\u001b[1;33m\u001b[0m\u001b[1;33m\u001b[0m\u001b[0m\n\u001b[0;32m     48\u001b[0m \u001b[1;33m\u001b[0m\u001b[0m\n\u001b[1;32m---> 49\u001b[1;33m     \u001b[0mprint\u001b[0m\u001b[1;33m(\u001b[0m\u001b[1;34mf'There are {count} number of duplicated patents removed'\u001b[0m\u001b[1;33m)\u001b[0m\u001b[1;33m\u001b[0m\u001b[1;33m\u001b[0m\u001b[0m\n\u001b[0m\u001b[0;32m     50\u001b[0m     \u001b[0mprint\u001b[0m\u001b[1;33m(\u001b[0m\u001b[1;34mf'Final set has {len(finalSet)} number of patents'\u001b[0m\u001b[1;33m)\u001b[0m\u001b[1;33m\u001b[0m\u001b[1;33m\u001b[0m\u001b[0m\n\u001b[0;32m     51\u001b[0m     \u001b[0mprint\u001b[0m\u001b[1;33m(\u001b[0m\u001b[1;33m)\u001b[0m\u001b[1;33m\u001b[0m\u001b[1;33m\u001b[0m\u001b[0m\n",
      "\u001b[1;31mUnboundLocalError\u001b[0m: local variable 'count' referenced before assignment"
     ]
    }
   ],
   "source": [
    "def dimensionsPatentSearch(name):\n",
    "    res = dsl.query_iterative(f\"\"\"search researchers for \"{name}\" return researchers\"\"\")\n",
    "    # print(res.json) #list of dictionaries\n",
    "    listDict = res.json['researchers']\n",
    "    allIds = []\n",
    "    for idv in listDict:\n",
    "        allIds.append(idv['id'])\n",
    "    allIds = [f'\"{item}\"' for item in allIds]\n",
    "    allIds = '[' + ', '.join(allIds) + ']'\n",
    "    print(f'Here are all the ids for {name}: ')\n",
    "    print(allIds)\n",
    "    \n",
    "    res2 = dsl.query_iterative(f\"\"\"search researchers where id in {allIds} return researchers[id+obsolete]\"\"\")\n",
    "    listDict2 = res2.json['researchers']\n",
    "    allWorkingIDs = []\n",
    "    for person in listDict2:\n",
    "        if person['obsolete'] == 0:\n",
    "            print(f'Current Working Id(s): ')\n",
    "            print(person['id'])\n",
    "            workingid = person['id']\n",
    "            allWorkingIDs.append(person['id'])\n",
    "    print(f'++++++++There are {len(allWorkingIDs)} Working IDs+++++++++++')        \n",
    "    if len(allWorkingIDs) == 1:\n",
    "        res3 = dsl.query_iterative(f\"\"\"search patents where researchers = \"{workingid}\" return patents\"\"\")\n",
    "        listDict3 = res3.json['patents']\n",
    "        count = 0\n",
    "        finalSet = set()\n",
    "        lowerSet = set()\n",
    "        for l in listDict3:\n",
    "            if l['title'].lower() not in lowerSet:\n",
    "                finalSet.add(l['title'])\n",
    "                lowerSet.add(l['title'].lower())\n",
    "            else:\n",
    "                count += 1\n",
    "    else:\n",
    "        res3 = dsl.query_iterative(f\"\"\"search patents in inventors for \"{name}\" return patents\"\"\")\n",
    "        print(res3)\n",
    "#         listDict3 = res3.json['patents']\n",
    "#         count = 0\n",
    "#         finalSet = set()\n",
    "#         lowerSet = set()\n",
    "#         for l in listDict3:\n",
    "#             if l['title'].lower() not in lowerSet:\n",
    "#                 finalSet.add(l['title'])\n",
    "#                 lowerSet.add(l['title'].lower())\n",
    "#             else:\n",
    "#                 count += 1\n",
    "    \n",
    "    print(f'There are {count} number of duplicated patents removed')\n",
    "    print(f'Final set has {len(finalSet)} number of patents')\n",
    "    print()\n",
    "    return (finalSet)\n",
    "\n",
    "dimensionsPatentSearch(\"Charles Balch\")"
   ]
  },
  {
   "cell_type": "code",
   "execution_count": 84,
   "id": "a7414a2b",
   "metadata": {},
   "outputs": [
    {
     "name": "stderr",
     "output_type": "stream",
     "text": [
      "Starting iteration with limit=1000 skip=0 ...\u001b[0m\n",
      "0-58 / 58 (1.31s)\u001b[0m\n",
      "===\n",
      "Records extracted: 58\u001b[0m\n",
      "Starting iteration with limit=1000 skip=0 ...\u001b[0m\n"
     ]
    },
    {
     "name": "stdout",
     "output_type": "stream",
     "text": [
      "Here are all the ids for Charles Balch: \n",
      "[\"ur.07702743621.42\", \"ur.0765122623.54\", \"ur.07627375053.67\", \"ur.0726615536.45\", \"ur.072625614.99\", \"ur.072502766.03\", \"ur.066617566.80\", \"ur.0657144310.29\", \"ur.0647455641.12\", \"ur.0623024275.39\", \"ur.016614775072.65\", \"ur.016537413672.61\", \"ur.016502357006.97\", \"ur.016453351545.49\", \"ur.016444450513.00\", \"ur.016077077076.94\", \"ur.016042325224.69\", \"ur.015416215440.03\", \"ur.015404021625.15\", \"ur.015365122232.53\", \"ur.015275637173.10\", \"ur.014643304546.52\", \"ur.014516353037.17\", \"ur.014436235307.54\", \"ur.014341562367.11\", \"ur.014306751412.78\", \"ur.013603073224.19\", \"ur.01357722116.76\", \"ur.01355544706.81\", \"ur.01343554730.25\", \"ur.01341665345.10\", \"ur.01337060205.02\", \"ur.01335163471.44\", \"ur.01333564455.68\", \"ur.01314577014.49\", \"ur.01313017405.44\", \"ur.013126150216.26\", \"ur.013033144331.95\", \"ur.013024323730.08\", \"ur.012774637025.41\", \"ur.01273610367.58\", \"ur.01271700337.71\", \"ur.012627700214.51\", \"ur.01246272657.45\", \"ur.01243520216.75\", \"ur.01231746675.50\", \"ur.01227264605.01\", \"ur.012233656026.29\", \"ur.012217650515.18\", \"ur.012032610232.51\", \"ur.011377306352.79\", \"ur.01130465352.85\", \"ur.01107732015.74\", \"ur.01053163657.27\", \"ur.01041234263.33\", \"ur.01025151201.14\", \"ur.01017551157.80\", \"ur.01013220042.13\"]\n"
     ]
    },
    {
     "name": "stderr",
     "output_type": "stream",
     "text": [
      "0-58 / 58 (0.61s)\u001b[0m\n",
      "===\n",
      "Records extracted: 58\u001b[0m\n",
      "Starting iteration with limit=1000 skip=0 ...\u001b[0m\n"
     ]
    },
    {
     "name": "stdout",
     "output_type": "stream",
     "text": [
      "Current Working Id(s): \n",
      "ur.0726615536.45\n",
      "Current Working Id(s): \n",
      "ur.01243520216.75\n",
      "Current Working Id(s): \n",
      "ur.01227264605.01\n",
      "Current Working Id(s): \n",
      "ur.01013220042.13\n",
      "++++++++There are 4 Working IDs+++++++++++\n"
     ]
    },
    {
     "name": "stderr",
     "output_type": "stream",
     "text": [
      "===\n",
      "Records extracted: 0\u001b[0m\n",
      "Starting iteration with limit=1000 skip=0 ...\u001b[0m\n",
      "===\n",
      "Records extracted: 0\u001b[0m\n",
      "Starting iteration with limit=1000 skip=0 ...\u001b[0m\n",
      "===\n",
      "Records extracted: 0\u001b[0m\n",
      "Starting iteration with limit=1000 skip=0 ...\u001b[0m\n",
      "===\n",
      "Records extracted: 0\u001b[0m\n"
     ]
    },
    {
     "name": "stdout",
     "output_type": "stream",
     "text": [
      "There are 0 number of duplicated patents removed\n",
      "Final set has 0 number of patents\n",
      "\n"
     ]
    },
    {
     "data": {
      "text/plain": [
       "set()"
      ]
     },
     "execution_count": 84,
     "metadata": {},
     "output_type": "execute_result"
    }
   ],
   "source": [
    "def dimensionsPatentSearch(name):\n",
    "    res = dsl.query_iterative(f\"\"\"search researchers for \"{name}\" return researchers\"\"\")\n",
    "    # print(res.json) #list of dictionaries\n",
    "    listDict = res.json['researchers']\n",
    "    allIds = []\n",
    "    for idv in listDict:\n",
    "        allIds.append(idv['id'])\n",
    "    allIds = [f'\"{item}\"' for item in allIds]\n",
    "    allIds = '[' + ', '.join(allIds) + ']'\n",
    "    print(f'Here are all the ids for {name}: ')\n",
    "    print(allIds)\n",
    "    \n",
    "    res2 = dsl.query_iterative(f\"\"\"search researchers where id in {allIds} return researchers[id+obsolete]\"\"\")\n",
    "    listDict2 = res2.json['researchers']\n",
    "    allWorkingIDs = []\n",
    "    for person in listDict2:\n",
    "        if person['obsolete'] == 0:\n",
    "            print(f'Current Working Id(s): ')\n",
    "            print(person['id'])\n",
    "            workingid = person['id']\n",
    "            allWorkingIDs.append(person['id'])\n",
    "    print(f'++++++++There are {len(allWorkingIDs)} Working IDs+++++++++++')        \n",
    "    for idsTrue in allWorkingIDs:\n",
    "        res3 = dsl.query_iterative(f\"\"\"search patents where researchers = \"{idsTrue}\" return patents\"\"\")\n",
    "        listDict3 = res3.json['patents']\n",
    "        count = 0\n",
    "        finalSet = set()\n",
    "        lowerSet = set()\n",
    "        for l in listDict3:\n",
    "            if l['title'].lower() not in lowerSet:\n",
    "                finalSet.add(l['title'])\n",
    "                lowerSet.add(l['title'].lower())\n",
    "            else:\n",
    "                count += 1\n",
    "    \n",
    "        \n",
    "    print(f'There are {count} number of duplicated patents removed')\n",
    "    print(f'Final set has {len(finalSet)} number of patents')\n",
    "    print()\n",
    "    return (finalSet)\n",
    "\n",
    "dimensionsPatentSearch(\"Charles Balch\")"
   ]
  },
  {
   "cell_type": "code",
   "execution_count": 62,
   "id": "0ef0a529",
   "metadata": {},
   "outputs": [
    {
     "name": "stdout",
     "output_type": "stream",
     "text": [
      "Returned Patents: 1 (total = 1)\n",
      "\u001b[2mTime: 0.78s\u001b[0m\n"
     ]
    },
    {
     "data": {
      "text/html": [
       "<div>\n",
       "<style scoped>\n",
       "    .dataframe tbody tr th:only-of-type {\n",
       "        vertical-align: middle;\n",
       "    }\n",
       "\n",
       "    .dataframe tbody tr th {\n",
       "        vertical-align: top;\n",
       "    }\n",
       "\n",
       "    .dataframe thead th {\n",
       "        text-align: right;\n",
       "    }\n",
       "</style>\n",
       "<table border=\"1\" class=\"dataframe\">\n",
       "  <thead>\n",
       "    <tr style=\"text-align: right;\">\n",
       "      <th></th>\n",
       "      <th>id</th>\n",
       "      <th>title</th>\n",
       "      <th>assignee_names</th>\n",
       "      <th>assignees</th>\n",
       "      <th>filing_status</th>\n",
       "      <th>granted_year</th>\n",
       "      <th>inventor_names</th>\n",
       "      <th>publication_date</th>\n",
       "      <th>times_cited</th>\n",
       "      <th>year</th>\n",
       "    </tr>\n",
       "  </thead>\n",
       "  <tbody>\n",
       "    <tr>\n",
       "      <th>0</th>\n",
       "      <td>US-3700609-A</td>\n",
       "      <td>GRAFT COPOLYMERS</td>\n",
       "      <td>[Orica Ltd, ICI Australia Ltd]</td>\n",
       "      <td>[{'city_name': 'East Melbourne', 'country_name...</td>\n",
       "      <td>Grant</td>\n",
       "      <td>1972</td>\n",
       "      <td>[TREGEAR GEOFFREY W, BATTAERD HENDRIK A J, LAN...</td>\n",
       "      <td>1972-10-24</td>\n",
       "      <td>40</td>\n",
       "      <td>1971</td>\n",
       "    </tr>\n",
       "  </tbody>\n",
       "</table>\n",
       "</div>"
      ],
      "text/plain": [
       "             id             title                  assignee_names  \\\n",
       "0  US-3700609-A  GRAFT COPOLYMERS  [Orica Ltd, ICI Australia Ltd]   \n",
       "\n",
       "                                           assignees filing_status  \\\n",
       "0  [{'city_name': 'East Melbourne', 'country_name...         Grant   \n",
       "\n",
       "   granted_year                                     inventor_names  \\\n",
       "0          1972  [TREGEAR GEOFFREY W, BATTAERD HENDRIK A J, LAN...   \n",
       "\n",
       "  publication_date  times_cited  year  \n",
       "0       1972-10-24           40  1971  "
      ]
     },
     "execution_count": 62,
     "metadata": {},
     "output_type": "execute_result"
    }
   ],
   "source": [
    "%%dsldf \n",
    "search patents in inventors for \"Kevin Catt\" return patents"
   ]
  },
  {
   "cell_type": "code",
   "execution_count": null,
   "id": "ba9c7ddd",
   "metadata": {},
   "outputs": [],
   "source": [
    "#Problem names: Charles Balch , Kevin Catt, Henry Chambers, Richard Clark , Peng Ji"
   ]
  }
 ],
 "metadata": {
  "kernelspec": {
   "display_name": "Python 3 (ipykernel)",
   "language": "python",
   "name": "python3"
  },
  "language_info": {
   "codemirror_mode": {
    "name": "ipython",
    "version": 3
   },
   "file_extension": ".py",
   "mimetype": "text/x-python",
   "name": "python",
   "nbconvert_exporter": "python",
   "pygments_lexer": "ipython3",
   "version": "3.9.13"
  }
 },
 "nbformat": 4,
 "nbformat_minor": 5
}
