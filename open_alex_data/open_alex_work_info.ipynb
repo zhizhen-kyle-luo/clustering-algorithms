{
 "cells": [
  {
   "cell_type": "code",
   "execution_count": 41,
   "metadata": {},
   "outputs": [],
   "source": [
    "import requests"
   ]
  },
  {
   "cell_type": "code",
   "execution_count": 42,
   "metadata": {},
   "outputs": [],
   "source": [
    "class work_info:\n",
    "    def __init__(self, wID):\n",
    "        self.ID = wID\n",
    "        self.get_info()\n",
    "        self.make_info_dict()\n",
    "\n",
    "    def get_info(self):\n",
    "        fullquery = \"https://api.openalex.org/works/\" + self.ID\n",
    "        response = requests.get(fullquery)\n",
    "        response.raise_for_status()  # raises exception when not a 2xx response\n",
    "        if response.status_code != 204:\n",
    "            self.data = response.json()\n",
    "    \n",
    "    def get_type(self):\n",
    "        return self.data[\"type\"]\n",
    "\n",
    "    def get_cited_by(self):\n",
    "        response = requests.get(self.data[\"cited_by_api_url\"])\n",
    "        response.raise_for_status()\n",
    "        if response.status_code != 204:\n",
    "            cited_by = response.json()\n",
    "            cited_by_list = []\n",
    "            for i in cited_by[\"results\"]:\n",
    "                id = i[\"id\"].replace(\"https://openalex.org/\", \"\")\n",
    "                cited_by_list.append(id)\n",
    "            return cited_by_list\n",
    "    \n",
    "    def get_grants_and_funders(self):\n",
    "        dict = {\"grants\": [], \"funders\": []}\n",
    "        self.grants = []\n",
    "        self.funders = []\n",
    "        for i in self.data[\"grants\"]:\n",
    "            dict[\"funders\"].append(i[\"funder\"].replace(\"https://openalex.org/\", \"\"))\n",
    "            if i[\"award_id\"] != \"null\":\n",
    "                dict[\"grants\"].append(i[\"award_id\"])\n",
    "        return dict\n",
    "    \n",
    "    def get_references(self):\n",
    "        references = []\n",
    "        for i in self.data[\"referenced_works\"]:\n",
    "            references.append(i.replace(\"https://openalex.org/\", \"\"))\n",
    "        return references\n",
    "        \n",
    "    def make_info_dict(self):\n",
    "        self.type = self.get_type()\n",
    "        self.cited_by = self.get_cited_by()\n",
    "        self.grants = self.get_grants_and_funders()[\"grants\"]\n",
    "        self.funders = self.get_grants_and_funders()[\"funders\"]\n",
    "        self.references = self.get_references()\n",
    "        self.info_dict = {\"id\": self.ID,\n",
    "                          \"type\": self.type, \n",
    "                          \"cited_by\": self.cited_by, \n",
    "                          \"grants\": self.grants,\n",
    "                          \"funders\": self.funders,\n",
    "                          \"references\": self.references \n",
    "                          }\n",
    "\n",
    "            \n",
    "                \n",
    "\n"
   ]
  },
  {
   "cell_type": "code",
   "execution_count": null,
   "metadata": {},
   "outputs": [],
   "source": [
    "def create_map(wID):\n",
    "    ## start with a paper\n",
    "    ## find references and cited by\n",
    "    ## add connections\n",
    "    ## do the same for all of those\n",
    "    ## return graph? dictionary? idk"
   ]
  }
 ],
 "metadata": {
  "kernelspec": {
   "display_name": "base",
   "language": "python",
   "name": "python3"
  },
  "language_info": {
   "codemirror_mode": {
    "name": "ipython",
    "version": 3
   },
   "file_extension": ".py",
   "mimetype": "text/x-python",
   "name": "python",
   "nbconvert_exporter": "python",
   "pygments_lexer": "ipython3",
   "version": "3.9.16"
  },
  "orig_nbformat": 4
 },
 "nbformat": 4,
 "nbformat_minor": 2
}
