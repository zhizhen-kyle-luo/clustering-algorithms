{
 "cells": [
  {
   "cell_type": "code",
   "execution_count": 19,
   "id": "062d6b1e",
   "metadata": {},
   "outputs": [],
   "source": [
    "from ast import Pass\n",
    "from wsgiref import headers\n",
    "import requests\n",
    "import json\n",
    "from time import sleep\n",
    "import hardcoded"
   ]
  },
  {
   "cell_type": "code",
   "execution_count": 20,
   "id": "d9f56f37",
   "metadata": {},
   "outputs": [],
   "source": [
    "base_query_url = 'https://api.patentsview.org/patents/query' \n",
    "\n",
    "api_key = \"rk5gqFtM.bmIQOH22VkBnkQqQKgVgwFkqIIVQ9ENw\"\n",
    "\n",
    "\n",
    "def make_res(q, f=[], s=[], o={}, base_url=base_query_url):\n",
    "    '''making the request to PatentsView API\n",
    "    q: query (ex:  {\"inventor_id\":\"2335918\"})'''\n",
    "\n",
    "    res = requests.post(\n",
    "        base_url,\n",
    "        headers={\n",
    "            'accept': 'application/json',\n",
    "            'X-Api-Key': api_key\n",
    "        },\n",
    "        json={\n",
    "            \"q\": q,\n",
    "            \"f\": f,\n",
    "            \"s\": s,\n",
    "            \"o\": o\n",
    "        }\n",
    "    )\n",
    "    return res"
   ]
  },
  {
   "cell_type": "code",
   "execution_count": 21,
   "id": "6725487f",
   "metadata": {},
   "outputs": [],
   "source": [
    "def make_query(firstname, lastname, f=hardcoded.inventor_and_patent_parameters, is_print=False, base_url=base_query_url):\n",
    "    '''\n",
    "    default to these when pass through make_res\n",
    "    f: what to include in the result (default: [\"inventor_id\", \"name_first\", \"name_last\"])\n",
    "    s: formating the result (default: {\"inventor_id\":\"asc\"})\n",
    "    o: size and offset (default: {\"size\": 100, \"offset\": 0}\n",
    "    '''\n",
    "    q = {\"_and\": [{\"inventor_last_name\": lastname}, {\"inventor_first_name\": firstname}]} #\"name_last\" \"name_First\"\n",
    "    o = {\"matched_subentities_only\":True}\n",
    "    res = make_res(q, f, o, base_url=base_url) #executing code 400\n",
    "    return res.json()"
   ]
  },
  {
   "cell_type": "code",
   "execution_count": 22,
   "id": "ce8b9800",
   "metadata": {},
   "outputs": [],
   "source": [
    "def findAANames():\n",
    "    authors = []\n",
    "    with open(r\"C:\\Users\\ashle\\Desktop\\Physician-Scientist-UROP\\asci-aap-cleaning-data\\asci_aap_dataJSONUpdated.json\") as fileJson:\n",
    "        data = json.load(fileJson)\n",
    "        allData = data[\"people\"]\n",
    "        print(f'There are {len(allData)} amount of people in ASCI/AAP json file')\n",
    "\n",
    "    for indv in allData:\n",
    "        first = indv[\"first_name\"].lower()\n",
    "        last = indv[\"last_name\"].lower()\n",
    "        name = first+\" \"+last\n",
    "        authors.append(name)\n",
    "    return authors  "
   ]
  },
  {
   "cell_type": "code",
   "execution_count": 25,
   "id": "bb78e484",
   "metadata": {},
   "outputs": [
    {
     "name": "stdout",
     "output_type": "stream",
     "text": [
      "There are 4184 amount of people in ASCI/AAP json file\n"
     ]
    }
   ],
   "source": [
    "def make_list_query():\n",
    "    listofNames = findAANames()\n",
    "    with open('patentViewJSON.json', 'w', encoding=\"utf-8\") as jsonFile:\n",
    "        finished = {}\n",
    "        for i in listofNames:\n",
    "            split = i.split(\" \")\n",
    "            firstName = split[0]\n",
    "            lastName = split[1]\n",
    "            fullName = firstName + \" \"+lastName\n",
    "            results = make_query(firstName,lastName,f=hardcoded.inventor_and_patent_parameters, is_print=True)\n",
    "            finished[fullName] = results['patents']\n",
    "        json.dump(finished,jsonFile, indent=4)\n",
    "make_list_query()"
   ]
  },
  {
   "cell_type": "code",
   "execution_count": 24,
   "id": "431c21ab",
   "metadata": {},
   "outputs": [],
   "source": [
    "#example 1\n",
    "#make_query(\"william\", \"pao\",f=hardcoded.inventor_and_patent_parameters, is_print=True)"
   ]
  }
 ],
 "metadata": {
  "kernelspec": {
   "display_name": "Python 3 (ipykernel)",
   "language": "python",
   "name": "python3"
  },
  "language_info": {
   "codemirror_mode": {
    "name": "ipython",
    "version": 3
   },
   "file_extension": ".py",
   "mimetype": "text/x-python",
   "name": "python",
   "nbconvert_exporter": "python",
   "pygments_lexer": "ipython3",
   "version": "3.9.13"
  }
 },
 "nbformat": 4,
 "nbformat_minor": 5
}
