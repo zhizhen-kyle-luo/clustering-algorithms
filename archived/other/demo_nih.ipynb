{
 "cells": [
  {
   "attachments": {},
   "cell_type": "markdown",
   "metadata": {},
   "source": [
    "Let us take an example of a data from the NIH API. We have a patent with a person with a name Aagaard M. Kjersti and an email aagaardt@bcm.edu along with an NIH ID 8196581. This person's specialty is Obstetrics and Gynecology, and this person has made a patent under the title SYSTEM AND METHODS FOR FUNCTIONAL IMAGING OF THE PLACENTA. In addition, this person is affiliated with Baylor College of Medicine.\n",
    "\n",
    "Just like the OpenAlex data, let us first upload the data for each entity (a person, and organization, a bioentity, and a work) to their own tables."
   ]
  },
  {
   "cell_type": "code",
   "execution_count": 1,
   "metadata": {},
   "outputs": [],
   "source": [
    "import sys\n",
    "import os\n",
    "module_path = os.path.abspath(os.path.join('..'))\n",
    "if module_path not in sys.path:\n",
    "    sys.path.append(module_path)\n",
    "from SQLConnect import connect_and_query\n",
    "from SQLConnect import insert_query_dict"
   ]
  },
  {
   "cell_type": "code",
   "execution_count": 2,
   "metadata": {},
   "outputs": [],
   "source": [
    "person = {\n",
    "    'origin_database': 'NIH Demo',\n",
    "    'email': 'aagaardt@bcm.edu',\n",
    "    'phone': None,\n",
    "    'name': 'Aagaard M. Kjersti',\n",
    "    'first_name': 'Aagaard',\n",
    "    'middle_name': 'M.',\n",
    "    'last_name': 'Kjersti',\n",
    "    'nih_id': 8196581\n",
    "}\n",
    "person_query = [insert_query_dict('People', person)]"
   ]
  },
  {
   "cell_type": "code",
   "execution_count": 3,
   "metadata": {},
   "outputs": [],
   "source": [
    "bio = [\n",
    "    {\n",
    "        'origin_database': 'NIH Demo',\n",
    "        'name': 'Obstetrics',\n",
    "    },\n",
    "    {\n",
    "        'origin_database': 'NIH Demo',\n",
    "        'name': 'Gynecology',\n",
    "    }\n",
    "]\n",
    "bio_query = [insert_query_dict('Bioentity', rec) for rec in bio]"
   ]
  },
  {
   "cell_type": "code",
   "execution_count": 4,
   "metadata": {},
   "outputs": [],
   "source": [
    "org = {\n",
    "    'origin_database': 'NIH Demo',\n",
    "    'name': 'Baylor College of Medicine',\n",
    "    'funding': None\n",
    "}\n",
    "org_query = [insert_query_dict('Org', org)]"
   ]
  },
  {
   "cell_type": "code",
   "execution_count": 5,
   "metadata": {},
   "outputs": [],
   "source": [
    "work = {\n",
    "    'origin_database': 'NIH Demo',\n",
    "    'title': 'SYSTEM AND METHODS FOR FUNCTIONAL IMAGING OF THE PLACENTA',\n",
    "    'start_date': None,\n",
    "    'end_date': None,\n",
    "    'type': 'Patent',\n",
    "    'pmid': None\n",
    "}\n",
    "work_query = [insert_query_dict('Work', work)]"
   ]
  },
  {
   "cell_type": "code",
   "execution_count": 6,
   "metadata": {},
   "outputs": [
    {
     "data": {
      "text/plain": [
       "['INSERT INTO People (origin_database, email, phone, name, first_name, middle_name, last_name, nih_id) VALUES (\"NIH Demo\", \"aagaardt@bcm.edu\", NULL, \"Aagaard M. Kjersti\", \"Aagaard\", \"M.\", \"Kjersti\", 8196581);',\n",
       " 'INSERT INTO Org (origin_database, name, funding) VALUES (\"NIH Demo\", \"Baylor College of Medicine\", NULL);',\n",
       " 'INSERT INTO Bioentity (origin_database, name) VALUES (\"NIH Demo\", \"Obstetrics\");',\n",
       " 'INSERT INTO Bioentity (origin_database, name) VALUES (\"NIH Demo\", \"Gynecology\");',\n",
       " 'INSERT INTO Work (origin_database, title, start_date, end_date, type, pmid) VALUES (\"NIH Demo\", \"SYSTEM AND METHODS FOR FUNCTIONAL IMAGING OF THE PLACENTA\", NULL, NULL, \"Patent\", NULL);']"
      ]
     },
     "execution_count": 6,
     "metadata": {},
     "output_type": "execute_result"
    }
   ],
   "source": [
    "queries = person_query + org_query + bio_query + work_query\n",
    "queries"
   ]
  },
  {
   "cell_type": "code",
   "execution_count": 7,
   "metadata": {},
   "outputs": [
    {
     "name": "stdout",
     "output_type": "stream",
     "text": [
      "Connection to database established\n",
      "MySQL connection is closed\n"
     ]
    },
    {
     "data": {
      "text/plain": [
       "[]"
      ]
     },
     "execution_count": 7,
     "metadata": {},
     "output_type": "execute_result"
    }
   ],
   "source": [
    "connect_and_query(queries, ['INSERT' for _ in queries], 'UnmergedV1')"
   ]
  },
  {
   "attachments": {},
   "cell_type": "markdown",
   "metadata": {},
   "source": [
    "Now, we can go ahead an upload the connectivity data, i.e. that Aagaard is affiliated with Baylor, specializes in Obstetrics and Gynecology, and did that patent. First, we need the IDs of each of these entities"
   ]
  },
  {
   "cell_type": "code",
   "execution_count": 8,
   "metadata": {},
   "outputs": [],
   "source": [
    "get_id_person = 'SELECT people_id, name FROM People WHERE origin_database = \"NIH Demo\"'\n",
    "get_id_bio = 'SELECT bio_id, name FROM Bioentity WHERE origin_database = \"NIH Demo\"'\n",
    "get_id_org = 'SELECT org_id, name FROM Org WHERE origin_database = \"NIH Demo\"'\n",
    "get_id_work = 'SELECT work_id, title FROM Work WHERE origin_database = \"NIH Demo\"'\n",
    "get_id_queries = [get_id_person, get_id_bio, get_id_work, get_id_org]"
   ]
  },
  {
   "cell_type": "code",
   "execution_count": 9,
   "metadata": {},
   "outputs": [
    {
     "name": "stdout",
     "output_type": "stream",
     "text": [
      "Connection to database established\n",
      "MySQL connection is closed\n"
     ]
    },
    {
     "data": {
      "text/plain": [
       "[[(9064, 'Aagaard M. Kjersti')],\n",
       " [(2708, 'Obstetrics'), (2709, 'Gynecology')],\n",
       " [(12587, 'SYSTEM AND METHODS FOR FUNCTIONAL IMAGING OF THE PLACENTA')],\n",
       " [(3139, 'Baylor College of Medicine')]]"
      ]
     },
     "execution_count": 9,
     "metadata": {},
     "output_type": "execute_result"
    }
   ],
   "source": [
    "ids = connect_and_query(get_id_queries, ['SELECT' for _ in range(4)], 'UnmergedV1')\n",
    "ids"
   ]
  },
  {
   "cell_type": "code",
   "execution_count": 10,
   "metadata": {},
   "outputs": [],
   "source": [
    "people_to_id = {}\n",
    "for rec in ids[0]:\n",
    "    people_to_id[rec[1]] = rec[0]"
   ]
  },
  {
   "cell_type": "code",
   "execution_count": 11,
   "metadata": {},
   "outputs": [
    {
     "data": {
      "text/plain": [
       "{'Obstetrics': 2708, 'Gynecology': 2709}"
      ]
     },
     "execution_count": 11,
     "metadata": {},
     "output_type": "execute_result"
    }
   ],
   "source": [
    "bio_to_id = {}\n",
    "for rec in ids[1]:\n",
    "    bio_to_id[rec[1]] = rec[0]\n",
    "bio_to_id"
   ]
  },
  {
   "cell_type": "code",
   "execution_count": 12,
   "metadata": {},
   "outputs": [],
   "source": [
    "work_to_id = {}\n",
    "for rec in ids[2]:\n",
    "    work_to_id[rec[1]] = rec[0]"
   ]
  },
  {
   "cell_type": "code",
   "execution_count": 13,
   "metadata": {},
   "outputs": [],
   "source": [
    "org_to_id = {}\n",
    "for rec in ids[3]:\n",
    "    org_to_id[rec[1]] = rec[0]"
   ]
  },
  {
   "cell_type": "code",
   "execution_count": 14,
   "metadata": {},
   "outputs": [],
   "source": [
    "people_org = {\n",
    "    'people_id': people_to_id['Aagaard M. Kjersti'],\n",
    "    'org_id': org_to_id['Baylor College of Medicine'],\n",
    "    'year': None\n",
    "}\n",
    "\n",
    "people_spec = [\n",
    "    {\n",
    "        'people_id': people_to_id['Aagaard M. Kjersti'],\n",
    "        'bio_id': bio_to_id['Obstetrics']\n",
    "    },\n",
    "    {\n",
    "        'people_id': people_to_id['Aagaard M. Kjersti'],\n",
    "        'bio_id': bio_to_id['Gynecology']\n",
    "    }\n",
    "]\n",
    "\n",
    "work_people = {\n",
    "    'people_id': people_to_id['Aagaard M. Kjersti'],\n",
    "    'work_id': work_to_id['SYSTEM AND METHODS FOR FUNCTIONAL IMAGING OF THE PLACENTA']\n",
    "}"
   ]
  },
  {
   "cell_type": "code",
   "execution_count": 15,
   "metadata": {},
   "outputs": [
    {
     "data": {
      "text/plain": [
       "['INSERT INTO PeopleOrg (people_id, org_id, year) VALUES (9064, 3139, NULL);',\n",
       " 'INSERT INTO PeopleSpec (people_id, bio_id) VALUES (9064, 2708);',\n",
       " 'INSERT INTO PeopleSpec (people_id, bio_id) VALUES (9064, 2709);',\n",
       " 'INSERT INTO WorkPeople (people_id, work_id) VALUES (9064, 12587);']"
      ]
     },
     "execution_count": 15,
     "metadata": {},
     "output_type": "execute_result"
    }
   ],
   "source": [
    "queries = [insert_query_dict('PeopleOrg', people_org)] +\\\n",
    "    [insert_query_dict('PeopleSpec', rec) for rec in people_spec] +\\\n",
    "        [insert_query_dict('WorkPeople', work_people)]\n",
    "queries"
   ]
  },
  {
   "cell_type": "code",
   "execution_count": 16,
   "metadata": {},
   "outputs": [
    {
     "name": "stdout",
     "output_type": "stream",
     "text": [
      "Connection to database established\n",
      "MySQL connection is closed\n"
     ]
    },
    {
     "data": {
      "text/plain": [
       "[]"
      ]
     },
     "execution_count": 16,
     "metadata": {},
     "output_type": "execute_result"
    }
   ],
   "source": [
    "connect_and_query(queries, ['INSERT' for _ in queries], 'UnmergedV1')"
   ]
  }
 ],
 "metadata": {
  "kernelspec": {
   "display_name": "Python 3",
   "language": "python",
   "name": "python3"
  },
  "language_info": {
   "codemirror_mode": {
    "name": "ipython",
    "version": 3
   },
   "file_extension": ".py",
   "mimetype": "text/x-python",
   "name": "python",
   "nbconvert_exporter": "python",
   "pygments_lexer": "ipython3",
   "version": "3.10.2"
  },
  "orig_nbformat": 4,
  "vscode": {
   "interpreter": {
    "hash": "afb734500600fd355917ca529030176ea0ca205570884b88f2f6f7d791fd3fbe"
   }
  }
 },
 "nbformat": 4,
 "nbformat_minor": 2
}
