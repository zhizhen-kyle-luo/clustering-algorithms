{
 "cells": [
  {
   "attachments": {},
   "cell_type": "markdown",
   "metadata": {},
   "source": [
    "Now we should have uploaded all the data that we have mentioned so far. Let us try another example, this time exploring different types of connection data. We have William Pao, who worked on a journal article titled 'EGF receptor gene mutations are common in lung cancers from \"never smokers\" and are associated with sensitivity of tumors to gefitinib and erlotinib' with the organization Memorial Sloan Kettering Cancer Center. This article has a keyword gefitinib and erlotinib, and cited another journal article titled 'An orally active inhibitor of epidermal growth factor signaling with potential for cancer therapy'. This data is from OpenAlex.\n",
    "\n",
    "Again, let us upload each entity first, then we upload the connections."
   ]
  },
  {
   "cell_type": "code",
   "execution_count": 1,
   "metadata": {},
   "outputs": [],
   "source": [
    "import sys\n",
    "import os\n",
    "module_path = os.path.abspath(os.path.join('..'))\n",
    "if module_path not in sys.path:\n",
    "    sys.path.append(module_path)\n",
    "from SQLConnect import connect_and_query\n",
    "from SQLConnect import insert_query_dict"
   ]
  },
  {
   "attachments": {},
   "cell_type": "markdown",
   "metadata": {},
   "source": [
    "To upload an entity, let's say a person, we first make the query. We can use a dictionary mapping column names to the desired values and pass it into the insert_query_dict function from SQLConnect to get the INSERT query easily."
   ]
  },
  {
   "cell_type": "code",
   "execution_count": 2,
   "metadata": {},
   "outputs": [],
   "source": [
    "person = {\n",
    "    'origin_database': 'OpenAlex Demo',\n",
    "    'email': None,\n",
    "    'phone': None,\n",
    "    'name': 'William Pao',\n",
    "    'first_name': 'William',\n",
    "    'middle_name': None,\n",
    "    'last_name': 'Pao',\n",
    "    'nih_id': None\n",
    "}\n",
    "person_query = [insert_query_dict('People', person)]"
   ]
  },
  {
   "attachments": {},
   "cell_type": "markdown",
   "metadata": {},
   "source": [
    "Similarly for bioentities, organizations, and projects and patents"
   ]
  },
  {
   "cell_type": "code",
   "execution_count": 3,
   "metadata": {},
   "outputs": [],
   "source": [
    "bio = {\n",
    "    'origin_database': 'OpenAlex Demo',\n",
    "    'name': 'Gefitinib',\n",
    "}\n",
    "bio_query = [insert_query_dict('Bioentity', bio)]"
   ]
  },
  {
   "cell_type": "code",
   "execution_count": 4,
   "metadata": {},
   "outputs": [],
   "source": [
    "org = {\n",
    "    'origin_database': 'OpenAlex Demo',\n",
    "    'name': 'Memorial Sloan Kettering Cancer Center',\n",
    "    'funding': None\n",
    "}\n",
    "org_query = [insert_query_dict('Org', org)]"
   ]
  },
  {
   "cell_type": "code",
   "execution_count": 5,
   "metadata": {},
   "outputs": [],
   "source": [
    "work = [\n",
    "    {\n",
    "        'origin_database': 'OpenAlex Demo',\n",
    "        'title': 'EGF receptor gene mutations are common in lung cancers from \"never smokers\" and are associated with sensitivity of tumors to gefitinib and erlotinib',\n",
    "        'start_date': '2004-09-07',\n",
    "        'end_date': None,\n",
    "        'type': 'Journal Article',\n",
    "        'pmid': 15329413\n",
    "    },\n",
    "    {\n",
    "        'origin_database': 'OpenAlex Demo',\n",
    "        'title': 'An orally active inhibitor of epidermal growth factor signaling with potential for cancer therapy',\n",
    "        'start_date': None,\n",
    "        'end_date': None,\n",
    "        'type': 'Journal Article',\n",
    "        'pmid': None\n",
    "    }\n",
    "]\n",
    "work_query = [insert_query_dict('Work', rec) for rec in work]"
   ]
  },
  {
   "attachments": {},
   "cell_type": "markdown",
   "metadata": {},
   "source": [
    "The next thing to do is to use these queries to insert data to the database using connect_and_query from SQLConnect"
   ]
  },
  {
   "cell_type": "code",
   "execution_count": 6,
   "metadata": {},
   "outputs": [
    {
     "data": {
      "text/plain": [
       "['INSERT INTO People (origin_database, email, phone, name, first_name, middle_name, last_name, nih_id) VALUES (\"OpenAlex Demo\", NULL, NULL, \"William Pao\", \"William\", NULL, \"Pao\", NULL);',\n",
       " 'INSERT INTO Org (origin_database, name, funding) VALUES (\"OpenAlex Demo\", \"Memorial Sloan Kettering Cancer Center\", NULL);',\n",
       " 'INSERT INTO Bioentity (origin_database, name) VALUES (\"OpenAlex Demo\", \"Gefitinib\");',\n",
       " 'INSERT INTO Work (origin_database, title, start_date, end_date, type, pmid) VALUES (\"OpenAlex Demo\", \\'EGF receptor gene mutations are common in lung cancers from \"never smokers\" and are associated with sensitivity of tumors to gefitinib and erlotinib\\', \"2004-09-07\", NULL, \"Journal Article\", 15329413);',\n",
       " 'INSERT INTO Work (origin_database, title, start_date, end_date, type, pmid) VALUES (\"OpenAlex Demo\", \"An orally active inhibitor of epidermal growth factor signaling with potential for cancer therapy\", NULL, NULL, \"Journal Article\", NULL);']"
      ]
     },
     "execution_count": 6,
     "metadata": {},
     "output_type": "execute_result"
    }
   ],
   "source": [
    "queries = person_query + org_query + bio_query + work_query\n",
    "queries"
   ]
  },
  {
   "cell_type": "code",
   "execution_count": 7,
   "metadata": {},
   "outputs": [
    {
     "name": "stdout",
     "output_type": "stream",
     "text": [
      "Connection to database established\n",
      "MySQL connection is closed\n"
     ]
    },
    {
     "data": {
      "text/plain": [
       "[]"
      ]
     },
     "execution_count": 7,
     "metadata": {},
     "output_type": "execute_result"
    }
   ],
   "source": [
    "connect_and_query(queries, ['INSERT' for _ in queries], 'UnmergedV1')"
   ]
  },
  {
   "attachments": {},
   "cell_type": "markdown",
   "metadata": {},
   "source": [
    "Once finished, the data will have their own id in their respective tables. Now we need to upload the connection between these entities, which are represented using ids in the database tables. Therefore, we need to determine these new ids first by querying to the database."
   ]
  },
  {
   "cell_type": "code",
   "execution_count": 8,
   "metadata": {},
   "outputs": [],
   "source": [
    "get_id_person = 'SELECT people_id, name FROM People WHERE origin_database = \"OpenAlex Demo\"'\n",
    "get_id_bio = 'SELECT bio_id, name FROM Bioentity WHERE origin_database = \"OpenAlex Demo\"'\n",
    "get_id_org = 'SELECT org_id, name FROM Org WHERE origin_database = \"OpenAlex Demo\"'\n",
    "get_id_work = 'SELECT work_id, title FROM Work WHERE origin_database = \"OpenAlex Demo\"'\n",
    "get_id_queries = [get_id_person, get_id_bio, get_id_work, get_id_org]"
   ]
  },
  {
   "cell_type": "code",
   "execution_count": 9,
   "metadata": {},
   "outputs": [
    {
     "name": "stdout",
     "output_type": "stream",
     "text": [
      "Connection to database established\n",
      "MySQL connection is closed\n"
     ]
    },
    {
     "data": {
      "text/plain": [
       "[[(9065, 'William Pao')],\n",
       " [(2710, 'Gefitinib')],\n",
       " [(12588,\n",
       "   'EGF receptor gene mutations are common in lung cancers from \"never smokers\" and are associated with sensitivity of tumors to gefitinib and erlotinib'),\n",
       "  (12589,\n",
       "   'An orally active inhibitor of epidermal growth factor signaling with potential for cancer therapy')],\n",
       " [(3140, 'Memorial Sloan Kettering Cancer Center')]]"
      ]
     },
     "execution_count": 9,
     "metadata": {},
     "output_type": "execute_result"
    }
   ],
   "source": [
    "ids = connect_and_query(get_id_queries, ['SELECT' for _ in range(4)], 'UnmergedV1')\n",
    "ids"
   ]
  },
  {
   "attachments": {},
   "cell_type": "markdown",
   "metadata": {},
   "source": [
    "Once finished, it is typically useful to put the id information in a form of dictionaries mapping data to ids."
   ]
  },
  {
   "cell_type": "code",
   "execution_count": 10,
   "metadata": {},
   "outputs": [],
   "source": [
    "people_to_id = {}\n",
    "for rec in ids[0]:\n",
    "    people_to_id[rec[1]] = rec[0]"
   ]
  },
  {
   "cell_type": "code",
   "execution_count": 11,
   "metadata": {},
   "outputs": [],
   "source": [
    "bio_to_id = {}\n",
    "for rec in ids[1]:\n",
    "    bio_to_id[rec[1]] = rec[0]"
   ]
  },
  {
   "cell_type": "code",
   "execution_count": 12,
   "metadata": {},
   "outputs": [
    {
     "data": {
      "text/plain": [
       "{'EGF receptor gene mutations are common in lung cancers from \"never smokers\" and are associated with sensitivity of tumors to gefitinib and erlotinib': 12588,\n",
       " 'An orally active inhibitor of epidermal growth factor signaling with potential for cancer therapy': 12589}"
      ]
     },
     "execution_count": 12,
     "metadata": {},
     "output_type": "execute_result"
    }
   ],
   "source": [
    "work_to_id = {}\n",
    "for rec in ids[2]:\n",
    "    work_to_id[rec[1]] = rec[0]\n",
    "work_to_id"
   ]
  },
  {
   "cell_type": "code",
   "execution_count": 13,
   "metadata": {},
   "outputs": [],
   "source": [
    "org_to_id = {}\n",
    "for rec in ids[3]:\n",
    "    org_to_id[rec[1]] = rec[0]"
   ]
  },
  {
   "attachments": {},
   "cell_type": "markdown",
   "metadata": {},
   "source": [
    "Finally, we repeat similar procedures as before for the information on connections."
   ]
  },
  {
   "cell_type": "code",
   "execution_count": 14,
   "metadata": {},
   "outputs": [],
   "source": [
    "people_org = {\n",
    "    'people_id': people_to_id['William Pao'],\n",
    "    'org_id': org_to_id['Memorial Sloan Kettering Cancer Center'],\n",
    "    'year': None\n",
    "}\n",
    "\n",
    "work_people = {\n",
    "    'people_id': people_to_id['William Pao'],\n",
    "    'work_id': work_to_id['EGF receptor gene mutations are common in lung cancers from \"never smokers\" and are associated with sensitivity of tumors to gefitinib and erlotinib']\n",
    "}\n",
    "\n",
    "work_org = {\n",
    "    'work_id': work_to_id['EGF receptor gene mutations are common in lung cancers from \"never smokers\" and are associated with sensitivity of tumors to gefitinib and erlotinib'],\n",
    "    'org_id': org_to_id['Memorial Sloan Kettering Cancer Center']\n",
    "}\n",
    "\n",
    "keyword = {\n",
    "    'work_id': work_to_id['EGF receptor gene mutations are common in lung cancers from \"never smokers\" and are associated with sensitivity of tumors to gefitinib and erlotinib'],\n",
    "    'bio_id': bio_to_id['Gefitinib']\n",
    "}\n",
    "\n",
    "work_relation = [\n",
    "    {\n",
    "        'work_id1': work_to_id['EGF receptor gene mutations are common in lung cancers from \"never smokers\" and are associated with sensitivity of tumors to gefitinib and erlotinib'],\n",
    "        'work_id2': work_to_id['An orally active inhibitor of epidermal growth factor signaling with potential for cancer therapy'],\n",
    "        'relation': '1 cited 2'\n",
    "    },\n",
    "    {\n",
    "        'work_id2': work_to_id['EGF receptor gene mutations are common in lung cancers from \"never smokers\" and are associated with sensitivity of tumors to gefitinib and erlotinib'],\n",
    "        'work_id1': work_to_id['An orally active inhibitor of epidermal growth factor signaling with potential for cancer therapy'],\n",
    "        'relation': '2 cited 1'\n",
    "    }\n",
    "]"
   ]
  },
  {
   "cell_type": "code",
   "execution_count": 15,
   "metadata": {},
   "outputs": [
    {
     "data": {
      "text/plain": [
       "['INSERT INTO PeopleOrg (people_id, org_id, year) VALUES (9065, 3140, NULL);',\n",
       " 'INSERT INTO WorkPeople (people_id, work_id) VALUES (9065, 12588);',\n",
       " 'INSERT INTO WorkOrg (work_id, org_id) VALUES (12588, 3140);',\n",
       " 'INSERT INTO Keyword (work_id, bio_id) VALUES (12588, 2710);',\n",
       " 'INSERT INTO WorkRelation (work_id1, work_id2, relation) VALUES (12588, 12589, \"1 cited 2\");',\n",
       " 'INSERT INTO WorkRelation (work_id2, work_id1, relation) VALUES (12588, 12589, \"2 cited 1\");']"
      ]
     },
     "execution_count": 15,
     "metadata": {},
     "output_type": "execute_result"
    }
   ],
   "source": [
    "queries = [insert_query_dict('PeopleOrg', people_org)] +\\\n",
    "    [insert_query_dict('WorkPeople', work_people)] +\\\n",
    "        [insert_query_dict('WorkOrg', work_org)] +\\\n",
    "            [insert_query_dict('Keyword', keyword)] +\\\n",
    "                [insert_query_dict('WorkRelation', rec) for rec in work_relation]\n",
    "queries"
   ]
  },
  {
   "cell_type": "code",
   "execution_count": 16,
   "metadata": {},
   "outputs": [
    {
     "name": "stdout",
     "output_type": "stream",
     "text": [
      "Connection to database established\n",
      "MySQL connection is closed\n"
     ]
    },
    {
     "data": {
      "text/plain": [
       "[]"
      ]
     },
     "execution_count": 16,
     "metadata": {},
     "output_type": "execute_result"
    }
   ],
   "source": [
    "connect_and_query(queries, ['INSERT' for _ in queries], 'UnmergedV1')"
   ]
  }
 ],
 "metadata": {
  "kernelspec": {
   "display_name": "Python 3",
   "language": "python",
   "name": "python3"
  },
  "language_info": {
   "codemirror_mode": {
    "name": "ipython",
    "version": 3
   },
   "file_extension": ".py",
   "mimetype": "text/x-python",
   "name": "python",
   "nbconvert_exporter": "python",
   "pygments_lexer": "ipython3",
   "version": "3.10.2"
  },
  "orig_nbformat": 4,
  "vscode": {
   "interpreter": {
    "hash": "afb734500600fd355917ca529030176ea0ca205570884b88f2f6f7d791fd3fbe"
   }
  }
 },
 "nbformat": 4,
 "nbformat_minor": 2
}
