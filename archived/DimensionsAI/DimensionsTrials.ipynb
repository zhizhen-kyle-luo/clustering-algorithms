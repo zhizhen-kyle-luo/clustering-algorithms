{
 "cells": [
  {
   "cell_type": "code",
   "execution_count": 1,
   "id": "3501e89d",
   "metadata": {},
   "outputs": [],
   "source": [
    "#Use this link to understnd API calls and the steps below\n",
    "#https://docs.dimensions.ai/dsl/getting-started.html"
   ]
  },
  {
   "cell_type": "code",
   "execution_count": 18,
   "id": "c5e48793",
   "metadata": {},
   "outputs": [
    {
     "name": "stdout",
     "output_type": "stream",
     "text": [
      "Collecting mysql.connector\n",
      "  Downloading mysql-connector-2.2.9.tar.gz (11.9 MB)\n",
      "     ---------------------------------------- 0.0/11.9 MB ? eta -:--:--\n",
      "     -- ------------------------------------- 0.7/11.9 MB 13.9 MB/s eta 0:00:01\n",
      "     ----- ---------------------------------- 1.6/11.9 MB 16.9 MB/s eta 0:00:01\n",
      "     ------- -------------------------------- 2.2/11.9 MB 15.7 MB/s eta 0:00:01\n",
      "     --------- ------------------------------ 2.8/11.9 MB 14.7 MB/s eta 0:00:01\n",
      "     ------------ --------------------------- 3.7/11.9 MB 15.8 MB/s eta 0:00:01\n",
      "     --------------- ------------------------ 4.5/11.9 MB 16.0 MB/s eta 0:00:01\n",
      "     ------------------ --------------------- 5.4/11.9 MB 16.3 MB/s eta 0:00:01\n",
      "     -------------------- ------------------- 6.2/11.9 MB 16.5 MB/s eta 0:00:01\n",
      "     ----------------------- ---------------- 7.0/11.9 MB 16.6 MB/s eta 0:00:01\n",
      "     ------------------------- -------------- 7.7/11.9 MB 16.4 MB/s eta 0:00:01\n",
      "     ----------------------------- ---------- 8.7/11.9 MB 16.3 MB/s eta 0:00:01\n",
      "     ------------------------------- -------- 9.5/11.9 MB 16.4 MB/s eta 0:00:01\n",
      "     --------------------------------- ----- 10.1/11.9 MB 16.2 MB/s eta 0:00:01\n",
      "     ----------------------------------- --- 10.9/11.9 MB 16.4 MB/s eta 0:00:01\n",
      "     --------------------------------------  11.6/11.9 MB 16.0 MB/s eta 0:00:01\n",
      "     --------------------------------------  11.8/11.9 MB 16.0 MB/s eta 0:00:01\n",
      "     --------------------------------------- 11.9/11.9 MB 14.5 MB/s eta 0:00:00\n",
      "  Installing build dependencies: started\n",
      "  Installing build dependencies: finished with status 'done'\n",
      "  Getting requirements to build wheel: started\n",
      "  Getting requirements to build wheel: finished with status 'done'\n",
      "  Preparing metadata (pyproject.toml): started\n",
      "  Preparing metadata (pyproject.toml): finished with status 'done'\n",
      "Building wheels for collected packages: mysql.connector\n",
      "  Building wheel for mysql.connector (pyproject.toml): started\n",
      "  Building wheel for mysql.connector (pyproject.toml): finished with status 'done'\n",
      "  Created wheel for mysql.connector: filename=mysql_connector-2.2.9-cp310-cp310-win_amd64.whl size=247959 sha256=eac62b84660128c38a1cdd6f3ac17afd65b84eaaeb5cf88141750cae62a3a923\n",
      "  Stored in directory: c:\\users\\8912y\\appdata\\local\\pip\\cache\\wheels\\76\\48\\9b\\da67ff1a18fe8e9d428f9b1a177716d4a7d363d2bbe83bf6cf\n",
      "Successfully built mysql.connector\n",
      "Installing collected packages: mysql.connector\n",
      "Successfully installed mysql.connector-2.2.9\n",
      "Note: you may need to restart the kernel to use updated packages.\n"
     ]
    }
   ],
   "source": [
    "# %pip install tqdm\n",
    "# %pip install plotly\n",
    "# %pip install pandas\n",
    "# %pip install dimcli\n",
    "# %pip install --upgrade pip\n",
    "%pip install mysql.connector"
   ]
  },
  {
   "cell_type": "code",
   "execution_count": 19,
   "id": "eb87e891",
   "metadata": {},
   "outputs": [],
   "source": [
    "from tqdm.notebook import tqdm as progress\n",
    "import pandas as pd\n",
    "import plotly.express as px\n",
    "from plotly.offline import plot\n",
    "import dimcli\n",
    "from dimcli.utils import *\n",
    "import os, sys, time, json\n",
    "from IPython.display import Image\n",
    "from IPython.core.display import HTML \n",
    "import mysql.connector\n",
    "from mysql.connector import Error"
   ]
  },
  {
   "cell_type": "code",
   "execution_count": 3,
   "id": "40bd57a6",
   "metadata": {},
   "outputs": [
    {
     "name": "stdout",
     "output_type": "stream",
     "text": [
      "==\n",
      "Logging in..\n",
      "\u001b[2mDimcli - Dimensions API Client (v1.1)\u001b[0m\n",
      "\u001b[2mConnected to: <https://app.dimensions.ai/api/dsl> - DSL v2.8\u001b[0m\n",
      "\u001b[2mMethod: manual login\u001b[0m\n"
     ]
    }
   ],
   "source": [
    "#Log into Dimensions\n",
    "#API key is: 9F8D648F0D7E437CB1736BEBDF007F02\n",
    "#!pip install dimcli -U --quiet \n",
    "\n",
    "print(\"==\\nLogging in..\")\n",
    "# https://digital-science.github.io/dimcli/getting-started.html#authentication\n",
    "ENDPOINT = \"https://app.dimensions.ai\"\n",
    "if 'google.colab' in sys.modules:\n",
    "    import getpass\n",
    "    KEY = getpass.getpass(prompt='API Key: ')  \n",
    "    dimcli.login(key=KEY, endpoint=ENDPOINT)\n",
    "else:\n",
    "    KEY = \"9F8D648F0D7E437CB1736BEBDF007F02\"\n",
    "    dimcli.login(key=KEY, endpoint=ENDPOINT)\n",
    "dsl = dimcli.Dsl()"
   ]
  },
  {
   "cell_type": "code",
   "execution_count": 5,
   "id": "d5be5633",
   "metadata": {},
   "outputs": [],
   "source": [
    "names = [\n",
    "    \"Michael Agus\",\n",
    "    \"Dorothy Bainton\",\n",
    "    \"Charles Balch\",\n",
    "    \"Jeffrey Balser\",\n",
    "    \"Kevin Catt\",\n",
    "    \"Henry Chambers\",\n",
    "    \"Richard Clark\",\n",
    "    \"Stephanie Eisenbarth\",\n",
    "    \"Peng Ji\", \n",
    "    \"Peter Fecci\", \n",
    "    \"Tippi Mackenzie\", \n",
    "    \"Purna Kashyap\"\n",
    "]"
   ]
  },
  {
   "cell_type": "code",
   "execution_count": 6,
   "id": "412d00ec",
   "metadata": {},
   "outputs": [
    {
     "name": "stderr",
     "output_type": "stream",
     "text": [
      "Starting iteration with limit=1000 skip=0 ...\u001b[0m\n",
      "0-58 / 58 (6.22s)\u001b[0m\n",
      "===\n",
      "Records extracted: 58\u001b[0m\n",
      "Starting iteration with limit=1000 skip=0 ...\u001b[0m\n"
     ]
    },
    {
     "name": "stdout",
     "output_type": "stream",
     "text": [
      "Here are all the ids for Charles Balch: \n",
      "[\"ur.07702743621.42\", \"ur.0765122623.54\", \"ur.07627375053.67\", \"ur.0726615536.45\", \"ur.072625614.99\", \"ur.072502766.03\", \"ur.066617566.80\", \"ur.0657144310.29\", \"ur.0647455641.12\", \"ur.0623024275.39\", \"ur.016614775072.65\", \"ur.016537413672.61\", \"ur.016502357006.97\", \"ur.016453351545.49\", \"ur.016444450513.00\", \"ur.016077077076.94\", \"ur.016042325224.69\", \"ur.015416215440.03\", \"ur.015404021625.15\", \"ur.015365122232.53\", \"ur.015275637173.10\", \"ur.014643304546.52\", \"ur.014516353037.17\", \"ur.014436235307.54\", \"ur.014341562367.11\", \"ur.014306751412.78\", \"ur.013603073224.19\", \"ur.01357722116.76\", \"ur.01355544706.81\", \"ur.01343554730.25\", \"ur.01341665345.10\", \"ur.01337060205.02\", \"ur.01335163471.44\", \"ur.01333564455.68\", \"ur.01314577014.49\", \"ur.01313017405.44\", \"ur.013126150216.26\", \"ur.013033144331.95\", \"ur.013024323730.08\", \"ur.012774637025.41\", \"ur.01273610367.58\", \"ur.01271700337.71\", \"ur.012627700214.51\", \"ur.01246272657.45\", \"ur.01243520216.75\", \"ur.01231746675.50\", \"ur.01227264605.01\", \"ur.012233656026.29\", \"ur.012217650515.18\", \"ur.012032610232.51\", \"ur.011377306352.79\", \"ur.01130465352.85\", \"ur.01107732015.74\", \"ur.01053163657.27\", \"ur.01041234263.33\", \"ur.01025151201.14\", \"ur.01017551157.80\", \"ur.01013220042.13\"]\n"
     ]
    },
    {
     "name": "stderr",
     "output_type": "stream",
     "text": [
      "0-58 / 58 (5.83s)\u001b[0m\n",
      "===\n",
      "Records extracted: 58\u001b[0m\n",
      "Starting iteration with limit=1000 skip=0 ...\u001b[0m\n"
     ]
    },
    {
     "name": "stdout",
     "output_type": "stream",
     "text": [
      "Current Working Id(s): \n",
      "ur.0726615536.45, ur.01243520216.75, ur.01227264605.01, ur.01013220042.13\n",
      "++++++++There are 4 Working IDs+++++++++++\n"
     ]
    },
    {
     "name": "stderr",
     "output_type": "stream",
     "text": [
      "===\n",
      "Records extracted: 0\u001b[0m\n",
      "Starting iteration with limit=1000 skip=0 ...\u001b[0m\n",
      "===\n",
      "Records extracted: 0\u001b[0m\n",
      "Starting iteration with limit=1000 skip=0 ...\u001b[0m\n",
      "===\n",
      "Records extracted: 0\u001b[0m\n",
      "Starting iteration with limit=1000 skip=0 ...\u001b[0m\n",
      "===\n",
      "Records extracted: 0\u001b[0m\n"
     ]
    },
    {
     "name": "stdout",
     "output_type": "stream",
     "text": [
      "There are 0 number of duplicated patents removed\n",
      "Final set has 0 number of patents\n",
      "\n"
     ]
    },
    {
     "data": {
      "text/plain": [
       "set()"
      ]
     },
     "execution_count": 6,
     "metadata": {},
     "output_type": "execute_result"
    }
   ],
   "source": [
    "def dimensionsPatentSearch(name):\n",
    "    # Make sure to have dsl initialized somewhere before this function is called\n",
    "    res = dsl.query_iterative(f\"\"\"search researchers for \"{name}\" return researchers\"\"\")\n",
    "    listDict = res.json['researchers']\n",
    "\n",
    "    allIds = [item['id'] for item in listDict]\n",
    "    allIds_str = ', '.join([f'\"{item}\"' for item in allIds])\n",
    "    print(f'Here are all the ids for {name}: ')\n",
    "    print('[' + allIds_str + ']')\n",
    "\n",
    "    res2 = dsl.query_iterative(f\"\"\"search researchers where id in [{allIds_str}] return researchers[id+obsolete]\"\"\")\n",
    "    listDict2 = res2.json['researchers']\n",
    "    \n",
    "    allWorkingIDs = [person['id'] for person in listDict2 if person['obsolete'] == 0]\n",
    "    print(f'Current Working Id(s): ')\n",
    "    print(', '.join(allWorkingIDs))\n",
    "    print(f'++++++++There are {len(allWorkingIDs)} Working IDs+++++++++++')  \n",
    "    \n",
    "    finalSet = set()\n",
    "    count = 0\n",
    "\n",
    "    if len(allWorkingIDs) == 1:\n",
    "        res3 = dsl.query_iterative(f\"\"\"search patents where researchers = \"{allWorkingIDs[0]}\" return patents\"\"\")\n",
    "        listDict3 = res3.json['patents']\n",
    "        \n",
    "        lowerSet = set()\n",
    "        for l in listDict3:\n",
    "            if l['title'].lower() not in lowerSet:\n",
    "                finalSet.add(l['title'])\n",
    "                lowerSet.add(l['title'].lower())\n",
    "            else:\n",
    "                count += 1\n",
    "    else:\n",
    "        for working_id in allWorkingIDs:\n",
    "            res3 = dsl.query_iterative(f\"\"\"search patents where researchers = \"{working_id}\" return patents\"\"\")\n",
    "            listDict3 = res3.json['patents']\n",
    "            \n",
    "            lowerSet = set()\n",
    "            for l in listDict3:\n",
    "                if l['title'].lower() not in lowerSet:\n",
    "                    finalSet.add(l['title'])\n",
    "                    lowerSet.add(l['title'].lower())\n",
    "                else:\n",
    "                    count += 1\n",
    "    \n",
    "    print(f'There are {count} number of duplicated patents removed')\n",
    "    print(f'Final set has {len(finalSet)} number of patents')\n",
    "    print()\n",
    "    return finalSet\n",
    "\n",
    "# Calling the function\n",
    "dimensionsPatentSearch(\"Charles Balch\")\n"
   ]
  },
  {
   "cell_type": "code",
   "execution_count": 65,
   "metadata": {},
   "outputs": [],
   "source": [
    "database_name = \"mit-ps+DimensionsCT\"\n",
    "column_names = {\n",
    "    \"abstract\":\"str\", \n",
    "    \"acronym\":\"str\", \n",
    "    \"active_years\":\"int\", \n",
    "    \"altmetric\":\"float\", \n",
    "    \"associated_grant_ids\":\"str\", \n",
    "    \"brief_title\":\"str\", \n",
    "    \"conditions\":\"str\", \n",
    "    \"date_inserted\":\"str\", \n",
    "    \"dimensions_url\":\"str\", \n",
    "    \"end_date\":\"str\", \n",
    "    \"funder_countries\":\"str\", \n",
    "    \"funders\":\"str\", \n",
    "    \"gender\":\"str\", \n",
    "    \"id\":\"str\", \n",
    "    \"interventions\":\"str\", \n",
    "    \"investigators\":\"str\", \n",
    "    \"linkout\":\"str\", \n",
    "    \"mesh_terms\":\"str\", \n",
    "    \"phase\":\"str\", \n",
    "    \"publication_ids\":\"str\", \n",
    "    \"publications\":\"str\", \n",
    "    \"registry\":\"str\", \n",
    "    \"research_orgs\":\"str\", \n",
    "    \"researchers\":\"str\",\n",
    "    \"score\":\"float\", \n",
    "    \"start_date\":\"str\", \n",
    "    \"study_arms\":\"str\", \n",
    "    \"study_designs\":\"str\", \n",
    "    \"study_eligibility_criteria\":\"str\", \n",
    "    \"study_maximum_age\":\"str\", \n",
    "    \"study_minimum_age\":\"str\", \n",
    "    \"study_outcome_measures\":\"str\", \n",
    "    \"study_participants\":\"int\", \n",
    "    \"study_type\":\"str\", \n",
    "    \"title\":\"str\", \n",
    "    \"category_bra\":\"str\", \n",
    "    \"category_for\":\"str\", \n",
    "    \"category_for_2020\":\"str\", \n",
    "    \"category_hra\":\"str\", \n",
    "    \"category_hrcs_hc\":\"str\", \n",
    "    \"category_hrcs_rac\":\"str\", \n",
    "    \"category_icrp_cso\":\"str\", \n",
    "    \"category_icrp_ct\":\"str\", \n",
    "    \"category_rcdc\":\"str\"\n",
    "}\n"
   ]
  },
  {
   "cell_type": "code",
   "execution_count": null,
   "metadata": {},
   "outputs": [],
   "source": []
  },
  {
   "cell_type": "code",
   "execution_count": 79,
   "metadata": {},
   "outputs": [],
   "source": [
    "def execute_command(query):\n",
    "    try:\n",
    "        connection = mysql.connector.connect(host='sql.mit.edu',\n",
    "                                            database=database_name,\n",
    "                                            user='mit-ps',\n",
    "                                            passwd='cut18vuk',\n",
    "                                            charset='utf8')\n",
    "\n",
    "        # Check if the connection is established\n",
    "        if connection.is_connected():\n",
    "            # print(\"Connection to database established\")\n",
    "\n",
    "            # Create a cursor and execute the insert statement\n",
    "            cursor = connection.cursor()\n",
    "            # print('This is current command: ',query)\n",
    "            cursor.execute(query)\n",
    "            connection.commit()  # Commit the transaction\n",
    "            # print(\"Data inserted successfully\")\n",
    "\n",
    "    except mysql.connector.Error as error:\n",
    "        print(f\"Error: {error}\")\n",
    "\n",
    "    finally:\n",
    "        # Close the connection\n",
    "        if connection.is_connected():\n",
    "            cursor.close()\n",
    "            connection.close()\n",
    "            # print(\"MySQL connection is closed\")\n",
    "\n",
    "\n",
    "def insert_query(table_name, column, value):\n",
    "    table_name = table_name.replace(' ','_')\n",
    "    if type(value) == json:\n",
    "        value = json.dumps(value)\n",
    "    elif isinstance(value, str):\n",
    "        value = f\"'{value}'\"  # Enclose string values in single quotes\n",
    "\n",
    "    query = f\"INSERT INTO {table_name} ({column}) VALUES ({value});\"\n",
    "    return query"
   ]
  },
  {
   "cell_type": "code",
   "execution_count": 89,
   "id": "5b29288b",
   "metadata": {},
   "outputs": [
    {
     "name": "stderr",
     "output_type": "stream",
     "text": [
      "Starting iteration with limit=1000 skip=0 ...\u001b[0m\n"
     ]
    },
    {
     "name": "stdout",
     "output_type": "stream",
     "text": [
      "MySQL connection is closed\n"
     ]
    },
    {
     "name": "stderr",
     "output_type": "stream",
     "text": [
      "0-23 / 23 (0.38s)\u001b[0m\n",
      "===\n",
      "Records extracted: 23\u001b[0m\n",
      "Starting iteration with limit=1000 skip=0 ...\u001b[0m\n"
     ]
    },
    {
     "name": "stdout",
     "output_type": "stream",
     "text": [
      "Here are all the ids for Michael Agus: \n",
      "[\"ur.0716114011.47\", \"ur.0611721335.42\", \"ur.016265562545.48\", \"ur.016122063025.72\", \"ur.015174074015.16\", \"ur.015063642442.23\", \"ur.014603530671.80\", \"ur.014553657160.09\", \"ur.014505300325.09\", \"ur.014477610304.89\", \"ur.014301404030.68\", \"ur.013350537100.02\", \"ur.012477564160.41\", \"ur.011651461740.64\", \"ur.011641760512.33\", \"ur.011441741204.33\", \"ur.011404421435.48\", \"ur.011206232463.13\", \"ur.010526602307.50\", \"ur.010376225637.06\", \"ur.010340444237.06\", \"ur.010336561325.81\", \"ur.01032474040.28\"]\n"
     ]
    },
    {
     "name": "stderr",
     "output_type": "stream",
     "text": [
      "0-23 / 23 (4.50s)\u001b[0m\n",
      "===\n",
      "Records extracted: 23\u001b[0m\n",
      "Starting iteration with limit=1000 skip=0 ...\u001b[0m\n"
     ]
    },
    {
     "name": "stdout",
     "output_type": "stream",
     "text": [
      "Current Working Id(s): \n",
      "ur.0611721335.42\n",
      "++++++++There are 1 Working IDs+++++++++++\n"
     ]
    },
    {
     "name": "stderr",
     "output_type": "stream",
     "text": [
      "0-8 / 8 (6.02s)\u001b[0m\n",
      "===\n",
      "Records extracted: 8\u001b[0m\n"
     ]
    },
    {
     "name": "stdout",
     "output_type": "stream",
     "text": [
      "SQL Query:  INSERT INTO `Michael_Agus` (`abstract`, `active_years`, `category_bra`, `category_for`, `category_hra`, `category_hrcs_hc`, `category_rcdc`, `conditions`, `gender`, `id`, `investigators`, `linkout`, `phase`, `registry`, `study_designs`, `study_eligibility_criteria`, `study_maximum_age`, `study_minimum_age`, `study_outcome_measures`, `study_participants`, `study_type`, `title`) VALUES ('The purpose of this study is to learn more about changes in glucose levels in hospitalized infants with intestinal failure receiving parenteral nutrition or PN (nutrients delivered intravenously), as they transition from continuous PN (given 24 hours a day) to cycled PN (given less than 24 hours a day).There is an increased risk of glucose abnormalities with cycled PN, which can be harmful to infant growth and brain health. Continuous glucose monitors (CGM) will be used to measure interstitial glucose levels (in the tissue under the skin), which are similar to blood glucose levels. CGM is a small, minimally-invasive sensor worn on the thigh, which gives a glucose measurement every 5 minutes, and can help us understand changes in blood sugar levels without having to do a blood draw or fingerstick. CGM will be used during PN cycling for up to 30 days or until hospital discharge. CGM data will be hidden from the clinical team, there will be no change to routine clinical care. This study may help us understand how cycled PN affects glucose levels in infants with intestinal failure, which may help other children treated with cycled PN in the future.\n",
      "\n",
      "Detailed Description\n",
      "The objective of this investigation is to quantify dysglycemia associated with cycled parenteral nutrition (PN) and elevated glucose infusion rates (GIR) in infants with intestinal failure and PN-dependence, leveraging high-frequency continuous glucose monitor (CGM) sensor glucose values in a prospective, observational study.Intestinal failure is a malabsorptive state which necessitates PN in its most severe form. PN is ideally transitioned from continuous (24 hr/day) to cycled PN (<24 hr/day), requiring higher glucose infusion rates (GIR) to provide the same nutrition content over a shorter time-period. Patients on cycled PN, especially infants, are vulnerable to dysglycemia (abnormal glucose levels), specifically hyperglycemia during PN infusions (due to inadequate insulin relative to high GIR) and hypoglycemia when PN is cycled off (due to delayed insulin suppression after PN suspension). There is no established pediatric GIR threshold above which the risk of abnormal glucose levels significantly increases.While current practice relies on intermittent blood glucose checks, continuous glucose monitors (CGM) measure high-frequency glucose profiles via minimally-invasive sensors, and are capable of precisely detecting clinically-actionable trends that may otherwise go unrecognized. The CGM sensor measures interstitial glucose, an accepted proxy for blood glucose in patients > 2 years old with diabetes or glycemic variability. CGM has been successfully used in infants and can fulfill the need for greater quantitative insight into glucose trends in metabolically and neurologically fragile populations, including infants with intestinal failure.The investigators hypothesize that during high-GIR, cycled PN: a). trough glucose while PN is suspended is less than normal (statistically defined as 100 mg/dL), and b) average glucose while receiving the target (highest) GIR is greater than normal (statistically defined as 120 mg/dL).Eligible infants will be identified among hospitalized infants at Boston Children\\'s Hospital and followed by the Home Parenteral Nutrition (HPN) program and the Center for Advanced Intestinal Rehabilitation (CAIR). All enrolled participants will have a Dexcom G6 Pro CGM placed within 1 week prior to the anticipated initiation of PN cycling, and CGM will be worn using blinded mode for up to 30 days until target GIR cycled PN is reached (3 sensors maximum). No CGM will remain in place at the time of discharge. The CGM readings will remain blinded to the clinical staff members, no real-time CGM alerts will be provided to the clinical staff. The clinical team will manage PN cycling and clinical blood glucose monitoring as per routine clinical practice. Chart review will occur throughout the study period to abstract necessary information about the participant\\'s medical history and interval clinical events.An initial CGM data review will be conducted by the research team within 72 hours of each sensor removal. The clinical team will be notified if there were intervals meeting the criteria of sustained sensor readings < 50 mg/dL for greater than or equal to 15 minutes. The clinical team will be provided with the criteria for notification, the date/time stamps associated with those event(s), and information about interpreting CGM readings. We will provide this limited information to the clinical team because sustained CGM sensor readings < 50 mg/dL may signify that the participant is at increased risk for hypoglycemia (blood glucose < 70 mg/dL) on cycled PN. The study protocol does not require any blood glucose measurements or other clinical interventions.', '[2023, 2024]', '[{\"id\": \"4001\", \"name\": \"Clinical Medicine and Science\"}]', '[{\"id\": \"80056\", \"name\": \"3213 Paediatrics\"}, {\"id\": \"80003\", \"name\": \"32 Biomedical and Clinical Sciences\"}]', '[{\"id\": \"3901\", \"name\": \"Clinical\"}]', '[{\"id\": \"906\", \"name\": \"Metabolic and endocrine\"}, {\"id\": \"908\", \"name\": \"Reproductive health and childbirth\"}]', '[{\"id\": \"558\", \"name\": \"Prevention\"}, {\"id\": \"337\", \"name\": \"Bioengineering\"}, {\"id\": \"547\", \"name\": \"Pediatric\"}, {\"id\": \"508\", \"name\": \"Clinical Trials and Supportive Activities\"}, {\"id\": \"507\", \"name\": \"Clinical Research\"}, {\"id\": \"438\", \"name\": \"Diabetes\"}]', '[\"Intestinal Failure\", \"Hypoglycemia\", \"Hyperglycemia\"]', 'All', 'NCT05902104', '[[\"Michael SD Agus\", \"MD\", \"Principal Investigator\", \"Boston Children\\'s Hospital\", \"Boston Children\\'s Hospital\", \"grid.2515.3\"], [\"Jessica L Ruiz\", \"MD\", \"Contact\", \"Boston Children\\'s Hospital\", \"Boston Children\\'s Hospital\", \"grid.2515.3\"], [\"Christina M Astley\", \"MD ScD\", \"Sub-Investigator\", \"Boston Children\\'s Hospital\", \"Boston Children\\'s Hospital\", \"grid.2515.3\"]]', 'https://clinicaltrials.gov/show/NCT05902104', 'N/A', 'ClinicalTrials.gov', '[\"{\\\"observational_model\\\": \\\"Cohort\\\"}\"]', 'Inclusion Criteria: Diagnosis of intestinal failure with PN dependence Hospitalized at Boston Children\\'s Hospital Age: 60 days to 18 months Corrected gestational age: greater than or equal to 40 weeks Weight: greater than or equal to 4kg Likely to proceed to PN cycling within the next month, as assessed by the clinical team Exclusion Criteria: Underlying medical conditions or medications that predispose to hypoglycemia or hyperglycemia (e.g. insulin administration, systemic glucocorticoids, hyperinsulinism, adrenal insufficiency, other metabolic diseases) Diffuse skin disease such that placement of a CGM sensor would be unsafe or difficult to secure Known history of allergy or severe reaction to the adhesive/tape that is used to secure the CGM Diffuse body edema that would limit accuracy of CGM sensor Poor peripheral perfusion or use of vasoactive agents that would limit accuracy of CGM sensor Use of medications that interfere with CGM accuracy (e.g. Hydroxyurea, acetaminophen at more than a maximum dose of 1 g every 6 hours up to 4 g every 24 hours) Enrolled in competing clinical trial Ward of the state', '18 Months', '2 Months', '[{\"description\": \"For each subject, \\\"trough glucose\\\" will be defined as the lowest sensor glucose value, during the entire study period, that occurs while PN is suspended.\", \"measure\": \"Trough glucose while PN is suspended\", \"time_frame\": \"Through study completion, up to 30 days\", \"type\": \"primary\"}, {\"description\": \"For each subject, \\\"average glucose\\\" will be defined as an average of all sensor glucose values recorded while receiving the target GIR. \\\"Target GIR\\\" will be defined as the final GIR prior to discharge home, or highest GIR given during the study period if clinical goal GIR is not reached during the study period.\", \"measure\": \"Average glucose while receiving the target GIR\", \"time_frame\": \"Through study completion, up to 30 days\", \"type\": \"primary\"}, {\"description\": \"Secondary outcomes will further quantify the association between cycled PN and dysglycemia (glucose outside 70 - 150 mg/dL) and will include CGM metrics such as: trough, peak, average, area under curve, time dysglycemic, frequency of dysglycemic events >= 15 minutes, timing of dysglycemic event relative to PN cycling.\", \"measure\": \"Measures of dysglycemia\", \"time_frame\": \"Through study completion, up to 30 days\", \"type\": \"secondary\"}]', '10', 'Observational', 'CAMP: CGM-Assisted Management of PN');\n",
      "MySQL connection is closed\n",
      "SQL Query:  INSERT INTO `Michael_Agus` (`abstract`, `active_years`, `category_bra`, `category_for`, `category_hra`, `category_hrcs_hc`, `category_hrcs_rac`, `category_rcdc`, `conditions`, `gender`, `id`, `investigators`, `linkout`, `phase`, `registry`, `study_arms`, `study_designs`, `study_eligibility_criteria`, `study_maximum_age`, `study_minimum_age`, `study_outcome_measures`, `study_participants`, `study_type`, `title`) VALUES ('SHIPSS is a multi-institutional, prospective, controlled, randomized, double-blinded interventional trial that will examine the potential benefits and risks of adjunctive hydrocortisone prescribed for children with fluid and vasoactive-inotropic refractory septic shock.It is hypothesized that adjunctive hydrocortisone will significantly reduce the proportion of children with poor outcomes, defined as death or severely impaired health-related quality of life (HRQL), as assessed at 28 days following study enrollment (randomization).\n",
      "\n",
      "Detailed Description\n",
      "Sepsis represents the most common cause of childhood mortality worldwide. In the United States alone, 200 cases of pediatric sepsis are diagnosed each day, with an associated hospital mortality rate of 5-10% and health care expenditures now approaching $5 billion annually. Moreover, nearly one third of children admitted to pediatric intensive care units (PICUs) for septic shock have not regained their baseline health-related quality of life one year following the sepsis event.During early resuscitation of the child with septic shock, in addition to antibiotics, volume replacement, and vasoactive-inotropic support, the most recent pediatric treatment guidelines advise the practitioner to consider adjunctive hydrocortisone therapy if the patient \"is at risk of absolute adrenal insufficiency or adrenal pituitary axis failure\". However, the potential benefits and risks of this recommendation have not been rigorously examined. On the one hand, corticosteroids are inexpensive and have been frequently demonstrated to improve hemodynamic status in children and adults with sepsis. Conversely, this drug class is known to alter transcription of approximately 30% of the human genome. Notably, corticosteroids down regulate most aspects of the immune response, but particularly adaptive immunity. Moreover, recent data suggests that children with particular gene expression profiles in sepsis have increased likelihood of mortality when treated with corticosteroids.SHIPSS (Stress Hydrocortisone In Pediatric Septic Shock) is a prospective, randomized, double-blinded, placebo-controlled trial examining the potential benefits and risks of adjunctive hydrocortisone prescribed to critically ill children with fluid and vasoactive-inotropic refractory septic shock. Up to 1,032 children will be enrolled, randomized, and evaluated at baseline, and 28 and 90 days following study enrollment.The primary hypothesis is that hydrocortisone, compared to placebo, will decrease the proportion of subjects with poor outcomes, defined as death or severely impaired (≥25% decrease from baseline) HRQL. Subjects will be monitored daily while receiving care in the PICU for the occurrence of adverse events, including the following protocol specified events:hyperglycemia treated with any insulin; gastrointestinal hemorrhage treated with blood product transfusion or vasopressin or octreotide infusion; delirium requiring medical treatment; and hospital-acquired infection treated with new antimicrobials. Finally, the investigators will test the hypothesis that biomarker-based prognostic and predictive enrichment strategies can improve our ability to identify which children with septic shock are more likely to benefit from adjunctive hydrocortisone, and which may be harmed. This trial will have a significant impact on public health by providing the heretofore missing evidence to inform guidelines regarding therapy for septic shock in children.The SHIPSS trial will enroll patients from PICUs in Canada, the United States, Saudi Arabia, Israel, Brazil, Vietnam, Pakistan, Japan, China, Malaysia, and Singapore. Health Canada approval is not required as hydrocortisone is approved for use in septic shock in children, and this trial meets the criteria of a Phase IV study. In the United States, this trial is considered a Phase III trial as hydrocortisone is approved for use in septic shock but not specifically approved for use in pediatric septic shock.', '[2019, 2020, 2021, 2022, 2023, 2024, 2025]', '[{\"id\": \"4001\", \"name\": \"Clinical Medicine and Science\"}]', '[{\"id\": \"80003\", \"name\": \"32 Biomedical and Clinical Sciences\"}, {\"id\": \"80013\", \"name\": \"42 Health Sciences\"}, {\"id\": \"80045\", \"name\": \"3202 Clinical Sciences\"}]', '[{\"id\": \"3901\", \"name\": \"Clinical\"}]', '[{\"id\": \"898\", \"name\": \"Infection\"}]', '[{\"id\": \"10601\", \"name\": \"6.1 Pharmaceuticals\"}]', '[{\"id\": \"546\", \"name\": \"Patient Safety\"}, {\"id\": \"507\", \"name\": \"Clinical Research\"}, {\"id\": \"475\", \"name\": \"Sepsis\"}, {\"id\": \"533\", \"name\": \"Infectious Diseases\"}, {\"id\": \"558\", \"name\": \"Prevention\"}, {\"id\": \"447\", \"name\": \"Hematology\"}, {\"id\": \"508\", \"name\": \"Clinical Trials and Supportive Activities\"}, {\"id\": \"547\", \"name\": \"Pediatric\"}]', '[\"Septic Shock\"]', 'All', 'NCT03401398', '[[\"J Zimmerman Jerry\", \"MD, PhD\", \"Principal Investigator\", \"Seattle Children\\'s Hospital, University of Washington School of Medicine\", \"University of Washington\", \"grid.34477.33\"], [\"Michael Agus\", \"MD\", \"Principal Investigator\", \"Boston Children\\'s Hospital, Harvard Medical School\", \"Boston Children\\'s Hospital\", \"grid.2515.3\"], [\"Hector R Wong\", \"MD\", \"Principal Investigator\", \"Children\\'s Hospital Medical Center, Cincinnati\", \"Cincinnati Children\\'s Hospital Medical Center\", \"grid.239573.9\"], [\"David Wypij\", \"PhD\", \"Principal Investigator\", \"Boston Children\\'s Hospital, Harvard Medical School\", \"Boston Children\\'s Hospital\", \"grid.2515.3\"], [\"Kusum Menon\", \"MD, MSc\", \"Principal Investigator\", \"Children\\'s Hospital of Eastern Ontario\", \"Children\\'s Hospital of Eastern Ontario\", \"grid.414148.c\"], [\"Katri Typpo\", \"MD\", \"Contact\", \"University of Arizona Medical Centre\", \"University of Arizona\", \"grid.134563.6\"], [\"Christopher Newth\", \"MD\", \"Contact\", \"Children\\'s Hospital of Los Angeles\", \"Children\\'s Hospital of Los Angeles\", \"grid.239546.f\"], [\"Natalie Cvijanovich\", \"MD\", \"Contact\", \"UCSF Benioff Children\\'s Hospital - Oakland\", \"UCSF Benioff Children\\'s Hospital\", \"grid.414016.6\"], [\"Adam Schwarz\", \"MD\", \"Contact\", \"Children\\'s Hospital of Orange County\", \"Children\\'s Hospital of Orange County\", \"grid.414164.2\"], [\"Patrick McQuillen\", \"MD\", \"Contact\", \"UCSF Benioff Children\\'s Hospital - San Francisco\", \"UCSF Benioff Children\\'s Hospital\", \"grid.414016.6\"], [\"Catherine Madurski\", \"MD\", \"Contact\", \"Nemours Children\\'s Health\"], [\"Asumthia Jeyapalan\", \"DO\", \"Contact\", \"University of Miami Hospital\", \"University of Miami Hospital\", \"grid.413057.4\"], [\"Michael Nares\", \"MD\", \"Contact\", \"University of Miami Hospital\", \"University of Miami Hospital\", \"grid.413057.4\"], [\"Grace Chong\", \"MD\", \"Contact\", \"University of Chicago, Comer Children\\'s Hospital\", \"Comer Children\\'s Hospital\", \"grid.428125.8\"], [\"Sandeep Tripath\", \"MD\", \"Contact\", \"The University of Illinois at Chicago/OSF Children\\'s Hospital of Illinois\", \"University of Illinois at Chicago\", \"grid.185648.6\"], [\"John Berkenbosch\", \"MD\", \"Contact\", \"University of Louisville, Norton Children\\'s Hospital\", \"University of Louisville\", \"grid.266623.5\"], [\"Ana Lia Granciano\", \"MD\", \"Contact\", \"University of Maryland Medical Center\", \"University of Maryland Medical Center\", \"grid.413036.3\"], [\"Shira J Gertz\", \"MD\", \"Contact\", \"Saint Barnabas Medical Center\", \"Saint Barnabas Medical Center\", \"grid.416350.5\"], [\"Ranjit R Chima\", \"MD\", \"Contact\", \"Cincinnati Children\\'s Hospital Medical Center\", \"Cincinnati Children\\'s Hospital Medical Center\", \"grid.239573.9\"], [\"Christine Allen\", \"MD\", \"Contact\", \"The Children\\'s Hospital at Oklahoma University Medical Center\", \"Children\\'s Hospital of Oklahoma\", \"grid.470168.c\"], [\"Robert Kavanagh\", \"MD\", \"Contact\", \"Penn State Milton S. Hershey Children\\'s Hospital\", \"Pennsylvania State University\", \"grid.29857.31\"], [\"Samir Shah\", \"MD\", \"Contact\", \"Le Bonheur Children\\'s Hospital\", \"Le Bonheur Children\\'s Hospital\", \"grid.413728.b\"], [\"Jennifer Workman\", \"MD\", \"Contact\", \"Primary Children\\'s Hospital\", \"Primary Children\\'s Hospital\", \"grid.415178.e\"], [\"Pelin Cengiz\", \"MD\", \"Contact\", \"University of Wisconsin Health/American Family Children\\'s Hospital\", \"University of Wisconsin System\", \"grid.28803.31\"], [\"Megan Mahoney\", \"MD\", \"Contact\", \"Alberta Children\\'s Hospital\", \"Alberta Children\\'s Hospital\", \"grid.413571.5\"], [\"Neeraj Verma\", \"MD\", \"Contact\", \"IWK Health Centre\", \"Izaak Walton Killam Health Centre\", \"grid.414870.e\"], [\"Karen Choong\", \"MD\", \"Contact\", \"McMaster Children\\'s Hospital\", \"McMaster Children\\'s Hospital\", \"grid.422356.4\"], [\"Douglas Fraser\", \"MD\", \"Contact\", \"London Health Sciences Centre\", \"London Health Sciences Centre\", \"grid.412745.1\"], [\"Katie O\\'Hearn\", \"MSc\", \"Contact\", \"Children\\'s Hospital of Eastern Ontario\", \"Children\\'s Hospital of Eastern Ontario\", \"grid.414148.c\"], [\"James D McNally\", \"MD, PhD\", \"Sub-Investigator\", \"Children\\'s Hospital of Eastern Ontario\", \"Children\\'s Hospital of Eastern Ontario\", \"grid.414148.c\"], [\"Marisa Tucci\", \"MD\", \"Contact\", \"Centre hospitalier universitaire Sainte-Justine\", \"Centre Hospitalier Universitaire Sainte-Justine\", \"grid.411418.9\"], [\"Patricia Fontela\", \"MD\", \"Contact\", \"Montreal Children\\'s Hospital\", \"Montreal Children\\'s Hospital\", \"grid.416084.f\"], [\"Matthew Weiss\", \"MD\", \"Contact\", \"Centre hospitalier de l\\'Universit\\u00e9 Laval\", \"Centre hospitalier de l\\'Universit\\u00e9 Laval\", \"grid.411065.7\"], [\"Yibing Cheng\", \"MD\", \"Contact\", \"He Nan Children\\'s hospital\"], [\"Amir Hadash\", \"MD\", \"Contact\", \"Rambam Health Care Campus\", \"Rambam Health Care Campus\", \"grid.413731.3\"], [\"Asaf Mandel\", \"MD\", \"Contact\", \"Hadassah University Medical Center, Ein Kerem\", \"Hadassah Medical Center\", \"grid.17788.31\"], [\"Elhanan Nahum\", \"PhD\", \"Contact\", \"Schneider Children\\'s Medical Center of Israel\", \"Schneider Children\\'s Medical Center\", \"grid.414231.1\"], [\"Hiroshi Kurosawa\", \"MD\", \"Contact\", \"Kobe Children\\'s Hospital\", \"Kobe Children\\'s Hospital\", \"grid.415413.6\"], [\"Takanari Ikeyama\", \"MD\", \"Contact\", \"Aichi Children\\'s Health and Medical Center\"], [\"Ichiro Watanabe\", \"MD\", \"Contact\", \"Tokyo Metropolitan Children\\'s Medical Center\", \"Tokyo Metropolitan Children\\'s Medical Center\", \"grid.417084.e\"], [\"Swee Fong Tang\", \"MD\", \"Contact\", \"UKM Specialist Children\\'s Hospital\", \"National University of Malaysia\", \"grid.412113.4\"], [\"Chin Seng Gan\", \"MD\", \"Contact\", \"University Malaya Medical Centre\", \"University Malaya Medical Centre\", \"grid.413018.f\"], [\"Olive Pei Ee Lee\", \"MD\", \"Contact\", \"Sarawak General Hospital\", \"Sarawak General Hospital\", \"grid.415281.b\"], [\"Ata Khan\", \"MD\", \"Contact\", \"Shifa International Hospital\", \"Shifa International Hospital\", \"grid.415704.3\"], [\"Qalab Abbas\", \"MD\", \"Contact\", \"Aga Khan University Hospital\", \"Aga Khan University Hospital\", \"grid.411190.c\"], [\"Yasser Kazzaz\", \"MD\", \"Contact\", \"King Abdullah Specialist Children\\'s Hospital\"], [\"Lee Jan Hau\", \"MD\", \"Contact\", \"KK Women\\'s and Children\\'s Hospital\", \"KK Women\\'s and Children\\'s Hospital\", \"grid.414963.d\"], [\"Phuc Huu Phan\", \"MD\", \"Contact\", \"Vietnam National Children\\'s Hospital\", \"Children\\u2019s National Health System\", \"grid.239560.b\"], [\"Nam Tran Nguyen\", \"MD\", \"Contact\", \"City Children\\'s Hospital\"]]', 'https://clinicaltrials.gov/show/NCT03401398', 'Phase 3', 'ClinicalTrials.gov', '[\"{\\\"type\\\": \\\"Active Comparator\\\", \\\"label\\\": \\\"Treatment\\\", \\\"description\\\": \\\"Approximately half of the subjects randomized into SHIPSS will be randomized into the Treatment Group and will receive hydrocortisone sodium succinate according to a predetermined dosing schedule.\\\"}\", \"{\\\"type\\\": \\\"Placebo Comparator\\\", \\\"label\\\": \\\"Placebo\\\", \\\"description\\\": \\\"Approximately half of the subjects randomized into SHIPSS will be randomized into the Placebo Group and will receive equivalent study drug volumes of normal saline.\\\"}\"]', '[\"{\\\"allocation\\\": \\\"Randomized\\\", \\\"intervention_model\\\": \\\"Parallel Assignment\\\", \\\"primary_purpose\\\": \\\"Treatment\\\", \\\"masking\\\": \\\"Quadruple\\\"}\"]', 'Inclusion Criteria: A child receiving treatment in a pediatric intensive care unit is eligible for recruitment into SHIPSS if she/he meets all of the following inclusion criteria: Age is at least 1 month (with corrected gestational age ≥42 weeks), but less than 17 years and 8 months of age A documented focus of infection or a strong suspicion of infection at PICU admission, or for patients who develop septic shock during PICU stay, at the onset of the septic shock event Surveillance cultures (e.g. blood, urine, cerebral spinal fluid, wound) and/or other microbial diagnostic tests have been obtained One or more antimicrobials have been prescribed Core temperature >38.5 C or <36.0 C or leukocytosis or leukopenia (as defined by the local laboratory) or a left-shifted leukocyte differential (>10% immature granulocyte forms) or a neutrophil count of <0.5 x 109 cells per litre documented at least once within the 24 hours preceding screening Treatment with a continuous infusion of vasoactive-inotropic agent(s) to maintain mean or systolic arterial blood pressure above the age-appropriate target set by the treating clinician Administration of two or more vasoactive-inotropic agents at any dose or epinephrine or norepinephrine infusion(s) alone at greater than or equal to 0.10 mcg/kg/min for >1 hour. Exclusion Criteria: A child receiving treatment in a pediatric intensive care unit for sepsis is ineligible for enrollment into SHIPSS if she/he meets any of the following exclusion criteria: All inclusion criteria have been present for > 12 hours Attending physician expects to prescribe systemic corticosteroids for an indication other than septic shock Patient has received any doses of systemic corticosteroids during treatment for sepsis Enrolled concurrently in a competing interventional clinical trial (formal assessment to be conducted by SHIPSS Core Committee for each potential competing trial) Etomidate or ketoconazole treatment within past 48 hours Patient in whom steroids are contraindicated at time of screening (e.g. treatment for systemic fungal infection, cerebral malaria, strongyloides) Known or suspected hypothalamic, pituitary or adrenal disease (including patient has received acute or chronic corticosteroid administration and the physician intends to provide corticosteroid for suspected adrenal suppression) Attending physician, PICU care team, or legally recognized guardians not committed to full treatment and resuscitation at the time of screening Patient documented to be pregnant Previous enrollment in the SHIPSS study Primary disease/injury is a thermal burn (U.S. sites only) Patient in the custody of US protective services Patient being evaluated for brain death', '17 Years', '1 Month', '[{\"description\": \"Mortality or \\u226525% decrease in PedsQL from baseline\", \"measure\": \"28-day hospital mortality or \\u226525% decrease from baseline in health-related quality of life (HRQL) assessed utilizing the Pediatric Quality of Life Inventory, (PedsQL)\", \"time_frame\": \"28 days following study enrollment\", \"type\": \"primary\"}, {\"description\": \"Appearance of new or progression of existing organ dysfunctions according to PELOD-2 definitions\", \"measure\": \"New or progressive multiple organ dysfunction syndrome as assessed utilizing the Pediatric Logistic Organ Dysfunction (PELOD-2) instrument.\", \"time_frame\": \"28 days following study enrollment\", \"type\": \"secondary\"}, {\"description\": \"Occurrence of adverse events plausibly associated with corticosteroid administration. SHIPSS specified events include hyperglycemia, gastrointestinal hemorrhage, delirium, and hospital-acquired infection\", \"measure\": \"SHIPSS specified adverse events\", \"time_frame\": \"28 days following study enrollment\", \"type\": \"other\"}, {\"description\": \"Risk stratification sepsis biomarkers will be measured in serum obtained at enrollment and on Day 2. The PERSEVERE (PEdiatRic SEpsis biomarkEr Risk modEl) will be used to determine the patient\\'s risk of mortality. mRNA will be isolated from blood samples collected at enrollment and on Day 2 to classify the patient as pediatric septic shock Endotype B or A. A composite outcome of sepsis endotype and PERSEVERE risk of mortality will be used to determine if a biomarker-based prognostic model and predictive enrichment strategies allow identification of children with septic shock more likely to benefit from adjunctive hydrocortisone. We hypothesize that pediatric septic shock \\\"endotype B\\\" subjects having an intermediate to high Pediatric Sepsis Biomarker Risk Model (PERSEVERE)-based risk of mortality will derive significant benefit from adjunctive corticosteroids, compared to endotype B subjects having a low risk and endotype A subjects at all risk levels.\", \"measure\": \"Risk stratification sepsis biomarkers and Pediatric sepsis endotype\", \"time_frame\": \"Enrollment and Day 2\", \"type\": \"other\"}, {\"description\": \"This is a 3-level ordinal endpoint, with levels death, survival with severely impaired HRQL (\\u226525% decrease from baseline), and survival without severely impaired HRQL, assessed at 28 and 90 days. This approach is similar to that recently reported for assessment of functional status among children encountering critical illness, utilizing the Functional Status Scale. This endpoint is expected to be highly correlated with the primary efficacy endpoint.\", \"measure\": \"Trichotomous mortality/morbidity outcome\", \"time_frame\": \"28 and 90 days following study enrollment\", \"type\": \"other\"}, {\"description\": \"Mortality or \\u226525% decrease in PedsQL from baseline\", \"measure\": \"90-Day Death or \\u226525% decrease in HRQL from baseline\", \"time_frame\": \"90 days following study enrollment\", \"type\": \"other\"}, {\"description\": \"Vasoactive-inotropic infusion-free days through day 28 is defined as 28 minus duration of vasoactive-inotropic infusions. Subjects who die or are still receiving vasoactive-inotropic infusions by day 28 will be censored at 28 days and assigned zero vasoactive-inotropic infusion-free days.\", \"measure\": \"Vasoactive-inotropic infusion-free days through day 28\", \"time_frame\": \"28 days following study enrollment\", \"type\": \"other\"}, {\"description\": \"Mechanical ventilation-free days through day 28 is defined as 28 minus duration of mechanical ventilation. Subjects who die, are still receiving mechanical ventilation, or are transferred from the PICU still receiving mechanical ventilation by day 28 will be censored at 28 days and assigned zero mechanical ventilation-free days.\", \"measure\": \"Mechanical ventilation-free days through day 28\", \"time_frame\": \"28 days following study enrollment\", \"type\": \"other\"}, {\"description\": \"Proportion of subjects receiving acute RRT. All types of acute RRT will be considered, including hemodialysis, continuous venovenous hemofiltration (CVVH), continuous venovenous hemodialysis (CVVHD), and peritoneal dialysis. RRT in patients on chronic RRT will not be considered.\", \"measure\": \"Utilization of acute renal replacement therapy (RRT)\", \"time_frame\": \"Enrollment to PICU discharge, an average of 2 weeks\", \"type\": \"other\"}, {\"description\": \"Proportion of subjects receiving ECMO\", \"measure\": \"Utilization of extracorporeal membrane oxygenation (ECMO)\", \"time_frame\": \"Enrollment to PICU discharge, an average of 2 weeks\", \"type\": \"other\"}, {\"description\": \"Gross functional status category staging will be made using the Pediatric Overall Performance Category (POPC) score.\", \"measure\": \"Functional status - POPC\", \"time_frame\": \"28 and 90 days following study enrollment\", \"type\": \"other\"}, {\"description\": \"Functional Status Scale (FSS) will be employed to provide a more granular determination of changes in functional status.\", \"measure\": \"Functional status - FSS\", \"time_frame\": \"28 and 90 days following study enrollment\", \"type\": \"other\"}, {\"description\": \"PICU-free days through day 28 is defined as 28 minus duration of PICU stay. Subjects who die or are still in the PICU by day 28 will be censored at 28 days and assigned zero PICU-free days.\", \"measure\": \"PICU-free days through day 28\", \"time_frame\": \"28 days following study enrollment\", \"type\": \"other\"}, {\"description\": \"Hospital-free days through day 28 is defined as 28 minus duration of hospital stay. Subjects who die or are still in the hospital by day 28 will be censored at 28 days and assigned zero hospital-free days through day 28.\", \"measure\": \"Hospital-free days through day 28\", \"time_frame\": \"28 days following study enrollment\", \"type\": \"other\"}, {\"description\": \"Hospital-free days through day 90 is defined as 90 minus duration of hospital stay. Subjects who die or are still in the hospital by day 90 will be censored at 90 days and assigned zero hospital-free days through day 90.\", \"measure\": \"Hospital-free days through day 90\", \"time_frame\": \"90 days following study enrollment\", \"type\": \"other\"}, {\"description\": \"New medical devices prescribed at hospital discharge will be collected from the hospital discharge summary.\", \"measure\": \"Need for new medical devices at hospital discharge\", \"time_frame\": \"At time of hospital discharge, expected to be an average of 21 days from time of enrollment\", \"type\": \"other\"}, {\"description\": \"Enumeration of additional health care evaluations following the index hospital admission will occur by telephone survey at 90 days.\", \"measure\": \"Frequency of primary care, specialty care, and emergency department visits and hospital readmissions\", \"time_frame\": \"90 days following study enrollment\", \"type\": \"other\"}, {\"description\": \"The PedsQLTM 2.0 Family Impact Module will be used to quantify the impact of septic shock on family dynamics.\", \"measure\": \"Disruption of family dynamics\", \"time_frame\": \"Enrollment and 90 days following study enrollment\", \"type\": \"other\"}, {\"description\": \"The cost of each patients PICU admission will be determined by summing the cost of the following: PICU and hospital length of stay, frequency of primary care, specialty care, emergency department visits, and hospital readmissions up to 90 days following hospital discharge, new medical devices post hospital discharge and hospital costs of the admission for septic shock.\", \"measure\": \"Cost Analysis - Cost of PICU admission for septic shock\", \"time_frame\": \"90 days following study enrollment\", \"type\": \"other\"}]', '1032', 'Interventional', 'Stress Hydrocortisone In Pediatric Septic Shock');\n",
      "MySQL connection is closed\n",
      "SQL Query:  INSERT INTO `Michael_Agus` (`abstract`, `active_years`, `category_bra`, `category_for`, `category_hra`, `category_hrcs_rac`, `category_rcdc`, `conditions`, `gender`, `id`, `investigators`, `linkout`, `phase`, `registry`, `study_arms`, `study_designs`, `study_eligibility_criteria`, `study_maximum_age`, `study_minimum_age`, `study_outcome_measures`, `study_participants`, `study_type`, `title`) VALUES ('This study will enroll up to 192 children less than 18 years of age, who will receive electrocardiographic guidance for placement of a PICC in addition to radiography done as standard care. The investigators will determine the location of the PICC tip from both ECG and radiograph, and then measure the degree of correlation between the two methods.\n",
      "\n",
      "Detailed Description\n",
      "The placement of peripherally inserted central catheters (PICCs) is an important component of medical care for a variety of patients. Current practice requires radiographic confirmation of catheter tip placement prior to use of the line for administration of medications. Often the final catheter tip position may be uncertain based on radiographic imaging. Other times, the catheter is malpositioned and requires adjustment and repeat radiographic imaging. In adult patients, a system of confirmation that is based on electrocardiographic activity has been implemented and is FDA approved. This study will enroll up to 192 children less than 18 years of age who will receive electrocardiographic guidance for placement of a PICC, in addition to radiography done as standard care. The investigators will determine the location of the PICC tip from both ECG and radiograph, and then measure the degree of correlation between the two methods.', '[2016, 2017]', '[{\"id\": \"4001\", \"name\": \"Clinical Medicine and Science\"}]', '[{\"id\": \"80003\", \"name\": \"32 Biomedical and Clinical Sciences\"}, {\"id\": \"80045\", \"name\": \"3202 Clinical Sciences\"}]', '[{\"id\": \"3901\", \"name\": \"Clinical\"}]', '[{\"id\": \"10402\", \"name\": \"4.2 Evaluation of markers and technologies\"}]', '[{\"id\": \"507\", \"name\": \"Clinical Research\"}]', '[\"Venous Insufficiency\"]', 'All', 'NCT02324504', '[[\"Michael SD Agus\", \"MD\", \"Principal Investigator\", \"Boston Children\\'s Hospital\", \"Boston Children\\'s Hospital\", \"grid.2515.3\"]]', 'https://clinicaltrials.gov/show/NCT02324504', 'N/A', 'ClinicalTrials.gov', '[\"{\\\"type\\\": \\\"Experimental\\\", \\\"label\\\": \\\"Placement with C3 Wave Tip System\\\", \\\"description\\\": \\\"Subjects will have their central catheters placed with the addition of the FDA approved C3 Wave ECG-Based PICC Tip Confirmation System to the standard institution protocol. The system will assist with location of the catheter tip in real-time, during the procedure.\\\"}\"]', '[\"{\\\"allocation\\\": \\\"N/A\\\", \\\"intervention_model\\\": \\\"Single Group Assignment\\\", \\\"primary_purpose\\\": \\\"Treatment\\\", \\\"masking\\\": \\\"None (Open Label)\\\"}\"]', 'Inclusion Criteria: Age from birth to 17 years in need of a PICC as part of the medical treatment plan Suitable for an upper extremity PICC placement Hemodynamically stable, including patients stable on vasopressors Exclusion Criteria: Hemodynamic instability Cardiac abnormality which leads to abnormal p-wave on ECG Arrhythmia at baseline, documented duirng the current hospital admission Presence of pacemaker or pacing wires which are currently actively pacing Patients who have undergone reconstructive cardiac surgery and/or have anatomic variance that would affect the location of the sinoatrial node in relation to the superior vena cava Premature neonate (<37 weeks estimated gestational age) Placement of PICC in lower extremity', '17 Years', 'N/A', '[{\"description\": \"Successful placement (based upon review of chest radiograph) of the PICC as determined by the tip location of:\\n\\nRA SVC junction (right atrium/superior vena cava) or\\nDistal or lower SVC\", \"measure\": \"Number of Participants With Successful Placement of Peripherally Inserted Central Catheter (PICC)\", \"time_frame\": \"Less than 24 hours\", \"type\": \"primary\"}]', '60', 'Interventional', 'Evaluation of Electrocardiographic Guidance in Accurate Peripherally Inserted Central Catheter Placement in Children.');\n",
      "MySQL connection is closed\n",
      "SQL Query:  INSERT INTO `Michael_Agus` (`abstract`, `active_years`, `category_bra`, `category_for`, `category_hra`, `category_hrcs_hc`, `category_hrcs_rac`, `category_rcdc`, `conditions`, `gender`, `id`, `investigators`, `linkout`, `phase`, `registry`, `study_arms`, `study_designs`, `study_eligibility_criteria`, `study_maximum_age`, `study_minimum_age`, `study_outcome_measures`, `study_participants`, `study_type`, `title`) VALUES ('Our aim is to determine the feasibility of using continuous glucose monitors (CGMs) in infants with low blood glucose to improve how we care for these infants. To do this we plan on monitoring blood glucose levels with CGMs (instead of only with intermittent bloodsampling) in late-preterm and term infants admitted to the NICU who have had hypoglycemia. To see if using CGMs helps us prevent low blood glucose levels and allows us to find a diagnosis and treat sooner, we will randomize patients into one of two groups: a \"CGM group\" where the CGM information is made available to the NICU team and a \"Standard of Care\" group where the CGM information will only be available to the research team. However, if infants in the \"Standard of Care\" group are noted to have three unrecognized severe low blood glucose levels then the research team will inform the NICU team that this has occurred.\n",
      "\n",
      "Detailed Description\n",
      "We aim to evaluate the utility of continuous glucose monitors (CGMs) in improving the diagnosis and management of neonatal hypoglycemia in infants admitted to the neonatal intensive care unit (NICU). Specifically, we hope to assess whether the use of CGMs in this population reduces the number and severity of hypoglycemic events, reduces the time to diagnosis of the etiology of hypoglycemia and/or reduces the time taken to achieve stable euglycemia on a sustainable feeding regimen. We plan to perform a prospective pilot and feasibility study comparing the clinical course and outcomes of newborns with hypoglycemia admitted to the NICU who are actively monitored with CGMs versus those who receive routine care. Eligible infants will be late preterm and term infants admitted to the Boston Children\\'s Hospital who have had two documented hypoglycemic episodes during their current admission. Families will be approached for consent shortly after diagnosis of recurrent hypoglycemia. As all of these infants will be undergoing periodic blood glucose monitoring as part of their routine care, enrollment in this study will involve minimal additional interventions, including CGM placement, which involves placement of a small subcutaneous needle sensor, and the possibility of drawing additional blood glucose samples if hypoglycemia is detected by CGM. All enrolled infants will be placed on a CGM monitor and then randomized to either the \"CGM Protocol\" or \"Standard of Care\" group. Those on the CGM Protocol will have a fully accessible CGM that will be analyzed for blood glucose trends and will alarm for any blood glucose level approaching hypoglycemic threshold (eg. BG <70 mg/dL). Those in the \"Standard of Care\" group will have a CGM in place, but values will not be available to the clinical team except if severe hypoglycemia is recorded (eg. BG <40 mg/dL). Whenever the CGM alarms or there is a concerning blood glucose trend as measured by the CGM, the nurse will be asked to check a blood glucose value. All clinical management decisions will be made by the clinical team based on confirmed blood glucose values. In the control group, the only change to current management is the potential performance of additional blood glucose checks that may be prompted by CGM alarms for severe hypoglycemia. The CGM will remain in place until the infant is no longer being monitored for glycemic stability or the infant is discharged. We will record all blood glucose levels, laboratory data related to investigation of the underlying cause of hypoglycemia, all intravenous and enteral sources of glucose, and uses of other therapeutic interventions such as diazoxide and carnitine replacement. We will also compare blood glucose data with information from the CGM monitors to assess accuracy. We will then compare severity and frequency of hypoglycemia, as well as times to diagnosis and euglycemia between the \"CGM\" and \"Standard of Care\" groups.', '[2015, 2016, 2017, 2018]', '[{\"id\": \"4001\", \"name\": \"Clinical Medicine and Science\"}]', '[{\"id\": \"80056\", \"name\": \"3213 Paediatrics\"}, {\"id\": \"80003\", \"name\": \"32 Biomedical and Clinical Sciences\"}]', '[{\"id\": \"3901\", \"name\": \"Clinical\"}]', '[{\"id\": \"908\", \"name\": \"Reproductive health and childbirth\"}]', '[{\"id\": \"10601\", \"name\": \"6.1 Pharmaceuticals\"}]', '[{\"id\": \"508\", \"name\": \"Clinical Trials and Supportive Activities\"}, {\"id\": \"463\", \"name\": \"Preterm, Low Birth Weight and Health of the Newborn\"}, {\"id\": \"465\", \"name\": \"Perinatal Period - Conditions Originating in Perinatal Period\"}, {\"id\": \"558\", \"name\": \"Prevention\"}, {\"id\": \"547\", \"name\": \"Pediatric\"}, {\"id\": \"368\", \"name\": \"Infant Mortality\"}, {\"id\": \"507\", \"name\": \"Clinical Research\"}, {\"id\": \"438\", \"name\": \"Diabetes\"}]', '[\"Hypoglycemia\", \"Newborn Morbidity\"]', 'All', 'NCT02300285', '[[\"Michael Agus\", \"MD\", \"Principal Investigator\", \"Boston Children\\'s Hospital\", \"Boston Children\\'s Hospital\", \"grid.2515.3\"]]', 'https://clinicaltrials.gov/show/NCT02300285', 'N/A', 'ClinicalTrials.gov', '[\"{\\\"type\\\": \\\"Experimental\\\", \\\"label\\\": \\\"CGM Protocol\\\", \\\"description\\\": \\\"Subjects will receive continuous glucose monitoring and caregivers will be able to view continuous glucose measurements.\\\"}\", \"{\\\"type\\\": \\\"Placebo Comparator\\\", \\\"label\\\": \\\"Standard of Care\\\", \\\"description\\\": \\\"Subjects will receive continuous glucose monitoring but caregivers will not be able to view continuous glucose measurements.\\\"}\"]', '[\"{\\\"allocation\\\": \\\"Randomized\\\", \\\"intervention_model\\\": \\\"Parallel Assignment\\\", \\\"primary_purpose\\\": \\\"Diagnostic\\\", \\\"masking\\\": \\\"None (Open Label)\\\"}\"]', 'Inclusion criteria: Age 0-60 days old Late-preterm and term infants (babies born more than 33 weeks and 6 days after the start of the pregnancy) History of low blood sugars (hypoglycemia): two episodes of hypoglycemia more than 1 hour apart (low blood sugar will be defined by age: for those less than 48 hours old a low blood sugar is considered less than 50mg/dL and for those older than 48 hours old less than 70mg/dL) Exclusion Criteria: Infants with skin disease such that placement of a glucose sensor under the skin would be difficult to secure Infants expected to remain in NICU less than 24 hours Infants on a hypothermic protocol Infants enrolled in a competing clinical trial Family/team have decided to limit or redirect from aggressive NICU technological support infants who are wards of the state', '60 Days', 'N/A', '[{\"description\": \"Hypoglycemia is defined by age group: for patients less than 48 hours of life, hypoglycemia is defined as glucose level < 50 mg/dL for patients greater than or equal to 48 hours of life it is defined as glucose level < 70 mg/dL.\", \"measure\": \"Frequency of Hypoglycemic Events\", \"time_frame\": \"Up to 28 days\", \"type\": \"primary\"}, {\"description\": \"Severe hypoglycemia is defined as glucose level < 40 mg/dL\", \"measure\": \"Frequency of Severe Hypoglycemia Events\", \"time_frame\": \"Up to 28 days\", \"type\": \"primary\"}, {\"description\": \"Diagnosis of the etiology of hypoglycemia, and the time to to do, will be evaluated in order to determine if the use of CGM will prompt earlier testing to evaluate the etiology of the hypoglycemia and therefore lead to earlier ascertainment of the underlying etiology. Diagnosis of etiology.\", \"measure\": \"Number of Events Where Etiology of Hypoglycemia Was Established\", \"time_frame\": \"up tp 28 days\", \"type\": \"secondary\"}, {\"description\": \"Diagnosis of the etiology of hypoglycemia, and the time to to do, will be evaluated in order to determine if the use of CGM will prompt earlier testing to evaluate the etiology of the hypoglycemia and therefore lead to earlier ascertainment of the underlying etiology. Time to diagnosis of etiology.\", \"measure\": \"Time to Diagnosis of Etiology of Hypoglycemia\", \"time_frame\": \"Up to 28 days\", \"type\": \"secondary\"}, {\"measure\": \"Time to Stable Euglycemia\", \"time_frame\": \"Up to 28 days\", \"type\": \"secondary\"}]', '6', 'Interventional', 'Efficacy of Continuous Glucose Monitoring in Neonates With Hypoglycemia');\n",
      "MySQL connection is closed\n",
      "SQL Query:  INSERT INTO `Michael_Agus` (`abstract`, `active_years`, `category_bra`, `category_for`, `category_hra`, `category_hrcs_hc`, `category_rcdc`, `conditions`, `gender`, `id`, `investigators`, `linkout`, `phase`, `registry`, `study_arms`, `study_designs`, `study_eligibility_criteria`, `study_maximum_age`, `study_minimum_age`, `study_outcome_measures`, `study_participants`, `study_type`, `title`) VALUES ('Increased daytime activity in children and adolescents with type I diabetes is known to be associated with overnight hypoglycemia. We therefore wish to perform a prospective clinical study to assess the feasibility of using activity monitor data to adjust insulin pump basal rates and see whether we can help prevent overnight hypoglycemia or decrease related interventions following high activity days. We plan to carry this out by enrolling 20 subjects (10 subjects 1 to <7 years old and 10 subjects 7 to 17 years old) with type 1 diabetes managed on insulin pump therapy and having them wear activity monitors and CGMs for up to 3 months. After an initial two-week period to establish activity baselines, we will recommend nighttime basal insulin rate adjustments based on activity monitor, CGM and insulin pump data.\n",
      "\n",
      "Detailed Description\n",
      "This study is a pilot trial investigating the feasibility of using activity monitoring data to adjust insulin pump therapy and prevent hypoglycemia. The study will enroll 20 patients with type 1 diabetes mellitus on insulin pump therapy, 10 from each of two age groups: younger children aged 1 year to <7 years of age, and older children aged 7-17 years of age. Subjects will be provided with continuous glucose monitors (DexCom G4) and activity monitors. Study duration will be up to 3 months. During the course of the study patients will continue to receive routine care by their primary endocrinologist and diabetes nurse educator (DNE). Insulin dose adjustments unrelated to activity monitor data will continue to be at the discretion of the patient\\'s primary diabetes team.Activity level (steps and calories burned) will be uploaded over the web in a secure fashion to our central firewall-protected database on a daily basis while CGM glucose values and insulin pump data will be collected once a week. The initial 2 weeks of a subject\\'s enrollment in the study will be used to establish his or her baseline activity level and no changes to the insulin regimen will be made based on the activity monitor data. During weeks 3 to 12, activity data will be reviewed daily and an alternate basal insulin rate will be recommended on days considered to be increased activity days. We will use an adaptive algorithm to help guide suggested insulin basal rate changes. All recommendations will be reviewed and approved by a physician prior to implementation. The alternate rate will be derived using the subject\\'s usual care pump settings as an initial starting point from which to make incremental changes in the 3 hour interval leading up to the hypoglycemic event. Target will be the overnight nadir obtained with usual care settings. Residual error (CGM-target) will be used to assess the validity of using the 3 hour window prior to the event to effect lower basal.', '[2015, 2016, 2017]', '[{\"id\": \"4001\", \"name\": \"Clinical Medicine and Science\"}]', '[{\"id\": \"80003\", \"name\": \"32 Biomedical and Clinical Sciences\"}, {\"id\": \"80013\", \"name\": \"42 Health Sciences\"}, {\"id\": \"80045\", \"name\": \"3202 Clinical Sciences\"}]', '[{\"id\": \"3901\", \"name\": \"Clinical\"}]', '[{\"id\": \"906\", \"name\": \"Metabolic and endocrine\"}]', '[{\"id\": \"337\", \"name\": \"Bioengineering\"}, {\"id\": \"508\", \"name\": \"Clinical Trials and Supportive Activities\"}, {\"id\": \"496\", \"name\": \"Autoimmune Disease\"}, {\"id\": \"547\", \"name\": \"Pediatric\"}, {\"id\": \"507\", \"name\": \"Clinical Research\"}, {\"id\": \"438\", \"name\": \"Diabetes\"}]', '[\"Diabetes\", \"Nocturnal Hypoglycemia\"]', 'All', 'NCT02299479', '[[\"Michael Agus\", \"MD\", \"Principal Investigator\", \"Boston Children\\'s Hospital\", \"Boston Children\\'s Hospital\", \"grid.2515.3\"]]', 'https://clinicaltrials.gov/show/NCT02299479', 'N/A', 'ClinicalTrials.gov', '[\"{\\\"type\\\": \\\"Experimental\\\", \\\"label\\\": \\\"Intervention\\\", \\\"description\\\": \\\"Volunteers will wear a Dexcom G4 Platinum CGM device as well as an activity monitor. Data will be uploaded to study investigators on a regular basis, and recommendations will be made to adjust insulin dosing based upon analysis of these data.\\\"}\"]', '[\"{\\\"allocation\\\": \\\"N/A\\\", \\\"intervention_model\\\": \\\"Single Group Assignment\\\", \\\"primary_purpose\\\": \\\"Prevention\\\", \\\"masking\\\": \\\"None (Open Label)\\\"}\"]', 'Inclusion Criteria: Type 1 diabetes (as clinically diagnosed by outpatient endocrinologist). Treated with insulin pump therapy for greater than or equal 6 months HbA1C of <8.5% in the previous 3 months Families will need to have access to Wi-Fi and a compatible smartphone in order for the data from the activity monitor and other devices to be transmitted to the research team Exclusion Criteria: • Current oral steroid use or other medication known to affect insulin action at investigator\\'s discretion. ***Note: currently only enrolling patients followed at Boston Children\\'s Hospital', '17 Years', '1 Year', '[{\"description\": \"Median and inter-quartile range (IQR) of supplemental carbohydrate (SC) interventions (number of SC given by parent divided by the number of days the SC were given) to prevent hypoglycemia during the study period will be compared to those given during the baseline period for each subject. The median and IQR of all subjects will then be calculated.\", \"measure\": \"Change From Baseline in Supplemental Carbohydrate Interventions up to 3 Months From Baseline.\", \"time_frame\": \"Up to 3 months\", \"type\": \"primary\"}, {\"description\": \"Daytime activity will be determined based on steps and calories burned measured by activity monitor. High activity is defined as activity level more than 2 standard deviations above the subject\\'s baseline. Correlations will be performed to assess if there is relationship between daytime activity (8 am to 9 pm) and nighttime nadir blood glucose level (mg/dL).\", \"measure\": \"Correlation of Daytime Activity With Nighttime Nadir Glucose.\", \"time_frame\": \"Up to 3 months\", \"type\": \"secondary\"}, {\"description\": \"For subjects with an activity effect (subjects with a correlation between daytime activity and nighttime nadir glucose), median and inter-quartile range (IQR) of supplemental carbohydrate (SC) interventions (number of SC given by parent divided by the number of nights the SC were given) to prevent hypoglycemia during the study period will be compared to those given during the baseline period for each subject. The median and IQR of this subset of subjects will then be calculated.\", \"measure\": \"Change From Baseline in Supplemental Carbohydrate Interventions up to 3 Months From Baseline in Subjects With Activity Effect.\", \"time_frame\": \"Up to 3 months\", \"type\": \"secondary\"}]', '20', 'Interventional', 'Adjusting Insulin Delivery to Activity (AIDA)');\n",
      "MySQL connection is closed\n",
      "SQL Query:  INSERT INTO `Michael_Agus` (`abstract`, `active_years`, `category_bra`, `category_for`, `category_hra`, `category_hrcs_rac`, `category_rcdc`, `conditions`, `gender`, `id`, `investigators`, `linkout`, `phase`, `registry`, `study_arms`, `study_designs`, `study_eligibility_criteria`, `study_maximum_age`, `study_minimum_age`, `study_outcome_measures`, `study_participants`, `study_type`, `title`) VALUES ('Stress hyperglycemia, a state of abnormal metabolism with supra-normal blood glucose levels, is often seen in critically ill patients. Tight glycemic control (TGC) was originally shown to reduce morbidity and mortality in a landmark randomized clinical trial (RCT) of adult critically ill surgical patients but has since come under intense scrutiny due to conflicting results in recent adult trials. One pediatric RCT has been published to date that demonstrated survival benefit but was complicated by an unacceptably high rate of severe hypoglycemia. The Heart And Lung Failure - Pediatric INsulin Titration (HALF-PINT) trial is a multi-center, randomized clinical treatment trial comparing two ranges of glucose control in hyperglycemic critically ill children with heart and/or lung failure. Both target ranges of glucose control fall within the range of \"usual care\" for critically ill children managed in pediatric intensive care units.The purpose of the study is to determine the comparative effectiveness of tight glycemic control to a target range of 80-110 mg/dL (TGC-1, 4.4-6.1 mmol/L) vs. a target range of 150-180 mg/dL (TGC-2, 8.3-10.0 mmol/L) on hospital mortality and intensive care unit (ICU) length of stay (LOS) in hyperglycemic critically ill children with cardiovascular and/or respiratory failure. This will be accomplished using an explicit insulin titration algorithm and continuous glucose monitoring to safely achieve these glucose targets. Both groups will receive identical standardized intravenous glucose at an age-appropriate rate in order to provide basal calories and mitigate hypoglycemia. Insulin infusions will be titrated with an explicit algorithm combined with continuous glucose monitoring using a protocol that has been safely implemented in 490 critically ill infants and children.', '[2012, 2013, 2014, 2015, 2016, 2017, 2018]', '[{\"id\": \"4001\", \"name\": \"Clinical Medicine and Science\"}]', '[{\"id\": \"80003\", \"name\": \"32 Biomedical and Clinical Sciences\"}, {\"id\": \"80044\", \"name\": \"3201 Cardiovascular Medicine and Haematology\"}]', '[{\"id\": \"3901\", \"name\": \"Clinical\"}]', '[{\"id\": \"10601\", \"name\": \"6.1 Pharmaceuticals\"}]', '[{\"id\": \"331\", \"name\": \"Cardiovascular\"}, {\"id\": \"438\", \"name\": \"Diabetes\"}, {\"id\": \"410\", \"name\": \"Lung\"}, {\"id\": \"508\", \"name\": \"Clinical Trials and Supportive Activities\"}, {\"id\": \"547\", \"name\": \"Pediatric\"}, {\"id\": \"546\", \"name\": \"Patient Safety\"}, {\"id\": \"550\", \"name\": \"Pediatric Research Initiative\"}, {\"id\": \"507\", \"name\": \"Clinical Research\"}, {\"id\": \"509\", \"name\": \"Comparative Effectiveness Research\"}]', '[\"Heart Failure\", \"Respiratory Failure\"]', 'All', 'NCT01565941', '[[\"Michael SD Agus\", \"MD\", \"Principal Investigator\", \"Boston Children\\'s Hospital\", \"Boston Children\\'s Hospital\", \"grid.2515.3\"], [\"Vinay M Nadkarni\", \"MD\", \"Principal Investigator\", \"Children\\'s Hospital of Philadelphia\", \"Children\\'s Hospital of Philadelphia\", \"grid.239552.a\"]]', 'https://clinicaltrials.gov/show/NCT01565941', 'Phase 3', 'ClinicalTrials.gov', '[\"{\\\"type\\\": \\\"Active Comparator\\\", \\\"label\\\": \\\"Tight Glycemic Control 1 (TGC-1)\\\", \\\"description\\\": \\\"Approximately half of the subjects randomized into HALF-PINT will be randomized into TGC-1 which will seek to maintain the subject\\'s blood sugar between 80-110 mg/dL. Intravenous insulin may be administered per insulin algorithm.\\\"}\", \"{\\\"type\\\": \\\"Active Comparator\\\", \\\"label\\\": \\\"Tight Glycemic Control 2 (TGC-2)\\\", \\\"description\\\": \\\"Approximately half of the subjects randomized into HALF-PINT will be randomized into TGC-2 which will seek to maintain the subject\\'s blood sugar between 150-180 mg/dL. Intravenous insulin may be administered per insulin algorithm.\\\"}\"]', '[\"{\\\"allocation\\\": \\\"Randomized\\\", \\\"intervention_model\\\": \\\"Parallel Assignment\\\", \\\"primary_purpose\\\": \\\"Treatment\\\", \\\"masking\\\": \\\"None (Open Label)\\\"}\"]', 'Inclusion Criteria: Cardiovascular failure and/or respiratory failure: Cardiovascular Failure: Dopamine or dobutamine > 5 mcg/kg/min, or any dose of epinephrine, norepinephrine, phenylephrine, milrinone or vasopressin if used to treat hypotension. Respiratory Failure: Acute mechanical ventilation via endotracheal tube or tracheostomy. Age >= 2 weeks and corrected gestational age >= 42 weeks Age < 18 years (has not yet had 18th birthday) Exclusion Criteria: No longer has cardiovascular or respiratory failure (as defined in inclusion criterion 1), or is expected to be extubated in the next 24 hours Expected to remain in ICU < 24 hours Previously randomized in HALF-PINT Enrolled in a competing clinical trial Family/team decision to limit/redirect from aggressive ICU technological support Chronic ventilator dependence prior to ICU admission (non-invasive ventilation and ventilation via tracheostomy overnight or during sleep are acceptable) Type 1 or 2 diabetes Cardiac surgery within prior 2 months or during/planned for this hospitalization (extra-corporeal life support or non-cardiac surgery is acceptable) Diffuse skin disease that does not allow securement of a subcutaneous sensor Therapeutic plan to remain intubated for >28 days Receiving therapeutic cooling with targeted body temperatures <34 degrees Celsius Current or planned ketogenic diet Ward of the state Pregnancy', '17 Years', '2 Weeks', '[{\"description\": \"28-day hospital mortality-adjusted ICU length of stay.\", \"measure\": \"ICU-Free Days\", \"time_frame\": \"Study day 28\", \"type\": \"primary\"}, {\"description\": \"In order to enable direct comparisons between data gathered in HALF-PINT and the prior adult NICE-SUGAR trial, we will collect data on 90-day hospital mortality.\", \"measure\": \"90-day Hospital Mortality\", \"time_frame\": \"90 days after randomization\", \"type\": \"secondary\"}, {\"description\": \"We will collect data on 28-day hospital mortality.\", \"measure\": \"28-day Hospital Mortality\", \"time_frame\": \"28 days after randomization\", \"type\": \"secondary\"}, {\"description\": \"Accumulation of MODS during the 28 days following randomization will be measured. MODS is defined as the concurrent dysfunction of two or more organ systems (e.g., acute lung injury and renal failure). The clinical relevance of MODS as a surrogate outcome measure is well recognized in the intensive care community, and there is a clear relationship between the number of dysfunctional organ systems and the risk of death in critically ill children.\", \"measure\": \"Accumulation of Multiple Organ Dysfunction Syndrome (MODS)\", \"time_frame\": \"28 days after randomization\", \"type\": \"secondary\"}, {\"description\": \"Ventilator-free days during the 28 days following randomization encompasses both reduction in the duration of ventilation and improvement in mortality. The end of the subject\\'s duration of ventilation is defined as the date/time of extubation for subjects who are intubated, or the date/time of the discontinuation of mechanical ventilation for subjects with tracheostomy.\", \"measure\": \"Ventilator-Free Days\", \"time_frame\": \"28 days following randomization\", \"type\": \"secondary\"}, {\"description\": \"Reliable, reproducible measures of adaptive functioning, behavior and quality of life will be used to determine outcomes at baseline (CBCL, PedsQL) and at one year after ICU discharge (Vineland-II, CBCL, PedsQL). The goal of baseline data collection is to assess pre-ICU health and quality of life. The results of the Vineland Adaptive Behavior Scales, Second Edition (VABS-II) are reported. Scores range from 20-160, with higher scores being better.\", \"measure\": \"Developmental Neurobehavioral Outcomes: VABS-II Composite\", \"time_frame\": \"One year after ICU course\", \"type\": \"secondary\"}, {\"description\": \"We will use Centers for Disease Control\\'s (CDC) most recently published definitions for the following nosocomial infections attributable to the ICU stay: total bloodstream infections including Central Venous Line (CVL)-associated bloodstream infections (BSI), respiratory tract infections including ventilator-associated pneumonias, urinary tract infections, and wound infections that occur in the ICU or within 48 hours of discharge to the non-ICU inpatient unit.\", \"measure\": \"Participants With Device-Related or Non-Device Related Nosocomial Infection\", \"time_frame\": \"Up to 48 hours after ICU discharge\", \"type\": \"secondary\"}, {\"description\": \"We will use Centers for Disease Control\\'s (CDC) most recently published definition for the following nosocomial infection attributable to the ICU stay: Central Venous Line (CVL)-associated bloodstream infections (BSI) that occur in the ICU or within 48 hours of discharge to the non-ICU inpatient unit. This device-related infection will be counted per 1,000 device days.\", \"measure\": \"Incidence of Catheter-Associated Bloodstream Infection\", \"time_frame\": \"Up to 48 hours after ICU discharge\", \"type\": \"secondary\"}, {\"description\": \"We will use Centers for Disease Control\\'s (CDC) most recently published definition for the following nosocomial infection attributable to the ICU stay: urinary tract infections that occur in the ICU or within 48 hours of discharge to the non-ICU inpatient unit. This device-related infection will be counted per 1,000 device days.\", \"measure\": \"Incidence of Catheter-Associated Urinary Tract Infection\", \"time_frame\": \"Up to 48 hours after ICU discharge\", \"type\": \"secondary\"}, {\"description\": \"We will use Centers for Disease Control\\'s (CDC) most recently published definition for the following nosocomial infection attributable to the ICU stay: respiratory tract infections including ventilator-associated pneumonias that occur in the ICU or within 48 hours of discharge to the non-ICU inpatient unit. This device-related infection will be counted per 1,000 device days.\", \"measure\": \"Incidence of Ventilator-Associated Pneumonia\", \"time_frame\": \"Up to 48 hours after ICU discharge\", \"type\": \"secondary\"}, {\"description\": \"We will use Centers for Disease Control\\'s (CDC) most recently published definition for the following nosocomial infection attributable to the ICU stay: wound infections that occur in the ICU or within 48 hours of discharge to the non-ICU inpatient unit. This non-device-related infection will be counted per 1,000 ICU days.\", \"measure\": \"Incidence of Wound Infection Incidence of Wound Infection\", \"time_frame\": \"Up to 48 hours after ICU discharge\", \"type\": \"secondary\"}, {\"description\": \"Hypoglycemia will be tracked and reported according to three ranges: severe (<40 mg/dL), moderate (40-49 mg/dL) and mild (50-59 mg/dL). As insulin infusion can cause slight changes to serum potassium concentration, hypokalemia <2.5 mmol/L will also be tracked.\", \"measure\": \"Participants With Severe Hypoglycemia (<40 mg/dL), Unrelated to Insulin Infusion (Insulin Algorithm Safety)\", \"time_frame\": \"Participants will be followed for the duration of ICU stay, an expected average of 8 days\", \"type\": \"secondary\"}, {\"description\": \"Hypoglycemia will be tracked and reported according to three ranges: severe (<40 mg/dL), moderate (40-49 mg/dL) and mild (50-59 mg/dL). As insulin infusion can cause slight changes to serum potassium concentration, hypokalemia <2.5 mmol/L will also be tracked.\", \"measure\": \"Participants With Severe Hypoglycemia (<40 mg/dL), Related to Insulin Infusion (Insulin Algorithm Safety)\", \"time_frame\": \"Participants will be followed for the duration of ICU stay, an expected average of 8 days\", \"type\": \"secondary\"}, {\"description\": \"Hypoglycemia will be tracked and reported according to three ranges: severe (<40 mg/dL), moderate (40-49 mg/dL) and mild (50-59 mg/dL). As insulin infusion can cause slight changes to serum potassium concentration, hypokalemia <2.5 mmol/L will also be tracked.\", \"measure\": \"Participants With Any Hypoglycemia (<60 mg/dL), Unrelated to Insulin Infusion (Insulin Algorithm Safety)\", \"time_frame\": \"Participants will be followed for the duration of ICU stay, an expected average of 8 days\", \"type\": \"secondary\"}, {\"description\": \"Hypoglycemia will be tracked and reported according to three ranges: severe (<40 mg/dL), moderate (40-49 mg/dL) and mild (50-59 mg/dL). As insulin infusion can cause slight changes to serum potassium concentration, hypokalemia <2.5 mmol/L will also be tracked.\", \"measure\": \"Participants With Any Hypoglycemia (<60 mg/dL), Related to Insulin Infusion (Insulin Algorithm Safety)\", \"time_frame\": \"Participants will be followed for the duration of ICU stay, an expected average of 8 days\", \"type\": \"secondary\"}, {\"description\": \"Hypoglycemia will be tracked and reported according to three ranges: severe (<40 mg/dL), moderate (40-49 mg/dL) and mild (50-59 mg/dL). As insulin infusion can cause slight changes to serum potassium concentration, hypokalemia <2.5 mmol/L will also be tracked.\", \"measure\": \"Participants With Hypokalemia (<2.5 mmol/L)\", \"time_frame\": \"Participants will be followed for the duration of ICU stay, an expected average of 8 days\", \"type\": \"secondary\"}, {\"description\": \"The workload burden placed upon bedside nurses when managing a patient on TGC will be described. Bedside nurses will be randomly selected to complete an anonymous survey describing their perceptions of workload burden associated with managing a patient during one shift.\\n\\nUsing the SWAT (Subjective Workload Assessment Technique) instrument, perceived workload of Pediatric Intensive Care Nurses caring for HALF-PINT patients in TGC group 1 and TGC group 2 were assessed. The SWAT has been used to study the effect of workload in the fields of nursing, pharmacy and medicine. It measures the following burdens: cognitive (mental effort or concentration required for complexity of task), time (amount of spare time, interruptions, overlapping tasks) and psychological stress associated with work that impacts performance. The SWAT uses a ranking system to weight perceived workload which results in an overall score ranging from 0-100, where higher scores indicate higher perceived workload.\", \"measure\": \"Nursing Workload: SWAT (Subjective Workload Assessment Technique) Instrument\", \"time_frame\": \"One nursing shift caring for patient on TGC, at anytime during the patient\\'s hospital stay through the tenth nursing shift for the patient. Shift determined randomly by the last digit of the study ID number, 0-9 (0=shift 10, 1=shift 1, 2=shift 2, etc.).\", \"type\": \"secondary\"}, {\"description\": \"The cognitive burden placed upon bedside nurses when managing a patient on TGC will be described. Bedside nurses will be randomly selected to complete an anonymous survey describing their perceptions of workload burden associated with managing a patient on TGC.\\n\\nUsing the NASA-TLX instrument, perceived workload of Pediatric Intensive Care Nurses caring for HALF-PINT patients in TGC group 1 and TGC group 2 were assessed. The instrument uses a ranking system to weight perceived workload which results in an overall sore ranging from 0-100, where higher scores indicate higher perceived workload. It obtains overall perception of workload related to stressful tasks and includes 6 dimensions (cognitive demand, physical demand, time pressure, performance, effort, and frustration.\", \"measure\": \"Nursing Workload: NASA-TLX (National Aeronautics and Space Administration - Task Load Index) Instrument\", \"time_frame\": \"One nursing shift caring for patient on TGC, at anytime during the patient\\'s hospital stay through the tenth nursing shift for the patient. Shift determined randomly by the last digit of the study ID number, 0-9 (0=shift 10, 1=shift 1, 2=shift 2, etc.).\", \"type\": \"secondary\"}, {\"description\": \"Performance of the algorithm across diverse ages, weights and disease processes will be critical to measure and compare to other published algorithm performance. Ideally, the algorithm will minimize time to glucose target range. We will track the overall glycemic profile using time-weighted glucose average because it is uniquely unaffected by the increased frequency of BG determinations that occur when glucose is abnormally low or high.\", \"measure\": \"Insulin Algorithm Performance: Time to the Target Range\", \"time_frame\": \"Until study discharge, up to 28 days following randomization\", \"type\": \"secondary\"}, {\"description\": \"Performance of the algorithm across diverse ages, weights and disease processes will be critical to measure and compare to other published algorithm performance. Ideally, the algorithm will maximize time spent in the glucose target range. We will track the overall glycemic profile using time-weighted glucose average because it is uniquely unaffected by the increased frequency of BG determinations that occur when glucose is abnormally low or high.\", \"measure\": \"Insulin Algorithm Performance: Time in the Target Range\", \"time_frame\": \"Until study discharge, up to 28 days following randomization\", \"type\": \"secondary\"}, {\"description\": \"Performance of the algorithm across diverse ages, weights and disease processes will be critical to measure and compare to other published algorithm performance. We will track the overall glycemic profile using time-weighted glucose average because it is uniquely unaffected by the increased frequency of BG determinations that occur when glucose is abnormally low or high.\", \"measure\": \"Insulin Algorithm Performance: Time-Weighted Glucose Average\", \"time_frame\": \"Until study discharge, up to 28 days following randomization\", \"type\": \"secondary\"}]', '713', 'Interventional', 'Heart And Lung Failure - Pediatric INsulin Titration Trial (HALF-PINT)');\n",
      "MySQL connection is closed\n",
      "SQL Query:  INSERT INTO `Michael_Agus` (`abstract`, `active_years`, `category_bra`, `category_for`, `category_hrcs_hc`, `category_rcdc`, `conditions`, `gender`, `id`, `investigators`, `linkout`, `phase`, `registry`, `study_arms`, `study_designs`, `study_eligibility_criteria`, `study_maximum_age`, `study_minimum_age`, `study_outcome_measures`, `study_participants`, `study_type`, `title`) VALUES ('Immediate feedback of hemoglobin A1c (A1c) results to adults with type 1 and 2 diabetes allows more appropriate care decisions at the clinic visit and may improve glycemic control. The investigators\\' objective is to determine whether immediate feedback of A1c results to children with type 1 diabetes will improve patient care and glycemic control.\n",
      "\n",
      "Detailed Description\n",
      "Because glycosylated hemoglobin (A1c) has been shown to reflect average glycemia over several months and has a strong predictive value for diabetes complications, routine quarterly measurements is a standard of care in children and adolescents with Type 1 diabetes mellitus. The A1c value determines whether the patient\\'s glycemic targets have been reached or maintained. The availability of the A1c result at the time the patient is seen (point-of-care testing) has been reported in adults with diabetes to result in increased intensification of therapy and improvement in glycemic control in type 1 and insulin-treated type 2 diabetes and in type 2 diabetes. The A1c may also serve as a check on the accuracy of the patient\\'s glucose meter and the validity of the patient\\'s reported self monitored blood glucose (SMBG) results.In many clinical settings, A1c is determined in a central laboratory on a blood sample obtained by venipuncture and results usually are available one to two business days after the sample is obtained. If the A1c value is different than predicted from a review of available SMBG data at the visit, the practitioner must contact the family to review the results and, revise any care decisions made during the visit. This system is inefficient and fraught with the potential for less than optimal care relating to delays in the practitioner seeing the result, delays in reaching the subject or parents, and absence of the subject\\'s participation in the phone call updating the care plan. Furthermore, many children dread venipuncture, which is often poorly tolerated and makes clinic visits painful, emotionally traumatic and unpleasant experiences.Because there are no published data on the utility of point-of-care A1c testing in children and adolescents with diabetes, we designed a prospective randomized controlled trial to determine if subjects who received immediate feedback of A1c results at their clinic visits would have a lower A1c as compared to those who received A1c results after the clinic visit. We intend to determine whether immediate feedback of A1c results will enable the clinicians providing diabetes care to make more adjustments to the subject\\'s management plan at the time of the clinic visit, and whether this will lead to fewer communications with the subject/family between visits. Finally we will assess the relative pain caused by fingerstick blood sampling as compared to venipuncture.', '[2003, 2004, 2005, 2006]', '[{\"id\": \"4001\", \"name\": \"Clinical Medicine and Science\"}]', '[{\"id\": \"80003\", \"name\": \"32 Biomedical and Clinical Sciences\"}, {\"id\": \"80045\", \"name\": \"3202 Clinical Sciences\"}]', '[{\"id\": \"906\", \"name\": \"Metabolic and endocrine\"}]', '[{\"id\": \"438\", \"name\": \"Diabetes\"}, {\"id\": \"496\", \"name\": \"Autoimmune Disease\"}, {\"id\": \"507\", \"name\": \"Clinical Research\"}]', '[\"Type 1 Diabetes Mellitus\", \"Glycemic Control\"]', 'All', 'NCT00898534', '[[\"Michael SD Agus\", \"MD\", \"Principal Investigator\", \"Boston Children\\'s Hospital\", \"Boston Children\\'s Hospital\", \"grid.2515.3\"]]', 'https://clinicaltrials.gov/show/NCT00898534', 'Phase 4', 'ClinicalTrials.gov', '[\"{\\\"type\\\": \\\"Experimental\\\", \\\"label\\\": \\\"Immediate Feedback\\\", \\\"description\\\": \\\"Subjects receive point-of-care hemoglobin A1c testing prior to their diabetes clinic visit, with results made available to the provider during the visit.\\\"}\", \"{\\\"type\\\": \\\"No Intervention\\\", \\\"label\\\": \\\"Conventional Feedback\\\", \\\"description\\\": \\\"Subjects receive laboratory hemoglobin A1c testing at the clinic visit, with results made available to the provider several days later.\\\"}\"]', '[\"{\\\"allocation\\\": \\\"Randomized\\\", \\\"intervention_model\\\": \\\"Parallel Assignment\\\", \\\"primary_purpose\\\": \\\"Treatment\\\", \\\"masking\\\": \\\"None (Open Label)\\\"}\"]', 'Inclusion Criteria: Type 1 diabetes mellitus diagnosed at least 2 years prior to enrollment in study Less than 18 years of age Exclusion Criteria: Cystic fibrosis related diabetes Type 2 diabetes Any other suspected non-type 1 diabetes (e.g., maturity onset diabetes of the young)', '18 Years', '2 Years', '[{\"measure\": \"Hemoglobin A1c\", \"time_frame\": \"1 year after enrollment\", \"type\": \"primary\"}, {\"measure\": \"Hemoglobin A1c\", \"time_frame\": \"3, 6, and 9 months after enrollment\", \"type\": \"secondary\"}, {\"measure\": \"Pain rating of hemoglobin A1c test\", \"time_frame\": \"3, 6, 9, and 12 months after enrollment\", \"type\": \"secondary\"}, {\"measure\": \"Change in diabetes management (insulin, diet, exercise, glucose self-monitoring)\", \"time_frame\": \"3, 6, 9, and 12 months after enrollment\", \"type\": \"secondary\"}, {\"measure\": \"Episodes of severe hypoglycemia\", \"time_frame\": \"3, 6, 9, and 12 months after enrollment\", \"type\": \"secondary\"}, {\"measure\": \"Hospital admissions for diabetes related event\", \"time_frame\": \"3, 6, 9, and 12 months after enrollment\", \"type\": \"secondary\"}, {\"measure\": \"Number of phone and/or email contacts between practitioner and patient\", \"time_frame\": \"3, 6, 9, and 12 months after enrollment\", \"type\": \"secondary\"}]', '234', 'Interventional', 'Effect of Immediate Hemoglobin A1c on Glycemic Control in Children With Type I Diabetes Mellitus');\n",
      "MySQL connection is closed\n",
      "SQL Query:  INSERT INTO `Michael_Agus` (`abstract`, `active_years`, `category_bra`, `category_for`, `category_hra`, `category_hrcs_hc`, `category_rcdc`, `conditions`, `gender`, `id`, `investigators`, `linkout`, `phase`, `registry`, `study_arms`, `study_designs`, `study_eligibility_criteria`, `study_maximum_age`, `study_minimum_age`, `study_outcome_measures`, `study_participants`, `study_type`, `title`) VALUES ('Critically ill children, including children undergoing heart surgery, commonly develop elevated blood glucose (also known as \"blood sugar\") levels during their illness, which can lead to poor health outcomes and an increased risk of death. This study will examine the effectiveness of maintaining normal blood glucose levels at decreasing infections and improving recovery in young children undergoing heart surgery.\n",
      "\n",
      "Detailed Description\n",
      "Children undergoing heart surgery are under significant bodily stress, which can lead to higher than normal or lower than normal blood glucose levels. A synthetic form of insulin, a naturally occurring hormone in the body, can be injected into people to normalize blood glucose levels. Insulin is most commonly used to treat people with diabetes, but it is also used in hospitals to control blood glucose levels in patients. Previous studies of adult intensive care unit (ICU) patients have shown that patients whose blood sugar levels are maintained at normal levels with the use of insulin contract fewer infections and are released more quickly from the ICU than patients who do not maintain normal blood glucose levels. This study will use a continuous blood glucose monitoring system to detect changes in blood glucose levels. Intravenous insulin infusions will be used to then safely maintain normal blood glucose levels. The purpose of this study is to determine if maintaining normal blood glucose levels during an ICU stay will help decrease the incidence of infections and improve surgical recovery in young children following heart surgery.This study will enroll children who are undergoing heart surgery that requires a cardiopulmonary bypass procedure. Participants will be randomly assigned to either a control group or the treatment group. All participants will receive usual care while in the ICU and will undergo continuous glucose monitoring. Participants in the treatment group will receive intravenous insulin infusions to keep their blood glucose within the normal range. While in the ICU, blood will be collected from all participants once a day for the first 3 days and then once a week to monitor glucose levels, hormone levels, and measurements of nutrition and immune function. On days 1 and 5 following surgery, participants who are on a ventilator will have their breath measured to monitor heart function and energy use. Thirty days and 1 year following surgery, study researchers will contact the participant\\'s parent or doctor to collect information on health status and any new infections at the surgical site. Children who enroll in the study will be asked to participate in follow-up neurodevelopmental evaluations at 1 and 3 years of age to assess longer term cognitive effects of tight glycemic control in the ICU.', '[2006, 2007, 2008, 2009, 2010, 2011, 2012, 2013, 2014]', '[{\"id\": \"4001\", \"name\": \"Clinical Medicine and Science\"}]', '[{\"id\": \"80003\", \"name\": \"32 Biomedical and Clinical Sciences\"}, {\"id\": \"80045\", \"name\": \"3202 Clinical Sciences\"}]', '[{\"id\": \"3901\", \"name\": \"Clinical\"}]', '[{\"id\": \"906\", \"name\": \"Metabolic and endocrine\"}]', '[{\"id\": \"331\", \"name\": \"Cardiovascular\"}, {\"id\": \"445\", \"name\": \"Heart Disease\"}, {\"id\": \"438\", \"name\": \"Diabetes\"}, {\"id\": \"508\", \"name\": \"Clinical Trials and Supportive Activities\"}, {\"id\": \"507\", \"name\": \"Clinical Research\"}, {\"id\": \"546\", \"name\": \"Patient Safety\"}, {\"id\": \"558\", \"name\": \"Prevention\"}, {\"id\": \"547\", \"name\": \"Pediatric\"}]', '[\"Heart Defects, Congenital\", \"Hyperglycemia\"]', 'All', 'NCT00443599', '[[\"Michael Agus\", \"MD\", \"Principal Investigator\", \"Boston Children\\'s Hospital\", \"Boston Children\\'s Hospital\", \"grid.2515.3\"]]', 'https://clinicaltrials.gov/show/NCT00443599', 'N/A', 'ClinicalTrials.gov', '[\"{\\\"type\\\": \\\"Experimental\\\", \\\"label\\\": \\\"Insulin\\\", \\\"description\\\": \\\"Insulin was infused to target a blood glucose concentration of 80-110 mg/dL\\\"}\", \"{\\\"type\\\": \\\"Active Comparator\\\", \\\"label\\\": \\\"Usual Care\\\", \\\"description\\\": \\\"Insulin was infused according to the discretion of the treating clinical team.\\\"}\"]', '[\"{\\\"allocation\\\": \\\"Randomized\\\", \\\"intervention_model\\\": \\\"Parallel Assignment\\\", \\\"primary_purpose\\\": \\\"Treatment\\\", \\\"masking\\\": \\\"None (Open Label)\\\"}\"]', 'Inclusion Criteria: Undergoing heart surgery with cardiopulmonary bypass Recovering in the Cardiac ICU Exclusion Criteria: Enrolled in another interventional clinical trial with related study outcomes', '36 Months', 'N/A', '[{\"description\": \"Nosocomial infections that are attributable to the subject\\'s stay in the Cardiac ICU, according to Center for Disease Control-defined criteria. These definitions are extensive and cannot be accurately condensed to fit within this space. Current CDC/NHSN criteria may be accessed through this URL: https://www.cdc.gov/nhsn/pdfs/pscmanual/17pscnosinfdef_current.pdf.\", \"measure\": \"Incidence of Nosocomial Infections in the Cardiac ICU\", \"time_frame\": \"Measured during participant\\'s ICU stay, a median duration of 3 days.\", \"type\": \"primary\"}, {\"description\": \"Cardiac index is a measure of cardiac function, relating the cardiac output from the left ventricle in one minute to body surface area. It is calculated using the Fick principle, using oxygen consumption measured with a metabolic cart, hemoglobin levels, and the difference between arterial and superior vena cava oxygen saturation measured by co-oximetry.\", \"measure\": \"Cardiac Index (CI)\", \"time_frame\": \"Day 2 (day after cardiopulmonary bypass surgery).\", \"type\": \"secondary\"}, {\"description\": \"Duration of ICU stay spans from post-operative cardiac ICU admission to cardiac ICU discharge.\", \"measure\": \"Duration of ICU Stay\", \"time_frame\": \"The duration of cardiac ICU stay was evaluated from the date of postoperative cardiac ICU admission until the date of cardiac ICU discharge or date of death from any cause, whichever came first, assessed up to 30 days.\", \"type\": \"secondary\"}, {\"description\": \"Duration of hospital stay spans from post-operative cardiac ICU admission to hospital discharge.\", \"measure\": \"Duration of Hospital Stay\", \"time_frame\": \"The duration of hospital stay was evaluated from the day of postoperative cardiac ICU admission until the day of hospital discharge or day of death from any cause, whichever came first, assessed up to 30 days.\", \"type\": \"secondary\"}, {\"description\": \"Duration of endotracheal intubation spans from endotracheal tube intubation/initiation of mechanical ventilation to endotracheal tube extubation.\", \"measure\": \"Duration of Endotracheal Intubation\", \"time_frame\": \"The duration of endotracheal intubation (mechanical ventilation) was evaluated from the day of postoperative cardiac ICU admission until the day of extubation or day of death from any cause, whichever came first, assessed up to 30 days.\", \"type\": \"secondary\"}, {\"description\": \"Mortality is assessed at hospital discharge and at 30 days.\", \"measure\": \"Mortality at Hospital Discharge.\", \"time_frame\": \"Mortality at hospital discharge (In-hospital mortality) was evaluated on the day of hospital discharge or day of death from any cause, whichever came first (no upper limit).\", \"type\": \"secondary\"}, {\"description\": \"Mortality is assessed at hospital discharge and at 30 days. If the participant is discharged from the hospital prior to 30 days, status is determined by a follow-up phone call to the family.\", \"measure\": \"Mortality at 30 Days.\", \"time_frame\": \"Measured at 30 days.\", \"type\": \"secondary\"}, {\"description\": \"Cardiac function is assessed by duration of vasoactive support.\", \"measure\": \"Cardiac Function\", \"time_frame\": \"The duration of vasoactive support was evaluated from the day of postoperative cardiac ICU admission until the last day of vasoactive support or day of death from any cause, whichever came first, assessed up to 30 days.\", \"type\": \"secondary\"}, {\"description\": \"Immune function is assessed by C-reactive protein (CRP) on post-operative day 7.\", \"measure\": \"Immune Function\", \"time_frame\": \"Post-operative day 7.\", \"type\": \"secondary\"}, {\"description\": \"Endocrine function is assessed by total triiodothyronine (T3) on post-operative day 7.\", \"measure\": \"Endocrine Function\", \"time_frame\": \"Measured during participant\\'s ICU stay on Day 7.\", \"type\": \"secondary\"}, {\"description\": \"Nutritional status assessed by percentage of total caloric intake as enteral nutrition during critical illness period.\", \"measure\": \"Nutritional Status\", \"time_frame\": \"The percentage of total caloric intake was evaluated from the day of postoperative cardiac ICU admission until the last day of the critical illness period, as defined by the presence of the arterial catheter, assessed up to 30 days.\", \"type\": \"secondary\"}, {\"description\": \"Neurodevelopmental follow-up includes in-person testing using the Bayley Scales of Infant and Toddler Development, Third Edition (Bayley-III), measured at one year of age.\\n\\nBayley-III cognitive composite score ranges from 55-145, Bayley-III language composite score ranges from 47-153, and Bayley-III motor composite score ranges from 46-154.\\nHigher values indicate better neurodevelopmental outcomes.\\nThese three composite scores cannot be combined and are presented as separate scores in the literature.\", \"measure\": \"Neurodevelopmental Evaluation, Cognitive\", \"time_frame\": \"Measured at one year of age.\", \"type\": \"secondary\"}, {\"description\": \"Neurodevelopmental follow-up includes in-person testing using the Bayley Scales of Infant and Toddler Development, Third Edition (Bayley-III), measured at one year of age.\\n\\nBayley-III cognitive composite score ranges from 55-145, Bayley-III language composite score ranges from 47-153, and Bayley-III motor composite score ranges from 46-154.\\nHigher values indicate better neurodevelopmental outcomes.\\nThese three composite scores cannot be combined and are presented as separate scores in the literature.\", \"measure\": \"Neurodevelopmental Evaluation, Language\", \"time_frame\": \"Measured at one year of age.\", \"type\": \"secondary\"}, {\"description\": \"Neurodevelopmental follow-up includes in-person testing using the Bayley Scales of Infant and Toddler Development, Third Edition (Bayley-III), measured at one year of age.\\n\\nBayley-III cognitive composite score ranges from 55-145, Bayley-III language composite score ranges from 47-153, and Bayley-III motor composite score ranges from 46-154.\\nHigher values indicate better neurodevelopmental outcomes.\\nThese three composite scores cannot be combined and are presented as separate scores in the literature.\", \"measure\": \"Neurodevelopmental Evaluation, Motor\", \"time_frame\": \"Measured at one year of age.\", \"type\": \"secondary\"}]', '989', 'Interventional', 'Maintaining Normal Blood Sugar Levels in Children Undergoing Heart Surgery to Reduce the Risk of Infections and Improve Recovery (The SPECS Study)');\n",
      "MySQL connection is closed\n"
     ]
    }
   ],
   "source": [
    "def dimensionsTrialSearch(name):\n",
    "    table_name = name.replace(' ','_')\n",
    "    execute_command(f\"\"\"\n",
    "    CREATE TABLE {table_name} (\n",
    "        abstract TEXT,\n",
    "        acronym VARCHAR(255),\n",
    "        active_years VARCHAR(255),\n",
    "        altmetric FLOAT,\n",
    "        associated_grant_ids TEXT,\n",
    "        brief_title TEXT,\n",
    "        conditions TEXT,\n",
    "        date_inserted DATE,\n",
    "        dimensions_url VARCHAR(255),\n",
    "        end_date DATE,\n",
    "        funder_countries TEXT,\n",
    "        funders TEXT,\n",
    "        gender VARCHAR(50),\n",
    "        id VARCHAR(255),\n",
    "        interventions TEXT,\n",
    "        investigators TEXT,\n",
    "        linkout VARCHAR(255),\n",
    "        mesh_terms TEXT,\n",
    "        phase VARCHAR(255),\n",
    "        publication_ids TEXT,\n",
    "        publications TEXT,\n",
    "        registry VARCHAR(255),\n",
    "        research_orgs TEXT,\n",
    "        researchers TEXT,\n",
    "        score FLOAT,\n",
    "        start_date DATE,\n",
    "        study_arms TEXT,\n",
    "        study_designs TEXT,\n",
    "        study_eligibility_criteria TEXT,\n",
    "        study_maximum_age VARCHAR(255),\n",
    "        study_minimum_age VARCHAR(255),\n",
    "        study_outcome_measures TEXT,\n",
    "        study_participants INT,\n",
    "        study_type VARCHAR(255),\n",
    "        title TEXT,\n",
    "        category_bra TEXT,\n",
    "        category_for TEXT,\n",
    "        category_for_2020 TEXT,\n",
    "        category_hra TEXT,\n",
    "        category_hrcs_hc TEXT,\n",
    "        category_hrcs_rac TEXT,\n",
    "        category_icrp_cso TEXT,\n",
    "        category_icrp_ct TEXT,\n",
    "        category_rcdc TEXT\n",
    "    );\n",
    "    \"\"\")\n",
    "\n",
    "    res = dsl.query_iterative(f\"\"\"search researchers for \"{name}\" return researchers\"\"\")\n",
    "    resJson = res.json['researchers']\n",
    "\n",
    "    allIds = [item['id'] for item in resJson]\n",
    "    allIds_str = ', '.join([f'\"{item}\"' for item in allIds])\n",
    "    print(f'Here are all the ids for {name}: ')\n",
    "    print('[' + allIds_str + ']')\n",
    "\n",
    "    res2 = dsl.query_iterative(f\"\"\"search researchers where id in [{allIds_str}] return researchers[id+obsolete]\"\"\")\n",
    "    res2Json = res2.json['researchers']\n",
    "    \n",
    "    allWorkingIDs = [person['id'] for person in res2Json if person['obsolete'] == 0]\n",
    "    print(f'Current Working Id(s): ')\n",
    "    print(', '.join(allWorkingIDs))\n",
    "    print(f'++++++++There are {len(allWorkingIDs)} Working IDs+++++++++++')  \n",
    "\n",
    "\n",
    "    for id in allWorkingIDs:\n",
    "        query = dsl.query_iterative(f\"\"\"search clinical_trials\n",
    "                                        where researchers.id = \"{id}\"\n",
    "                                        return clinical_trials[basics+categories+extras+studies]\n",
    "                                        \"\"\")\n",
    "        \n",
    "        trials = query.json.get('clinical_trials', [])\n",
    "\n",
    "        for current_trial in trials:\n",
    "            total_values = []\n",
    "            for tag in current_trial:\n",
    "                value = current_trial[tag]\n",
    "                if not isinstance(value, str):\n",
    "                    # Convert non-string values to JSON string\n",
    "                    value = json.dumps(value)\n",
    "                  \n",
    "                value = value.replace(\"'\", \"\\\\'\")\n",
    "\n",
    "                # Enclose all values in single quotes\n",
    "                total_values.append(f\"'{value}'\")\n",
    "\n",
    "            columns = ', '.join([f\"`{tag}`\" for tag in current_trial.keys()])\n",
    "            values = ', '.join(total_values)\n",
    "            insert_query = f\"INSERT INTO `{table_name}` ({columns}) VALUES ({values});\"\n",
    "            print(\"SQL Query: \", insert_query)  # Print the query for debugging\n",
    "            # Execute the query\n",
    "            execute_command(insert_query)\n",
    "\n",
    "dimensionsTrialSearch(\"Michael Agus\")\n"
   ]
  }
 ],
 "metadata": {
  "kernelspec": {
   "display_name": "Python 3 (ipykernel)",
   "language": "python",
   "name": "python3"
  },
  "language_info": {
   "codemirror_mode": {
    "name": "ipython",
    "version": 3
   },
   "file_extension": ".py",
   "mimetype": "text/x-python",
   "name": "python",
   "nbconvert_exporter": "python",
   "pygments_lexer": "ipython3",
   "version": "3.10.11"
  }
 },
 "nbformat": 4,
 "nbformat_minor": 5
}
